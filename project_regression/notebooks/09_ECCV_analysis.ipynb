{
 "cells": [
  {
   "cell_type": "markdown",
   "id": "5f9d68b5-dc39-4523-84c5-b1d8f592f88d",
   "metadata": {},
   "source": [
    "# ECCV Analysis"
   ]
  },
  {
   "cell_type": "code",
   "execution_count": 32,
   "id": "04cae768-f164-45fd-b854-bf1fb72ace64",
   "metadata": {},
   "outputs": [
    {
     "name": "stdout",
     "output_type": "stream",
     "text": [
      "Working directory:  /Users/adelemyers/code/my28brains/src\n",
      "Directory added to path:  /Users/adelemyers/code/my28brains\n",
      "Directory added to path:  /Users/adelemyers/code/my28brains/src\n",
      "Directory added to path:  /Users/adelemyers/code/my28brains/src/notebooks\n",
      "Directory added to path:  /Users/adelemyers/code/my28brains/src/notebooks/csv\n",
      "Directory added to path:  /Users/adelemyers/code/my28brains/H2_SurfaceMatch\n",
      "Directory added to path:  /Users/adelemyers/code/my28brains/project_regression\n",
      "Directory added to path:  /Users/adelemyers/code/my28brains/project_regression/notebooks\n",
      "Directory added to path:  /Users/adelemyers/code/my28brains/project_regression/notebooks/csv\n",
      "my28brains_dir:  /Users/adelemyers/code/my28brains\n"
     ]
    }
   ],
   "source": [
    "import numpy as np\n",
    "import pandas as pd\n",
    "import wandb\n",
    "import src.viz as viz\n",
    "from geomstats.geometry.hypersphere import Hypersphere\n",
    "from geomstats.geometry.hyperbolic import Hyperbolic\n",
    "import plotly.io as pio\n",
    "\n",
    "import src.setcwd\n",
    "\n",
    "src.setcwd.main()\n",
    "import os\n",
    "\n",
    "my_28brains_dir = os.path.dirname(os.getcwd())\n",
    "print(\"my28brains_dir: \", my_28brains_dir)"
   ]
  },
  {
   "cell_type": "code",
   "execution_count": 38,
   "id": "c0ddf13f-f0f8-486e-a9f0-9aa538f0fea9",
   "metadata": {
    "scrolled": true
   },
   "outputs": [],
   "source": [
    "api = wandb.Api()\n",
    "\n",
    "# Project is specified by <entity/project-name>\n",
    "runs = api.runs(\"bioshape-lab/my28brains-project_regression\")\n",
    "\n",
    "start_date = pd.to_datetime(\"2023-02-21\")\n",
    "end_date = pd.to_datetime(\"2024-03-09\")\n",
    "\n",
    "model_name = \"model_2\"\n",
    "\n",
    "desired_tags = {model_name}\n",
    "\n",
    "summary_list, config_list, name_list = [], [], []\n",
    "for run in runs: \n",
    "    run_tags = set(run.tags)\n",
    "    \n",
    "    if pd.to_datetime(run.createdAt) > start_date and desired_tags.issubset(run_tags):\n",
    "        # .summary contains the output keys/values for metrics like accuracy.\n",
    "        #  We call ._json_dict to omit large files \n",
    "        summary_list.append(run.summary._json_dict)\n",
    "    \n",
    "        # .config contains the hyperparameters.\n",
    "        #  We remove special values that start with _.\n",
    "        config_list.append(\n",
    "            {k: v for k,v in run.config.items()\n",
    "              if not k.startswith('_')})\n",
    "    \n",
    "        # .name is the human-readable name of the run.\n",
    "        name_list.append(run.name)\n",
    "\n",
    "summary_df = pd.DataFrame.from_dict(\n",
    "    summary_list)\n",
    "config_df = pd.DataFrame.from_dict(\n",
    "    config_list)\n",
    "name_df = pd.DataFrame.from_dict(\n",
    "    name_list)\n",
    "\n",
    "runs_df = pd.concat([summary_df, config_df, name_df], axis = 1)\n",
    "\n",
    "save_path = os.path.join(my_28brains_dir, f\"project_regression/notebooks/csv/{model_name}.csv\")\n",
    "\n",
    "runs_df.to_csv(save_path)"
   ]
  },
  {
   "cell_type": "markdown",
   "id": "0a7372b0-8ef4-48d7-a5b7-b42b05496e32",
   "metadata": {},
   "source": [
    "# Choose which model to analyze"
   ]
  },
  {
   "cell_type": "code",
   "execution_count": 46,
   "id": "29c7cf64-cc82-45ad-a614-3dc49e3dfdf1",
   "metadata": {},
   "outputs": [
    {
     "data": {
      "text/html": [
       "<div>\n",
       "<style scoped>\n",
       "    .dataframe tbody tr th:only-of-type {\n",
       "        vertical-align: middle;\n",
       "    }\n",
       "\n",
       "    .dataframe tbody tr th {\n",
       "        vertical-align: top;\n",
       "    }\n",
       "\n",
       "    .dataframe thead th {\n",
       "        text-align: right;\n",
       "    }\n",
       "</style>\n",
       "<table border=\"1\" class=\"dataframe\">\n",
       "  <thead>\n",
       "    <tr style=\"text-align: right;\">\n",
       "      <th></th>\n",
       "      <th>Unnamed: 0</th>\n",
       "      <th>estimator_coef_hat</th>\n",
       "      <th>estimator_coef_err_norm</th>\n",
       "      <th>estimator_intercept_err</th>\n",
       "      <th>X</th>\n",
       "      <th>rmsd_linear</th>\n",
       "      <th>linear_coef_hat</th>\n",
       "      <th>estimator_coef_err_sum</th>\n",
       "      <th>estimator_intercept_err_sum</th>\n",
       "      <th>estimator</th>\n",
       "      <th>...</th>\n",
       "      <th>dataset_name</th>\n",
       "      <th>linear_noise.1</th>\n",
       "      <th>noise_factor.1</th>\n",
       "      <th>space_dimension</th>\n",
       "      <th>project_linear_noise</th>\n",
       "      <th>synthetic_tan_vec_length.1</th>\n",
       "      <th>n_steps</th>\n",
       "      <th>end_shape</th>\n",
       "      <th>start_shape</th>\n",
       "      <th>0</th>\n",
       "    </tr>\n",
       "  </thead>\n",
       "  <tbody>\n",
       "    <tr>\n",
       "      <th>0</th>\n",
       "      <td>0</td>\n",
       "      <td>[-0.5060339188173368, -0.34627495095676525, 0....</td>\n",
       "      <td>1.451888</td>\n",
       "      <td>[0.15159232882622026, 0.23484971467412605, -0....</td>\n",
       "      <td>[-0.5, -0.46551724137931033, -0.43103448275862...</td>\n",
       "      <td>1.854464</td>\n",
       "      <td>[-0.5060339188173368, -0.34627495095676525, 0....</td>\n",
       "      <td>-1.137791</td>\n",
       "      <td>1.610988</td>\n",
       "      <td>LR</td>\n",
       "      <td>...</td>\n",
       "      <td>hypersphere</td>\n",
       "      <td>True</td>\n",
       "      <td>0.6</td>\n",
       "      <td>10.0</td>\n",
       "      <td>False</td>\n",
       "      <td>5.0</td>\n",
       "      <td>NaN</td>\n",
       "      <td>NaN</td>\n",
       "      <td>NaN</td>\n",
       "      <td>run_xm0ohdjk</td>\n",
       "    </tr>\n",
       "    <tr>\n",
       "      <th>1</th>\n",
       "      <td>1</td>\n",
       "      <td>[-0.24561181242968988, -0.15980573689826164, 2...</td>\n",
       "      <td>1.448671</td>\n",
       "      <td>[0.29477403604249336, 0.19549381204121977, 0.1...</td>\n",
       "      <td>[-0.5, -0.46551724137931033, -0.43103448275862...</td>\n",
       "      <td>1.469493</td>\n",
       "      <td>[-0.24561181242968988, -0.15980573689826164, 2...</td>\n",
       "      <td>0.195779</td>\n",
       "      <td>1.350637</td>\n",
       "      <td>LR</td>\n",
       "      <td>...</td>\n",
       "      <td>hypersphere</td>\n",
       "      <td>True</td>\n",
       "      <td>0.6</td>\n",
       "      <td>5.0</td>\n",
       "      <td>False</td>\n",
       "      <td>5.0</td>\n",
       "      <td>NaN</td>\n",
       "      <td>NaN</td>\n",
       "      <td>NaN</td>\n",
       "      <td>run_e3ez327q</td>\n",
       "    </tr>\n",
       "    <tr>\n",
       "      <th>2</th>\n",
       "      <td>2</td>\n",
       "      <td>[-0.2730629313285072, 1.1817804161950818, -0.8...</td>\n",
       "      <td>0.776259</td>\n",
       "      <td>[0.2248061619955214, 0.13192402881776438, 0.13...</td>\n",
       "      <td>[-0.5, -0.46551724137931033, -0.43103448275862...</td>\n",
       "      <td>1.232740</td>\n",
       "      <td>[-0.2730629313285072, 1.1817804161950818, -0.8...</td>\n",
       "      <td>0.414476</td>\n",
       "      <td>0.667488</td>\n",
       "      <td>LR</td>\n",
       "      <td>...</td>\n",
       "      <td>hypersphere</td>\n",
       "      <td>True</td>\n",
       "      <td>0.6</td>\n",
       "      <td>3.0</td>\n",
       "      <td>False</td>\n",
       "      <td>5.0</td>\n",
       "      <td>NaN</td>\n",
       "      <td>NaN</td>\n",
       "      <td>NaN</td>\n",
       "      <td>run_qg1cil89</td>\n",
       "    </tr>\n",
       "    <tr>\n",
       "      <th>3</th>\n",
       "      <td>3</td>\n",
       "      <td>[-0.2352184632180887, 0.21017199566551908, 1.5...</td>\n",
       "      <td>0.850720</td>\n",
       "      <td>[-0.07027626718835756, -0.11097197274199289, -...</td>\n",
       "      <td>[-0.5, -0.46551724137931033, -0.43103448275862...</td>\n",
       "      <td>1.067665</td>\n",
       "      <td>[-0.2352184632180887, 0.21017199566551908, 1.5...</td>\n",
       "      <td>-1.381291</td>\n",
       "      <td>-0.324821</td>\n",
       "      <td>LR</td>\n",
       "      <td>...</td>\n",
       "      <td>hypersphere</td>\n",
       "      <td>True</td>\n",
       "      <td>0.6</td>\n",
       "      <td>2.0</td>\n",
       "      <td>False</td>\n",
       "      <td>5.0</td>\n",
       "      <td>NaN</td>\n",
       "      <td>NaN</td>\n",
       "      <td>NaN</td>\n",
       "      <td>run_km4comur</td>\n",
       "    </tr>\n",
       "    <tr>\n",
       "      <th>4</th>\n",
       "      <td>4</td>\n",
       "      <td>[-1.177667319708397, -0.21016421673276572, 1.1...</td>\n",
       "      <td>0.920760</td>\n",
       "      <td>[0.1447576290070755, 0.11133064616510968, 0.07...</td>\n",
       "      <td>[-0.5, -0.46551724137931033, -0.43103448275862...</td>\n",
       "      <td>1.330445</td>\n",
       "      <td>[-1.177667319708397, -0.21016421673276572, 1.1...</td>\n",
       "      <td>0.316904</td>\n",
       "      <td>1.171294</td>\n",
       "      <td>LR</td>\n",
       "      <td>...</td>\n",
       "      <td>hypersphere</td>\n",
       "      <td>True</td>\n",
       "      <td>0.4</td>\n",
       "      <td>10.0</td>\n",
       "      <td>False</td>\n",
       "      <td>5.0</td>\n",
       "      <td>NaN</td>\n",
       "      <td>NaN</td>\n",
       "      <td>NaN</td>\n",
       "      <td>run_nc1i0dpo</td>\n",
       "    </tr>\n",
       "  </tbody>\n",
       "</table>\n",
       "<p>5 rows × 66 columns</p>\n",
       "</div>"
      ],
      "text/plain": [
       "   Unnamed: 0                                 estimator_coef_hat  \\\n",
       "0           0  [-0.5060339188173368, -0.34627495095676525, 0....   \n",
       "1           1  [-0.24561181242968988, -0.15980573689826164, 2...   \n",
       "2           2  [-0.2730629313285072, 1.1817804161950818, -0.8...   \n",
       "3           3  [-0.2352184632180887, 0.21017199566551908, 1.5...   \n",
       "4           4  [-1.177667319708397, -0.21016421673276572, 1.1...   \n",
       "\n",
       "   estimator_coef_err_norm                            estimator_intercept_err  \\\n",
       "0                 1.451888  [0.15159232882622026, 0.23484971467412605, -0....   \n",
       "1                 1.448671  [0.29477403604249336, 0.19549381204121977, 0.1...   \n",
       "2                 0.776259  [0.2248061619955214, 0.13192402881776438, 0.13...   \n",
       "3                 0.850720  [-0.07027626718835756, -0.11097197274199289, -...   \n",
       "4                 0.920760  [0.1447576290070755, 0.11133064616510968, 0.07...   \n",
       "\n",
       "                                                   X  rmsd_linear  \\\n",
       "0  [-0.5, -0.46551724137931033, -0.43103448275862...     1.854464   \n",
       "1  [-0.5, -0.46551724137931033, -0.43103448275862...     1.469493   \n",
       "2  [-0.5, -0.46551724137931033, -0.43103448275862...     1.232740   \n",
       "3  [-0.5, -0.46551724137931033, -0.43103448275862...     1.067665   \n",
       "4  [-0.5, -0.46551724137931033, -0.43103448275862...     1.330445   \n",
       "\n",
       "                                     linear_coef_hat  estimator_coef_err_sum  \\\n",
       "0  [-0.5060339188173368, -0.34627495095676525, 0....               -1.137791   \n",
       "1  [-0.24561181242968988, -0.15980573689826164, 2...                0.195779   \n",
       "2  [-0.2730629313285072, 1.1817804161950818, -0.8...                0.414476   \n",
       "3  [-0.2352184632180887, 0.21017199566551908, 1.5...               -1.381291   \n",
       "4  [-1.177667319708397, -0.21016421673276572, 1.1...                0.316904   \n",
       "\n",
       "   estimator_intercept_err_sum estimator  ... dataset_name  linear_noise.1  \\\n",
       "0                     1.610988        LR  ...  hypersphere            True   \n",
       "1                     1.350637        LR  ...  hypersphere            True   \n",
       "2                     0.667488        LR  ...  hypersphere            True   \n",
       "3                    -0.324821        LR  ...  hypersphere            True   \n",
       "4                     1.171294        LR  ...  hypersphere            True   \n",
       "\n",
       "  noise_factor.1  space_dimension  project_linear_noise  \\\n",
       "0            0.6             10.0                 False   \n",
       "1            0.6              5.0                 False   \n",
       "2            0.6              3.0                 False   \n",
       "3            0.6              2.0                 False   \n",
       "4            0.4             10.0                 False   \n",
       "\n",
       "  synthetic_tan_vec_length.1  n_steps  end_shape  start_shape             0  \n",
       "0                        5.0      NaN        NaN          NaN  run_xm0ohdjk  \n",
       "1                        5.0      NaN        NaN          NaN  run_e3ez327q  \n",
       "2                        5.0      NaN        NaN          NaN  run_qg1cil89  \n",
       "3                        5.0      NaN        NaN          NaN  run_km4comur  \n",
       "4                        5.0      NaN        NaN          NaN  run_nc1i0dpo  \n",
       "\n",
       "[5 rows x 66 columns]"
      ]
     },
     "execution_count": 46,
     "metadata": {},
     "output_type": "execute_result"
    }
   ],
   "source": [
    "model_name = \"model_2\"\n",
    "# dataset_name = \"synthetic_mesh\"\n",
    "dataset_name = \"hypersphere\"\n",
    "# dataset_name = \"hyperboloid\"\n",
    "\n",
    "path = os.path.join(my_28brains_dir, f\"project_regression/notebooks/csv/{model_name}.csv\")\n",
    "\n",
    "df = pd.read_csv(path)\n",
    "df = df.dropna(axis=1, how='all')\n",
    "\n",
    "\n",
    "df = df[df[\"dataset_name\"] == dataset_name]\n",
    "\n",
    "if dataset_name is not \"synthetic_mesh\":\n",
    "    df = df[df[\"synthetic_tan_vec_length\"] == 5]\n",
    "\n",
    "\n",
    "\n",
    "df.head()"
   ]
  },
  {
   "cell_type": "code",
   "execution_count": 47,
   "id": "be5c95d5-4bfd-4cec-aee5-99d106e4da53",
   "metadata": {},
   "outputs": [
    {
     "data": {
      "text/plain": [
       "Index(['Unnamed: 0', 'estimator_coef_hat', 'estimator_coef_err_norm',\n",
       "       'estimator_intercept_err', 'X', 'rmsd_linear', 'linear_coef_hat',\n",
       "       'estimator_coef_err_sum', 'estimator_intercept_err_sum', 'estimator',\n",
       "       'lr_coef_err', 'linear_noise', 'estimator_intercept_hat',\n",
       "       'estimator_intercept_err_norm', '_step', 'true_coef',\n",
       "       'lr_duration_time', 'lr_intercept_err_norm', 'synthetic_tan_vec_length',\n",
       "       '_runtime', '_timestamp', 'rmsd_geodesic', 'estimator_coef_err',\n",
       "       'geodesic_tol', 'true_intercept', 'lr_intercept_err',\n",
       "       'linear_intercept_hat', 'lr_intercept_err_sum',\n",
       "       'estimator_duration_time', 'model', 'noise_factor', 'lr_coef_err_sum',\n",
       "       '_wandb', 'lr_coef_err_norm', 'line vs geodesic',\n",
       "       'n_gr_function_evaluations', 'n_gr_jacobian_evaluations',\n",
       "       'n_gr_iterations', 'estimator_y_prediction_fig', 'n_vertices',\n",
       "       'estimator_coef_hat_fig', 'true_intercept_fig',\n",
       "       'mesh_sequence_vertices', 'estimator_intercept_hat_fig', 'n_faces',\n",
       "       'mesh_diameter', 'true_coef_fig', 'n_X', 'model.1', 'full_run',\n",
       "       'use_cuda', 'device_id', 'estimator.1', 'tol_factor', 'project_dir',\n",
       "       'torch_dtype', 'dataset_name', 'linear_noise.1', 'noise_factor.1',\n",
       "       'space_dimension', 'project_linear_noise', 'synthetic_tan_vec_length.1',\n",
       "       'n_steps', 'end_shape', 'start_shape', '0'],\n",
       "      dtype='object')"
      ]
     },
     "execution_count": 47,
     "metadata": {},
     "output_type": "execute_result"
    }
   ],
   "source": [
    "df.columns"
   ]
  },
  {
   "cell_type": "markdown",
   "id": "4efcba71-26ec-4ddb-ba8c-c91cbcc26571",
   "metadata": {},
   "source": [
    "# Plot Results"
   ]
  },
  {
   "cell_type": "code",
   "execution_count": 48,
   "id": "dfcfe55b-3f49-46cf-a2ac-2820523b86f7",
   "metadata": {},
   "outputs": [],
   "source": [
    "import glob\n",
    "import os\n",
    "import subprocess\n",
    "\n",
    "import geomstats.backend as gs\n",
    "import geomstats.visualization as visualization\n",
    "import matplotlib\n",
    "import matplotlib.pyplot as plt\n",
    "import nibabel\n",
    "import numpy as np\n",
    "import plotly.express as px\n",
    "import plotly.graph_objects as go\n",
    "import plotly.io as pio\n",
    "from matplotlib import animation\n",
    "\n",
    "\n",
    "COL_TO_TEXT = {\n",
    "    \"diff_seq_per_time_vertex_diameter\": \"Error per mesh per vertex [% diameter]\",\n",
    "    \"diff_seq_duration_per_time_and_vertex\": \"Time difference [secs] per mesh and vertex\",\n",
    "    \"relative_diff_seq_duration\": \"Time difference per vertex [% line]\",\n",
    "    \"n_steps\": \"Number of steps\",\n",
    "    \"n_vertices\": \"Number of vertices\",\n",
    "    \"rmsd\": \"RMSD\",\n",
    "    \"rmsd_linear\": \"RMSD, linear dist\",\n",
    "    \"rmsd_geodesic\": \"RMSD, geod dist\",\n",
    "    \"rmsd_diameter\": \"RMSD, Line vs. Geodesic (per diameter)\",\n",
    "    \"speed\": \"Speed gain\",\n",
    "    \"accuracy\": \"Accuracy\",\n",
    "    \"linear_residuals\": \"Regression\",\n",
    "    \"linear_noise\": \"Noise\",\n",
    "    \"geodesic_coef_err\": \"Geodesic Coef Error\",\n",
    "    \"geodesic_duration_time\": \"Geodesic Duration Time\",\n",
    "    \"noise_factor\": \"Noise Factor\",\n",
    "    \"rmsd_geod\": \"RMSD, Geodesic Regression\",\n",
    "    \"nrmsd_geod\": \"Normalized RMSD, Geodesic Regression\",\n",
    "    \"n_X\": \"Number of Points\",\n",
    "    \"n_geod_iterations\": \"Number of iterations in GR\",\n",
    "    \"estimator\": \"Estimator\",\n",
    "    \"estimator_duration_time\": \"estimator_duration_time\",\n",
    "    \"estimator_coef_err_sum\": \"Estimator coef error sum\",\n",
    "    \"estimator_intercept_err_sum\": \"Estimator intercept error sum\",\n",
    "}\n",
    "\n",
    "FONTSIZE = 30\n",
    "\n",
    "def scatterplot_evaluation(\n",
    "    df,\n",
    "    colored_by=\"noise_factor\",\n",
    "    marked_by=\"n_steps\",\n",
    "    x_label=\"n_steps\",\n",
    "    y_label=\"rmsd_geodesic\",\n",
    "    title = None,\n",
    "    path = None,\n",
    "):\n",
    "    \"\"\"Scatterplot of results.\n",
    "\n",
    "    Parameters\n",
    "    ----------\n",
    "    df : pandas.DataFrame\n",
    "        Dataframe made from wandb with config and results.\n",
    "    colored_by : string\n",
    "        Column name to color the points by.\n",
    "    marked_by : string\n",
    "        Column name to mark the points by, using different symbols.\n",
    "    x_label : string\n",
    "        Column name to plot on the x-axis.\n",
    "    y_label : string\n",
    "        Column name to plot on the y-axis.\n",
    "    \"\"\"\n",
    "    df = df.sort_values(by=[marked_by], ascending = False)\n",
    "    x = df[x_label]\n",
    "    y = df[y_label]\n",
    "    value_to_symbol = dict(\n",
    "        zip(df[marked_by].unique(), [\"arrow-left\", \"circle\", \"square\", \"arrow-right\" ])#\"circle\", \"x-thin\", \"cross-open\", \"diamond-tall-open\", \"square-open\"])\n",
    "    )\n",
    "\n",
    "    marked_values = [s for s in df[marked_by].values]\n",
    "    if marked_by == \"linear_noise\":\n",
    "        symbol_value_to_legend_value = {\n",
    "            s: \"Linear Noise\" if s else \"Manifold Noise\" for s in df[marked_by].unique()\n",
    "        }\n",
    "        marked_values = [\n",
    "            symbol_value_to_legend_value[s] if ~np.isnan(s) else s\n",
    "            for s in df[marked_by].values\n",
    "        ]\n",
    "\n",
    "    # colored_values = [str(c) for c in df[colored_by].values]\n",
    "    # if colored_by == \"linear_residuals\":\n",
    "    #     color_value_to_legend_value = {\n",
    "    #         c: \"GRLR\" if c else \"GRGR\" for c in df[colored_by].unique()\n",
    "    #     }\n",
    "    #     colored_values = [\n",
    "    #         color_value_to_legend_value[c] if ~np.isnan(c) else c\n",
    "    #         for c in df[colored_by].values\n",
    "    #     ]\n",
    "\n",
    "    colored_values = [str(c) for c in df[colored_by].values]\n",
    "\n",
    "\n",
    "    if colored_by == \"n_steps\":\n",
    "        color_discrete_sequence = px.colors.sequential.Plasma_r\n",
    "    else:\n",
    "        color_discrete_sequence = ['#FF1493', '#3300FF', '#2ca02c', '#4169E1'] #px.colors.sequential.Viridis_r\n",
    "\n",
    "    fig = px.scatter(\n",
    "        df,\n",
    "        x=x,\n",
    "        y=y,\n",
    "        color=colored_values,\n",
    "        color_discrete_sequence=color_discrete_sequence,\n",
    "        symbol=marked_values,\n",
    "        symbol_map=value_to_symbol,\n",
    "        # title=title,\n",
    "    )\n",
    "\n",
    "    if title is not None:\n",
    "        fig.update_layout(title=title)\n",
    "\n",
    "    legend_title = COL_TO_TEXT[colored_by] + \", \" + COL_TO_TEXT[marked_by]\n",
    "\n",
    "    fig.update_layout(\n",
    "        xaxis_title=dict(\n",
    "            text=COL_TO_TEXT[x_label],\n",
    "            font=dict(family=\"CMU\", size=FONTSIZE),\n",
    "        ),\n",
    "        yaxis_title=dict(\n",
    "            text=COL_TO_TEXT[y_label], font=dict(family=\"CMU\", size=FONTSIZE)\n",
    "        ),\n",
    "        title_font=dict(family=\"CMU\", size=FONTSIZE),\n",
    "        xaxis=dict(tickfont=dict(family=\"CMU\", size=FONTSIZE)),\n",
    "        yaxis=dict(tickfont=dict(family=\"CMU\", size=FONTSIZE)),\n",
    "        legend=dict(font=dict(family=\"CMU\", size=FONTSIZE), title=legend_title),\n",
    "        width=1.3*900,\n",
    "        height=1.5*370,\n",
    "    )\n",
    "\n",
    "    fig.update_traces(marker=dict(size=20, opacity=0.5))\n",
    "\n",
    "    if path is  not None:\n",
    "        pio.write_image(fig, f\"{path}.svg\", format=\"svg\")\n",
    "        pio.write_image(fig, f\"{path}.pdf\", format=\"pdf\")\n",
    "\n",
    "    fig.show()\n",
    "    return fig"
   ]
  },
  {
   "cell_type": "code",
   "execution_count": 49,
   "id": "3a842042-b17d-4f3c-b746-b6df5f7d7d22",
   "metadata": {},
   "outputs": [
    {
     "data": {
      "application/vnd.plotly.v1+json": {
       "config": {
        "plotlyServerURL": "https://plot.ly"
       },
       "data": [
        {
         "hovertemplate": "color=Lin2015<br>symbol=Lin2015<br>noise_factor=%{x}<br>rmsd_linear=%{y}<extra></extra>",
         "legendgroup": "Lin2015, Lin2015",
         "marker": {
          "color": "#FF1493",
          "opacity": 0.5,
          "size": 20,
          "symbol": "arrow-left"
         },
         "mode": "markers",
         "name": "Lin2015, Lin2015",
         "orientation": "v",
         "showlegend": true,
         "type": "scatter",
         "x": [
          0.6,
          0.01,
          0.2,
          0.2,
          0.2,
          0.1,
          0.1,
          0.1,
          0.1,
          0.01,
          0.01,
          0.01,
          0.01,
          0,
          0,
          0,
          0,
          0.6,
          0.6,
          0.6,
          0.4,
          0.4,
          0.4,
          0.4,
          0.2,
          0.2,
          0.2,
          0.2,
          0.1,
          0.1,
          0.1,
          0.2,
          0.4,
          0.4,
          0.1,
          0.6,
          0.6,
          0.6,
          0.4,
          0.4,
          0.4,
          0.4,
          0.2,
          0.2,
          0.2,
          0.2,
          0.1,
          0.1,
          0.1,
          0.4,
          0.01,
          0.01,
          0.01,
          0.01,
          0,
          0,
          0,
          0,
          0.6,
          0.6,
          0.6,
          0.6,
          0.4,
          0.1,
          0.6,
          0.01,
          0.6,
          0.01,
          0,
          0,
          0,
          0,
          0.6,
          0.6,
          0.6,
          0.6,
          0.4,
          0.4,
          0.4,
          0.4,
          0.2,
          0.2,
          0.2,
          0.2,
          0.1,
          0.1,
          0.1,
          0.1,
          0.01,
          0.01,
          0.01,
          0.01,
          0,
          0,
          0,
          0,
          0.01,
          0.4,
          0.6,
          0.6,
          0.6,
          0.4,
          0.4,
          0.4,
          0.6,
          0.6,
          0.6,
          0.6,
          0.4,
          0.4,
          0.4,
          0.6,
          0.6,
          0.4,
          0.6,
          0.6,
          0.6,
          0.4,
          0.4,
          0.4,
          0.6,
          0.6,
          0.4,
          0.6,
          0.4,
          0.4,
          0.4,
          0.4
         ],
         "xaxis": "x",
         "y": [
          1.9589811852107404,
          0.192826585831788,
          0.4480358670059197,
          0.3786460977372884,
          0.3138684742090984,
          0.368557256493777,
          0.2799508918542394,
          0.2235812508183657,
          0.1581442356613378,
          0.1714284513570732,
          0.1848639034007472,
          0.062362229072011,
          0.024095896107028,
          0.1691659561203335,
          0.1841739767722054,
          0.0610590601308598,
          0.0153027967167392,
          1.797574990602419,
          1.0188255110195008,
          0.9724024608153546,
          1.398665326592676,
          0.951709134119034,
          0.8788437918010091,
          0.7769914119206229,
          0.6157765718243537,
          0.4412774568147246,
          0.4144404581403328,
          0.2818185786689661,
          0.3218467661268167,
          0.3269468387065225,
          0.2005734491514661,
          0.6441134675236275,
          0.6228486257547543,
          0.7366612344351614,
          0.1966157615071938,
          1.4718636437630472,
          1.0895151518801904,
          1.037632069182142,
          1.2925803181175506,
          1.0370141459767193,
          0.7942903991601413,
          0.7091242157318365,
          0.6368443060987437,
          0.5074152388765575,
          0.3870833278060724,
          0.307153418246509,
          0.3449316886667499,
          0.3184891780029258,
          0.1485896094692181,
          0.99322400043552,
          0.1650452572419816,
          0.1756781086637973,
          0.0627534086434975,
          0.0220180928435459,
          0.161593182311593,
          0.1759597235824892,
          0.0582501990794154,
          0.0145886696200993,
          1.991897139058055,
          1.507446884832521,
          1.2701936059404495,
          1.007699861791229,
          1.377784602901865,
          0.1848642147766045,
          1.6868100045293948,
          0.2154638898596016,
          1.96645350829424,
          0.0222147287013999,
          0.1933486903670692,
          0.2103939982570153,
          0.0700536739982827,
          0.0175923026786514,
          1.7393598718815386,
          1.2216241205939746,
          0.5999037797261906,
          0.6386376914911319,
          1.0658195677962146,
          0.8681915736731024,
          0.6445253987394989,
          0.6951920560744962,
          0.6011116511535474,
          0.4305171904842941,
          0.2805041969227721,
          0.2867943563708426,
          0.3362807449811545,
          0.332428140135748,
          0.1468133828556058,
          0.1414494368859647,
          0.2574533923451044,
          0.2738240178386562,
          0.0933945266706021,
          0.0266666896745366,
          0.2486169217114501,
          0.2702753370198168,
          0.0906921916099323,
          0.0228517500000442,
          0.0705530033229514,
          0.906140959500286,
          1.5875302888293732,
          1.2772802541683366,
          1.1405473154586037,
          0.8105772372912226,
          0.8854240682596359,
          0.9476185657963168,
          0.9594373964183158,
          0.8237846669933925,
          1.0977180266600377,
          1.8158015410757748,
          0.5201479601705871,
          1.1182127292570188,
          1.2618348157407422,
          0.7002801221341118,
          1.0387190925564551,
          0.7872988655371175,
          2.175406088902279,
          1.0612178465134263,
          0.9919865374710498,
          0.985659231286816,
          0.7471495274251213,
          0.6981669109902509,
          1.854833593905182,
          1.381160024062162,
          1.3518968784653618,
          1.0607500142145967,
          1.3222236528699922,
          0.9716698586272616,
          0.7608255758199266,
          0.6493259695395506
         ],
         "yaxis": "y"
        },
        {
         "hovertemplate": "color=LR<br>symbol=LR<br>noise_factor=%{x}<br>rmsd_linear=%{y}<extra></extra>",
         "legendgroup": "LR, LR",
         "marker": {
          "color": "#3300FF",
          "opacity": 0.5,
          "size": 20,
          "symbol": "circle"
         },
         "mode": "markers",
         "name": "LR, LR",
         "orientation": "v",
         "showlegend": true,
         "type": "scatter",
         "x": [
          0.6,
          0.4,
          0.4,
          0.4,
          0.4,
          0.6,
          0.6,
          0,
          0.6,
          0.2,
          0,
          0,
          0,
          0.01,
          0.2,
          0.6,
          0.2,
          0.2,
          0.1,
          0.1,
          0.1,
          0.1,
          0.01,
          0.01,
          0.01,
          0.01,
          0,
          0,
          0,
          0,
          0.01,
          0.01,
          0.6,
          0.01,
          0.01,
          0.6,
          0.6,
          0.4,
          0.4,
          0.4,
          0.4,
          0.6,
          0.6,
          0.6,
          0.6,
          0.4,
          0.4,
          0.4,
          0.4,
          0.2,
          0.2,
          0.2,
          0.2,
          0.1,
          0.1,
          0.1,
          0.6,
          0.6,
          0.4,
          0.6,
          0.6,
          0.6,
          0.4,
          0.4,
          0.4,
          0.4,
          0.6,
          0.6,
          0.6,
          0.4,
          0.4,
          0.4,
          0.4,
          0.4,
          0.6,
          0.1,
          0.6,
          0.6,
          0.4,
          0.4,
          0.1,
          0.6,
          0.01,
          0.6,
          0.2,
          0.1,
          0.1,
          0.1,
          0.01,
          0.01,
          0.01,
          0.01,
          0,
          0,
          0,
          0,
          0.6,
          0.6,
          0.2,
          0.6,
          0.4,
          0.4,
          0.4,
          0.4,
          0.2,
          0.2,
          0.2,
          0.2,
          0.1,
          0.1,
          0.1,
          0.01,
          0.2,
          0.1,
          0.6,
          0,
          0.6,
          0.6,
          0.6,
          0,
          0.4,
          0.4,
          0.4,
          0.4,
          0.2,
          0,
          0.01,
          0
         ],
         "xaxis": "x",
         "y": [
          1.4547672104903038,
          1.0066786435913269,
          0.6693932765919429,
          0.8216220801868421,
          0.9498961119102792,
          0.5088833315836191,
          0.7754340170168444,
          0.0236734135472909,
          1.8939399348292925,
          0.5497743355755781,
          0.0795184733454864,
          0.1908307162074229,
          0.1789455949676963,
          0.0317737186501466,
          0.6737707488734427,
          1.469493492402328,
          0.3260096920420436,
          0.2015844104800393,
          0.3187446279054857,
          0.3196972708207754,
          0.1685709179537775,
          0.138615099446544,
          0.2149893180936911,
          0.2252598906700756,
          0.0942013315032694,
          0.0344724309877295,
          0.2095007788701034,
          0.2231110416547001,
          0.0940782957937925,
          0.0281543419051597,
          0.1923639928953381,
          0.0883203054224241,
          1.8544644601826203,
          0.1833711189091202,
          0.1608342538260988,
          1.3367955820748127,
          0.7263350871911332,
          1.1903105756084895,
          0.8573241336126876,
          0.9301807068834969,
          0.722712609631491,
          1.8891110542169791,
          1.3917934311446711,
          1.2237287200178153,
          1.008238090713704,
          1.2260669763655552,
          0.9547541284944272,
          0.7405280130466223,
          0.6403356319518531,
          0.6350281382961056,
          0.5410921103697468,
          0.3960263777535461,
          0.3098147841873031,
          0.3669610520778126,
          0.275002509165018,
          0.2128593681877958,
          1.371463946266309,
          1.7283990663736295,
          0.4600973961124133,
          1.022998923418374,
          1.2327399080398926,
          1.0676645363449466,
          1.3304454913107435,
          0.951353729268582,
          0.7585230860043213,
          0.679239119693008,
          2.0244067608347187,
          1.3814167617515714,
          1.1993304202006374,
          1.2975867445456046,
          0.7307682971929315,
          1.0043533090545842,
          0.7732692069527314,
          0.6082695241375816,
          2.002246381874077,
          0.1574033445952003,
          1.1011073198766377,
          0.8926179799600771,
          1.3113927694162648,
          0.9969208698784238,
          0.1860554632200176,
          1.3002053956722508,
          0.1672869089865245,
          1.2905200456873116,
          0.3031820075478816,
          0.3652182728236809,
          0.2947586064686236,
          0.2118401958960488,
          0.1637966387463651,
          0.1782683860266254,
          0.0756490080048806,
          0.0302025869931007,
          0.1626912090004803,
          0.1736480344179324,
          0.0716128020513996,
          0.0211328487758274,
          1.892695558821519,
          0.9924339737903164,
          0.4908202298180427,
          1.1400157480943334,
          1.3590815448479836,
          0.8871672150091934,
          0.7654927446880044,
          0.6244439468341502,
          0.6328134124140545,
          0.4538458828458693,
          0.3526616086329559,
          0.2589038956574657,
          0.3574639414497052,
          0.2583594317353039,
          0.2495450460552838,
          0.0719497649364373,
          0.412191113873274,
          0.1488056631387041,
          1.1642952104637552,
          0.0689598279520552,
          1.9187666521339912,
          1.4624730915404955,
          1.1281124773244922,
          0.1679069244555761,
          1.2858452503536384,
          0.9669556375929664,
          0.8487199476753222,
          0.6383141904878112,
          0.6666889237047712,
          0.157257443104021,
          0.0256156047921071,
          0.0202769630158416
         ],
         "yaxis": "y"
        },
        {
         "hovertemplate": "color=LLS<br>symbol=LLS<br>noise_factor=%{x}<br>rmsd_linear=%{y}<extra></extra>",
         "legendgroup": "LLS, LLS",
         "marker": {
          "color": "#2ca02c",
          "opacity": 0.5,
          "size": 20,
          "symbol": "square"
         },
         "mode": "markers",
         "name": "LLS, LLS",
         "orientation": "v",
         "showlegend": true,
         "type": "scatter",
         "x": [
          0,
          0.1,
          0.2,
          0.2,
          0.1,
          0.1,
          0.1,
          0.1,
          0.01,
          0.01,
          0.01,
          0.01,
          0.1,
          0.1,
          0.2,
          0,
          0.2,
          0.2,
          0.2,
          0.4,
          0.4,
          0,
          0,
          0.4,
          0.6,
          0.6,
          0.6,
          0.6,
          0.4,
          0.4,
          0.4,
          0.4,
          0.4,
          0.6,
          0.6,
          0.6,
          0.6,
          0,
          0,
          0,
          0,
          0.01,
          0.01,
          0.01,
          0.01,
          0.1,
          0.2,
          0,
          0.2,
          0.2,
          0.2,
          0.1,
          0.2,
          0.1,
          0.1,
          0.1,
          0.01,
          0.01,
          0.01,
          0.01,
          0,
          0,
          0.2,
          0.2,
          0.4,
          0.4,
          0.6,
          0.4,
          0.4,
          0.4,
          0.4,
          0.6,
          0.6,
          0.6,
          0.6,
          0.4,
          0.4,
          0.4,
          0.4,
          0.6,
          0.6,
          0.6,
          0.6,
          0.4,
          0.4,
          0.4,
          0.4,
          0.6,
          0.6,
          0.6,
          0.6,
          0.4,
          0.4,
          0.4,
          0.4,
          0.6,
          0.6,
          0.6,
          0.01,
          0.4,
          0.4,
          0.6,
          0.6,
          0.6,
          0.6,
          0,
          0,
          0,
          0,
          0.01,
          0.01,
          0.01,
          0.1,
          0.6,
          0.1,
          0.1,
          0.1,
          0.2,
          0.2,
          0.2,
          0.4,
          0.4,
          0.4,
          0.4,
          0.6,
          0.6,
          0.6,
          0
         ],
         "xaxis": "x",
         "y": [
          0.0610590601308598,
          0.3348831032369678,
          0.3935337783394576,
          0.3518354829456242,
          0.3619025535827142,
          0.3182709721878824,
          0.1714241591488163,
          0.1562122791969665,
          0.1698192598398657,
          0.1870485454120961,
          0.0652338345759799,
          0.0220123283207398,
          0.1841874549971124,
          0.2830531684019382,
          0.2693848267524147,
          0.0153027967167392,
          0.3537759855006468,
          0.4547028529443658,
          0.6235509321416279,
          0.7448468782195856,
          0.7225755212501079,
          0.1691659561203335,
          0.1841739767722054,
          1.0229988439487712,
          0.9445195121455128,
          1.094663314318222,
          1.5732457999675338,
          1.7117617798391065,
          0.8459461334492548,
          0.5932964792191597,
          0.7505096137730451,
          0.637170013668736,
          1.1918015817038297,
          0.8672796238840063,
          0.6780129479168603,
          1.2153309019292255,
          1.7397233629212512,
          0.0175923026786515,
          0.0700536739982827,
          0.2103939982570153,
          0.1933486903670692,
          0.0237382394409376,
          0.0746128371342721,
          0.2132641547074145,
          0.1958244134828401,
          0.13833646324359,
          0.4748394466003464,
          0.0906921916099323,
          0.5248152860471947,
          0.3007624025303547,
          0.3349281583375456,
          0.357970033029529,
          0.6410860096748457,
          0.3573917712290348,
          0.2445970503408071,
          0.1164471616692869,
          0.2522334976769634,
          0.2693413004811687,
          0.0908241765541874,
          0.025749578567061,
          0.2486169217114501,
          0.2702753370198168,
          0.4782275103045258,
          0.532861941144854,
          0.6818985331755228,
          0.7769383314371006,
          1.0938944336225953,
          1.308757577877096,
          0.9833377714288012,
          0.7854627289245244,
          0.6700851655572969,
          2.021803468025684,
          1.4351007937914102,
          1.1764804176676342,
          0.943638278480272,
          1.286526411205403,
          0.9341543120873806,
          0.8231989842348462,
          0.590019260837438,
          1.865963806150473,
          1.3851495219331431,
          0.8572269079241035,
          1.0283842731149146,
          1.0634878070481646,
          0.7740094348118256,
          0.6913127379718044,
          0.5951602816975209,
          1.5924994349123616,
          1.4774540433524992,
          0.9667581853291678,
          0.8454591242165397,
          1.1738140774525885,
          0.8044923038750718,
          0.6465992026224172,
          0.518787468311025,
          1.2052182452783755,
          1.5029854978133252,
          1.9894363957004813,
          0.1669319047633357,
          0.9368959178713476,
          1.3480609573067006,
          1.1026328164969867,
          1.2354183889059327,
          1.5437658579454756,
          1.952848454093819,
          0.0145886696200993,
          0.0582501990794154,
          0.1759597235824891,
          0.161593182311593,
          0.0217933463435329,
          0.061266114831496,
          0.1789279572097512,
          0.1855507553276358,
          1.915867726816248,
          0.1721822927893176,
          0.3133435958388589,
          0.3404259377095601,
          0.3358631534648869,
          0.4657513131315257,
          0.6802498188889301,
          0.7339643991460836,
          0.7494821174055765,
          1.0155911218838294,
          1.2960600029249838,
          1.128876911925633,
          1.1507286162704782,
          1.5174504373749218,
          0.0228517500000442
         ],
         "yaxis": "y"
        }
       ],
       "layout": {
        "height": 555,
        "legend": {
         "font": {
          "family": "CMU",
          "size": 30
         },
         "title": {
          "text": "Estimator, Estimator"
         },
         "tracegroupgap": 0
        },
        "margin": {
         "t": 60
        },
        "template": {
         "data": {
          "bar": [
           {
            "error_x": {
             "color": "#2a3f5f"
            },
            "error_y": {
             "color": "#2a3f5f"
            },
            "marker": {
             "line": {
              "color": "#E5ECF6",
              "width": 0.5
             },
             "pattern": {
              "fillmode": "overlay",
              "size": 10,
              "solidity": 0.2
             }
            },
            "type": "bar"
           }
          ],
          "barpolar": [
           {
            "marker": {
             "line": {
              "color": "#E5ECF6",
              "width": 0.5
             },
             "pattern": {
              "fillmode": "overlay",
              "size": 10,
              "solidity": 0.2
             }
            },
            "type": "barpolar"
           }
          ],
          "carpet": [
           {
            "aaxis": {
             "endlinecolor": "#2a3f5f",
             "gridcolor": "white",
             "linecolor": "white",
             "minorgridcolor": "white",
             "startlinecolor": "#2a3f5f"
            },
            "baxis": {
             "endlinecolor": "#2a3f5f",
             "gridcolor": "white",
             "linecolor": "white",
             "minorgridcolor": "white",
             "startlinecolor": "#2a3f5f"
            },
            "type": "carpet"
           }
          ],
          "choropleth": [
           {
            "colorbar": {
             "outlinewidth": 0,
             "ticks": ""
            },
            "type": "choropleth"
           }
          ],
          "contour": [
           {
            "colorbar": {
             "outlinewidth": 0,
             "ticks": ""
            },
            "colorscale": [
             [
              0,
              "#0d0887"
             ],
             [
              0.1111111111111111,
              "#46039f"
             ],
             [
              0.2222222222222222,
              "#7201a8"
             ],
             [
              0.3333333333333333,
              "#9c179e"
             ],
             [
              0.4444444444444444,
              "#bd3786"
             ],
             [
              0.5555555555555556,
              "#d8576b"
             ],
             [
              0.6666666666666666,
              "#ed7953"
             ],
             [
              0.7777777777777778,
              "#fb9f3a"
             ],
             [
              0.8888888888888888,
              "#fdca26"
             ],
             [
              1,
              "#f0f921"
             ]
            ],
            "type": "contour"
           }
          ],
          "contourcarpet": [
           {
            "colorbar": {
             "outlinewidth": 0,
             "ticks": ""
            },
            "type": "contourcarpet"
           }
          ],
          "heatmap": [
           {
            "colorbar": {
             "outlinewidth": 0,
             "ticks": ""
            },
            "colorscale": [
             [
              0,
              "#0d0887"
             ],
             [
              0.1111111111111111,
              "#46039f"
             ],
             [
              0.2222222222222222,
              "#7201a8"
             ],
             [
              0.3333333333333333,
              "#9c179e"
             ],
             [
              0.4444444444444444,
              "#bd3786"
             ],
             [
              0.5555555555555556,
              "#d8576b"
             ],
             [
              0.6666666666666666,
              "#ed7953"
             ],
             [
              0.7777777777777778,
              "#fb9f3a"
             ],
             [
              0.8888888888888888,
              "#fdca26"
             ],
             [
              1,
              "#f0f921"
             ]
            ],
            "type": "heatmap"
           }
          ],
          "heatmapgl": [
           {
            "colorbar": {
             "outlinewidth": 0,
             "ticks": ""
            },
            "colorscale": [
             [
              0,
              "#0d0887"
             ],
             [
              0.1111111111111111,
              "#46039f"
             ],
             [
              0.2222222222222222,
              "#7201a8"
             ],
             [
              0.3333333333333333,
              "#9c179e"
             ],
             [
              0.4444444444444444,
              "#bd3786"
             ],
             [
              0.5555555555555556,
              "#d8576b"
             ],
             [
              0.6666666666666666,
              "#ed7953"
             ],
             [
              0.7777777777777778,
              "#fb9f3a"
             ],
             [
              0.8888888888888888,
              "#fdca26"
             ],
             [
              1,
              "#f0f921"
             ]
            ],
            "type": "heatmapgl"
           }
          ],
          "histogram": [
           {
            "marker": {
             "pattern": {
              "fillmode": "overlay",
              "size": 10,
              "solidity": 0.2
             }
            },
            "type": "histogram"
           }
          ],
          "histogram2d": [
           {
            "colorbar": {
             "outlinewidth": 0,
             "ticks": ""
            },
            "colorscale": [
             [
              0,
              "#0d0887"
             ],
             [
              0.1111111111111111,
              "#46039f"
             ],
             [
              0.2222222222222222,
              "#7201a8"
             ],
             [
              0.3333333333333333,
              "#9c179e"
             ],
             [
              0.4444444444444444,
              "#bd3786"
             ],
             [
              0.5555555555555556,
              "#d8576b"
             ],
             [
              0.6666666666666666,
              "#ed7953"
             ],
             [
              0.7777777777777778,
              "#fb9f3a"
             ],
             [
              0.8888888888888888,
              "#fdca26"
             ],
             [
              1,
              "#f0f921"
             ]
            ],
            "type": "histogram2d"
           }
          ],
          "histogram2dcontour": [
           {
            "colorbar": {
             "outlinewidth": 0,
             "ticks": ""
            },
            "colorscale": [
             [
              0,
              "#0d0887"
             ],
             [
              0.1111111111111111,
              "#46039f"
             ],
             [
              0.2222222222222222,
              "#7201a8"
             ],
             [
              0.3333333333333333,
              "#9c179e"
             ],
             [
              0.4444444444444444,
              "#bd3786"
             ],
             [
              0.5555555555555556,
              "#d8576b"
             ],
             [
              0.6666666666666666,
              "#ed7953"
             ],
             [
              0.7777777777777778,
              "#fb9f3a"
             ],
             [
              0.8888888888888888,
              "#fdca26"
             ],
             [
              1,
              "#f0f921"
             ]
            ],
            "type": "histogram2dcontour"
           }
          ],
          "mesh3d": [
           {
            "colorbar": {
             "outlinewidth": 0,
             "ticks": ""
            },
            "type": "mesh3d"
           }
          ],
          "parcoords": [
           {
            "line": {
             "colorbar": {
              "outlinewidth": 0,
              "ticks": ""
             }
            },
            "type": "parcoords"
           }
          ],
          "pie": [
           {
            "automargin": true,
            "type": "pie"
           }
          ],
          "scatter": [
           {
            "fillpattern": {
             "fillmode": "overlay",
             "size": 10,
             "solidity": 0.2
            },
            "type": "scatter"
           }
          ],
          "scatter3d": [
           {
            "line": {
             "colorbar": {
              "outlinewidth": 0,
              "ticks": ""
             }
            },
            "marker": {
             "colorbar": {
              "outlinewidth": 0,
              "ticks": ""
             }
            },
            "type": "scatter3d"
           }
          ],
          "scattercarpet": [
           {
            "marker": {
             "colorbar": {
              "outlinewidth": 0,
              "ticks": ""
             }
            },
            "type": "scattercarpet"
           }
          ],
          "scattergeo": [
           {
            "marker": {
             "colorbar": {
              "outlinewidth": 0,
              "ticks": ""
             }
            },
            "type": "scattergeo"
           }
          ],
          "scattergl": [
           {
            "marker": {
             "colorbar": {
              "outlinewidth": 0,
              "ticks": ""
             }
            },
            "type": "scattergl"
           }
          ],
          "scattermapbox": [
           {
            "marker": {
             "colorbar": {
              "outlinewidth": 0,
              "ticks": ""
             }
            },
            "type": "scattermapbox"
           }
          ],
          "scatterpolar": [
           {
            "marker": {
             "colorbar": {
              "outlinewidth": 0,
              "ticks": ""
             }
            },
            "type": "scatterpolar"
           }
          ],
          "scatterpolargl": [
           {
            "marker": {
             "colorbar": {
              "outlinewidth": 0,
              "ticks": ""
             }
            },
            "type": "scatterpolargl"
           }
          ],
          "scatterternary": [
           {
            "marker": {
             "colorbar": {
              "outlinewidth": 0,
              "ticks": ""
             }
            },
            "type": "scatterternary"
           }
          ],
          "surface": [
           {
            "colorbar": {
             "outlinewidth": 0,
             "ticks": ""
            },
            "colorscale": [
             [
              0,
              "#0d0887"
             ],
             [
              0.1111111111111111,
              "#46039f"
             ],
             [
              0.2222222222222222,
              "#7201a8"
             ],
             [
              0.3333333333333333,
              "#9c179e"
             ],
             [
              0.4444444444444444,
              "#bd3786"
             ],
             [
              0.5555555555555556,
              "#d8576b"
             ],
             [
              0.6666666666666666,
              "#ed7953"
             ],
             [
              0.7777777777777778,
              "#fb9f3a"
             ],
             [
              0.8888888888888888,
              "#fdca26"
             ],
             [
              1,
              "#f0f921"
             ]
            ],
            "type": "surface"
           }
          ],
          "table": [
           {
            "cells": {
             "fill": {
              "color": "#EBF0F8"
             },
             "line": {
              "color": "white"
             }
            },
            "header": {
             "fill": {
              "color": "#C8D4E3"
             },
             "line": {
              "color": "white"
             }
            },
            "type": "table"
           }
          ]
         },
         "layout": {
          "annotationdefaults": {
           "arrowcolor": "#2a3f5f",
           "arrowhead": 0,
           "arrowwidth": 1
          },
          "autotypenumbers": "strict",
          "coloraxis": {
           "colorbar": {
            "outlinewidth": 0,
            "ticks": ""
           }
          },
          "colorscale": {
           "diverging": [
            [
             0,
             "#8e0152"
            ],
            [
             0.1,
             "#c51b7d"
            ],
            [
             0.2,
             "#de77ae"
            ],
            [
             0.3,
             "#f1b6da"
            ],
            [
             0.4,
             "#fde0ef"
            ],
            [
             0.5,
             "#f7f7f7"
            ],
            [
             0.6,
             "#e6f5d0"
            ],
            [
             0.7,
             "#b8e186"
            ],
            [
             0.8,
             "#7fbc41"
            ],
            [
             0.9,
             "#4d9221"
            ],
            [
             1,
             "#276419"
            ]
           ],
           "sequential": [
            [
             0,
             "#0d0887"
            ],
            [
             0.1111111111111111,
             "#46039f"
            ],
            [
             0.2222222222222222,
             "#7201a8"
            ],
            [
             0.3333333333333333,
             "#9c179e"
            ],
            [
             0.4444444444444444,
             "#bd3786"
            ],
            [
             0.5555555555555556,
             "#d8576b"
            ],
            [
             0.6666666666666666,
             "#ed7953"
            ],
            [
             0.7777777777777778,
             "#fb9f3a"
            ],
            [
             0.8888888888888888,
             "#fdca26"
            ],
            [
             1,
             "#f0f921"
            ]
           ],
           "sequentialminus": [
            [
             0,
             "#0d0887"
            ],
            [
             0.1111111111111111,
             "#46039f"
            ],
            [
             0.2222222222222222,
             "#7201a8"
            ],
            [
             0.3333333333333333,
             "#9c179e"
            ],
            [
             0.4444444444444444,
             "#bd3786"
            ],
            [
             0.5555555555555556,
             "#d8576b"
            ],
            [
             0.6666666666666666,
             "#ed7953"
            ],
            [
             0.7777777777777778,
             "#fb9f3a"
            ],
            [
             0.8888888888888888,
             "#fdca26"
            ],
            [
             1,
             "#f0f921"
            ]
           ]
          },
          "colorway": [
           "#636efa",
           "#EF553B",
           "#00cc96",
           "#ab63fa",
           "#FFA15A",
           "#19d3f3",
           "#FF6692",
           "#B6E880",
           "#FF97FF",
           "#FECB52"
          ],
          "font": {
           "color": "#2a3f5f"
          },
          "geo": {
           "bgcolor": "white",
           "lakecolor": "white",
           "landcolor": "#E5ECF6",
           "showlakes": true,
           "showland": true,
           "subunitcolor": "white"
          },
          "hoverlabel": {
           "align": "left"
          },
          "hovermode": "closest",
          "mapbox": {
           "style": "light"
          },
          "paper_bgcolor": "white",
          "plot_bgcolor": "#E5ECF6",
          "polar": {
           "angularaxis": {
            "gridcolor": "white",
            "linecolor": "white",
            "ticks": ""
           },
           "bgcolor": "#E5ECF6",
           "radialaxis": {
            "gridcolor": "white",
            "linecolor": "white",
            "ticks": ""
           }
          },
          "scene": {
           "xaxis": {
            "backgroundcolor": "#E5ECF6",
            "gridcolor": "white",
            "gridwidth": 2,
            "linecolor": "white",
            "showbackground": true,
            "ticks": "",
            "zerolinecolor": "white"
           },
           "yaxis": {
            "backgroundcolor": "#E5ECF6",
            "gridcolor": "white",
            "gridwidth": 2,
            "linecolor": "white",
            "showbackground": true,
            "ticks": "",
            "zerolinecolor": "white"
           },
           "zaxis": {
            "backgroundcolor": "#E5ECF6",
            "gridcolor": "white",
            "gridwidth": 2,
            "linecolor": "white",
            "showbackground": true,
            "ticks": "",
            "zerolinecolor": "white"
           }
          },
          "shapedefaults": {
           "line": {
            "color": "#2a3f5f"
           }
          },
          "ternary": {
           "aaxis": {
            "gridcolor": "white",
            "linecolor": "white",
            "ticks": ""
           },
           "baxis": {
            "gridcolor": "white",
            "linecolor": "white",
            "ticks": ""
           },
           "bgcolor": "#E5ECF6",
           "caxis": {
            "gridcolor": "white",
            "linecolor": "white",
            "ticks": ""
           }
          },
          "title": {
           "x": 0.05
          },
          "xaxis": {
           "automargin": true,
           "gridcolor": "white",
           "linecolor": "white",
           "ticks": "",
           "title": {
            "standoff": 15
           },
           "zerolinecolor": "white",
           "zerolinewidth": 2
          },
          "yaxis": {
           "automargin": true,
           "gridcolor": "white",
           "linecolor": "white",
           "ticks": "",
           "title": {
            "standoff": 15
           },
           "zerolinecolor": "white",
           "zerolinewidth": 2
          }
         }
        },
        "title": {
         "font": {
          "family": "CMU",
          "size": 30
         },
         "text": "model_2 rmsd_linear hypersphere"
        },
        "width": 1170,
        "xaxis": {
         "anchor": "y",
         "autorange": true,
         "domain": [
          0,
          1
         ],
         "range": [
          -0.04606569900687548,
          0.6460656990068755
         ],
         "tickfont": {
          "family": "CMU",
          "size": 30
         },
         "title": {
          "font": {
           "family": "CMU",
           "size": 30
          },
          "text": "Noise Factor"
         },
         "type": "linear"
        },
        "yaxis": {
         "anchor": "x",
         "autorange": true,
         "domain": [
          0,
          1
         ],
         "range": [
          -0.19315794959200974,
          2.383152708114388
         ],
         "tickfont": {
          "family": "CMU",
          "size": 30
         },
         "title": {
          "font": {
           "family": "CMU",
           "size": 30
          },
          "text": "RMSD, linear dist"
         },
         "type": "linear"
        }
       }
      },
      "image/png": "[encoded data removed]",
      "text/html": [
       "<div>                            <div id=\"c9bbdd11-1ac0-4bab-b2f9-bb1234f0a719\" class=\"plotly-graph-div\" style=\"height:555.0px; width:1170.0px;\"></div>            <script type=\"text/javascript\">                require([\"plotly\"], function(Plotly) {                    window.PLOTLYENV=window.PLOTLYENV || {};                                    if (document.getElementById(\"c9bbdd11-1ac0-4bab-b2f9-bb1234f0a719\")) {                    Plotly.newPlot(                        \"c9bbdd11-1ac0-4bab-b2f9-bb1234f0a719\",                        [{\"hovertemplate\":\"color=Lin2015\\u003cbr\\u003esymbol=Lin2015\\u003cbr\\u003enoise_factor=%{x}\\u003cbr\\u003ermsd_linear=%{y}\\u003cextra\\u003e\\u003c\\u002fextra\\u003e\",\"legendgroup\":\"Lin2015, Lin2015\",\"marker\":{\"color\":\"#FF1493\",\"symbol\":\"arrow-left\",\"opacity\":0.5,\"size\":20},\"mode\":\"markers\",\"name\":\"Lin2015, Lin2015\",\"orientation\":\"v\",\"showlegend\":true,\"x\":[0.6,0.01,0.2,0.2,0.2,0.1,0.1,0.1,0.1,0.01,0.01,0.01,0.01,0.0,0.0,0.0,0.0,0.6,0.6,0.6,0.4,0.4,0.4,0.4,0.2,0.2,0.2,0.2,0.1,0.1,0.1,0.2,0.4,0.4,0.1,0.6,0.6,0.6,0.4,0.4,0.4,0.4,0.2,0.2,0.2,0.2,0.1,0.1,0.1,0.4,0.01,0.01,0.01,0.01,0.0,0.0,0.0,0.0,0.6,0.6,0.6,0.6,0.4,0.1,0.6,0.01,0.6,0.01,0.0,0.0,0.0,0.0,0.6,0.6,0.6,0.6,0.4,0.4,0.4,0.4,0.2,0.2,0.2,0.2,0.1,0.1,0.1,0.1,0.01,0.01,0.01,0.01,0.0,0.0,0.0,0.0,0.01,0.4,0.6,0.6,0.6,0.4,0.4,0.4,0.6,0.6,0.6,0.6,0.4,0.4,0.4,0.6,0.6,0.4,0.6,0.6,0.6,0.4,0.4,0.4,0.6,0.6,0.4,0.6,0.4,0.4,0.4,0.4],\"xaxis\":\"x\",\"y\":[1.9589811852107404,0.192826585831788,0.4480358670059197,0.3786460977372884,0.3138684742090984,0.368557256493777,0.2799508918542394,0.2235812508183657,0.1581442356613378,0.1714284513570732,0.1848639034007472,0.062362229072011,0.024095896107028,0.1691659561203335,0.1841739767722054,0.0610590601308598,0.0153027967167392,1.797574990602419,1.0188255110195008,0.9724024608153546,1.398665326592676,0.951709134119034,0.8788437918010091,0.7769914119206229,0.6157765718243537,0.4412774568147246,0.4144404581403328,0.2818185786689661,0.3218467661268167,0.3269468387065225,0.2005734491514661,0.6441134675236275,0.6228486257547543,0.7366612344351614,0.1966157615071938,1.4718636437630472,1.0895151518801904,1.037632069182142,1.2925803181175506,1.0370141459767193,0.7942903991601413,0.7091242157318365,0.6368443060987437,0.5074152388765575,0.3870833278060724,0.307153418246509,0.3449316886667499,0.3184891780029258,0.1485896094692181,0.99322400043552,0.1650452572419816,0.1756781086637973,0.0627534086434975,0.0220180928435459,0.161593182311593,0.1759597235824892,0.0582501990794154,0.0145886696200993,1.991897139058055,1.507446884832521,1.2701936059404495,1.007699861791229,1.377784602901865,0.1848642147766045,1.6868100045293948,0.2154638898596016,1.96645350829424,0.0222147287013999,0.1933486903670692,0.2103939982570153,0.0700536739982827,0.0175923026786514,1.7393598718815386,1.2216241205939746,0.5999037797261906,0.6386376914911319,1.0658195677962146,0.8681915736731024,0.6445253987394989,0.6951920560744962,0.6011116511535474,0.4305171904842941,0.2805041969227721,0.2867943563708426,0.3362807449811545,0.332428140135748,0.1468133828556058,0.1414494368859647,0.2574533923451044,0.2738240178386562,0.0933945266706021,0.0266666896745366,0.2486169217114501,0.2702753370198168,0.0906921916099323,0.0228517500000442,0.0705530033229514,0.906140959500286,1.5875302888293732,1.2772802541683366,1.1405473154586037,0.8105772372912226,0.8854240682596359,0.9476185657963168,0.9594373964183158,0.8237846669933925,1.0977180266600377,1.8158015410757748,0.5201479601705871,1.1182127292570188,1.2618348157407422,0.7002801221341118,1.0387190925564551,0.7872988655371175,2.175406088902279,1.0612178465134263,0.9919865374710498,0.985659231286816,0.7471495274251213,0.6981669109902509,1.854833593905182,1.381160024062162,1.3518968784653618,1.0607500142145967,1.3222236528699922,0.9716698586272616,0.7608255758199266,0.6493259695395506],\"yaxis\":\"y\",\"type\":\"scatter\"},{\"hovertemplate\":\"color=LR\\u003cbr\\u003esymbol=LR\\u003cbr\\u003enoise_factor=%{x}\\u003cbr\\u003ermsd_linear=%{y}\\u003cextra\\u003e\\u003c\\u002fextra\\u003e\",\"legendgroup\":\"LR, LR\",\"marker\":{\"color\":\"#3300FF\",\"symbol\":\"circle\",\"opacity\":0.5,\"size\":20},\"mode\":\"markers\",\"name\":\"LR, LR\",\"orientation\":\"v\",\"showlegend\":true,\"x\":[0.6,0.4,0.4,0.4,0.4,0.6,0.6,0.0,0.6,0.2,0.0,0.0,0.0,0.01,0.2,0.6,0.2,0.2,0.1,0.1,0.1,0.1,0.01,0.01,0.01,0.01,0.0,0.0,0.0,0.0,0.01,0.01,0.6,0.01,0.01,0.6,0.6,0.4,0.4,0.4,0.4,0.6,0.6,0.6,0.6,0.4,0.4,0.4,0.4,0.2,0.2,0.2,0.2,0.1,0.1,0.1,0.6,0.6,0.4,0.6,0.6,0.6,0.4,0.4,0.4,0.4,0.6,0.6,0.6,0.4,0.4,0.4,0.4,0.4,0.6,0.1,0.6,0.6,0.4,0.4,0.1,0.6,0.01,0.6,0.2,0.1,0.1,0.1,0.01,0.01,0.01,0.01,0.0,0.0,0.0,0.0,0.6,0.6,0.2,0.6,0.4,0.4,0.4,0.4,0.2,0.2,0.2,0.2,0.1,0.1,0.1,0.01,0.2,0.1,0.6,0.0,0.6,0.6,0.6,0.0,0.4,0.4,0.4,0.4,0.2,0.0,0.01,0.0],\"xaxis\":\"x\",\"y\":[1.4547672104903038,1.0066786435913269,0.6693932765919429,0.8216220801868421,0.9498961119102792,0.5088833315836191,0.7754340170168444,0.0236734135472909,1.8939399348292925,0.5497743355755781,0.0795184733454864,0.1908307162074229,0.1789455949676963,0.0317737186501466,0.6737707488734427,1.469493492402328,0.3260096920420436,0.2015844104800393,0.3187446279054857,0.3196972708207754,0.1685709179537775,0.138615099446544,0.2149893180936911,0.2252598906700756,0.0942013315032694,0.0344724309877295,0.2095007788701034,0.2231110416547001,0.0940782957937925,0.0281543419051597,0.1923639928953381,0.0883203054224241,1.8544644601826203,0.1833711189091202,0.1608342538260988,1.3367955820748127,0.7263350871911332,1.1903105756084895,0.8573241336126876,0.9301807068834969,0.722712609631491,1.8891110542169791,1.3917934311446711,1.2237287200178153,1.008238090713704,1.2260669763655552,0.9547541284944272,0.7405280130466223,0.6403356319518531,0.6350281382961056,0.5410921103697468,0.3960263777535461,0.3098147841873031,0.3669610520778126,0.275002509165018,0.2128593681877958,1.371463946266309,1.7283990663736295,0.4600973961124133,1.022998923418374,1.2327399080398926,1.0676645363449466,1.3304454913107435,0.951353729268582,0.7585230860043213,0.679239119693008,2.0244067608347187,1.3814167617515714,1.1993304202006374,1.2975867445456046,0.7307682971929315,1.0043533090545842,0.7732692069527314,0.6082695241375816,2.002246381874077,0.1574033445952003,1.1011073198766377,0.8926179799600771,1.3113927694162648,0.9969208698784238,0.1860554632200176,1.3002053956722508,0.1672869089865245,1.2905200456873116,0.3031820075478816,0.3652182728236809,0.2947586064686236,0.2118401958960488,0.1637966387463651,0.1782683860266254,0.0756490080048806,0.0302025869931007,0.1626912090004803,0.1736480344179324,0.0716128020513996,0.0211328487758274,1.892695558821519,0.9924339737903164,0.4908202298180427,1.1400157480943334,1.3590815448479836,0.8871672150091934,0.7654927446880044,0.6244439468341502,0.6328134124140545,0.4538458828458693,0.3526616086329559,0.2589038956574657,0.3574639414497052,0.2583594317353039,0.2495450460552838,0.0719497649364373,0.412191113873274,0.1488056631387041,1.1642952104637552,0.0689598279520552,1.9187666521339912,1.4624730915404955,1.1281124773244922,0.1679069244555761,1.2858452503536384,0.9669556375929664,0.8487199476753222,0.6383141904878112,0.6666889237047712,0.157257443104021,0.0256156047921071,0.0202769630158416],\"yaxis\":\"y\",\"type\":\"scatter\"},{\"hovertemplate\":\"color=LLS\\u003cbr\\u003esymbol=LLS\\u003cbr\\u003enoise_factor=%{x}\\u003cbr\\u003ermsd_linear=%{y}\\u003cextra\\u003e\\u003c\\u002fextra\\u003e\",\"legendgroup\":\"LLS, LLS\",\"marker\":{\"color\":\"#2ca02c\",\"symbol\":\"square\",\"opacity\":0.5,\"size\":20},\"mode\":\"markers\",\"name\":\"LLS, LLS\",\"orientation\":\"v\",\"showlegend\":true,\"x\":[0.0,0.1,0.2,0.2,0.1,0.1,0.1,0.1,0.01,0.01,0.01,0.01,0.1,0.1,0.2,0.0,0.2,0.2,0.2,0.4,0.4,0.0,0.0,0.4,0.6,0.6,0.6,0.6,0.4,0.4,0.4,0.4,0.4,0.6,0.6,0.6,0.6,0.0,0.0,0.0,0.0,0.01,0.01,0.01,0.01,0.1,0.2,0.0,0.2,0.2,0.2,0.1,0.2,0.1,0.1,0.1,0.01,0.01,0.01,0.01,0.0,0.0,0.2,0.2,0.4,0.4,0.6,0.4,0.4,0.4,0.4,0.6,0.6,0.6,0.6,0.4,0.4,0.4,0.4,0.6,0.6,0.6,0.6,0.4,0.4,0.4,0.4,0.6,0.6,0.6,0.6,0.4,0.4,0.4,0.4,0.6,0.6,0.6,0.01,0.4,0.4,0.6,0.6,0.6,0.6,0.0,0.0,0.0,0.0,0.01,0.01,0.01,0.1,0.6,0.1,0.1,0.1,0.2,0.2,0.2,0.4,0.4,0.4,0.4,0.6,0.6,0.6,0.0],\"xaxis\":\"x\",\"y\":[0.0610590601308598,0.3348831032369678,0.3935337783394576,0.3518354829456242,0.3619025535827142,0.3182709721878824,0.1714241591488163,0.1562122791969665,0.1698192598398657,0.1870485454120961,0.0652338345759799,0.0220123283207398,0.1841874549971124,0.2830531684019382,0.2693848267524147,0.0153027967167392,0.3537759855006468,0.4547028529443658,0.6235509321416279,0.7448468782195856,0.7225755212501079,0.1691659561203335,0.1841739767722054,1.0229988439487712,0.9445195121455128,1.094663314318222,1.5732457999675338,1.7117617798391065,0.8459461334492548,0.5932964792191597,0.7505096137730451,0.637170013668736,1.1918015817038297,0.8672796238840063,0.6780129479168603,1.2153309019292255,1.7397233629212512,0.0175923026786515,0.0700536739982827,0.2103939982570153,0.1933486903670692,0.0237382394409376,0.0746128371342721,0.2132641547074145,0.1958244134828401,0.13833646324359,0.4748394466003464,0.0906921916099323,0.5248152860471947,0.3007624025303547,0.3349281583375456,0.357970033029529,0.6410860096748457,0.3573917712290348,0.2445970503408071,0.1164471616692869,0.2522334976769634,0.2693413004811687,0.0908241765541874,0.025749578567061,0.2486169217114501,0.2702753370198168,0.4782275103045258,0.532861941144854,0.6818985331755228,0.7769383314371006,1.0938944336225953,1.308757577877096,0.9833377714288012,0.7854627289245244,0.6700851655572969,2.021803468025684,1.4351007937914102,1.1764804176676342,0.943638278480272,1.286526411205403,0.9341543120873806,0.8231989842348462,0.590019260837438,1.865963806150473,1.3851495219331431,0.8572269079241035,1.0283842731149146,1.0634878070481646,0.7740094348118256,0.6913127379718044,0.5951602816975209,1.5924994349123616,1.4774540433524992,0.9667581853291678,0.8454591242165397,1.1738140774525885,0.8044923038750718,0.6465992026224172,0.518787468311025,1.2052182452783755,1.5029854978133252,1.9894363957004813,0.1669319047633357,0.9368959178713476,1.3480609573067006,1.1026328164969867,1.2354183889059327,1.5437658579454756,1.952848454093819,0.0145886696200993,0.0582501990794154,0.1759597235824891,0.161593182311593,0.0217933463435329,0.061266114831496,0.1789279572097512,0.1855507553276358,1.915867726816248,0.1721822927893176,0.3133435958388589,0.3404259377095601,0.3358631534648869,0.4657513131315257,0.6802498188889301,0.7339643991460836,0.7494821174055765,1.0155911218838294,1.2960600029249838,1.128876911925633,1.1507286162704782,1.5174504373749218,0.0228517500000442],\"yaxis\":\"y\",\"type\":\"scatter\"}],                        {\"template\":{\"data\":{\"histogram2dcontour\":[{\"type\":\"histogram2dcontour\",\"colorbar\":{\"outlinewidth\":0,\"ticks\":\"\"},\"colorscale\":[[0.0,\"#0d0887\"],[0.1111111111111111,\"#46039f\"],[0.2222222222222222,\"#7201a8\"],[0.3333333333333333,\"#9c179e\"],[0.4444444444444444,\"#bd3786\"],[0.5555555555555556,\"#d8576b\"],[0.6666666666666666,\"#ed7953\"],[0.7777777777777778,\"#fb9f3a\"],[0.8888888888888888,\"#fdca26\"],[1.0,\"#f0f921\"]]}],\"choropleth\":[{\"type\":\"choropleth\",\"colorbar\":{\"outlinewidth\":0,\"ticks\":\"\"}}],\"histogram2d\":[{\"type\":\"histogram2d\",\"colorbar\":{\"outlinewidth\":0,\"ticks\":\"\"},\"colorscale\":[[0.0,\"#0d0887\"],[0.1111111111111111,\"#46039f\"],[0.2222222222222222,\"#7201a8\"],[0.3333333333333333,\"#9c179e\"],[0.4444444444444444,\"#bd3786\"],[0.5555555555555556,\"#d8576b\"],[0.6666666666666666,\"#ed7953\"],[0.7777777777777778,\"#fb9f3a\"],[0.8888888888888888,\"#fdca26\"],[1.0,\"#f0f921\"]]}],\"heatmap\":[{\"type\":\"heatmap\",\"colorbar\":{\"outlinewidth\":0,\"ticks\":\"\"},\"colorscale\":[[0.0,\"#0d0887\"],[0.1111111111111111,\"#46039f\"],[0.2222222222222222,\"#7201a8\"],[0.3333333333333333,\"#9c179e\"],[0.4444444444444444,\"#bd3786\"],[0.5555555555555556,\"#d8576b\"],[0.6666666666666666,\"#ed7953\"],[0.7777777777777778,\"#fb9f3a\"],[0.8888888888888888,\"#fdca26\"],[1.0,\"#f0f921\"]]}],\"heatmapgl\":[{\"type\":\"heatmapgl\",\"colorbar\":{\"outlinewidth\":0,\"ticks\":\"\"},\"colorscale\":[[0.0,\"#0d0887\"],[0.1111111111111111,\"#46039f\"],[0.2222222222222222,\"#7201a8\"],[0.3333333333333333,\"#9c179e\"],[0.4444444444444444,\"#bd3786\"],[0.5555555555555556,\"#d8576b\"],[0.6666666666666666,\"#ed7953\"],[0.7777777777777778,\"#fb9f3a\"],[0.8888888888888888,\"#fdca26\"],[1.0,\"#f0f921\"]]}],\"contourcarpet\":[{\"type\":\"contourcarpet\",\"colorbar\":{\"outlinewidth\":0,\"ticks\":\"\"}}],\"contour\":[{\"type\":\"contour\",\"colorbar\":{\"outlinewidth\":0,\"ticks\":\"\"},\"colorscale\":[[0.0,\"#0d0887\"],[0.1111111111111111,\"#46039f\"],[0.2222222222222222,\"#7201a8\"],[0.3333333333333333,\"#9c179e\"],[0.4444444444444444,\"#bd3786\"],[0.5555555555555556,\"#d8576b\"],[0.6666666666666666,\"#ed7953\"],[0.7777777777777778,\"#fb9f3a\"],[0.8888888888888888,\"#fdca26\"],[1.0,\"#f0f921\"]]}],\"surface\":[{\"type\":\"surface\",\"colorbar\":{\"outlinewidth\":0,\"ticks\":\"\"},\"colorscale\":[[0.0,\"#0d0887\"],[0.1111111111111111,\"#46039f\"],[0.2222222222222222,\"#7201a8\"],[0.3333333333333333,\"#9c179e\"],[0.4444444444444444,\"#bd3786\"],[0.5555555555555556,\"#d8576b\"],[0.6666666666666666,\"#ed7953\"],[0.7777777777777778,\"#fb9f3a\"],[0.8888888888888888,\"#fdca26\"],[1.0,\"#f0f921\"]]}],\"mesh3d\":[{\"type\":\"mesh3d\",\"colorbar\":{\"outlinewidth\":0,\"ticks\":\"\"}}],\"scatter\":[{\"fillpattern\":{\"fillmode\":\"overlay\",\"size\":10,\"solidity\":0.2},\"type\":\"scatter\"}],\"parcoords\":[{\"type\":\"parcoords\",\"line\":{\"colorbar\":{\"outlinewidth\":0,\"ticks\":\"\"}}}],\"scatterpolargl\":[{\"type\":\"scatterpolargl\",\"marker\":{\"colorbar\":{\"outlinewidth\":0,\"ticks\":\"\"}}}],\"bar\":[{\"error_x\":{\"color\":\"#2a3f5f\"},\"error_y\":{\"color\":\"#2a3f5f\"},\"marker\":{\"line\":{\"color\":\"#E5ECF6\",\"width\":0.5},\"pattern\":{\"fillmode\":\"overlay\",\"size\":10,\"solidity\":0.2}},\"type\":\"bar\"}],\"scattergeo\":[{\"type\":\"scattergeo\",\"marker\":{\"colorbar\":{\"outlinewidth\":0,\"ticks\":\"\"}}}],\"scatterpolar\":[{\"type\":\"scatterpolar\",\"marker\":{\"colorbar\":{\"outlinewidth\":0,\"ticks\":\"\"}}}],\"histogram\":[{\"marker\":{\"pattern\":{\"fillmode\":\"overlay\",\"size\":10,\"solidity\":0.2}},\"type\":\"histogram\"}],\"scattergl\":[{\"type\":\"scattergl\",\"marker\":{\"colorbar\":{\"outlinewidth\":0,\"ticks\":\"\"}}}],\"scatter3d\":[{\"type\":\"scatter3d\",\"line\":{\"colorbar\":{\"outlinewidth\":0,\"ticks\":\"\"}},\"marker\":{\"colorbar\":{\"outlinewidth\":0,\"ticks\":\"\"}}}],\"scattermapbox\":[{\"type\":\"scattermapbox\",\"marker\":{\"colorbar\":{\"outlinewidth\":0,\"ticks\":\"\"}}}],\"scatterternary\":[{\"type\":\"scatterternary\",\"marker\":{\"colorbar\":{\"outlinewidth\":0,\"ticks\":\"\"}}}],\"scattercarpet\":[{\"type\":\"scattercarpet\",\"marker\":{\"colorbar\":{\"outlinewidth\":0,\"ticks\":\"\"}}}],\"carpet\":[{\"aaxis\":{\"endlinecolor\":\"#2a3f5f\",\"gridcolor\":\"white\",\"linecolor\":\"white\",\"minorgridcolor\":\"white\",\"startlinecolor\":\"#2a3f5f\"},\"baxis\":{\"endlinecolor\":\"#2a3f5f\",\"gridcolor\":\"white\",\"linecolor\":\"white\",\"minorgridcolor\":\"white\",\"startlinecolor\":\"#2a3f5f\"},\"type\":\"carpet\"}],\"table\":[{\"cells\":{\"fill\":{\"color\":\"#EBF0F8\"},\"line\":{\"color\":\"white\"}},\"header\":{\"fill\":{\"color\":\"#C8D4E3\"},\"line\":{\"color\":\"white\"}},\"type\":\"table\"}],\"barpolar\":[{\"marker\":{\"line\":{\"color\":\"#E5ECF6\",\"width\":0.5},\"pattern\":{\"fillmode\":\"overlay\",\"size\":10,\"solidity\":0.2}},\"type\":\"barpolar\"}],\"pie\":[{\"automargin\":true,\"type\":\"pie\"}]},\"layout\":{\"autotypenumbers\":\"strict\",\"colorway\":[\"#636efa\",\"#EF553B\",\"#00cc96\",\"#ab63fa\",\"#FFA15A\",\"#19d3f3\",\"#FF6692\",\"#B6E880\",\"#FF97FF\",\"#FECB52\"],\"font\":{\"color\":\"#2a3f5f\"},\"hovermode\":\"closest\",\"hoverlabel\":{\"align\":\"left\"},\"paper_bgcolor\":\"white\",\"plot_bgcolor\":\"#E5ECF6\",\"polar\":{\"bgcolor\":\"#E5ECF6\",\"angularaxis\":{\"gridcolor\":\"white\",\"linecolor\":\"white\",\"ticks\":\"\"},\"radialaxis\":{\"gridcolor\":\"white\",\"linecolor\":\"white\",\"ticks\":\"\"}},\"ternary\":{\"bgcolor\":\"#E5ECF6\",\"aaxis\":{\"gridcolor\":\"white\",\"linecolor\":\"white\",\"ticks\":\"\"},\"baxis\":{\"gridcolor\":\"white\",\"linecolor\":\"white\",\"ticks\":\"\"},\"caxis\":{\"gridcolor\":\"white\",\"linecolor\":\"white\",\"ticks\":\"\"}},\"coloraxis\":{\"colorbar\":{\"outlinewidth\":0,\"ticks\":\"\"}},\"colorscale\":{\"sequential\":[[0.0,\"#0d0887\"],[0.1111111111111111,\"#46039f\"],[0.2222222222222222,\"#7201a8\"],[0.3333333333333333,\"#9c179e\"],[0.4444444444444444,\"#bd3786\"],[0.5555555555555556,\"#d8576b\"],[0.6666666666666666,\"#ed7953\"],[0.7777777777777778,\"#fb9f3a\"],[0.8888888888888888,\"#fdca26\"],[1.0,\"#f0f921\"]],\"sequentialminus\":[[0.0,\"#0d0887\"],[0.1111111111111111,\"#46039f\"],[0.2222222222222222,\"#7201a8\"],[0.3333333333333333,\"#9c179e\"],[0.4444444444444444,\"#bd3786\"],[0.5555555555555556,\"#d8576b\"],[0.6666666666666666,\"#ed7953\"],[0.7777777777777778,\"#fb9f3a\"],[0.8888888888888888,\"#fdca26\"],[1.0,\"#f0f921\"]],\"diverging\":[[0,\"#8e0152\"],[0.1,\"#c51b7d\"],[0.2,\"#de77ae\"],[0.3,\"#f1b6da\"],[0.4,\"#fde0ef\"],[0.5,\"#f7f7f7\"],[0.6,\"#e6f5d0\"],[0.7,\"#b8e186\"],[0.8,\"#7fbc41\"],[0.9,\"#4d9221\"],[1,\"#276419\"]]},\"xaxis\":{\"gridcolor\":\"white\",\"linecolor\":\"white\",\"ticks\":\"\",\"title\":{\"standoff\":15},\"zerolinecolor\":\"white\",\"automargin\":true,\"zerolinewidth\":2},\"yaxis\":{\"gridcolor\":\"white\",\"linecolor\":\"white\",\"ticks\":\"\",\"title\":{\"standoff\":15},\"zerolinecolor\":\"white\",\"automargin\":true,\"zerolinewidth\":2},\"scene\":{\"xaxis\":{\"backgroundcolor\":\"#E5ECF6\",\"gridcolor\":\"white\",\"linecolor\":\"white\",\"showbackground\":true,\"ticks\":\"\",\"zerolinecolor\":\"white\",\"gridwidth\":2},\"yaxis\":{\"backgroundcolor\":\"#E5ECF6\",\"gridcolor\":\"white\",\"linecolor\":\"white\",\"showbackground\":true,\"ticks\":\"\",\"zerolinecolor\":\"white\",\"gridwidth\":2},\"zaxis\":{\"backgroundcolor\":\"#E5ECF6\",\"gridcolor\":\"white\",\"linecolor\":\"white\",\"showbackground\":true,\"ticks\":\"\",\"zerolinecolor\":\"white\",\"gridwidth\":2}},\"shapedefaults\":{\"line\":{\"color\":\"#2a3f5f\"}},\"annotationdefaults\":{\"arrowcolor\":\"#2a3f5f\",\"arrowhead\":0,\"arrowwidth\":1},\"geo\":{\"bgcolor\":\"white\",\"landcolor\":\"#E5ECF6\",\"subunitcolor\":\"white\",\"showland\":true,\"showlakes\":true,\"lakecolor\":\"white\"},\"title\":{\"x\":0.05},\"mapbox\":{\"style\":\"light\"}}},\"xaxis\":{\"anchor\":\"y\",\"domain\":[0.0,1.0],\"title\":{\"text\":\"Noise Factor\",\"font\":{\"family\":\"CMU\",\"size\":30}},\"tickfont\":{\"family\":\"CMU\",\"size\":30}},\"yaxis\":{\"anchor\":\"x\",\"domain\":[0.0,1.0],\"title\":{\"text\":\"RMSD, linear dist\",\"font\":{\"family\":\"CMU\",\"size\":30}},\"tickfont\":{\"family\":\"CMU\",\"size\":30}},\"legend\":{\"title\":{\"text\":\"Estimator, Estimator\"},\"tracegroupgap\":0,\"font\":{\"family\":\"CMU\",\"size\":30}},\"margin\":{\"t\":60},\"title\":{\"text\":\"model_2 rmsd_linear hypersphere\",\"font\":{\"family\":\"CMU\",\"size\":30}},\"width\":1170.0,\"height\":555.0},                        {\"responsive\": true}                    ).then(function(){\n",
       "                            \n",
       "var gd = document.getElementById('c9bbdd11-1ac0-4bab-b2f9-bb1234f0a719');\n",
       "var x = new MutationObserver(function (mutations, observer) {{\n",
       "        var display = window.getComputedStyle(gd).display;\n",
       "        if (!display || display === 'none') {{\n",
       "            console.log([gd, 'removed!']);\n",
       "            Plotly.purge(gd);\n",
       "            observer.disconnect();\n",
       "        }}\n",
       "}});\n",
       "\n",
       "// Listen for the removal of the full notebook cells\n",
       "var notebookContainer = gd.closest('#notebook-container');\n",
       "if (notebookContainer) {{\n",
       "    x.observe(notebookContainer, {childList: true});\n",
       "}}\n",
       "\n",
       "// Listen for the clearing of the current output cell\n",
       "var outputEl = gd.closest('.output');\n",
       "if (outputEl) {{\n",
       "    x.observe(outputEl, {childList: true});\n",
       "}}\n",
       "\n",
       "                        })                };                });            </script>        </div>"
      ]
     },
     "metadata": {},
     "output_type": "display_data"
    },
    {
     "data": {
      "application/vnd.plotly.v1+json": {
       "config": {
        "plotlyServerURL": "https://plot.ly"
       },
       "data": [
        {
         "hovertemplate": "color=Lin2015<br>symbol=Lin2015<br>noise_factor=%{x}<br>rmsd_linear=%{y}<extra></extra>",
         "legendgroup": "Lin2015, Lin2015",
         "marker": {
          "color": "#FF1493",
          "opacity": 0.5,
          "size": 20,
          "symbol": "arrow-left"
         },
         "mode": "markers",
         "name": "Lin2015, Lin2015",
         "orientation": "v",
         "showlegend": true,
         "type": "scatter",
         "x": [
          0.6,
          0.01,
          0.2,
          0.2,
          0.2,
          0.1,
          0.1,
          0.1,
          0.1,
          0.01,
          0.01,
          0.01,
          0.01,
          0,
          0,
          0,
          0,
          0.6,
          0.6,
          0.6,
          0.4,
          0.4,
          0.4,
          0.4,
          0.2,
          0.2,
          0.2,
          0.2,
          0.1,
          0.1,
          0.1,
          0.2,
          0.4,
          0.4,
          0.1,
          0.6,
          0.6,
          0.6,
          0.4,
          0.4,
          0.4,
          0.4,
          0.2,
          0.2,
          0.2,
          0.2,
          0.1,
          0.1,
          0.1,
          0.4,
          0.01,
          0.01,
          0.01,
          0.01,
          0,
          0,
          0,
          0,
          0.6,
          0.6,
          0.6,
          0.6,
          0.4,
          0.1,
          0.6,
          0.01,
          0.6,
          0.01,
          0,
          0,
          0,
          0,
          0.6,
          0.6,
          0.6,
          0.6,
          0.4,
          0.4,
          0.4,
          0.4,
          0.2,
          0.2,
          0.2,
          0.2,
          0.1,
          0.1,
          0.1,
          0.1,
          0.01,
          0.01,
          0.01,
          0.01,
          0,
          0,
          0,
          0,
          0.01,
          0.4,
          0.6,
          0.6,
          0.6,
          0.4,
          0.4,
          0.4,
          0.6,
          0.6,
          0.6,
          0.6,
          0.4,
          0.4,
          0.4,
          0.6,
          0.6,
          0.4,
          0.6,
          0.6,
          0.6,
          0.4,
          0.4,
          0.4,
          0.6,
          0.6,
          0.4,
          0.6,
          0.4,
          0.4,
          0.4,
          0.4
         ],
         "xaxis": "x",
         "y": [
          1.9589811852107404,
          0.192826585831788,
          0.4480358670059197,
          0.3786460977372884,
          0.3138684742090984,
          0.368557256493777,
          0.2799508918542394,
          0.2235812508183657,
          0.1581442356613378,
          0.1714284513570732,
          0.1848639034007472,
          0.062362229072011,
          0.024095896107028,
          0.1691659561203335,
          0.1841739767722054,
          0.0610590601308598,
          0.0153027967167392,
          1.797574990602419,
          1.0188255110195008,
          0.9724024608153546,
          1.398665326592676,
          0.951709134119034,
          0.8788437918010091,
          0.7769914119206229,
          0.6157765718243537,
          0.4412774568147246,
          0.4144404581403328,
          0.2818185786689661,
          0.3218467661268167,
          0.3269468387065225,
          0.2005734491514661,
          0.6441134675236275,
          0.6228486257547543,
          0.7366612344351614,
          0.1966157615071938,
          1.4718636437630472,
          1.0895151518801904,
          1.037632069182142,
          1.2925803181175506,
          1.0370141459767193,
          0.7942903991601413,
          0.7091242157318365,
          0.6368443060987437,
          0.5074152388765575,
          0.3870833278060724,
          0.307153418246509,
          0.3449316886667499,
          0.3184891780029258,
          0.1485896094692181,
          0.99322400043552,
          0.1650452572419816,
          0.1756781086637973,
          0.0627534086434975,
          0.0220180928435459,
          0.161593182311593,
          0.1759597235824892,
          0.0582501990794154,
          0.0145886696200993,
          1.991897139058055,
          1.507446884832521,
          1.2701936059404495,
          1.007699861791229,
          1.377784602901865,
          0.1848642147766045,
          1.6868100045293948,
          0.2154638898596016,
          1.96645350829424,
          0.0222147287013999,
          0.1933486903670692,
          0.2103939982570153,
          0.0700536739982827,
          0.0175923026786514,
          1.7393598718815386,
          1.2216241205939746,
          0.5999037797261906,
          0.6386376914911319,
          1.0658195677962146,
          0.8681915736731024,
          0.6445253987394989,
          0.6951920560744962,
          0.6011116511535474,
          0.4305171904842941,
          0.2805041969227721,
          0.2867943563708426,
          0.3362807449811545,
          0.332428140135748,
          0.1468133828556058,
          0.1414494368859647,
          0.2574533923451044,
          0.2738240178386562,
          0.0933945266706021,
          0.0266666896745366,
          0.2486169217114501,
          0.2702753370198168,
          0.0906921916099323,
          0.0228517500000442,
          0.0705530033229514,
          0.906140959500286,
          1.5875302888293732,
          1.2772802541683366,
          1.1405473154586037,
          0.8105772372912226,
          0.8854240682596359,
          0.9476185657963168,
          0.9594373964183158,
          0.8237846669933925,
          1.0977180266600377,
          1.8158015410757748,
          0.5201479601705871,
          1.1182127292570188,
          1.2618348157407422,
          0.7002801221341118,
          1.0387190925564551,
          0.7872988655371175,
          2.175406088902279,
          1.0612178465134263,
          0.9919865374710498,
          0.985659231286816,
          0.7471495274251213,
          0.6981669109902509,
          1.854833593905182,
          1.381160024062162,
          1.3518968784653618,
          1.0607500142145967,
          1.3222236528699922,
          0.9716698586272616,
          0.7608255758199266,
          0.6493259695395506
         ],
         "yaxis": "y"
        },
        {
         "hovertemplate": "color=LR<br>symbol=LR<br>noise_factor=%{x}<br>rmsd_linear=%{y}<extra></extra>",
         "legendgroup": "LR, LR",
         "marker": {
          "color": "#3300FF",
          "opacity": 0.5,
          "size": 20,
          "symbol": "circle"
         },
         "mode": "markers",
         "name": "LR, LR",
         "orientation": "v",
         "showlegend": true,
         "type": "scatter",
         "x": [
          0.6,
          0.4,
          0.4,
          0.4,
          0.4,
          0.6,
          0.6,
          0,
          0.6,
          0.2,
          0,
          0,
          0,
          0.01,
          0.2,
          0.6,
          0.2,
          0.2,
          0.1,
          0.1,
          0.1,
          0.1,
          0.01,
          0.01,
          0.01,
          0.01,
          0,
          0,
          0,
          0,
          0.01,
          0.01,
          0.6,
          0.01,
          0.01,
          0.6,
          0.6,
          0.4,
          0.4,
          0.4,
          0.4,
          0.6,
          0.6,
          0.6,
          0.6,
          0.4,
          0.4,
          0.4,
          0.4,
          0.2,
          0.2,
          0.2,
          0.2,
          0.1,
          0.1,
          0.1,
          0.6,
          0.6,
          0.4,
          0.6,
          0.6,
          0.6,
          0.4,
          0.4,
          0.4,
          0.4,
          0.6,
          0.6,
          0.6,
          0.4,
          0.4,
          0.4,
          0.4,
          0.4,
          0.6,
          0.1,
          0.6,
          0.6,
          0.4,
          0.4,
          0.1,
          0.6,
          0.01,
          0.6,
          0.2,
          0.1,
          0.1,
          0.1,
          0.01,
          0.01,
          0.01,
          0.01,
          0,
          0,
          0,
          0,
          0.6,
          0.6,
          0.2,
          0.6,
          0.4,
          0.4,
          0.4,
          0.4,
          0.2,
          0.2,
          0.2,
          0.2,
          0.1,
          0.1,
          0.1,
          0.01,
          0.2,
          0.1,
          0.6,
          0,
          0.6,
          0.6,
          0.6,
          0,
          0.4,
          0.4,
          0.4,
          0.4,
          0.2,
          0,
          0.01,
          0
         ],
         "xaxis": "x",
         "y": [
          1.4547672104903038,
          1.0066786435913269,
          0.6693932765919429,
          0.8216220801868421,
          0.9498961119102792,
          0.5088833315836191,
          0.7754340170168444,
          0.0236734135472909,
          1.8939399348292925,
          0.5497743355755781,
          0.0795184733454864,
          0.1908307162074229,
          0.1789455949676963,
          0.0317737186501466,
          0.6737707488734427,
          1.469493492402328,
          0.3260096920420436,
          0.2015844104800393,
          0.3187446279054857,
          0.3196972708207754,
          0.1685709179537775,
          0.138615099446544,
          0.2149893180936911,
          0.2252598906700756,
          0.0942013315032694,
          0.0344724309877295,
          0.2095007788701034,
          0.2231110416547001,
          0.0940782957937925,
          0.0281543419051597,
          0.1923639928953381,
          0.0883203054224241,
          1.8544644601826203,
          0.1833711189091202,
          0.1608342538260988,
          1.3367955820748127,
          0.7263350871911332,
          1.1903105756084895,
          0.8573241336126876,
          0.9301807068834969,
          0.722712609631491,
          1.8891110542169791,
          1.3917934311446711,
          1.2237287200178153,
          1.008238090713704,
          1.2260669763655552,
          0.9547541284944272,
          0.7405280130466223,
          0.6403356319518531,
          0.6350281382961056,
          0.5410921103697468,
          0.3960263777535461,
          0.3098147841873031,
          0.3669610520778126,
          0.275002509165018,
          0.2128593681877958,
          1.371463946266309,
          1.7283990663736295,
          0.4600973961124133,
          1.022998923418374,
          1.2327399080398926,
          1.0676645363449466,
          1.3304454913107435,
          0.951353729268582,
          0.7585230860043213,
          0.679239119693008,
          2.0244067608347187,
          1.3814167617515714,
          1.1993304202006374,
          1.2975867445456046,
          0.7307682971929315,
          1.0043533090545842,
          0.7732692069527314,
          0.6082695241375816,
          2.002246381874077,
          0.1574033445952003,
          1.1011073198766377,
          0.8926179799600771,
          1.3113927694162648,
          0.9969208698784238,
          0.1860554632200176,
          1.3002053956722508,
          0.1672869089865245,
          1.2905200456873116,
          0.3031820075478816,
          0.3652182728236809,
          0.2947586064686236,
          0.2118401958960488,
          0.1637966387463651,
          0.1782683860266254,
          0.0756490080048806,
          0.0302025869931007,
          0.1626912090004803,
          0.1736480344179324,
          0.0716128020513996,
          0.0211328487758274,
          1.892695558821519,
          0.9924339737903164,
          0.4908202298180427,
          1.1400157480943334,
          1.3590815448479836,
          0.8871672150091934,
          0.7654927446880044,
          0.6244439468341502,
          0.6328134124140545,
          0.4538458828458693,
          0.3526616086329559,
          0.2589038956574657,
          0.3574639414497052,
          0.2583594317353039,
          0.2495450460552838,
          0.0719497649364373,
          0.412191113873274,
          0.1488056631387041,
          1.1642952104637552,
          0.0689598279520552,
          1.9187666521339912,
          1.4624730915404955,
          1.1281124773244922,
          0.1679069244555761,
          1.2858452503536384,
          0.9669556375929664,
          0.8487199476753222,
          0.6383141904878112,
          0.6666889237047712,
          0.157257443104021,
          0.0256156047921071,
          0.0202769630158416
         ],
         "yaxis": "y"
        },
        {
         "hovertemplate": "color=LLS<br>symbol=LLS<br>noise_factor=%{x}<br>rmsd_linear=%{y}<extra></extra>",
         "legendgroup": "LLS, LLS",
         "marker": {
          "color": "#2ca02c",
          "opacity": 0.5,
          "size": 20,
          "symbol": "square"
         },
         "mode": "markers",
         "name": "LLS, LLS",
         "orientation": "v",
         "showlegend": true,
         "type": "scatter",
         "x": [
          0,
          0.1,
          0.2,
          0.2,
          0.1,
          0.1,
          0.1,
          0.1,
          0.01,
          0.01,
          0.01,
          0.01,
          0.1,
          0.1,
          0.2,
          0,
          0.2,
          0.2,
          0.2,
          0.4,
          0.4,
          0,
          0,
          0.4,
          0.6,
          0.6,
          0.6,
          0.6,
          0.4,
          0.4,
          0.4,
          0.4,
          0.4,
          0.6,
          0.6,
          0.6,
          0.6,
          0,
          0,
          0,
          0,
          0.01,
          0.01,
          0.01,
          0.01,
          0.1,
          0.2,
          0,
          0.2,
          0.2,
          0.2,
          0.1,
          0.2,
          0.1,
          0.1,
          0.1,
          0.01,
          0.01,
          0.01,
          0.01,
          0,
          0,
          0.2,
          0.2,
          0.4,
          0.4,
          0.6,
          0.4,
          0.4,
          0.4,
          0.4,
          0.6,
          0.6,
          0.6,
          0.6,
          0.4,
          0.4,
          0.4,
          0.4,
          0.6,
          0.6,
          0.6,
          0.6,
          0.4,
          0.4,
          0.4,
          0.4,
          0.6,
          0.6,
          0.6,
          0.6,
          0.4,
          0.4,
          0.4,
          0.4,
          0.6,
          0.6,
          0.6,
          0.01,
          0.4,
          0.4,
          0.6,
          0.6,
          0.6,
          0.6,
          0,
          0,
          0,
          0,
          0.01,
          0.01,
          0.01,
          0.1,
          0.6,
          0.1,
          0.1,
          0.1,
          0.2,
          0.2,
          0.2,
          0.4,
          0.4,
          0.4,
          0.4,
          0.6,
          0.6,
          0.6,
          0
         ],
         "xaxis": "x",
         "y": [
          0.0610590601308598,
          0.3348831032369678,
          0.3935337783394576,
          0.3518354829456242,
          0.3619025535827142,
          0.3182709721878824,
          0.1714241591488163,
          0.1562122791969665,
          0.1698192598398657,
          0.1870485454120961,
          0.0652338345759799,
          0.0220123283207398,
          0.1841874549971124,
          0.2830531684019382,
          0.2693848267524147,
          0.0153027967167392,
          0.3537759855006468,
          0.4547028529443658,
          0.6235509321416279,
          0.7448468782195856,
          0.7225755212501079,
          0.1691659561203335,
          0.1841739767722054,
          1.0229988439487712,
          0.9445195121455128,
          1.094663314318222,
          1.5732457999675338,
          1.7117617798391065,
          0.8459461334492548,
          0.5932964792191597,
          0.7505096137730451,
          0.637170013668736,
          1.1918015817038297,
          0.8672796238840063,
          0.6780129479168603,
          1.2153309019292255,
          1.7397233629212512,
          0.0175923026786515,
          0.0700536739982827,
          0.2103939982570153,
          0.1933486903670692,
          0.0237382394409376,
          0.0746128371342721,
          0.2132641547074145,
          0.1958244134828401,
          0.13833646324359,
          0.4748394466003464,
          0.0906921916099323,
          0.5248152860471947,
          0.3007624025303547,
          0.3349281583375456,
          0.357970033029529,
          0.6410860096748457,
          0.3573917712290348,
          0.2445970503408071,
          0.1164471616692869,
          0.2522334976769634,
          0.2693413004811687,
          0.0908241765541874,
          0.025749578567061,
          0.2486169217114501,
          0.2702753370198168,
          0.4782275103045258,
          0.532861941144854,
          0.6818985331755228,
          0.7769383314371006,
          1.0938944336225953,
          1.308757577877096,
          0.9833377714288012,
          0.7854627289245244,
          0.6700851655572969,
          2.021803468025684,
          1.4351007937914102,
          1.1764804176676342,
          0.943638278480272,
          1.286526411205403,
          0.9341543120873806,
          0.8231989842348462,
          0.590019260837438,
          1.865963806150473,
          1.3851495219331431,
          0.8572269079241035,
          1.0283842731149146,
          1.0634878070481646,
          0.7740094348118256,
          0.6913127379718044,
          0.5951602816975209,
          1.5924994349123616,
          1.4774540433524992,
          0.9667581853291678,
          0.8454591242165397,
          1.1738140774525885,
          0.8044923038750718,
          0.6465992026224172,
          0.518787468311025,
          1.2052182452783755,
          1.5029854978133252,
          1.9894363957004813,
          0.1669319047633357,
          0.9368959178713476,
          1.3480609573067006,
          1.1026328164969867,
          1.2354183889059327,
          1.5437658579454756,
          1.952848454093819,
          0.0145886696200993,
          0.0582501990794154,
          0.1759597235824891,
          0.161593182311593,
          0.0217933463435329,
          0.061266114831496,
          0.1789279572097512,
          0.1855507553276358,
          1.915867726816248,
          0.1721822927893176,
          0.3133435958388589,
          0.3404259377095601,
          0.3358631534648869,
          0.4657513131315257,
          0.6802498188889301,
          0.7339643991460836,
          0.7494821174055765,
          1.0155911218838294,
          1.2960600029249838,
          1.128876911925633,
          1.1507286162704782,
          1.5174504373749218,
          0.0228517500000442
         ],
         "yaxis": "y"
        }
       ],
       "layout": {
        "height": 555,
        "legend": {
         "font": {
          "family": "CMU",
          "size": 30
         },
         "title": {
          "text": "Estimator, Estimator"
         },
         "tracegroupgap": 0
        },
        "margin": {
         "t": 60
        },
        "template": {
         "data": {
          "bar": [
           {
            "error_x": {
             "color": "#2a3f5f"
            },
            "error_y": {
             "color": "#2a3f5f"
            },
            "marker": {
             "line": {
              "color": "#E5ECF6",
              "width": 0.5
             },
             "pattern": {
              "fillmode": "overlay",
              "size": 10,
              "solidity": 0.2
             }
            },
            "type": "bar"
           }
          ],
          "barpolar": [
           {
            "marker": {
             "line": {
              "color": "#E5ECF6",
              "width": 0.5
             },
             "pattern": {
              "fillmode": "overlay",
              "size": 10,
              "solidity": 0.2
             }
            },
            "type": "barpolar"
           }
          ],
          "carpet": [
           {
            "aaxis": {
             "endlinecolor": "#2a3f5f",
             "gridcolor": "white",
             "linecolor": "white",
             "minorgridcolor": "white",
             "startlinecolor": "#2a3f5f"
            },
            "baxis": {
             "endlinecolor": "#2a3f5f",
             "gridcolor": "white",
             "linecolor": "white",
             "minorgridcolor": "white",
             "startlinecolor": "#2a3f5f"
            },
            "type": "carpet"
           }
          ],
          "choropleth": [
           {
            "colorbar": {
             "outlinewidth": 0,
             "ticks": ""
            },
            "type": "choropleth"
           }
          ],
          "contour": [
           {
            "colorbar": {
             "outlinewidth": 0,
             "ticks": ""
            },
            "colorscale": [
             [
              0,
              "#0d0887"
             ],
             [
              0.1111111111111111,
              "#46039f"
             ],
             [
              0.2222222222222222,
              "#7201a8"
             ],
             [
              0.3333333333333333,
              "#9c179e"
             ],
             [
              0.4444444444444444,
              "#bd3786"
             ],
             [
              0.5555555555555556,
              "#d8576b"
             ],
             [
              0.6666666666666666,
              "#ed7953"
             ],
             [
              0.7777777777777778,
              "#fb9f3a"
             ],
             [
              0.8888888888888888,
              "#fdca26"
             ],
             [
              1,
              "#f0f921"
             ]
            ],
            "type": "contour"
           }
          ],
          "contourcarpet": [
           {
            "colorbar": {
             "outlinewidth": 0,
             "ticks": ""
            },
            "type": "contourcarpet"
           }
          ],
          "heatmap": [
           {
            "colorbar": {
             "outlinewidth": 0,
             "ticks": ""
            },
            "colorscale": [
             [
              0,
              "#0d0887"
             ],
             [
              0.1111111111111111,
              "#46039f"
             ],
             [
              0.2222222222222222,
              "#7201a8"
             ],
             [
              0.3333333333333333,
              "#9c179e"
             ],
             [
              0.4444444444444444,
              "#bd3786"
             ],
             [
              0.5555555555555556,
              "#d8576b"
             ],
             [
              0.6666666666666666,
              "#ed7953"
             ],
             [
              0.7777777777777778,
              "#fb9f3a"
             ],
             [
              0.8888888888888888,
              "#fdca26"
             ],
             [
              1,
              "#f0f921"
             ]
            ],
            "type": "heatmap"
           }
          ],
          "heatmapgl": [
           {
            "colorbar": {
             "outlinewidth": 0,
             "ticks": ""
            },
            "colorscale": [
             [
              0,
              "#0d0887"
             ],
             [
              0.1111111111111111,
              "#46039f"
             ],
             [
              0.2222222222222222,
              "#7201a8"
             ],
             [
              0.3333333333333333,
              "#9c179e"
             ],
             [
              0.4444444444444444,
              "#bd3786"
             ],
             [
              0.5555555555555556,
              "#d8576b"
             ],
             [
              0.6666666666666666,
              "#ed7953"
             ],
             [
              0.7777777777777778,
              "#fb9f3a"
             ],
             [
              0.8888888888888888,
              "#fdca26"
             ],
             [
              1,
              "#f0f921"
             ]
            ],
            "type": "heatmapgl"
           }
          ],
          "histogram": [
           {
            "marker": {
             "pattern": {
              "fillmode": "overlay",
              "size": 10,
              "solidity": 0.2
             }
            },
            "type": "histogram"
           }
          ],
          "histogram2d": [
           {
            "colorbar": {
             "outlinewidth": 0,
             "ticks": ""
            },
            "colorscale": [
             [
              0,
              "#0d0887"
             ],
             [
              0.1111111111111111,
              "#46039f"
             ],
             [
              0.2222222222222222,
              "#7201a8"
             ],
             [
              0.3333333333333333,
              "#9c179e"
             ],
             [
              0.4444444444444444,
              "#bd3786"
             ],
             [
              0.5555555555555556,
              "#d8576b"
             ],
             [
              0.6666666666666666,
              "#ed7953"
             ],
             [
              0.7777777777777778,
              "#fb9f3a"
             ],
             [
              0.8888888888888888,
              "#fdca26"
             ],
             [
              1,
              "#f0f921"
             ]
            ],
            "type": "histogram2d"
           }
          ],
          "histogram2dcontour": [
           {
            "colorbar": {
             "outlinewidth": 0,
             "ticks": ""
            },
            "colorscale": [
             [
              0,
              "#0d0887"
             ],
             [
              0.1111111111111111,
              "#46039f"
             ],
             [
              0.2222222222222222,
              "#7201a8"
             ],
             [
              0.3333333333333333,
              "#9c179e"
             ],
             [
              0.4444444444444444,
              "#bd3786"
             ],
             [
              0.5555555555555556,
              "#d8576b"
             ],
             [
              0.6666666666666666,
              "#ed7953"
             ],
             [
              0.7777777777777778,
              "#fb9f3a"
             ],
             [
              0.8888888888888888,
              "#fdca26"
             ],
             [
              1,
              "#f0f921"
             ]
            ],
            "type": "histogram2dcontour"
           }
          ],
          "mesh3d": [
           {
            "colorbar": {
             "outlinewidth": 0,
             "ticks": ""
            },
            "type": "mesh3d"
           }
          ],
          "parcoords": [
           {
            "line": {
             "colorbar": {
              "outlinewidth": 0,
              "ticks": ""
             }
            },
            "type": "parcoords"
           }
          ],
          "pie": [
           {
            "automargin": true,
            "type": "pie"
           }
          ],
          "scatter": [
           {
            "fillpattern": {
             "fillmode": "overlay",
             "size": 10,
             "solidity": 0.2
            },
            "type": "scatter"
           }
          ],
          "scatter3d": [
           {
            "line": {
             "colorbar": {
              "outlinewidth": 0,
              "ticks": ""
             }
            },
            "marker": {
             "colorbar": {
              "outlinewidth": 0,
              "ticks": ""
             }
            },
            "type": "scatter3d"
           }
          ],
          "scattercarpet": [
           {
            "marker": {
             "colorbar": {
              "outlinewidth": 0,
              "ticks": ""
             }
            },
            "type": "scattercarpet"
           }
          ],
          "scattergeo": [
           {
            "marker": {
             "colorbar": {
              "outlinewidth": 0,
              "ticks": ""
             }
            },
            "type": "scattergeo"
           }
          ],
          "scattergl": [
           {
            "marker": {
             "colorbar": {
              "outlinewidth": 0,
              "ticks": ""
             }
            },
            "type": "scattergl"
           }
          ],
          "scattermapbox": [
           {
            "marker": {
             "colorbar": {
              "outlinewidth": 0,
              "ticks": ""
             }
            },
            "type": "scattermapbox"
           }
          ],
          "scatterpolar": [
           {
            "marker": {
             "colorbar": {
              "outlinewidth": 0,
              "ticks": ""
             }
            },
            "type": "scatterpolar"
           }
          ],
          "scatterpolargl": [
           {
            "marker": {
             "colorbar": {
              "outlinewidth": 0,
              "ticks": ""
             }
            },
            "type": "scatterpolargl"
           }
          ],
          "scatterternary": [
           {
            "marker": {
             "colorbar": {
              "outlinewidth": 0,
              "ticks": ""
             }
            },
            "type": "scatterternary"
           }
          ],
          "surface": [
           {
            "colorbar": {
             "outlinewidth": 0,
             "ticks": ""
            },
            "colorscale": [
             [
              0,
              "#0d0887"
             ],
             [
              0.1111111111111111,
              "#46039f"
             ],
             [
              0.2222222222222222,
              "#7201a8"
             ],
             [
              0.3333333333333333,
              "#9c179e"
             ],
             [
              0.4444444444444444,
              "#bd3786"
             ],
             [
              0.5555555555555556,
              "#d8576b"
             ],
             [
              0.6666666666666666,
              "#ed7953"
             ],
             [
              0.7777777777777778,
              "#fb9f3a"
             ],
             [
              0.8888888888888888,
              "#fdca26"
             ],
             [
              1,
              "#f0f921"
             ]
            ],
            "type": "surface"
           }
          ],
          "table": [
           {
            "cells": {
             "fill": {
              "color": "#EBF0F8"
             },
             "line": {
              "color": "white"
             }
            },
            "header": {
             "fill": {
              "color": "#C8D4E3"
             },
             "line": {
              "color": "white"
             }
            },
            "type": "table"
           }
          ]
         },
         "layout": {
          "annotationdefaults": {
           "arrowcolor": "#2a3f5f",
           "arrowhead": 0,
           "arrowwidth": 1
          },
          "autotypenumbers": "strict",
          "coloraxis": {
           "colorbar": {
            "outlinewidth": 0,
            "ticks": ""
           }
          },
          "colorscale": {
           "diverging": [
            [
             0,
             "#8e0152"
            ],
            [
             0.1,
             "#c51b7d"
            ],
            [
             0.2,
             "#de77ae"
            ],
            [
             0.3,
             "#f1b6da"
            ],
            [
             0.4,
             "#fde0ef"
            ],
            [
             0.5,
             "#f7f7f7"
            ],
            [
             0.6,
             "#e6f5d0"
            ],
            [
             0.7,
             "#b8e186"
            ],
            [
             0.8,
             "#7fbc41"
            ],
            [
             0.9,
             "#4d9221"
            ],
            [
             1,
             "#276419"
            ]
           ],
           "sequential": [
            [
             0,
             "#0d0887"
            ],
            [
             0.1111111111111111,
             "#46039f"
            ],
            [
             0.2222222222222222,
             "#7201a8"
            ],
            [
             0.3333333333333333,
             "#9c179e"
            ],
            [
             0.4444444444444444,
             "#bd3786"
            ],
            [
             0.5555555555555556,
             "#d8576b"
            ],
            [
             0.6666666666666666,
             "#ed7953"
            ],
            [
             0.7777777777777778,
             "#fb9f3a"
            ],
            [
             0.8888888888888888,
             "#fdca26"
            ],
            [
             1,
             "#f0f921"
            ]
           ],
           "sequentialminus": [
            [
             0,
             "#0d0887"
            ],
            [
             0.1111111111111111,
             "#46039f"
            ],
            [
             0.2222222222222222,
             "#7201a8"
            ],
            [
             0.3333333333333333,
             "#9c179e"
            ],
            [
             0.4444444444444444,
             "#bd3786"
            ],
            [
             0.5555555555555556,
             "#d8576b"
            ],
            [
             0.6666666666666666,
             "#ed7953"
            ],
            [
             0.7777777777777778,
             "#fb9f3a"
            ],
            [
             0.8888888888888888,
             "#fdca26"
            ],
            [
             1,
             "#f0f921"
            ]
           ]
          },
          "colorway": [
           "#636efa",
           "#EF553B",
           "#00cc96",
           "#ab63fa",
           "#FFA15A",
           "#19d3f3",
           "#FF6692",
           "#B6E880",
           "#FF97FF",
           "#FECB52"
          ],
          "font": {
           "color": "#2a3f5f"
          },
          "geo": {
           "bgcolor": "white",
           "lakecolor": "white",
           "landcolor": "#E5ECF6",
           "showlakes": true,
           "showland": true,
           "subunitcolor": "white"
          },
          "hoverlabel": {
           "align": "left"
          },
          "hovermode": "closest",
          "mapbox": {
           "style": "light"
          },
          "paper_bgcolor": "white",
          "plot_bgcolor": "#E5ECF6",
          "polar": {
           "angularaxis": {
            "gridcolor": "white",
            "linecolor": "white",
            "ticks": ""
           },
           "bgcolor": "#E5ECF6",
           "radialaxis": {
            "gridcolor": "white",
            "linecolor": "white",
            "ticks": ""
           }
          },
          "scene": {
           "xaxis": {
            "backgroundcolor": "#E5ECF6",
            "gridcolor": "white",
            "gridwidth": 2,
            "linecolor": "white",
            "showbackground": true,
            "ticks": "",
            "zerolinecolor": "white"
           },
           "yaxis": {
            "backgroundcolor": "#E5ECF6",
            "gridcolor": "white",
            "gridwidth": 2,
            "linecolor": "white",
            "showbackground": true,
            "ticks": "",
            "zerolinecolor": "white"
           },
           "zaxis": {
            "backgroundcolor": "#E5ECF6",
            "gridcolor": "white",
            "gridwidth": 2,
            "linecolor": "white",
            "showbackground": true,
            "ticks": "",
            "zerolinecolor": "white"
           }
          },
          "shapedefaults": {
           "line": {
            "color": "#2a3f5f"
           }
          },
          "ternary": {
           "aaxis": {
            "gridcolor": "white",
            "linecolor": "white",
            "ticks": ""
           },
           "baxis": {
            "gridcolor": "white",
            "linecolor": "white",
            "ticks": ""
           },
           "bgcolor": "#E5ECF6",
           "caxis": {
            "gridcolor": "white",
            "linecolor": "white",
            "ticks": ""
           }
          },
          "title": {
           "x": 0.05
          },
          "xaxis": {
           "automargin": true,
           "gridcolor": "white",
           "linecolor": "white",
           "ticks": "",
           "title": {
            "standoff": 15
           },
           "zerolinecolor": "white",
           "zerolinewidth": 2
          },
          "yaxis": {
           "automargin": true,
           "gridcolor": "white",
           "linecolor": "white",
           "ticks": "",
           "title": {
            "standoff": 15
           },
           "zerolinecolor": "white",
           "zerolinewidth": 2
          }
         }
        },
        "title": {
         "font": {
          "family": "CMU",
          "size": 30
         },
         "text": "model_2 rmsd_linear hypersphere"
        },
        "width": 1170,
        "xaxis": {
         "anchor": "y",
         "autorange": true,
         "domain": [
          0,
          1
         ],
         "range": [
          -0.04606569900687548,
          0.6460656990068755
         ],
         "tickfont": {
          "family": "CMU",
          "size": 30
         },
         "title": {
          "font": {
           "family": "CMU",
           "size": 30
          },
          "text": "Noise Factor"
         },
         "type": "linear"
        },
        "yaxis": {
         "anchor": "x",
         "autorange": true,
         "domain": [
          0,
          1
         ],
         "range": [
          -0.19315794959200974,
          2.383152708114388
         ],
         "tickfont": {
          "family": "CMU",
          "size": 30
         },
         "title": {
          "font": {
           "family": "CMU",
           "size": 30
          },
          "text": "RMSD, linear dist"
         },
         "type": "linear"
        }
       }
      },
      "image/png": "[encoded data removed]",
      "text/html": [
       "<div>                            <div id=\"649b612f-a039-4c65-94b8-03eaa317f97d\" class=\"plotly-graph-div\" style=\"height:555.0px; width:1170.0px;\"></div>            <script type=\"text/javascript\">                require([\"plotly\"], function(Plotly) {                    window.PLOTLYENV=window.PLOTLYENV || {};                                    if (document.getElementById(\"649b612f-a039-4c65-94b8-03eaa317f97d\")) {                    Plotly.newPlot(                        \"649b612f-a039-4c65-94b8-03eaa317f97d\",                        [{\"hovertemplate\":\"color=Lin2015\\u003cbr\\u003esymbol=Lin2015\\u003cbr\\u003enoise_factor=%{x}\\u003cbr\\u003ermsd_linear=%{y}\\u003cextra\\u003e\\u003c\\u002fextra\\u003e\",\"legendgroup\":\"Lin2015, Lin2015\",\"marker\":{\"color\":\"#FF1493\",\"symbol\":\"arrow-left\",\"opacity\":0.5,\"size\":20},\"mode\":\"markers\",\"name\":\"Lin2015, Lin2015\",\"orientation\":\"v\",\"showlegend\":true,\"x\":[0.6,0.01,0.2,0.2,0.2,0.1,0.1,0.1,0.1,0.01,0.01,0.01,0.01,0.0,0.0,0.0,0.0,0.6,0.6,0.6,0.4,0.4,0.4,0.4,0.2,0.2,0.2,0.2,0.1,0.1,0.1,0.2,0.4,0.4,0.1,0.6,0.6,0.6,0.4,0.4,0.4,0.4,0.2,0.2,0.2,0.2,0.1,0.1,0.1,0.4,0.01,0.01,0.01,0.01,0.0,0.0,0.0,0.0,0.6,0.6,0.6,0.6,0.4,0.1,0.6,0.01,0.6,0.01,0.0,0.0,0.0,0.0,0.6,0.6,0.6,0.6,0.4,0.4,0.4,0.4,0.2,0.2,0.2,0.2,0.1,0.1,0.1,0.1,0.01,0.01,0.01,0.01,0.0,0.0,0.0,0.0,0.01,0.4,0.6,0.6,0.6,0.4,0.4,0.4,0.6,0.6,0.6,0.6,0.4,0.4,0.4,0.6,0.6,0.4,0.6,0.6,0.6,0.4,0.4,0.4,0.6,0.6,0.4,0.6,0.4,0.4,0.4,0.4],\"xaxis\":\"x\",\"y\":[1.9589811852107404,0.192826585831788,0.4480358670059197,0.3786460977372884,0.3138684742090984,0.368557256493777,0.2799508918542394,0.2235812508183657,0.1581442356613378,0.1714284513570732,0.1848639034007472,0.062362229072011,0.024095896107028,0.1691659561203335,0.1841739767722054,0.0610590601308598,0.0153027967167392,1.797574990602419,1.0188255110195008,0.9724024608153546,1.398665326592676,0.951709134119034,0.8788437918010091,0.7769914119206229,0.6157765718243537,0.4412774568147246,0.4144404581403328,0.2818185786689661,0.3218467661268167,0.3269468387065225,0.2005734491514661,0.6441134675236275,0.6228486257547543,0.7366612344351614,0.1966157615071938,1.4718636437630472,1.0895151518801904,1.037632069182142,1.2925803181175506,1.0370141459767193,0.7942903991601413,0.7091242157318365,0.6368443060987437,0.5074152388765575,0.3870833278060724,0.307153418246509,0.3449316886667499,0.3184891780029258,0.1485896094692181,0.99322400043552,0.1650452572419816,0.1756781086637973,0.0627534086434975,0.0220180928435459,0.161593182311593,0.1759597235824892,0.0582501990794154,0.0145886696200993,1.991897139058055,1.507446884832521,1.2701936059404495,1.007699861791229,1.377784602901865,0.1848642147766045,1.6868100045293948,0.2154638898596016,1.96645350829424,0.0222147287013999,0.1933486903670692,0.2103939982570153,0.0700536739982827,0.0175923026786514,1.7393598718815386,1.2216241205939746,0.5999037797261906,0.6386376914911319,1.0658195677962146,0.8681915736731024,0.6445253987394989,0.6951920560744962,0.6011116511535474,0.4305171904842941,0.2805041969227721,0.2867943563708426,0.3362807449811545,0.332428140135748,0.1468133828556058,0.1414494368859647,0.2574533923451044,0.2738240178386562,0.0933945266706021,0.0266666896745366,0.2486169217114501,0.2702753370198168,0.0906921916099323,0.0228517500000442,0.0705530033229514,0.906140959500286,1.5875302888293732,1.2772802541683366,1.1405473154586037,0.8105772372912226,0.8854240682596359,0.9476185657963168,0.9594373964183158,0.8237846669933925,1.0977180266600377,1.8158015410757748,0.5201479601705871,1.1182127292570188,1.2618348157407422,0.7002801221341118,1.0387190925564551,0.7872988655371175,2.175406088902279,1.0612178465134263,0.9919865374710498,0.985659231286816,0.7471495274251213,0.6981669109902509,1.854833593905182,1.381160024062162,1.3518968784653618,1.0607500142145967,1.3222236528699922,0.9716698586272616,0.7608255758199266,0.6493259695395506],\"yaxis\":\"y\",\"type\":\"scatter\"},{\"hovertemplate\":\"color=LR\\u003cbr\\u003esymbol=LR\\u003cbr\\u003enoise_factor=%{x}\\u003cbr\\u003ermsd_linear=%{y}\\u003cextra\\u003e\\u003c\\u002fextra\\u003e\",\"legendgroup\":\"LR, LR\",\"marker\":{\"color\":\"#3300FF\",\"symbol\":\"circle\",\"opacity\":0.5,\"size\":20},\"mode\":\"markers\",\"name\":\"LR, LR\",\"orientation\":\"v\",\"showlegend\":true,\"x\":[0.6,0.4,0.4,0.4,0.4,0.6,0.6,0.0,0.6,0.2,0.0,0.0,0.0,0.01,0.2,0.6,0.2,0.2,0.1,0.1,0.1,0.1,0.01,0.01,0.01,0.01,0.0,0.0,0.0,0.0,0.01,0.01,0.6,0.01,0.01,0.6,0.6,0.4,0.4,0.4,0.4,0.6,0.6,0.6,0.6,0.4,0.4,0.4,0.4,0.2,0.2,0.2,0.2,0.1,0.1,0.1,0.6,0.6,0.4,0.6,0.6,0.6,0.4,0.4,0.4,0.4,0.6,0.6,0.6,0.4,0.4,0.4,0.4,0.4,0.6,0.1,0.6,0.6,0.4,0.4,0.1,0.6,0.01,0.6,0.2,0.1,0.1,0.1,0.01,0.01,0.01,0.01,0.0,0.0,0.0,0.0,0.6,0.6,0.2,0.6,0.4,0.4,0.4,0.4,0.2,0.2,0.2,0.2,0.1,0.1,0.1,0.01,0.2,0.1,0.6,0.0,0.6,0.6,0.6,0.0,0.4,0.4,0.4,0.4,0.2,0.0,0.01,0.0],\"xaxis\":\"x\",\"y\":[1.4547672104903038,1.0066786435913269,0.6693932765919429,0.8216220801868421,0.9498961119102792,0.5088833315836191,0.7754340170168444,0.0236734135472909,1.8939399348292925,0.5497743355755781,0.0795184733454864,0.1908307162074229,0.1789455949676963,0.0317737186501466,0.6737707488734427,1.469493492402328,0.3260096920420436,0.2015844104800393,0.3187446279054857,0.3196972708207754,0.1685709179537775,0.138615099446544,0.2149893180936911,0.2252598906700756,0.0942013315032694,0.0344724309877295,0.2095007788701034,0.2231110416547001,0.0940782957937925,0.0281543419051597,0.1923639928953381,0.0883203054224241,1.8544644601826203,0.1833711189091202,0.1608342538260988,1.3367955820748127,0.7263350871911332,1.1903105756084895,0.8573241336126876,0.9301807068834969,0.722712609631491,1.8891110542169791,1.3917934311446711,1.2237287200178153,1.008238090713704,1.2260669763655552,0.9547541284944272,0.7405280130466223,0.6403356319518531,0.6350281382961056,0.5410921103697468,0.3960263777535461,0.3098147841873031,0.3669610520778126,0.275002509165018,0.2128593681877958,1.371463946266309,1.7283990663736295,0.4600973961124133,1.022998923418374,1.2327399080398926,1.0676645363449466,1.3304454913107435,0.951353729268582,0.7585230860043213,0.679239119693008,2.0244067608347187,1.3814167617515714,1.1993304202006374,1.2975867445456046,0.7307682971929315,1.0043533090545842,0.7732692069527314,0.6082695241375816,2.002246381874077,0.1574033445952003,1.1011073198766377,0.8926179799600771,1.3113927694162648,0.9969208698784238,0.1860554632200176,1.3002053956722508,0.1672869089865245,1.2905200456873116,0.3031820075478816,0.3652182728236809,0.2947586064686236,0.2118401958960488,0.1637966387463651,0.1782683860266254,0.0756490080048806,0.0302025869931007,0.1626912090004803,0.1736480344179324,0.0716128020513996,0.0211328487758274,1.892695558821519,0.9924339737903164,0.4908202298180427,1.1400157480943334,1.3590815448479836,0.8871672150091934,0.7654927446880044,0.6244439468341502,0.6328134124140545,0.4538458828458693,0.3526616086329559,0.2589038956574657,0.3574639414497052,0.2583594317353039,0.2495450460552838,0.0719497649364373,0.412191113873274,0.1488056631387041,1.1642952104637552,0.0689598279520552,1.9187666521339912,1.4624730915404955,1.1281124773244922,0.1679069244555761,1.2858452503536384,0.9669556375929664,0.8487199476753222,0.6383141904878112,0.6666889237047712,0.157257443104021,0.0256156047921071,0.0202769630158416],\"yaxis\":\"y\",\"type\":\"scatter\"},{\"hovertemplate\":\"color=LLS\\u003cbr\\u003esymbol=LLS\\u003cbr\\u003enoise_factor=%{x}\\u003cbr\\u003ermsd_linear=%{y}\\u003cextra\\u003e\\u003c\\u002fextra\\u003e\",\"legendgroup\":\"LLS, LLS\",\"marker\":{\"color\":\"#2ca02c\",\"symbol\":\"square\",\"opacity\":0.5,\"size\":20},\"mode\":\"markers\",\"name\":\"LLS, LLS\",\"orientation\":\"v\",\"showlegend\":true,\"x\":[0.0,0.1,0.2,0.2,0.1,0.1,0.1,0.1,0.01,0.01,0.01,0.01,0.1,0.1,0.2,0.0,0.2,0.2,0.2,0.4,0.4,0.0,0.0,0.4,0.6,0.6,0.6,0.6,0.4,0.4,0.4,0.4,0.4,0.6,0.6,0.6,0.6,0.0,0.0,0.0,0.0,0.01,0.01,0.01,0.01,0.1,0.2,0.0,0.2,0.2,0.2,0.1,0.2,0.1,0.1,0.1,0.01,0.01,0.01,0.01,0.0,0.0,0.2,0.2,0.4,0.4,0.6,0.4,0.4,0.4,0.4,0.6,0.6,0.6,0.6,0.4,0.4,0.4,0.4,0.6,0.6,0.6,0.6,0.4,0.4,0.4,0.4,0.6,0.6,0.6,0.6,0.4,0.4,0.4,0.4,0.6,0.6,0.6,0.01,0.4,0.4,0.6,0.6,0.6,0.6,0.0,0.0,0.0,0.0,0.01,0.01,0.01,0.1,0.6,0.1,0.1,0.1,0.2,0.2,0.2,0.4,0.4,0.4,0.4,0.6,0.6,0.6,0.0],\"xaxis\":\"x\",\"y\":[0.0610590601308598,0.3348831032369678,0.3935337783394576,0.3518354829456242,0.3619025535827142,0.3182709721878824,0.1714241591488163,0.1562122791969665,0.1698192598398657,0.1870485454120961,0.0652338345759799,0.0220123283207398,0.1841874549971124,0.2830531684019382,0.2693848267524147,0.0153027967167392,0.3537759855006468,0.4547028529443658,0.6235509321416279,0.7448468782195856,0.7225755212501079,0.1691659561203335,0.1841739767722054,1.0229988439487712,0.9445195121455128,1.094663314318222,1.5732457999675338,1.7117617798391065,0.8459461334492548,0.5932964792191597,0.7505096137730451,0.637170013668736,1.1918015817038297,0.8672796238840063,0.6780129479168603,1.2153309019292255,1.7397233629212512,0.0175923026786515,0.0700536739982827,0.2103939982570153,0.1933486903670692,0.0237382394409376,0.0746128371342721,0.2132641547074145,0.1958244134828401,0.13833646324359,0.4748394466003464,0.0906921916099323,0.5248152860471947,0.3007624025303547,0.3349281583375456,0.357970033029529,0.6410860096748457,0.3573917712290348,0.2445970503408071,0.1164471616692869,0.2522334976769634,0.2693413004811687,0.0908241765541874,0.025749578567061,0.2486169217114501,0.2702753370198168,0.4782275103045258,0.532861941144854,0.6818985331755228,0.7769383314371006,1.0938944336225953,1.308757577877096,0.9833377714288012,0.7854627289245244,0.6700851655572969,2.021803468025684,1.4351007937914102,1.1764804176676342,0.943638278480272,1.286526411205403,0.9341543120873806,0.8231989842348462,0.590019260837438,1.865963806150473,1.3851495219331431,0.8572269079241035,1.0283842731149146,1.0634878070481646,0.7740094348118256,0.6913127379718044,0.5951602816975209,1.5924994349123616,1.4774540433524992,0.9667581853291678,0.8454591242165397,1.1738140774525885,0.8044923038750718,0.6465992026224172,0.518787468311025,1.2052182452783755,1.5029854978133252,1.9894363957004813,0.1669319047633357,0.9368959178713476,1.3480609573067006,1.1026328164969867,1.2354183889059327,1.5437658579454756,1.952848454093819,0.0145886696200993,0.0582501990794154,0.1759597235824891,0.161593182311593,0.0217933463435329,0.061266114831496,0.1789279572097512,0.1855507553276358,1.915867726816248,0.1721822927893176,0.3133435958388589,0.3404259377095601,0.3358631534648869,0.4657513131315257,0.6802498188889301,0.7339643991460836,0.7494821174055765,1.0155911218838294,1.2960600029249838,1.128876911925633,1.1507286162704782,1.5174504373749218,0.0228517500000442],\"yaxis\":\"y\",\"type\":\"scatter\"}],                        {\"template\":{\"data\":{\"histogram2dcontour\":[{\"type\":\"histogram2dcontour\",\"colorbar\":{\"outlinewidth\":0,\"ticks\":\"\"},\"colorscale\":[[0.0,\"#0d0887\"],[0.1111111111111111,\"#46039f\"],[0.2222222222222222,\"#7201a8\"],[0.3333333333333333,\"#9c179e\"],[0.4444444444444444,\"#bd3786\"],[0.5555555555555556,\"#d8576b\"],[0.6666666666666666,\"#ed7953\"],[0.7777777777777778,\"#fb9f3a\"],[0.8888888888888888,\"#fdca26\"],[1.0,\"#f0f921\"]]}],\"choropleth\":[{\"type\":\"choropleth\",\"colorbar\":{\"outlinewidth\":0,\"ticks\":\"\"}}],\"histogram2d\":[{\"type\":\"histogram2d\",\"colorbar\":{\"outlinewidth\":0,\"ticks\":\"\"},\"colorscale\":[[0.0,\"#0d0887\"],[0.1111111111111111,\"#46039f\"],[0.2222222222222222,\"#7201a8\"],[0.3333333333333333,\"#9c179e\"],[0.4444444444444444,\"#bd3786\"],[0.5555555555555556,\"#d8576b\"],[0.6666666666666666,\"#ed7953\"],[0.7777777777777778,\"#fb9f3a\"],[0.8888888888888888,\"#fdca26\"],[1.0,\"#f0f921\"]]}],\"heatmap\":[{\"type\":\"heatmap\",\"colorbar\":{\"outlinewidth\":0,\"ticks\":\"\"},\"colorscale\":[[0.0,\"#0d0887\"],[0.1111111111111111,\"#46039f\"],[0.2222222222222222,\"#7201a8\"],[0.3333333333333333,\"#9c179e\"],[0.4444444444444444,\"#bd3786\"],[0.5555555555555556,\"#d8576b\"],[0.6666666666666666,\"#ed7953\"],[0.7777777777777778,\"#fb9f3a\"],[0.8888888888888888,\"#fdca26\"],[1.0,\"#f0f921\"]]}],\"heatmapgl\":[{\"type\":\"heatmapgl\",\"colorbar\":{\"outlinewidth\":0,\"ticks\":\"\"},\"colorscale\":[[0.0,\"#0d0887\"],[0.1111111111111111,\"#46039f\"],[0.2222222222222222,\"#7201a8\"],[0.3333333333333333,\"#9c179e\"],[0.4444444444444444,\"#bd3786\"],[0.5555555555555556,\"#d8576b\"],[0.6666666666666666,\"#ed7953\"],[0.7777777777777778,\"#fb9f3a\"],[0.8888888888888888,\"#fdca26\"],[1.0,\"#f0f921\"]]}],\"contourcarpet\":[{\"type\":\"contourcarpet\",\"colorbar\":{\"outlinewidth\":0,\"ticks\":\"\"}}],\"contour\":[{\"type\":\"contour\",\"colorbar\":{\"outlinewidth\":0,\"ticks\":\"\"},\"colorscale\":[[0.0,\"#0d0887\"],[0.1111111111111111,\"#46039f\"],[0.2222222222222222,\"#7201a8\"],[0.3333333333333333,\"#9c179e\"],[0.4444444444444444,\"#bd3786\"],[0.5555555555555556,\"#d8576b\"],[0.6666666666666666,\"#ed7953\"],[0.7777777777777778,\"#fb9f3a\"],[0.8888888888888888,\"#fdca26\"],[1.0,\"#f0f921\"]]}],\"surface\":[{\"type\":\"surface\",\"colorbar\":{\"outlinewidth\":0,\"ticks\":\"\"},\"colorscale\":[[0.0,\"#0d0887\"],[0.1111111111111111,\"#46039f\"],[0.2222222222222222,\"#7201a8\"],[0.3333333333333333,\"#9c179e\"],[0.4444444444444444,\"#bd3786\"],[0.5555555555555556,\"#d8576b\"],[0.6666666666666666,\"#ed7953\"],[0.7777777777777778,\"#fb9f3a\"],[0.8888888888888888,\"#fdca26\"],[1.0,\"#f0f921\"]]}],\"mesh3d\":[{\"type\":\"mesh3d\",\"colorbar\":{\"outlinewidth\":0,\"ticks\":\"\"}}],\"scatter\":[{\"fillpattern\":{\"fillmode\":\"overlay\",\"size\":10,\"solidity\":0.2},\"type\":\"scatter\"}],\"parcoords\":[{\"type\":\"parcoords\",\"line\":{\"colorbar\":{\"outlinewidth\":0,\"ticks\":\"\"}}}],\"scatterpolargl\":[{\"type\":\"scatterpolargl\",\"marker\":{\"colorbar\":{\"outlinewidth\":0,\"ticks\":\"\"}}}],\"bar\":[{\"error_x\":{\"color\":\"#2a3f5f\"},\"error_y\":{\"color\":\"#2a3f5f\"},\"marker\":{\"line\":{\"color\":\"#E5ECF6\",\"width\":0.5},\"pattern\":{\"fillmode\":\"overlay\",\"size\":10,\"solidity\":0.2}},\"type\":\"bar\"}],\"scattergeo\":[{\"type\":\"scattergeo\",\"marker\":{\"colorbar\":{\"outlinewidth\":0,\"ticks\":\"\"}}}],\"scatterpolar\":[{\"type\":\"scatterpolar\",\"marker\":{\"colorbar\":{\"outlinewidth\":0,\"ticks\":\"\"}}}],\"histogram\":[{\"marker\":{\"pattern\":{\"fillmode\":\"overlay\",\"size\":10,\"solidity\":0.2}},\"type\":\"histogram\"}],\"scattergl\":[{\"type\":\"scattergl\",\"marker\":{\"colorbar\":{\"outlinewidth\":0,\"ticks\":\"\"}}}],\"scatter3d\":[{\"type\":\"scatter3d\",\"line\":{\"colorbar\":{\"outlinewidth\":0,\"ticks\":\"\"}},\"marker\":{\"colorbar\":{\"outlinewidth\":0,\"ticks\":\"\"}}}],\"scattermapbox\":[{\"type\":\"scattermapbox\",\"marker\":{\"colorbar\":{\"outlinewidth\":0,\"ticks\":\"\"}}}],\"scatterternary\":[{\"type\":\"scatterternary\",\"marker\":{\"colorbar\":{\"outlinewidth\":0,\"ticks\":\"\"}}}],\"scattercarpet\":[{\"type\":\"scattercarpet\",\"marker\":{\"colorbar\":{\"outlinewidth\":0,\"ticks\":\"\"}}}],\"carpet\":[{\"aaxis\":{\"endlinecolor\":\"#2a3f5f\",\"gridcolor\":\"white\",\"linecolor\":\"white\",\"minorgridcolor\":\"white\",\"startlinecolor\":\"#2a3f5f\"},\"baxis\":{\"endlinecolor\":\"#2a3f5f\",\"gridcolor\":\"white\",\"linecolor\":\"white\",\"minorgridcolor\":\"white\",\"startlinecolor\":\"#2a3f5f\"},\"type\":\"carpet\"}],\"table\":[{\"cells\":{\"fill\":{\"color\":\"#EBF0F8\"},\"line\":{\"color\":\"white\"}},\"header\":{\"fill\":{\"color\":\"#C8D4E3\"},\"line\":{\"color\":\"white\"}},\"type\":\"table\"}],\"barpolar\":[{\"marker\":{\"line\":{\"color\":\"#E5ECF6\",\"width\":0.5},\"pattern\":{\"fillmode\":\"overlay\",\"size\":10,\"solidity\":0.2}},\"type\":\"barpolar\"}],\"pie\":[{\"automargin\":true,\"type\":\"pie\"}]},\"layout\":{\"autotypenumbers\":\"strict\",\"colorway\":[\"#636efa\",\"#EF553B\",\"#00cc96\",\"#ab63fa\",\"#FFA15A\",\"#19d3f3\",\"#FF6692\",\"#B6E880\",\"#FF97FF\",\"#FECB52\"],\"font\":{\"color\":\"#2a3f5f\"},\"hovermode\":\"closest\",\"hoverlabel\":{\"align\":\"left\"},\"paper_bgcolor\":\"white\",\"plot_bgcolor\":\"#E5ECF6\",\"polar\":{\"bgcolor\":\"#E5ECF6\",\"angularaxis\":{\"gridcolor\":\"white\",\"linecolor\":\"white\",\"ticks\":\"\"},\"radialaxis\":{\"gridcolor\":\"white\",\"linecolor\":\"white\",\"ticks\":\"\"}},\"ternary\":{\"bgcolor\":\"#E5ECF6\",\"aaxis\":{\"gridcolor\":\"white\",\"linecolor\":\"white\",\"ticks\":\"\"},\"baxis\":{\"gridcolor\":\"white\",\"linecolor\":\"white\",\"ticks\":\"\"},\"caxis\":{\"gridcolor\":\"white\",\"linecolor\":\"white\",\"ticks\":\"\"}},\"coloraxis\":{\"colorbar\":{\"outlinewidth\":0,\"ticks\":\"\"}},\"colorscale\":{\"sequential\":[[0.0,\"#0d0887\"],[0.1111111111111111,\"#46039f\"],[0.2222222222222222,\"#7201a8\"],[0.3333333333333333,\"#9c179e\"],[0.4444444444444444,\"#bd3786\"],[0.5555555555555556,\"#d8576b\"],[0.6666666666666666,\"#ed7953\"],[0.7777777777777778,\"#fb9f3a\"],[0.8888888888888888,\"#fdca26\"],[1.0,\"#f0f921\"]],\"sequentialminus\":[[0.0,\"#0d0887\"],[0.1111111111111111,\"#46039f\"],[0.2222222222222222,\"#7201a8\"],[0.3333333333333333,\"#9c179e\"],[0.4444444444444444,\"#bd3786\"],[0.5555555555555556,\"#d8576b\"],[0.6666666666666666,\"#ed7953\"],[0.7777777777777778,\"#fb9f3a\"],[0.8888888888888888,\"#fdca26\"],[1.0,\"#f0f921\"]],\"diverging\":[[0,\"#8e0152\"],[0.1,\"#c51b7d\"],[0.2,\"#de77ae\"],[0.3,\"#f1b6da\"],[0.4,\"#fde0ef\"],[0.5,\"#f7f7f7\"],[0.6,\"#e6f5d0\"],[0.7,\"#b8e186\"],[0.8,\"#7fbc41\"],[0.9,\"#4d9221\"],[1,\"#276419\"]]},\"xaxis\":{\"gridcolor\":\"white\",\"linecolor\":\"white\",\"ticks\":\"\",\"title\":{\"standoff\":15},\"zerolinecolor\":\"white\",\"automargin\":true,\"zerolinewidth\":2},\"yaxis\":{\"gridcolor\":\"white\",\"linecolor\":\"white\",\"ticks\":\"\",\"title\":{\"standoff\":15},\"zerolinecolor\":\"white\",\"automargin\":true,\"zerolinewidth\":2},\"scene\":{\"xaxis\":{\"backgroundcolor\":\"#E5ECF6\",\"gridcolor\":\"white\",\"linecolor\":\"white\",\"showbackground\":true,\"ticks\":\"\",\"zerolinecolor\":\"white\",\"gridwidth\":2},\"yaxis\":{\"backgroundcolor\":\"#E5ECF6\",\"gridcolor\":\"white\",\"linecolor\":\"white\",\"showbackground\":true,\"ticks\":\"\",\"zerolinecolor\":\"white\",\"gridwidth\":2},\"zaxis\":{\"backgroundcolor\":\"#E5ECF6\",\"gridcolor\":\"white\",\"linecolor\":\"white\",\"showbackground\":true,\"ticks\":\"\",\"zerolinecolor\":\"white\",\"gridwidth\":2}},\"shapedefaults\":{\"line\":{\"color\":\"#2a3f5f\"}},\"annotationdefaults\":{\"arrowcolor\":\"#2a3f5f\",\"arrowhead\":0,\"arrowwidth\":1},\"geo\":{\"bgcolor\":\"white\",\"landcolor\":\"#E5ECF6\",\"subunitcolor\":\"white\",\"showland\":true,\"showlakes\":true,\"lakecolor\":\"white\"},\"title\":{\"x\":0.05},\"mapbox\":{\"style\":\"light\"}}},\"xaxis\":{\"anchor\":\"y\",\"domain\":[0.0,1.0],\"title\":{\"text\":\"Noise Factor\",\"font\":{\"family\":\"CMU\",\"size\":30}},\"tickfont\":{\"family\":\"CMU\",\"size\":30}},\"yaxis\":{\"anchor\":\"x\",\"domain\":[0.0,1.0],\"title\":{\"text\":\"RMSD, linear dist\",\"font\":{\"family\":\"CMU\",\"size\":30}},\"tickfont\":{\"family\":\"CMU\",\"size\":30}},\"legend\":{\"title\":{\"text\":\"Estimator, Estimator\"},\"tracegroupgap\":0,\"font\":{\"family\":\"CMU\",\"size\":30}},\"margin\":{\"t\":60},\"title\":{\"text\":\"model_2 rmsd_linear hypersphere\",\"font\":{\"family\":\"CMU\",\"size\":30}},\"width\":1170.0,\"height\":555.0},                        {\"responsive\": true}                    ).then(function(){\n",
       "                            \n",
       "var gd = document.getElementById('649b612f-a039-4c65-94b8-03eaa317f97d');\n",
       "var x = new MutationObserver(function (mutations, observer) {{\n",
       "        var display = window.getComputedStyle(gd).display;\n",
       "        if (!display || display === 'none') {{\n",
       "            console.log([gd, 'removed!']);\n",
       "            Plotly.purge(gd);\n",
       "            observer.disconnect();\n",
       "        }}\n",
       "}});\n",
       "\n",
       "// Listen for the removal of the full notebook cells\n",
       "var notebookContainer = gd.closest('#notebook-container');\n",
       "if (notebookContainer) {{\n",
       "    x.observe(notebookContainer, {childList: true});\n",
       "}}\n",
       "\n",
       "// Listen for the clearing of the current output cell\n",
       "var outputEl = gd.closest('.output');\n",
       "if (outputEl) {{\n",
       "    x.observe(outputEl, {childList: true});\n",
       "}}\n",
       "\n",
       "                        })                };                });            </script>        </div>"
      ]
     },
     "metadata": {},
     "output_type": "display_data"
    }
   ],
   "source": [
    "# y_label = \"rmsd_geodesic\"\n",
    "y_label = \"rmsd_linear\"\n",
    "# y_label = \"estimator_duration_time\"\n",
    "# y_label = \"estimator_coef_err_sum\"\n",
    "# y_label = \"estimator_intercept_err_sum\"\n",
    "\n",
    "if y_label is \"rmsd_geodesic\":\n",
    "    fig_path = os.path.join(my_28brains_dir, f\"project_regression/notebooks/figs/{model_name}_{dataset_name}_RMSD_no_gls\")\n",
    "elif y_label is \"estimator_duration_time\":\n",
    "    fig_path = os.path.join(my_28brains_dir, f\"project_regression/notebooks/figs/{model_name}_{dataset_name}_time\")\n",
    "else:\n",
    "    fig_path = os.path.join(my_28brains_dir, f\"project_regression/notebooks/figs/{model_name}_{dataset_name}_{y_label}\")\n",
    "\n",
    "scatterplot_evaluation(\n",
    "    df= df,\n",
    "    colored_by=\"estimator\",\n",
    "    marked_by=\"estimator\",\n",
    "    x_label=\"noise_factor\",\n",
    "    y_label=y_label,\n",
    "    title=f\"{model_name} {y_label} {dataset_name}\",\n",
    "    path=fig_path,\n",
    ")"
   ]
  },
  {
   "cell_type": "code",
   "execution_count": null,
   "id": "775455ac-54bf-4bec-b5a9-63c9e78b741e",
   "metadata": {},
   "outputs": [],
   "source": []
  },
  {
   "cell_type": "code",
   "execution_count": null,
   "id": "ade87d53-9f12-4c5c-a6a4-4d7d96c71665",
   "metadata": {},
   "outputs": [],
   "source": []
  }
 ],
 "metadata": {
  "kernelspec": {
   "display_name": "Python 3 (ipykernel)",
   "language": "python",
   "name": "python3"
  },
  "language_info": {
   "codemirror_mode": {
    "name": "ipython",
    "version": 3
   },
   "file_extension": ".py",
   "mimetype": "text/x-python",
   "name": "python",
   "nbconvert_exporter": "python",
   "pygments_lexer": "ipython3",
   "version": "3.11.7"
  }
 },
 "nbformat": 4,
 "nbformat_minor": 5
}
