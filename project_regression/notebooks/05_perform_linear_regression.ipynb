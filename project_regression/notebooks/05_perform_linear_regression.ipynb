{
 "cells": [
  {
   "cell_type": "markdown",
   "id": "06aeb4c1",
   "metadata": {},
   "source": [
    "# Run linear regression on the real (reparameterized) meshes"
   ]
  },
  {
   "cell_type": "code",
   "execution_count": 1,
   "id": "2299482f-924f-4df7-806a-9661ee853fa5",
   "metadata": {},
   "outputs": [
    {
     "name": "stdout",
     "output_type": "stream",
     "text": [
      "Working directory:  /home/adele/code/my28brains/src\n",
      "Directory added to path:  /home/adele/code/my28brains\n",
      "Directory added to path:  /home/adele/code/my28brains/src\n",
      "Directory added to path:  /home/adele/code/my28brains/H2_SurfaceMatch\n",
      "Directory added to path:  /home/adele/code/my28brains/src/notebooks\n",
      "Directory added to path:  /home/adele/code/my28brains/src/notebooks/csv\n"
     ]
    }
   ],
   "source": [
    "import src.setcwd\n",
    "\n",
    "src.setcwd.main()"
   ]
  },
  {
   "cell_type": "code",
   "execution_count": 2,
   "id": "617c62da-50ac-4129-9e23-15ccc7fe6e24",
   "metadata": {},
   "outputs": [
    {
     "name": "stderr",
     "output_type": "stream",
     "text": [
      "INFO: Using pytorch backend\n"
     ]
    },
    {
     "name": "stdout",
     "output_type": "stream",
     "text": [
      "Jupyter environment detected. Enabling Open3D WebVisualizer.\n",
      "[Open3D INFO] WebRTC GUI backend enabled.\n",
      "[Open3D INFO] WebRTCWindowSystem: HTTP handshake server disabled.\n"
     ]
    }
   ],
   "source": [
    "import os\n",
    "import numpy as np\n",
    "import trimesh\n",
    "\n",
    "import src.datasets.utils as data_utils\n",
    "import src.preprocessing\n",
    "import src.viz\n",
    "import project_regression.default_config as default_config"
   ]
  },
  {
   "cell_type": "code",
   "execution_count": 4,
   "id": "190ccec0-c9a7-4c2d-8e7d-1468d06837ef",
   "metadata": {},
   "outputs": [
    {
     "name": "stdout",
     "output_type": "stream",
     "text": [
      "Working directory:  /home/adele/code/my28brains/src\n",
      "Directory added to path:  /home/adele/code/my28brains\n",
      "Directory added to path:  /home/adele/code/my28brains/src\n",
      "Directory added to path:  /home/adele/code/my28brains/H2_SurfaceMatch\n",
      "Directory added to path:  /home/adele/code/my28brains/src/notebooks\n",
      "Directory added to path:  /home/adele/code/my28brains/src/notebooks/csv\n",
      "/home/adele/code/my28brains/src\n"
     ]
    },
    {
     "ename": "FileNotFoundError",
     "evalue": "[Errno 2] No such file or directory: 'project_regression/notebooks/meshes_along_linear_regression_1_obbz3jta.npy'",
     "output_type": "error",
     "traceback": [
      "\u001b[0;31m---------------------------------------------------------------------------\u001b[0m",
      "\u001b[0;31mFileNotFoundError\u001b[0m                         Traceback (most recent call last)",
      "Cell \u001b[0;32mIn[4], line 4\u001b[0m\n\u001b[1;32m      1\u001b[0m src\u001b[38;5;241m.\u001b[39msetcwd\u001b[38;5;241m.\u001b[39mmain()\n\u001b[1;32m      2\u001b[0m \u001b[38;5;28mprint\u001b[39m(os\u001b[38;5;241m.\u001b[39mgetcwd())\n\u001b[0;32m----> 4\u001b[0m meshes_along_linear_regression_1_obbz3jta \u001b[38;5;241m=\u001b[39m \u001b[43mnp\u001b[49m\u001b[38;5;241;43m.\u001b[39;49m\u001b[43mload\u001b[49m\u001b[43m(\u001b[49m\n\u001b[1;32m      5\u001b[0m \u001b[43m    \u001b[49m\u001b[38;5;124;43m\"\u001b[39;49m\u001b[38;5;124;43mproject_regression/notebooks/meshes_along_linear_regression_1_obbz3jta.npy\u001b[39;49m\u001b[38;5;124;43m\"\u001b[39;49m\n\u001b[1;32m      6\u001b[0m \u001b[43m)\u001b[49m\n\u001b[1;32m      7\u001b[0m reference_mesh \u001b[38;5;241m=\u001b[39m trimesh\u001b[38;5;241m.\u001b[39mload_mesh(\n\u001b[1;32m      8\u001b[0m     \u001b[38;5;124mr\u001b[39m\u001b[38;5;124m\"\u001b[39m\u001b[38;5;124mnotebooks/parameterized_mesh00_hormone_level0.63.ply.ply\u001b[39m\u001b[38;5;124m\"\u001b[39m\n\u001b[1;32m      9\u001b[0m )\n",
      "File \u001b[0;32m~/anaconda3/envs/my28brains/lib/python3.10/site-packages/numpy/lib/npyio.py:427\u001b[0m, in \u001b[0;36mload\u001b[0;34m(file, mmap_mode, allow_pickle, fix_imports, encoding, max_header_size)\u001b[0m\n\u001b[1;32m    425\u001b[0m     own_fid \u001b[38;5;241m=\u001b[39m \u001b[38;5;28;01mFalse\u001b[39;00m\n\u001b[1;32m    426\u001b[0m \u001b[38;5;28;01melse\u001b[39;00m:\n\u001b[0;32m--> 427\u001b[0m     fid \u001b[38;5;241m=\u001b[39m stack\u001b[38;5;241m.\u001b[39menter_context(\u001b[38;5;28;43mopen\u001b[39;49m\u001b[43m(\u001b[49m\u001b[43mos_fspath\u001b[49m\u001b[43m(\u001b[49m\u001b[43mfile\u001b[49m\u001b[43m)\u001b[49m\u001b[43m,\u001b[49m\u001b[43m \u001b[49m\u001b[38;5;124;43m\"\u001b[39;49m\u001b[38;5;124;43mrb\u001b[39;49m\u001b[38;5;124;43m\"\u001b[39;49m\u001b[43m)\u001b[49m)\n\u001b[1;32m    428\u001b[0m     own_fid \u001b[38;5;241m=\u001b[39m \u001b[38;5;28;01mTrue\u001b[39;00m\n\u001b[1;32m    430\u001b[0m \u001b[38;5;66;03m# Code to distinguish from NumPy binary files and pickles.\u001b[39;00m\n",
      "\u001b[0;31mFileNotFoundError\u001b[0m: [Errno 2] No such file or directory: 'project_regression/notebooks/meshes_along_linear_regression_1_obbz3jta.npy'"
     ]
    }
   ],
   "source": [
    "src.setcwd.main()\n",
    "print(os.getcwd())\n",
    "\n",
    "meshes_along_linear_regression_1_obbz3jta = np.load(\n",
    "    \"project_regression/notebooks/meshes_along_linear_regression_1_obbz3jta.npy\"\n",
    ")\n",
    "reference_mesh = trimesh.load_mesh(\n",
    "    r\"notebooks/parameterized_mesh00_hormone_level0.63.ply.ply\"\n",
    ")"
   ]
  },
  {
   "cell_type": "code",
   "execution_count": null,
   "id": "f3a2df75-7e98-496f-97f5-58aef0afaa4b",
   "metadata": {},
   "outputs": [],
   "source": [
    "meshes_along_linear_regression_1_obbz3jta.shape"
   ]
  },
  {
   "cell_type": "code",
   "execution_count": null,
   "id": "524d30a5-e41d-4cb0-94e9-c3fe2d0c72ed",
   "metadata": {},
   "outputs": [],
   "source": [
    "print(len(meshes_along_linear_regression_1_obbz3jta) / 6)\n",
    "print(len(meshes_along_linear_regression_1_obbz3jta) / 10)"
   ]
  },
  {
   "cell_type": "markdown",
   "id": "c1228088-1696-482e-b148-9fb9698fcccf",
   "metadata": {},
   "source": [
    "The number of \"X\" (progesterone levels) is either 10 or 6."
   ]
  },
  {
   "cell_type": "code",
   "execution_count": null,
   "id": "dc4ade0a-e673-4614-bce1-a5b6874daf5b",
   "metadata": {},
   "outputs": [],
   "source": [
    "from my28brains.H2_SurfaceMatch.utils.input_output import plotGeodesic"
   ]
  },
  {
   "cell_type": "code",
   "execution_count": null,
   "id": "5d175c8b-4e9f-48a1-b2db-6a0f132897db",
   "metadata": {},
   "outputs": [],
   "source": [
    "geod = meshes_along_linear_regression_1_obbz3jta.reshape((10, -1, 3))\n",
    "plotGeodesic(\n",
    "    geod=geod,\n",
    "    F=reference_mesh.faces,\n",
    "    stepsize=7,\n",
    "    file_name=\"notebooks/meshes_along_linear_regression_1_obbz3jta.ply\",\n",
    ")"
   ]
  },
  {
   "cell_type": "code",
   "execution_count": null,
   "id": "16ba1e3f-c3cc-4061-9cb5-1b0ee2cab606",
   "metadata": {},
   "outputs": [],
   "source": [
    "np.save(\"notebooks/mesh_test.npy\", mesh_seq_to_plot)"
   ]
  },
  {
   "cell_type": "code",
   "execution_count": null,
   "id": "68025946-e63b-432c-aedb-a360eb5fd77f",
   "metadata": {},
   "outputs": [],
   "source": [
    "reference_mesh"
   ]
  },
  {
   "cell_type": "code",
   "execution_count": null,
   "id": "e6909657-866f-46af-b4ed-bf73c0d2b730",
   "metadata": {},
   "outputs": [],
   "source": [
    "reference_mesh.faces.shape"
   ]
  },
  {
   "cell_type": "code",
   "execution_count": null,
   "id": "5de9aab8-4164-4436-ab50-ba3bc6383b5a",
   "metadata": {},
   "outputs": [],
   "source": [
    "mesh = trimesh.Trimesh(\n",
    "    vertices=meshes_along_linear_regression_1_obbz3jta, faces=reference_mesh.faces\n",
    ")\n",
    "mesh"
   ]
  },
  {
   "cell_type": "code",
   "execution_count": null,
   "id": "4ba335ee-a10d-4561-a5bc-a2458bde128f",
   "metadata": {},
   "outputs": [],
   "source": [
    "src.preprocessing.writing.trimesh_to_ply(\n",
    "    mesh, \"notebooks/meshes_along_linear_regression_1_obbz3jta.ply\"\n",
    ")"
   ]
  },
  {
   "cell_type": "markdown",
   "id": "ef813d45-c6a2-48c8-ab86-9ed89dc26a08",
   "metadata": {},
   "source": [
    "# Run linear regression from scratch"
   ]
  },
  {
   "cell_type": "code",
   "execution_count": null,
   "id": "8ae5801e-089d-45c5-b5ba-9ff3d9db26ed",
   "metadata": {},
   "outputs": [],
   "source": [
    "mesh_list = []\n",
    "mesh_dir = \"results/meshes_parameterized\"\n",
    "\n",
    "for path in sorted(os.listdir(mesh_dir)):\n",
    "    print(path)\n",
    "    mesh = trimesh.load(os.path.join(mesh_dir, path))\n",
    "    mesh_list.append(mesh)"
   ]
  },
  {
   "cell_type": "code",
   "execution_count": null,
   "id": "5f822bb4-27c6-46d6-9eba-9e0bae8c6252",
   "metadata": {},
   "outputs": [],
   "source": [
    "mesh0 = mesh_list[0]\n",
    "mesh1 = mesh_list[1]"
   ]
  },
  {
   "cell_type": "code",
   "execution_count": null,
   "id": "fc0a248f-681c-4275-b256-d87fdce0773f",
   "metadata": {},
   "outputs": [],
   "source": [
    "mesh0"
   ]
  },
  {
   "cell_type": "code",
   "execution_count": null,
   "id": "50cbbe3d-8d11-4bc5-9ea0-48269b033213",
   "metadata": {},
   "outputs": [],
   "source": [
    "mesh1"
   ]
  },
  {
   "cell_type": "code",
   "execution_count": null,
   "id": "b6b1381d-f323-47e6-b70d-eab6f7089d50",
   "metadata": {},
   "outputs": [],
   "source": [
    "np_list = [mesh.vertices for mesh in mesh_list]"
   ]
  },
  {
   "cell_type": "code",
   "execution_count": null,
   "id": "644e5b56-c664-4957-a0ca-c7f27734db7f",
   "metadata": {},
   "outputs": [],
   "source": [
    "import numpy as np\n",
    "\n",
    "np_seq = np.stack(np_list)"
   ]
  },
  {
   "cell_type": "code",
   "execution_count": null,
   "id": "c5c8522c-bc91-437b-9611-0f2207b8ded4",
   "metadata": {},
   "outputs": [],
   "source": [
    "np_seq.shape"
   ]
  },
  {
   "cell_type": "code",
   "execution_count": null,
   "id": "73a5c467-b565-487e-b402-8d2854c13113",
   "metadata": {},
   "outputs": [],
   "source": [
    "np_seq = np_seq.reshape((10, -1))"
   ]
  },
  {
   "cell_type": "code",
   "execution_count": null,
   "id": "2b048056-72e4-4257-b058-9267fff7922b",
   "metadata": {},
   "outputs": [],
   "source": [
    "import pandas as pd\n",
    "\n",
    "DATA_PATH = os.path.join(\"../data\", \"hormones.csv\")\n",
    "df = pd.read_csv(DATA_PATH, delimiter=\",\")\n",
    "print(f\"df has length: {len(df)} days\")\n",
    "df[1:11]"
   ]
  },
  {
   "cell_type": "code",
   "execution_count": null,
   "id": "436b2146-5375-4421-a19a-8de3992f70c3",
   "metadata": {},
   "outputs": [],
   "source": [
    "df[\"Prog\"][1:9].values"
   ]
  },
  {
   "cell_type": "code",
   "execution_count": null,
   "id": "dd83a03b-1b61-460d-ade4-9a21cabf9aa1",
   "metadata": {},
   "outputs": [],
   "source": [
    "levels = df[\"Prog\"][1:9].values.reshape((-1, 1))"
   ]
  },
  {
   "cell_type": "code",
   "execution_count": null,
   "id": "5767b6ca-10f5-466d-a11c-6cd66bff51ae",
   "metadata": {},
   "outputs": [],
   "source": [
    "np_seq.shape\n",
    "np_seq = np_seq[:-2]\n",
    "np_seq.shape"
   ]
  },
  {
   "cell_type": "code",
   "execution_count": null,
   "id": "7eea9ce2-627b-4010-a843-59494a038769",
   "metadata": {},
   "outputs": [],
   "source": [
    "from sklearn.linear_model import LinearRegression\n",
    "\n",
    "# Assuming X and y are already defined\n",
    "X = levels.reshape(-1, 1)  # Reshape X to a 2D array if needed\n",
    "y = np_seq\n",
    "\n",
    "regressor = LinearRegression()\n",
    "regressor.fit(X, y)\n",
    "\n",
    "# Predicting values\n",
    "y_pred = regressor.predict(X)"
   ]
  },
  {
   "cell_type": "code",
   "execution_count": null,
   "id": "10c9b45b-552d-405c-a6bb-77d73f11ee0e",
   "metadata": {},
   "outputs": [],
   "source": [
    "y_pred = y_pred.reshape((10, -1, 3))\n",
    "y = y.reshape((10, -1, 3))\n",
    "\n",
    "# y_pred = y_pred.reshape((-1, 3))\n",
    "# y = y.reshape((-1, 3))"
   ]
  },
  {
   "cell_type": "code",
   "execution_count": null,
   "id": "6ed49c1c-2591-4edb-bb07-6980dbfb0412",
   "metadata": {},
   "outputs": [],
   "source": [
    "new_levels = np.arange(6.0, 16.0, step=1.0).reshape((-1, 1))\n",
    "print(new_levels)\n",
    "print(new_levels.shape)\n",
    "y_pred_from_new_levels = regressor.predict(new_levels)\n",
    "y_pred_from_new_levels = y_pred_from_new_levels.reshape((10, -1, 3))"
   ]
  },
  {
   "cell_type": "code",
   "execution_count": null,
   "id": "4b8cad3a-9a30-4be4-b520-8126809a1265",
   "metadata": {},
   "outputs": [],
   "source": [
    "plotGeodesic(y, F=mesh0.faces, stepsize=4, file_name=\"notebooks/0710_mesh_sequence.ply\")"
   ]
  },
  {
   "cell_type": "code",
   "execution_count": null,
   "id": "f05b935a-8d81-4407-9603-03b5735660ec",
   "metadata": {},
   "outputs": [],
   "source": [
    "plotGeodesic(\n",
    "    y_pred,\n",
    "    F=mesh0.faces,\n",
    "    stepsize=4,\n",
    "    file_name=\"notebooks/0710_mesh_linear_regression.ply\",\n",
    ")"
   ]
  },
  {
   "cell_type": "code",
   "execution_count": null,
   "id": "7f6b9994-3861-4d1b-96b5-72aec7c786b1",
   "metadata": {},
   "outputs": [],
   "source": [
    "plotGeodesic(\n",
    "    y_pred_from_new_levels,\n",
    "    F=mesh0.faces,\n",
    "    stepsize=4,\n",
    "    file_name=\"notebooks/0710_mesh_linear_prediction.ply\",\n",
    ")"
   ]
  },
  {
   "cell_type": "code",
   "execution_count": null,
   "id": "09b851a4-df78-4694-8f89-730e01c19c00",
   "metadata": {},
   "outputs": [],
   "source": [
    "one_mesh = regressor.predict([[6.0]])\n",
    "one_mesh = one_mesh.reshape((1, -1, 3))\n",
    "print(one_mesh.shape)"
   ]
  },
  {
   "cell_type": "code",
   "execution_count": null,
   "id": "9c326dcc-517c-4c02-b598-e686fcd2a2b9",
   "metadata": {},
   "outputs": [],
   "source": [
    "plotGeodesic(\n",
    "    one_mesh,\n",
    "    F=mesh0.faces,\n",
    "    stepsize=4,\n",
    "    file_name=\"notebooks/0710_one_mesh.ply\",\n",
    ")"
   ]
  },
  {
   "cell_type": "code",
   "execution_count": null,
   "id": "7b295e5d-6e2d-45f5-a54c-404377c5bd2b",
   "metadata": {},
   "outputs": [],
   "source": [
    "regressor.__dict__"
   ]
  },
  {
   "cell_type": "code",
   "execution_count": null,
   "id": "795908ad-8e5e-46e7-8a54-0445e04b6d50",
   "metadata": {},
   "outputs": [],
   "source": [
    "from sklearn.metrics import r2_score"
   ]
  },
  {
   "cell_type": "code",
   "execution_count": null,
   "id": "83309e4a-95f4-49d7-a646-4a02a3a05a18",
   "metadata": {},
   "outputs": [],
   "source": [
    "r2_score(y, y_pred)"
   ]
  },
  {
   "cell_type": "code",
   "execution_count": null,
   "id": "258d76b4-f069-40d9-8dc4-64b7e974b73b",
   "metadata": {},
   "outputs": [],
   "source": [
    "y.shape"
   ]
  },
  {
   "cell_type": "code",
   "execution_count": null,
   "id": "ad74cbd0-a2d3-42e6-9a59-de84ee257f7e",
   "metadata": {},
   "outputs": [],
   "source": [
    "y_pred.shape"
   ]
  },
  {
   "cell_type": "code",
   "execution_count": null,
   "id": "60febf4d-27a2-4857-a06b-04d1f2a9718f",
   "metadata": {},
   "outputs": [],
   "source": [
    "Adj_r2 = 1 - (1 - r2_score(y, y_pred)) * (len(y) - 1) / (len(y) - X.shape[1] - 1)"
   ]
  },
  {
   "cell_type": "code",
   "execution_count": null,
   "id": "be634680-bbe6-4cdd-af50-d277bbb2fd39",
   "metadata": {},
   "outputs": [],
   "source": [
    "Adj_r2"
   ]
  },
  {
   "cell_type": "code",
   "execution_count": null,
   "id": "0cd1dd1c-bc59-462b-83d8-b057a3e1b6fd",
   "metadata": {},
   "outputs": [],
   "source": []
  }
 ],
 "metadata": {
  "kernelspec": {
   "display_name": "Python 3 (ipykernel)",
   "language": "python",
   "name": "python3"
  },
  "language_info": {
   "codemirror_mode": {
    "name": "ipython",
    "version": 3
   },
   "file_extension": ".py",
   "mimetype": "text/x-python",
   "name": "python",
   "nbconvert_exporter": "python",
   "pygments_lexer": "ipython3",
   "version": "3.10.12"
  }
 },
 "nbformat": 4,
 "nbformat_minor": 5
}
