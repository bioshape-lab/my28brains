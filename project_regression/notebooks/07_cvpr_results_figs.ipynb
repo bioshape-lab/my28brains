{
 "cells": [
  {
   "cell_type": "code",
   "execution_count": 18,
   "id": "654e4779-a4f3-4859-83b2-dd03bdc3fe69",
   "metadata": {},
   "outputs": [],
   "source": [
    "import numpy as np\n",
    "import pandas as pd\n",
    "import wandb\n",
    "import src.viz as viz\n",
    "from geomstats.geometry.hypersphere import Hypersphere\n",
    "from geomstats.geometry.hyperbolic import Hyperbolic"
   ]
  },
  {
   "cell_type": "code",
   "execution_count": 19,
   "id": "bcf122d6-65b1-4091-acfe-67a3ce955658",
   "metadata": {},
   "outputs": [
    {
     "name": "stdout",
     "output_type": "stream",
     "text": [
      "Working directory:  /Users/adelemyers/code/my28brains/src\n",
      "Directory added to path:  /Users/adelemyers/code/my28brains\n",
      "Directory added to path:  /Users/adelemyers/code/my28brains/src\n",
      "Directory added to path:  /Users/adelemyers/code/my28brains/src/notebooks\n",
      "Directory added to path:  /Users/adelemyers/code/my28brains/src/notebooks/csv\n",
      "Directory added to path:  /Users/adelemyers/code/my28brains/H2_SurfaceMatch\n",
      "Directory added to path:  /Users/adelemyers/code/my28brains/project_regression\n",
      "Directory added to path:  /Users/adelemyers/code/my28brains/project_regression/notebooks\n",
      "Directory added to path:  /Users/adelemyers/code/my28brains/project_regression/notebooks/csv\n",
      "my28brains_dir:  /Users/adelemyers/code/my28brains\n"
     ]
    }
   ],
   "source": [
    "import src.setcwd\n",
    "\n",
    "src.setcwd.main()\n",
    "import os\n",
    "\n",
    "my_28brains_dir = os.path.dirname(os.getcwd())\n",
    "print(\"my28brains_dir: \", my_28brains_dir)"
   ]
  },
  {
   "cell_type": "code",
   "execution_count": 21,
   "id": "49e2b8f5-4da1-4727-adc7-ed9f4d9a76e8",
   "metadata": {
    "scrolled": true
   },
   "outputs": [],
   "source": [
    "import pandas as pd \n",
    "import wandb\n",
    "api = wandb.Api()\n",
    "\n",
    "# Project is specified by <entity/project-name>\n",
    "runs = api.runs(\"bioshape-lab/my28brains-project_regression\")\n",
    "\n",
    "start_date = pd.to_datetime(\"2023-02-21\")\n",
    "\n",
    "model_name = \"model_1\"\n",
    "\n",
    "desired_tags = {model_name}\n",
    "\n",
    "summary_list, config_list, name_list = [], [], []\n",
    "for run in runs: \n",
    "    run_tags = set(run.tags)\n",
    "    \n",
    "    if pd.to_datetime(run.createdAt) > start_date and desired_tags.issubset(run_tags):\n",
    "        # .summary contains the output keys/values for metrics like accuracy.\n",
    "        #  We call ._json_dict to omit large files \n",
    "        summary_list.append(run.summary._json_dict)\n",
    "    \n",
    "        # .config contains the hyperparameters.\n",
    "        #  We remove special values that start with _.\n",
    "        config_list.append(\n",
    "            {k: v for k,v in run.config.items()\n",
    "              if not k.startswith('_')})\n",
    "    \n",
    "        # .name is the human-readable name of the run.\n",
    "        name_list.append(run.name)\n",
    "\n",
    "summary_df = pd.DataFrame.from_dict(\n",
    "    summary_list)\n",
    "config_df = pd.DataFrame.from_dict(\n",
    "    config_list)\n",
    "name_df = pd.DataFrame.from_dict(\n",
    "    name_list)\n",
    "\n",
    "runs_df = pd.concat([summary_df, config_df, name_df], axis = 1)\n",
    "\n",
    "save_path = os.path.join(my_28brains_dir, f\"project_regression/notebooks/csv/{model_name}.csv\")\n",
    "\n",
    "runs_df.to_csv(save_path)"
   ]
  },
  {
   "cell_type": "code",
   "execution_count": 17,
   "id": "3dc68b9c-d97d-4211-8e47-1225eaf05d35",
   "metadata": {},
   "outputs": [
    {
     "data": {
      "text/html": [
       "<div>\n",
       "<style scoped>\n",
       "    .dataframe tbody tr th:only-of-type {\n",
       "        vertical-align: middle;\n",
       "    }\n",
       "\n",
       "    .dataframe tbody tr th {\n",
       "        vertical-align: top;\n",
       "    }\n",
       "\n",
       "    .dataframe thead th {\n",
       "        text-align: right;\n",
       "    }\n",
       "</style>\n",
       "<table border=\"1\" class=\"dataframe\">\n",
       "  <thead>\n",
       "    <tr style=\"text-align: right;\">\n",
       "      <th></th>\n",
       "      <th>geodesic_tol</th>\n",
       "      <th>true_coef_fig</th>\n",
       "      <th>X</th>\n",
       "      <th>model</th>\n",
       "      <th>n_faces</th>\n",
       "      <th>estimator</th>\n",
       "      <th>true_coef</th>\n",
       "      <th>linear_noise</th>\n",
       "      <th>true_intercept</th>\n",
       "      <th>linear_coef_hat</th>\n",
       "      <th>...</th>\n",
       "      <th>tol_factor</th>\n",
       "      <th>project_dir</th>\n",
       "      <th>start_shape</th>\n",
       "      <th>torch_dtype</th>\n",
       "      <th>dataset_name</th>\n",
       "      <th>linear_noise</th>\n",
       "      <th>noise_factor</th>\n",
       "      <th>n_subdivisions</th>\n",
       "      <th>project_linear_noise</th>\n",
       "      <th>0</th>\n",
       "    </tr>\n",
       "  </thead>\n",
       "  <tbody>\n",
       "    <tr>\n",
       "      <th>0</th>\n",
       "      <td>137.527046</td>\n",
       "      <td>{'path': 'media/object3D/true_coef_fig_2_f5c1d...</td>\n",
       "      <td>[0, 0.03333333333333333, 0.06666666666666667, ...</td>\n",
       "      <td>4</td>\n",
       "      <td>12</td>\n",
       "      <td>Lin2015</td>\n",
       "      <td>[[1, -1, -1], [-1, -1, -1], [0, 0, 0], [0, 0, ...</td>\n",
       "      <td>True</td>\n",
       "      <td>[[1, 1, 1], [1, -1, 1], [1, -1, -1], [1, 1, -1...</td>\n",
       "      <td>[[0.9397505311716564, -0.44110970089930635, -0...</td>\n",
       "      <td>...</td>\n",
       "      <td>0.01</td>\n",
       "      <td>/home/adele/code/my28brains/project_regression</td>\n",
       "      <td>cube</td>\n",
       "      <td>torch.float64</td>\n",
       "      <td>synthetic_mesh</td>\n",
       "      <td>True</td>\n",
       "      <td>0.20</td>\n",
       "      <td>None</td>\n",
       "      <td>True</td>\n",
       "      <td>run_vbqmg3nm</td>\n",
       "    </tr>\n",
       "    <tr>\n",
       "      <th>1</th>\n",
       "      <td>107.078190</td>\n",
       "      <td>{'path': 'media/object3D/true_coef_fig_2_f5c1d...</td>\n",
       "      <td>[0, 0.03333333333333333, 0.06666666666666667, ...</td>\n",
       "      <td>4</td>\n",
       "      <td>12</td>\n",
       "      <td>Lin2015</td>\n",
       "      <td>[[1, -1, -1], [-1, -1, -1], [0, 0, 0], [0, 0, ...</td>\n",
       "      <td>True</td>\n",
       "      <td>[[1, 1, 1], [1, -1, 1], [1, -1, -1], [1, 1, -1...</td>\n",
       "      <td>[[1.1271892583071903, -0.8246552744257634, -1....</td>\n",
       "      <td>...</td>\n",
       "      <td>0.01</td>\n",
       "      <td>/home/adele/code/my28brains/project_regression</td>\n",
       "      <td>cube</td>\n",
       "      <td>torch.float64</td>\n",
       "      <td>synthetic_mesh</td>\n",
       "      <td>True</td>\n",
       "      <td>0.10</td>\n",
       "      <td>None</td>\n",
       "      <td>True</td>\n",
       "      <td>run_ujkoxeas</td>\n",
       "    </tr>\n",
       "    <tr>\n",
       "      <th>2</th>\n",
       "      <td>70.356736</td>\n",
       "      <td>{'sha256': 'f5c1de4081fcd533019be9c33b9f7ae1cf...</td>\n",
       "      <td>[0, 0.03333333333333333, 0.06666666666666667, ...</td>\n",
       "      <td>4</td>\n",
       "      <td>12</td>\n",
       "      <td>Lin2015</td>\n",
       "      <td>[[1, -1, -1], [-1, -1, -1], [0, 0, 0], [0, 0, ...</td>\n",
       "      <td>True</td>\n",
       "      <td>[[1, 1, 1], [1, -1, 1], [1, -1, -1], [1, 1, -1...</td>\n",
       "      <td>[[0.922691183775316, -0.7516398692052936, -0.8...</td>\n",
       "      <td>...</td>\n",
       "      <td>0.01</td>\n",
       "      <td>/home/adele/code/my28brains/project_regression</td>\n",
       "      <td>cube</td>\n",
       "      <td>torch.float64</td>\n",
       "      <td>synthetic_mesh</td>\n",
       "      <td>True</td>\n",
       "      <td>0.01</td>\n",
       "      <td>None</td>\n",
       "      <td>True</td>\n",
       "      <td>run_wyx4e85r</td>\n",
       "    </tr>\n",
       "    <tr>\n",
       "      <th>3</th>\n",
       "      <td>69.120000</td>\n",
       "      <td>{'path': 'media/object3D/true_coef_fig_2_f5c1d...</td>\n",
       "      <td>[0, 0.03333333333333333, 0.06666666666666667, ...</td>\n",
       "      <td>4</td>\n",
       "      <td>12</td>\n",
       "      <td>Lin2015</td>\n",
       "      <td>[[1, -1, -1], [-1, -1, -1], [0, 0, 0], [0, 0, ...</td>\n",
       "      <td>True</td>\n",
       "      <td>[[1, 1, 1], [1, -1, 1], [1, -1, -1], [1, 1, -1...</td>\n",
       "      <td>[[0.7365059969847823, -0.9170668421252336, -0....</td>\n",
       "      <td>...</td>\n",
       "      <td>0.01</td>\n",
       "      <td>/home/adele/code/my28brains/project_regression</td>\n",
       "      <td>cube</td>\n",
       "      <td>torch.float64</td>\n",
       "      <td>synthetic_mesh</td>\n",
       "      <td>True</td>\n",
       "      <td>0.00</td>\n",
       "      <td>None</td>\n",
       "      <td>True</td>\n",
       "      <td>run_glnnlq29</td>\n",
       "    </tr>\n",
       "    <tr>\n",
       "      <th>4</th>\n",
       "      <td>46.130390</td>\n",
       "      <td>{'path': 'media/object3D/true_coef_fig_2_f5c1d...</td>\n",
       "      <td>[0, 0.05, 0.1, 0.15000000000000002, 0.2, 0.25,...</td>\n",
       "      <td>4</td>\n",
       "      <td>12</td>\n",
       "      <td>Lin2015</td>\n",
       "      <td>[[1, -1, -1], [-1, -1, -1], [0, 0, 0], [0, 0, ...</td>\n",
       "      <td>True</td>\n",
       "      <td>[[1, 1, 1], [1, -1, 1], [1, -1, -1], [1, 1, -1...</td>\n",
       "      <td>[[1.221802461725105, -1.4447112055847324, -0.8...</td>\n",
       "      <td>...</td>\n",
       "      <td>0.01</td>\n",
       "      <td>/home/adele/code/my28brains/project_regression</td>\n",
       "      <td>cube</td>\n",
       "      <td>torch.float64</td>\n",
       "      <td>synthetic_mesh</td>\n",
       "      <td>True</td>\n",
       "      <td>0.20</td>\n",
       "      <td>None</td>\n",
       "      <td>True</td>\n",
       "      <td>run_k8sod9qh</td>\n",
       "    </tr>\n",
       "  </tbody>\n",
       "</table>\n",
       "<p>5 rows × 62 columns</p>\n",
       "</div>"
      ],
      "text/plain": [
       "   geodesic_tol                                      true_coef_fig  \\\n",
       "0    137.527046  {'path': 'media/object3D/true_coef_fig_2_f5c1d...   \n",
       "1    107.078190  {'path': 'media/object3D/true_coef_fig_2_f5c1d...   \n",
       "2     70.356736  {'sha256': 'f5c1de4081fcd533019be9c33b9f7ae1cf...   \n",
       "3     69.120000  {'path': 'media/object3D/true_coef_fig_2_f5c1d...   \n",
       "4     46.130390  {'path': 'media/object3D/true_coef_fig_2_f5c1d...   \n",
       "\n",
       "                                                   X  model  n_faces  \\\n",
       "0  [0, 0.03333333333333333, 0.06666666666666667, ...      4       12   \n",
       "1  [0, 0.03333333333333333, 0.06666666666666667, ...      4       12   \n",
       "2  [0, 0.03333333333333333, 0.06666666666666667, ...      4       12   \n",
       "3  [0, 0.03333333333333333, 0.06666666666666667, ...      4       12   \n",
       "4  [0, 0.05, 0.1, 0.15000000000000002, 0.2, 0.25,...      4       12   \n",
       "\n",
       "  estimator                                          true_coef linear_noise  \\\n",
       "0   Lin2015  [[1, -1, -1], [-1, -1, -1], [0, 0, 0], [0, 0, ...         True   \n",
       "1   Lin2015  [[1, -1, -1], [-1, -1, -1], [0, 0, 0], [0, 0, ...         True   \n",
       "2   Lin2015  [[1, -1, -1], [-1, -1, -1], [0, 0, 0], [0, 0, ...         True   \n",
       "3   Lin2015  [[1, -1, -1], [-1, -1, -1], [0, 0, 0], [0, 0, ...         True   \n",
       "4   Lin2015  [[1, -1, -1], [-1, -1, -1], [0, 0, 0], [0, 0, ...         True   \n",
       "\n",
       "                                      true_intercept  \\\n",
       "0  [[1, 1, 1], [1, -1, 1], [1, -1, -1], [1, 1, -1...   \n",
       "1  [[1, 1, 1], [1, -1, 1], [1, -1, -1], [1, 1, -1...   \n",
       "2  [[1, 1, 1], [1, -1, 1], [1, -1, -1], [1, 1, -1...   \n",
       "3  [[1, 1, 1], [1, -1, 1], [1, -1, -1], [1, 1, -1...   \n",
       "4  [[1, 1, 1], [1, -1, 1], [1, -1, -1], [1, 1, -1...   \n",
       "\n",
       "                                     linear_coef_hat  ...  tol_factor  \\\n",
       "0  [[0.9397505311716564, -0.44110970089930635, -0...  ...        0.01   \n",
       "1  [[1.1271892583071903, -0.8246552744257634, -1....  ...        0.01   \n",
       "2  [[0.922691183775316, -0.7516398692052936, -0.8...  ...        0.01   \n",
       "3  [[0.7365059969847823, -0.9170668421252336, -0....  ...        0.01   \n",
       "4  [[1.221802461725105, -1.4447112055847324, -0.8...  ...        0.01   \n",
       "\n",
       "                                      project_dir  start_shape    torch_dtype  \\\n",
       "0  /home/adele/code/my28brains/project_regression         cube  torch.float64   \n",
       "1  /home/adele/code/my28brains/project_regression         cube  torch.float64   \n",
       "2  /home/adele/code/my28brains/project_regression         cube  torch.float64   \n",
       "3  /home/adele/code/my28brains/project_regression         cube  torch.float64   \n",
       "4  /home/adele/code/my28brains/project_regression         cube  torch.float64   \n",
       "\n",
       "     dataset_name linear_noise  noise_factor  n_subdivisions  \\\n",
       "0  synthetic_mesh         True          0.20            None   \n",
       "1  synthetic_mesh         True          0.10            None   \n",
       "2  synthetic_mesh         True          0.01            None   \n",
       "3  synthetic_mesh         True          0.00            None   \n",
       "4  synthetic_mesh         True          0.20            None   \n",
       "\n",
       "  project_linear_noise             0  \n",
       "0                 True  run_vbqmg3nm  \n",
       "1                 True  run_ujkoxeas  \n",
       "2                 True  run_wyx4e85r  \n",
       "3                 True  run_glnnlq29  \n",
       "4                 True  run_k8sod9qh  \n",
       "\n",
       "[5 rows x 62 columns]"
      ]
     },
     "execution_count": 17,
     "metadata": {},
     "output_type": "execute_result"
    }
   ],
   "source": [
    "runs_df.head()"
   ]
  },
  {
   "cell_type": "markdown",
   "id": "0a709367-3074-4df9-98bd-5188415164fc",
   "metadata": {},
   "source": [
    "# Choose which model to analyze"
   ]
  },
  {
   "cell_type": "code",
   "execution_count": 22,
   "id": "b1a53304-a9d0-4ade-a018-2b1bd2bdc35d",
   "metadata": {},
   "outputs": [
    {
     "data": {
      "text/html": [
       "<div>\n",
       "<style scoped>\n",
       "    .dataframe tbody tr th:only-of-type {\n",
       "        vertical-align: middle;\n",
       "    }\n",
       "\n",
       "    .dataframe tbody tr th {\n",
       "        vertical-align: top;\n",
       "    }\n",
       "\n",
       "    .dataframe thead th {\n",
       "        text-align: right;\n",
       "    }\n",
       "</style>\n",
       "<table border=\"1\" class=\"dataframe\">\n",
       "  <thead>\n",
       "    <tr style=\"text-align: right;\">\n",
       "      <th></th>\n",
       "      <th>Unnamed: 0</th>\n",
       "      <th>n_vertices</th>\n",
       "      <th>noise_factor</th>\n",
       "      <th>true_coef_fig</th>\n",
       "      <th>lr_intercept_err</th>\n",
       "      <th>linear_intercept_hat</th>\n",
       "      <th>mesh_sequence_vertices</th>\n",
       "      <th>_wandb</th>\n",
       "      <th>_timestamp</th>\n",
       "      <th>geodesic_tol</th>\n",
       "      <th>...</th>\n",
       "      <th>estimator.1</th>\n",
       "      <th>tol_factor</th>\n",
       "      <th>project_dir</th>\n",
       "      <th>start_shape</th>\n",
       "      <th>torch_dtype</th>\n",
       "      <th>dataset_name</th>\n",
       "      <th>linear_noise.1</th>\n",
       "      <th>noise_factor.1</th>\n",
       "      <th>project_linear_noise</th>\n",
       "      <th>0</th>\n",
       "    </tr>\n",
       "  </thead>\n",
       "  <tbody>\n",
       "    <tr>\n",
       "      <th>0</th>\n",
       "      <td>0</td>\n",
       "      <td>8</td>\n",
       "      <td>0.20</td>\n",
       "      <td>{'path': 'media/object3D/true_coef_fig_2_f5c1d...</td>\n",
       "      <td>[[-0.4427300188307455, 0.04696051294087899, 0....</td>\n",
       "      <td>[[0.5572699811692545, 1.046960512940879, 1.230...</td>\n",
       "      <td>{'_type': 'object3D-file', 'sha256': 'fdbb2962...</td>\n",
       "      <td>{'runtime': 17}</td>\n",
       "      <td>1.709512e+09</td>\n",
       "      <td>167.493065</td>\n",
       "      <td>...</td>\n",
       "      <td>Lin2015</td>\n",
       "      <td>0.01</td>\n",
       "      <td>/home/adele/code/my28brains/project_regression</td>\n",
       "      <td>cube</td>\n",
       "      <td>torch.float64</td>\n",
       "      <td>synthetic_mesh</td>\n",
       "      <td>True</td>\n",
       "      <td>0.20</td>\n",
       "      <td>True</td>\n",
       "      <td>run_3dbsbyyu</td>\n",
       "    </tr>\n",
       "    <tr>\n",
       "      <th>1</th>\n",
       "      <td>1</td>\n",
       "      <td>8</td>\n",
       "      <td>0.10</td>\n",
       "      <td>{'_type': 'object3D-file', 'sha256': 'f5c1de40...</td>\n",
       "      <td>[[0.036350697998341674, -0.006917983137728845,...</td>\n",
       "      <td>[[1.0363506979983417, 0.9930820168622712, 0.84...</td>\n",
       "      <td>{'sha256': '90d26b586aee00557ee11322c5074a0283...</td>\n",
       "      <td>{'runtime': 14}</td>\n",
       "      <td>1.709512e+09</td>\n",
       "      <td>86.323290</td>\n",
       "      <td>...</td>\n",
       "      <td>Lin2015</td>\n",
       "      <td>0.01</td>\n",
       "      <td>/home/adele/code/my28brains/project_regression</td>\n",
       "      <td>cube</td>\n",
       "      <td>torch.float64</td>\n",
       "      <td>synthetic_mesh</td>\n",
       "      <td>True</td>\n",
       "      <td>0.10</td>\n",
       "      <td>True</td>\n",
       "      <td>run_2bskdkv4</td>\n",
       "    </tr>\n",
       "    <tr>\n",
       "      <th>2</th>\n",
       "      <td>2</td>\n",
       "      <td>8</td>\n",
       "      <td>0.01</td>\n",
       "      <td>{'path': 'media/object3D/true_coef_fig_2_f5c1d...</td>\n",
       "      <td>[[0.05159107780510275, 0.013774544554275623, -...</td>\n",
       "      <td>[[1.0515910778051027, 1.0137745445542756, 0.97...</td>\n",
       "      <td>{'sha256': '67343c52a3edddcfab6bcc716425670b85...</td>\n",
       "      <td>{'runtime': 12}</td>\n",
       "      <td>1.709512e+09</td>\n",
       "      <td>69.929094</td>\n",
       "      <td>...</td>\n",
       "      <td>Lin2015</td>\n",
       "      <td>0.01</td>\n",
       "      <td>/home/adele/code/my28brains/project_regression</td>\n",
       "      <td>cube</td>\n",
       "      <td>torch.float64</td>\n",
       "      <td>synthetic_mesh</td>\n",
       "      <td>True</td>\n",
       "      <td>0.01</td>\n",
       "      <td>True</td>\n",
       "      <td>run_szi8fd27</td>\n",
       "    </tr>\n",
       "    <tr>\n",
       "      <th>3</th>\n",
       "      <td>3</td>\n",
       "      <td>8</td>\n",
       "      <td>0.00</td>\n",
       "      <td>{'path': 'media/object3D/true_coef_fig_2_f5c1d...</td>\n",
       "      <td>[[0.05317753156252736, -0.01365581694170792, -...</td>\n",
       "      <td>[[1.0531775315625274, 0.986344183058292, 0.998...</td>\n",
       "      <td>{'path': 'media/object3D/mesh_sequence_vertice...</td>\n",
       "      <td>{'runtime': 12}</td>\n",
       "      <td>1.709512e+09</td>\n",
       "      <td>69.120000</td>\n",
       "      <td>...</td>\n",
       "      <td>Lin2015</td>\n",
       "      <td>0.01</td>\n",
       "      <td>/home/adele/code/my28brains/project_regression</td>\n",
       "      <td>cube</td>\n",
       "      <td>torch.float64</td>\n",
       "      <td>synthetic_mesh</td>\n",
       "      <td>True</td>\n",
       "      <td>0.00</td>\n",
       "      <td>True</td>\n",
       "      <td>run_t3ub8km1</td>\n",
       "    </tr>\n",
       "    <tr>\n",
       "      <th>4</th>\n",
       "      <td>4</td>\n",
       "      <td>8</td>\n",
       "      <td>0.20</td>\n",
       "      <td>{'sha256': 'f5c1de4081fcd533019be9c33b9f7ae1cf...</td>\n",
       "      <td>[[-0.013811808498528366, -0.03571202306006671,...</td>\n",
       "      <td>[[0.9861881915014716, 0.9642879769399332, 1.05...</td>\n",
       "      <td>{'path': 'media/object3D/mesh_sequence_vertice...</td>\n",
       "      <td>{'runtime': 12}</td>\n",
       "      <td>1.709512e+09</td>\n",
       "      <td>44.124734</td>\n",
       "      <td>...</td>\n",
       "      <td>Lin2015</td>\n",
       "      <td>0.01</td>\n",
       "      <td>/home/adele/code/my28brains/project_regression</td>\n",
       "      <td>cube</td>\n",
       "      <td>torch.float64</td>\n",
       "      <td>synthetic_mesh</td>\n",
       "      <td>True</td>\n",
       "      <td>0.20</td>\n",
       "      <td>True</td>\n",
       "      <td>run_n83jeke9</td>\n",
       "    </tr>\n",
       "  </tbody>\n",
       "</table>\n",
       "<p>5 rows × 62 columns</p>\n",
       "</div>"
      ],
      "text/plain": [
       "   Unnamed: 0  n_vertices  noise_factor  \\\n",
       "0           0           8          0.20   \n",
       "1           1           8          0.10   \n",
       "2           2           8          0.01   \n",
       "3           3           8          0.00   \n",
       "4           4           8          0.20   \n",
       "\n",
       "                                       true_coef_fig  \\\n",
       "0  {'path': 'media/object3D/true_coef_fig_2_f5c1d...   \n",
       "1  {'_type': 'object3D-file', 'sha256': 'f5c1de40...   \n",
       "2  {'path': 'media/object3D/true_coef_fig_2_f5c1d...   \n",
       "3  {'path': 'media/object3D/true_coef_fig_2_f5c1d...   \n",
       "4  {'sha256': 'f5c1de4081fcd533019be9c33b9f7ae1cf...   \n",
       "\n",
       "                                    lr_intercept_err  \\\n",
       "0  [[-0.4427300188307455, 0.04696051294087899, 0....   \n",
       "1  [[0.036350697998341674, -0.006917983137728845,...   \n",
       "2  [[0.05159107780510275, 0.013774544554275623, -...   \n",
       "3  [[0.05317753156252736, -0.01365581694170792, -...   \n",
       "4  [[-0.013811808498528366, -0.03571202306006671,...   \n",
       "\n",
       "                                linear_intercept_hat  \\\n",
       "0  [[0.5572699811692545, 1.046960512940879, 1.230...   \n",
       "1  [[1.0363506979983417, 0.9930820168622712, 0.84...   \n",
       "2  [[1.0515910778051027, 1.0137745445542756, 0.97...   \n",
       "3  [[1.0531775315625274, 0.986344183058292, 0.998...   \n",
       "4  [[0.9861881915014716, 0.9642879769399332, 1.05...   \n",
       "\n",
       "                              mesh_sequence_vertices           _wandb  \\\n",
       "0  {'_type': 'object3D-file', 'sha256': 'fdbb2962...  {'runtime': 17}   \n",
       "1  {'sha256': '90d26b586aee00557ee11322c5074a0283...  {'runtime': 14}   \n",
       "2  {'sha256': '67343c52a3edddcfab6bcc716425670b85...  {'runtime': 12}   \n",
       "3  {'path': 'media/object3D/mesh_sequence_vertice...  {'runtime': 12}   \n",
       "4  {'path': 'media/object3D/mesh_sequence_vertice...  {'runtime': 12}   \n",
       "\n",
       "     _timestamp  geodesic_tol  ... estimator.1 tol_factor  \\\n",
       "0  1.709512e+09    167.493065  ...     Lin2015       0.01   \n",
       "1  1.709512e+09     86.323290  ...     Lin2015       0.01   \n",
       "2  1.709512e+09     69.929094  ...     Lin2015       0.01   \n",
       "3  1.709512e+09     69.120000  ...     Lin2015       0.01   \n",
       "4  1.709512e+09     44.124734  ...     Lin2015       0.01   \n",
       "\n",
       "                                      project_dir  start_shape    torch_dtype  \\\n",
       "0  /home/adele/code/my28brains/project_regression         cube  torch.float64   \n",
       "1  /home/adele/code/my28brains/project_regression         cube  torch.float64   \n",
       "2  /home/adele/code/my28brains/project_regression         cube  torch.float64   \n",
       "3  /home/adele/code/my28brains/project_regression         cube  torch.float64   \n",
       "4  /home/adele/code/my28brains/project_regression         cube  torch.float64   \n",
       "\n",
       "     dataset_name linear_noise.1  noise_factor.1 project_linear_noise  \\\n",
       "0  synthetic_mesh           True            0.20                 True   \n",
       "1  synthetic_mesh           True            0.10                 True   \n",
       "2  synthetic_mesh           True            0.01                 True   \n",
       "3  synthetic_mesh           True            0.00                 True   \n",
       "4  synthetic_mesh           True            0.20                 True   \n",
       "\n",
       "              0  \n",
       "0  run_3dbsbyyu  \n",
       "1  run_2bskdkv4  \n",
       "2  run_szi8fd27  \n",
       "3  run_t3ub8km1  \n",
       "4  run_n83jeke9  \n",
       "\n",
       "[5 rows x 62 columns]"
      ]
     },
     "execution_count": 22,
     "metadata": {},
     "output_type": "execute_result"
    }
   ],
   "source": [
    "model_name = \"model_4\"\n",
    "\n",
    "path = os.path.join(my_28brains_dir, f\"project_regression/notebooks/csv/{model_name}.csv\")\n",
    "\n",
    "df = pd.read_csv(path)\n",
    "df = df.dropna(axis=1, how='all')\n",
    "df.head()"
   ]
  },
  {
   "cell_type": "code",
   "execution_count": 23,
   "id": "ac9a7b58-c779-4534-a438-2afa75339b68",
   "metadata": {},
   "outputs": [
    {
     "data": {
      "text/html": [
       "<div>\n",
       "<style scoped>\n",
       "    .dataframe tbody tr th:only-of-type {\n",
       "        vertical-align: middle;\n",
       "    }\n",
       "\n",
       "    .dataframe tbody tr th {\n",
       "        vertical-align: top;\n",
       "    }\n",
       "\n",
       "    .dataframe thead th {\n",
       "        text-align: right;\n",
       "    }\n",
       "</style>\n",
       "<table border=\"1\" class=\"dataframe\">\n",
       "  <thead>\n",
       "    <tr style=\"text-align: right;\">\n",
       "      <th></th>\n",
       "    </tr>\n",
       "  </thead>\n",
       "  <tbody>\n",
       "  </tbody>\n",
       "</table>\n",
       "</div>"
      ],
      "text/plain": [
       "Empty DataFrame\n",
       "Columns: []\n",
       "Index: []"
      ]
     },
     "execution_count": 23,
     "metadata": {},
     "output_type": "execute_result"
    }
   ],
   "source": [
    "# df_hyperboloid = df[df[\"dataset_name\"] == \"hyperboloid\"]\n",
    "# df_hyperboloid = df_hyperboloid.dropna(axis=1, how='all')\n",
    "# df_hyperboloid.head()"
   ]
  },
  {
   "cell_type": "code",
   "execution_count": 24,
   "id": "12f5a24d-4d35-4bf9-a1d1-668ec6a5ffef",
   "metadata": {},
   "outputs": [
    {
     "data": {
      "text/html": [
       "<div>\n",
       "<style scoped>\n",
       "    .dataframe tbody tr th:only-of-type {\n",
       "        vertical-align: middle;\n",
       "    }\n",
       "\n",
       "    .dataframe tbody tr th {\n",
       "        vertical-align: top;\n",
       "    }\n",
       "\n",
       "    .dataframe thead th {\n",
       "        text-align: right;\n",
       "    }\n",
       "</style>\n",
       "<table border=\"1\" class=\"dataframe\">\n",
       "  <thead>\n",
       "    <tr style=\"text-align: right;\">\n",
       "      <th></th>\n",
       "    </tr>\n",
       "  </thead>\n",
       "  <tbody>\n",
       "  </tbody>\n",
       "</table>\n",
       "</div>"
      ],
      "text/plain": [
       "Empty DataFrame\n",
       "Columns: []\n",
       "Index: []"
      ]
     },
     "execution_count": 24,
     "metadata": {},
     "output_type": "execute_result"
    }
   ],
   "source": [
    "# df_hypersphere = df[df[\"dataset_name\"] == \"hypersphere\"]\n",
    "# df_hypersphere = df_hypersphere.dropna(axis=1, how='all')\n",
    "# df_hypersphere.head()"
   ]
  },
  {
   "cell_type": "code",
   "execution_count": 27,
   "id": "41dec965-0340-4f0f-8f49-987d49e11807",
   "metadata": {},
   "outputs": [
    {
     "data": {
      "text/plain": [
       "Index(['Unnamed: 0', 'n_vertices', 'noise_factor', 'true_coef_fig',\n",
       "       'lr_intercept_err', 'linear_intercept_hat', 'mesh_sequence_vertices',\n",
       "       '_wandb', '_timestamp', 'geodesic_tol', 'estimator_coef_hat_fig',\n",
       "       'estimator_intercept_err', 'estimator_intercept_hat_fig', 'model',\n",
       "       'true_intercept', 'lr_duration_time', 'true_intercept_fig',\n",
       "       'lr_intercept_err_sum', 'true_coef', 'mesh_diameter', 'linear_coef_hat',\n",
       "       'lr_intercept_err_norm', 'estimator_intercept_err_sum', 'linear_noise',\n",
       "       'estimator_coef_err_norm', 'lr_coef_err_sum', 'lr_coef_err_norm',\n",
       "       'estimator_coef_hat', 'n_faces', 'lr_coef_err', 'rmsd_linear',\n",
       "       'estimator_coef_err', 'estimator_intercept_hat',\n",
       "       'estimator_y_prediction_fig', 'estimator_intercept_err_norm', 'X',\n",
       "       '_runtime', 'estimator', 'rmsd_geodesic', 'estimator_coef_err_sum',\n",
       "       'estimator_duration_time', '_step', 'n_gr_iterations',\n",
       "       'n_gr_jacobian_evaluations', 'n_gr_function_evaluations', 'n_X',\n",
       "       'model.1', 'n_steps', 'full_run', 'use_cuda', 'device_id', 'end_shape',\n",
       "       'estimator.1', 'tol_factor', 'project_dir', 'start_shape',\n",
       "       'torch_dtype', 'dataset_name', 'linear_noise.1', 'noise_factor.1',\n",
       "       'project_linear_noise', '0'],\n",
       "      dtype='object')"
      ]
     },
     "execution_count": 27,
     "metadata": {},
     "output_type": "execute_result"
    }
   ],
   "source": [
    "df.columns"
   ]
  },
  {
   "cell_type": "code",
   "execution_count": null,
   "id": "c7fba47c-7284-485b-924e-191403b50c29",
   "metadata": {},
   "outputs": [],
   "source": []
  },
  {
   "cell_type": "code",
   "execution_count": null,
   "id": "b8e37d06-30a1-4211-9421-25194a28f821",
   "metadata": {},
   "outputs": [],
   "source": []
  },
  {
   "cell_type": "markdown",
   "id": "9e56a41e-b233-4c65-bf36-b9857c684eaa",
   "metadata": {},
   "source": [
    "# Convert linear residuals truth values into ints (for color map)"
   ]
  },
  {
   "cell_type": "code",
   "execution_count": null,
   "id": "3d13dca8-3902-462c-877e-219c3b2ac1ec",
   "metadata": {},
   "outputs": [],
   "source": [
    "df_hypersphere[\"linear_residuals_colors\"] = df_hypersphere[\"linear_residuals\"]*1\n",
    "# print(df_hypersphere[df_hypersphere[\"linear_residuals_colors\"]==1])\n",
    "\n",
    "df_hypersphere[\"linear_noise_colors\"] = df_hypersphere[\"linear_noise\"]*1"
   ]
  },
  {
   "cell_type": "code",
   "execution_count": null,
   "id": "b802d3af-b87a-4d6b-a61e-5811dce9c326",
   "metadata": {},
   "outputs": [],
   "source": [
    "df_hyperboloid[\"linear_residuals_colors\"] = df_hyperboloid[\"linear_residuals\"]*1\n",
    "\n",
    "df_hyperboloid[\"linear_noise_colors\"] = df_hyperboloid[\"linear_noise\"]*1"
   ]
  },
  {
   "cell_type": "code",
   "execution_count": null,
   "id": "67dc7ce8-8134-4efc-b6b4-15eceb051247",
   "metadata": {},
   "outputs": [],
   "source": [
    "COL_TO_TEXT = {\n",
    "    \"linear_residuals_colors\": \"Linear Residuals: 1 = True\",\n",
    "    \"linear_noise_colors\": \"Linear Noise: 1 = True\",\n",
    "    \"geodesic_coef_err\" : \"Geodesic Coef Error\",\n",
    "    \"geodesic_duration_time\" : \"Geodesic Duration Time\",\n",
    "    \"noise_factor\": \"Noise Factor\",\n",
    "    \"rmsd_geod\": \"RMSD, Geodesic Regression\",\n",
    "    \"nrmsd_geod\": \"Normalized RMSD, Geodesic Regression\",\n",
    "    \"n_X\": \"Number of Points\",\n",
    "    \"n_geod_iterations\": \"Number of iterations in GR\",\n",
    "}"
   ]
  },
  {
   "cell_type": "markdown",
   "id": "9fca2902-bb4f-41ce-924b-35c1546c27c3",
   "metadata": {},
   "source": [
    "# First, look at Hypersphere"
   ]
  },
  {
   "cell_type": "code",
   "execution_count": null,
   "id": "f6a94fa7-3d41-49fd-bc83-7e59060e1efe",
   "metadata": {},
   "outputs": [],
   "source": [
    "import plotly.express as px\n",
    "import plotly.io as pio\n",
    "\n",
    "fontsize = 15\n",
    "\n",
    "\n",
    "def diff_scatter_grouped(\n",
    "    df,\n",
    "    colored_by=\"linear_residuals_colors\",\n",
    "    marked_by=\"geodesic_coef_err\",\n",
    "    y_label=\"geodesic_coef_err\",\n",
    "    x_label = \"geodesic_duration_time\",\n",
    "):\n",
    "    x = df[x_label]\n",
    "    y = df[y_label]\n",
    "    value_to_symbol = dict(\n",
    "        zip(df[marked_by].unique(), [\"square\", \"x\", \"cross\", \"diamond\", \"star\"])\n",
    "    )\n",
    "\n",
    "    if colored_by == \"n_steps\":\n",
    "        color_discrete_sequence = px.colors.sequential.Plasma_r\n",
    "    else:\n",
    "        color_discrete_sequence = px.colors.sequential.Viridis_r\n",
    "\n",
    "    fig = px.scatter(\n",
    "        df,\n",
    "        x=x,\n",
    "        y=y,\n",
    "        color=[str(c) for c in df[colored_by].values],\n",
    "        color_discrete_sequence=color_discrete_sequence,  # px.colors.qualitative.Dark24,  # D3 #Dark24 # Pastel\n",
    "        # color_discrete_sequence=px.colors.sequential.Viridis_r, #px.colors.qualitative.Dark24,  # D3 #Dark24 # Pastel\n",
    "        symbol=[s for s in df[marked_by].values],\n",
    "        symbol_map=value_to_symbol,\n",
    "    )\n",
    "\n",
    "    fig.update_layout(\n",
    "        xaxis_title=dict(\n",
    "            text=COL_TO_TEXT[x_label],\n",
    "            font=dict(family=\"CMU\", size=fontsize),\n",
    "        ),\n",
    "        yaxis_title=dict(\n",
    "            text=COL_TO_TEXT[y_label], font=dict(family=\"CMU\", size=fontsize)\n",
    "        ),\n",
    "        title_font=dict(family=\"CMU\", size=fontsize),\n",
    "        xaxis=dict(tickfont=dict(family=\"CMU\", size=fontsize)),\n",
    "        yaxis=dict(tickfont=dict(family=\"CMU\", size=fontsize)),\n",
    "        legend=dict(\n",
    "            font=dict(family=\"CMU\", size=fontsize), title=COL_TO_TEXT[colored_by]\n",
    "        ),\n",
    "        width=650,\n",
    "        height=370,\n",
    "    )\n",
    "\n",
    "    fig.update_traces(marker=dict(size=9, opacity=0.9))\n",
    "    pio.write_image(fig, f\"regression_benchmark_{colored_by}.svg\")\n",
    "    fig.show()"
   ]
  },
  {
   "cell_type": "code",
   "execution_count": null,
   "id": "b0dd31b2-825c-47fc-b6f0-e240f86e160e",
   "metadata": {},
   "outputs": [],
   "source": [
    "diff_scatter_grouped(\n",
    "    df = df_hypersphere,\n",
    "    colored_by=\"linear_residuals_colors\",\n",
    "    marked_by=\"geodesic_coef_err\",\n",
    "    y_label=\"geodesic_coef_err\",\n",
    "    x_label = \"n_geod_iterations\",\n",
    ")"
   ]
  },
  {
   "cell_type": "markdown",
   "id": "33403830-2aec-4150-852c-5e463d63bc7b",
   "metadata": {},
   "source": [
    "# Hyperboloid plot"
   ]
  },
  {
   "cell_type": "code",
   "execution_count": null,
   "id": "8695dc86-c948-4fe5-bf64-92586d461170",
   "metadata": {},
   "outputs": [],
   "source": [
    "diff_scatter_grouped(\n",
    "    df = df_hyperboloid,\n",
    "    colored_by=\"linear_residuals_colors\",\n",
    "    marked_by=\"geodesic_coef_err\",\n",
    "    y_label=\"geodesic_coef_err\",\n",
    "    x_label = \"n_geod_iterations\",\n",
    ")"
   ]
  },
  {
   "cell_type": "markdown",
   "id": "69c75e5b-c085-495c-8180-a21b73a0dc85",
   "metadata": {},
   "source": [
    "# Meeting with Nina: plots from white board"
   ]
  },
  {
   "cell_type": "markdown",
   "id": "b7b45aae-98da-46a7-a50b-3f2b3e9be8e4",
   "metadata": {},
   "source": [
    "1. Visualization of one training --> Go to notebook 10"
   ]
  },
  {
   "cell_type": "code",
   "execution_count": null,
   "id": "6ed3b282-5d4c-4e7c-b204-3255eda60ea2",
   "metadata": {},
   "outputs": [],
   "source": [
    "dim = 2\n",
    "n_X = 30\n",
    "space = Hyperbolic(dim=dim, default_coords_type=\"extrinsic\")"
   ]
  },
  {
   "cell_type": "code",
   "execution_count": null,
   "id": "732ac25e-fccf-4a32-bdf6-71eacf680c22",
   "metadata": {},
   "outputs": [],
   "source": [
    "true_sequence = space.metric.geodesic()"
   ]
  },
  {
   "cell_type": "code",
   "execution_count": null,
   "id": "b90d74dc-c1d4-4a66-b231-26a4d23c8eb3",
   "metadata": {},
   "outputs": [],
   "source": [
    "viz.benchmark_data_sequence(space=space, sequence_1=true_sequence, sequence_2 = , sequence_3 = )"
   ]
  },
  {
   "cell_type": "markdown",
   "id": "1858ff6a-8f86-4881-9288-2a9b335b816f",
   "metadata": {},
   "source": [
    "2. RMSD linear as a function of noise level"
   ]
  },
  {
   "cell_type": "code",
   "execution_count": null,
   "id": "83e69e73-bc97-4272-bf79-02bf409f8738",
   "metadata": {},
   "outputs": [],
   "source": [
    "# Parameters to fix\n",
    "dataset_name = \"hypersphere\"\n",
    "n_X = 30\n",
    "dim = 3"
   ]
  },
  {
   "cell_type": "code",
   "execution_count": null,
   "id": "c4de0161-1173-41a6-ba06-03373e978137",
   "metadata": {},
   "outputs": [],
   "source": [
    "df_space = df[df[\"dataset_name\"] == dataset_name]\n",
    "df_space = df_space.dropna(axis=1, how='all')\n",
    "df_space[\"linear_residuals_colors\"] = df_space[\"linear_residuals\"]*1\n",
    "df_space[\"linear_noise_colors\"] = df_space[\"linear_noise\"]*1\n",
    "\n",
    "df2 = df_space[df_space[\"space_dimension\"] == dim]"
   ]
  },
  {
   "cell_type": "code",
   "execution_count": null,
   "id": "795e245a-eeb9-4b78-9cd9-f2b72db11137",
   "metadata": {},
   "outputs": [],
   "source": [
    "#df_hyperboloid_gr = df_hyperboloid[df_hyperboloid[\"linear_residuals\"] == False]"
   ]
  },
  {
   "cell_type": "code",
   "execution_count": null,
   "id": "3ba94728-cca6-44d2-9e54-9314208f9cd0",
   "metadata": {},
   "outputs": [],
   "source": [
    "diff_scatter_grouped(\n",
    "    df = df2,\n",
    "    colored_by=\"linear_residuals_colors\",\n",
    "    marked_by=\"linear_noise_colors\",\n",
    "    y_label=\"nrmsd_geod\",\n",
    "    x_label = \"noise_factor\",\n",
    ")"
   ]
  },
  {
   "cell_type": "markdown",
   "id": "899afe4f-dd75-4ea1-bfa7-850a05a96a97",
   "metadata": {},
   "source": [
    "3. RMSD geodesic as a function of noise level (same plot as above, but we want to record the geodesic formulation of the RMSD)"
   ]
  },
  {
   "cell_type": "code",
   "execution_count": null,
   "id": "66c252c8-bcbb-4b3b-a614-194945fd0be2",
   "metadata": {},
   "outputs": [],
   "source": [
    "diff_scatter_grouped(\n",
    "    df = df_hyperboloid_gr,\n",
    "    colored_by=\"linear_residuals_colors\",\n",
    "    marked_by=\"linear_noise_colors\",\n",
    "    y_label=\"nrmsd_geod\",\n",
    "    x_label = \"noise_factor\",\n",
    ")"
   ]
  },
  {
   "cell_type": "markdown",
   "id": "2ddb02db-0bab-4f80-b8cd-99cf95d259e3",
   "metadata": {},
   "source": [
    "4. Number of iterations as a function of the sample size n_X"
   ]
  },
  {
   "cell_type": "markdown",
   "id": "0fec781f-78b3-466a-8520-cf7cb8386d67",
   "metadata": {},
   "source": [
    "4a.hyperboloid"
   ]
  },
  {
   "cell_type": "code",
   "execution_count": null,
   "id": "c6b9060d-ad47-4452-b90a-46f46519f028",
   "metadata": {},
   "outputs": [],
   "source": [
    "# Parameters to fix\n",
    "dataset_name = \"hypersphere\"\n",
    "\n",
    "dim = 3\n",
    "noise_factor = 0.01\n",
    "noise_type = \"geodesic\""
   ]
  },
  {
   "cell_type": "code",
   "execution_count": null,
   "id": "e13fd7c1-2580-4508-92c2-7bfb7aed6d51",
   "metadata": {},
   "outputs": [],
   "source": [
    "df_space = df[df[\"dataset_name\"] == dataset_name]\n",
    "df_space = df_space.dropna(axis=1, how='all')\n",
    "df_space[\"linear_residuals_colors\"] = df_space[\"linear_residuals\"]*1\n",
    "df_space[\"linear_noise_colors\"] = df_space[\"linear_noise\"]*1\n",
    "\n",
    "df4 = df_space[df_space[\"space_dimension\"] == dim]\n",
    "df4 = df4[df4[\"noise_factor\"] == noise_factor]\n",
    "df4 = df4[df4[\"linear_noise\"] == (noise_type == \"linear\")]"
   ]
  },
  {
   "cell_type": "code",
   "execution_count": null,
   "id": "c9e70747-ce64-490e-93b6-6f06b4d19e48",
   "metadata": {},
   "outputs": [],
   "source": [
    "diff_scatter_grouped(\n",
    "    df = df4,\n",
    "    colored_by=\"linear_residuals_colors\",\n",
    "    marked_by=\"linear_noise_colors\",\n",
    "    y_label=\"n_geod_iterations\",\n",
    "    x_label = \"n_X\",\n",
    ")"
   ]
  },
  {
   "cell_type": "markdown",
   "id": "f812592f-d1cf-4aa3-98e2-af6ec9b19b5a",
   "metadata": {},
   "source": [
    "4b.hypersphere"
   ]
  },
  {
   "cell_type": "markdown",
   "id": "19057567-aadb-443a-bc29-932ce1fa2879",
   "metadata": {},
   "source": [
    "## New viz function"
   ]
  },
  {
   "cell_type": "code",
   "execution_count": 42,
   "id": "ad86b3b5-9c1a-41b2-9513-36a50af89042",
   "metadata": {},
   "outputs": [],
   "source": [
    "import glob\n",
    "import os\n",
    "import subprocess\n",
    "\n",
    "import geomstats.backend as gs\n",
    "import geomstats.visualization as visualization\n",
    "import matplotlib\n",
    "import matplotlib.pyplot as plt\n",
    "import nibabel\n",
    "import numpy as np\n",
    "import plotly.express as px\n",
    "import plotly.graph_objects as go\n",
    "import plotly.io as pio\n",
    "from matplotlib import animation\n",
    "\n",
    "\n",
    "COL_TO_TEXT = {\n",
    "    \"diff_seq_per_time_vertex_diameter\": \"Error per mesh per vertex [% diameter]\",\n",
    "    \"diff_seq_duration_per_time_and_vertex\": \"Time difference [secs] per mesh and vertex\",\n",
    "    \"relative_diff_seq_duration\": \"Time difference per vertex [% line]\",\n",
    "    \"n_steps\": \"Number of steps\",\n",
    "    \"n_vertices\": \"Number of vertices\",\n",
    "    \"rmsd\": \"RMSD\",\n",
    "    \"rmsd_linear\": \"RMSD, linear dist\",\n",
    "    \"rmsd_diameter\": \"RMSD, Line vs. Geodesic (per diameter)\",\n",
    "    \"speed\": \"Speed gain\",\n",
    "    \"accuracy\": \"Accuracy\",\n",
    "    \"linear_residuals\": \"Regression\",\n",
    "    \"linear_noise\": \"Noise\",\n",
    "    \"geodesic_coef_err\": \"Geodesic Coef Error\",\n",
    "    \"geodesic_duration_time\": \"Geodesic Duration Time\",\n",
    "    \"noise_factor\": \"Noise Factor\",\n",
    "    \"rmsd_geod\": \"RMSD, Geodesic Regression\",\n",
    "    \"nrmsd_geod\": \"Normalized RMSD, Geodesic Regression\",\n",
    "    \"n_X\": \"Number of Points\",\n",
    "    \"n_geod_iterations\": \"Number of iterations in GR\",\n",
    "    \"estimator\": \"Estimator\"\n",
    "}\n",
    "\n",
    "FONTSIZE = 18\n",
    "\n",
    "def scatterplot_evaluation(\n",
    "    df,\n",
    "    colored_by=\"noise_factor\",\n",
    "    marked_by=\"n_steps\",\n",
    "    x_label=\"n_steps\",\n",
    "    y_label=\"relative_diff_seq_duration\",\n",
    "):\n",
    "    \"\"\"Scatterplot of results.\n",
    "\n",
    "    Parameters\n",
    "    ----------\n",
    "    df : pandas.DataFrame\n",
    "        Dataframe made from wandb with config and results.\n",
    "    colored_by : string\n",
    "        Column name to color the points by.\n",
    "    marked_by : string\n",
    "        Column name to mark the points by, using different symbols.\n",
    "    x_label : string\n",
    "        Column name to plot on the x-axis.\n",
    "    y_label : string\n",
    "        Column name to plot on the y-axis.\n",
    "    \"\"\"\n",
    "    x = df[x_label]\n",
    "    y = df[y_label]\n",
    "    value_to_symbol = dict(\n",
    "        zip(df[marked_by].unique(), [\"arrow-left\", \"arrow-right\", \"arrow-left\", \"square\", \"x\", \"cross\", \"diamond\", \"star\"])\n",
    "    )\n",
    "\n",
    "    marked_values = [s for s in df[marked_by].values]\n",
    "    if marked_by == \"linear_noise\":\n",
    "        symbol_value_to_legend_value = {\n",
    "            s: \"Linear Noise\" if s else \"Manifold Noise\" for s in df[marked_by].unique()\n",
    "        }\n",
    "        marked_values = [\n",
    "            symbol_value_to_legend_value[s] if ~np.isnan(s) else s\n",
    "            for s in df[marked_by].values\n",
    "        ]\n",
    "\n",
    "    colored_values = [str(c) for c in df[colored_by].values]\n",
    "    if colored_by == \"linear_residuals\":\n",
    "        color_value_to_legend_value = {\n",
    "            c: \"GRLR\" if c else \"GR\" for c in df[colored_by].unique()\n",
    "        }\n",
    "        colored_values = [\n",
    "            color_value_to_legend_value[c] if ~np.isnan(c) else c\n",
    "            for c in df[colored_by].values\n",
    "        ]\n",
    "\n",
    "    if colored_by == \"n_steps\":\n",
    "        color_discrete_sequence = px.colors.sequential.Plasma_r\n",
    "    else:\n",
    "        color_discrete_sequence = px.colors.sequential.Viridis_r #\n",
    "\n",
    "    fig = px.scatter(\n",
    "        df,\n",
    "        x=x,\n",
    "        y=y,\n",
    "        color=colored_values,\n",
    "        color_discrete_sequence=color_discrete_sequence,\n",
    "        symbol=marked_values,\n",
    "        symbol_map=value_to_symbol,\n",
    "    )\n",
    "\n",
    "    legend_title = COL_TO_TEXT[colored_by] + \", \" + COL_TO_TEXT[marked_by]\n",
    "\n",
    "    fig.update_layout(\n",
    "        xaxis_title=dict(\n",
    "            text=COL_TO_TEXT[x_label],\n",
    "            font=dict(family=\"CMU\", size=FONTSIZE),\n",
    "        ),\n",
    "        yaxis_title=dict(\n",
    "            text=COL_TO_TEXT[y_label], font=dict(family=\"CMU\", size=FONTSIZE)\n",
    "        ),\n",
    "        title_font=dict(family=\"CMU\", size=FONTSIZE),\n",
    "        xaxis=dict(tickfont=dict(family=\"CMU\", size=FONTSIZE)),\n",
    "        yaxis=dict(tickfont=dict(family=\"CMU\", size=FONTSIZE)),\n",
    "        legend=dict(font=dict(family=\"CMU\", size=FONTSIZE), title=legend_title),\n",
    "        width=650,\n",
    "        height=370,\n",
    "    )\n",
    "\n",
    "    fig.update_traces(marker=dict(size=9, opacity=0.9))\n",
    "    fig.show()\n",
    "    # return fig\n"
   ]
  },
  {
   "cell_type": "markdown",
   "id": "69a50c4d-54b2-4f8e-8f24-11e5540c4c24",
   "metadata": {},
   "source": [
    "# For Meshes"
   ]
  },
  {
   "cell_type": "code",
   "execution_count": 44,
   "id": "dd530856-3169-42b5-b6f0-5def922bb760",
   "metadata": {},
   "outputs": [
    {
     "data": {
      "application/vnd.plotly.v1+json": {
       "config": {
        "plotlyServerURL": "https://plot.ly"
       },
       "data": [
        {
         "hovertemplate": "color=Lin2015<br>symbol=Lin2015<br>noise_factor=%{x}<br>rmsd_linear=%{y}<extra></extra>",
         "legendgroup": "Lin2015, Lin2015",
         "marker": {
          "color": "#fde725",
          "opacity": 0.9,
          "size": 9,
          "symbol": "arrow-left"
         },
         "mode": "markers",
         "name": "Lin2015, Lin2015",
         "orientation": "v",
         "showlegend": true,
         "type": "scatter",
         "x": [
          0.2,
          0.1,
          0.01,
          0,
          0.2,
          0.1,
          0.01,
          0,
          0.2,
          0.1,
          0.01,
          0,
          0.2,
          0.1,
          0.01,
          0
         ],
         "xaxis": "x",
         "y": [
          0.0737256959604881,
          0.0530018663591543,
          0.0110053983586533,
          0.0090728901931124,
          0.0927446070159069,
          0.0560177417732911,
          0.010483884812369,
          0.0091870479391736,
          0.0714732454470734,
          0.0419750735121226,
          0.010728086348734,
          0.0095607866744516,
          0.0499614237050582,
          0.0398292043051495,
          0.0099896683357541,
          0.0097211943825369
         ],
         "yaxis": "y"
        },
        {
         "hovertemplate": "color=LLS<br>symbol=LLS<br>noise_factor=%{x}<br>rmsd_linear=%{y}<extra></extra>",
         "legendgroup": "LLS, LLS",
         "marker": {
          "color": "#b5de2b",
          "opacity": 0.9,
          "size": 9,
          "symbol": "arrow-right"
         },
         "mode": "markers",
         "name": "LLS, LLS",
         "orientation": "v",
         "showlegend": true,
         "type": "scatter",
         "x": [
          0.2,
          0.1,
          0.01,
          0,
          0.2,
          0.1,
          0.01,
          0,
          0.2,
          0.1,
          0.01,
          0,
          0.2,
          0.1,
          0.01,
          0
         ],
         "xaxis": "x",
         "y": [
          0.0813346932044009,
          0.0458882359777475,
          0.0111886294386644,
          0.0090729621185848,
          0.0933950456541649,
          0.0435130671811867,
          0.0106840694831178,
          0.0091871672652107,
          0.0629707880259901,
          0.0431164477433381,
          0.0108888217081852,
          0.0095609093706947,
          0.0895612171050499,
          0.0538530770999939,
          0.0112409090747743,
          0.0097213132246319
         ],
         "yaxis": "y"
        },
        {
         "hovertemplate": "color=GLS<br>symbol=GLS<br>noise_factor=%{x}<br>rmsd_linear=%{y}<extra></extra>",
         "legendgroup": "GLS, GLS",
         "marker": {
          "color": "#6ece58",
          "opacity": 0.9,
          "size": 9,
          "symbol": "arrow-left"
         },
         "mode": "markers",
         "name": "GLS, GLS",
         "orientation": "v",
         "showlegend": true,
         "type": "scatter",
         "x": [
          0.2,
          0.1,
          0.01,
          0,
          0.2,
          0.1,
          0.01,
          0,
          0.2,
          0.1,
          0.01,
          0,
          0.2,
          0.1,
          0.01,
          0
         ],
         "xaxis": "x",
         "y": [
          0.0813343834710257,
          0.0458880867524526,
          0.0389630798944909,
          0.0431497538993151,
          0.093395650982853,
          0.0435130654660388,
          0.0336431714061334,
          0.0413587256131979,
          0.063490161693965,
          0.0431162866417713,
          0.0371933774593311,
          0.0450362508624909,
          0.0798966342853992,
          0.0640471757301322,
          0.0393344392044801,
          0.0389023911853044
         ],
         "yaxis": "y"
        }
       ],
       "layout": {
        "height": 370,
        "legend": {
         "font": {
          "family": "CMU",
          "size": 18
         },
         "title": {
          "text": "Estimator, Estimator"
         },
         "tracegroupgap": 0
        },
        "margin": {
         "t": 60
        },
        "template": {
         "data": {
          "bar": [
           {
            "error_x": {
             "color": "#2a3f5f"
            },
            "error_y": {
             "color": "#2a3f5f"
            },
            "marker": {
             "line": {
              "color": "#E5ECF6",
              "width": 0.5
             },
             "pattern": {
              "fillmode": "overlay",
              "size": 10,
              "solidity": 0.2
             }
            },
            "type": "bar"
           }
          ],
          "barpolar": [
           {
            "marker": {
             "line": {
              "color": "#E5ECF6",
              "width": 0.5
             },
             "pattern": {
              "fillmode": "overlay",
              "size": 10,
              "solidity": 0.2
             }
            },
            "type": "barpolar"
           }
          ],
          "carpet": [
           {
            "aaxis": {
             "endlinecolor": "#2a3f5f",
             "gridcolor": "white",
             "linecolor": "white",
             "minorgridcolor": "white",
             "startlinecolor": "#2a3f5f"
            },
            "baxis": {
             "endlinecolor": "#2a3f5f",
             "gridcolor": "white",
             "linecolor": "white",
             "minorgridcolor": "white",
             "startlinecolor": "#2a3f5f"
            },
            "type": "carpet"
           }
          ],
          "choropleth": [
           {
            "colorbar": {
             "outlinewidth": 0,
             "ticks": ""
            },
            "type": "choropleth"
           }
          ],
          "contour": [
           {
            "colorbar": {
             "outlinewidth": 0,
             "ticks": ""
            },
            "colorscale": [
             [
              0,
              "#0d0887"
             ],
             [
              0.1111111111111111,
              "#46039f"
             ],
             [
              0.2222222222222222,
              "#7201a8"
             ],
             [
              0.3333333333333333,
              "#9c179e"
             ],
             [
              0.4444444444444444,
              "#bd3786"
             ],
             [
              0.5555555555555556,
              "#d8576b"
             ],
             [
              0.6666666666666666,
              "#ed7953"
             ],
             [
              0.7777777777777778,
              "#fb9f3a"
             ],
             [
              0.8888888888888888,
              "#fdca26"
             ],
             [
              1,
              "#f0f921"
             ]
            ],
            "type": "contour"
           }
          ],
          "contourcarpet": [
           {
            "colorbar": {
             "outlinewidth": 0,
             "ticks": ""
            },
            "type": "contourcarpet"
           }
          ],
          "heatmap": [
           {
            "colorbar": {
             "outlinewidth": 0,
             "ticks": ""
            },
            "colorscale": [
             [
              0,
              "#0d0887"
             ],
             [
              0.1111111111111111,
              "#46039f"
             ],
             [
              0.2222222222222222,
              "#7201a8"
             ],
             [
              0.3333333333333333,
              "#9c179e"
             ],
             [
              0.4444444444444444,
              "#bd3786"
             ],
             [
              0.5555555555555556,
              "#d8576b"
             ],
             [
              0.6666666666666666,
              "#ed7953"
             ],
             [
              0.7777777777777778,
              "#fb9f3a"
             ],
             [
              0.8888888888888888,
              "#fdca26"
             ],
             [
              1,
              "#f0f921"
             ]
            ],
            "type": "heatmap"
           }
          ],
          "heatmapgl": [
           {
            "colorbar": {
             "outlinewidth": 0,
             "ticks": ""
            },
            "colorscale": [
             [
              0,
              "#0d0887"
             ],
             [
              0.1111111111111111,
              "#46039f"
             ],
             [
              0.2222222222222222,
              "#7201a8"
             ],
             [
              0.3333333333333333,
              "#9c179e"
             ],
             [
              0.4444444444444444,
              "#bd3786"
             ],
             [
              0.5555555555555556,
              "#d8576b"
             ],
             [
              0.6666666666666666,
              "#ed7953"
             ],
             [
              0.7777777777777778,
              "#fb9f3a"
             ],
             [
              0.8888888888888888,
              "#fdca26"
             ],
             [
              1,
              "#f0f921"
             ]
            ],
            "type": "heatmapgl"
           }
          ],
          "histogram": [
           {
            "marker": {
             "pattern": {
              "fillmode": "overlay",
              "size": 10,
              "solidity": 0.2
             }
            },
            "type": "histogram"
           }
          ],
          "histogram2d": [
           {
            "colorbar": {
             "outlinewidth": 0,
             "ticks": ""
            },
            "colorscale": [
             [
              0,
              "#0d0887"
             ],
             [
              0.1111111111111111,
              "#46039f"
             ],
             [
              0.2222222222222222,
              "#7201a8"
             ],
             [
              0.3333333333333333,
              "#9c179e"
             ],
             [
              0.4444444444444444,
              "#bd3786"
             ],
             [
              0.5555555555555556,
              "#d8576b"
             ],
             [
              0.6666666666666666,
              "#ed7953"
             ],
             [
              0.7777777777777778,
              "#fb9f3a"
             ],
             [
              0.8888888888888888,
              "#fdca26"
             ],
             [
              1,
              "#f0f921"
             ]
            ],
            "type": "histogram2d"
           }
          ],
          "histogram2dcontour": [
           {
            "colorbar": {
             "outlinewidth": 0,
             "ticks": ""
            },
            "colorscale": [
             [
              0,
              "#0d0887"
             ],
             [
              0.1111111111111111,
              "#46039f"
             ],
             [
              0.2222222222222222,
              "#7201a8"
             ],
             [
              0.3333333333333333,
              "#9c179e"
             ],
             [
              0.4444444444444444,
              "#bd3786"
             ],
             [
              0.5555555555555556,
              "#d8576b"
             ],
             [
              0.6666666666666666,
              "#ed7953"
             ],
             [
              0.7777777777777778,
              "#fb9f3a"
             ],
             [
              0.8888888888888888,
              "#fdca26"
             ],
             [
              1,
              "#f0f921"
             ]
            ],
            "type": "histogram2dcontour"
           }
          ],
          "mesh3d": [
           {
            "colorbar": {
             "outlinewidth": 0,
             "ticks": ""
            },
            "type": "mesh3d"
           }
          ],
          "parcoords": [
           {
            "line": {
             "colorbar": {
              "outlinewidth": 0,
              "ticks": ""
             }
            },
            "type": "parcoords"
           }
          ],
          "pie": [
           {
            "automargin": true,
            "type": "pie"
           }
          ],
          "scatter": [
           {
            "fillpattern": {
             "fillmode": "overlay",
             "size": 10,
             "solidity": 0.2
            },
            "type": "scatter"
           }
          ],
          "scatter3d": [
           {
            "line": {
             "colorbar": {
              "outlinewidth": 0,
              "ticks": ""
             }
            },
            "marker": {
             "colorbar": {
              "outlinewidth": 0,
              "ticks": ""
             }
            },
            "type": "scatter3d"
           }
          ],
          "scattercarpet": [
           {
            "marker": {
             "colorbar": {
              "outlinewidth": 0,
              "ticks": ""
             }
            },
            "type": "scattercarpet"
           }
          ],
          "scattergeo": [
           {
            "marker": {
             "colorbar": {
              "outlinewidth": 0,
              "ticks": ""
             }
            },
            "type": "scattergeo"
           }
          ],
          "scattergl": [
           {
            "marker": {
             "colorbar": {
              "outlinewidth": 0,
              "ticks": ""
             }
            },
            "type": "scattergl"
           }
          ],
          "scattermapbox": [
           {
            "marker": {
             "colorbar": {
              "outlinewidth": 0,
              "ticks": ""
             }
            },
            "type": "scattermapbox"
           }
          ],
          "scatterpolar": [
           {
            "marker": {
             "colorbar": {
              "outlinewidth": 0,
              "ticks": ""
             }
            },
            "type": "scatterpolar"
           }
          ],
          "scatterpolargl": [
           {
            "marker": {
             "colorbar": {
              "outlinewidth": 0,
              "ticks": ""
             }
            },
            "type": "scatterpolargl"
           }
          ],
          "scatterternary": [
           {
            "marker": {
             "colorbar": {
              "outlinewidth": 0,
              "ticks": ""
             }
            },
            "type": "scatterternary"
           }
          ],
          "surface": [
           {
            "colorbar": {
             "outlinewidth": 0,
             "ticks": ""
            },
            "colorscale": [
             [
              0,
              "#0d0887"
             ],
             [
              0.1111111111111111,
              "#46039f"
             ],
             [
              0.2222222222222222,
              "#7201a8"
             ],
             [
              0.3333333333333333,
              "#9c179e"
             ],
             [
              0.4444444444444444,
              "#bd3786"
             ],
             [
              0.5555555555555556,
              "#d8576b"
             ],
             [
              0.6666666666666666,
              "#ed7953"
             ],
             [
              0.7777777777777778,
              "#fb9f3a"
             ],
             [
              0.8888888888888888,
              "#fdca26"
             ],
             [
              1,
              "#f0f921"
             ]
            ],
            "type": "surface"
           }
          ],
          "table": [
           {
            "cells": {
             "fill": {
              "color": "#EBF0F8"
             },
             "line": {
              "color": "white"
             }
            },
            "header": {
             "fill": {
              "color": "#C8D4E3"
             },
             "line": {
              "color": "white"
             }
            },
            "type": "table"
           }
          ]
         },
         "layout": {
          "annotationdefaults": {
           "arrowcolor": "#2a3f5f",
           "arrowhead": 0,
           "arrowwidth": 1
          },
          "autotypenumbers": "strict",
          "coloraxis": {
           "colorbar": {
            "outlinewidth": 0,
            "ticks": ""
           }
          },
          "colorscale": {
           "diverging": [
            [
             0,
             "#8e0152"
            ],
            [
             0.1,
             "#c51b7d"
            ],
            [
             0.2,
             "#de77ae"
            ],
            [
             0.3,
             "#f1b6da"
            ],
            [
             0.4,
             "#fde0ef"
            ],
            [
             0.5,
             "#f7f7f7"
            ],
            [
             0.6,
             "#e6f5d0"
            ],
            [
             0.7,
             "#b8e186"
            ],
            [
             0.8,
             "#7fbc41"
            ],
            [
             0.9,
             "#4d9221"
            ],
            [
             1,
             "#276419"
            ]
           ],
           "sequential": [
            [
             0,
             "#0d0887"
            ],
            [
             0.1111111111111111,
             "#46039f"
            ],
            [
             0.2222222222222222,
             "#7201a8"
            ],
            [
             0.3333333333333333,
             "#9c179e"
            ],
            [
             0.4444444444444444,
             "#bd3786"
            ],
            [
             0.5555555555555556,
             "#d8576b"
            ],
            [
             0.6666666666666666,
             "#ed7953"
            ],
            [
             0.7777777777777778,
             "#fb9f3a"
            ],
            [
             0.8888888888888888,
             "#fdca26"
            ],
            [
             1,
             "#f0f921"
            ]
           ],
           "sequentialminus": [
            [
             0,
             "#0d0887"
            ],
            [
             0.1111111111111111,
             "#46039f"
            ],
            [
             0.2222222222222222,
             "#7201a8"
            ],
            [
             0.3333333333333333,
             "#9c179e"
            ],
            [
             0.4444444444444444,
             "#bd3786"
            ],
            [
             0.5555555555555556,
             "#d8576b"
            ],
            [
             0.6666666666666666,
             "#ed7953"
            ],
            [
             0.7777777777777778,
             "#fb9f3a"
            ],
            [
             0.8888888888888888,
             "#fdca26"
            ],
            [
             1,
             "#f0f921"
            ]
           ]
          },
          "colorway": [
           "#636efa",
           "#EF553B",
           "#00cc96",
           "#ab63fa",
           "#FFA15A",
           "#19d3f3",
           "#FF6692",
           "#B6E880",
           "#FF97FF",
           "#FECB52"
          ],
          "font": {
           "color": "#2a3f5f"
          },
          "geo": {
           "bgcolor": "white",
           "lakecolor": "white",
           "landcolor": "#E5ECF6",
           "showlakes": true,
           "showland": true,
           "subunitcolor": "white"
          },
          "hoverlabel": {
           "align": "left"
          },
          "hovermode": "closest",
          "mapbox": {
           "style": "light"
          },
          "paper_bgcolor": "white",
          "plot_bgcolor": "#E5ECF6",
          "polar": {
           "angularaxis": {
            "gridcolor": "white",
            "linecolor": "white",
            "ticks": ""
           },
           "bgcolor": "#E5ECF6",
           "radialaxis": {
            "gridcolor": "white",
            "linecolor": "white",
            "ticks": ""
           }
          },
          "scene": {
           "xaxis": {
            "backgroundcolor": "#E5ECF6",
            "gridcolor": "white",
            "gridwidth": 2,
            "linecolor": "white",
            "showbackground": true,
            "ticks": "",
            "zerolinecolor": "white"
           },
           "yaxis": {
            "backgroundcolor": "#E5ECF6",
            "gridcolor": "white",
            "gridwidth": 2,
            "linecolor": "white",
            "showbackground": true,
            "ticks": "",
            "zerolinecolor": "white"
           },
           "zaxis": {
            "backgroundcolor": "#E5ECF6",
            "gridcolor": "white",
            "gridwidth": 2,
            "linecolor": "white",
            "showbackground": true,
            "ticks": "",
            "zerolinecolor": "white"
           }
          },
          "shapedefaults": {
           "line": {
            "color": "#2a3f5f"
           }
          },
          "ternary": {
           "aaxis": {
            "gridcolor": "white",
            "linecolor": "white",
            "ticks": ""
           },
           "baxis": {
            "gridcolor": "white",
            "linecolor": "white",
            "ticks": ""
           },
           "bgcolor": "#E5ECF6",
           "caxis": {
            "gridcolor": "white",
            "linecolor": "white",
            "ticks": ""
           }
          },
          "title": {
           "x": 0.05
          },
          "xaxis": {
           "automargin": true,
           "gridcolor": "white",
           "linecolor": "white",
           "ticks": "",
           "title": {
            "standoff": 15
           },
           "zerolinecolor": "white",
           "zerolinewidth": 2
          },
          "yaxis": {
           "automargin": true,
           "gridcolor": "white",
           "linecolor": "white",
           "ticks": "",
           "title": {
            "standoff": 15
           },
           "zerolinecolor": "white",
           "zerolinewidth": 2
          }
         }
        },
        "title": {
         "font": {
          "family": "CMU",
          "size": 18
         }
        },
        "width": 650,
        "xaxis": {
         "anchor": "y",
         "autorange": true,
         "domain": [
          0,
          1
         ],
         "range": [
          -0.015051221434200159,
          0.21505122143420016
         ],
         "tickfont": {
          "family": "CMU",
          "size": 18
         },
         "title": {
          "font": {
           "family": "CMU",
           "size": 18
          },
          "text": "Noise Factor"
         },
         "type": "linear"
        },
        "yaxis": {
         "anchor": "x",
         "autorange": true,
         "domain": [
          0,
          1
         ],
         "range": [
          0.0016959947728094225,
          0.10077254640315599
         ],
         "tickfont": {
          "family": "CMU",
          "size": 18
         },
         "title": {
          "font": {
           "family": "CMU",
           "size": 18
          },
          "text": "RMSD, linear dist"
         },
         "type": "linear"
        }
       }
      },
      "image/png": "[encoded data removed]",
      "text/html": [
       "<div>                            <div id=\"da1e00f4-bf21-4fea-9689-f3cbdba81f82\" class=\"plotly-graph-div\" style=\"height:370px; width:650px;\"></div>            <script type=\"text/javascript\">                require([\"plotly\"], function(Plotly) {                    window.PLOTLYENV=window.PLOTLYENV || {};                                    if (document.getElementById(\"da1e00f4-bf21-4fea-9689-f3cbdba81f82\")) {                    Plotly.newPlot(                        \"da1e00f4-bf21-4fea-9689-f3cbdba81f82\",                        [{\"hovertemplate\":\"color=Lin2015\\u003cbr\\u003esymbol=Lin2015\\u003cbr\\u003enoise_factor=%{x}\\u003cbr\\u003ermsd_linear=%{y}\\u003cextra\\u003e\\u003c\\u002fextra\\u003e\",\"legendgroup\":\"Lin2015, Lin2015\",\"marker\":{\"color\":\"#fde725\",\"symbol\":\"arrow-left\",\"opacity\":0.9,\"size\":9},\"mode\":\"markers\",\"name\":\"Lin2015, Lin2015\",\"orientation\":\"v\",\"showlegend\":true,\"x\":[0.2,0.1,0.01,0.0,0.2,0.1,0.01,0.0,0.2,0.1,0.01,0.0,0.2,0.1,0.01,0.0],\"xaxis\":\"x\",\"y\":[0.0737256959604881,0.0530018663591543,0.0110053983586533,0.0090728901931124,0.0927446070159069,0.0560177417732911,0.010483884812369,0.0091870479391736,0.0714732454470734,0.0419750735121226,0.010728086348734,0.0095607866744516,0.0499614237050582,0.0398292043051495,0.0099896683357541,0.0097211943825369],\"yaxis\":\"y\",\"type\":\"scatter\"},{\"hovertemplate\":\"color=LLS\\u003cbr\\u003esymbol=LLS\\u003cbr\\u003enoise_factor=%{x}\\u003cbr\\u003ermsd_linear=%{y}\\u003cextra\\u003e\\u003c\\u002fextra\\u003e\",\"legendgroup\":\"LLS, LLS\",\"marker\":{\"color\":\"#b5de2b\",\"symbol\":\"arrow-right\",\"opacity\":0.9,\"size\":9},\"mode\":\"markers\",\"name\":\"LLS, LLS\",\"orientation\":\"v\",\"showlegend\":true,\"x\":[0.2,0.1,0.01,0.0,0.2,0.1,0.01,0.0,0.2,0.1,0.01,0.0,0.2,0.1,0.01,0.0],\"xaxis\":\"x\",\"y\":[0.0813346932044009,0.0458882359777475,0.0111886294386644,0.0090729621185848,0.0933950456541649,0.0435130671811867,0.0106840694831178,0.0091871672652107,0.0629707880259901,0.0431164477433381,0.0108888217081852,0.0095609093706947,0.0895612171050499,0.0538530770999939,0.0112409090747743,0.0097213132246319],\"yaxis\":\"y\",\"type\":\"scatter\"},{\"hovertemplate\":\"color=GLS\\u003cbr\\u003esymbol=GLS\\u003cbr\\u003enoise_factor=%{x}\\u003cbr\\u003ermsd_linear=%{y}\\u003cextra\\u003e\\u003c\\u002fextra\\u003e\",\"legendgroup\":\"GLS, GLS\",\"marker\":{\"color\":\"#6ece58\",\"symbol\":\"arrow-left\",\"opacity\":0.9,\"size\":9},\"mode\":\"markers\",\"name\":\"GLS, GLS\",\"orientation\":\"v\",\"showlegend\":true,\"x\":[0.2,0.1,0.01,0.0,0.2,0.1,0.01,0.0,0.2,0.1,0.01,0.0,0.2,0.1,0.01,0.0],\"xaxis\":\"x\",\"y\":[0.0813343834710257,0.0458880867524526,0.0389630798944909,0.0431497538993151,0.093395650982853,0.0435130654660388,0.0336431714061334,0.0413587256131979,0.063490161693965,0.0431162866417713,0.0371933774593311,0.0450362508624909,0.0798966342853992,0.0640471757301322,0.0393344392044801,0.0389023911853044],\"yaxis\":\"y\",\"type\":\"scatter\"}],                        {\"template\":{\"data\":{\"histogram2dcontour\":[{\"type\":\"histogram2dcontour\",\"colorbar\":{\"outlinewidth\":0,\"ticks\":\"\"},\"colorscale\":[[0.0,\"#0d0887\"],[0.1111111111111111,\"#46039f\"],[0.2222222222222222,\"#7201a8\"],[0.3333333333333333,\"#9c179e\"],[0.4444444444444444,\"#bd3786\"],[0.5555555555555556,\"#d8576b\"],[0.6666666666666666,\"#ed7953\"],[0.7777777777777778,\"#fb9f3a\"],[0.8888888888888888,\"#fdca26\"],[1.0,\"#f0f921\"]]}],\"choropleth\":[{\"type\":\"choropleth\",\"colorbar\":{\"outlinewidth\":0,\"ticks\":\"\"}}],\"histogram2d\":[{\"type\":\"histogram2d\",\"colorbar\":{\"outlinewidth\":0,\"ticks\":\"\"},\"colorscale\":[[0.0,\"#0d0887\"],[0.1111111111111111,\"#46039f\"],[0.2222222222222222,\"#7201a8\"],[0.3333333333333333,\"#9c179e\"],[0.4444444444444444,\"#bd3786\"],[0.5555555555555556,\"#d8576b\"],[0.6666666666666666,\"#ed7953\"],[0.7777777777777778,\"#fb9f3a\"],[0.8888888888888888,\"#fdca26\"],[1.0,\"#f0f921\"]]}],\"heatmap\":[{\"type\":\"heatmap\",\"colorbar\":{\"outlinewidth\":0,\"ticks\":\"\"},\"colorscale\":[[0.0,\"#0d0887\"],[0.1111111111111111,\"#46039f\"],[0.2222222222222222,\"#7201a8\"],[0.3333333333333333,\"#9c179e\"],[0.4444444444444444,\"#bd3786\"],[0.5555555555555556,\"#d8576b\"],[0.6666666666666666,\"#ed7953\"],[0.7777777777777778,\"#fb9f3a\"],[0.8888888888888888,\"#fdca26\"],[1.0,\"#f0f921\"]]}],\"heatmapgl\":[{\"type\":\"heatmapgl\",\"colorbar\":{\"outlinewidth\":0,\"ticks\":\"\"},\"colorscale\":[[0.0,\"#0d0887\"],[0.1111111111111111,\"#46039f\"],[0.2222222222222222,\"#7201a8\"],[0.3333333333333333,\"#9c179e\"],[0.4444444444444444,\"#bd3786\"],[0.5555555555555556,\"#d8576b\"],[0.6666666666666666,\"#ed7953\"],[0.7777777777777778,\"#fb9f3a\"],[0.8888888888888888,\"#fdca26\"],[1.0,\"#f0f921\"]]}],\"contourcarpet\":[{\"type\":\"contourcarpet\",\"colorbar\":{\"outlinewidth\":0,\"ticks\":\"\"}}],\"contour\":[{\"type\":\"contour\",\"colorbar\":{\"outlinewidth\":0,\"ticks\":\"\"},\"colorscale\":[[0.0,\"#0d0887\"],[0.1111111111111111,\"#46039f\"],[0.2222222222222222,\"#7201a8\"],[0.3333333333333333,\"#9c179e\"],[0.4444444444444444,\"#bd3786\"],[0.5555555555555556,\"#d8576b\"],[0.6666666666666666,\"#ed7953\"],[0.7777777777777778,\"#fb9f3a\"],[0.8888888888888888,\"#fdca26\"],[1.0,\"#f0f921\"]]}],\"surface\":[{\"type\":\"surface\",\"colorbar\":{\"outlinewidth\":0,\"ticks\":\"\"},\"colorscale\":[[0.0,\"#0d0887\"],[0.1111111111111111,\"#46039f\"],[0.2222222222222222,\"#7201a8\"],[0.3333333333333333,\"#9c179e\"],[0.4444444444444444,\"#bd3786\"],[0.5555555555555556,\"#d8576b\"],[0.6666666666666666,\"#ed7953\"],[0.7777777777777778,\"#fb9f3a\"],[0.8888888888888888,\"#fdca26\"],[1.0,\"#f0f921\"]]}],\"mesh3d\":[{\"type\":\"mesh3d\",\"colorbar\":{\"outlinewidth\":0,\"ticks\":\"\"}}],\"scatter\":[{\"fillpattern\":{\"fillmode\":\"overlay\",\"size\":10,\"solidity\":0.2},\"type\":\"scatter\"}],\"parcoords\":[{\"type\":\"parcoords\",\"line\":{\"colorbar\":{\"outlinewidth\":0,\"ticks\":\"\"}}}],\"scatterpolargl\":[{\"type\":\"scatterpolargl\",\"marker\":{\"colorbar\":{\"outlinewidth\":0,\"ticks\":\"\"}}}],\"bar\":[{\"error_x\":{\"color\":\"#2a3f5f\"},\"error_y\":{\"color\":\"#2a3f5f\"},\"marker\":{\"line\":{\"color\":\"#E5ECF6\",\"width\":0.5},\"pattern\":{\"fillmode\":\"overlay\",\"size\":10,\"solidity\":0.2}},\"type\":\"bar\"}],\"scattergeo\":[{\"type\":\"scattergeo\",\"marker\":{\"colorbar\":{\"outlinewidth\":0,\"ticks\":\"\"}}}],\"scatterpolar\":[{\"type\":\"scatterpolar\",\"marker\":{\"colorbar\":{\"outlinewidth\":0,\"ticks\":\"\"}}}],\"histogram\":[{\"marker\":{\"pattern\":{\"fillmode\":\"overlay\",\"size\":10,\"solidity\":0.2}},\"type\":\"histogram\"}],\"scattergl\":[{\"type\":\"scattergl\",\"marker\":{\"colorbar\":{\"outlinewidth\":0,\"ticks\":\"\"}}}],\"scatter3d\":[{\"type\":\"scatter3d\",\"line\":{\"colorbar\":{\"outlinewidth\":0,\"ticks\":\"\"}},\"marker\":{\"colorbar\":{\"outlinewidth\":0,\"ticks\":\"\"}}}],\"scattermapbox\":[{\"type\":\"scattermapbox\",\"marker\":{\"colorbar\":{\"outlinewidth\":0,\"ticks\":\"\"}}}],\"scatterternary\":[{\"type\":\"scatterternary\",\"marker\":{\"colorbar\":{\"outlinewidth\":0,\"ticks\":\"\"}}}],\"scattercarpet\":[{\"type\":\"scattercarpet\",\"marker\":{\"colorbar\":{\"outlinewidth\":0,\"ticks\":\"\"}}}],\"carpet\":[{\"aaxis\":{\"endlinecolor\":\"#2a3f5f\",\"gridcolor\":\"white\",\"linecolor\":\"white\",\"minorgridcolor\":\"white\",\"startlinecolor\":\"#2a3f5f\"},\"baxis\":{\"endlinecolor\":\"#2a3f5f\",\"gridcolor\":\"white\",\"linecolor\":\"white\",\"minorgridcolor\":\"white\",\"startlinecolor\":\"#2a3f5f\"},\"type\":\"carpet\"}],\"table\":[{\"cells\":{\"fill\":{\"color\":\"#EBF0F8\"},\"line\":{\"color\":\"white\"}},\"header\":{\"fill\":{\"color\":\"#C8D4E3\"},\"line\":{\"color\":\"white\"}},\"type\":\"table\"}],\"barpolar\":[{\"marker\":{\"line\":{\"color\":\"#E5ECF6\",\"width\":0.5},\"pattern\":{\"fillmode\":\"overlay\",\"size\":10,\"solidity\":0.2}},\"type\":\"barpolar\"}],\"pie\":[{\"automargin\":true,\"type\":\"pie\"}]},\"layout\":{\"autotypenumbers\":\"strict\",\"colorway\":[\"#636efa\",\"#EF553B\",\"#00cc96\",\"#ab63fa\",\"#FFA15A\",\"#19d3f3\",\"#FF6692\",\"#B6E880\",\"#FF97FF\",\"#FECB52\"],\"font\":{\"color\":\"#2a3f5f\"},\"hovermode\":\"closest\",\"hoverlabel\":{\"align\":\"left\"},\"paper_bgcolor\":\"white\",\"plot_bgcolor\":\"#E5ECF6\",\"polar\":{\"bgcolor\":\"#E5ECF6\",\"angularaxis\":{\"gridcolor\":\"white\",\"linecolor\":\"white\",\"ticks\":\"\"},\"radialaxis\":{\"gridcolor\":\"white\",\"linecolor\":\"white\",\"ticks\":\"\"}},\"ternary\":{\"bgcolor\":\"#E5ECF6\",\"aaxis\":{\"gridcolor\":\"white\",\"linecolor\":\"white\",\"ticks\":\"\"},\"baxis\":{\"gridcolor\":\"white\",\"linecolor\":\"white\",\"ticks\":\"\"},\"caxis\":{\"gridcolor\":\"white\",\"linecolor\":\"white\",\"ticks\":\"\"}},\"coloraxis\":{\"colorbar\":{\"outlinewidth\":0,\"ticks\":\"\"}},\"colorscale\":{\"sequential\":[[0.0,\"#0d0887\"],[0.1111111111111111,\"#46039f\"],[0.2222222222222222,\"#7201a8\"],[0.3333333333333333,\"#9c179e\"],[0.4444444444444444,\"#bd3786\"],[0.5555555555555556,\"#d8576b\"],[0.6666666666666666,\"#ed7953\"],[0.7777777777777778,\"#fb9f3a\"],[0.8888888888888888,\"#fdca26\"],[1.0,\"#f0f921\"]],\"sequentialminus\":[[0.0,\"#0d0887\"],[0.1111111111111111,\"#46039f\"],[0.2222222222222222,\"#7201a8\"],[0.3333333333333333,\"#9c179e\"],[0.4444444444444444,\"#bd3786\"],[0.5555555555555556,\"#d8576b\"],[0.6666666666666666,\"#ed7953\"],[0.7777777777777778,\"#fb9f3a\"],[0.8888888888888888,\"#fdca26\"],[1.0,\"#f0f921\"]],\"diverging\":[[0,\"#8e0152\"],[0.1,\"#c51b7d\"],[0.2,\"#de77ae\"],[0.3,\"#f1b6da\"],[0.4,\"#fde0ef\"],[0.5,\"#f7f7f7\"],[0.6,\"#e6f5d0\"],[0.7,\"#b8e186\"],[0.8,\"#7fbc41\"],[0.9,\"#4d9221\"],[1,\"#276419\"]]},\"xaxis\":{\"gridcolor\":\"white\",\"linecolor\":\"white\",\"ticks\":\"\",\"title\":{\"standoff\":15},\"zerolinecolor\":\"white\",\"automargin\":true,\"zerolinewidth\":2},\"yaxis\":{\"gridcolor\":\"white\",\"linecolor\":\"white\",\"ticks\":\"\",\"title\":{\"standoff\":15},\"zerolinecolor\":\"white\",\"automargin\":true,\"zerolinewidth\":2},\"scene\":{\"xaxis\":{\"backgroundcolor\":\"#E5ECF6\",\"gridcolor\":\"white\",\"linecolor\":\"white\",\"showbackground\":true,\"ticks\":\"\",\"zerolinecolor\":\"white\",\"gridwidth\":2},\"yaxis\":{\"backgroundcolor\":\"#E5ECF6\",\"gridcolor\":\"white\",\"linecolor\":\"white\",\"showbackground\":true,\"ticks\":\"\",\"zerolinecolor\":\"white\",\"gridwidth\":2},\"zaxis\":{\"backgroundcolor\":\"#E5ECF6\",\"gridcolor\":\"white\",\"linecolor\":\"white\",\"showbackground\":true,\"ticks\":\"\",\"zerolinecolor\":\"white\",\"gridwidth\":2}},\"shapedefaults\":{\"line\":{\"color\":\"#2a3f5f\"}},\"annotationdefaults\":{\"arrowcolor\":\"#2a3f5f\",\"arrowhead\":0,\"arrowwidth\":1},\"geo\":{\"bgcolor\":\"white\",\"landcolor\":\"#E5ECF6\",\"subunitcolor\":\"white\",\"showland\":true,\"showlakes\":true,\"lakecolor\":\"white\"},\"title\":{\"x\":0.05},\"mapbox\":{\"style\":\"light\"}}},\"xaxis\":{\"anchor\":\"y\",\"domain\":[0.0,1.0],\"title\":{\"text\":\"Noise Factor\",\"font\":{\"family\":\"CMU\",\"size\":18}},\"tickfont\":{\"family\":\"CMU\",\"size\":18}},\"yaxis\":{\"anchor\":\"x\",\"domain\":[0.0,1.0],\"title\":{\"text\":\"RMSD, linear dist\",\"font\":{\"family\":\"CMU\",\"size\":18}},\"tickfont\":{\"family\":\"CMU\",\"size\":18}},\"legend\":{\"title\":{\"text\":\"Estimator, Estimator\"},\"tracegroupgap\":0,\"font\":{\"family\":\"CMU\",\"size\":18}},\"margin\":{\"t\":60},\"title\":{\"font\":{\"family\":\"CMU\",\"size\":18}},\"width\":650,\"height\":370},                        {\"responsive\": true}                    ).then(function(){\n",
       "                            \n",
       "var gd = document.getElementById('da1e00f4-bf21-4fea-9689-f3cbdba81f82');\n",
       "var x = new MutationObserver(function (mutations, observer) {{\n",
       "        var display = window.getComputedStyle(gd).display;\n",
       "        if (!display || display === 'none') {{\n",
       "            console.log([gd, 'removed!']);\n",
       "            Plotly.purge(gd);\n",
       "            observer.disconnect();\n",
       "        }}\n",
       "}});\n",
       "\n",
       "// Listen for the removal of the full notebook cells\n",
       "var notebookContainer = gd.closest('#notebook-container');\n",
       "if (notebookContainer) {{\n",
       "    x.observe(notebookContainer, {childList: true});\n",
       "}}\n",
       "\n",
       "// Listen for the clearing of the current output cell\n",
       "var outputEl = gd.closest('.output');\n",
       "if (outputEl) {{\n",
       "    x.observe(outputEl, {childList: true});\n",
       "}}\n",
       "\n",
       "                        })                };                });            </script>        </div>"
      ]
     },
     "metadata": {},
     "output_type": "display_data"
    }
   ],
   "source": [
    "scatterplot_evaluation(\n",
    "    df= df,\n",
    "    colored_by=\"estimator\",\n",
    "    marked_by=\"estimator\",\n",
    "    x_label=\"noise_factor\",\n",
    "    y_label=\"rmsd_linear\",\n",
    ")"
   ]
  },
  {
   "cell_type": "code",
   "execution_count": null,
   "id": "63db66ea-9800-44f4-9f40-ea3d8db0d37f",
   "metadata": {},
   "outputs": [],
   "source": []
  }
 ],
 "metadata": {
  "kernelspec": {
   "display_name": "Python 3 (ipykernel)",
   "language": "python",
   "name": "python3"
  },
  "language_info": {
   "codemirror_mode": {
    "name": "ipython",
    "version": 3
   },
   "file_extension": ".py",
   "mimetype": "text/x-python",
   "name": "python",
   "nbconvert_exporter": "python",
   "pygments_lexer": "ipython3",
   "version": "3.11.7"
  }
 },
 "nbformat": 4,
 "nbformat_minor": 5
}
