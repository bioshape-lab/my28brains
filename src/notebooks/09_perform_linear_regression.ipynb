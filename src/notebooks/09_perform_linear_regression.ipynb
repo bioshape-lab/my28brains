{
 "cells": [
  {
   "cell_type": "markdown",
   "id": "06aeb4c1",
   "metadata": {},
   "source": [
    "# Run linear regression on the real (reparameterized) meshes"
   ]
  },
  {
   "cell_type": "code",
   "execution_count": null,
   "id": "2299482f-924f-4df7-806a-9661ee853fa5",
   "metadata": {},
   "outputs": [
    {
     "name": "stdout",
     "output_type": "stream",
     "text": [
      "Working directory:  /home/nmiolane/code/my28brains/src\n",
      "Directory added to path:  /home/nmiolane/code/my28brains\n",
      "Directory added to path:  /home/nmiolane/code/my28brains/src\n",
      "/home/nmiolane/code/my28brains/src\n"
     ]
    }
   ],
   "source": [
    "import setcwd\n",
    "\n",
    "setcwd.main()"
   ]
  },
  {
   "cell_type": "code",
   "execution_count": 2,
   "id": "617c62da-50ac-4129-9e23-15ccc7fe6e24",
   "metadata": {},
   "outputs": [
    {
     "name": "stderr",
     "output_type": "stream",
     "text": [
      "INFO: Using pytorch backend\n"
     ]
    },
    {
     "name": "stdout",
     "output_type": "stream",
     "text": [
      "Jupyter environment detected. Enabling Open3D WebVisualizer.\n",
      "[Open3D INFO] WebRTC GUI backend enabled.\n",
      "[Open3D INFO] WebRTCWindowSystem: HTTP handshake server disabled.\n",
      "[KeOps] Compiling cuda jit compiler engine ... \n",
      "[KeOps] Warning : There were warnings or errors compiling formula :\n",
      "/usr/bin/ld: cannot find -lnvrtc\n",
      "collect2: error: ld returned 1 exit status\n",
      "\n",
      "OK\n",
      "[pyKeOps] Compiling nvrtc binder for python ... \n",
      "[KeOps] Warning : There were warnings or errors compiling formula :\n",
      "/usr/bin/ld: cannot find -lnvrtc\n",
      "collect2: error: ld returned 1 exit status\n",
      "\n",
      "OK\n"
     ]
    }
   ],
   "source": [
    "import os\n",
    "import numpy as np\n",
    "import trimesh\n",
    "\n",
    "import src.datasets.utils as data_utils\n",
    "import src.preprocessing\n",
    "import src.viz\n",
    "import src.default_config as default_config"
   ]
  },
  {
   "cell_type": "code",
   "execution_count": 3,
   "id": "190ccec0-c9a7-4c2d-8e7d-1468d06837ef",
   "metadata": {},
   "outputs": [
    {
     "name": "stdout",
     "output_type": "stream",
     "text": [
      "Working directory:  /home/nmiolane/code/my28brains/src\n",
      "Directory added to path:  /home/nmiolane/code/my28brains\n",
      "Directory added to path:  /home/nmiolane/code/my28brains/src\n",
      "/home/nmiolane/code/my28brains/src\n"
     ]
    }
   ],
   "source": [
    "setcwd.main()\n",
    "print(os.getcwd())\n",
    "\n",
    "meshes_along_linear_regression_1_obbz3jta = np.load(\n",
    "    \"notebooks/meshes_along_linear_regression_1_obbz3jta.npy\"\n",
    ")\n",
    "reference_mesh = trimesh.load_mesh(\n",
    "    r\"notebooks/parameterized_mesh00_hormone_level0.63.ply.ply\"\n",
    ")"
   ]
  },
  {
   "cell_type": "code",
   "execution_count": 4,
   "id": "f3a2df75-7e98-496f-97f5-58aef0afaa4b",
   "metadata": {},
   "outputs": [
    {
     "data": {
      "text/plain": [
       "(11850, 3)"
      ]
     },
     "execution_count": 4,
     "metadata": {},
     "output_type": "execute_result"
    }
   ],
   "source": [
    "meshes_along_linear_regression_1_obbz3jta.shape"
   ]
  },
  {
   "cell_type": "code",
   "execution_count": 5,
   "id": "524d30a5-e41d-4cb0-94e9-c3fe2d0c72ed",
   "metadata": {},
   "outputs": [
    {
     "name": "stdout",
     "output_type": "stream",
     "text": [
      "1975.0\n",
      "1185.0\n"
     ]
    }
   ],
   "source": [
    "print(len(meshes_along_linear_regression_1_obbz3jta) / 6)\n",
    "print(len(meshes_along_linear_regression_1_obbz3jta) / 10)"
   ]
  },
  {
   "cell_type": "markdown",
   "id": "c1228088-1696-482e-b148-9fb9698fcccf",
   "metadata": {},
   "source": [
    "The number of \"X\" (progesterone levels) is either 10 or 6."
   ]
  },
  {
   "cell_type": "code",
   "execution_count": 6,
   "id": "dc4ade0a-e673-4614-bce1-a5b6874daf5b",
   "metadata": {},
   "outputs": [],
   "source": [
    "from my28brains.H2_SurfaceMatch.utils.input_output import plotGeodesic"
   ]
  },
  {
   "cell_type": "code",
   "execution_count": 8,
   "id": "5d175c8b-4e9f-48a1-b2db-6a0f132897db",
   "metadata": {},
   "outputs": [
    {
     "name": "stdout",
     "output_type": "stream",
     "text": [
      "\u001b[1;33m[Open3D WARNING] GLFW Error: X11: The DISPLAY environment variable is missing\u001b[0;m\n",
      "\u001b[1;33m[Open3D WARNING] Failed to initialize GLFW\u001b[0;m\n",
      "\u001b[1;33m[Open3D WARNING] [DrawGeometries] Failed creating OpenGL window.\u001b[0;m\n"
     ]
    }
   ],
   "source": [
    "geod = meshes_along_linear_regression_1_obbz3jta.reshape((10, -1, 3))\n",
    "plotGeodesic(\n",
    "    geod=geod,\n",
    "    F=reference_mesh.faces,\n",
    "    stepsize=7,\n",
    "    file_name=\"notebooks/meshes_along_linear_regression_1_obbz3jta.ply\",\n",
    ")"
   ]
  },
  {
   "cell_type": "code",
   "execution_count": null,
   "id": "16ba1e3f-c3cc-4061-9cb5-1b0ee2cab606",
   "metadata": {},
   "outputs": [],
   "source": [
    "np.save(\"notebooks/mesh_test.npy\", mesh_seq_to_plot)"
   ]
  },
  {
   "cell_type": "code",
   "execution_count": null,
   "id": "68025946-e63b-432c-aedb-a360eb5fd77f",
   "metadata": {},
   "outputs": [],
   "source": [
    "reference_mesh"
   ]
  },
  {
   "cell_type": "code",
   "execution_count": null,
   "id": "e6909657-866f-46af-b4ed-bf73c0d2b730",
   "metadata": {},
   "outputs": [],
   "source": [
    "reference_mesh.faces.shape"
   ]
  },
  {
   "cell_type": "code",
   "execution_count": null,
   "id": "5de9aab8-4164-4436-ab50-ba3bc6383b5a",
   "metadata": {},
   "outputs": [],
   "source": [
    "mesh = trimesh.Trimesh(\n",
    "    vertices=meshes_along_linear_regression_1_obbz3jta, faces=reference_mesh.faces\n",
    ")\n",
    "mesh"
   ]
  },
  {
   "cell_type": "code",
   "execution_count": null,
   "id": "4ba335ee-a10d-4561-a5bc-a2458bde128f",
   "metadata": {},
   "outputs": [],
   "source": [
    "src.preprocessing.writing.trimesh_to_ply(\n",
    "    mesh, \"notebooks/meshes_along_linear_regression_1_obbz3jta.ply\"\n",
    ")"
   ]
  },
  {
   "cell_type": "markdown",
   "id": "ef813d45-c6a2-48c8-ab86-9ed89dc26a08",
   "metadata": {},
   "source": [
    "# Run linear regression from scratch"
   ]
  },
  {
   "cell_type": "code",
   "execution_count": 10,
   "id": "8ae5801e-089d-45c5-b5ba-9ff3d9db26ed",
   "metadata": {},
   "outputs": [
    {
     "name": "stdout",
     "output_type": "stream",
     "text": [
      "left_structure_-1_day02_at_0.0_parameterized.ply\n",
      "left_structure_-1_day03_at_0.0_parameterized.ply\n",
      "left_structure_-1_day04_at_0.0_parameterized.ply\n",
      "left_structure_-1_day05_at_0.0_parameterized.ply\n",
      "left_structure_-1_day06_at_0.0_parameterized.ply\n",
      "left_structure_-1_day07_at_0.0_parameterized.ply\n",
      "left_structure_-1_day08_at_0.0_parameterized.ply\n",
      "left_structure_-1_day09_at_0.0_parameterized.ply\n",
      "left_structure_-1_day10_at_0.0_parameterized.ply\n",
      "left_structure_-1_day11_at_0.0_parameterized.ply\n"
     ]
    }
   ],
   "source": [
    "mesh_list = []\n",
    "mesh_dir = \"results/meshes_parameterized\"\n",
    "\n",
    "for path in sorted(os.listdir(mesh_dir)):\n",
    "    print(path)\n",
    "    mesh = trimesh.load(os.path.join(mesh_dir, path))\n",
    "    mesh_list.append(mesh)"
   ]
  },
  {
   "cell_type": "code",
   "execution_count": 12,
   "id": "5f822bb4-27c6-46d6-9eba-9e0bae8c6252",
   "metadata": {},
   "outputs": [],
   "source": [
    "mesh0 = mesh_list[0]\n",
    "mesh1 = mesh_list[1]"
   ]
  },
  {
   "cell_type": "code",
   "execution_count": 13,
   "id": "fc0a248f-681c-4275-b256-d87fdce0773f",
   "metadata": {},
   "outputs": [
    {
     "data": {
      "text/plain": [
       "<trimesh.Trimesh(vertices.shape=(1160, 3), faces.shape=(2386, 3))>"
      ]
     },
     "execution_count": 13,
     "metadata": {},
     "output_type": "execute_result"
    }
   ],
   "source": [
    "mesh0"
   ]
  },
  {
   "cell_type": "code",
   "execution_count": 14,
   "id": "50cbbe3d-8d11-4bc5-9ea0-48269b033213",
   "metadata": {},
   "outputs": [
    {
     "data": {
      "text/plain": [
       "<trimesh.Trimesh(vertices.shape=(1160, 3), faces.shape=(2386, 3))>"
      ]
     },
     "execution_count": 14,
     "metadata": {},
     "output_type": "execute_result"
    }
   ],
   "source": [
    "mesh1"
   ]
  },
  {
   "cell_type": "code",
   "execution_count": 15,
   "id": "b6b1381d-f323-47e6-b70d-eab6f7089d50",
   "metadata": {},
   "outputs": [],
   "source": [
    "np_list = [mesh.vertices for mesh in mesh_list]"
   ]
  },
  {
   "cell_type": "code",
   "execution_count": 16,
   "id": "644e5b56-c664-4957-a0ca-c7f27734db7f",
   "metadata": {},
   "outputs": [],
   "source": [
    "import numpy as np\n",
    "\n",
    "np_seq = np.stack(np_list)"
   ]
  },
  {
   "cell_type": "code",
   "execution_count": 17,
   "id": "c5c8522c-bc91-437b-9611-0f2207b8ded4",
   "metadata": {},
   "outputs": [
    {
     "data": {
      "text/plain": [
       "(10, 1160, 3)"
      ]
     },
     "execution_count": 17,
     "metadata": {},
     "output_type": "execute_result"
    }
   ],
   "source": [
    "np_seq.shape"
   ]
  },
  {
   "cell_type": "code",
   "execution_count": 18,
   "id": "73a5c467-b565-487e-b402-8d2854c13113",
   "metadata": {},
   "outputs": [],
   "source": [
    "np_seq = np_seq.reshape((10, -1))"
   ]
  },
  {
   "cell_type": "code",
   "execution_count": 19,
   "id": "2b048056-72e4-4257-b058-9267fff7922b",
   "metadata": {},
   "outputs": [
    {
     "name": "stdout",
     "output_type": "stream",
     "text": [
      "df has length: 60 days\n"
     ]
    },
    {
     "data": {
      "text/html": [
       "<div>\n",
       "<style scoped>\n",
       "    .dataframe tbody tr th:only-of-type {\n",
       "        vertical-align: middle;\n",
       "    }\n",
       "\n",
       "    .dataframe tbody tr th {\n",
       "        vertical-align: top;\n",
       "    }\n",
       "\n",
       "    .dataframe thead th {\n",
       "        text-align: right;\n",
       "    }\n",
       "</style>\n",
       "<table border=\"1\" class=\"dataframe\">\n",
       "  <thead>\n",
       "    <tr style=\"text-align: right;\">\n",
       "      <th></th>\n",
       "      <th>dayID</th>\n",
       "      <th>Estro</th>\n",
       "      <th>Prog</th>\n",
       "      <th>Test</th>\n",
       "      <th>DHEAS</th>\n",
       "      <th>LH</th>\n",
       "      <th>FSH</th>\n",
       "      <th>SHBG</th>\n",
       "      <th>EthinylEstradiol</th>\n",
       "      <th>Levonorgestresl</th>\n",
       "      <th>CycleDay</th>\n",
       "    </tr>\n",
       "  </thead>\n",
       "  <tbody>\n",
       "    <tr>\n",
       "      <th>1</th>\n",
       "      <td>2</td>\n",
       "      <td>74.2</td>\n",
       "      <td>10.60</td>\n",
       "      <td>81.2</td>\n",
       "      <td>247.12</td>\n",
       "      <td>4.89</td>\n",
       "      <td>4.13</td>\n",
       "      <td>58.22</td>\n",
       "      <td>NaN</td>\n",
       "      <td>NaN</td>\n",
       "      <td>22</td>\n",
       "    </tr>\n",
       "    <tr>\n",
       "      <th>2</th>\n",
       "      <td>3</td>\n",
       "      <td>91.7</td>\n",
       "      <td>12.40</td>\n",
       "      <td>96.3</td>\n",
       "      <td>226.23</td>\n",
       "      <td>5.98</td>\n",
       "      <td>3.49</td>\n",
       "      <td>56.92</td>\n",
       "      <td>NaN</td>\n",
       "      <td>NaN</td>\n",
       "      <td>23</td>\n",
       "    </tr>\n",
       "    <tr>\n",
       "      <th>3</th>\n",
       "      <td>4</td>\n",
       "      <td>94.6</td>\n",
       "      <td>13.50</td>\n",
       "      <td>90.5</td>\n",
       "      <td>212.84</td>\n",
       "      <td>4.32</td>\n",
       "      <td>3.65</td>\n",
       "      <td>57.29</td>\n",
       "      <td>NaN</td>\n",
       "      <td>NaN</td>\n",
       "      <td>24</td>\n",
       "    </tr>\n",
       "    <tr>\n",
       "      <th>4</th>\n",
       "      <td>5</td>\n",
       "      <td>110.0</td>\n",
       "      <td>15.00</td>\n",
       "      <td>77.6</td>\n",
       "      <td>217.60</td>\n",
       "      <td>3.44</td>\n",
       "      <td>3.30</td>\n",
       "      <td>58.87</td>\n",
       "      <td>NaN</td>\n",
       "      <td>NaN</td>\n",
       "      <td>25</td>\n",
       "    </tr>\n",
       "    <tr>\n",
       "      <th>5</th>\n",
       "      <td>6</td>\n",
       "      <td>117.0</td>\n",
       "      <td>15.50</td>\n",
       "      <td>85.2</td>\n",
       "      <td>254.84</td>\n",
       "      <td>2.58</td>\n",
       "      <td>3.08</td>\n",
       "      <td>63.26</td>\n",
       "      <td>NaN</td>\n",
       "      <td>NaN</td>\n",
       "      <td>26</td>\n",
       "    </tr>\n",
       "    <tr>\n",
       "      <th>6</th>\n",
       "      <td>7</td>\n",
       "      <td>125.0</td>\n",
       "      <td>13.30</td>\n",
       "      <td>78.7</td>\n",
       "      <td>250.41</td>\n",
       "      <td>3.55</td>\n",
       "      <td>3.26</td>\n",
       "      <td>58.36</td>\n",
       "      <td>NaN</td>\n",
       "      <td>NaN</td>\n",
       "      <td>27</td>\n",
       "    </tr>\n",
       "    <tr>\n",
       "      <th>7</th>\n",
       "      <td>8</td>\n",
       "      <td>123.0</td>\n",
       "      <td>8.78</td>\n",
       "      <td>88.9</td>\n",
       "      <td>271.71</td>\n",
       "      <td>5.21</td>\n",
       "      <td>4.47</td>\n",
       "      <td>61.78</td>\n",
       "      <td>NaN</td>\n",
       "      <td>NaN</td>\n",
       "      <td>28</td>\n",
       "    </tr>\n",
       "    <tr>\n",
       "      <th>8</th>\n",
       "      <td>9</td>\n",
       "      <td>109.0</td>\n",
       "      <td>6.05</td>\n",
       "      <td>75.8</td>\n",
       "      <td>288.47</td>\n",
       "      <td>4.76</td>\n",
       "      <td>4.76</td>\n",
       "      <td>62.44</td>\n",
       "      <td>NaN</td>\n",
       "      <td>NaN</td>\n",
       "      <td>29</td>\n",
       "    </tr>\n",
       "    <tr>\n",
       "      <th>9</th>\n",
       "      <td>10</td>\n",
       "      <td>73.8</td>\n",
       "      <td>2.46</td>\n",
       "      <td>87.3</td>\n",
       "      <td>204.74</td>\n",
       "      <td>3.32</td>\n",
       "      <td>7.94</td>\n",
       "      <td>53.76</td>\n",
       "      <td>NaN</td>\n",
       "      <td>NaN</td>\n",
       "      <td>30</td>\n",
       "    </tr>\n",
       "    <tr>\n",
       "      <th>10</th>\n",
       "      <td>11</td>\n",
       "      <td>31.7</td>\n",
       "      <td>0.63</td>\n",
       "      <td>58.9</td>\n",
       "      <td>224.66</td>\n",
       "      <td>5.21</td>\n",
       "      <td>7.82</td>\n",
       "      <td>61.74</td>\n",
       "      <td>NaN</td>\n",
       "      <td>NaN</td>\n",
       "      <td>1</td>\n",
       "    </tr>\n",
       "  </tbody>\n",
       "</table>\n",
       "</div>"
      ],
      "text/plain": [
       "    dayID  Estro   Prog  Test   DHEAS    LH   FSH   SHBG EthinylEstradiol  \\\n",
       "1       2   74.2  10.60  81.2  247.12  4.89  4.13  58.22              NaN   \n",
       "2       3   91.7  12.40  96.3  226.23  5.98  3.49  56.92              NaN   \n",
       "3       4   94.6  13.50  90.5  212.84  4.32  3.65  57.29              NaN   \n",
       "4       5  110.0  15.00  77.6  217.60  3.44  3.30  58.87              NaN   \n",
       "5       6  117.0  15.50  85.2  254.84  2.58  3.08  63.26              NaN   \n",
       "6       7  125.0  13.30  78.7  250.41  3.55  3.26  58.36              NaN   \n",
       "7       8  123.0   8.78  88.9  271.71  5.21  4.47  61.78              NaN   \n",
       "8       9  109.0   6.05  75.8  288.47  4.76  4.76  62.44              NaN   \n",
       "9      10   73.8   2.46  87.3  204.74  3.32  7.94  53.76              NaN   \n",
       "10     11   31.7   0.63  58.9  224.66  5.21  7.82  61.74              NaN   \n",
       "\n",
       "    Levonorgestresl  CycleDay  \n",
       "1               NaN        22  \n",
       "2               NaN        23  \n",
       "3               NaN        24  \n",
       "4               NaN        25  \n",
       "5               NaN        26  \n",
       "6               NaN        27  \n",
       "7               NaN        28  \n",
       "8               NaN        29  \n",
       "9               NaN        30  \n",
       "10              NaN         1  "
      ]
     },
     "execution_count": 19,
     "metadata": {},
     "output_type": "execute_result"
    }
   ],
   "source": [
    "import pandas as pd\n",
    "\n",
    "DATA_PATH = os.path.join(\"../data\", \"hormones.csv\")\n",
    "df = pd.read_csv(DATA_PATH, delimiter=\",\")\n",
    "print(f\"df has length: {len(df)} days\")\n",
    "df[1:11]"
   ]
  },
  {
   "cell_type": "code",
   "execution_count": 35,
   "id": "436b2146-5375-4421-a19a-8de3992f70c3",
   "metadata": {},
   "outputs": [
    {
     "data": {
      "text/plain": [
       "array([10.6 , 12.4 , 13.5 , 15.  , 15.5 , 13.3 ,  8.78,  6.05])"
      ]
     },
     "execution_count": 35,
     "metadata": {},
     "output_type": "execute_result"
    }
   ],
   "source": [
    "df[\"Prog\"][1:9].values"
   ]
  },
  {
   "cell_type": "code",
   "execution_count": 36,
   "id": "dd83a03b-1b61-460d-ade4-9a21cabf9aa1",
   "metadata": {},
   "outputs": [],
   "source": [
    "levels = df[\"Prog\"][1:9].values.reshape((-1, 1))"
   ]
  },
  {
   "cell_type": "code",
   "execution_count": 39,
   "id": "5767b6ca-10f5-466d-a11c-6cd66bff51ae",
   "metadata": {},
   "outputs": [
    {
     "data": {
      "text/plain": [
       "(8, 3480)"
      ]
     },
     "execution_count": 39,
     "metadata": {},
     "output_type": "execute_result"
    }
   ],
   "source": [
    "np_seq.shape\n",
    "np_seq = np_seq[:-2]\n",
    "np_seq.shape"
   ]
  },
  {
   "cell_type": "code",
   "execution_count": 40,
   "id": "7eea9ce2-627b-4010-a843-59494a038769",
   "metadata": {},
   "outputs": [],
   "source": [
    "from sklearn.linear_model import LinearRegression\n",
    "\n",
    "# Assuming X and y are already defined\n",
    "X = levels.reshape(-1, 1)  # Reshape X to a 2D array if needed\n",
    "y = np_seq\n",
    "\n",
    "regressor = LinearRegression()\n",
    "regressor.fit(X, y)\n",
    "\n",
    "# Predicting values\n",
    "y_pred = regressor.predict(X)"
   ]
  },
  {
   "cell_type": "code",
   "execution_count": null,
   "id": "10c9b45b-552d-405c-a6bb-77d73f11ee0e",
   "metadata": {},
   "outputs": [],
   "source": [
    "y_pred = y_pred.reshape((10, -1, 3))\n",
    "y = y.reshape((10, -1, 3))\n",
    "\n",
    "# y_pred = y_pred.reshape((-1, 3))\n",
    "# y = y.reshape((-1, 3))"
   ]
  },
  {
   "cell_type": "code",
   "execution_count": null,
   "id": "6ed49c1c-2591-4edb-bb07-6980dbfb0412",
   "metadata": {},
   "outputs": [],
   "source": [
    "new_levels = np.arange(6.0, 16.0, step=1.0).reshape((-1, 1))\n",
    "print(new_levels)\n",
    "print(new_levels.shape)\n",
    "y_pred_from_new_levels = regressor.predict(new_levels)\n",
    "y_pred_from_new_levels = y_pred_from_new_levels.reshape((10, -1, 3))"
   ]
  },
  {
   "cell_type": "code",
   "execution_count": null,
   "id": "4b8cad3a-9a30-4be4-b520-8126809a1265",
   "metadata": {},
   "outputs": [],
   "source": [
    "plotGeodesic(y, F=mesh0.faces, stepsize=4, file_name=\"notebooks/0710_mesh_sequence.ply\")"
   ]
  },
  {
   "cell_type": "code",
   "execution_count": null,
   "id": "f05b935a-8d81-4407-9603-03b5735660ec",
   "metadata": {},
   "outputs": [],
   "source": [
    "plotGeodesic(\n",
    "    y_pred,\n",
    "    F=mesh0.faces,\n",
    "    stepsize=4,\n",
    "    file_name=\"notebooks/0710_mesh_linear_regression.ply\",\n",
    ")"
   ]
  },
  {
   "cell_type": "code",
   "execution_count": null,
   "id": "7f6b9994-3861-4d1b-96b5-72aec7c786b1",
   "metadata": {},
   "outputs": [],
   "source": [
    "plotGeodesic(\n",
    "    y_pred_from_new_levels,\n",
    "    F=mesh0.faces,\n",
    "    stepsize=4,\n",
    "    file_name=\"notebooks/0710_mesh_linear_prediction.ply\",\n",
    ")"
   ]
  },
  {
   "cell_type": "code",
   "execution_count": 27,
   "id": "09b851a4-df78-4694-8f89-730e01c19c00",
   "metadata": {},
   "outputs": [
    {
     "name": "stdout",
     "output_type": "stream",
     "text": [
      "(1, 1160, 3)\n"
     ]
    }
   ],
   "source": [
    "one_mesh = regressor.predict([[6.0]])\n",
    "one_mesh = one_mesh.reshape((1, -1, 3))\n",
    "print(one_mesh.shape)"
   ]
  },
  {
   "cell_type": "code",
   "execution_count": 29,
   "id": "9c326dcc-517c-4c02-b598-e686fcd2a2b9",
   "metadata": {},
   "outputs": [
    {
     "name": "stdout",
     "output_type": "stream",
     "text": [
      "\u001b[1;33m[Open3D WARNING] GLFW Error: X11: The DISPLAY environment variable is missing\u001b[0;m\n",
      "\u001b[1;33m[Open3D WARNING] Failed to initialize GLFW\u001b[0;m\n",
      "\u001b[1;33m[Open3D WARNING] [DrawGeometries] Failed creating OpenGL window.\u001b[0;m\n"
     ]
    }
   ],
   "source": [
    "plotGeodesic(\n",
    "    one_mesh,\n",
    "    F=mesh0.faces,\n",
    "    stepsize=4,\n",
    "    file_name=\"notebooks/0710_one_mesh.ply\",\n",
    ")"
   ]
  },
  {
   "cell_type": "code",
   "execution_count": 32,
   "id": "7b295e5d-6e2d-45f5-a54c-404377c5bd2b",
   "metadata": {},
   "outputs": [
    {
     "data": {
      "text/plain": [
       "{'fit_intercept': True,\n",
       " 'copy_X': True,\n",
       " 'n_jobs': None,\n",
       " 'positive': False,\n",
       " 'n_features_in_': 1,\n",
       " 'coef_': array([[-0.00322976],\n",
       "        [-0.00514251],\n",
       "        [-0.00517161],\n",
       "        ...,\n",
       "        [-0.00362099],\n",
       "        [-0.00699533],\n",
       "        [-0.00339817]]),\n",
       " 'rank_': 1,\n",
       " 'singular_': array([15.68223709]),\n",
       " 'intercept_': array([ 0.51510197, -1.09939971, -1.54573855, ...,  0.34648308,\n",
       "         0.2194931 ,  1.46012777])}"
      ]
     },
     "execution_count": 32,
     "metadata": {},
     "output_type": "execute_result"
    }
   ],
   "source": [
    "regressor.__dict__"
   ]
  },
  {
   "cell_type": "code",
   "execution_count": 33,
   "id": "795908ad-8e5e-46e7-8a54-0445e04b6d50",
   "metadata": {},
   "outputs": [],
   "source": [
    "from sklearn.metrics import r2_score"
   ]
  },
  {
   "cell_type": "code",
   "execution_count": 41,
   "id": "83309e4a-95f4-49d7-a646-4a02a3a05a18",
   "metadata": {},
   "outputs": [
    {
     "data": {
      "text/plain": [
       "0.22186623059173308"
      ]
     },
     "execution_count": 41,
     "metadata": {},
     "output_type": "execute_result"
    }
   ],
   "source": [
    "r2_score(y, y_pred)"
   ]
  },
  {
   "cell_type": "code",
   "execution_count": 42,
   "id": "258d76b4-f069-40d9-8dc4-64b7e974b73b",
   "metadata": {},
   "outputs": [
    {
     "data": {
      "text/plain": [
       "(8, 3480)"
      ]
     },
     "execution_count": 42,
     "metadata": {},
     "output_type": "execute_result"
    }
   ],
   "source": [
    "y.shape"
   ]
  },
  {
   "cell_type": "code",
   "execution_count": 43,
   "id": "ad74cbd0-a2d3-42e6-9a59-de84ee257f7e",
   "metadata": {},
   "outputs": [
    {
     "data": {
      "text/plain": [
       "(8, 3480)"
      ]
     },
     "execution_count": 43,
     "metadata": {},
     "output_type": "execute_result"
    }
   ],
   "source": [
    "y_pred.shape"
   ]
  },
  {
   "cell_type": "code",
   "execution_count": 44,
   "id": "60febf4d-27a2-4857-a06b-04d1f2a9718f",
   "metadata": {},
   "outputs": [],
   "source": [
    "Adj_r2 = 1 - (1 - r2_score(y, y_pred)) * (len(y) - 1) / (len(y) - X.shape[1] - 1)"
   ]
  },
  {
   "cell_type": "code",
   "execution_count": 45,
   "id": "be634680-bbe6-4cdd-af50-d277bbb2fd39",
   "metadata": {},
   "outputs": [
    {
     "data": {
      "text/plain": [
       "0.09217726902368861"
      ]
     },
     "execution_count": 45,
     "metadata": {},
     "output_type": "execute_result"
    }
   ],
   "source": [
    "Adj_r2"
   ]
  },
  {
   "cell_type": "code",
   "execution_count": null,
   "id": "0cd1dd1c-bc59-462b-83d8-b057a3e1b6fd",
   "metadata": {},
   "outputs": [],
   "source": []
  }
 ],
 "metadata": {
  "kernelspec": {
   "display_name": "Python 3 (ipykernel)",
   "language": "python",
   "name": "python3"
  },
  "language_info": {
   "codemirror_mode": {
    "name": "ipython",
    "version": 3
   },
   "file_extension": ".py",
   "mimetype": "text/x-python",
   "name": "python",
   "nbconvert_exporter": "python",
   "pygments_lexer": "ipython3",
   "version": "3.10.12"
  }
 },
 "nbformat": 4,
 "nbformat_minor": 5
}
