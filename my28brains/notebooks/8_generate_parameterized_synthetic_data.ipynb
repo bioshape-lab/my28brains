{
 "cells": [
  {
   "cell_type": "markdown",
   "id": "1d69dd22-89db-4ca5-9fe9-acfcac36dfcb",
   "metadata": {},
   "source": [
    "# Generate PARAMETERIZED Synthetic Data"
   ]
  },
  {
   "cell_type": "code",
   "execution_count": 1,
   "id": "23a7fd8c-896e-43b8-91b5-c4a4c738316e",
   "metadata": {
    "tags": []
   },
   "outputs": [
    {
     "name": "stderr",
     "output_type": "stream",
     "text": [
      "INFO: Using pytorch backend\n"
     ]
    },
    {
     "name": "stdout",
     "output_type": "stream",
     "text": [
      "pytorch\n"
     ]
    }
   ],
   "source": [
    "# imports\n",
    "\n",
    "import trimesh\n",
    "import os\n",
    "import sys\n",
    "import subprocess\n",
    "import torch\n",
    "import numpy as np\n",
    "os.environ[\"GEOMSTATS_BACKEND\"] = \"pytorch\"\n",
    "import geomstats.backend as gs\n",
    "import my28brains.discrete_surfaces\n",
    "\n",
    "\n",
    "\n",
    "print(os.environ[\"GEOMSTATS_BACKEND\"])\n"
   ]
  },
  {
   "cell_type": "code",
   "execution_count": 2,
   "id": "0e5b097b-c15f-414a-9eaf-7d1180a7a8d3",
   "metadata": {
    "tags": []
   },
   "outputs": [
    {
     "name": "stdout",
     "output_type": "stream",
     "text": [
      "pytorch\n"
     ]
    }
   ],
   "source": [
    "gitroot_path = subprocess.check_output(\n",
    "    [\"git\", \"rev-parse\", \"--show-toplevel\"], universal_newlines=True\n",
    ")\n",
    "os.chdir(gitroot_path[:-1])\n",
    "work_dir = os.getcwd()\n",
    "\n",
    "my28brains_dir = os.path.join(work_dir, \"my28brains\")\n",
    "\n",
    "sys_dir = os.path.dirname(work_dir)\n",
    "sys.path.append(sys_dir)\n",
    "sys.path.append(my28brains_dir)\n",
    "\n",
    "# this forces the notebook to re-load\n",
    "import importlib\n",
    "importlib.reload(my28brains.discrete_surfaces)\n",
    "\n",
    "from my28brains.discrete_surfaces import (\n",
    "    DiscreteSurfaces,\n",
    "    ElasticMetric,\n",
    ")\n",
    "\n",
    "import my28brains.default_config as default_config\n",
    "\n",
    "print(os.environ[\"GEOMSTATS_BACKEND\"])"
   ]
  },
  {
   "cell_type": "markdown",
   "id": "159055ac-6432-4542-b457-d49645ab0566",
   "metadata": {},
   "source": [
    "# Generate Source/Target meshes"
   ]
  },
  {
   "cell_type": "markdown",
   "id": "b0eb44af-9c77-4f23-aa1a-db62653a1cc4",
   "metadata": {},
   "source": [
    "## 1. Sphere Mesh"
   ]
  },
  {
   "cell_type": "code",
   "execution_count": 3,
   "id": "61519a89-ec98-4220-b8ca-bc5169cc903e",
   "metadata": {
    "tags": []
   },
   "outputs": [],
   "source": [
    "sphere = trimesh.creation.icosphere(subdivisions=3, radius=30.0)\n",
    "\n",
    "# sphere.show()"
   ]
  },
  {
   "cell_type": "markdown",
   "id": "48f124e2-5e25-47ad-8604-21eb60a8fc40",
   "metadata": {},
   "source": [
    "## 1 Ellipsoid Mesh"
   ]
  },
  {
   "cell_type": "code",
   "execution_count": 4,
   "id": "602b07a3-76c9-49ff-a137-35df0d32197d",
   "metadata": {
    "tags": []
   },
   "outputs": [],
   "source": [
    "# Create a scaling matrix for the semi-axes lengths\n",
    "scales = np.array([2, 2, 3])\n",
    "scale_matrix = np.diag(scales)\n",
    "\n",
    "scale_matrix = gs.array(scale_matrix)\n",
    "\n",
    "# Apply the scaling transformation to the mesh vertices\n",
    "scaled_vertices = sphere.vertices.dot(scale_matrix)\n",
    "\n",
    "# Create a new mesh with the scaled vertices\n",
    "ellipsoid = trimesh.Trimesh(vertices=scaled_vertices, faces=sphere.faces)\n",
    "# ellipsoid.show()"
   ]
  },
  {
   "cell_type": "code",
   "execution_count": 5,
   "id": "1cf12fd3-1344-4057-9b53-ec6f74a13eed",
   "metadata": {},
   "outputs": [
    {
     "name": "stdout",
     "output_type": "stream",
     "text": [
      "pytorch\n"
     ]
    }
   ],
   "source": [
    "print(os.environ[\"GEOMSTATS_BACKEND\"])"
   ]
  },
  {
   "cell_type": "markdown",
   "id": "a5c1d178-b422-4d4e-8f9d-75976cfaeca4",
   "metadata": {},
   "source": [
    "# Define surface space"
   ]
  },
  {
   "cell_type": "code",
   "execution_count": 6,
   "id": "a6719fbd-d7ea-4a33-8864-ad29bdc5c491",
   "metadata": {
    "tags": []
   },
   "outputs": [
    {
     "name": "stdout",
     "output_type": "stream",
     "text": [
      "(1280, 3)\n",
      "(1280, 3)\n",
      "pytorch\n"
     ]
    }
   ],
   "source": [
    "SURFACE_SPACE = DiscreteSurfaces(faces = sphere.faces)\n",
    "\n",
    "METRIC = ElasticMetric(\n",
    "    space = SURFACE_SPACE,\n",
    "    a0=default_config.a0,\n",
    "    a1=default_config.a1,\n",
    "    b1=default_config.b1,\n",
    "    c1=default_config.c1,\n",
    "    d1=default_config.d1,\n",
    "    a2=default_config.a2,)\n",
    "\n",
    "print(sphere.faces.shape)\n",
    "print(ellipsoid.faces.shape)\n",
    "\n",
    "# METRIC = ElasticMetric(\n",
    "#     space = SURFACE_SPACE,\n",
    "#     a0=default_config.a0,\n",
    "#     a1=0,\n",
    "#     b1=0,\n",
    "#     c1=default_config.c1,\n",
    "#     d1=0,\n",
    "#     a2=default_config.a2,)\n",
    "\n",
    "print(os.environ[\"GEOMSTATS_BACKEND\"])"
   ]
  },
  {
   "cell_type": "markdown",
   "id": "aa257629-8dda-480b-af4f-18aa7f17de0b",
   "metadata": {},
   "source": [
    "# Remove degenerate faces of these meshes"
   ]
  },
  {
   "cell_type": "code",
   "execution_count": 7,
   "id": "ef0de949-7e4e-4afc-a2af-ae2f5bd0951a",
   "metadata": {
    "tags": []
   },
   "outputs": [],
   "source": [
    "# area_threshold = 0.0005\n",
    "\n",
    "# face_areas = SURFACE_SPACE.face_areas(torch.tensor(sphere.vertices))\n",
    "# face_mask = ~gs.less(face_areas, area_threshold)\n",
    "# sphere.update_faces(face_mask)\n",
    "# print(sphere.faces.shape)\n",
    "\n",
    "# face_areas = SURFACE_SPACE.face_areas(torch.tensor(ellipsoid.vertices))\n",
    "# face_mask = ~gs.less(face_areas, area_threshold)\n",
    "# ellipsoid.update_faces(face_mask)\n",
    "# print(ellipsoid.faces.shape)\n",
    "\n",
    "# SURFACE_SPACE = DiscreteSurfaces(faces = sphere.faces)\n",
    "\n",
    "# METRIC = ElasticMetric(\n",
    "#     space = SURFACE_SPACE,\n",
    "#     a0=default_config.a0,\n",
    "#     a1=default_config.a1,\n",
    "#     b1=default_config.b1,\n",
    "#     c1=default_config.c1,\n",
    "#     d1=default_config.d1,\n",
    "#     a2=default_config.a2,)"
   ]
  },
  {
   "cell_type": "markdown",
   "id": "03797b59-dd31-4a8f-804b-e0d93d16b334",
   "metadata": {},
   "source": [
    "# Geodesic Regression"
   ]
  },
  {
   "cell_type": "code",
   "execution_count": 8,
   "id": "944c78c3-2bca-4f56-8b72-e7cdd2bdc2c5",
   "metadata": {
    "tags": []
   },
   "outputs": [
    {
     "name": "stdout",
     "output_type": "stream",
     "text": [
      "642\n"
     ]
    }
   ],
   "source": [
    "n_vertices = sphere.vertices.shape[0]\n",
    "print(n_vertices)\n",
    "\n",
    "def geodesics_sphere_to_ellipsoid(\n",
    "    n_geodesics=1, n_times=5\n",
    "):\n",
    "    \"\"\"Generate a dataset of geodesics that transform spheres into ellipsoids.\"\"\"\n",
    "    dim = 3\n",
    "    \n",
    "    geodesics = gs.zeros((n_geodesics, n_times, n_vertices, dim))\n",
    "    times = gs.arange(0, 1, 1 / n_times)\n",
    "    for i_geodesic in range(n_geodesics):\n",
    "        start_surface = gs.array(sphere.vertices)\n",
    "        end_surface = gs.array(ellipsoid.vertices)\n",
    "        print(start_surface.shape)\n",
    "        geodesic = METRIC.geodesic(initial_point = start_surface, end_point = end_surface)\n",
    "        geodesics[i_geodesic] = geodesic(times)\n",
    "\n",
    "    return geodesics"
   ]
  },
  {
   "cell_type": "code",
   "execution_count": 9,
   "id": "54c8e02c-03b0-4512-9ec1-a7887a56bdbc",
   "metadata": {
    "tags": []
   },
   "outputs": [
    {
     "name": "stdout",
     "output_type": "stream",
     "text": [
      "pytorch\n"
     ]
    }
   ],
   "source": [
    "print(os.environ[\"GEOMSTATS_BACKEND\"])"
   ]
  },
  {
   "cell_type": "code",
   "execution_count": 10,
   "id": "dc58372b-857f-469b-bf46-7a975fbb3534",
   "metadata": {
    "tags": []
   },
   "outputs": [
    {
     "name": "stdout",
     "output_type": "stream",
     "text": [
      "torch.Size([642, 3])\n",
      "geodesic shapetorch.Size([3, 642, 3])\n",
      "flattened geodesic shapetorch.Size([5778])\n",
      "2D point arraytorch.Size([642, 3])\n",
      "face_areas (642, 3)\n",
      "shape of point in surface_one_forms: torch.Size([642, 3])\n",
      "vertex_0: torch.Size([1280, 3])\n",
      "surface_one_forms: torch.Size([1280, 3, 2])\n",
      "surface_metric_matrices in DiscreteSurfaces: tensor([[[30.9589, 14.9811],\n",
      "         [14.9811, 37.5415]],\n",
      "\n",
      "        [[30.8048, 15.3590],\n",
      "         [15.3590, 38.1298]],\n",
      "\n",
      "        [[31.5015, 15.3814],\n",
      "         [15.3814, 37.1381]],\n",
      "\n",
      "        ...,\n",
      "\n",
      "        [[41.5570, 27.4475],\n",
      "         [27.4475, 54.8951]],\n",
      "\n",
      "        [[42.3150, 27.3361],\n",
      "         [27.3361, 53.6944]],\n",
      "\n",
      "        [[54.8951, 27.4475],\n",
      "         [27.4475, 42.3150]]])\n",
      "face_areas determinant: tensor([30.6237, 30.6379, 30.5502,  ..., 39.0885, 39.0489, 39.6171])\n",
      "2D point arraytorch.Size([642, 3])\n",
      "face_areas (642, 3)\n",
      "shape of point in surface_one_forms: torch.Size([642, 3])\n",
      "vertex_0: torch.Size([1280, 3])\n",
      "surface_one_forms: torch.Size([1280, 3, 2])\n",
      "surface_metric_matrices in DiscreteSurfaces: tensor([[[49.0781, 28.8496],\n",
      "         [28.8496, 65.8339]],\n",
      "\n",
      "        [[48.6859, 29.2947],\n",
      "         [29.2947, 66.8134]],\n",
      "\n",
      "        [[49.9415, 29.3517],\n",
      "         [29.3517, 64.8069]],\n",
      "\n",
      "        ...,\n",
      "\n",
      "        [[64.4777, 48.7956],\n",
      "         [48.7956, 97.5913]],\n",
      "\n",
      "        [[65.5691, 48.5120],\n",
      "         [48.5120, 95.3729]],\n",
      "\n",
      "        [[97.5913, 48.7956],\n",
      "         [48.7956, 65.5691]]])\n",
      "face_areas determinant: tensor([48.9766, 48.9356, 48.7343,  ..., 62.5415, 62.4508, 63.3874])\n",
      "2D point arraytorch.Size([642, 3])\n",
      "face_areas (642, 3)\n",
      "shape of point in surface_one_forms: torch.Size([642, 3])\n",
      "vertex_0: torch.Size([1280, 3])\n",
      "surface_one_forms: torch.Size([1280, 3, 2])\n",
      "surface_metric_matrices in DiscreteSurfaces: tensor([[[ 71.5677,  46.9804],\n",
      "         [ 46.9804, 102.0870]],\n",
      "\n",
      "        [[ 70.8532,  47.4812],\n",
      "         [ 47.4812, 103.5608]],\n",
      "\n",
      "        [[ 72.8298,  47.5850],\n",
      "         [ 47.5850, 100.2165]],\n",
      "\n",
      "        ...,\n",
      "\n",
      "        [[ 92.6747,  76.2432],\n",
      "         [ 76.2432, 152.4864]],\n",
      "\n",
      "        [[ 94.1603,  75.7266],\n",
      "         [ 75.7266, 148.9482]],\n",
      "\n",
      "        [[152.4864,  76.2432],\n",
      "         [ 76.2432,  94.1603]]])\n",
      "face_areas determinant: tensor([71.4071, 71.2962, 70.9536,  ..., 91.2064, 91.0521, 92.4399])\n",
      "nondegenerate midpoint shapetorch.Size([3, 642, 3])\n",
      "midpoint shapetorch.Size([3, 642, 3])\n",
      "3\n",
      "2D point arraytorch.Size([642, 3])\n",
      "face_areas (642, 3)\n",
      "shape of point in surface_one_forms: torch.Size([642, 3])\n",
      "vertex_0: torch.Size([1280, 3])\n",
      "surface_one_forms: torch.Size([1280, 3, 2])\n",
      "surface_metric_matrices in DiscreteSurfaces: tensor([[[30.9589, 14.9811],\n",
      "         [14.9811, 37.5415]],\n",
      "\n",
      "        [[30.8048, 15.3590],\n",
      "         [15.3590, 38.1298]],\n",
      "\n",
      "        [[31.5015, 15.3814],\n",
      "         [15.3814, 37.1381]],\n",
      "\n",
      "        ...,\n",
      "\n",
      "        [[41.5570, 27.4475],\n",
      "         [27.4475, 54.8951]],\n",
      "\n",
      "        [[42.3150, 27.3361],\n",
      "         [27.3361, 53.6944]],\n",
      "\n",
      "        [[54.8951, 27.4475],\n",
      "         [27.4475, 42.3150]]])\n",
      "face_areas determinant: tensor([30.6237, 30.6379, 30.5502,  ..., 39.0885, 39.0489, 39.6171])\n",
      "2D point arraytorch.Size([642, 3])\n",
      "face_areas (642, 3)\n",
      "shape of point in surface_one_forms: torch.Size([642, 3])\n",
      "vertex_0: torch.Size([1280, 3])\n",
      "surface_one_forms: torch.Size([1280, 3, 2])\n",
      "surface_metric_matrices in DiscreteSurfaces: tensor([[[49.0781, 28.8496],\n",
      "         [28.8496, 65.8339]],\n",
      "\n",
      "        [[48.6859, 29.2947],\n",
      "         [29.2947, 66.8134]],\n",
      "\n",
      "        [[49.9415, 29.3517],\n",
      "         [29.3517, 64.8069]],\n",
      "\n",
      "        ...,\n",
      "\n",
      "        [[64.4777, 48.7956],\n",
      "         [48.7956, 97.5913]],\n",
      "\n",
      "        [[65.5691, 48.5120],\n",
      "         [48.5120, 95.3729]],\n",
      "\n",
      "        [[97.5913, 48.7956],\n",
      "         [48.7956, 65.5691]]])\n",
      "face_areas determinant: tensor([48.9766, 48.9356, 48.7343,  ..., 62.5415, 62.4508, 63.3874])\n",
      "2D point arraytorch.Size([642, 3])\n",
      "face_areas (642, 3)\n",
      "shape of point in surface_one_forms: torch.Size([642, 3])\n",
      "vertex_0: torch.Size([1280, 3])\n",
      "surface_one_forms: torch.Size([1280, 3, 2])\n",
      "surface_metric_matrices in DiscreteSurfaces: tensor([[[ 71.5677,  46.9804],\n",
      "         [ 46.9804, 102.0870]],\n",
      "\n",
      "        [[ 70.8532,  47.4812],\n",
      "         [ 47.4812, 103.5608]],\n",
      "\n",
      "        [[ 72.8298,  47.5850],\n",
      "         [ 47.5850, 100.2165]],\n",
      "\n",
      "        ...,\n",
      "\n",
      "        [[ 92.6747,  76.2432],\n",
      "         [ 76.2432, 152.4864]],\n",
      "\n",
      "        [[ 94.1603,  75.7266],\n",
      "         [ 75.7266, 148.9482]],\n",
      "\n",
      "        [[152.4864,  76.2432],\n",
      "         [ 76.2432,  94.1603]]])\n",
      "face_areas determinant: tensor([71.4071, 71.2962, 70.9536,  ..., 91.2064, 91.0521, 92.4399])\n",
      "nondegenerate midpoint shapetorch.Size([3, 642, 3])\n",
      "n_times shape: 5\n",
      "diff shape: torch.Size([4, 642, 3])\n",
      "shape of point in surface_one_forms: torch.Size([642, 3])\n",
      "vertex_0: torch.Size([1280, 3])\n",
      "surface_one_forms: torch.Size([1280, 3, 2])\n",
      "face areas in inner_product: tensor([22.9765, 23.0133, 22.9725,  ..., 29.3163, 29.2979, 29.7128],\n",
      "       grad_fn=<SqrtBackward0>)\n",
      "shape of point in surface_one_forms: torch.Size([642, 3])\n",
      "vertex_0: torch.Size([1280, 3])\n",
      "surface_one_forms: torch.Size([1280, 3, 2])\n",
      "shape of point in surface_one_forms: torch.Size([642, 3])\n",
      "vertex_0: torch.Size([1280, 3])\n",
      "surface_one_forms: torch.Size([1280, 3, 2])\n",
      "shape of point in surface_one_forms: torch.Size([642, 3])\n",
      "vertex_0: torch.Size([1280, 3])\n",
      "surface_one_forms: torch.Size([1280, 3, 2])\n",
      "face areas in inner_product: tensor([39.2904, 39.2788, 39.1377,  ..., 50.1635, 50.0999, 50.8420],\n",
      "       grad_fn=<SqrtBackward0>)\n",
      "shape of point in surface_one_forms: torch.Size([642, 3])\n",
      "vertex_0: torch.Size([1280, 3])\n",
      "surface_one_forms: torch.Size([1280, 3, 2])\n",
      "shape of point in surface_one_forms: torch.Size([642, 3])\n",
      "vertex_0: torch.Size([1280, 3])\n",
      "surface_one_forms: torch.Size([1280, 3, 2])\n",
      "shape of point in surface_one_forms: torch.Size([642, 3])\n",
      "vertex_0: torch.Size([1280, 3])\n",
      "surface_one_forms: torch.Size([1280, 3, 2])\n",
      "face areas in inner_product: tensor([59.6821, 59.6081, 59.3397,  ..., 76.2225, 76.1016, 77.2534],\n",
      "       grad_fn=<SqrtBackward0>)\n",
      "shape of point in surface_one_forms: torch.Size([642, 3])\n",
      "vertex_0: torch.Size([1280, 3])\n",
      "surface_one_forms: torch.Size([1280, 3, 2])\n",
      "shape of point in surface_one_forms: torch.Size([642, 3])\n",
      "vertex_0: torch.Size([1280, 3])\n",
      "surface_one_forms: torch.Size([1280, 3, 2])\n",
      "shape of point in surface_one_forms: torch.Size([642, 3])\n",
      "vertex_0: torch.Size([1280, 3])\n",
      "surface_one_forms: torch.Size([1280, 3, 2])\n",
      "face areas in inner_product: tensor([ 84.1513,  83.9997,  83.5759,  ..., 107.4933, 107.3025, 108.9471],\n",
      "       grad_fn=<SqrtBackward0>)\n",
      "shape of point in surface_one_forms: torch.Size([642, 3])\n",
      "vertex_0: torch.Size([1280, 3])\n",
      "surface_one_forms: torch.Size([1280, 3, 2])\n",
      "shape of point in surface_one_forms: torch.Size([642, 3])\n",
      "vertex_0: torch.Size([1280, 3])\n",
      "surface_one_forms: torch.Size([1280, 3, 2])\n"
     ]
    },
    {
     "ename": "RuntimeError",
     "evalue": "Can't call numpy() on Tensor that requires grad. Use tensor.detach().numpy() instead.",
     "output_type": "error",
     "traceback": [
      "\u001b[0;31m---------------------------------------------------------------------------\u001b[0m",
      "\u001b[0;31mRuntimeError\u001b[0m                              Traceback (most recent call last)",
      "Cell \u001b[0;32mIn[10], line 1\u001b[0m\n\u001b[0;32m----> 1\u001b[0m \u001b[43mgeodesics_sphere_to_ellipsoid\u001b[49m\u001b[43m(\u001b[49m\u001b[43m)\u001b[49m\n",
      "Cell \u001b[0;32mIn[8], line 16\u001b[0m, in \u001b[0;36mgeodesics_sphere_to_ellipsoid\u001b[0;34m(n_geodesics, n_times)\u001b[0m\n\u001b[1;32m     14\u001b[0m     end_surface \u001b[38;5;241m=\u001b[39m gs\u001b[38;5;241m.\u001b[39marray(ellipsoid\u001b[38;5;241m.\u001b[39mvertices)\n\u001b[1;32m     15\u001b[0m     \u001b[38;5;28mprint\u001b[39m(start_surface\u001b[38;5;241m.\u001b[39mshape)\n\u001b[0;32m---> 16\u001b[0m     geodesic \u001b[38;5;241m=\u001b[39m \u001b[43mMETRIC\u001b[49m\u001b[38;5;241;43m.\u001b[39;49m\u001b[43mgeodesic\u001b[49m\u001b[43m(\u001b[49m\u001b[43minitial_point\u001b[49m\u001b[43m \u001b[49m\u001b[38;5;241;43m=\u001b[39;49m\u001b[43m \u001b[49m\u001b[43mstart_surface\u001b[49m\u001b[43m,\u001b[49m\u001b[43m \u001b[49m\u001b[43mend_point\u001b[49m\u001b[43m \u001b[49m\u001b[38;5;241;43m=\u001b[39;49m\u001b[43m \u001b[49m\u001b[43mend_surface\u001b[49m\u001b[43m)\u001b[49m\n\u001b[1;32m     17\u001b[0m     geodesics[i_geodesic] \u001b[38;5;241m=\u001b[39m geodesic(times)\n\u001b[1;32m     19\u001b[0m \u001b[38;5;28;01mreturn\u001b[39;00m geodesics\n",
      "File \u001b[0;32m~/code/my28brains/my28brains/discrete_surfaces.py:657\u001b[0m, in \u001b[0;36mElasticMetric.geodesic\u001b[0;34m(self, initial_point, end_point, initial_tangent_vec)\u001b[0m\n\u001b[1;32m    636\u001b[0m \u001b[38;5;250m\u001b[39m\u001b[38;5;124;03m\"\"\"Compute a geodesic.\u001b[39;00m\n\u001b[1;32m    637\u001b[0m \n\u001b[1;32m    638\u001b[0m \u001b[38;5;124;03mGiven an initial point and either an endpoint or initial vector.\u001b[39;00m\n\u001b[0;32m   (...)\u001b[0m\n\u001b[1;32m    654\u001b[0m \u001b[38;5;124;03m    total path energy.\u001b[39;00m\n\u001b[1;32m    655\u001b[0m \u001b[38;5;124;03m\"\"\"\u001b[39;00m\n\u001b[1;32m    656\u001b[0m \u001b[38;5;28;01mif\u001b[39;00m end_point \u001b[38;5;129;01mis\u001b[39;00m \u001b[38;5;129;01mnot\u001b[39;00m \u001b[38;5;28;01mNone\u001b[39;00m:\n\u001b[0;32m--> 657\u001b[0m     \u001b[38;5;28;01mreturn\u001b[39;00m \u001b[38;5;28;43mself\u001b[39;49m\u001b[38;5;241;43m.\u001b[39;49m\u001b[43m_bvp\u001b[49m\u001b[43m(\u001b[49m\u001b[43minitial_point\u001b[49m\u001b[43m,\u001b[49m\u001b[43m \u001b[49m\u001b[43mend_point\u001b[49m\u001b[43m)\u001b[49m\n\u001b[1;32m    658\u001b[0m \u001b[38;5;28;01mif\u001b[39;00m initial_tangent_vec \u001b[38;5;129;01mis\u001b[39;00m \u001b[38;5;129;01mnot\u001b[39;00m \u001b[38;5;28;01mNone\u001b[39;00m:\n\u001b[1;32m    659\u001b[0m     \u001b[38;5;28;01mreturn\u001b[39;00m \u001b[38;5;28mself\u001b[39m\u001b[38;5;241m.\u001b[39m_ivp(initial_point, initial_tangent_vec)\n",
      "File \u001b[0;32m~/code/my28brains/my28brains/discrete_surfaces.py:745\u001b[0m, in \u001b[0;36mElasticMetric._bvp\u001b[0;34m(self, initial_point, end_point)\u001b[0m\n\u001b[1;32m    738\u001b[0m     \u001b[38;5;28;01mreturn\u001b[39;00m \u001b[38;5;28mself\u001b[39m\u001b[38;5;241m.\u001b[39mpath_energy(\n\u001b[1;32m    739\u001b[0m         gs\u001b[38;5;241m.\u001b[39mconcatenate(\n\u001b[1;32m    740\u001b[0m             [initial_point[\u001b[38;5;28;01mNone\u001b[39;00m, :, :], midpoint, end_point[\u001b[38;5;28;01mNone\u001b[39;00m, :, :]], axis\u001b[38;5;241m=\u001b[39m\u001b[38;5;241m0\u001b[39m\n\u001b[1;32m    741\u001b[0m         )\n\u001b[1;32m    742\u001b[0m     )\n\u001b[1;32m    744\u001b[0m \u001b[38;5;66;03m# find midpoints that minimize path energy\u001b[39;00m\n\u001b[0;32m--> 745\u001b[0m sol \u001b[38;5;241m=\u001b[39m \u001b[43mminimize\u001b[49m\u001b[43m(\u001b[49m\n\u001b[1;32m    746\u001b[0m \u001b[43m    \u001b[49m\u001b[43mgs\u001b[49m\u001b[38;5;241;43m.\u001b[39;49m\u001b[43mautodiff\u001b[49m\u001b[38;5;241;43m.\u001b[39;49m\u001b[43mvalue_and_grad\u001b[49m\u001b[43m(\u001b[49m\u001b[43mfunopt\u001b[49m\u001b[43m)\u001b[49m\u001b[43m,\u001b[49m\n\u001b[1;32m    747\u001b[0m \u001b[43m    \u001b[49m\u001b[43mgs\u001b[49m\u001b[38;5;241;43m.\u001b[39;49m\u001b[43mflatten\u001b[49m\u001b[43m(\u001b[49m\u001b[43mmidpoints\u001b[49m\u001b[43m)\u001b[49m\u001b[43m,\u001b[49m\n\u001b[1;32m    748\u001b[0m \u001b[43m    \u001b[49m\u001b[43mmethod\u001b[49m\u001b[38;5;241;43m=\u001b[39;49m\u001b[38;5;124;43m\"\u001b[39;49m\u001b[38;5;124;43mL-BFGS-B\u001b[39;49m\u001b[38;5;124;43m\"\u001b[39;49m\u001b[43m,\u001b[49m\n\u001b[1;32m    749\u001b[0m \u001b[43m    \u001b[49m\u001b[43mjac\u001b[49m\u001b[38;5;241;43m=\u001b[39;49m\u001b[38;5;28;43;01mTrue\u001b[39;49;00m\u001b[43m,\u001b[49m\n\u001b[1;32m    750\u001b[0m \u001b[43m    \u001b[49m\u001b[43moptions\u001b[49m\u001b[38;5;241;43m=\u001b[39;49m\u001b[43m{\u001b[49m\u001b[38;5;124;43m\"\u001b[39;49m\u001b[38;5;124;43mdisp\u001b[39;49m\u001b[38;5;124;43m\"\u001b[39;49m\u001b[43m:\u001b[49m\u001b[43m \u001b[49m\u001b[38;5;28;43;01mTrue\u001b[39;49;00m\u001b[43m,\u001b[49m\u001b[43m \u001b[49m\u001b[38;5;124;43m\"\u001b[39;49m\u001b[38;5;124;43mftol\u001b[39;49m\u001b[38;5;124;43m\"\u001b[39;49m\u001b[43m:\u001b[49m\u001b[43m \u001b[49m\u001b[38;5;241;43m0.001\u001b[39;49m\u001b[43m}\u001b[49m\u001b[43m,\u001b[49m\n\u001b[1;32m    751\u001b[0m \u001b[43m\u001b[49m\u001b[43m)\u001b[49m\n\u001b[1;32m    752\u001b[0m out \u001b[38;5;241m=\u001b[39m gs\u001b[38;5;241m.\u001b[39mreshape(gs\u001b[38;5;241m.\u001b[39marray(sol\u001b[38;5;241m.\u001b[39mx), (\u001b[38;5;28mself\u001b[39m\u001b[38;5;241m.\u001b[39mn_times \u001b[38;5;241m-\u001b[39m \u001b[38;5;241m2\u001b[39m, n_points, \u001b[38;5;241m3\u001b[39m))\n\u001b[1;32m    753\u001b[0m geod \u001b[38;5;241m=\u001b[39m gs\u001b[38;5;241m.\u001b[39mconcatenate(\n\u001b[1;32m    754\u001b[0m     [initial_point[\u001b[38;5;28;01mNone\u001b[39;00m, :, :], out, end_point[\u001b[38;5;28;01mNone\u001b[39;00m, :, :]], axis\u001b[38;5;241m=\u001b[39m\u001b[38;5;241m0\u001b[39m\n\u001b[1;32m    755\u001b[0m )\n",
      "File \u001b[0;32m~/anaconda3/envs/my28brains/lib/python3.8/site-packages/scipy/optimize/_minimize.py:699\u001b[0m, in \u001b[0;36mminimize\u001b[0;34m(fun, x0, args, method, jac, hess, hessp, bounds, constraints, tol, callback, options)\u001b[0m\n\u001b[1;32m    696\u001b[0m     res \u001b[38;5;241m=\u001b[39m _minimize_newtoncg(fun, x0, args, jac, hess, hessp, callback,\n\u001b[1;32m    697\u001b[0m                              \u001b[38;5;241m*\u001b[39m\u001b[38;5;241m*\u001b[39moptions)\n\u001b[1;32m    698\u001b[0m \u001b[38;5;28;01melif\u001b[39;00m meth \u001b[38;5;241m==\u001b[39m \u001b[38;5;124m'\u001b[39m\u001b[38;5;124ml-bfgs-b\u001b[39m\u001b[38;5;124m'\u001b[39m:\n\u001b[0;32m--> 699\u001b[0m     res \u001b[38;5;241m=\u001b[39m \u001b[43m_minimize_lbfgsb\u001b[49m\u001b[43m(\u001b[49m\u001b[43mfun\u001b[49m\u001b[43m,\u001b[49m\u001b[43m \u001b[49m\u001b[43mx0\u001b[49m\u001b[43m,\u001b[49m\u001b[43m \u001b[49m\u001b[43margs\u001b[49m\u001b[43m,\u001b[49m\u001b[43m \u001b[49m\u001b[43mjac\u001b[49m\u001b[43m,\u001b[49m\u001b[43m \u001b[49m\u001b[43mbounds\u001b[49m\u001b[43m,\u001b[49m\n\u001b[1;32m    700\u001b[0m \u001b[43m                           \u001b[49m\u001b[43mcallback\u001b[49m\u001b[38;5;241;43m=\u001b[39;49m\u001b[43mcallback\u001b[49m\u001b[43m,\u001b[49m\u001b[43m \u001b[49m\u001b[38;5;241;43m*\u001b[39;49m\u001b[38;5;241;43m*\u001b[39;49m\u001b[43moptions\u001b[49m\u001b[43m)\u001b[49m\n\u001b[1;32m    701\u001b[0m \u001b[38;5;28;01melif\u001b[39;00m meth \u001b[38;5;241m==\u001b[39m \u001b[38;5;124m'\u001b[39m\u001b[38;5;124mtnc\u001b[39m\u001b[38;5;124m'\u001b[39m:\n\u001b[1;32m    702\u001b[0m     res \u001b[38;5;241m=\u001b[39m _minimize_tnc(fun, x0, args, jac, bounds, callback\u001b[38;5;241m=\u001b[39mcallback,\n\u001b[1;32m    703\u001b[0m                         \u001b[38;5;241m*\u001b[39m\u001b[38;5;241m*\u001b[39moptions)\n",
      "File \u001b[0;32m~/anaconda3/envs/my28brains/lib/python3.8/site-packages/scipy/optimize/_lbfgsb_py.py:308\u001b[0m, in \u001b[0;36m_minimize_lbfgsb\u001b[0;34m(fun, x0, args, jac, bounds, disp, maxcor, ftol, gtol, eps, maxfun, maxiter, iprint, callback, maxls, finite_diff_rel_step, **unknown_options)\u001b[0m\n\u001b[1;32m    305\u001b[0m     \u001b[38;5;28;01melse\u001b[39;00m:\n\u001b[1;32m    306\u001b[0m         iprint \u001b[38;5;241m=\u001b[39m disp\n\u001b[0;32m--> 308\u001b[0m sf \u001b[38;5;241m=\u001b[39m \u001b[43m_prepare_scalar_function\u001b[49m\u001b[43m(\u001b[49m\u001b[43mfun\u001b[49m\u001b[43m,\u001b[49m\u001b[43m \u001b[49m\u001b[43mx0\u001b[49m\u001b[43m,\u001b[49m\u001b[43m \u001b[49m\u001b[43mjac\u001b[49m\u001b[38;5;241;43m=\u001b[39;49m\u001b[43mjac\u001b[49m\u001b[43m,\u001b[49m\u001b[43m \u001b[49m\u001b[43margs\u001b[49m\u001b[38;5;241;43m=\u001b[39;49m\u001b[43margs\u001b[49m\u001b[43m,\u001b[49m\u001b[43m \u001b[49m\u001b[43mepsilon\u001b[49m\u001b[38;5;241;43m=\u001b[39;49m\u001b[43meps\u001b[49m\u001b[43m,\u001b[49m\n\u001b[1;32m    309\u001b[0m \u001b[43m                              \u001b[49m\u001b[43mbounds\u001b[49m\u001b[38;5;241;43m=\u001b[39;49m\u001b[43mnew_bounds\u001b[49m\u001b[43m,\u001b[49m\n\u001b[1;32m    310\u001b[0m \u001b[43m                              \u001b[49m\u001b[43mfinite_diff_rel_step\u001b[49m\u001b[38;5;241;43m=\u001b[39;49m\u001b[43mfinite_diff_rel_step\u001b[49m\u001b[43m)\u001b[49m\n\u001b[1;32m    312\u001b[0m func_and_grad \u001b[38;5;241m=\u001b[39m sf\u001b[38;5;241m.\u001b[39mfun_and_grad\n\u001b[1;32m    314\u001b[0m fortran_int \u001b[38;5;241m=\u001b[39m _lbfgsb\u001b[38;5;241m.\u001b[39mtypes\u001b[38;5;241m.\u001b[39mintvar\u001b[38;5;241m.\u001b[39mdtype\n",
      "File \u001b[0;32m~/anaconda3/envs/my28brains/lib/python3.8/site-packages/scipy/optimize/_optimize.py:263\u001b[0m, in \u001b[0;36m_prepare_scalar_function\u001b[0;34m(fun, x0, jac, args, bounds, epsilon, finite_diff_rel_step, hess)\u001b[0m\n\u001b[1;32m    259\u001b[0m     bounds \u001b[38;5;241m=\u001b[39m (\u001b[38;5;241m-\u001b[39mnp\u001b[38;5;241m.\u001b[39minf, np\u001b[38;5;241m.\u001b[39minf)\n\u001b[1;32m    261\u001b[0m \u001b[38;5;66;03m# ScalarFunction caches. Reuse of fun(x) during grad\u001b[39;00m\n\u001b[1;32m    262\u001b[0m \u001b[38;5;66;03m# calculation reduces overall function evaluations.\u001b[39;00m\n\u001b[0;32m--> 263\u001b[0m sf \u001b[38;5;241m=\u001b[39m \u001b[43mScalarFunction\u001b[49m\u001b[43m(\u001b[49m\u001b[43mfun\u001b[49m\u001b[43m,\u001b[49m\u001b[43m \u001b[49m\u001b[43mx0\u001b[49m\u001b[43m,\u001b[49m\u001b[43m \u001b[49m\u001b[43margs\u001b[49m\u001b[43m,\u001b[49m\u001b[43m \u001b[49m\u001b[43mgrad\u001b[49m\u001b[43m,\u001b[49m\u001b[43m \u001b[49m\u001b[43mhess\u001b[49m\u001b[43m,\u001b[49m\n\u001b[1;32m    264\u001b[0m \u001b[43m                    \u001b[49m\u001b[43mfinite_diff_rel_step\u001b[49m\u001b[43m,\u001b[49m\u001b[43m \u001b[49m\u001b[43mbounds\u001b[49m\u001b[43m,\u001b[49m\u001b[43m \u001b[49m\u001b[43mepsilon\u001b[49m\u001b[38;5;241;43m=\u001b[39;49m\u001b[43mepsilon\u001b[49m\u001b[43m)\u001b[49m\n\u001b[1;32m    266\u001b[0m \u001b[38;5;28;01mreturn\u001b[39;00m sf\n",
      "File \u001b[0;32m~/anaconda3/envs/my28brains/lib/python3.8/site-packages/scipy/optimize/_differentiable_functions.py:158\u001b[0m, in \u001b[0;36mScalarFunction.__init__\u001b[0;34m(self, fun, x0, args, grad, hess, finite_diff_rel_step, finite_diff_bounds, epsilon)\u001b[0m\n\u001b[1;32m    155\u001b[0m     \u001b[38;5;28mself\u001b[39m\u001b[38;5;241m.\u001b[39mf \u001b[38;5;241m=\u001b[39m fun_wrapped(\u001b[38;5;28mself\u001b[39m\u001b[38;5;241m.\u001b[39mx)\n\u001b[1;32m    157\u001b[0m \u001b[38;5;28mself\u001b[39m\u001b[38;5;241m.\u001b[39m_update_fun_impl \u001b[38;5;241m=\u001b[39m update_fun\n\u001b[0;32m--> 158\u001b[0m \u001b[38;5;28;43mself\u001b[39;49m\u001b[38;5;241;43m.\u001b[39;49m\u001b[43m_update_fun\u001b[49m\u001b[43m(\u001b[49m\u001b[43m)\u001b[49m\n\u001b[1;32m    160\u001b[0m \u001b[38;5;66;03m# Gradient evaluation\u001b[39;00m\n\u001b[1;32m    161\u001b[0m \u001b[38;5;28;01mif\u001b[39;00m callable(grad):\n",
      "File \u001b[0;32m~/anaconda3/envs/my28brains/lib/python3.8/site-packages/scipy/optimize/_differentiable_functions.py:251\u001b[0m, in \u001b[0;36mScalarFunction._update_fun\u001b[0;34m(self)\u001b[0m\n\u001b[1;32m    249\u001b[0m \u001b[38;5;28;01mdef\u001b[39;00m \u001b[38;5;21m_update_fun\u001b[39m(\u001b[38;5;28mself\u001b[39m):\n\u001b[1;32m    250\u001b[0m     \u001b[38;5;28;01mif\u001b[39;00m \u001b[38;5;129;01mnot\u001b[39;00m \u001b[38;5;28mself\u001b[39m\u001b[38;5;241m.\u001b[39mf_updated:\n\u001b[0;32m--> 251\u001b[0m         \u001b[38;5;28;43mself\u001b[39;49m\u001b[38;5;241;43m.\u001b[39;49m\u001b[43m_update_fun_impl\u001b[49m\u001b[43m(\u001b[49m\u001b[43m)\u001b[49m\n\u001b[1;32m    252\u001b[0m         \u001b[38;5;28mself\u001b[39m\u001b[38;5;241m.\u001b[39mf_updated \u001b[38;5;241m=\u001b[39m \u001b[38;5;28;01mTrue\u001b[39;00m\n",
      "File \u001b[0;32m~/anaconda3/envs/my28brains/lib/python3.8/site-packages/scipy/optimize/_differentiable_functions.py:155\u001b[0m, in \u001b[0;36mScalarFunction.__init__.<locals>.update_fun\u001b[0;34m()\u001b[0m\n\u001b[1;32m    154\u001b[0m \u001b[38;5;28;01mdef\u001b[39;00m \u001b[38;5;21mupdate_fun\u001b[39m():\n\u001b[0;32m--> 155\u001b[0m     \u001b[38;5;28mself\u001b[39m\u001b[38;5;241m.\u001b[39mf \u001b[38;5;241m=\u001b[39m \u001b[43mfun_wrapped\u001b[49m\u001b[43m(\u001b[49m\u001b[38;5;28;43mself\u001b[39;49m\u001b[38;5;241;43m.\u001b[39;49m\u001b[43mx\u001b[49m\u001b[43m)\u001b[49m\n",
      "File \u001b[0;32m~/anaconda3/envs/my28brains/lib/python3.8/site-packages/scipy/optimize/_differentiable_functions.py:141\u001b[0m, in \u001b[0;36mScalarFunction.__init__.<locals>.fun_wrapped\u001b[0;34m(x)\u001b[0m\n\u001b[1;32m    139\u001b[0m \u001b[38;5;28;01mif\u001b[39;00m \u001b[38;5;129;01mnot\u001b[39;00m np\u001b[38;5;241m.\u001b[39misscalar(fx):\n\u001b[1;32m    140\u001b[0m     \u001b[38;5;28;01mtry\u001b[39;00m:\n\u001b[0;32m--> 141\u001b[0m         fx \u001b[38;5;241m=\u001b[39m \u001b[43mnp\u001b[49m\u001b[38;5;241;43m.\u001b[39;49m\u001b[43masarray\u001b[49m\u001b[43m(\u001b[49m\u001b[43mfx\u001b[49m\u001b[43m)\u001b[49m\u001b[38;5;241m.\u001b[39mitem()\n\u001b[1;32m    142\u001b[0m     \u001b[38;5;28;01mexcept\u001b[39;00m (\u001b[38;5;167;01mTypeError\u001b[39;00m, \u001b[38;5;167;01mValueError\u001b[39;00m) \u001b[38;5;28;01mas\u001b[39;00m e:\n\u001b[1;32m    143\u001b[0m         \u001b[38;5;28;01mraise\u001b[39;00m \u001b[38;5;167;01mValueError\u001b[39;00m(\n\u001b[1;32m    144\u001b[0m             \u001b[38;5;124m\"\u001b[39m\u001b[38;5;124mThe user-provided objective function \u001b[39m\u001b[38;5;124m\"\u001b[39m\n\u001b[1;32m    145\u001b[0m             \u001b[38;5;124m\"\u001b[39m\u001b[38;5;124mmust return a scalar value.\u001b[39m\u001b[38;5;124m\"\u001b[39m\n\u001b[1;32m    146\u001b[0m         ) \u001b[38;5;28;01mfrom\u001b[39;00m \u001b[38;5;21;01me\u001b[39;00m\n",
      "File \u001b[0;32m~/anaconda3/envs/my28brains/lib/python3.8/site-packages/torch/_tensor.py:970\u001b[0m, in \u001b[0;36mTensor.__array__\u001b[0;34m(self, dtype)\u001b[0m\n\u001b[1;32m    968\u001b[0m     \u001b[38;5;28;01mreturn\u001b[39;00m handle_torch_function(Tensor\u001b[38;5;241m.\u001b[39m__array__, (\u001b[38;5;28mself\u001b[39m,), \u001b[38;5;28mself\u001b[39m, dtype\u001b[38;5;241m=\u001b[39mdtype)\n\u001b[1;32m    969\u001b[0m \u001b[38;5;28;01mif\u001b[39;00m dtype \u001b[38;5;129;01mis\u001b[39;00m \u001b[38;5;28;01mNone\u001b[39;00m:\n\u001b[0;32m--> 970\u001b[0m     \u001b[38;5;28;01mreturn\u001b[39;00m \u001b[38;5;28;43mself\u001b[39;49m\u001b[38;5;241;43m.\u001b[39;49m\u001b[43mnumpy\u001b[49m\u001b[43m(\u001b[49m\u001b[43m)\u001b[49m\n\u001b[1;32m    971\u001b[0m \u001b[38;5;28;01melse\u001b[39;00m:\n\u001b[1;32m    972\u001b[0m     \u001b[38;5;28;01mreturn\u001b[39;00m \u001b[38;5;28mself\u001b[39m\u001b[38;5;241m.\u001b[39mnumpy()\u001b[38;5;241m.\u001b[39mastype(dtype, copy\u001b[38;5;241m=\u001b[39m\u001b[38;5;28;01mFalse\u001b[39;00m)\n",
      "\u001b[0;31mRuntimeError\u001b[0m: Can't call numpy() on Tensor that requires grad. Use tensor.detach().numpy() instead."
     ]
    }
   ],
   "source": [
    "geodesics_sphere_to_ellipsoid()"
   ]
  },
  {
   "cell_type": "code",
   "execution_count": null,
   "id": "61f0d53b-d1d3-488b-9ec9-c338689fbd53",
   "metadata": {},
   "outputs": [],
   "source": []
  },
  {
   "cell_type": "code",
   "execution_count": null,
   "id": "39018767-4b77-4f81-9bf3-9fa93ba1f21e",
   "metadata": {},
   "outputs": [],
   "source": []
  },
  {
   "cell_type": "code",
   "execution_count": null,
   "id": "67056d15-06aa-4c4b-b077-fc454275e2c2",
   "metadata": {},
   "outputs": [],
   "source": []
  },
  {
   "cell_type": "code",
   "execution_count": null,
   "id": "8dafaef2-56c2-4532-b207-b6866fd44dc0",
   "metadata": {},
   "outputs": [],
   "source": []
  },
  {
   "cell_type": "code",
   "execution_count": null,
   "id": "fa4636ac-1db1-4d4d-8d6d-63429a1b4991",
   "metadata": {},
   "outputs": [],
   "source": []
  }
 ],
 "metadata": {
  "kernelspec": {
   "display_name": "Python 3 (ipykernel)",
   "language": "python",
   "name": "python3"
  },
  "language_info": {
   "codemirror_mode": {
    "name": "ipython",
    "version": 3
   },
   "file_extension": ".py",
   "mimetype": "text/x-python",
   "name": "python",
   "nbconvert_exporter": "python",
   "pygments_lexer": "ipython3",
   "version": "3.8.16"
  }
 },
 "nbformat": 4,
 "nbformat_minor": 5
}
