{
 "cells": [
  {
   "cell_type": "markdown",
   "id": "1d69dd22-89db-4ca5-9fe9-acfcac36dfcb",
   "metadata": {},
   "source": [
    "# Generate UNPARAMETERIZED Synthetic Data"
   ]
  },
  {
   "cell_type": "code",
   "execution_count": 86,
   "id": "23a7fd8c-896e-43b8-91b5-c4a4c738316e",
   "metadata": {
    "tags": []
   },
   "outputs": [
    {
     "name": "stdout",
     "output_type": "stream",
     "text": [
      "autograd\n"
     ]
    }
   ],
   "source": [
    "# imports\n",
    "\n",
    "import trimesh\n",
    "import os\n",
    "import sys\n",
    "import subprocess\n",
    "import torch\n",
    "import numpy as np\n",
    "import geomstats.backend as gs\n",
    "\n",
    "os.environ[\"GEOMSTATS_BACKEND\"] = \"autograd\"\n",
    "\n",
    "print(os.environ[\"GEOMSTATS_BACKEND\"])"
   ]
  },
  {
   "cell_type": "code",
   "execution_count": 92,
   "id": "0e5b097b-c15f-414a-9eaf-7d1180a7a8d3",
   "metadata": {
    "tags": []
   },
   "outputs": [
    {
     "ename": "TypeError",
     "evalue": "reload() argument must be a module",
     "output_type": "error",
     "traceback": [
      "\u001b[0;31m---------------------------------------------------------------------------\u001b[0m",
      "\u001b[0;31mTypeError\u001b[0m                                 Traceback (most recent call last)",
      "Cell \u001b[0;32mIn[92], line 15\u001b[0m\n\u001b[1;32m     13\u001b[0m \u001b[38;5;66;03m#this forces the notebook to re-load\u001b[39;00m\n\u001b[1;32m     14\u001b[0m \u001b[38;5;28;01mimport\u001b[39;00m \u001b[38;5;21;01mimportlib\u001b[39;00m\n\u001b[0;32m---> 15\u001b[0m \u001b[43mimportlib\u001b[49m\u001b[38;5;241;43m.\u001b[39;49m\u001b[43mreload\u001b[49m\u001b[43m(\u001b[49m\u001b[43mos\u001b[49m\u001b[38;5;241;43m.\u001b[39;49m\u001b[43mpath\u001b[49m\u001b[38;5;241;43m.\u001b[39;49m\u001b[43mjoin\u001b[49m\u001b[43m(\u001b[49m\u001b[43mmy28brains_dir\u001b[49m\u001b[43m,\u001b[49m\u001b[43m \u001b[49m\u001b[38;5;124;43m\"\u001b[39;49m\u001b[38;5;124;43mdiscrete_surfaces.py\u001b[39;49m\u001b[38;5;124;43m\"\u001b[39;49m\u001b[43m)\u001b[49m\u001b[43m)\u001b[49m\n\u001b[1;32m     17\u001b[0m \u001b[38;5;28;01mfrom\u001b[39;00m \u001b[38;5;21;01mmy28brains\u001b[39;00m\u001b[38;5;21;01m.\u001b[39;00m\u001b[38;5;21;01mdiscrete_surfaces\u001b[39;00m \u001b[38;5;28;01mimport\u001b[39;00m (\n\u001b[1;32m     18\u001b[0m     DiscreteSurfaces,\n\u001b[1;32m     19\u001b[0m     ElasticMetric,\n\u001b[1;32m     20\u001b[0m )\n\u001b[1;32m     22\u001b[0m \u001b[38;5;28;01mimport\u001b[39;00m \u001b[38;5;21;01mmy28brains\u001b[39;00m\u001b[38;5;21;01m.\u001b[39;00m\u001b[38;5;21;01mdefault_config\u001b[39;00m \u001b[38;5;28;01mas\u001b[39;00m \u001b[38;5;21;01mdefault_config\u001b[39;00m\n",
      "File \u001b[0;32m~/anaconda3/envs/my28brains/lib/python3.8/importlib/__init__.py:140\u001b[0m, in \u001b[0;36mreload\u001b[0;34m(module)\u001b[0m\n\u001b[1;32m    134\u001b[0m \u001b[38;5;250m\u001b[39m\u001b[38;5;124;03m\"\"\"Reload the module and return it.\u001b[39;00m\n\u001b[1;32m    135\u001b[0m \n\u001b[1;32m    136\u001b[0m \u001b[38;5;124;03mThe module must have been successfully imported before.\u001b[39;00m\n\u001b[1;32m    137\u001b[0m \n\u001b[1;32m    138\u001b[0m \u001b[38;5;124;03m\"\"\"\u001b[39;00m\n\u001b[1;32m    139\u001b[0m \u001b[38;5;28;01mif\u001b[39;00m \u001b[38;5;129;01mnot\u001b[39;00m module \u001b[38;5;129;01mor\u001b[39;00m \u001b[38;5;129;01mnot\u001b[39;00m \u001b[38;5;28misinstance\u001b[39m(module, types\u001b[38;5;241m.\u001b[39mModuleType):\n\u001b[0;32m--> 140\u001b[0m     \u001b[38;5;28;01mraise\u001b[39;00m \u001b[38;5;167;01mTypeError\u001b[39;00m(\u001b[38;5;124m\"\u001b[39m\u001b[38;5;124mreload() argument must be a module\u001b[39m\u001b[38;5;124m\"\u001b[39m)\n\u001b[1;32m    141\u001b[0m \u001b[38;5;28;01mtry\u001b[39;00m:\n\u001b[1;32m    142\u001b[0m     name \u001b[38;5;241m=\u001b[39m module\u001b[38;5;241m.\u001b[39m__spec__\u001b[38;5;241m.\u001b[39mname\n",
      "\u001b[0;31mTypeError\u001b[0m: reload() argument must be a module"
     ]
    }
   ],
   "source": [
    "gitroot_path = subprocess.check_output(\n",
    "    [\"git\", \"rev-parse\", \"--show-toplevel\"], universal_newlines=True\n",
    ")\n",
    "os.chdir(gitroot_path[:-1])\n",
    "work_dir = os.getcwd()\n",
    "\n",
    "my28brains_dir = os.path.join(work_dir, \"my28brains\")\n",
    "\n",
    "sys_dir = os.path.dirname(work_dir)\n",
    "sys.path.append(sys_dir)\n",
    "sys.path.append(my28brains_dir)\n",
    "\n",
    "# #this forces the notebook to re-load\n",
    "# import importlib\n",
    "# importlib.reload(os.path.join(my28brains_dir, \"discrete_surfaces.py\"))\n",
    "\n",
    "from my28brains.discrete_surfaces import (\n",
    "    DiscreteSurfaces,\n",
    "    ElasticMetric,\n",
    ")\n",
    "\n",
    "import my28brains.default_config as default_config\n",
    "\n",
    "print(os.environ[\"GEOMSTATS_BACKEND\"])"
   ]
  },
  {
   "cell_type": "markdown",
   "id": "159055ac-6432-4542-b457-d49645ab0566",
   "metadata": {},
   "source": [
    "# Generate Source/Target meshes"
   ]
  },
  {
   "cell_type": "markdown",
   "id": "b0eb44af-9c77-4f23-aa1a-db62653a1cc4",
   "metadata": {},
   "source": [
    "## 1. Sphere Mesh"
   ]
  },
  {
   "cell_type": "code",
   "execution_count": 78,
   "id": "61519a89-ec98-4220-b8ca-bc5169cc903e",
   "metadata": {
    "tags": []
   },
   "outputs": [],
   "source": [
    "sphere = trimesh.creation.icosphere(subdivisions=3, radius=1.0)\n",
    "\n",
    "#sphere.show()"
   ]
  },
  {
   "cell_type": "markdown",
   "id": "48f124e2-5e25-47ad-8604-21eb60a8fc40",
   "metadata": {},
   "source": [
    "## 1 Ellipsoid Mesh"
   ]
  },
  {
   "cell_type": "code",
   "execution_count": 79,
   "id": "602b07a3-76c9-49ff-a137-35df0d32197d",
   "metadata": {
    "tags": []
   },
   "outputs": [],
   "source": [
    "# Create a scaling matrix for the semi-axes lengths\n",
    "scales = np.array([2, 2, 3])\n",
    "scale_matrix = np.diag(scales)\n",
    "\n",
    "scale_matrix = gs.array(scale_matrix)\n",
    "\n",
    "# Apply the scaling transformation to the mesh vertices\n",
    "scaled_vertices = sphere.vertices.dot(scale_matrix)\n",
    "\n",
    "# Create a new mesh with the scaled vertices\n",
    "ellipsoid = trimesh.Trimesh(vertices=scaled_vertices, faces=sphere.faces)"
   ]
  },
  {
   "cell_type": "code",
   "execution_count": 80,
   "id": "1cf12fd3-1344-4057-9b53-ec6f74a13eed",
   "metadata": {},
   "outputs": [
    {
     "name": "stdout",
     "output_type": "stream",
     "text": [
      "autograd\n"
     ]
    }
   ],
   "source": [
    "print(os.environ[\"GEOMSTATS_BACKEND\"])"
   ]
  },
  {
   "cell_type": "markdown",
   "id": "a5c1d178-b422-4d4e-8f9d-75976cfaeca4",
   "metadata": {},
   "source": [
    "# Define surface space"
   ]
  },
  {
   "cell_type": "code",
   "execution_count": 81,
   "id": "a6719fbd-d7ea-4a33-8864-ad29bdc5c491",
   "metadata": {
    "tags": []
   },
   "outputs": [
    {
     "name": "stdout",
     "output_type": "stream",
     "text": [
      "autograd\n"
     ]
    }
   ],
   "source": [
    "SURFACE_SPACE = DiscreteSurfaces(faces = sphere.faces)\n",
    "METRIC = ElasticMetric(\n",
    "    space = SURFACE_SPACE,\n",
    "    a0=default_config.a0,\n",
    "    a1=default_config.a1,\n",
    "    b1=default_config.b1,\n",
    "    c1=default_config.c1,\n",
    "    d1=default_config.d1,\n",
    "    a2=default_config.a2,)\n",
    "\n",
    "print(os.environ[\"GEOMSTATS_BACKEND\"])"
   ]
  },
  {
   "cell_type": "code",
   "execution_count": 82,
   "id": "944c78c3-2bca-4f56-8b72-e7cdd2bdc2c5",
   "metadata": {
    "tags": []
   },
   "outputs": [
    {
     "name": "stdout",
     "output_type": "stream",
     "text": [
      "642\n"
     ]
    }
   ],
   "source": [
    "n_vertices = sphere.vertices.shape[0]\n",
    "print(n_vertices)\n",
    "\n",
    "def geodesics_sphere_to_ellipsoid(\n",
    "    n_geodesics=1, n_times=5\n",
    "):\n",
    "    \"\"\"Generate a dataset of geodesics that transform spheres into ellipsoids.\"\"\"\n",
    "    dim = 3\n",
    "\n",
    "    geodesics = gs.zeros((n_geodesics, n_times, n_vertices, dim))\n",
    "    times = gs.arange(0, 1, 1 / n_times)\n",
    "    for i_geodesic in range(n_geodesics):\n",
    "        start_surface = gs.array(sphere.vertices)\n",
    "        end_surface = gs.array(ellipsoid.vertices)\n",
    "        geodesic = METRIC.geodesic(initial_point = start_surface, end_point = end_surface)\n",
    "        geodesics[i_geodesic] = geodesic(times)\n",
    "\n",
    "    return geodesics"
   ]
  },
  {
   "cell_type": "code",
   "execution_count": 83,
   "id": "54c8e02c-03b0-4512-9ec1-a7887a56bdbc",
   "metadata": {
    "tags": []
   },
   "outputs": [
    {
     "name": "stdout",
     "output_type": "stream",
     "text": [
      "autograd\n"
     ]
    }
   ],
   "source": [
    "print(os.environ[\"GEOMSTATS_BACKEND\"])"
   ]
  },
  {
   "cell_type": "code",
   "execution_count": 84,
   "id": "dc58372b-857f-469b-bf46-7a975fbb3534",
   "metadata": {
    "tags": []
   },
   "outputs": [
    {
     "ename": "RuntimeError",
     "evalue": "Automatic differentiation is not supported with numpy backend. Use autograd or pytorch backend instead.\nChange backend via the command export GEOMSTATS_BACKEND=autograd in a terminal.",
     "output_type": "error",
     "traceback": [
      "\u001b[0;31m---------------------------------------------------------------------------\u001b[0m",
      "\u001b[0;31mRuntimeError\u001b[0m                              Traceback (most recent call last)",
      "Cell \u001b[0;32mIn[84], line 3\u001b[0m\n\u001b[1;32m      1\u001b[0m \u001b[38;5;66;03m#os.system(f\"export GEOMSTATS_BACKEND=autograd\")\u001b[39;00m\n\u001b[0;32m----> 3\u001b[0m \u001b[43mgeodesics_sphere_to_ellipsoid\u001b[49m\u001b[43m(\u001b[49m\u001b[43m)\u001b[49m\n",
      "Cell \u001b[0;32mIn[82], line 15\u001b[0m, in \u001b[0;36mgeodesics_sphere_to_ellipsoid\u001b[0;34m(n_geodesics, n_times)\u001b[0m\n\u001b[1;32m     13\u001b[0m     start_surface \u001b[38;5;241m=\u001b[39m gs\u001b[38;5;241m.\u001b[39marray(sphere\u001b[38;5;241m.\u001b[39mvertices)\n\u001b[1;32m     14\u001b[0m     end_surface \u001b[38;5;241m=\u001b[39m gs\u001b[38;5;241m.\u001b[39marray(ellipsoid\u001b[38;5;241m.\u001b[39mvertices)\n\u001b[0;32m---> 15\u001b[0m     geodesic \u001b[38;5;241m=\u001b[39m \u001b[43mMETRIC\u001b[49m\u001b[38;5;241;43m.\u001b[39;49m\u001b[43mgeodesic\u001b[49m\u001b[43m(\u001b[49m\u001b[43minitial_point\u001b[49m\u001b[43m \u001b[49m\u001b[38;5;241;43m=\u001b[39;49m\u001b[43m \u001b[49m\u001b[43mstart_surface\u001b[49m\u001b[43m,\u001b[49m\u001b[43m \u001b[49m\u001b[43mend_point\u001b[49m\u001b[43m \u001b[49m\u001b[38;5;241;43m=\u001b[39;49m\u001b[43m \u001b[49m\u001b[43mend_surface\u001b[49m\u001b[43m)\u001b[49m\n\u001b[1;32m     16\u001b[0m     geodesics[i_geodesic] \u001b[38;5;241m=\u001b[39m geodesic(times)\n\u001b[1;32m     18\u001b[0m \u001b[38;5;28;01mreturn\u001b[39;00m geodesics\n",
      "File \u001b[0;32m~/code/my28brains/my28brains/discrete_surfaces.py:588\u001b[0m, in \u001b[0;36mElasticMetric.geodesic\u001b[0;34m(self, initial_point, end_point, initial_tangent_vec)\u001b[0m\n\u001b[1;32m    567\u001b[0m \u001b[38;5;250m\u001b[39m\u001b[38;5;124;03m\"\"\"Compute a geodesic.\u001b[39;00m\n\u001b[1;32m    568\u001b[0m \n\u001b[1;32m    569\u001b[0m \u001b[38;5;124;03mGiven an initial point and either an endpoint or initial vector.\u001b[39;00m\n\u001b[0;32m   (...)\u001b[0m\n\u001b[1;32m    585\u001b[0m \u001b[38;5;124;03m    total path energy.\u001b[39;00m\n\u001b[1;32m    586\u001b[0m \u001b[38;5;124;03m\"\"\"\u001b[39;00m\n\u001b[1;32m    587\u001b[0m \u001b[38;5;28;01mif\u001b[39;00m end_point \u001b[38;5;129;01mis\u001b[39;00m \u001b[38;5;129;01mnot\u001b[39;00m \u001b[38;5;28;01mNone\u001b[39;00m:\n\u001b[0;32m--> 588\u001b[0m     \u001b[38;5;28;01mreturn\u001b[39;00m \u001b[38;5;28;43mself\u001b[39;49m\u001b[38;5;241;43m.\u001b[39;49m\u001b[43m_bvp\u001b[49m\u001b[43m(\u001b[49m\u001b[43minitial_point\u001b[49m\u001b[43m,\u001b[49m\u001b[43m \u001b[49m\u001b[43mend_point\u001b[49m\u001b[43m)\u001b[49m\n\u001b[1;32m    589\u001b[0m \u001b[38;5;28;01mif\u001b[39;00m initial_tangent_vec \u001b[38;5;129;01mis\u001b[39;00m \u001b[38;5;129;01mnot\u001b[39;00m \u001b[38;5;28;01mNone\u001b[39;00m:\n\u001b[1;32m    590\u001b[0m     \u001b[38;5;28;01mreturn\u001b[39;00m \u001b[38;5;28mself\u001b[39m\u001b[38;5;241m.\u001b[39m_ivp(initial_point, initial_tangent_vec)\n",
      "File \u001b[0;32m~/code/my28brains/my28brains/discrete_surfaces.py:649\u001b[0m, in \u001b[0;36mElasticMetric._bvp\u001b[0;34m(self, initial_point, end_point)\u001b[0m\n\u001b[1;32m    641\u001b[0m     midpoint \u001b[38;5;241m=\u001b[39m gs\u001b[38;5;241m.\u001b[39mreshape(gs\u001b[38;5;241m.\u001b[39marray(midpoint), (\u001b[38;5;28mself\u001b[39m\u001b[38;5;241m.\u001b[39mn_times \u001b[38;5;241m-\u001b[39m \u001b[38;5;241m2\u001b[39m, n_points, \u001b[38;5;241m3\u001b[39m))\n\u001b[1;32m    642\u001b[0m     \u001b[38;5;28;01mreturn\u001b[39;00m \u001b[38;5;28mself\u001b[39m\u001b[38;5;241m.\u001b[39mpath_energy(\n\u001b[1;32m    643\u001b[0m         gs\u001b[38;5;241m.\u001b[39mconcatenate(\n\u001b[1;32m    644\u001b[0m             [initial_point[\u001b[38;5;28;01mNone\u001b[39;00m, :, :], midpoint, end_point[\u001b[38;5;28;01mNone\u001b[39;00m, :, :]], axis\u001b[38;5;241m=\u001b[39m\u001b[38;5;241m0\u001b[39m\n\u001b[1;32m    645\u001b[0m         )\n\u001b[1;32m    646\u001b[0m     )\n\u001b[1;32m    648\u001b[0m sol \u001b[38;5;241m=\u001b[39m minimize(\n\u001b[0;32m--> 649\u001b[0m     \u001b[43mgs\u001b[49m\u001b[38;5;241;43m.\u001b[39;49m\u001b[43mautodiff\u001b[49m\u001b[38;5;241;43m.\u001b[39;49m\u001b[43mvalue_and_grad\u001b[49m\u001b[43m(\u001b[49m\u001b[43mfunopt\u001b[49m\u001b[43m)\u001b[49m,\n\u001b[1;32m    650\u001b[0m     gs\u001b[38;5;241m.\u001b[39mflatten(midpoints),\n\u001b[1;32m    651\u001b[0m     method\u001b[38;5;241m=\u001b[39m\u001b[38;5;124m\"\u001b[39m\u001b[38;5;124mL-BFGS-B\u001b[39m\u001b[38;5;124m\"\u001b[39m,\n\u001b[1;32m    652\u001b[0m     jac\u001b[38;5;241m=\u001b[39m\u001b[38;5;28;01mTrue\u001b[39;00m,\n\u001b[1;32m    653\u001b[0m     options\u001b[38;5;241m=\u001b[39m{\u001b[38;5;124m\"\u001b[39m\u001b[38;5;124mdisp\u001b[39m\u001b[38;5;124m\"\u001b[39m: \u001b[38;5;28;01mTrue\u001b[39;00m, \u001b[38;5;124m\"\u001b[39m\u001b[38;5;124mftol\u001b[39m\u001b[38;5;124m\"\u001b[39m: \u001b[38;5;241m0.001\u001b[39m},\n\u001b[1;32m    654\u001b[0m )\n\u001b[1;32m    655\u001b[0m out \u001b[38;5;241m=\u001b[39m gs\u001b[38;5;241m.\u001b[39mreshape(gs\u001b[38;5;241m.\u001b[39marray(sol\u001b[38;5;241m.\u001b[39mx), (\u001b[38;5;28mself\u001b[39m\u001b[38;5;241m.\u001b[39mn_times \u001b[38;5;241m-\u001b[39m \u001b[38;5;241m2\u001b[39m, n_points, \u001b[38;5;241m3\u001b[39m))\n\u001b[1;32m    656\u001b[0m geod \u001b[38;5;241m=\u001b[39m gs\u001b[38;5;241m.\u001b[39mconcatenate(\n\u001b[1;32m    657\u001b[0m     [initial_point[\u001b[38;5;28;01mNone\u001b[39;00m, :, :], out, end_point[\u001b[38;5;28;01mNone\u001b[39;00m, :, :]], axis\u001b[38;5;241m=\u001b[39m\u001b[38;5;241m0\u001b[39m\n\u001b[1;32m    658\u001b[0m )\n",
      "File \u001b[0;32m~/anaconda3/envs/my28brains/lib/python3.8/site-packages/geomstats/_backend/numpy/autodiff.py:30\u001b[0m, in \u001b[0;36mvalue_and_grad\u001b[0;34m(*args, **kwargs)\u001b[0m\n\u001b[1;32m     28\u001b[0m \u001b[38;5;28;01mdef\u001b[39;00m \u001b[38;5;21mvalue_and_grad\u001b[39m(\u001b[38;5;241m*\u001b[39margs, \u001b[38;5;241m*\u001b[39m\u001b[38;5;241m*\u001b[39mkwargs):\n\u001b[1;32m     29\u001b[0m \u001b[38;5;250m    \u001b[39m\u001b[38;5;124;03m\"\"\"Return an error when using automatic differentiation with numpy.\"\"\"\u001b[39;00m\n\u001b[0;32m---> 30\u001b[0m     \u001b[38;5;28;01mraise\u001b[39;00m \u001b[38;5;167;01mRuntimeError\u001b[39;00m(_USE_OTHER_BACKEND_MSG)\n",
      "\u001b[0;31mRuntimeError\u001b[0m: Automatic differentiation is not supported with numpy backend. Use autograd or pytorch backend instead.\nChange backend via the command export GEOMSTATS_BACKEND=autograd in a terminal."
     ]
    }
   ],
   "source": [
    "geodesics_sphere_to_ellipsoid()"
   ]
  },
  {
   "cell_type": "code",
   "execution_count": null,
   "id": "61f0d53b-d1d3-488b-9ec9-c338689fbd53",
   "metadata": {},
   "outputs": [],
   "source": []
  },
  {
   "cell_type": "code",
   "execution_count": null,
   "id": "39018767-4b77-4f81-9bf3-9fa93ba1f21e",
   "metadata": {},
   "outputs": [],
   "source": []
  },
  {
   "cell_type": "code",
   "execution_count": null,
   "id": "67056d15-06aa-4c4b-b077-fc454275e2c2",
   "metadata": {},
   "outputs": [],
   "source": []
  }
 ],
 "metadata": {
  "kernelspec": {
   "display_name": "Python 3 (ipykernel)",
   "language": "python",
   "name": "python3"
  },
  "language_info": {
   "codemirror_mode": {
    "name": "ipython",
    "version": 3
   },
   "file_extension": ".py",
   "mimetype": "text/x-python",
   "name": "python",
   "nbconvert_exporter": "python",
   "pygments_lexer": "ipython3",
   "version": "3.8.16"
  }
 },
 "nbformat": 4,
 "nbformat_minor": 5
}
