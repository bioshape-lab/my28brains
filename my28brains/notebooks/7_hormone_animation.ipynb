{
 "cells": [
  {
   "cell_type": "markdown",
   "id": "6fb9410b-a0b8-4b91-85e4-6dea3ace82ae",
   "metadata": {},
   "source": [
    "# Hormone Animation"
   ]
  },
  {
   "cell_type": "markdown",
   "id": "16c58c91-e0e2-4eaa-9747-331ab11a1c45",
   "metadata": {},
   "source": [
    "This notebook creates a hormone animation for the whole hippocampus structure.\n",
    "\n",
    "This notebook\n",
    "- loads the nondegenerate meshes for the whole substructure\n",
    "- loads the hormone data\n",
    "- creates a `meshes_hormone_organized` folder\n",
    "- takes the first 12 days of the data, as this is the time period where progesterone peaks.\n",
    "- organizes both data from lowest hormone level to highest hormone level\n",
    "- generates a hormone animation plot for the hormones\n",
    "\n",
    "\n",
    "Next, go into the default config file, change \"hormone_ordered\" to be true, and then run main.py.\n",
    "\n",
    "alternatively, if hormone_ordered is true, then we can do all of this sorting in the default config.\n"
   ]
  },
  {
   "cell_type": "code",
   "execution_count": null,
   "id": "fb7bf8ab-666f-4bc0-b662-8cd57ec71448",
   "metadata": {},
   "outputs": [],
   "source": []
  }
 ],
 "metadata": {
  "kernelspec": {
   "display_name": "Python 3 (ipykernel)",
   "language": "python",
   "name": "python3"
  },
  "language_info": {
   "codemirror_mode": {
    "name": "ipython",
    "version": 3
   },
   "file_extension": ".py",
   "mimetype": "text/x-python",
   "name": "python",
   "nbconvert_exporter": "python",
   "pygments_lexer": "ipython3",
   "version": "3.8.16"
  }
 },
 "nbformat": 4,
 "nbformat_minor": 5
}
