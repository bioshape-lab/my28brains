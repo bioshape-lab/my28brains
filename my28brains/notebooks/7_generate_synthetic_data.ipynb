{
 "cells": [
  {
   "cell_type": "markdown",
   "id": "8cd4d66b-f176-4db3-8554-da21d939a198",
   "metadata": {},
   "source": [
    "# Generate Synthetic Data"
   ]
  },
  {
   "cell_type": "markdown",
   "id": "80200f15-3acd-4cac-97ae-4832df8235cc",
   "metadata": {},
   "source": [
    "Here, we we will generate synthetic mesh geodesics so that we can use them to test geodesic regression of parameterized and unparameterized surfaces."
   ]
  },
  {
   "cell_type": "code",
   "execution_count": 9,
   "id": "e62e4742-09d2-4d46-906a-b3d8f2283553",
   "metadata": {
    "tags": []
   },
   "outputs": [],
   "source": [
    "# imports\n",
    "\n",
    "import trimesh\n",
    "import os\n",
    "import sys\n",
    "import subprocess\n",
    "import torch\n",
    "import numpy as np"
   ]
  },
  {
   "cell_type": "code",
   "execution_count": 10,
   "id": "5bc36190-cd0c-4956-8b8d-c5643604a932",
   "metadata": {
    "tags": []
   },
   "outputs": [
    {
     "name": "stdout",
     "output_type": "stream",
     "text": [
      "/home/adele/code/my28brains/my28brains\n"
     ]
    }
   ],
   "source": [
    "#set directory paths\n",
    "\n",
    "gitroot_path = subprocess.check_output(\n",
    "    [\"git\", \"rev-parse\", \"--show-toplevel\"], universal_newlines=True\n",
    ")\n",
    "os.chdir(gitroot_path[:-1])\n",
    "work_dir = os.getcwd()\n",
    "h2_dir = os.path.join(work_dir, \"H2_SurfaceMatch\")\n",
    "my28brains_dir = os.path.join(work_dir, \"my28brains\")\n",
    "print(my28brains_dir)\n",
    "\n",
    "sys_dir = os.path.dirname(work_dir)\n",
    "sys.path.append(sys_dir)\n",
    "sys.path.append(h2_dir)\n",
    "sys.path.append(my28brains_dir)\n",
    "\n",
    "import H2_SurfaceMatch.H2_match  # noqa: E402\n",
    "import H2_SurfaceMatch.utils.input_output  # noqa: E402\n",
    "import H2_SurfaceMatch.utils.utils  # noqa: E402\n",
    "\n",
    "import my28brains.default_config"
   ]
  },
  {
   "cell_type": "markdown",
   "id": "d6a4eff4-018d-495d-998b-9ffbff9bc274",
   "metadata": {},
   "source": [
    "# Generate Source/Target meshes"
   ]
  },
  {
   "cell_type": "markdown",
   "id": "34443a76-9974-41cc-bed1-fb13b89dd66c",
   "metadata": {},
   "source": [
    "## 1. Pill Mesh"
   ]
  },
  {
   "cell_type": "code",
   "execution_count": 11,
   "id": "3b687c37-a657-4da7-83a9-5e8d79ecd4fe",
   "metadata": {
    "tags": []
   },
   "outputs": [],
   "source": [
    "pill = trimesh.creation.capsule(height=1.0, radius=1.0, count=None)"
   ]
  },
  {
   "cell_type": "code",
   "execution_count": 12,
   "id": "f3637e65-54e3-404f-83b7-673cae4d0f14",
   "metadata": {
    "tags": []
   },
   "outputs": [],
   "source": [
    "#pill.show()"
   ]
  },
  {
   "cell_type": "markdown",
   "id": "2feb0de0-3aa3-4560-825a-3838a6a5ff03",
   "metadata": {},
   "source": [
    "## 2 Ellipsoid Mesh"
   ]
  },
  {
   "cell_type": "code",
   "execution_count": 13,
   "id": "a29eb500-b48a-4510-9f72-7736dfcee946",
   "metadata": {
    "tags": []
   },
   "outputs": [],
   "source": [
    "sphere = trimesh.creation.uv_sphere(radius=1)\n",
    "\n",
    "# Create a scaling matrix for the semi-axes lengths\n",
    "scales = np.array([2, 2, 3])\n",
    "scale_matrix = np.diag(scales)\n",
    "\n",
    "# Apply the scaling transformation to the mesh vertices\n",
    "scaled_vertices = sphere.vertices.dot(scale_matrix)\n",
    "\n",
    "# Create a new mesh with the scaled vertices\n",
    "ellipsoid = trimesh.Trimesh(vertices=scaled_vertices, faces=sphere.faces)"
   ]
  },
  {
   "cell_type": "code",
   "execution_count": 14,
   "id": "e44302c6-4373-4102-a726-27f3353c4e4a",
   "metadata": {
    "tags": []
   },
   "outputs": [],
   "source": [
    "#ellipsoid.show()"
   ]
  },
  {
   "cell_type": "markdown",
   "id": "334478fe-2eb0-4d8c-854a-cc9439896395",
   "metadata": {},
   "source": [
    "## 3. Sphere Mesh"
   ]
  },
  {
   "cell_type": "code",
   "execution_count": 15,
   "id": "9a9edbbe-6bf0-4cc3-8902-55da4211f53c",
   "metadata": {
    "tags": []
   },
   "outputs": [],
   "source": [
    "sphere = trimesh.creation.uv_sphere(radius=1)\n",
    "\n",
    "#sphere.show()"
   ]
  },
  {
   "cell_type": "markdown",
   "id": "a84c6e10-28c7-42e8-8b6c-5c9f1ed7bf58",
   "metadata": {},
   "source": [
    "# Create Geodesics between sphere and ellipsoid meshes"
   ]
  },
  {
   "cell_type": "code",
   "execution_count": 16,
   "id": "821ba7cc-e20c-4a4b-96ff-f11d61f87fe4",
   "metadata": {
    "tags": []
   },
   "outputs": [],
   "source": [
    "vertices_source = sphere.vertices\n",
    "faces_source = sphere.faces\n",
    "\n",
    "vertices_target = ellipsoid.vertices\n",
    "faces_target = ellipsoid.faces\n",
    "\n",
    "source = [vertices_source, faces_source]\n",
    "target = [vertices_target, faces_target]\n",
    "\n",
    "gpu_id =1\n",
    "\n",
    "device = torch.device(f\"cuda:{gpu_id}\" if torch.cuda.is_available() else \"cpu\")"
   ]
  },
  {
   "cell_type": "code",
   "execution_count": 57,
   "id": "b4c67c6b-3ec0-4e69-9b7a-79fa6414964e",
   "metadata": {
    "tags": []
   },
   "outputs": [
    {
     "name": "stdout",
     "output_type": "stream",
     "text": [
      "before starting: Vertices then Faces for S then T\n",
      "(2016, 3) (3780, 3)\n",
      "(1892, 3) (3780, 3)\n",
      "\n",
      " ############ Iteration 0:\n",
      "F0.shape (3780, 3)\n",
      "geod.shape: (2, 2016, 3)\n",
      "\n",
      " ############ Iteration 1:\n",
      "F0.shape (3780, 3)\n",
      "geod.shape: (2, 2016, 3)\n",
      "in timesteps:\n",
      "geod.shape: (3, 2016, 3)\n",
      "\n",
      " ############ Iteration 2:\n",
      "F0.shape (3780, 3)\n",
      "geod.shape: (3, 2016, 3)\n",
      "in timesteps:\n",
      "geod.shape: (5, 2016, 3)\n",
      "3 (3780, 3)\n"
     ]
    }
   ],
   "source": [
    "geod, F0 = H2_SurfaceMatch.H2_match.H2MultiRes(\n",
    "        source=source,\n",
    "        target=target,\n",
    "        a0=default_config.a0,\n",
    "        a1=default_config.a1,\n",
    "        b1=default_config.b1,\n",
    "        c1=default_config.c1,\n",
    "        d1=default_config.d1,\n",
    "        a2=default_config.a2,\n",
    "        resolutions=default_config.resolutions,\n",
    "        start=None,\n",
    "        paramlist=default_config.paramlist,\n",
    "        device=device,\n",
    "    )"
   ]
  },
  {
   "cell_type": "code",
   "execution_count": 61,
   "id": "6e0bf622-f08d-4a57-b061-e6dc6313402e",
   "metadata": {
    "tags": []
   },
   "outputs": [
    {
     "name": "stdout",
     "output_type": "stream",
     "text": [
      "(5, 2016, 3)\n",
      "(3780, 3)\n"
     ]
    }
   ],
   "source": [
    "#vertices of geodesic\n",
    "print(geod.shape)\n",
    "\n",
    "#faces of each point in the gedesic\n",
    "print(F0.shape)"
   ]
  },
  {
   "cell_type": "code",
   "execution_count": 67,
   "id": "0312fdbc-8be4-4952-9b7e-3bfa77272902",
   "metadata": {
    "tags": []
   },
   "outputs": [],
   "source": [
    "mesh1 = trimesh.Trimesh(vertices= geod[0],\n",
    "                       faces=F0)\n",
    "\n",
    "mesh2 = trimesh.Trimesh(vertices= geod[1],\n",
    "                       faces=F0)\n",
    "mesh3 = trimesh.Trimesh(vertices= geod[2],\n",
    "                       faces=F0)\n",
    "mesh4 = trimesh.Trimesh(vertices= geod[3],\n",
    "                       faces=F0)\n",
    "mesh5 = trimesh.Trimesh(vertices= geod[4],\n",
    "                       faces=F0)"
   ]
  },
  {
   "cell_type": "code",
   "execution_count": 17,
   "id": "33671344-e700-4f69-8cae-26bfac8f3547",
   "metadata": {
    "tags": []
   },
   "outputs": [],
   "source": [
    "#mesh1.show()"
   ]
  },
  {
   "cell_type": "code",
   "execution_count": 18,
   "id": "7ec30f04-97b9-4da2-be5c-bb42e745f9bd",
   "metadata": {
    "tags": []
   },
   "outputs": [],
   "source": [
    "#mesh2.show()"
   ]
  },
  {
   "cell_type": "code",
   "execution_count": 19,
   "id": "e6324054-acf0-4d76-9f2f-43ce67e430ac",
   "metadata": {
    "tags": []
   },
   "outputs": [],
   "source": [
    "#mesh3.show()"
   ]
  },
  {
   "cell_type": "code",
   "execution_count": 20,
   "id": "f5a612ba-6b30-48fc-8658-c5b41e0894b7",
   "metadata": {
    "tags": []
   },
   "outputs": [],
   "source": [
    "#mesh4.show()"
   ]
  },
  {
   "cell_type": "code",
   "execution_count": 21,
   "id": "0548afbf-ae43-4dbb-bde1-7e9040f3e9dd",
   "metadata": {
    "tags": []
   },
   "outputs": [],
   "source": [
    "#mesh5.show()"
   ]
  },
  {
   "cell_type": "code",
   "execution_count": null,
   "id": "ab37f15f-aaa9-4d1f-b106-7eba48df6f59",
   "metadata": {},
   "outputs": [],
   "source": []
  }
 ],
 "metadata": {
  "kernelspec": {
   "display_name": "Python 3 (ipykernel)",
   "language": "python",
   "name": "python3"
  },
  "language_info": {
   "codemirror_mode": {
    "name": "ipython",
    "version": 3
   },
   "file_extension": ".py",
   "mimetype": "text/x-python",
   "name": "python",
   "nbconvert_exporter": "python",
   "pygments_lexer": "ipython3",
   "version": "3.8.16"
  }
 },
 "nbformat": 4,
 "nbformat_minor": 5
}
