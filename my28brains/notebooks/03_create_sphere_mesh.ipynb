{
 "cells": [
  {
   "cell_type": "markdown",
   "id": "5e679a96-5a8b-40ba-a723-7fecd2c07476",
   "metadata": {},
   "source": [
    "# Create Spherical Mesh"
   ]
  },
  {
   "cell_type": "markdown",
   "id": "5bdaa1ac-61b0-4f49-8ef0-228f5aa6469a",
   "metadata": {},
   "source": [
    "This notebook uses meshzoo to create a 2D mesh of a sphere. We will use this mesh for unit testing `discrete_surfaces.py`."
   ]
  },
  {
   "cell_type": "markdown",
   "id": "89617115-3460-4e0b-a2fc-1bafcf7806af",
   "metadata": {},
   "source": [
    "# Set Up"
   ]
  },
  {
   "cell_type": "code",
   "execution_count": 1,
   "id": "acbb0129-5884-4ca6-b181-279d4e0db030",
   "metadata": {},
   "outputs": [
    {
     "name": "stdout",
     "output_type": "stream",
     "text": [
      "Working directory:  /home/adele/code/my28brains\n",
      "Added directories to syspath:\n",
      "/home/adele/code\n"
     ]
    }
   ],
   "source": [
    "import os\n",
    "import subprocess\n",
    "\n",
    "gitroot_path = subprocess.check_output(\n",
    "    [\"git\", \"rev-parse\", \"--show-toplevel\"], universal_newlines=True\n",
    ")\n",
    "os.chdir(gitroot_path[:-1])\n",
    "work_dir = os.getcwd()\n",
    "print(\"Working directory: \", work_dir)\n",
    "\n",
    "import warnings\n",
    "\n",
    "warnings.filterwarnings(\"ignore\")\n",
    "\n",
    "import sys\n",
    "\n",
    "sys_dir = os.path.dirname(work_dir)\n",
    "sys.path.append(sys_dir)\n",
    "\n",
    "print(\"Added directories to syspath:\")\n",
    "print(sys_dir)"
   ]
  },
  {
   "cell_type": "markdown",
   "id": "d9c503ca-7405-493f-b43e-d47a000ea5cf",
   "metadata": {},
   "source": [
    "# Project Specific Imports"
   ]
  },
  {
   "cell_type": "code",
   "execution_count": 18,
   "id": "32135a3b-34f9-4beb-a4e3-92ee6ce52da9",
   "metadata": {},
   "outputs": [],
   "source": [
    "import meshzoo\n",
    "import glob\n",
    "import trimesh\n",
    "import numpy as np\n",
    "\n",
    "# so that we can write to the server\n",
    "import my28brains.my28brains.io_mesh as io_mesh"
   ]
  },
  {
   "cell_type": "markdown",
   "id": "8a5ced44-8c5f-42ab-89f0-33d914413908",
   "metadata": {},
   "source": [
    "# Define Dirs"
   ]
  },
  {
   "cell_type": "code",
   "execution_count": 3,
   "id": "d0c319d3-d529-4158-bd46-57cdecbe1207",
   "metadata": {},
   "outputs": [
    {
     "name": "stdout",
     "output_type": "stream",
     "text": [
      "SPHERE_MESH_DIR:  /home/adele/code/my28brains/data/sphere_meshes\n",
      "SPHERE_MESH_DIR:  /home/adele/code/my28brains/data/sphere_meshes\n"
     ]
    }
   ],
   "source": [
    "SPHERE_MESH_DIR = os.path.join(os.getcwd(), \"data\", \"sphere_meshes\")\n",
    "print(\"SPHERE_MESH_DIR: \", SPHERE_MESH_DIR)\n",
    "\n",
    "print(\"SPHERE_MESH_DIR: \", SPHERE_MESH_DIR)\n",
    "if not os.path.exists(SPHERE_MESH_DIR):\n",
    "    os.makedirs(SPHERE_MESH_DIR)"
   ]
  },
  {
   "cell_type": "code",
   "execution_count": 4,
   "id": "355be5f1-e9a5-409c-94cb-a7d0bd8a5178",
   "metadata": {},
   "outputs": [
    {
     "name": "stdout",
     "output_type": "stream",
     "text": [
      "/home/adele/code/my28brains/data/sphere_meshes/sphere_mesh.ply\n"
     ]
    }
   ],
   "source": [
    "# string_base = os.path.join(\n",
    "#     SPHERE_MESH_DIR, f\"sphere_mesh.ply\"\n",
    "# )\n",
    "#path = sorted(glob.glob(string_base))\n",
    "\n",
    "\n",
    "path = os.path.join(\n",
    "    SPHERE_MESH_DIR, f\"sphere_mesh.ply\"\n",
    ")\n",
    "print(path)"
   ]
  },
  {
   "cell_type": "markdown",
   "id": "55fd2466-8cc0-4758-a4df-7735625ea757",
   "metadata": {},
   "source": [
    "# Create spherical mesh"
   ]
  },
  {
   "cell_type": "code",
   "execution_count": 13,
   "id": "ba84a1d0-ac12-417d-a19f-2a1246cc62db",
   "metadata": {},
   "outputs": [],
   "source": [
    "# points, faces = meshzoo.meshzoo.icosa_sphere(10)\n",
    "points, faces = meshzoo.tetra_sphere(10)\n",
    "new_mesh = trimesh.Trimesh(vertices=points, faces=faces)"
   ]
  },
  {
   "cell_type": "code",
   "execution_count": 14,
   "id": "7a13eb5c-8d91-4fc2-8e4f-9859dc3bccab",
   "metadata": {},
   "outputs": [
    {
     "name": "stdout",
     "output_type": "stream",
     "text": [
      "(202, 3)\n"
     ]
    }
   ],
   "source": [
    "print(points.shape)"
   ]
  },
  {
   "cell_type": "code",
   "execution_count": 15,
   "id": "13bd3505-9547-4e72-9039-34150c59e82e",
   "metadata": {},
   "outputs": [
    {
     "name": "stdout",
     "output_type": "stream",
     "text": [
      "(400, 3)\n"
     ]
    }
   ],
   "source": [
    "print(faces.shape)"
   ]
  },
  {
   "cell_type": "markdown",
   "id": "9e29dea1-6c47-4ca2-9e37-492e1074c7e5",
   "metadata": {},
   "source": [
    "# Save Data"
   ]
  },
  {
   "cell_type": "code",
   "execution_count": 16,
   "id": "c72f54b1-2cda-4ec8-a01f-fc97f596af40",
   "metadata": {},
   "outputs": [
    {
     "name": "stdout",
     "output_type": "stream",
     "text": [
      "/home/adele/code/my28brains/data/sphere_meshes/sphere_mesh.ply\n",
      "Writing mesh at /home/adele/code/my28brains/data/sphere_meshes/sphere_mesh.ply...\n"
     ]
    }
   ],
   "source": [
    "ply_path = os.path.join(SPHERE_MESH_DIR, os.path.basename(path))\n",
    "print(ply_path)\n",
    "io_mesh.write_trimesh_to_ply(new_mesh, ply_path)"
   ]
  },
  {
   "cell_type": "code",
   "execution_count": 21,
   "id": "6911730b-fe8a-4e64-ad98-c89899dbcf03",
   "metadata": {},
   "outputs": [],
   "source": [
    "npy_path = os.path.join(SPHERE_MESH_DIR, os.path.basename(path))\n",
    "np.save(os.path.join(SPHERE_MESH_DIR,'faces.npy'), faces)\n",
    "np.save(os.path.join(SPHERE_MESH_DIR,'vertices.npy'), points)"
   ]
  },
  {
   "cell_type": "markdown",
   "id": "24d852f7-03e5-421f-af03-ba8e0f17ba26",
   "metadata": {},
   "source": [
    "# Practice Loading this Data"
   ]
  },
  {
   "cell_type": "code",
   "execution_count": 27,
   "id": "627b1532-ae3d-424e-8bb2-5087622534be",
   "metadata": {},
   "outputs": [
    {
     "name": "stdout",
     "output_type": "stream",
     "text": [
      "/home/adele/code/my28brains/data/sphere_meshes/faces.npy\n",
      "/home/adele/code/my28brains/data/sphere_meshes/vertices.npy\n"
     ]
    }
   ],
   "source": [
    "DATA_DIR = os.path.join(os.getcwd(), \"data\")\n",
    "SPHERE_DATA_DIR = os.path.join(DATA_DIR, \"sphere_meshes\")\n",
    "test_vertices_path = os.path.join(SPHERE_DATA_DIR, \"faces.npy\")\n",
    "test_faces_path = os.path.join(SPHERE_DATA_DIR, \"vertices.npy\")\n",
    "print(test_vertices_path)\n",
    "print(test_faces_path)"
   ]
  },
  {
   "cell_type": "code",
   "execution_count": 28,
   "id": "1a7fe673-b09d-42a8-a993-42c273ebc8e3",
   "metadata": {},
   "outputs": [],
   "source": [
    "test_vertices = np.load(test_vertices_path)\n",
    "test_faces = np.load(test_faces_path)"
   ]
  },
  {
   "cell_type": "code",
   "execution_count": null,
   "id": "3467474c-f7cc-4796-9a69-21b472e7be5a",
   "metadata": {},
   "outputs": [],
   "source": []
  }
 ],
 "metadata": {
  "kernelspec": {
   "display_name": "Python 3 (ipykernel)",
   "language": "python",
   "name": "python3"
  },
  "language_info": {
   "codemirror_mode": {
    "name": "ipython",
    "version": 3
   },
   "file_extension": ".py",
   "mimetype": "text/x-python",
   "name": "python",
   "nbconvert_exporter": "python",
   "pygments_lexer": "ipython3",
   "version": "3.8.16"
  },
  "vscode": {
   "interpreter": {
    "hash": "31f2aee4e71d21fbe5cf8b01ff0e069b9275f58929596ceb00d14d90e3e16cd6"
   }
  }
 },
 "nbformat": 4,
 "nbformat_minor": 5
}
