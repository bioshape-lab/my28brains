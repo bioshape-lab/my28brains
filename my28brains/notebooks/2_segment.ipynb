{
 "cells": [
  {
   "cell_type": "markdown",
   "id": "a6765043-5fc5-4e16-8d1f-a6f92dc1ee73",
   "metadata": {},
   "source": [
    "# Segment Surface of Hippocampal Formation\n",
    "\n",
    "This notebook transforms the 3D segmentation images into 3D meshed surfaces and stores them into .ply files that can be opened with MeshLab."
   ]
  },
  {
   "cell_type": "markdown",
   "id": "5df74c00-8979-402e-9a3e-37b6851562e7",
   "metadata": {},
   "source": [
    "## Set-up and Imports"
   ]
  },
  {
   "cell_type": "code",
   "execution_count": 1,
   "id": "f7e9070b-9b4b-4328-abf7-3fc71cd4928a",
   "metadata": {},
   "outputs": [
    {
     "name": "stdout",
     "output_type": "stream",
     "text": [
      "Working directory:  /home/nmiolane/code/my28brains\n"
     ]
    }
   ],
   "source": [
    "import os\n",
    "import subprocess\n",
    "\n",
    "gitroot_path = subprocess.check_output(\n",
    "    [\"git\", \"rev-parse\", \"--show-toplevel\"], universal_newlines=True\n",
    ")\n",
    "os.chdir(gitroot_path[:-1])\n",
    "print(\"Working directory: \", os.getcwd())\n",
    "\n",
    "import warnings\n",
    "\n",
    "warnings.filterwarnings(\"ignore\")\n",
    "\n",
    "import sys\n",
    "\n",
    "sys_dir = os.path.dirname(os.getcwd())\n",
    "sys.path.append(sys_dir)"
   ]
  },
  {
   "cell_type": "code",
   "execution_count": 2,
   "id": "e0af4d8a-a6ee-4663-a493-6fd1e176314f",
   "metadata": {},
   "outputs": [],
   "source": [
    "import glob\n",
    "\n",
    "import nibabel\n",
    "import numpy as np\n",
    "import skimage\n",
    "import trimesh\n",
    "\n",
    "DATA_DIR = \"/home/data/28andme/\""
   ]
  },
  {
   "cell_type": "markdown",
   "id": "0f65e90b-fccb-43b5-869a-f31a15350b3d",
   "metadata": {},
   "source": [
    "## Left Hemisphere: Segment and Write Meshes"
   ]
  },
  {
   "cell_type": "code",
   "execution_count": 3,
   "id": "524c798e-a27f-4b84-935e-fc632649b5a6",
   "metadata": {},
   "outputs": [
    {
     "name": "stdout",
     "output_type": "stream",
     "text": [
      "Found 27 image paths.\n",
      "['/home/data/28andme/sub-01/ses-02/ashs/left_lfseg_corr_usegray_CT_LQ.nii.gz', '/home/data/28andme/sub-01/ses-03/ashs/left_lfseg_corr_usegray_CT_LQ.nii.gz', '/home/data/28andme/sub-01/ses-04/ashs/left_lfseg_corr_usegray_CT_LQ.nii.gz', '/home/data/28andme/sub-01/ses-05/ashs/left_lfseg_corr_usegray_CT_LQ.nii.gz', '/home/data/28andme/sub-01/ses-06/ashs/left_lfseg_corr_usegray_CT_LQ.nii.gz', '/home/data/28andme/sub-01/ses-07/ashs/left_lfseg_corr_usegray_CT_LQ.nii.gz', '/home/data/28andme/sub-01/ses-08/ashs/left_lfseg_corr_usegray_CT_LQ.nii.gz', '/home/data/28andme/sub-01/ses-09/ashs/left_lfseg_corr_usegray_CT_LQ.nii.gz', '/home/data/28andme/sub-01/ses-10/ashs/left_lfseg_corr_usegray_CT_LQ.nii.gz', '/home/data/28andme/sub-01/ses-11/ashs/left_lfseg_corr_usegray_CT_LQ.nii.gz', '/home/data/28andme/sub-01/ses-12/ashs/left_lfseg_corr_usegray_CT_LQ.nii.gz', '/home/data/28andme/sub-01/ses-14/ashs/left_lfseg_corr_usegray_CT_LQ.nii.gz', '/home/data/28andme/sub-01/ses-15/ashs/left_lfseg_corr_usegray_CT_LQ.nii.gz', '/home/data/28andme/sub-01/ses-16/ashs/left_lfseg_corr_usegray_CT_LQ.nii.gz', '/home/data/28andme/sub-01/ses-17/ashs/left_lfseg_corr_usegray_CT_LQ.nii.gz', '/home/data/28andme/sub-01/ses-18/ashs/left_lfseg_corr_usegray_CT_LQ.nii.gz', '/home/data/28andme/sub-01/ses-20/ashs/left_lfseg_corr_usegray_CT_LQ.nii.gz', '/home/data/28andme/sub-01/ses-21/ashs/left_lfseg_corr_usegray_CT_LQ.nii.gz', '/home/data/28andme/sub-01/ses-22/ashs/left_lfseg_corr_usegray_CT_LQ.nii.gz', '/home/data/28andme/sub-01/ses-23/ashs/left_lfseg_corr_usegray_CT_LQ.nii.gz', '/home/data/28andme/sub-01/ses-24/ashs/left_lfseg_corr_usegray_CT_LQ.nii.gz', '/home/data/28andme/sub-01/ses-25/ashs/left_lfseg_corr_usegray_CT_LQ.nii.gz', '/home/data/28andme/sub-01/ses-26/ashs/left_lfseg_corr_usegray_CT_LQ.nii.gz', '/home/data/28andme/sub-01/ses-27/ashs/left_lfseg_corr_usegray_CT_LQ.nii.gz', '/home/data/28andme/sub-01/ses-28/ashs/left_lfseg_corr_usegray_CT_LQ.nii.gz', '/home/data/28andme/sub-01/ses-29/ashs/left_lfseg_corr_usegray_CT_LQ.nii.gz', '/home/data/28andme/sub-01/ses-30/ashs/left_lfseg_corr_usegray_CT_LQ.nii.gz']\n"
     ]
    }
   ],
   "source": [
    "hemisphere = \"left\"\n",
    "img_suffix = f\"ashs/{hemisphere}_lfseg_corr_usegray_CT_LQ.nii.gz\"\n",
    "string_base = os.path.join(DATA_DIR, f\"sub-01/ses-**/{img_suffix}\")\n",
    "paths = sorted(glob.glob(string_base))\n",
    "\n",
    "print(f\"Found {len(paths)} image paths.\")\n",
    "print(paths)"
   ]
  },
  {
   "cell_type": "code",
   "execution_count": 4,
   "id": "985ea180-6e23-40c6-b5f1-352e8f6b5593",
   "metadata": {},
   "outputs": [
    {
     "name": "stdout",
     "output_type": "stream",
     "text": [
      "Loading image at /home/data/28andme/sub-01/ses-02/ashs/left_lfseg_corr_usegray_CT_LQ.nii.gz...\n",
      "Writing mesh at /home/nmiolane/code/my28brains/meshes/sub-01/ses-02/ashs/left_lfseg_corr_usegray_CT_LQ.ply...\n",
      "Loading image at /home/data/28andme/sub-01/ses-03/ashs/left_lfseg_corr_usegray_CT_LQ.nii.gz...\n",
      "Writing mesh at /home/nmiolane/code/my28brains/meshes/sub-01/ses-03/ashs/left_lfseg_corr_usegray_CT_LQ.ply...\n",
      "Loading image at /home/data/28andme/sub-01/ses-04/ashs/left_lfseg_corr_usegray_CT_LQ.nii.gz...\n",
      "Writing mesh at /home/nmiolane/code/my28brains/meshes/sub-01/ses-04/ashs/left_lfseg_corr_usegray_CT_LQ.ply...\n",
      "Loading image at /home/data/28andme/sub-01/ses-05/ashs/left_lfseg_corr_usegray_CT_LQ.nii.gz...\n",
      "Writing mesh at /home/nmiolane/code/my28brains/meshes/sub-01/ses-05/ashs/left_lfseg_corr_usegray_CT_LQ.ply...\n",
      "Loading image at /home/data/28andme/sub-01/ses-06/ashs/left_lfseg_corr_usegray_CT_LQ.nii.gz...\n",
      "Writing mesh at /home/nmiolane/code/my28brains/meshes/sub-01/ses-06/ashs/left_lfseg_corr_usegray_CT_LQ.ply...\n",
      "Loading image at /home/data/28andme/sub-01/ses-07/ashs/left_lfseg_corr_usegray_CT_LQ.nii.gz...\n",
      "Writing mesh at /home/nmiolane/code/my28brains/meshes/sub-01/ses-07/ashs/left_lfseg_corr_usegray_CT_LQ.ply...\n",
      "Loading image at /home/data/28andme/sub-01/ses-08/ashs/left_lfseg_corr_usegray_CT_LQ.nii.gz...\n",
      "Writing mesh at /home/nmiolane/code/my28brains/meshes/sub-01/ses-08/ashs/left_lfseg_corr_usegray_CT_LQ.ply...\n",
      "Loading image at /home/data/28andme/sub-01/ses-09/ashs/left_lfseg_corr_usegray_CT_LQ.nii.gz...\n",
      "Writing mesh at /home/nmiolane/code/my28brains/meshes/sub-01/ses-09/ashs/left_lfseg_corr_usegray_CT_LQ.ply...\n",
      "Loading image at /home/data/28andme/sub-01/ses-10/ashs/left_lfseg_corr_usegray_CT_LQ.nii.gz...\n",
      "Writing mesh at /home/nmiolane/code/my28brains/meshes/sub-01/ses-10/ashs/left_lfseg_corr_usegray_CT_LQ.ply...\n",
      "Loading image at /home/data/28andme/sub-01/ses-11/ashs/left_lfseg_corr_usegray_CT_LQ.nii.gz...\n",
      "Writing mesh at /home/nmiolane/code/my28brains/meshes/sub-01/ses-11/ashs/left_lfseg_corr_usegray_CT_LQ.ply...\n",
      "Loading image at /home/data/28andme/sub-01/ses-12/ashs/left_lfseg_corr_usegray_CT_LQ.nii.gz...\n",
      "Writing mesh at /home/nmiolane/code/my28brains/meshes/sub-01/ses-12/ashs/left_lfseg_corr_usegray_CT_LQ.ply...\n",
      "Loading image at /home/data/28andme/sub-01/ses-14/ashs/left_lfseg_corr_usegray_CT_LQ.nii.gz...\n",
      "Writing mesh at /home/nmiolane/code/my28brains/meshes/sub-01/ses-14/ashs/left_lfseg_corr_usegray_CT_LQ.ply...\n",
      "Loading image at /home/data/28andme/sub-01/ses-15/ashs/left_lfseg_corr_usegray_CT_LQ.nii.gz...\n",
      "Writing mesh at /home/nmiolane/code/my28brains/meshes/sub-01/ses-15/ashs/left_lfseg_corr_usegray_CT_LQ.ply...\n",
      "Loading image at /home/data/28andme/sub-01/ses-16/ashs/left_lfseg_corr_usegray_CT_LQ.nii.gz...\n",
      "Writing mesh at /home/nmiolane/code/my28brains/meshes/sub-01/ses-16/ashs/left_lfseg_corr_usegray_CT_LQ.ply...\n",
      "Loading image at /home/data/28andme/sub-01/ses-17/ashs/left_lfseg_corr_usegray_CT_LQ.nii.gz...\n",
      "Writing mesh at /home/nmiolane/code/my28brains/meshes/sub-01/ses-17/ashs/left_lfseg_corr_usegray_CT_LQ.ply...\n",
      "Loading image at /home/data/28andme/sub-01/ses-18/ashs/left_lfseg_corr_usegray_CT_LQ.nii.gz...\n",
      "Writing mesh at /home/nmiolane/code/my28brains/meshes/sub-01/ses-18/ashs/left_lfseg_corr_usegray_CT_LQ.ply...\n",
      "Loading image at /home/data/28andme/sub-01/ses-20/ashs/left_lfseg_corr_usegray_CT_LQ.nii.gz...\n",
      "Writing mesh at /home/nmiolane/code/my28brains/meshes/sub-01/ses-20/ashs/left_lfseg_corr_usegray_CT_LQ.ply...\n",
      "Loading image at /home/data/28andme/sub-01/ses-21/ashs/left_lfseg_corr_usegray_CT_LQ.nii.gz...\n",
      "Writing mesh at /home/nmiolane/code/my28brains/meshes/sub-01/ses-21/ashs/left_lfseg_corr_usegray_CT_LQ.ply...\n",
      "Loading image at /home/data/28andme/sub-01/ses-22/ashs/left_lfseg_corr_usegray_CT_LQ.nii.gz...\n",
      "Writing mesh at /home/nmiolane/code/my28brains/meshes/sub-01/ses-22/ashs/left_lfseg_corr_usegray_CT_LQ.ply...\n",
      "Loading image at /home/data/28andme/sub-01/ses-23/ashs/left_lfseg_corr_usegray_CT_LQ.nii.gz...\n",
      "Writing mesh at /home/nmiolane/code/my28brains/meshes/sub-01/ses-23/ashs/left_lfseg_corr_usegray_CT_LQ.ply...\n",
      "Loading image at /home/data/28andme/sub-01/ses-24/ashs/left_lfseg_corr_usegray_CT_LQ.nii.gz...\n",
      "Writing mesh at /home/nmiolane/code/my28brains/meshes/sub-01/ses-24/ashs/left_lfseg_corr_usegray_CT_LQ.ply...\n",
      "Loading image at /home/data/28andme/sub-01/ses-25/ashs/left_lfseg_corr_usegray_CT_LQ.nii.gz...\n",
      "Writing mesh at /home/nmiolane/code/my28brains/meshes/sub-01/ses-25/ashs/left_lfseg_corr_usegray_CT_LQ.ply...\n",
      "Loading image at /home/data/28andme/sub-01/ses-26/ashs/left_lfseg_corr_usegray_CT_LQ.nii.gz...\n",
      "Writing mesh at /home/nmiolane/code/my28brains/meshes/sub-01/ses-26/ashs/left_lfseg_corr_usegray_CT_LQ.ply...\n",
      "Loading image at /home/data/28andme/sub-01/ses-27/ashs/left_lfseg_corr_usegray_CT_LQ.nii.gz...\n",
      "Writing mesh at /home/nmiolane/code/my28brains/meshes/sub-01/ses-27/ashs/left_lfseg_corr_usegray_CT_LQ.ply...\n",
      "Loading image at /home/data/28andme/sub-01/ses-28/ashs/left_lfseg_corr_usegray_CT_LQ.nii.gz...\n",
      "Writing mesh at /home/nmiolane/code/my28brains/meshes/sub-01/ses-28/ashs/left_lfseg_corr_usegray_CT_LQ.ply...\n",
      "Loading image at /home/data/28andme/sub-01/ses-29/ashs/left_lfseg_corr_usegray_CT_LQ.nii.gz...\n",
      "Writing mesh at /home/nmiolane/code/my28brains/meshes/sub-01/ses-29/ashs/left_lfseg_corr_usegray_CT_LQ.ply...\n",
      "Loading image at /home/data/28andme/sub-01/ses-30/ashs/left_lfseg_corr_usegray_CT_LQ.nii.gz...\n",
      "Writing mesh at /home/nmiolane/code/my28brains/meshes/sub-01/ses-30/ashs/left_lfseg_corr_usegray_CT_LQ.ply...\n"
     ]
    }
   ],
   "source": [
    "for path in paths:\n",
    "    print(f\"Loading image at {path}...\")\n",
    "    img = nibabel.load(path)\n",
    "    img_fdata = img.get_fdata()\n",
    "    img_mask = img_fdata != 0\n",
    "    meshing_result = skimage.measure.marching_cubes(img_mask)\n",
    "    mesh = trimesh.Trimesh(vertices=meshing_result[0], faces=meshing_result[1])\n",
    "    ply_text = trimesh.exchange.ply.export_ply(mesh, encoding=\"ascii\")\n",
    "\n",
    "    path_split = path.split(\"/\")\n",
    "    sub, ses, img_dir, img_name = path_split[4:8]\n",
    "    ply_name = img_name.split(\".\")[0] + \".ply\"\n",
    "    ply_dir = os.path.join(os.getcwd(), \"data\", \"meshes\", sub, ses, img_dir)\n",
    "    ply_path = os.path.join(ply_dir, ply_name)\n",
    "    if not os.path.exists(ply_dir):\n",
    "        os.makedirs(ply_dir)\n",
    "\n",
    "    print(f\"Writing mesh at {ply_path}...\")\n",
    "    with open(ply_path, \"wb\") as f:\n",
    "        f.write(ply_text)"
   ]
  },
  {
   "cell_type": "markdown",
   "id": "d14ce31f-0893-4448-805d-4c0d2d9078bb",
   "metadata": {},
   "source": [
    "## Right Hemisphere: Segment and Write Meshes"
   ]
  },
  {
   "cell_type": "code",
   "execution_count": 5,
   "id": "9ce43ce3-7167-4490-90a9-f09ad0720a69",
   "metadata": {},
   "outputs": [
    {
     "name": "stdout",
     "output_type": "stream",
     "text": [
      "Found 25 image paths.\n",
      "['/home/data/28andme/sub-01/ses-02/ashs/right_lfseg_corr_usegray_CT_LQ.nii.gz', '/home/data/28andme/sub-01/ses-03/ashs/right_lfseg_corr_usegray_CT_LQ.nii.gz', '/home/data/28andme/sub-01/ses-04/ashs/right_lfseg_corr_usegray_CT_LQ.nii.gz', '/home/data/28andme/sub-01/ses-06/ashs/right_lfseg_corr_usegray_CT_LQ.nii.gz', '/home/data/28andme/sub-01/ses-07/ashs/right_lfseg_corr_usegray_CT_LQ.nii.gz', '/home/data/28andme/sub-01/ses-08/ashs/right_lfseg_corr_usegray_CT_LQ.nii.gz', '/home/data/28andme/sub-01/ses-10/ashs/right_lfseg_corr_usegray_CT_LQ.nii.gz', '/home/data/28andme/sub-01/ses-11/ashs/right_lfseg_corr_usegray_CT_LQ.nii.gz', '/home/data/28andme/sub-01/ses-12/ashs/right_lfseg_corr_usegray_CT_LQ.nii.gz', '/home/data/28andme/sub-01/ses-14/ashs/right_lfseg_corr_usegray_CT_LQ.nii.gz', '/home/data/28andme/sub-01/ses-16/ashs/right_lfseg_corr_usegray_CT_LQ.nii.gz', '/home/data/28andme/sub-01/ses-17/ashs/right_lfseg_corr_usegray_CT_LQ.nii.gz', '/home/data/28andme/sub-01/ses-18/ashs/right_lfseg_corr_usegray_CT_LQ.nii.gz', '/home/data/28andme/sub-01/ses-19/ashs/right_lfseg_corr_usegray_CT_LQ.nii.gz', '/home/data/28andme/sub-01/ses-20/ashs/right_lfseg_corr_usegray_CT_LQ.nii.gz', '/home/data/28andme/sub-01/ses-21/ashs/right_lfseg_corr_usegray_CT_LQ.nii.gz', '/home/data/28andme/sub-01/ses-22/ashs/right_lfseg_corr_usegray_CT_LQ.nii.gz', '/home/data/28andme/sub-01/ses-23/ashs/right_lfseg_corr_usegray_CT_LQ.nii.gz', '/home/data/28andme/sub-01/ses-24/ashs/right_lfseg_corr_usegray_CT_LQ.nii.gz', '/home/data/28andme/sub-01/ses-25/ashs/right_lfseg_corr_usegray_CT_LQ.nii.gz', '/home/data/28andme/sub-01/ses-26/ashs/right_lfseg_corr_usegray_CT_LQ.nii.gz', '/home/data/28andme/sub-01/ses-27/ashs/right_lfseg_corr_usegray_CT_LQ.nii.gz', '/home/data/28andme/sub-01/ses-28/ashs/right_lfseg_corr_usegray_CT_LQ.nii.gz', '/home/data/28andme/sub-01/ses-29/ashs/right_lfseg_corr_usegray_CT_LQ.nii.gz', '/home/data/28andme/sub-01/ses-30/ashs/right_lfseg_corr_usegray_CT_LQ.nii.gz']\n"
     ]
    }
   ],
   "source": [
    "hemisphere = \"right\"\n",
    "img_suffix = f\"ashs/{hemisphere}_lfseg_corr_usegray_CT_LQ.nii.gz\"\n",
    "string_base = os.path.join(DATA_DIR, f\"sub-01/ses-**/{img_suffix}\")\n",
    "paths = sorted(glob.glob(string_base))\n",
    "\n",
    "print(f\"Found {len(paths)} image paths.\")\n",
    "print(paths)"
   ]
  },
  {
   "cell_type": "code",
   "execution_count": 7,
   "id": "0a955ad1-5476-411e-aeb1-eaa11d2a8b5c",
   "metadata": {},
   "outputs": [
    {
     "name": "stdout",
     "output_type": "stream",
     "text": [
      "Loading image at /home/data/28andme/sub-01/ses-02/ashs/right_lfseg_corr_usegray_CT_LQ.nii.gz...\n",
      "Writing mesh at /home/nmiolane/code/my28brains/meshes/sub-01/ses-02/ashs/right_lfseg_corr_usegray_CT_LQ.ply...\n",
      "Loading image at /home/data/28andme/sub-01/ses-03/ashs/right_lfseg_corr_usegray_CT_LQ.nii.gz...\n",
      "Writing mesh at /home/nmiolane/code/my28brains/meshes/sub-01/ses-03/ashs/right_lfseg_corr_usegray_CT_LQ.ply...\n",
      "Loading image at /home/data/28andme/sub-01/ses-04/ashs/right_lfseg_corr_usegray_CT_LQ.nii.gz...\n",
      "Writing mesh at /home/nmiolane/code/my28brains/meshes/sub-01/ses-04/ashs/right_lfseg_corr_usegray_CT_LQ.ply...\n",
      "Loading image at /home/data/28andme/sub-01/ses-06/ashs/right_lfseg_corr_usegray_CT_LQ.nii.gz...\n",
      "Writing mesh at /home/nmiolane/code/my28brains/meshes/sub-01/ses-06/ashs/right_lfseg_corr_usegray_CT_LQ.ply...\n",
      "Loading image at /home/data/28andme/sub-01/ses-07/ashs/right_lfseg_corr_usegray_CT_LQ.nii.gz...\n",
      "Writing mesh at /home/nmiolane/code/my28brains/meshes/sub-01/ses-07/ashs/right_lfseg_corr_usegray_CT_LQ.ply...\n",
      "Loading image at /home/data/28andme/sub-01/ses-08/ashs/right_lfseg_corr_usegray_CT_LQ.nii.gz...\n",
      "Writing mesh at /home/nmiolane/code/my28brains/meshes/sub-01/ses-08/ashs/right_lfseg_corr_usegray_CT_LQ.ply...\n",
      "Loading image at /home/data/28andme/sub-01/ses-10/ashs/right_lfseg_corr_usegray_CT_LQ.nii.gz...\n",
      "Writing mesh at /home/nmiolane/code/my28brains/meshes/sub-01/ses-10/ashs/right_lfseg_corr_usegray_CT_LQ.ply...\n",
      "Loading image at /home/data/28andme/sub-01/ses-11/ashs/right_lfseg_corr_usegray_CT_LQ.nii.gz...\n",
      "Writing mesh at /home/nmiolane/code/my28brains/meshes/sub-01/ses-11/ashs/right_lfseg_corr_usegray_CT_LQ.ply...\n",
      "Loading image at /home/data/28andme/sub-01/ses-12/ashs/right_lfseg_corr_usegray_CT_LQ.nii.gz...\n",
      "Writing mesh at /home/nmiolane/code/my28brains/meshes/sub-01/ses-12/ashs/right_lfseg_corr_usegray_CT_LQ.ply...\n",
      "Loading image at /home/data/28andme/sub-01/ses-14/ashs/right_lfseg_corr_usegray_CT_LQ.nii.gz...\n",
      "Writing mesh at /home/nmiolane/code/my28brains/meshes/sub-01/ses-14/ashs/right_lfseg_corr_usegray_CT_LQ.ply...\n",
      "Loading image at /home/data/28andme/sub-01/ses-16/ashs/right_lfseg_corr_usegray_CT_LQ.nii.gz...\n",
      "Writing mesh at /home/nmiolane/code/my28brains/meshes/sub-01/ses-16/ashs/right_lfseg_corr_usegray_CT_LQ.ply...\n",
      "Loading image at /home/data/28andme/sub-01/ses-17/ashs/right_lfseg_corr_usegray_CT_LQ.nii.gz...\n",
      "Writing mesh at /home/nmiolane/code/my28brains/meshes/sub-01/ses-17/ashs/right_lfseg_corr_usegray_CT_LQ.ply...\n",
      "Loading image at /home/data/28andme/sub-01/ses-18/ashs/right_lfseg_corr_usegray_CT_LQ.nii.gz...\n",
      "Writing mesh at /home/nmiolane/code/my28brains/meshes/sub-01/ses-18/ashs/right_lfseg_corr_usegray_CT_LQ.ply...\n",
      "Loading image at /home/data/28andme/sub-01/ses-19/ashs/right_lfseg_corr_usegray_CT_LQ.nii.gz...\n",
      "Writing mesh at /home/nmiolane/code/my28brains/meshes/sub-01/ses-19/ashs/right_lfseg_corr_usegray_CT_LQ.ply...\n",
      "Loading image at /home/data/28andme/sub-01/ses-20/ashs/right_lfseg_corr_usegray_CT_LQ.nii.gz...\n",
      "Writing mesh at /home/nmiolane/code/my28brains/meshes/sub-01/ses-20/ashs/right_lfseg_corr_usegray_CT_LQ.ply...\n",
      "Loading image at /home/data/28andme/sub-01/ses-21/ashs/right_lfseg_corr_usegray_CT_LQ.nii.gz...\n",
      "Writing mesh at /home/nmiolane/code/my28brains/meshes/sub-01/ses-21/ashs/right_lfseg_corr_usegray_CT_LQ.ply...\n",
      "Loading image at /home/data/28andme/sub-01/ses-22/ashs/right_lfseg_corr_usegray_CT_LQ.nii.gz...\n",
      "Writing mesh at /home/nmiolane/code/my28brains/meshes/sub-01/ses-22/ashs/right_lfseg_corr_usegray_CT_LQ.ply...\n",
      "Loading image at /home/data/28andme/sub-01/ses-23/ashs/right_lfseg_corr_usegray_CT_LQ.nii.gz...\n",
      "Writing mesh at /home/nmiolane/code/my28brains/meshes/sub-01/ses-23/ashs/right_lfseg_corr_usegray_CT_LQ.ply...\n",
      "Loading image at /home/data/28andme/sub-01/ses-24/ashs/right_lfseg_corr_usegray_CT_LQ.nii.gz...\n",
      "Writing mesh at /home/nmiolane/code/my28brains/meshes/sub-01/ses-24/ashs/right_lfseg_corr_usegray_CT_LQ.ply...\n",
      "Loading image at /home/data/28andme/sub-01/ses-25/ashs/right_lfseg_corr_usegray_CT_LQ.nii.gz...\n",
      "Writing mesh at /home/nmiolane/code/my28brains/meshes/sub-01/ses-25/ashs/right_lfseg_corr_usegray_CT_LQ.ply...\n",
      "Loading image at /home/data/28andme/sub-01/ses-26/ashs/right_lfseg_corr_usegray_CT_LQ.nii.gz...\n",
      "Writing mesh at /home/nmiolane/code/my28brains/meshes/sub-01/ses-26/ashs/right_lfseg_corr_usegray_CT_LQ.ply...\n",
      "Loading image at /home/data/28andme/sub-01/ses-27/ashs/right_lfseg_corr_usegray_CT_LQ.nii.gz...\n",
      "Writing mesh at /home/nmiolane/code/my28brains/meshes/sub-01/ses-27/ashs/right_lfseg_corr_usegray_CT_LQ.ply...\n",
      "Loading image at /home/data/28andme/sub-01/ses-28/ashs/right_lfseg_corr_usegray_CT_LQ.nii.gz...\n",
      "Writing mesh at /home/nmiolane/code/my28brains/meshes/sub-01/ses-28/ashs/right_lfseg_corr_usegray_CT_LQ.ply...\n",
      "Loading image at /home/data/28andme/sub-01/ses-29/ashs/right_lfseg_corr_usegray_CT_LQ.nii.gz...\n",
      "Writing mesh at /home/nmiolane/code/my28brains/meshes/sub-01/ses-29/ashs/right_lfseg_corr_usegray_CT_LQ.ply...\n",
      "Loading image at /home/data/28andme/sub-01/ses-30/ashs/right_lfseg_corr_usegray_CT_LQ.nii.gz...\n",
      "Writing mesh at /home/nmiolane/code/my28brains/meshes/sub-01/ses-30/ashs/right_lfseg_corr_usegray_CT_LQ.ply...\n"
     ]
    }
   ],
   "source": [
    "for path in paths:\n",
    "    print(f\"Loading image at {path}...\")\n",
    "    img = nibabel.load(path)\n",
    "    img_fdata = img.get_fdata()\n",
    "    img_mask = img_fdata != 0\n",
    "    meshing_result = skimage.measure.marching_cubes(img_mask)\n",
    "    mesh = trimesh.Trimesh(vertices=meshing_result[0], faces=meshing_result[1])\n",
    "    ply_text = trimesh.exchange.ply.export_ply(mesh, encoding=\"ascii\")\n",
    "\n",
    "    path_split = path.split(\"/\")\n",
    "    sub, ses, img_dir, img_name = path_split[4:8]\n",
    "    ply_name = img_name.split(\".\")[0] + \".ply\"\n",
    "    ply_dir = os.path.join(os.getcwd(), \"meshes\", sub, ses, img_dir)\n",
    "    ply_path = os.path.join(ply_dir, ply_name)\n",
    "    if not os.path.exists(ply_dir):\n",
    "        os.makedirs(ply_dir)\n",
    "\n",
    "    print(f\"Writing mesh at {ply_path}...\")\n",
    "    with open(ply_path, \"wb\") as f:\n",
    "        f.write(ply_text)"
   ]
  },
  {
   "cell_type": "code",
   "execution_count": null,
   "id": "f3832870-176e-4d0c-a07e-a6e3c10355b1",
   "metadata": {},
   "outputs": [],
   "source": []
  }
 ],
 "metadata": {
  "kernelspec": {
   "display_name": "Python 3 (ipykernel)",
   "language": "python",
   "name": "python3"
  },
  "language_info": {
   "codemirror_mode": {
    "name": "ipython",
    "version": 3
   },
   "file_extension": ".py",
   "mimetype": "text/x-python",
   "name": "python",
   "nbconvert_exporter": "python",
   "pygments_lexer": "ipython3",
   "version": "3.9.15"
  }
 },
 "nbformat": 4,
 "nbformat_minor": 5
}
