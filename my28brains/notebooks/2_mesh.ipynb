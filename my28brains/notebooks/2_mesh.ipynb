{
 "cells": [
  {
   "cell_type": "markdown",
   "id": "a6765043-5fc5-4e16-8d1f-a6f92dc1ee73",
   "metadata": {},
   "source": [
    "# Segment Surface of Hippocampal Formation\n",
    "\n",
    "This notebook transforms the 3D segmentation images into 3D meshed surfaces and stores them into .ply files.\n",
    "\n",
    "The meshes in the .ply files can be opened with:\n",
    "- the `vscode-3d-preview` extension of VSCode\n",
    "- [MeshLab](https://www.meshlab.net/)\n",
    "- [Blender](https://www.blender.org/download/), specifically with its [Stop-motion-OBJ](https://github.com/neverhood311/Stop-motion-OBJ) plugin to visualize time-series of .ply files.\n",
    "\n",
    "**Note:** Add a plugin to blender following [these instructions](https://docs.blender.org/manual/en/latest/editors/preferences/addons.html#rd-party-add-ons). "
   ]
  },
  {
   "cell_type": "markdown",
   "id": "5df74c00-8979-402e-9a3e-37b6851562e7",
   "metadata": {
    "tags": []
   },
   "source": [
    "## Set-up"
   ]
  },
  {
   "cell_type": "code",
   "execution_count": 1,
   "id": "f7e9070b-9b4b-4328-abf7-3fc71cd4928a",
   "metadata": {},
   "outputs": [
    {
     "name": "stdout",
     "output_type": "stream",
     "text": [
      "Working directory:  /home/nmiolane/code/my28brains\n",
      "Directory added to path:  /home/nmiolane/code\n"
     ]
    }
   ],
   "source": [
    "import os\n",
    "import subprocess\n",
    "\n",
    "gitroot_path = subprocess.check_output(\n",
    "    [\"git\", \"rev-parse\", \"--show-toplevel\"], universal_newlines=True\n",
    ")\n",
    "os.chdir(gitroot_path[:-1])\n",
    "print(\"Working directory: \", os.getcwd())\n",
    "\n",
    "import warnings\n",
    "\n",
    "warnings.filterwarnings(\"ignore\")\n",
    "\n",
    "import sys\n",
    "\n",
    "sys_dir = os.path.dirname(os.getcwd())\n",
    "sys.path.append(sys_dir)\n",
    "print(\"Directory added to path: \", sys_dir)"
   ]
  },
  {
   "cell_type": "markdown",
   "id": "476529db-98c0-4152-8472-f70c6a30958a",
   "metadata": {},
   "source": [
    "## Imports"
   ]
  },
  {
   "cell_type": "code",
   "execution_count": 6,
   "id": "e0af4d8a-a6ee-4663-a493-6fd1e176314f",
   "metadata": {},
   "outputs": [
    {
     "name": "stdout",
     "output_type": "stream",
     "text": [
      "IMG_DIR:  /home/data/28andme/\n",
      "MESHES_DIR:  /home/nmiolane/code/my28brains/data/meshes\n"
     ]
    }
   ],
   "source": [
    "import glob\n",
    "\n",
    "import nibabel\n",
    "import numpy as np\n",
    "import skimage\n",
    "import trimesh\n",
    "\n",
    "import my28brains.io as io\n",
    "\n",
    "IMG_DIR = \"/home/data/28andme/\"\n",
    "MESHES_DIR = os.path.join(os.getcwd(), \"data\", \"meshes\")\n",
    "\n",
    "print(\"IMG_DIR: \", IMG_DIR)\n",
    "print(\"MESHES_DIR: \", MESHES_DIR)"
   ]
  },
  {
   "cell_type": "markdown",
   "id": "96218420-c808-4ede-a40b-bec211598925",
   "metadata": {},
   "source": [
    "## Functions to Extract Meshes"
   ]
  },
  {
   "cell_type": "code",
   "execution_count": 3,
   "id": "f84aabe1-4aef-4dff-8a33-e6a4c8674c0d",
   "metadata": {},
   "outputs": [],
   "source": [
    "def _extract_mesh(img_fdata, structure_id):\n",
    "    \"\"\"Extract one surface mesh from the fdata of a segmented image.\"\"\"\n",
    "    if structure_id == -1:\n",
    "        img_mask = img_fdata != 0\n",
    "    else:\n",
    "        img_mask = img_fdata == structure_id\n",
    "    meshing_result = skimage.measure.marching_cubes(img_mask)\n",
    "    mesh = trimesh.Trimesh(vertices=meshing_result[0], faces=meshing_result[1])\n",
    "    return mesh\n",
    "\n",
    "\n",
    "def extract_mesh(nii_path, structure_id=-1):\n",
    "    \"\"\"Extract surface mesh(es) from a structure in the hippocampal formation.\n",
    "\n",
    "    The nii_path should contain the segmentation of the hippocampal formation,\n",
    "    with the following structures (given from their corresponding integer labels):\n",
    "    1: CA1\n",
    "    2: CA23\n",
    "    3: Dentate Gyrus (DG)\n",
    "    4: Entorhinal Cortex (ERC)\n",
    "    5: Perirhinal Cortex (PRC)\n",
    "    6: Parahippocampal Cortex (PHC)\n",
    "    7: Subiculum (SUB)\n",
    "    8: Anterior Hipp\n",
    "    9: Posterior Hipp\n",
    "\n",
    "    Note that the label 0 denotes the background.\n",
    "\n",
    "    Parameters\n",
    "    ----------\n",
    "    nii_path : str\n",
    "        Path of the .nii.gz image with the segmented structures.\n",
    "    structure_id : int or list\n",
    "        Index or list of indices of the anatomical structure(s) to\n",
    "        mesh from the hippocampal formation.\n",
    "        Possible indices are either -1 (entire structure) or any of the\n",
    "        labels of the segmentation.\n",
    "\n",
    "    Return\n",
    "    ------\n",
    "    mesh : trimesh.Trimesh or list of trimesh.Trimesh's\n",
    "        Surface mesh (or list of meshes) of the anatomical structure.\n",
    "    \"\"\"\n",
    "    print(f\"Loading image from {nii_path}...\")\n",
    "    img = nibabel.load(nii_path)\n",
    "    img_fdata = img.get_fdata()\n",
    "\n",
    "    if isinstance(structure_id, int):\n",
    "        return _extract_mesh(img_fdata, structure_id)\n",
    "\n",
    "    meshes = []\n",
    "    for one_structure_id in structure_id:\n",
    "        one_mesh = _extract_mesh(img_fdata, one_structure_id)\n",
    "        meshes.append(one_mesh)\n",
    "    return meshes"
   ]
  },
  {
   "cell_type": "markdown",
   "id": "0f65e90b-fccb-43b5-869a-f31a15350b3d",
   "metadata": {},
   "source": [
    "## Left Hemisphere: Extract and Write Meshes"
   ]
  },
  {
   "cell_type": "code",
   "execution_count": 4,
   "id": "524c798e-a27f-4b84-935e-fc632649b5a6",
   "metadata": {},
   "outputs": [
    {
     "name": "stdout",
     "output_type": "stream",
     "text": [
      "Found 27 image paths:\n",
      " ['/home/data/28andme/sub-01/ses-02/ashs/left_lfseg_corr_usegray_CT_LQ.nii.gz', '/home/data/28andme/sub-01/ses-03/ashs/left_lfseg_corr_usegray_CT_LQ.nii.gz', '/home/data/28andme/sub-01/ses-04/ashs/left_lfseg_corr_usegray_CT_LQ.nii.gz', '/home/data/28andme/sub-01/ses-05/ashs/left_lfseg_corr_usegray_CT_LQ.nii.gz', '/home/data/28andme/sub-01/ses-06/ashs/left_lfseg_corr_usegray_CT_LQ.nii.gz', '/home/data/28andme/sub-01/ses-07/ashs/left_lfseg_corr_usegray_CT_LQ.nii.gz', '/home/data/28andme/sub-01/ses-08/ashs/left_lfseg_corr_usegray_CT_LQ.nii.gz', '/home/data/28andme/sub-01/ses-09/ashs/left_lfseg_corr_usegray_CT_LQ.nii.gz', '/home/data/28andme/sub-01/ses-10/ashs/left_lfseg_corr_usegray_CT_LQ.nii.gz', '/home/data/28andme/sub-01/ses-11/ashs/left_lfseg_corr_usegray_CT_LQ.nii.gz', '/home/data/28andme/sub-01/ses-12/ashs/left_lfseg_corr_usegray_CT_LQ.nii.gz', '/home/data/28andme/sub-01/ses-14/ashs/left_lfseg_corr_usegray_CT_LQ.nii.gz', '/home/data/28andme/sub-01/ses-15/ashs/left_lfseg_corr_usegray_CT_LQ.nii.gz', '/home/data/28andme/sub-01/ses-16/ashs/left_lfseg_corr_usegray_CT_LQ.nii.gz', '/home/data/28andme/sub-01/ses-17/ashs/left_lfseg_corr_usegray_CT_LQ.nii.gz', '/home/data/28andme/sub-01/ses-18/ashs/left_lfseg_corr_usegray_CT_LQ.nii.gz', '/home/data/28andme/sub-01/ses-20/ashs/left_lfseg_corr_usegray_CT_LQ.nii.gz', '/home/data/28andme/sub-01/ses-21/ashs/left_lfseg_corr_usegray_CT_LQ.nii.gz', '/home/data/28andme/sub-01/ses-22/ashs/left_lfseg_corr_usegray_CT_LQ.nii.gz', '/home/data/28andme/sub-01/ses-23/ashs/left_lfseg_corr_usegray_CT_LQ.nii.gz', '/home/data/28andme/sub-01/ses-24/ashs/left_lfseg_corr_usegray_CT_LQ.nii.gz', '/home/data/28andme/sub-01/ses-25/ashs/left_lfseg_corr_usegray_CT_LQ.nii.gz', '/home/data/28andme/sub-01/ses-26/ashs/left_lfseg_corr_usegray_CT_LQ.nii.gz', '/home/data/28andme/sub-01/ses-27/ashs/left_lfseg_corr_usegray_CT_LQ.nii.gz', '/home/data/28andme/sub-01/ses-28/ashs/left_lfseg_corr_usegray_CT_LQ.nii.gz', '/home/data/28andme/sub-01/ses-29/ashs/left_lfseg_corr_usegray_CT_LQ.nii.gz', '/home/data/28andme/sub-01/ses-30/ashs/left_lfseg_corr_usegray_CT_LQ.nii.gz']\n",
      "\n",
      "Loading image from /home/data/28andme/sub-01/ses-02/ashs/left_lfseg_corr_usegray_CT_LQ.nii.gz...\n",
      "Writing mesh at /home/nmiolane/code/my28brains/data/meshes/left_structure_-1_sub-01_ses-02.ply...\n",
      "Loading image from /home/data/28andme/sub-01/ses-03/ashs/left_lfseg_corr_usegray_CT_LQ.nii.gz...\n",
      "Writing mesh at /home/nmiolane/code/my28brains/data/meshes/left_structure_-1_sub-01_ses-03.ply...\n",
      "Loading image from /home/data/28andme/sub-01/ses-04/ashs/left_lfseg_corr_usegray_CT_LQ.nii.gz...\n",
      "Writing mesh at /home/nmiolane/code/my28brains/data/meshes/left_structure_-1_sub-01_ses-04.ply...\n",
      "Loading image from /home/data/28andme/sub-01/ses-05/ashs/left_lfseg_corr_usegray_CT_LQ.nii.gz...\n",
      "Writing mesh at /home/nmiolane/code/my28brains/data/meshes/left_structure_-1_sub-01_ses-05.ply...\n",
      "Loading image from /home/data/28andme/sub-01/ses-06/ashs/left_lfseg_corr_usegray_CT_LQ.nii.gz...\n",
      "Writing mesh at /home/nmiolane/code/my28brains/data/meshes/left_structure_-1_sub-01_ses-06.ply...\n",
      "Loading image from /home/data/28andme/sub-01/ses-07/ashs/left_lfseg_corr_usegray_CT_LQ.nii.gz...\n",
      "Writing mesh at /home/nmiolane/code/my28brains/data/meshes/left_structure_-1_sub-01_ses-07.ply...\n",
      "Loading image from /home/data/28andme/sub-01/ses-08/ashs/left_lfseg_corr_usegray_CT_LQ.nii.gz...\n",
      "Writing mesh at /home/nmiolane/code/my28brains/data/meshes/left_structure_-1_sub-01_ses-08.ply...\n",
      "Loading image from /home/data/28andme/sub-01/ses-09/ashs/left_lfseg_corr_usegray_CT_LQ.nii.gz...\n",
      "Writing mesh at /home/nmiolane/code/my28brains/data/meshes/left_structure_-1_sub-01_ses-09.ply...\n",
      "Loading image from /home/data/28andme/sub-01/ses-10/ashs/left_lfseg_corr_usegray_CT_LQ.nii.gz...\n",
      "Writing mesh at /home/nmiolane/code/my28brains/data/meshes/left_structure_-1_sub-01_ses-10.ply...\n",
      "Loading image from /home/data/28andme/sub-01/ses-11/ashs/left_lfseg_corr_usegray_CT_LQ.nii.gz...\n",
      "Writing mesh at /home/nmiolane/code/my28brains/data/meshes/left_structure_-1_sub-01_ses-11.ply...\n",
      "Loading image from /home/data/28andme/sub-01/ses-12/ashs/left_lfseg_corr_usegray_CT_LQ.nii.gz...\n",
      "Writing mesh at /home/nmiolane/code/my28brains/data/meshes/left_structure_-1_sub-01_ses-12.ply...\n",
      "Loading image from /home/data/28andme/sub-01/ses-14/ashs/left_lfseg_corr_usegray_CT_LQ.nii.gz...\n",
      "Writing mesh at /home/nmiolane/code/my28brains/data/meshes/left_structure_-1_sub-01_ses-14.ply...\n",
      "Loading image from /home/data/28andme/sub-01/ses-15/ashs/left_lfseg_corr_usegray_CT_LQ.nii.gz...\n",
      "Writing mesh at /home/nmiolane/code/my28brains/data/meshes/left_structure_-1_sub-01_ses-15.ply...\n",
      "Loading image from /home/data/28andme/sub-01/ses-16/ashs/left_lfseg_corr_usegray_CT_LQ.nii.gz...\n",
      "Writing mesh at /home/nmiolane/code/my28brains/data/meshes/left_structure_-1_sub-01_ses-16.ply...\n",
      "Loading image from /home/data/28andme/sub-01/ses-17/ashs/left_lfseg_corr_usegray_CT_LQ.nii.gz...\n",
      "Writing mesh at /home/nmiolane/code/my28brains/data/meshes/left_structure_-1_sub-01_ses-17.ply...\n",
      "Loading image from /home/data/28andme/sub-01/ses-18/ashs/left_lfseg_corr_usegray_CT_LQ.nii.gz...\n",
      "Writing mesh at /home/nmiolane/code/my28brains/data/meshes/left_structure_-1_sub-01_ses-18.ply...\n",
      "Loading image from /home/data/28andme/sub-01/ses-20/ashs/left_lfseg_corr_usegray_CT_LQ.nii.gz...\n",
      "Writing mesh at /home/nmiolane/code/my28brains/data/meshes/left_structure_-1_sub-01_ses-20.ply...\n",
      "Loading image from /home/data/28andme/sub-01/ses-21/ashs/left_lfseg_corr_usegray_CT_LQ.nii.gz...\n",
      "Writing mesh at /home/nmiolane/code/my28brains/data/meshes/left_structure_-1_sub-01_ses-21.ply...\n",
      "Loading image from /home/data/28andme/sub-01/ses-22/ashs/left_lfseg_corr_usegray_CT_LQ.nii.gz...\n",
      "Writing mesh at /home/nmiolane/code/my28brains/data/meshes/left_structure_-1_sub-01_ses-22.ply...\n",
      "Loading image from /home/data/28andme/sub-01/ses-23/ashs/left_lfseg_corr_usegray_CT_LQ.nii.gz...\n",
      "Writing mesh at /home/nmiolane/code/my28brains/data/meshes/left_structure_-1_sub-01_ses-23.ply...\n",
      "Loading image from /home/data/28andme/sub-01/ses-24/ashs/left_lfseg_corr_usegray_CT_LQ.nii.gz...\n",
      "Writing mesh at /home/nmiolane/code/my28brains/data/meshes/left_structure_-1_sub-01_ses-24.ply...\n",
      "Loading image from /home/data/28andme/sub-01/ses-25/ashs/left_lfseg_corr_usegray_CT_LQ.nii.gz...\n",
      "Writing mesh at /home/nmiolane/code/my28brains/data/meshes/left_structure_-1_sub-01_ses-25.ply...\n",
      "Loading image from /home/data/28andme/sub-01/ses-26/ashs/left_lfseg_corr_usegray_CT_LQ.nii.gz...\n",
      "Writing mesh at /home/nmiolane/code/my28brains/data/meshes/left_structure_-1_sub-01_ses-26.ply...\n",
      "Loading image from /home/data/28andme/sub-01/ses-27/ashs/left_lfseg_corr_usegray_CT_LQ.nii.gz...\n",
      "Writing mesh at /home/nmiolane/code/my28brains/data/meshes/left_structure_-1_sub-01_ses-27.ply...\n",
      "Loading image from /home/data/28andme/sub-01/ses-28/ashs/left_lfseg_corr_usegray_CT_LQ.nii.gz...\n",
      "Writing mesh at /home/nmiolane/code/my28brains/data/meshes/left_structure_-1_sub-01_ses-28.ply...\n",
      "Loading image from /home/data/28andme/sub-01/ses-29/ashs/left_lfseg_corr_usegray_CT_LQ.nii.gz...\n",
      "Writing mesh at /home/nmiolane/code/my28brains/data/meshes/left_structure_-1_sub-01_ses-29.ply...\n",
      "Loading image from /home/data/28andme/sub-01/ses-30/ashs/left_lfseg_corr_usegray_CT_LQ.nii.gz...\n",
      "Writing mesh at /home/nmiolane/code/my28brains/data/meshes/left_structure_-1_sub-01_ses-30.ply...\n"
     ]
    }
   ],
   "source": [
    "hemisphere = \"left\"\n",
    "structure_id = -1\n",
    "\n",
    "string_base = os.path.join(\n",
    "    IMG_DIR, f\"sub-01/ses-**/ashs/{hemisphere}_lfseg_corr_usegray_CT_LQ.nii.gz\"\n",
    ")\n",
    "nii_paths = sorted(glob.glob(string_base))\n",
    "\n",
    "print(f\"Found {len(nii_paths)} image paths:\\n {nii_paths}\\n\")\n",
    "\n",
    "for nii_path in nii_paths:\n",
    "    mesh = extract_mesh(nii_path=nii_path, structure_id=structure_id)\n",
    "\n",
    "    sub, ses = nii_path.split(\"/\")[4:6]\n",
    "    ply_path = os.path.join(\n",
    "        MESHES_DIR, f\"{hemisphere}_structure_{structure_id}_{sub}_{ses}.ply\"\n",
    "    )\n",
    "    io.write_trimesh_to_ply(mesh=mesh, ply_path=ply_path)"
   ]
  },
  {
   "cell_type": "markdown",
   "id": "d14ce31f-0893-4448-805d-4c0d2d9078bb",
   "metadata": {},
   "source": [
    "## Right Hemisphere: Segment and Write Meshes"
   ]
  },
  {
   "cell_type": "code",
   "execution_count": 5,
   "id": "9ce43ce3-7167-4490-90a9-f09ad0720a69",
   "metadata": {},
   "outputs": [
    {
     "name": "stdout",
     "output_type": "stream",
     "text": [
      "Found 25 image paths:\n",
      " ['/home/data/28andme/sub-01/ses-02/ashs/right_lfseg_corr_usegray_CT_LQ.nii.gz', '/home/data/28andme/sub-01/ses-03/ashs/right_lfseg_corr_usegray_CT_LQ.nii.gz', '/home/data/28andme/sub-01/ses-04/ashs/right_lfseg_corr_usegray_CT_LQ.nii.gz', '/home/data/28andme/sub-01/ses-06/ashs/right_lfseg_corr_usegray_CT_LQ.nii.gz', '/home/data/28andme/sub-01/ses-07/ashs/right_lfseg_corr_usegray_CT_LQ.nii.gz', '/home/data/28andme/sub-01/ses-08/ashs/right_lfseg_corr_usegray_CT_LQ.nii.gz', '/home/data/28andme/sub-01/ses-10/ashs/right_lfseg_corr_usegray_CT_LQ.nii.gz', '/home/data/28andme/sub-01/ses-11/ashs/right_lfseg_corr_usegray_CT_LQ.nii.gz', '/home/data/28andme/sub-01/ses-12/ashs/right_lfseg_corr_usegray_CT_LQ.nii.gz', '/home/data/28andme/sub-01/ses-14/ashs/right_lfseg_corr_usegray_CT_LQ.nii.gz', '/home/data/28andme/sub-01/ses-16/ashs/right_lfseg_corr_usegray_CT_LQ.nii.gz', '/home/data/28andme/sub-01/ses-17/ashs/right_lfseg_corr_usegray_CT_LQ.nii.gz', '/home/data/28andme/sub-01/ses-18/ashs/right_lfseg_corr_usegray_CT_LQ.nii.gz', '/home/data/28andme/sub-01/ses-19/ashs/right_lfseg_corr_usegray_CT_LQ.nii.gz', '/home/data/28andme/sub-01/ses-20/ashs/right_lfseg_corr_usegray_CT_LQ.nii.gz', '/home/data/28andme/sub-01/ses-21/ashs/right_lfseg_corr_usegray_CT_LQ.nii.gz', '/home/data/28andme/sub-01/ses-22/ashs/right_lfseg_corr_usegray_CT_LQ.nii.gz', '/home/data/28andme/sub-01/ses-23/ashs/right_lfseg_corr_usegray_CT_LQ.nii.gz', '/home/data/28andme/sub-01/ses-24/ashs/right_lfseg_corr_usegray_CT_LQ.nii.gz', '/home/data/28andme/sub-01/ses-25/ashs/right_lfseg_corr_usegray_CT_LQ.nii.gz', '/home/data/28andme/sub-01/ses-26/ashs/right_lfseg_corr_usegray_CT_LQ.nii.gz', '/home/data/28andme/sub-01/ses-27/ashs/right_lfseg_corr_usegray_CT_LQ.nii.gz', '/home/data/28andme/sub-01/ses-28/ashs/right_lfseg_corr_usegray_CT_LQ.nii.gz', '/home/data/28andme/sub-01/ses-29/ashs/right_lfseg_corr_usegray_CT_LQ.nii.gz', '/home/data/28andme/sub-01/ses-30/ashs/right_lfseg_corr_usegray_CT_LQ.nii.gz']\n",
      "\n",
      "Loading image from /home/data/28andme/sub-01/ses-02/ashs/right_lfseg_corr_usegray_CT_LQ.nii.gz...\n",
      "Writing mesh at /home/nmiolane/code/my28brains/data/meshes/right_structure_-1_sub-01_ses-02.ply...\n",
      "Loading image from /home/data/28andme/sub-01/ses-03/ashs/right_lfseg_corr_usegray_CT_LQ.nii.gz...\n",
      "Writing mesh at /home/nmiolane/code/my28brains/data/meshes/right_structure_-1_sub-01_ses-03.ply...\n",
      "Loading image from /home/data/28andme/sub-01/ses-04/ashs/right_lfseg_corr_usegray_CT_LQ.nii.gz...\n",
      "Writing mesh at /home/nmiolane/code/my28brains/data/meshes/right_structure_-1_sub-01_ses-04.ply...\n",
      "Loading image from /home/data/28andme/sub-01/ses-06/ashs/right_lfseg_corr_usegray_CT_LQ.nii.gz...\n",
      "Writing mesh at /home/nmiolane/code/my28brains/data/meshes/right_structure_-1_sub-01_ses-06.ply...\n",
      "Loading image from /home/data/28andme/sub-01/ses-07/ashs/right_lfseg_corr_usegray_CT_LQ.nii.gz...\n",
      "Writing mesh at /home/nmiolane/code/my28brains/data/meshes/right_structure_-1_sub-01_ses-07.ply...\n",
      "Loading image from /home/data/28andme/sub-01/ses-08/ashs/right_lfseg_corr_usegray_CT_LQ.nii.gz...\n",
      "Writing mesh at /home/nmiolane/code/my28brains/data/meshes/right_structure_-1_sub-01_ses-08.ply...\n",
      "Loading image from /home/data/28andme/sub-01/ses-10/ashs/right_lfseg_corr_usegray_CT_LQ.nii.gz...\n",
      "Writing mesh at /home/nmiolane/code/my28brains/data/meshes/right_structure_-1_sub-01_ses-10.ply...\n",
      "Loading image from /home/data/28andme/sub-01/ses-11/ashs/right_lfseg_corr_usegray_CT_LQ.nii.gz...\n",
      "Writing mesh at /home/nmiolane/code/my28brains/data/meshes/right_structure_-1_sub-01_ses-11.ply...\n",
      "Loading image from /home/data/28andme/sub-01/ses-12/ashs/right_lfseg_corr_usegray_CT_LQ.nii.gz...\n",
      "Writing mesh at /home/nmiolane/code/my28brains/data/meshes/right_structure_-1_sub-01_ses-12.ply...\n",
      "Loading image from /home/data/28andme/sub-01/ses-14/ashs/right_lfseg_corr_usegray_CT_LQ.nii.gz...\n",
      "Writing mesh at /home/nmiolane/code/my28brains/data/meshes/right_structure_-1_sub-01_ses-14.ply...\n",
      "Loading image from /home/data/28andme/sub-01/ses-16/ashs/right_lfseg_corr_usegray_CT_LQ.nii.gz...\n",
      "Writing mesh at /home/nmiolane/code/my28brains/data/meshes/right_structure_-1_sub-01_ses-16.ply...\n",
      "Loading image from /home/data/28andme/sub-01/ses-17/ashs/right_lfseg_corr_usegray_CT_LQ.nii.gz...\n",
      "Writing mesh at /home/nmiolane/code/my28brains/data/meshes/right_structure_-1_sub-01_ses-17.ply...\n",
      "Loading image from /home/data/28andme/sub-01/ses-18/ashs/right_lfseg_corr_usegray_CT_LQ.nii.gz...\n",
      "Writing mesh at /home/nmiolane/code/my28brains/data/meshes/right_structure_-1_sub-01_ses-18.ply...\n",
      "Loading image from /home/data/28andme/sub-01/ses-19/ashs/right_lfseg_corr_usegray_CT_LQ.nii.gz...\n",
      "Writing mesh at /home/nmiolane/code/my28brains/data/meshes/right_structure_-1_sub-01_ses-19.ply...\n",
      "Loading image from /home/data/28andme/sub-01/ses-20/ashs/right_lfseg_corr_usegray_CT_LQ.nii.gz...\n",
      "Writing mesh at /home/nmiolane/code/my28brains/data/meshes/right_structure_-1_sub-01_ses-20.ply...\n",
      "Loading image from /home/data/28andme/sub-01/ses-21/ashs/right_lfseg_corr_usegray_CT_LQ.nii.gz...\n",
      "Writing mesh at /home/nmiolane/code/my28brains/data/meshes/right_structure_-1_sub-01_ses-21.ply...\n",
      "Loading image from /home/data/28andme/sub-01/ses-22/ashs/right_lfseg_corr_usegray_CT_LQ.nii.gz...\n",
      "Writing mesh at /home/nmiolane/code/my28brains/data/meshes/right_structure_-1_sub-01_ses-22.ply...\n",
      "Loading image from /home/data/28andme/sub-01/ses-23/ashs/right_lfseg_corr_usegray_CT_LQ.nii.gz...\n",
      "Writing mesh at /home/nmiolane/code/my28brains/data/meshes/right_structure_-1_sub-01_ses-23.ply...\n",
      "Loading image from /home/data/28andme/sub-01/ses-24/ashs/right_lfseg_corr_usegray_CT_LQ.nii.gz...\n",
      "Writing mesh at /home/nmiolane/code/my28brains/data/meshes/right_structure_-1_sub-01_ses-24.ply...\n",
      "Loading image from /home/data/28andme/sub-01/ses-25/ashs/right_lfseg_corr_usegray_CT_LQ.nii.gz...\n",
      "Writing mesh at /home/nmiolane/code/my28brains/data/meshes/right_structure_-1_sub-01_ses-25.ply...\n",
      "Loading image from /home/data/28andme/sub-01/ses-26/ashs/right_lfseg_corr_usegray_CT_LQ.nii.gz...\n",
      "Writing mesh at /home/nmiolane/code/my28brains/data/meshes/right_structure_-1_sub-01_ses-26.ply...\n",
      "Loading image from /home/data/28andme/sub-01/ses-27/ashs/right_lfseg_corr_usegray_CT_LQ.nii.gz...\n",
      "Writing mesh at /home/nmiolane/code/my28brains/data/meshes/right_structure_-1_sub-01_ses-27.ply...\n",
      "Loading image from /home/data/28andme/sub-01/ses-28/ashs/right_lfseg_corr_usegray_CT_LQ.nii.gz...\n",
      "Writing mesh at /home/nmiolane/code/my28brains/data/meshes/right_structure_-1_sub-01_ses-28.ply...\n",
      "Loading image from /home/data/28andme/sub-01/ses-29/ashs/right_lfseg_corr_usegray_CT_LQ.nii.gz...\n",
      "Writing mesh at /home/nmiolane/code/my28brains/data/meshes/right_structure_-1_sub-01_ses-29.ply...\n",
      "Loading image from /home/data/28andme/sub-01/ses-30/ashs/right_lfseg_corr_usegray_CT_LQ.nii.gz...\n",
      "Writing mesh at /home/nmiolane/code/my28brains/data/meshes/right_structure_-1_sub-01_ses-30.ply...\n"
     ]
    }
   ],
   "source": [
    "hemisphere = \"right\"\n",
    "structure_id = -1\n",
    "\n",
    "string_base = os.path.join(\n",
    "    IMG_DIR, f\"sub-01/ses-**/ashs/{hemisphere}_lfseg_corr_usegray_CT_LQ.nii.gz\"\n",
    ")\n",
    "nii_paths = sorted(glob.glob(string_base))\n",
    "print(f\"Found {len(nii_paths)} image paths:\\n {nii_paths}\\n\")\n",
    "\n",
    "for nii_path in nii_paths:\n",
    "    mesh = extract_mesh(nii_path=nii_path, structure_id=structure_id)\n",
    "\n",
    "    sub, ses = nii_path.split(\"/\")[4:6]\n",
    "    ply_path = os.path.join(\n",
    "        MESHES_DIR, f\"{hemisphere}_structure_{structure_id}_{sub}_{ses}.ply\"\n",
    "    )\n",
    "    io.write_trimesh_to_ply(mesh=mesh, ply_path=ply_path)"
   ]
  }
 ],
 "metadata": {
  "kernelspec": {
   "display_name": "Python 3 (ipykernel)",
   "language": "python",
   "name": "python3"
  },
  "language_info": {
   "codemirror_mode": {
    "name": "ipython",
    "version": 3
   },
   "file_extension": ".py",
   "mimetype": "text/x-python",
   "name": "python",
   "nbconvert_exporter": "python",
   "pygments_lexer": "ipython3",
   "version": "3.8.15"
  }
 },
 "nbformat": 4,
 "nbformat_minor": 5
}
