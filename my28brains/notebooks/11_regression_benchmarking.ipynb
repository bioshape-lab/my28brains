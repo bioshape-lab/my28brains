{
 "cells": [
  {
   "cell_type": "code",
   "execution_count": 34,
   "id": "654e4779-a4f3-4859-83b2-dd03bdc3fe69",
   "metadata": {},
   "outputs": [],
   "source": [
    "import numpy as np\n",
    "import pandas as pd"
   ]
  },
  {
   "cell_type": "code",
   "execution_count": 36,
   "id": "b1a53304-a9d0-4ade-a018-2b1bd2bdc35d",
   "metadata": {},
   "outputs": [
    {
     "data": {
      "text/html": [
       "<div>\n",
       "<style scoped>\n",
       "    .dataframe tbody tr th:only-of-type {\n",
       "        vertical-align: middle;\n",
       "    }\n",
       "\n",
       "    .dataframe tbody tr th {\n",
       "        vertical-align: top;\n",
       "    }\n",
       "\n",
       "    .dataframe thead th {\n",
       "        text-align: right;\n",
       "    }\n",
       "</style>\n",
       "<table border=\"1\" class=\"dataframe\">\n",
       "  <thead>\n",
       "    <tr style=\"text-align: right;\">\n",
       "      <th></th>\n",
       "      <th>Name</th>\n",
       "      <th>State</th>\n",
       "      <th>Notes</th>\n",
       "      <th>User</th>\n",
       "      <th>Created</th>\n",
       "      <th>Runtime</th>\n",
       "      <th>dataset_name</th>\n",
       "      <th>full_run</th>\n",
       "      <th>geodesic_initialization</th>\n",
       "      <th>noise_factor</th>\n",
       "      <th>...</th>\n",
       "      <th>tol_factor</th>\n",
       "      <th>linear_residuals</th>\n",
       "      <th>n_X</th>\n",
       "      <th>geodesic_coef_err</th>\n",
       "      <th>geodesic_duration_time</th>\n",
       "      <th>geodesic_intercept_err</th>\n",
       "      <th>geodesic_tol</th>\n",
       "      <th>linear_coef_err</th>\n",
       "      <th>linear_duration_time</th>\n",
       "      <th>linear_intercept_err</th>\n",
       "    </tr>\n",
       "  </thead>\n",
       "  <tbody>\n",
       "    <tr>\n",
       "      <th>0</th>\n",
       "      <td>run_jo2btu5m</td>\n",
       "      <td>finished</td>\n",
       "      <td>-</td>\n",
       "      <td>adelemyers</td>\n",
       "      <td>2023-10-07T09:23:07.000Z</td>\n",
       "      <td>41</td>\n",
       "      <td>hyperboloid</td>\n",
       "      <td>True</td>\n",
       "      <td>random</td>\n",
       "      <td>0.0100</td>\n",
       "      <td>...</td>\n",
       "      <td>0.5</td>\n",
       "      <td>False</td>\n",
       "      <td>30</td>\n",
       "      <td>0.505685</td>\n",
       "      <td>28.007129</td>\n",
       "      <td>0.100355</td>\n",
       "      <td>0.001</td>\n",
       "      <td>3.942253</td>\n",
       "      <td>0.108493</td>\n",
       "      <td>0.951939</td>\n",
       "    </tr>\n",
       "    <tr>\n",
       "      <th>1</th>\n",
       "      <td>run_rptybowk</td>\n",
       "      <td>finished</td>\n",
       "      <td>-</td>\n",
       "      <td>adelemyers</td>\n",
       "      <td>2023-10-07T09:22:26.000Z</td>\n",
       "      <td>39</td>\n",
       "      <td>hyperboloid</td>\n",
       "      <td>True</td>\n",
       "      <td>random</td>\n",
       "      <td>0.0010</td>\n",
       "      <td>...</td>\n",
       "      <td>0.5</td>\n",
       "      <td>False</td>\n",
       "      <td>30</td>\n",
       "      <td>0.505685</td>\n",
       "      <td>28.075131</td>\n",
       "      <td>0.100355</td>\n",
       "      <td>0.001</td>\n",
       "      <td>3.942253</td>\n",
       "      <td>0.107029</td>\n",
       "      <td>0.951939</td>\n",
       "    </tr>\n",
       "    <tr>\n",
       "      <th>2</th>\n",
       "      <td>run_7kbmkj0h</td>\n",
       "      <td>finished</td>\n",
       "      <td>-</td>\n",
       "      <td>adelemyers</td>\n",
       "      <td>2023-10-07T09:21:43.000Z</td>\n",
       "      <td>40</td>\n",
       "      <td>hyperboloid</td>\n",
       "      <td>True</td>\n",
       "      <td>random</td>\n",
       "      <td>0.0001</td>\n",
       "      <td>...</td>\n",
       "      <td>0.5</td>\n",
       "      <td>False</td>\n",
       "      <td>30</td>\n",
       "      <td>0.505685</td>\n",
       "      <td>27.651503</td>\n",
       "      <td>0.100355</td>\n",
       "      <td>0.001</td>\n",
       "      <td>3.942253</td>\n",
       "      <td>0.136145</td>\n",
       "      <td>0.951939</td>\n",
       "    </tr>\n",
       "    <tr>\n",
       "      <th>3</th>\n",
       "      <td>run_7d8ert0y</td>\n",
       "      <td>finished</td>\n",
       "      <td>-</td>\n",
       "      <td>adelemyers</td>\n",
       "      <td>2023-10-07T09:20:59.000Z</td>\n",
       "      <td>42</td>\n",
       "      <td>hyperboloid</td>\n",
       "      <td>True</td>\n",
       "      <td>random</td>\n",
       "      <td>0.0000</td>\n",
       "      <td>...</td>\n",
       "      <td>0.5</td>\n",
       "      <td>False</td>\n",
       "      <td>30</td>\n",
       "      <td>0.505685</td>\n",
       "      <td>28.168035</td>\n",
       "      <td>0.100355</td>\n",
       "      <td>0.001</td>\n",
       "      <td>3.942253</td>\n",
       "      <td>0.129965</td>\n",
       "      <td>0.951939</td>\n",
       "    </tr>\n",
       "    <tr>\n",
       "      <th>4</th>\n",
       "      <td>run_4xe54x3e</td>\n",
       "      <td>finished</td>\n",
       "      <td>-</td>\n",
       "      <td>adelemyers</td>\n",
       "      <td>2023-10-07T09:20:18.000Z</td>\n",
       "      <td>40</td>\n",
       "      <td>hyperboloid</td>\n",
       "      <td>True</td>\n",
       "      <td>random</td>\n",
       "      <td>0.0100</td>\n",
       "      <td>...</td>\n",
       "      <td>0.5</td>\n",
       "      <td>False</td>\n",
       "      <td>20</td>\n",
       "      <td>0.505685</td>\n",
       "      <td>27.581721</td>\n",
       "      <td>0.100355</td>\n",
       "      <td>0.001</td>\n",
       "      <td>3.942253</td>\n",
       "      <td>0.083562</td>\n",
       "      <td>0.951939</td>\n",
       "    </tr>\n",
       "  </tbody>\n",
       "</table>\n",
       "<p>5 rows × 21 columns</p>\n",
       "</div>"
      ],
      "text/plain": [
       "           Name     State Notes        User                   Created  \\\n",
       "0  run_jo2btu5m  finished     -  adelemyers  2023-10-07T09:23:07.000Z   \n",
       "1  run_rptybowk  finished     -  adelemyers  2023-10-07T09:22:26.000Z   \n",
       "2  run_7kbmkj0h  finished     -  adelemyers  2023-10-07T09:21:43.000Z   \n",
       "3  run_7d8ert0y  finished     -  adelemyers  2023-10-07T09:20:59.000Z   \n",
       "4  run_4xe54x3e  finished     -  adelemyers  2023-10-07T09:20:18.000Z   \n",
       "\n",
       "   Runtime dataset_name  full_run geodesic_initialization  noise_factor  ...  \\\n",
       "0       41  hyperboloid      True                  random        0.0100  ...   \n",
       "1       39  hyperboloid      True                  random        0.0010  ...   \n",
       "2       40  hyperboloid      True                  random        0.0001  ...   \n",
       "3       42  hyperboloid      True                  random        0.0000  ...   \n",
       "4       40  hyperboloid      True                  random        0.0100  ...   \n",
       "\n",
       "   tol_factor  linear_residuals  n_X  geodesic_coef_err  \\\n",
       "0         0.5             False   30           0.505685   \n",
       "1         0.5             False   30           0.505685   \n",
       "2         0.5             False   30           0.505685   \n",
       "3         0.5             False   30           0.505685   \n",
       "4         0.5             False   20           0.505685   \n",
       "\n",
       "   geodesic_duration_time  geodesic_intercept_err  geodesic_tol  \\\n",
       "0               28.007129                0.100355         0.001   \n",
       "1               28.075131                0.100355         0.001   \n",
       "2               27.651503                0.100355         0.001   \n",
       "3               28.168035                0.100355         0.001   \n",
       "4               27.581721                0.100355         0.001   \n",
       "\n",
       "   linear_coef_err  linear_duration_time  linear_intercept_err  \n",
       "0         3.942253              0.108493              0.951939  \n",
       "1         3.942253              0.107029              0.951939  \n",
       "2         3.942253              0.136145              0.951939  \n",
       "3         3.942253              0.129965              0.951939  \n",
       "4         3.942253              0.083562              0.951939  \n",
       "\n",
       "[5 rows x 21 columns]"
      ]
     },
     "execution_count": 36,
     "metadata": {},
     "output_type": "execute_result"
    }
   ],
   "source": [
    "df = pd.read_csv(\"csv/regression_benchmarking_hypersphere_hyperboloid.csv\")\n",
    "df = df.dropna(axis=1, how='all')\n",
    "df.head()"
   ]
  },
  {
   "cell_type": "code",
   "execution_count": 37,
   "id": "ac9a7b58-c779-4534-a438-2afa75339b68",
   "metadata": {},
   "outputs": [
    {
     "data": {
      "text/html": [
       "<div>\n",
       "<style scoped>\n",
       "    .dataframe tbody tr th:only-of-type {\n",
       "        vertical-align: middle;\n",
       "    }\n",
       "\n",
       "    .dataframe tbody tr th {\n",
       "        vertical-align: top;\n",
       "    }\n",
       "\n",
       "    .dataframe thead th {\n",
       "        text-align: right;\n",
       "    }\n",
       "</style>\n",
       "<table border=\"1\" class=\"dataframe\">\n",
       "  <thead>\n",
       "    <tr style=\"text-align: right;\">\n",
       "      <th></th>\n",
       "      <th>Name</th>\n",
       "      <th>State</th>\n",
       "      <th>Notes</th>\n",
       "      <th>User</th>\n",
       "      <th>Created</th>\n",
       "      <th>Runtime</th>\n",
       "      <th>dataset_name</th>\n",
       "      <th>full_run</th>\n",
       "      <th>geodesic_initialization</th>\n",
       "      <th>noise_factor</th>\n",
       "      <th>...</th>\n",
       "      <th>tol_factor</th>\n",
       "      <th>linear_residuals</th>\n",
       "      <th>n_X</th>\n",
       "      <th>geodesic_coef_err</th>\n",
       "      <th>geodesic_duration_time</th>\n",
       "      <th>geodesic_intercept_err</th>\n",
       "      <th>geodesic_tol</th>\n",
       "      <th>linear_coef_err</th>\n",
       "      <th>linear_duration_time</th>\n",
       "      <th>linear_intercept_err</th>\n",
       "    </tr>\n",
       "  </thead>\n",
       "  <tbody>\n",
       "    <tr>\n",
       "      <th>0</th>\n",
       "      <td>run_jo2btu5m</td>\n",
       "      <td>finished</td>\n",
       "      <td>-</td>\n",
       "      <td>adelemyers</td>\n",
       "      <td>2023-10-07T09:23:07.000Z</td>\n",
       "      <td>41</td>\n",
       "      <td>hyperboloid</td>\n",
       "      <td>True</td>\n",
       "      <td>random</td>\n",
       "      <td>0.0100</td>\n",
       "      <td>...</td>\n",
       "      <td>0.5</td>\n",
       "      <td>False</td>\n",
       "      <td>30</td>\n",
       "      <td>0.505685</td>\n",
       "      <td>28.007129</td>\n",
       "      <td>0.100355</td>\n",
       "      <td>0.001</td>\n",
       "      <td>3.942253</td>\n",
       "      <td>0.108493</td>\n",
       "      <td>0.951939</td>\n",
       "    </tr>\n",
       "    <tr>\n",
       "      <th>1</th>\n",
       "      <td>run_rptybowk</td>\n",
       "      <td>finished</td>\n",
       "      <td>-</td>\n",
       "      <td>adelemyers</td>\n",
       "      <td>2023-10-07T09:22:26.000Z</td>\n",
       "      <td>39</td>\n",
       "      <td>hyperboloid</td>\n",
       "      <td>True</td>\n",
       "      <td>random</td>\n",
       "      <td>0.0010</td>\n",
       "      <td>...</td>\n",
       "      <td>0.5</td>\n",
       "      <td>False</td>\n",
       "      <td>30</td>\n",
       "      <td>0.505685</td>\n",
       "      <td>28.075131</td>\n",
       "      <td>0.100355</td>\n",
       "      <td>0.001</td>\n",
       "      <td>3.942253</td>\n",
       "      <td>0.107029</td>\n",
       "      <td>0.951939</td>\n",
       "    </tr>\n",
       "    <tr>\n",
       "      <th>2</th>\n",
       "      <td>run_7kbmkj0h</td>\n",
       "      <td>finished</td>\n",
       "      <td>-</td>\n",
       "      <td>adelemyers</td>\n",
       "      <td>2023-10-07T09:21:43.000Z</td>\n",
       "      <td>40</td>\n",
       "      <td>hyperboloid</td>\n",
       "      <td>True</td>\n",
       "      <td>random</td>\n",
       "      <td>0.0001</td>\n",
       "      <td>...</td>\n",
       "      <td>0.5</td>\n",
       "      <td>False</td>\n",
       "      <td>30</td>\n",
       "      <td>0.505685</td>\n",
       "      <td>27.651503</td>\n",
       "      <td>0.100355</td>\n",
       "      <td>0.001</td>\n",
       "      <td>3.942253</td>\n",
       "      <td>0.136145</td>\n",
       "      <td>0.951939</td>\n",
       "    </tr>\n",
       "    <tr>\n",
       "      <th>3</th>\n",
       "      <td>run_7d8ert0y</td>\n",
       "      <td>finished</td>\n",
       "      <td>-</td>\n",
       "      <td>adelemyers</td>\n",
       "      <td>2023-10-07T09:20:59.000Z</td>\n",
       "      <td>42</td>\n",
       "      <td>hyperboloid</td>\n",
       "      <td>True</td>\n",
       "      <td>random</td>\n",
       "      <td>0.0000</td>\n",
       "      <td>...</td>\n",
       "      <td>0.5</td>\n",
       "      <td>False</td>\n",
       "      <td>30</td>\n",
       "      <td>0.505685</td>\n",
       "      <td>28.168035</td>\n",
       "      <td>0.100355</td>\n",
       "      <td>0.001</td>\n",
       "      <td>3.942253</td>\n",
       "      <td>0.129965</td>\n",
       "      <td>0.951939</td>\n",
       "    </tr>\n",
       "    <tr>\n",
       "      <th>4</th>\n",
       "      <td>run_4xe54x3e</td>\n",
       "      <td>finished</td>\n",
       "      <td>-</td>\n",
       "      <td>adelemyers</td>\n",
       "      <td>2023-10-07T09:20:18.000Z</td>\n",
       "      <td>40</td>\n",
       "      <td>hyperboloid</td>\n",
       "      <td>True</td>\n",
       "      <td>random</td>\n",
       "      <td>0.0100</td>\n",
       "      <td>...</td>\n",
       "      <td>0.5</td>\n",
       "      <td>False</td>\n",
       "      <td>20</td>\n",
       "      <td>0.505685</td>\n",
       "      <td>27.581721</td>\n",
       "      <td>0.100355</td>\n",
       "      <td>0.001</td>\n",
       "      <td>3.942253</td>\n",
       "      <td>0.083562</td>\n",
       "      <td>0.951939</td>\n",
       "    </tr>\n",
       "  </tbody>\n",
       "</table>\n",
       "<p>5 rows × 21 columns</p>\n",
       "</div>"
      ],
      "text/plain": [
       "           Name     State Notes        User                   Created  \\\n",
       "0  run_jo2btu5m  finished     -  adelemyers  2023-10-07T09:23:07.000Z   \n",
       "1  run_rptybowk  finished     -  adelemyers  2023-10-07T09:22:26.000Z   \n",
       "2  run_7kbmkj0h  finished     -  adelemyers  2023-10-07T09:21:43.000Z   \n",
       "3  run_7d8ert0y  finished     -  adelemyers  2023-10-07T09:20:59.000Z   \n",
       "4  run_4xe54x3e  finished     -  adelemyers  2023-10-07T09:20:18.000Z   \n",
       "\n",
       "   Runtime dataset_name  full_run geodesic_initialization  noise_factor  ...  \\\n",
       "0       41  hyperboloid      True                  random        0.0100  ...   \n",
       "1       39  hyperboloid      True                  random        0.0010  ...   \n",
       "2       40  hyperboloid      True                  random        0.0001  ...   \n",
       "3       42  hyperboloid      True                  random        0.0000  ...   \n",
       "4       40  hyperboloid      True                  random        0.0100  ...   \n",
       "\n",
       "   tol_factor  linear_residuals  n_X  geodesic_coef_err  \\\n",
       "0         0.5             False   30           0.505685   \n",
       "1         0.5             False   30           0.505685   \n",
       "2         0.5             False   30           0.505685   \n",
       "3         0.5             False   30           0.505685   \n",
       "4         0.5             False   20           0.505685   \n",
       "\n",
       "   geodesic_duration_time  geodesic_intercept_err  geodesic_tol  \\\n",
       "0               28.007129                0.100355         0.001   \n",
       "1               28.075131                0.100355         0.001   \n",
       "2               27.651503                0.100355         0.001   \n",
       "3               28.168035                0.100355         0.001   \n",
       "4               27.581721                0.100355         0.001   \n",
       "\n",
       "   linear_coef_err  linear_duration_time  linear_intercept_err  \n",
       "0         3.942253              0.108493              0.951939  \n",
       "1         3.942253              0.107029              0.951939  \n",
       "2         3.942253              0.136145              0.951939  \n",
       "3         3.942253              0.129965              0.951939  \n",
       "4         3.942253              0.083562              0.951939  \n",
       "\n",
       "[5 rows x 21 columns]"
      ]
     },
     "execution_count": 37,
     "metadata": {},
     "output_type": "execute_result"
    }
   ],
   "source": [
    "df_hyperboloid = df[df[\"dataset_name\"] == \"hyperboloid\"]\n",
    "df_hyperboloid.head()"
   ]
  },
  {
   "cell_type": "code",
   "execution_count": 38,
   "id": "c7fba47c-7284-485b-924e-191403b50c29",
   "metadata": {},
   "outputs": [
    {
     "data": {
      "text/plain": [
       "Index(['Name', 'State', 'Notes', 'User', 'Created', 'Runtime', 'dataset_name',\n",
       "       'full_run', 'geodesic_initialization', 'noise_factor', 'n_steps',\n",
       "       'tol_factor', 'linear_residuals', 'n_X', 'geodesic_coef_err',\n",
       "       'geodesic_duration_time', 'geodesic_intercept_err', 'geodesic_tol',\n",
       "       'linear_coef_err', 'linear_duration_time', 'linear_intercept_err'],\n",
       "      dtype='object')"
      ]
     },
     "execution_count": 38,
     "metadata": {},
     "output_type": "execute_result"
    }
   ],
   "source": [
    "df_hyperboloid.columns"
   ]
  },
  {
   "cell_type": "code",
   "execution_count": 39,
   "id": "12f5a24d-4d35-4bf9-a1d1-668ec6a5ffef",
   "metadata": {},
   "outputs": [
    {
     "data": {
      "text/html": [
       "<div>\n",
       "<style scoped>\n",
       "    .dataframe tbody tr th:only-of-type {\n",
       "        vertical-align: middle;\n",
       "    }\n",
       "\n",
       "    .dataframe tbody tr th {\n",
       "        vertical-align: top;\n",
       "    }\n",
       "\n",
       "    .dataframe thead th {\n",
       "        text-align: right;\n",
       "    }\n",
       "</style>\n",
       "<table border=\"1\" class=\"dataframe\">\n",
       "  <thead>\n",
       "    <tr style=\"text-align: right;\">\n",
       "      <th></th>\n",
       "      <th>Name</th>\n",
       "      <th>State</th>\n",
       "      <th>Notes</th>\n",
       "      <th>User</th>\n",
       "      <th>Created</th>\n",
       "      <th>Runtime</th>\n",
       "      <th>dataset_name</th>\n",
       "      <th>full_run</th>\n",
       "      <th>geodesic_initialization</th>\n",
       "      <th>noise_factor</th>\n",
       "      <th>...</th>\n",
       "      <th>tol_factor</th>\n",
       "      <th>linear_residuals</th>\n",
       "      <th>n_X</th>\n",
       "      <th>geodesic_coef_err</th>\n",
       "      <th>geodesic_duration_time</th>\n",
       "      <th>geodesic_intercept_err</th>\n",
       "      <th>geodesic_tol</th>\n",
       "      <th>linear_coef_err</th>\n",
       "      <th>linear_duration_time</th>\n",
       "      <th>linear_intercept_err</th>\n",
       "    </tr>\n",
       "  </thead>\n",
       "  <tbody>\n",
       "    <tr>\n",
       "      <th>640</th>\n",
       "      <td>run_kg9r7uik</td>\n",
       "      <td>finished</td>\n",
       "      <td>-</td>\n",
       "      <td>adelemyers</td>\n",
       "      <td>2023-10-07T02:38:20.000Z</td>\n",
       "      <td>20</td>\n",
       "      <td>hypersphere</td>\n",
       "      <td>True</td>\n",
       "      <td>random</td>\n",
       "      <td>0.0100</td>\n",
       "      <td>...</td>\n",
       "      <td>0.5</td>\n",
       "      <td>False</td>\n",
       "      <td>30</td>\n",
       "      <td>0.382399</td>\n",
       "      <td>7.072055</td>\n",
       "      <td>0.048317</td>\n",
       "      <td>0.001</td>\n",
       "      <td>0.527348</td>\n",
       "      <td>0.071185</td>\n",
       "      <td>0.228783</td>\n",
       "    </tr>\n",
       "    <tr>\n",
       "      <th>641</th>\n",
       "      <td>run_4h9ct1aq</td>\n",
       "      <td>finished</td>\n",
       "      <td>-</td>\n",
       "      <td>adelemyers</td>\n",
       "      <td>2023-10-07T02:37:59.000Z</td>\n",
       "      <td>20</td>\n",
       "      <td>hypersphere</td>\n",
       "      <td>True</td>\n",
       "      <td>random</td>\n",
       "      <td>0.0010</td>\n",
       "      <td>...</td>\n",
       "      <td>0.5</td>\n",
       "      <td>False</td>\n",
       "      <td>30</td>\n",
       "      <td>0.382399</td>\n",
       "      <td>7.467143</td>\n",
       "      <td>0.048317</td>\n",
       "      <td>0.001</td>\n",
       "      <td>0.527348</td>\n",
       "      <td>0.063681</td>\n",
       "      <td>0.228783</td>\n",
       "    </tr>\n",
       "    <tr>\n",
       "      <th>642</th>\n",
       "      <td>run_yo6q2hik</td>\n",
       "      <td>finished</td>\n",
       "      <td>-</td>\n",
       "      <td>adelemyers</td>\n",
       "      <td>2023-10-07T02:37:40.000Z</td>\n",
       "      <td>17</td>\n",
       "      <td>hypersphere</td>\n",
       "      <td>True</td>\n",
       "      <td>random</td>\n",
       "      <td>0.0001</td>\n",
       "      <td>...</td>\n",
       "      <td>0.5</td>\n",
       "      <td>False</td>\n",
       "      <td>30</td>\n",
       "      <td>0.382399</td>\n",
       "      <td>7.039239</td>\n",
       "      <td>0.048317</td>\n",
       "      <td>0.001</td>\n",
       "      <td>0.527348</td>\n",
       "      <td>0.101886</td>\n",
       "      <td>0.228783</td>\n",
       "    </tr>\n",
       "    <tr>\n",
       "      <th>643</th>\n",
       "      <td>run_d94nr4uj</td>\n",
       "      <td>finished</td>\n",
       "      <td>-</td>\n",
       "      <td>adelemyers</td>\n",
       "      <td>2023-10-07T02:37:18.000Z</td>\n",
       "      <td>20</td>\n",
       "      <td>hypersphere</td>\n",
       "      <td>True</td>\n",
       "      <td>random</td>\n",
       "      <td>0.0000</td>\n",
       "      <td>...</td>\n",
       "      <td>0.5</td>\n",
       "      <td>False</td>\n",
       "      <td>30</td>\n",
       "      <td>0.382399</td>\n",
       "      <td>6.972690</td>\n",
       "      <td>0.048317</td>\n",
       "      <td>0.001</td>\n",
       "      <td>0.527348</td>\n",
       "      <td>0.097934</td>\n",
       "      <td>0.228783</td>\n",
       "    </tr>\n",
       "    <tr>\n",
       "      <th>644</th>\n",
       "      <td>run_pci00rdc</td>\n",
       "      <td>finished</td>\n",
       "      <td>-</td>\n",
       "      <td>adelemyers</td>\n",
       "      <td>2023-10-07T02:36:58.000Z</td>\n",
       "      <td>18</td>\n",
       "      <td>hypersphere</td>\n",
       "      <td>True</td>\n",
       "      <td>random</td>\n",
       "      <td>0.0100</td>\n",
       "      <td>...</td>\n",
       "      <td>0.5</td>\n",
       "      <td>False</td>\n",
       "      <td>20</td>\n",
       "      <td>0.382399</td>\n",
       "      <td>6.701446</td>\n",
       "      <td>0.048317</td>\n",
       "      <td>0.001</td>\n",
       "      <td>0.527348</td>\n",
       "      <td>0.080456</td>\n",
       "      <td>0.228783</td>\n",
       "    </tr>\n",
       "  </tbody>\n",
       "</table>\n",
       "<p>5 rows × 21 columns</p>\n",
       "</div>"
      ],
      "text/plain": [
       "             Name     State Notes        User                   Created  \\\n",
       "640  run_kg9r7uik  finished     -  adelemyers  2023-10-07T02:38:20.000Z   \n",
       "641  run_4h9ct1aq  finished     -  adelemyers  2023-10-07T02:37:59.000Z   \n",
       "642  run_yo6q2hik  finished     -  adelemyers  2023-10-07T02:37:40.000Z   \n",
       "643  run_d94nr4uj  finished     -  adelemyers  2023-10-07T02:37:18.000Z   \n",
       "644  run_pci00rdc  finished     -  adelemyers  2023-10-07T02:36:58.000Z   \n",
       "\n",
       "     Runtime dataset_name  full_run geodesic_initialization  noise_factor  \\\n",
       "640       20  hypersphere      True                  random        0.0100   \n",
       "641       20  hypersphere      True                  random        0.0010   \n",
       "642       17  hypersphere      True                  random        0.0001   \n",
       "643       20  hypersphere      True                  random        0.0000   \n",
       "644       18  hypersphere      True                  random        0.0100   \n",
       "\n",
       "     ...  tol_factor  linear_residuals  n_X  geodesic_coef_err  \\\n",
       "640  ...         0.5             False   30           0.382399   \n",
       "641  ...         0.5             False   30           0.382399   \n",
       "642  ...         0.5             False   30           0.382399   \n",
       "643  ...         0.5             False   30           0.382399   \n",
       "644  ...         0.5             False   20           0.382399   \n",
       "\n",
       "     geodesic_duration_time  geodesic_intercept_err  geodesic_tol  \\\n",
       "640                7.072055                0.048317         0.001   \n",
       "641                7.467143                0.048317         0.001   \n",
       "642                7.039239                0.048317         0.001   \n",
       "643                6.972690                0.048317         0.001   \n",
       "644                6.701446                0.048317         0.001   \n",
       "\n",
       "     linear_coef_err  linear_duration_time  linear_intercept_err  \n",
       "640         0.527348              0.071185              0.228783  \n",
       "641         0.527348              0.063681              0.228783  \n",
       "642         0.527348              0.101886              0.228783  \n",
       "643         0.527348              0.097934              0.228783  \n",
       "644         0.527348              0.080456              0.228783  \n",
       "\n",
       "[5 rows x 21 columns]"
      ]
     },
     "execution_count": 39,
     "metadata": {},
     "output_type": "execute_result"
    }
   ],
   "source": [
    "df_hypersphere = df[df[\"dataset_name\"] == \"hypersphere\"]\n",
    "df_hypersphere.head()"
   ]
  },
  {
   "cell_type": "code",
   "execution_count": 40,
   "id": "b8e37d06-30a1-4211-9421-25194a28f821",
   "metadata": {},
   "outputs": [
    {
     "data": {
      "text/plain": [
       "Index(['Name', 'State', 'Notes', 'User', 'Created', 'Runtime', 'dataset_name',\n",
       "       'full_run', 'geodesic_initialization', 'noise_factor', 'n_steps',\n",
       "       'tol_factor', 'linear_residuals', 'n_X', 'geodesic_coef_err',\n",
       "       'geodesic_duration_time', 'geodesic_intercept_err', 'geodesic_tol',\n",
       "       'linear_coef_err', 'linear_duration_time', 'linear_intercept_err'],\n",
       "      dtype='object')"
      ]
     },
     "execution_count": 40,
     "metadata": {},
     "output_type": "execute_result"
    }
   ],
   "source": [
    "df_hypersphere.columns"
   ]
  },
  {
   "cell_type": "markdown",
   "id": "9e56a41e-b233-4c65-bf36-b9857c684eaa",
   "metadata": {},
   "source": [
    "# Convert linear residuals truth values into ints (for color map)"
   ]
  },
  {
   "cell_type": "code",
   "execution_count": 30,
   "id": "3d13dca8-3902-462c-877e-219c3b2ac1ec",
   "metadata": {},
   "outputs": [
    {
     "name": "stderr",
     "output_type": "stream",
     "text": [
      "/var/folders/yw/6dl955ps7fj9ysnf7qh0j4tc0000gn/T/ipykernel_96584/850851836.py:1: SettingWithCopyWarning:\n",
      "\n",
      "\n",
      "A value is trying to be set on a copy of a slice from a DataFrame.\n",
      "Try using .loc[row_indexer,col_indexer] = value instead\n",
      "\n",
      "See the caveats in the documentation: https://pandas.pydata.org/pandas-docs/stable/user_guide/indexing.html#returning-a-view-versus-a-copy\n",
      "\n"
     ]
    }
   ],
   "source": [
    "df_hypersphere[\"linear_residuals_colors\"] = df_hypersphere[\"linear_residuals\"]*1\n",
    "# print(df_hypersphere[df_hypersphere[\"linear_residuals_colors\"]==1])"
   ]
  },
  {
   "cell_type": "code",
   "execution_count": 31,
   "id": "b802d3af-b87a-4d6b-a61e-5811dce9c326",
   "metadata": {},
   "outputs": [
    {
     "name": "stderr",
     "output_type": "stream",
     "text": [
      "/var/folders/yw/6dl955ps7fj9ysnf7qh0j4tc0000gn/T/ipykernel_96584/3938154063.py:1: SettingWithCopyWarning:\n",
      "\n",
      "\n",
      "A value is trying to be set on a copy of a slice from a DataFrame.\n",
      "Try using .loc[row_indexer,col_indexer] = value instead\n",
      "\n",
      "See the caveats in the documentation: https://pandas.pydata.org/pandas-docs/stable/user_guide/indexing.html#returning-a-view-versus-a-copy\n",
      "\n"
     ]
    }
   ],
   "source": [
    "df_hyperboloid[\"linear_residuals_colors\"] = df_hyperboloid[\"linear_residuals\"]*1"
   ]
  },
  {
   "cell_type": "code",
   "execution_count": 32,
   "id": "67dc7ce8-8134-4efc-b6b4-15eceb051247",
   "metadata": {},
   "outputs": [],
   "source": [
    "COL_TO_TEXT = {\n",
    "    \"linear_residuals_colors\": \"Linear Residuals: 1 = True\",\n",
    "    \"geodesic_coef_err\" : \"Geodesic Coef Error\",\n",
    "    \"geodesic_duration_time\" : \"Geodesic Duration Time\",\n",
    "}"
   ]
  },
  {
   "cell_type": "markdown",
   "id": "9fca2902-bb4f-41ce-924b-35c1546c27c3",
   "metadata": {},
   "source": [
    "# First, look at Hypersphere"
   ]
  },
  {
   "cell_type": "code",
   "execution_count": 27,
   "id": "f6a94fa7-3d41-49fd-bc83-7e59060e1efe",
   "metadata": {},
   "outputs": [],
   "source": [
    "import plotly.express as px\n",
    "import plotly.io as pio\n",
    "\n",
    "fontsize = 15\n",
    "\n",
    "\n",
    "def diff_scatter_grouped(\n",
    "    colored_by=\"linear_residuals_colors\",\n",
    "    marked_by=\"geodesic_coef_err\",\n",
    "    diff_seq=\"geodesic_coef_err\",\n",
    "    df = \"hypersphere\"\n",
    "):\n",
    "    if df == \"hypersphere\":\n",
    "        df = df_hypersphere\n",
    "    elif df == \"hyperboloid\":\n",
    "        df = df_hyperboloid\n",
    "    x = df[\"geodesic_duration_time\"] * 100\n",
    "    y = np.abs(df[diff_seq])\n",
    "    value_to_symbol = dict(\n",
    "        zip(df[marked_by].unique(), [\"square\", \"x\", \"cross\", \"diamond\", \"star\"])\n",
    "    )\n",
    "\n",
    "    if colored_by == \"n_steps\":\n",
    "        color_discrete_sequence = px.colors.sequential.Plasma_r\n",
    "    else:\n",
    "        color_discrete_sequence = px.colors.sequential.Viridis_r\n",
    "\n",
    "    fig = px.scatter(\n",
    "        df,\n",
    "        x=x,\n",
    "        y=y,\n",
    "        color=[str(c) for c in df[colored_by].values],\n",
    "        color_discrete_sequence=color_discrete_sequence,  # px.colors.qualitative.Dark24,  # D3 #Dark24 # Pastel\n",
    "        # color_discrete_sequence=px.colors.sequential.Viridis_r, #px.colors.qualitative.Dark24,  # D3 #Dark24 # Pastel\n",
    "        symbol=[s for s in df[marked_by].values],\n",
    "        symbol_map=value_to_symbol,\n",
    "    )\n",
    "\n",
    "    fig.update_layout(\n",
    "        xaxis_title=dict(\n",
    "            text=COL_TO_TEXT[\"geodesic_duration_time\"],\n",
    "            font=dict(family=\"CMU\", size=fontsize),\n",
    "        ),\n",
    "        yaxis_title=dict(\n",
    "            text=COL_TO_TEXT[diff_seq], font=dict(family=\"CMU\", size=fontsize)\n",
    "        ),\n",
    "        title_font=dict(family=\"CMU\", size=fontsize),\n",
    "        xaxis=dict(tickfont=dict(family=\"CMU\", size=fontsize)),\n",
    "        yaxis=dict(tickfont=dict(family=\"CMU\", size=fontsize)),\n",
    "        legend=dict(\n",
    "            font=dict(family=\"CMU\", size=fontsize), title=COL_TO_TEXT[colored_by]\n",
    "        ),\n",
    "        width=650,\n",
    "        height=370,\n",
    "    )\n",
    "\n",
    "    fig.update_traces(marker=dict(size=9, opacity=0.9))\n",
    "    pio.write_image(fig, f\"regression_benchmark_{colored_by}.svg\")\n",
    "    fig.show()"
   ]
  },
  {
   "cell_type": "code",
   "execution_count": 28,
   "id": "b0dd31b2-825c-47fc-b6f0-e240f86e160e",
   "metadata": {},
   "outputs": [
    {
     "data": {
      "application/vnd.plotly.v1+json": {
       "config": {
        "plotlyServerURL": "https://plot.ly"
       },
       "data": [
        {
         "hovertemplate": "color=0<br>symbol=0.3823985712367895<br>x=%{x}<br>y=%{y}<extra></extra>",
         "legendgroup": "0, 0.3823985712367895",
         "marker": {
          "color": "#fde725",
          "opacity": 0.9,
          "size": 9,
          "symbol": "square"
         },
         "mode": "markers",
         "name": "0, 0.3823985712367895",
         "orientation": "v",
         "showlegend": true,
         "type": "scatter",
         "x": [
          707.2054624557495,
          746.7142581939697,
          703.9238929748535,
          697.2689628601074,
          670.1445817947388,
          582.9713582992554,
          714.9543046951294,
          711.3764762878418,
          731.2163591384888,
          679.7356128692627,
          707.5275659561157,
          678.0672311782837,
          697.5410938262941,
          702.734637260437,
          716.9215440750122,
          728.5043716430664,
          718.7897443771362,
          639.9780988693237,
          711.2621068954468,
          681.4411163330078,
          730.2635192871094,
          625.0537633895874,
          515.6388998031616,
          711.1838340759277,
          714.7844552993774,
          710.7577085494995,
          694.854211807251,
          647.7843523025513,
          706.0760498046875,
          716.1834955215454,
          687.6882791519165,
          623.2183218002319,
          717.5067663192749,
          728.1857490539551,
          732.2875261306763,
          732.5183868408203,
          744.9800968170166,
          704.4062852859497,
          709.0764045715332,
          720.6065893173218,
          740.8229112625122,
          702.2930860519409,
          694.4191455841064,
          684.5513820648193,
          734.3998908996582,
          744.2183971405029,
          717.2438859939575,
          697.0511198043823,
          745.431923866272,
          642.7514314651489,
          655.6566953659058,
          695.2991485595703,
          712.1149778366089,
          677.2216320037842,
          704.3652057647705,
          688.9978647232056,
          703.0889749526978,
          671.0653781890869,
          699.1791248321533,
          694.0568923950195,
          717.8997993469238,
          728.7036180496216,
          670.8887338638306,
          657.8491449356079,
          648.2867956161499,
          729.9206256866455,
          697.8851556777954,
          685.6701612472534,
          730.1138162612915,
          733.109974861145,
          726.914119720459,
          706.9720029830933,
          698.1372594833374,
          715.563440322876,
          717.7757501602173,
          708.0386161804199,
          631.7779779434204,
          750.3161907196045,
          730.8302402496338,
          679.670262336731,
          731.9713115692139,
          754.6360969543457,
          699.6246099472046,
          716.4145708084105,
          731.0945272445679,
          706.1836242675781,
          729.7574520111084,
          707.0398092269897,
          678.0499458312988,
          729.0826797485352,
          715.2121067047119,
          741.5114879608154,
          741.4727687835693,
          696.0828542709351,
          652.8880834579468,
          715.9306049346924,
          702.9429912567139,
          728.6458492279053,
          703.8803100585938,
          715.334939956665,
          735.8283996582031,
          745.2394485473633,
          704.9683094024658,
          738.21120262146,
          685.8645439147949,
          697.1379518508911,
          733.569598197937,
          662.2814178466797,
          726.0689973831177,
          567.6228046417236,
          662.1707201004028,
          725.185799598694,
          724.5550632476807,
          711.242151260376,
          679.9761533737183,
          696.5858697891235,
          735.7672691345215,
          716.3763761520386,
          698.3891487121582,
          742.6242351531982,
          697.1187114715576,
          670.7404375076294,
          598.4739065170288,
          730.3215980529785,
          694.2474126815796,
          654.5048475265503,
          723.3703136444092,
          638.9932155609131,
          706.5254211425781,
          714.2542362213135,
          730.2816152572632,
          718.6477184295654,
          761.9392156600952,
          632.6967000961304,
          748.5589265823364,
          699.2502450942993,
          747.3594427108765,
          704.8087120056152,
          739.7053241729736,
          720.0120449066162,
          768.8438892364502,
          673.8989114761353,
          670.0690031051636,
          731.2256574630737,
          696.1776494979858,
          744.5941686630249,
          749.0813732147217,
          746.4581251144409,
          742.7401065826416,
          691.8412446975708,
          718.2682037353516,
          719.4411039352417,
          734.9722146987915,
          670.6168174743652,
          713.7693643569946,
          704.2588472366333,
          714.6340608596802,
          704.7598838806152,
          719.8754787445068,
          736.0034227371216
         ],
         "xaxis": "x",
         "y": [
          0.3823985712367895,
          0.3823985712367895,
          0.3823985712367895,
          0.3823985712367895,
          0.3823985712367895,
          0.3823985712367895,
          0.3823985712367895,
          0.3823985712367895,
          0.3823985712367895,
          0.3823985712367895,
          0.3823985712367895,
          0.3823985712367895,
          0.3823985712367895,
          0.3823985712367895,
          0.3823985712367895,
          0.3823985712367895,
          0.3823985712367895,
          0.3823985712367895,
          0.3823985712367895,
          0.3823985712367895,
          0.3823985712367895,
          0.3823985712367895,
          0.3823985712367895,
          0.3823985712367895,
          0.3823985712367895,
          0.3823985712367895,
          0.3823985712367895,
          0.3823985712367895,
          0.3823985712367895,
          0.3823985712367895,
          0.3823985712367895,
          0.3823985712367895,
          0.3823985712367895,
          0.3823985712367895,
          0.3823985712367895,
          0.3823985712367895,
          0.3823985712367895,
          0.3823985712367895,
          0.3823985712367895,
          0.3823985712367895,
          0.3823985712367895,
          0.3823985712367895,
          0.3823985712367895,
          0.3823985712367895,
          0.3823985712367895,
          0.3823985712367895,
          0.3823985712367895,
          0.3823985712367895,
          0.3823985712367895,
          0.3823985712367895,
          0.3823985712367895,
          0.3823985712367895,
          0.3823985712367895,
          0.3823985712367895,
          0.3823985712367895,
          0.3823985712367895,
          0.3823985712367895,
          0.3823985712367895,
          0.3823985712367895,
          0.3823985712367895,
          0.3823985712367895,
          0.3823985712367895,
          0.3823985712367895,
          0.3823985712367895,
          0.3823985712367895,
          0.3823985712367895,
          0.3823985712367895,
          0.3823985712367895,
          0.3823985712367895,
          0.3823985712367895,
          0.3823985712367895,
          0.3823985712367895,
          0.3823985712367895,
          0.3823985712367895,
          0.3823985712367895,
          0.3823985712367895,
          0.3823985712367895,
          0.3823985712367895,
          0.3823985712367895,
          0.3823985712367895,
          0.3823985712367895,
          0.3823985712367895,
          0.3823985712367895,
          0.3823985712367895,
          0.3823985712367895,
          0.3823985712367895,
          0.3823985712367895,
          0.3823985712367895,
          0.3823985712367895,
          0.3823985712367895,
          0.3823985712367895,
          0.3823985712367895,
          0.3823985712367895,
          0.3823985712367895,
          0.3823985712367895,
          0.3823985712367895,
          0.3823985712367895,
          0.3823985712367895,
          0.3823985712367895,
          0.3823985712367895,
          0.3823985712367895,
          0.3823985712367895,
          0.3823985712367895,
          0.3823985712367895,
          0.3823985712367895,
          0.3823985712367895,
          0.3823985712367895,
          0.3823985712367895,
          0.3823985712367895,
          0.3823985712367895,
          0.3823985712367895,
          0.3823985712367895,
          0.3823985712367895,
          0.3823985712367895,
          0.3823985712367895,
          0.3823985712367895,
          0.3823985712367895,
          0.3823985712367895,
          0.3823985712367895,
          0.3823985712367895,
          0.3823985712367895,
          0.3823985712367895,
          0.3823985712367895,
          0.3823985712367895,
          0.3823985712367895,
          0.3823985712367895,
          0.3823985712367895,
          0.3823985712367895,
          0.3823985712367895,
          0.3823985712367895,
          0.3823985712367895,
          0.3823985712367895,
          0.3823985712367895,
          0.3823985712367895,
          0.3823985712367895,
          0.3823985712367895,
          0.3823985712367895,
          0.3823985712367895,
          0.3823985712367895,
          0.3823985712367895,
          0.3823985712367895,
          0.3823985712367895,
          0.3823985712367895,
          0.3823985712367895,
          0.3823985712367895,
          0.3823985712367895,
          0.3823985712367895,
          0.3823985712367895,
          0.3823985712367895,
          0.3823985712367895,
          0.3823985712367895,
          0.3823985712367895,
          0.3823985712367895,
          0.3823985712367895,
          0.3823985712367895,
          0.3823985712367895,
          0.3823985712367895,
          0.3823985712367895,
          0.3823985712367895,
          0.3823985712367895
         ],
         "yaxis": "y"
        },
        {
         "hovertemplate": "color=0<br>symbol=0.3824129303271939<br>x=%{x}<br>y=%{y}<extra></extra>",
         "legendgroup": "0, 0.3824129303271939",
         "marker": {
          "color": "#fde725",
          "opacity": 0.9,
          "size": 9,
          "symbol": "cross"
         },
         "mode": "markers",
         "name": "0, 0.3824129303271939",
         "orientation": "v",
         "showlegend": true,
         "type": "scatter",
         "x": [
          355.8026313781738,
          363.0418062210083,
          371.20625972747797,
          374.01282787323,
          360.27450561523443,
          355.36160469055176,
          368.0108785629273,
          367.5328969955444,
          377.40981578826893,
          365.6474351882935,
          378.4390926361084,
          354.9566507339477,
          385.5205535888672,
          316.4702177047729,
          346.2884426116944,
          366.9109344482422,
          347.83551692962646,
          347.7860450744629,
          343.29071044921875,
          364.4214391708374,
          379.57475185394287,
          359.8808288574219,
          345.4324007034302,
          375.1327991485596,
          322.03118801116943,
          335.8599901199341,
          381.69445991516113,
          358.06500911712646,
          382.11958408355713,
          346.128797531128,
          368.36917400360096,
          355.8219194412231,
          371.29509449005127,
          324.4783401489258,
          361.40449047088623,
          368.9764499664306,
          352.4233818054199,
          364.74337577819824,
          367.0432806015014,
          292.4074411392212
         ],
         "xaxis": "x",
         "y": [
          0.3824129303271939,
          0.3824129303271939,
          0.3824129303271939,
          0.3824129303271939,
          0.3824129303271939,
          0.3824129303271939,
          0.3824129303271939,
          0.3824129303271939,
          0.3824129303271939,
          0.3824129303271939,
          0.3824129303271939,
          0.3824129303271939,
          0.3824129303271939,
          0.3824129303271939,
          0.3824129303271939,
          0.3824129303271939,
          0.3824129303271939,
          0.3824129303271939,
          0.3824129303271939,
          0.3824129303271939,
          0.3824129303271939,
          0.3824129303271939,
          0.3824129303271939,
          0.3824129303271939,
          0.3824129303271939,
          0.3824129303271939,
          0.3824129303271939,
          0.3824129303271939,
          0.3824129303271939,
          0.3824129303271939,
          0.3824129303271939,
          0.3824129303271939,
          0.3824129303271939,
          0.3824129303271939,
          0.3824129303271939,
          0.3824129303271939,
          0.3824129303271939,
          0.3824129303271939,
          0.3824129303271939,
          0.3824129303271939
         ],
         "yaxis": "y"
        },
        {
         "hovertemplate": "color=1<br>symbol=0.3842128420783236<br>x=%{x}<br>y=%{y}<extra></extra>",
         "legendgroup": "1, 0.3842128420783236",
         "marker": {
          "color": "#b5de2b",
          "opacity": 0.9,
          "size": 9,
          "symbol": "x"
         },
         "mode": "markers",
         "name": "1, 0.3842128420783236",
         "orientation": "v",
         "showlegend": true,
         "type": "scatter",
         "x": [
          335.0107669830322,
          318.63903999328613,
          344.77553367614746,
          304.90005016326904,
          341.7822360992432,
          333.2092761993408,
          308.31284523010254,
          316.8556928634644,
          325.53491592407227,
          315.19696712493896,
          324.76096153259283,
          299.8005628585815,
          319.4222211837769,
          308.13562870025635,
          300.0147342681885,
          318.07548999786377,
          324.3656873703003,
          306.8481922149658,
          319.0603494644165,
          300.3082513809204,
          336.5959405899048,
          316.11900329589844,
          299.965238571167,
          325.0980854034424,
          325.1250743865967,
          321.5954065322876,
          335.9595060348511,
          319.9558019638061,
          316.3208484649658,
          311.022686958313,
          308.53328704833984,
          319.50480937957764,
          328.5578966140747,
          340.7456159591675,
          330.5112361907959,
          319.8840141296387,
          328.6840438842773,
          313.7997627258301,
          302.95331478118896,
          305.9857130050659,
          322.7288484573364,
          318.53694915771484,
          298.13947677612305,
          328.52187156677246,
          308.97250175476074,
          304.6658515930176,
          323.4057426452637,
          322.6365804672241,
          335.2027416229248,
          317.7908658981323,
          300.8156538009644,
          326.10552310943604,
          324.6056079864502,
          332.2481155395508,
          317.03603267669683,
          230.31280040740967,
          341.26436710357666,
          325.2775192260742,
          295.5073118209839,
          320.9261655807495,
          330.89542388916016,
          337.9917860031128,
          325.0604152679444,
          307.69636631011963,
          263.7882232666016,
          237.49682903289795,
          328.83124351501465,
          324.155330657959,
          306.2833070755005,
          317.9865598678589,
          321.3552474975586,
          325.90177059173584,
          317.08664894104004,
          328.72393131256104,
          303.8350582122803,
          337.6421928405762,
          337.2723579406738,
          317.9008960723877,
          312.15057373046875,
          335.15305519104004,
          320.4802989959717,
          328.6939144134521,
          332.9852819442749,
          321.17509841918945,
          292.789077758789,
          338.8893842697144,
          306.8686008453369,
          327.5505304336548,
          288.33909034729004,
          284.4929456710815,
          327.0680427551269,
          324.26724433898926,
          331.9500923156738,
          317.8637981414795,
          299.76158142089844,
          314.2232894897461,
          301.678466796875,
          348.388409614563,
          313.5348081588745,
          321.5689897537231,
          303.0189037322998,
          308.8404417037964,
          331.0232400894165,
          316.9950485229492,
          335.5802059173584,
          311.6335153579712,
          311.9002103805542,
          322.91648387908936,
          295.4622268676758,
          315.4291868209839,
          327.2902250289917,
          319.1296339035034,
          309.9514961242676,
          317.86630153656006,
          323.87540340423584,
          313.0748987197876,
          324.6851444244385,
          299.9755859375,
          318.8058614730835,
          314.9869918823242,
          286.9872093200684,
          320.8714008331299,
          318.0962324142456,
          327.2406578063965,
          302.238392829895,
          329.88126277923584,
          301.5030860900879,
          299.75011348724365,
          311.6096496582031,
          332.06489086151123,
          346.5593099594116,
          317.75481700897217,
          275.37448406219477,
          323.3388900756836,
          323.51667881011963,
          330.64472675323486,
          305.607271194458,
          310.8427286148072,
          319.4007158279419,
          330.85405826568604,
          307.7255964279175,
          313.3344888687134,
          339.6108150482178,
          334.7160577774048,
          345.1573371887207,
          342.2278642654419,
          301.6420125961304,
          336.0173463821411,
          282.40113258361816,
          330.03437519073486,
          308.3602905273437,
          332.53750801086426,
          339.3486738204956,
          348.4870195388794,
          339.8443460464477,
          303.6081552505493,
          306.6674470901489,
          340.03489017486567,
          326.7963647842407,
          328.3071756362915
         ],
         "xaxis": "x",
         "y": [
          0.3842128420783236,
          0.3842128420783236,
          0.3842128420783236,
          0.3842128420783236,
          0.3842128420783236,
          0.3842128420783236,
          0.3842128420783236,
          0.3842128420783236,
          0.3842128420783236,
          0.3842128420783236,
          0.3842128420783236,
          0.3842128420783236,
          0.3842128420783236,
          0.3842128420783236,
          0.3842128420783236,
          0.3842128420783236,
          0.3842128420783236,
          0.3842128420783236,
          0.3842128420783236,
          0.3842128420783236,
          0.3842128420783236,
          0.3842128420783236,
          0.3842128420783236,
          0.3842128420783236,
          0.3842128420783236,
          0.3842128420783236,
          0.3842128420783236,
          0.3842128420783236,
          0.3842128420783236,
          0.3842128420783236,
          0.3842128420783236,
          0.3842128420783236,
          0.3842128420783236,
          0.3842128420783236,
          0.3842128420783236,
          0.3842128420783236,
          0.3842128420783236,
          0.3842128420783236,
          0.3842128420783236,
          0.3842128420783236,
          0.3842128420783236,
          0.3842128420783236,
          0.3842128420783236,
          0.3842128420783236,
          0.3842128420783236,
          0.3842128420783236,
          0.3842128420783236,
          0.3842128420783236,
          0.3842128420783236,
          0.3842128420783236,
          0.3842128420783236,
          0.3842128420783236,
          0.3842128420783236,
          0.3842128420783236,
          0.3842128420783236,
          0.3842128420783236,
          0.3842128420783236,
          0.3842128420783236,
          0.3842128420783236,
          0.3842128420783236,
          0.3842128420783236,
          0.3842128420783236,
          0.3842128420783236,
          0.3842128420783236,
          0.3842128420783236,
          0.3842128420783236,
          0.3842128420783236,
          0.3842128420783236,
          0.3842128420783236,
          0.3842128420783236,
          0.3842128420783236,
          0.3842128420783236,
          0.3842128420783236,
          0.3842128420783236,
          0.3842128420783236,
          0.3842128420783236,
          0.3842128420783236,
          0.3842128420783236,
          0.3842128420783236,
          0.3842128420783236,
          0.3842128420783236,
          0.3842128420783236,
          0.3842128420783236,
          0.3842128420783236,
          0.3842128420783236,
          0.3842128420783236,
          0.3842128420783236,
          0.3842128420783236,
          0.3842128420783236,
          0.3842128420783236,
          0.3842128420783236,
          0.3842128420783236,
          0.3842128420783236,
          0.3842128420783236,
          0.3842128420783236,
          0.3842128420783236,
          0.3842128420783236,
          0.3842128420783236,
          0.3842128420783236,
          0.3842128420783236,
          0.3842128420783236,
          0.3842128420783236,
          0.3842128420783236,
          0.3842128420783236,
          0.3842128420783236,
          0.3842128420783236,
          0.3842128420783236,
          0.3842128420783236,
          0.3842128420783236,
          0.3842128420783236,
          0.3842128420783236,
          0.3842128420783236,
          0.3842128420783236,
          0.3842128420783236,
          0.3842128420783236,
          0.3842128420783236,
          0.3842128420783236,
          0.3842128420783236,
          0.3842128420783236,
          0.3842128420783236,
          0.3842128420783236,
          0.3842128420783236,
          0.3842128420783236,
          0.3842128420783236,
          0.3842128420783236,
          0.3842128420783236,
          0.3842128420783236,
          0.3842128420783236,
          0.3842128420783236,
          0.3842128420783236,
          0.3842128420783236,
          0.3842128420783236,
          0.3842128420783236,
          0.3842128420783236,
          0.3842128420783236,
          0.3842128420783236,
          0.3842128420783236,
          0.3842128420783236,
          0.3842128420783236,
          0.3842128420783236,
          0.3842128420783236,
          0.3842128420783236,
          0.3842128420783236,
          0.3842128420783236,
          0.3842128420783236,
          0.3842128420783236,
          0.3842128420783236,
          0.3842128420783236,
          0.3842128420783236,
          0.3842128420783236,
          0.3842128420783236,
          0.3842128420783236,
          0.3842128420783236,
          0.3842128420783236,
          0.3842128420783236,
          0.3842128420783236,
          0.3842128420783236,
          0.3842128420783236,
          0.3842128420783236,
          0.3842128420783236
         ],
         "yaxis": "y"
        }
       ],
       "layout": {
        "height": 370,
        "legend": {
         "font": {
          "family": "CMU",
          "size": 15
         },
         "title": {
          "text": "Linear Residuals: 1 = True"
         },
         "tracegroupgap": 0
        },
        "margin": {
         "t": 60
        },
        "template": {
         "data": {
          "bar": [
           {
            "error_x": {
             "color": "#2a3f5f"
            },
            "error_y": {
             "color": "#2a3f5f"
            },
            "marker": {
             "line": {
              "color": "#E5ECF6",
              "width": 0.5
             },
             "pattern": {
              "fillmode": "overlay",
              "size": 10,
              "solidity": 0.2
             }
            },
            "type": "bar"
           }
          ],
          "barpolar": [
           {
            "marker": {
             "line": {
              "color": "#E5ECF6",
              "width": 0.5
             },
             "pattern": {
              "fillmode": "overlay",
              "size": 10,
              "solidity": 0.2
             }
            },
            "type": "barpolar"
           }
          ],
          "carpet": [
           {
            "aaxis": {
             "endlinecolor": "#2a3f5f",
             "gridcolor": "white",
             "linecolor": "white",
             "minorgridcolor": "white",
             "startlinecolor": "#2a3f5f"
            },
            "baxis": {
             "endlinecolor": "#2a3f5f",
             "gridcolor": "white",
             "linecolor": "white",
             "minorgridcolor": "white",
             "startlinecolor": "#2a3f5f"
            },
            "type": "carpet"
           }
          ],
          "choropleth": [
           {
            "colorbar": {
             "outlinewidth": 0,
             "ticks": ""
            },
            "type": "choropleth"
           }
          ],
          "contour": [
           {
            "colorbar": {
             "outlinewidth": 0,
             "ticks": ""
            },
            "colorscale": [
             [
              0,
              "#0d0887"
             ],
             [
              0.1111111111111111,
              "#46039f"
             ],
             [
              0.2222222222222222,
              "#7201a8"
             ],
             [
              0.3333333333333333,
              "#9c179e"
             ],
             [
              0.4444444444444444,
              "#bd3786"
             ],
             [
              0.5555555555555556,
              "#d8576b"
             ],
             [
              0.6666666666666666,
              "#ed7953"
             ],
             [
              0.7777777777777778,
              "#fb9f3a"
             ],
             [
              0.8888888888888888,
              "#fdca26"
             ],
             [
              1,
              "#f0f921"
             ]
            ],
            "type": "contour"
           }
          ],
          "contourcarpet": [
           {
            "colorbar": {
             "outlinewidth": 0,
             "ticks": ""
            },
            "type": "contourcarpet"
           }
          ],
          "heatmap": [
           {
            "colorbar": {
             "outlinewidth": 0,
             "ticks": ""
            },
            "colorscale": [
             [
              0,
              "#0d0887"
             ],
             [
              0.1111111111111111,
              "#46039f"
             ],
             [
              0.2222222222222222,
              "#7201a8"
             ],
             [
              0.3333333333333333,
              "#9c179e"
             ],
             [
              0.4444444444444444,
              "#bd3786"
             ],
             [
              0.5555555555555556,
              "#d8576b"
             ],
             [
              0.6666666666666666,
              "#ed7953"
             ],
             [
              0.7777777777777778,
              "#fb9f3a"
             ],
             [
              0.8888888888888888,
              "#fdca26"
             ],
             [
              1,
              "#f0f921"
             ]
            ],
            "type": "heatmap"
           }
          ],
          "heatmapgl": [
           {
            "colorbar": {
             "outlinewidth": 0,
             "ticks": ""
            },
            "colorscale": [
             [
              0,
              "#0d0887"
             ],
             [
              0.1111111111111111,
              "#46039f"
             ],
             [
              0.2222222222222222,
              "#7201a8"
             ],
             [
              0.3333333333333333,
              "#9c179e"
             ],
             [
              0.4444444444444444,
              "#bd3786"
             ],
             [
              0.5555555555555556,
              "#d8576b"
             ],
             [
              0.6666666666666666,
              "#ed7953"
             ],
             [
              0.7777777777777778,
              "#fb9f3a"
             ],
             [
              0.8888888888888888,
              "#fdca26"
             ],
             [
              1,
              "#f0f921"
             ]
            ],
            "type": "heatmapgl"
           }
          ],
          "histogram": [
           {
            "marker": {
             "pattern": {
              "fillmode": "overlay",
              "size": 10,
              "solidity": 0.2
             }
            },
            "type": "histogram"
           }
          ],
          "histogram2d": [
           {
            "colorbar": {
             "outlinewidth": 0,
             "ticks": ""
            },
            "colorscale": [
             [
              0,
              "#0d0887"
             ],
             [
              0.1111111111111111,
              "#46039f"
             ],
             [
              0.2222222222222222,
              "#7201a8"
             ],
             [
              0.3333333333333333,
              "#9c179e"
             ],
             [
              0.4444444444444444,
              "#bd3786"
             ],
             [
              0.5555555555555556,
              "#d8576b"
             ],
             [
              0.6666666666666666,
              "#ed7953"
             ],
             [
              0.7777777777777778,
              "#fb9f3a"
             ],
             [
              0.8888888888888888,
              "#fdca26"
             ],
             [
              1,
              "#f0f921"
             ]
            ],
            "type": "histogram2d"
           }
          ],
          "histogram2dcontour": [
           {
            "colorbar": {
             "outlinewidth": 0,
             "ticks": ""
            },
            "colorscale": [
             [
              0,
              "#0d0887"
             ],
             [
              0.1111111111111111,
              "#46039f"
             ],
             [
              0.2222222222222222,
              "#7201a8"
             ],
             [
              0.3333333333333333,
              "#9c179e"
             ],
             [
              0.4444444444444444,
              "#bd3786"
             ],
             [
              0.5555555555555556,
              "#d8576b"
             ],
             [
              0.6666666666666666,
              "#ed7953"
             ],
             [
              0.7777777777777778,
              "#fb9f3a"
             ],
             [
              0.8888888888888888,
              "#fdca26"
             ],
             [
              1,
              "#f0f921"
             ]
            ],
            "type": "histogram2dcontour"
           }
          ],
          "mesh3d": [
           {
            "colorbar": {
             "outlinewidth": 0,
             "ticks": ""
            },
            "type": "mesh3d"
           }
          ],
          "parcoords": [
           {
            "line": {
             "colorbar": {
              "outlinewidth": 0,
              "ticks": ""
             }
            },
            "type": "parcoords"
           }
          ],
          "pie": [
           {
            "automargin": true,
            "type": "pie"
           }
          ],
          "scatter": [
           {
            "fillpattern": {
             "fillmode": "overlay",
             "size": 10,
             "solidity": 0.2
            },
            "type": "scatter"
           }
          ],
          "scatter3d": [
           {
            "line": {
             "colorbar": {
              "outlinewidth": 0,
              "ticks": ""
             }
            },
            "marker": {
             "colorbar": {
              "outlinewidth": 0,
              "ticks": ""
             }
            },
            "type": "scatter3d"
           }
          ],
          "scattercarpet": [
           {
            "marker": {
             "colorbar": {
              "outlinewidth": 0,
              "ticks": ""
             }
            },
            "type": "scattercarpet"
           }
          ],
          "scattergeo": [
           {
            "marker": {
             "colorbar": {
              "outlinewidth": 0,
              "ticks": ""
             }
            },
            "type": "scattergeo"
           }
          ],
          "scattergl": [
           {
            "marker": {
             "colorbar": {
              "outlinewidth": 0,
              "ticks": ""
             }
            },
            "type": "scattergl"
           }
          ],
          "scattermapbox": [
           {
            "marker": {
             "colorbar": {
              "outlinewidth": 0,
              "ticks": ""
             }
            },
            "type": "scattermapbox"
           }
          ],
          "scatterpolar": [
           {
            "marker": {
             "colorbar": {
              "outlinewidth": 0,
              "ticks": ""
             }
            },
            "type": "scatterpolar"
           }
          ],
          "scatterpolargl": [
           {
            "marker": {
             "colorbar": {
              "outlinewidth": 0,
              "ticks": ""
             }
            },
            "type": "scatterpolargl"
           }
          ],
          "scatterternary": [
           {
            "marker": {
             "colorbar": {
              "outlinewidth": 0,
              "ticks": ""
             }
            },
            "type": "scatterternary"
           }
          ],
          "surface": [
           {
            "colorbar": {
             "outlinewidth": 0,
             "ticks": ""
            },
            "colorscale": [
             [
              0,
              "#0d0887"
             ],
             [
              0.1111111111111111,
              "#46039f"
             ],
             [
              0.2222222222222222,
              "#7201a8"
             ],
             [
              0.3333333333333333,
              "#9c179e"
             ],
             [
              0.4444444444444444,
              "#bd3786"
             ],
             [
              0.5555555555555556,
              "#d8576b"
             ],
             [
              0.6666666666666666,
              "#ed7953"
             ],
             [
              0.7777777777777778,
              "#fb9f3a"
             ],
             [
              0.8888888888888888,
              "#fdca26"
             ],
             [
              1,
              "#f0f921"
             ]
            ],
            "type": "surface"
           }
          ],
          "table": [
           {
            "cells": {
             "fill": {
              "color": "#EBF0F8"
             },
             "line": {
              "color": "white"
             }
            },
            "header": {
             "fill": {
              "color": "#C8D4E3"
             },
             "line": {
              "color": "white"
             }
            },
            "type": "table"
           }
          ]
         },
         "layout": {
          "annotationdefaults": {
           "arrowcolor": "#2a3f5f",
           "arrowhead": 0,
           "arrowwidth": 1
          },
          "autotypenumbers": "strict",
          "coloraxis": {
           "colorbar": {
            "outlinewidth": 0,
            "ticks": ""
           }
          },
          "colorscale": {
           "diverging": [
            [
             0,
             "#8e0152"
            ],
            [
             0.1,
             "#c51b7d"
            ],
            [
             0.2,
             "#de77ae"
            ],
            [
             0.3,
             "#f1b6da"
            ],
            [
             0.4,
             "#fde0ef"
            ],
            [
             0.5,
             "#f7f7f7"
            ],
            [
             0.6,
             "#e6f5d0"
            ],
            [
             0.7,
             "#b8e186"
            ],
            [
             0.8,
             "#7fbc41"
            ],
            [
             0.9,
             "#4d9221"
            ],
            [
             1,
             "#276419"
            ]
           ],
           "sequential": [
            [
             0,
             "#0d0887"
            ],
            [
             0.1111111111111111,
             "#46039f"
            ],
            [
             0.2222222222222222,
             "#7201a8"
            ],
            [
             0.3333333333333333,
             "#9c179e"
            ],
            [
             0.4444444444444444,
             "#bd3786"
            ],
            [
             0.5555555555555556,
             "#d8576b"
            ],
            [
             0.6666666666666666,
             "#ed7953"
            ],
            [
             0.7777777777777778,
             "#fb9f3a"
            ],
            [
             0.8888888888888888,
             "#fdca26"
            ],
            [
             1,
             "#f0f921"
            ]
           ],
           "sequentialminus": [
            [
             0,
             "#0d0887"
            ],
            [
             0.1111111111111111,
             "#46039f"
            ],
            [
             0.2222222222222222,
             "#7201a8"
            ],
            [
             0.3333333333333333,
             "#9c179e"
            ],
            [
             0.4444444444444444,
             "#bd3786"
            ],
            [
             0.5555555555555556,
             "#d8576b"
            ],
            [
             0.6666666666666666,
             "#ed7953"
            ],
            [
             0.7777777777777778,
             "#fb9f3a"
            ],
            [
             0.8888888888888888,
             "#fdca26"
            ],
            [
             1,
             "#f0f921"
            ]
           ]
          },
          "colorway": [
           "#636efa",
           "#EF553B",
           "#00cc96",
           "#ab63fa",
           "#FFA15A",
           "#19d3f3",
           "#FF6692",
           "#B6E880",
           "#FF97FF",
           "#FECB52"
          ],
          "font": {
           "color": "#2a3f5f"
          },
          "geo": {
           "bgcolor": "white",
           "lakecolor": "white",
           "landcolor": "#E5ECF6",
           "showlakes": true,
           "showland": true,
           "subunitcolor": "white"
          },
          "hoverlabel": {
           "align": "left"
          },
          "hovermode": "closest",
          "mapbox": {
           "style": "light"
          },
          "paper_bgcolor": "white",
          "plot_bgcolor": "#E5ECF6",
          "polar": {
           "angularaxis": {
            "gridcolor": "white",
            "linecolor": "white",
            "ticks": ""
           },
           "bgcolor": "#E5ECF6",
           "radialaxis": {
            "gridcolor": "white",
            "linecolor": "white",
            "ticks": ""
           }
          },
          "scene": {
           "xaxis": {
            "backgroundcolor": "#E5ECF6",
            "gridcolor": "white",
            "gridwidth": 2,
            "linecolor": "white",
            "showbackground": true,
            "ticks": "",
            "zerolinecolor": "white"
           },
           "yaxis": {
            "backgroundcolor": "#E5ECF6",
            "gridcolor": "white",
            "gridwidth": 2,
            "linecolor": "white",
            "showbackground": true,
            "ticks": "",
            "zerolinecolor": "white"
           },
           "zaxis": {
            "backgroundcolor": "#E5ECF6",
            "gridcolor": "white",
            "gridwidth": 2,
            "linecolor": "white",
            "showbackground": true,
            "ticks": "",
            "zerolinecolor": "white"
           }
          },
          "shapedefaults": {
           "line": {
            "color": "#2a3f5f"
           }
          },
          "ternary": {
           "aaxis": {
            "gridcolor": "white",
            "linecolor": "white",
            "ticks": ""
           },
           "baxis": {
            "gridcolor": "white",
            "linecolor": "white",
            "ticks": ""
           },
           "bgcolor": "#E5ECF6",
           "caxis": {
            "gridcolor": "white",
            "linecolor": "white",
            "ticks": ""
           }
          },
          "title": {
           "x": 0.05
          },
          "xaxis": {
           "automargin": true,
           "gridcolor": "white",
           "linecolor": "white",
           "ticks": "",
           "title": {
            "standoff": 15
           },
           "zerolinecolor": "white",
           "zerolinewidth": 2
          },
          "yaxis": {
           "automargin": true,
           "gridcolor": "white",
           "linecolor": "white",
           "ticks": "",
           "title": {
            "standoff": 15
           },
           "zerolinecolor": "white",
           "zerolinewidth": 2
          }
         }
        },
        "title": {
         "font": {
          "family": "CMU",
          "size": 15
         }
        },
        "width": 650,
        "xaxis": {
         "anchor": "y",
         "autorange": true,
         "domain": [
          0,
          1
         ],
         "range": [
          189.4433107476167,
          809.7133788962432
         ],
         "tickfont": {
          "family": "CMU",
          "size": 15
         },
         "title": {
          "font": {
           "family": "CMU",
           "size": 15
          },
          "text": "Geodesic Duration Time"
         },
         "type": "linear"
        },
        "yaxis": {
         "anchor": "x",
         "autorange": true,
         "domain": [
          0,
          1
         ],
         "range": [
          0.3822398515016106,
          0.3843715618135025
         ],
         "tickfont": {
          "family": "CMU",
          "size": 15
         },
         "title": {
          "font": {
           "family": "CMU",
           "size": 15
          },
          "text": "Geodesic Coef Error"
         },
         "type": "linear"
        }
       }
      },
      "image/png": "[encoded data removed]",
      "text/html": [
       "<div>                            <div id=\"4ec1c320-033c-4e44-b277-f84a6c07ceca\" class=\"plotly-graph-div\" style=\"height:370px; width:650px;\"></div>            <script type=\"text/javascript\">                require([\"plotly\"], function(Plotly) {                    window.PLOTLYENV=window.PLOTLYENV || {};                                    if (document.getElementById(\"4ec1c320-033c-4e44-b277-f84a6c07ceca\")) {                    Plotly.newPlot(                        \"4ec1c320-033c-4e44-b277-f84a6c07ceca\",                        [{\"hovertemplate\":\"color=0\\u003cbr\\u003esymbol=0.3823985712367895\\u003cbr\\u003ex=%{x}\\u003cbr\\u003ey=%{y}\\u003cextra\\u003e\\u003c\\u002fextra\\u003e\",\"legendgroup\":\"0, 0.3823985712367895\",\"marker\":{\"color\":\"#fde725\",\"symbol\":\"square\",\"opacity\":0.9,\"size\":9},\"mode\":\"markers\",\"name\":\"0, 0.3823985712367895\",\"orientation\":\"v\",\"showlegend\":true,\"x\":[707.2054624557495,746.7142581939697,703.9238929748535,697.2689628601074,670.1445817947388,582.9713582992554,714.9543046951294,711.3764762878418,731.2163591384888,679.7356128692627,707.5275659561157,678.0672311782837,697.5410938262941,702.734637260437,716.9215440750122,728.5043716430664,718.7897443771362,639.9780988693237,711.2621068954468,681.4411163330078,730.2635192871094,625.0537633895874,515.6388998031616,711.1838340759277,714.7844552993774,710.7577085494995,694.854211807251,647.7843523025513,706.0760498046875,716.1834955215454,687.6882791519165,623.2183218002319,717.5067663192749,728.1857490539551,732.2875261306763,732.5183868408203,744.9800968170166,704.4062852859497,709.0764045715332,720.6065893173218,740.8229112625122,702.2930860519409,694.4191455841064,684.5513820648193,734.3998908996582,744.2183971405029,717.2438859939575,697.0511198043823,745.431923866272,642.7514314651489,655.6566953659058,695.2991485595703,712.1149778366089,677.2216320037842,704.3652057647705,688.9978647232056,703.0889749526978,671.0653781890869,699.1791248321533,694.0568923950195,717.8997993469238,728.7036180496216,670.8887338638306,657.8491449356079,648.2867956161499,729.9206256866455,697.8851556777954,685.6701612472534,730.1138162612915,733.109974861145,726.914119720459,706.9720029830933,698.1372594833374,715.563440322876,717.7757501602173,708.0386161804199,631.7779779434204,750.3161907196045,730.8302402496338,679.670262336731,731.9713115692139,754.6360969543457,699.6246099472046,716.4145708084105,731.0945272445679,706.1836242675781,729.7574520111084,707.0398092269897,678.0499458312988,729.0826797485352,715.2121067047119,741.5114879608154,741.4727687835693,696.0828542709351,652.8880834579468,715.9306049346924,702.9429912567139,728.6458492279053,703.8803100585938,715.334939956665,735.8283996582031,745.2394485473633,704.9683094024658,738.21120262146,685.8645439147949,697.1379518508911,733.569598197937,662.2814178466797,726.0689973831177,567.6228046417236,662.1707201004028,725.185799598694,724.5550632476807,711.242151260376,679.9761533737183,696.5858697891235,735.7672691345215,716.3763761520386,698.3891487121582,742.6242351531982,697.1187114715576,670.7404375076294,598.4739065170288,730.3215980529785,694.2474126815796,654.5048475265503,723.3703136444092,638.9932155609131,706.5254211425781,714.2542362213135,730.2816152572632,718.6477184295654,761.9392156600952,632.6967000961304,748.5589265823364,699.2502450942993,747.3594427108765,704.8087120056152,739.7053241729736,720.0120449066162,768.8438892364502,673.8989114761353,670.0690031051636,731.2256574630737,696.1776494979858,744.5941686630249,749.0813732147217,746.4581251144409,742.7401065826416,691.8412446975708,718.2682037353516,719.4411039352417,734.9722146987915,670.6168174743652,713.7693643569946,704.2588472366333,714.6340608596802,704.7598838806152,719.8754787445068,736.0034227371216],\"xaxis\":\"x\",\"y\":[0.3823985712367895,0.3823985712367895,0.3823985712367895,0.3823985712367895,0.3823985712367895,0.3823985712367895,0.3823985712367895,0.3823985712367895,0.3823985712367895,0.3823985712367895,0.3823985712367895,0.3823985712367895,0.3823985712367895,0.3823985712367895,0.3823985712367895,0.3823985712367895,0.3823985712367895,0.3823985712367895,0.3823985712367895,0.3823985712367895,0.3823985712367895,0.3823985712367895,0.3823985712367895,0.3823985712367895,0.3823985712367895,0.3823985712367895,0.3823985712367895,0.3823985712367895,0.3823985712367895,0.3823985712367895,0.3823985712367895,0.3823985712367895,0.3823985712367895,0.3823985712367895,0.3823985712367895,0.3823985712367895,0.3823985712367895,0.3823985712367895,0.3823985712367895,0.3823985712367895,0.3823985712367895,0.3823985712367895,0.3823985712367895,0.3823985712367895,0.3823985712367895,0.3823985712367895,0.3823985712367895,0.3823985712367895,0.3823985712367895,0.3823985712367895,0.3823985712367895,0.3823985712367895,0.3823985712367895,0.3823985712367895,0.3823985712367895,0.3823985712367895,0.3823985712367895,0.3823985712367895,0.3823985712367895,0.3823985712367895,0.3823985712367895,0.3823985712367895,0.3823985712367895,0.3823985712367895,0.3823985712367895,0.3823985712367895,0.3823985712367895,0.3823985712367895,0.3823985712367895,0.3823985712367895,0.3823985712367895,0.3823985712367895,0.3823985712367895,0.3823985712367895,0.3823985712367895,0.3823985712367895,0.3823985712367895,0.3823985712367895,0.3823985712367895,0.3823985712367895,0.3823985712367895,0.3823985712367895,0.3823985712367895,0.3823985712367895,0.3823985712367895,0.3823985712367895,0.3823985712367895,0.3823985712367895,0.3823985712367895,0.3823985712367895,0.3823985712367895,0.3823985712367895,0.3823985712367895,0.3823985712367895,0.3823985712367895,0.3823985712367895,0.3823985712367895,0.3823985712367895,0.3823985712367895,0.3823985712367895,0.3823985712367895,0.3823985712367895,0.3823985712367895,0.3823985712367895,0.3823985712367895,0.3823985712367895,0.3823985712367895,0.3823985712367895,0.3823985712367895,0.3823985712367895,0.3823985712367895,0.3823985712367895,0.3823985712367895,0.3823985712367895,0.3823985712367895,0.3823985712367895,0.3823985712367895,0.3823985712367895,0.3823985712367895,0.3823985712367895,0.3823985712367895,0.3823985712367895,0.3823985712367895,0.3823985712367895,0.3823985712367895,0.3823985712367895,0.3823985712367895,0.3823985712367895,0.3823985712367895,0.3823985712367895,0.3823985712367895,0.3823985712367895,0.3823985712367895,0.3823985712367895,0.3823985712367895,0.3823985712367895,0.3823985712367895,0.3823985712367895,0.3823985712367895,0.3823985712367895,0.3823985712367895,0.3823985712367895,0.3823985712367895,0.3823985712367895,0.3823985712367895,0.3823985712367895,0.3823985712367895,0.3823985712367895,0.3823985712367895,0.3823985712367895,0.3823985712367895,0.3823985712367895,0.3823985712367895,0.3823985712367895,0.3823985712367895,0.3823985712367895,0.3823985712367895,0.3823985712367895,0.3823985712367895,0.3823985712367895],\"yaxis\":\"y\",\"type\":\"scatter\"},{\"hovertemplate\":\"color=0\\u003cbr\\u003esymbol=0.3824129303271939\\u003cbr\\u003ex=%{x}\\u003cbr\\u003ey=%{y}\\u003cextra\\u003e\\u003c\\u002fextra\\u003e\",\"legendgroup\":\"0, 0.3824129303271939\",\"marker\":{\"color\":\"#fde725\",\"symbol\":\"cross\",\"opacity\":0.9,\"size\":9},\"mode\":\"markers\",\"name\":\"0, 0.3824129303271939\",\"orientation\":\"v\",\"showlegend\":true,\"x\":[355.8026313781738,363.0418062210083,371.20625972747797,374.01282787323,360.27450561523443,355.36160469055176,368.0108785629273,367.5328969955444,377.40981578826893,365.6474351882935,378.4390926361084,354.9566507339477,385.5205535888672,316.4702177047729,346.2884426116944,366.9109344482422,347.83551692962646,347.7860450744629,343.29071044921875,364.4214391708374,379.57475185394287,359.8808288574219,345.4324007034302,375.1327991485596,322.03118801116943,335.8599901199341,381.69445991516113,358.06500911712646,382.11958408355713,346.128797531128,368.36917400360096,355.8219194412231,371.29509449005127,324.4783401489258,361.40449047088623,368.9764499664306,352.4233818054199,364.74337577819824,367.0432806015014,292.4074411392212],\"xaxis\":\"x\",\"y\":[0.3824129303271939,0.3824129303271939,0.3824129303271939,0.3824129303271939,0.3824129303271939,0.3824129303271939,0.3824129303271939,0.3824129303271939,0.3824129303271939,0.3824129303271939,0.3824129303271939,0.3824129303271939,0.3824129303271939,0.3824129303271939,0.3824129303271939,0.3824129303271939,0.3824129303271939,0.3824129303271939,0.3824129303271939,0.3824129303271939,0.3824129303271939,0.3824129303271939,0.3824129303271939,0.3824129303271939,0.3824129303271939,0.3824129303271939,0.3824129303271939,0.3824129303271939,0.3824129303271939,0.3824129303271939,0.3824129303271939,0.3824129303271939,0.3824129303271939,0.3824129303271939,0.3824129303271939,0.3824129303271939,0.3824129303271939,0.3824129303271939,0.3824129303271939,0.3824129303271939],\"yaxis\":\"y\",\"type\":\"scatter\"},{\"hovertemplate\":\"color=1\\u003cbr\\u003esymbol=0.3842128420783236\\u003cbr\\u003ex=%{x}\\u003cbr\\u003ey=%{y}\\u003cextra\\u003e\\u003c\\u002fextra\\u003e\",\"legendgroup\":\"1, 0.3842128420783236\",\"marker\":{\"color\":\"#b5de2b\",\"symbol\":\"x\",\"opacity\":0.9,\"size\":9},\"mode\":\"markers\",\"name\":\"1, 0.3842128420783236\",\"orientation\":\"v\",\"showlegend\":true,\"x\":[335.0107669830322,318.63903999328613,344.77553367614746,304.90005016326904,341.7822360992432,333.2092761993408,308.31284523010254,316.8556928634644,325.53491592407227,315.19696712493896,324.76096153259283,299.8005628585815,319.4222211837769,308.13562870025635,300.0147342681885,318.07548999786377,324.3656873703003,306.8481922149658,319.0603494644165,300.3082513809204,336.5959405899048,316.11900329589844,299.965238571167,325.0980854034424,325.1250743865967,321.5954065322876,335.9595060348511,319.9558019638061,316.3208484649658,311.022686958313,308.53328704833984,319.50480937957764,328.5578966140747,340.7456159591675,330.5112361907959,319.8840141296387,328.6840438842773,313.7997627258301,302.95331478118896,305.9857130050659,322.7288484573364,318.53694915771484,298.13947677612305,328.52187156677246,308.97250175476074,304.6658515930176,323.4057426452637,322.6365804672241,335.2027416229248,317.7908658981323,300.8156538009644,326.10552310943604,324.6056079864502,332.2481155395508,317.03603267669683,230.31280040740967,341.26436710357666,325.2775192260742,295.5073118209839,320.9261655807495,330.89542388916016,337.9917860031128,325.0604152679444,307.69636631011963,263.7882232666016,237.49682903289795,328.83124351501465,324.155330657959,306.2833070755005,317.9865598678589,321.3552474975586,325.90177059173584,317.08664894104004,328.72393131256104,303.8350582122803,337.6421928405762,337.2723579406738,317.9008960723877,312.15057373046875,335.15305519104004,320.4802989959717,328.6939144134521,332.9852819442749,321.17509841918945,292.789077758789,338.8893842697144,306.8686008453369,327.5505304336548,288.33909034729004,284.4929456710815,327.0680427551269,324.26724433898926,331.9500923156738,317.8637981414795,299.76158142089844,314.2232894897461,301.678466796875,348.388409614563,313.5348081588745,321.5689897537231,303.0189037322998,308.8404417037964,331.0232400894165,316.9950485229492,335.5802059173584,311.6335153579712,311.9002103805542,322.91648387908936,295.4622268676758,315.4291868209839,327.2902250289917,319.1296339035034,309.9514961242676,317.86630153656006,323.87540340423584,313.0748987197876,324.6851444244385,299.9755859375,318.8058614730835,314.9869918823242,286.9872093200684,320.8714008331299,318.0962324142456,327.2406578063965,302.238392829895,329.88126277923584,301.5030860900879,299.75011348724365,311.6096496582031,332.06489086151123,346.5593099594116,317.75481700897217,275.37448406219477,323.3388900756836,323.51667881011963,330.64472675323486,305.607271194458,310.8427286148072,319.4007158279419,330.85405826568604,307.7255964279175,313.3344888687134,339.6108150482178,334.7160577774048,345.1573371887207,342.2278642654419,301.6420125961304,336.0173463821411,282.40113258361816,330.03437519073486,308.3602905273437,332.53750801086426,339.3486738204956,348.4870195388794,339.8443460464477,303.6081552505493,306.6674470901489,340.03489017486567,326.7963647842407,328.3071756362915],\"xaxis\":\"x\",\"y\":[0.3842128420783236,0.3842128420783236,0.3842128420783236,0.3842128420783236,0.3842128420783236,0.3842128420783236,0.3842128420783236,0.3842128420783236,0.3842128420783236,0.3842128420783236,0.3842128420783236,0.3842128420783236,0.3842128420783236,0.3842128420783236,0.3842128420783236,0.3842128420783236,0.3842128420783236,0.3842128420783236,0.3842128420783236,0.3842128420783236,0.3842128420783236,0.3842128420783236,0.3842128420783236,0.3842128420783236,0.3842128420783236,0.3842128420783236,0.3842128420783236,0.3842128420783236,0.3842128420783236,0.3842128420783236,0.3842128420783236,0.3842128420783236,0.3842128420783236,0.3842128420783236,0.3842128420783236,0.3842128420783236,0.3842128420783236,0.3842128420783236,0.3842128420783236,0.3842128420783236,0.3842128420783236,0.3842128420783236,0.3842128420783236,0.3842128420783236,0.3842128420783236,0.3842128420783236,0.3842128420783236,0.3842128420783236,0.3842128420783236,0.3842128420783236,0.3842128420783236,0.3842128420783236,0.3842128420783236,0.3842128420783236,0.3842128420783236,0.3842128420783236,0.3842128420783236,0.3842128420783236,0.3842128420783236,0.3842128420783236,0.3842128420783236,0.3842128420783236,0.3842128420783236,0.3842128420783236,0.3842128420783236,0.3842128420783236,0.3842128420783236,0.3842128420783236,0.3842128420783236,0.3842128420783236,0.3842128420783236,0.3842128420783236,0.3842128420783236,0.3842128420783236,0.3842128420783236,0.3842128420783236,0.3842128420783236,0.3842128420783236,0.3842128420783236,0.3842128420783236,0.3842128420783236,0.3842128420783236,0.3842128420783236,0.3842128420783236,0.3842128420783236,0.3842128420783236,0.3842128420783236,0.3842128420783236,0.3842128420783236,0.3842128420783236,0.3842128420783236,0.3842128420783236,0.3842128420783236,0.3842128420783236,0.3842128420783236,0.3842128420783236,0.3842128420783236,0.3842128420783236,0.3842128420783236,0.3842128420783236,0.3842128420783236,0.3842128420783236,0.3842128420783236,0.3842128420783236,0.3842128420783236,0.3842128420783236,0.3842128420783236,0.3842128420783236,0.3842128420783236,0.3842128420783236,0.3842128420783236,0.3842128420783236,0.3842128420783236,0.3842128420783236,0.3842128420783236,0.3842128420783236,0.3842128420783236,0.3842128420783236,0.3842128420783236,0.3842128420783236,0.3842128420783236,0.3842128420783236,0.3842128420783236,0.3842128420783236,0.3842128420783236,0.3842128420783236,0.3842128420783236,0.3842128420783236,0.3842128420783236,0.3842128420783236,0.3842128420783236,0.3842128420783236,0.3842128420783236,0.3842128420783236,0.3842128420783236,0.3842128420783236,0.3842128420783236,0.3842128420783236,0.3842128420783236,0.3842128420783236,0.3842128420783236,0.3842128420783236,0.3842128420783236,0.3842128420783236,0.3842128420783236,0.3842128420783236,0.3842128420783236,0.3842128420783236,0.3842128420783236,0.3842128420783236,0.3842128420783236,0.3842128420783236,0.3842128420783236,0.3842128420783236,0.3842128420783236,0.3842128420783236,0.3842128420783236,0.3842128420783236,0.3842128420783236,0.3842128420783236],\"yaxis\":\"y\",\"type\":\"scatter\"}],                        {\"template\":{\"data\":{\"histogram2dcontour\":[{\"type\":\"histogram2dcontour\",\"colorbar\":{\"outlinewidth\":0,\"ticks\":\"\"},\"colorscale\":[[0.0,\"#0d0887\"],[0.1111111111111111,\"#46039f\"],[0.2222222222222222,\"#7201a8\"],[0.3333333333333333,\"#9c179e\"],[0.4444444444444444,\"#bd3786\"],[0.5555555555555556,\"#d8576b\"],[0.6666666666666666,\"#ed7953\"],[0.7777777777777778,\"#fb9f3a\"],[0.8888888888888888,\"#fdca26\"],[1.0,\"#f0f921\"]]}],\"choropleth\":[{\"type\":\"choropleth\",\"colorbar\":{\"outlinewidth\":0,\"ticks\":\"\"}}],\"histogram2d\":[{\"type\":\"histogram2d\",\"colorbar\":{\"outlinewidth\":0,\"ticks\":\"\"},\"colorscale\":[[0.0,\"#0d0887\"],[0.1111111111111111,\"#46039f\"],[0.2222222222222222,\"#7201a8\"],[0.3333333333333333,\"#9c179e\"],[0.4444444444444444,\"#bd3786\"],[0.5555555555555556,\"#d8576b\"],[0.6666666666666666,\"#ed7953\"],[0.7777777777777778,\"#fb9f3a\"],[0.8888888888888888,\"#fdca26\"],[1.0,\"#f0f921\"]]}],\"heatmap\":[{\"type\":\"heatmap\",\"colorbar\":{\"outlinewidth\":0,\"ticks\":\"\"},\"colorscale\":[[0.0,\"#0d0887\"],[0.1111111111111111,\"#46039f\"],[0.2222222222222222,\"#7201a8\"],[0.3333333333333333,\"#9c179e\"],[0.4444444444444444,\"#bd3786\"],[0.5555555555555556,\"#d8576b\"],[0.6666666666666666,\"#ed7953\"],[0.7777777777777778,\"#fb9f3a\"],[0.8888888888888888,\"#fdca26\"],[1.0,\"#f0f921\"]]}],\"heatmapgl\":[{\"type\":\"heatmapgl\",\"colorbar\":{\"outlinewidth\":0,\"ticks\":\"\"},\"colorscale\":[[0.0,\"#0d0887\"],[0.1111111111111111,\"#46039f\"],[0.2222222222222222,\"#7201a8\"],[0.3333333333333333,\"#9c179e\"],[0.4444444444444444,\"#bd3786\"],[0.5555555555555556,\"#d8576b\"],[0.6666666666666666,\"#ed7953\"],[0.7777777777777778,\"#fb9f3a\"],[0.8888888888888888,\"#fdca26\"],[1.0,\"#f0f921\"]]}],\"contourcarpet\":[{\"type\":\"contourcarpet\",\"colorbar\":{\"outlinewidth\":0,\"ticks\":\"\"}}],\"contour\":[{\"type\":\"contour\",\"colorbar\":{\"outlinewidth\":0,\"ticks\":\"\"},\"colorscale\":[[0.0,\"#0d0887\"],[0.1111111111111111,\"#46039f\"],[0.2222222222222222,\"#7201a8\"],[0.3333333333333333,\"#9c179e\"],[0.4444444444444444,\"#bd3786\"],[0.5555555555555556,\"#d8576b\"],[0.6666666666666666,\"#ed7953\"],[0.7777777777777778,\"#fb9f3a\"],[0.8888888888888888,\"#fdca26\"],[1.0,\"#f0f921\"]]}],\"surface\":[{\"type\":\"surface\",\"colorbar\":{\"outlinewidth\":0,\"ticks\":\"\"},\"colorscale\":[[0.0,\"#0d0887\"],[0.1111111111111111,\"#46039f\"],[0.2222222222222222,\"#7201a8\"],[0.3333333333333333,\"#9c179e\"],[0.4444444444444444,\"#bd3786\"],[0.5555555555555556,\"#d8576b\"],[0.6666666666666666,\"#ed7953\"],[0.7777777777777778,\"#fb9f3a\"],[0.8888888888888888,\"#fdca26\"],[1.0,\"#f0f921\"]]}],\"mesh3d\":[{\"type\":\"mesh3d\",\"colorbar\":{\"outlinewidth\":0,\"ticks\":\"\"}}],\"scatter\":[{\"fillpattern\":{\"fillmode\":\"overlay\",\"size\":10,\"solidity\":0.2},\"type\":\"scatter\"}],\"parcoords\":[{\"type\":\"parcoords\",\"line\":{\"colorbar\":{\"outlinewidth\":0,\"ticks\":\"\"}}}],\"scatterpolargl\":[{\"type\":\"scatterpolargl\",\"marker\":{\"colorbar\":{\"outlinewidth\":0,\"ticks\":\"\"}}}],\"bar\":[{\"error_x\":{\"color\":\"#2a3f5f\"},\"error_y\":{\"color\":\"#2a3f5f\"},\"marker\":{\"line\":{\"color\":\"#E5ECF6\",\"width\":0.5},\"pattern\":{\"fillmode\":\"overlay\",\"size\":10,\"solidity\":0.2}},\"type\":\"bar\"}],\"scattergeo\":[{\"type\":\"scattergeo\",\"marker\":{\"colorbar\":{\"outlinewidth\":0,\"ticks\":\"\"}}}],\"scatterpolar\":[{\"type\":\"scatterpolar\",\"marker\":{\"colorbar\":{\"outlinewidth\":0,\"ticks\":\"\"}}}],\"histogram\":[{\"marker\":{\"pattern\":{\"fillmode\":\"overlay\",\"size\":10,\"solidity\":0.2}},\"type\":\"histogram\"}],\"scattergl\":[{\"type\":\"scattergl\",\"marker\":{\"colorbar\":{\"outlinewidth\":0,\"ticks\":\"\"}}}],\"scatter3d\":[{\"type\":\"scatter3d\",\"line\":{\"colorbar\":{\"outlinewidth\":0,\"ticks\":\"\"}},\"marker\":{\"colorbar\":{\"outlinewidth\":0,\"ticks\":\"\"}}}],\"scattermapbox\":[{\"type\":\"scattermapbox\",\"marker\":{\"colorbar\":{\"outlinewidth\":0,\"ticks\":\"\"}}}],\"scatterternary\":[{\"type\":\"scatterternary\",\"marker\":{\"colorbar\":{\"outlinewidth\":0,\"ticks\":\"\"}}}],\"scattercarpet\":[{\"type\":\"scattercarpet\",\"marker\":{\"colorbar\":{\"outlinewidth\":0,\"ticks\":\"\"}}}],\"carpet\":[{\"aaxis\":{\"endlinecolor\":\"#2a3f5f\",\"gridcolor\":\"white\",\"linecolor\":\"white\",\"minorgridcolor\":\"white\",\"startlinecolor\":\"#2a3f5f\"},\"baxis\":{\"endlinecolor\":\"#2a3f5f\",\"gridcolor\":\"white\",\"linecolor\":\"white\",\"minorgridcolor\":\"white\",\"startlinecolor\":\"#2a3f5f\"},\"type\":\"carpet\"}],\"table\":[{\"cells\":{\"fill\":{\"color\":\"#EBF0F8\"},\"line\":{\"color\":\"white\"}},\"header\":{\"fill\":{\"color\":\"#C8D4E3\"},\"line\":{\"color\":\"white\"}},\"type\":\"table\"}],\"barpolar\":[{\"marker\":{\"line\":{\"color\":\"#E5ECF6\",\"width\":0.5},\"pattern\":{\"fillmode\":\"overlay\",\"size\":10,\"solidity\":0.2}},\"type\":\"barpolar\"}],\"pie\":[{\"automargin\":true,\"type\":\"pie\"}]},\"layout\":{\"autotypenumbers\":\"strict\",\"colorway\":[\"#636efa\",\"#EF553B\",\"#00cc96\",\"#ab63fa\",\"#FFA15A\",\"#19d3f3\",\"#FF6692\",\"#B6E880\",\"#FF97FF\",\"#FECB52\"],\"font\":{\"color\":\"#2a3f5f\"},\"hovermode\":\"closest\",\"hoverlabel\":{\"align\":\"left\"},\"paper_bgcolor\":\"white\",\"plot_bgcolor\":\"#E5ECF6\",\"polar\":{\"bgcolor\":\"#E5ECF6\",\"angularaxis\":{\"gridcolor\":\"white\",\"linecolor\":\"white\",\"ticks\":\"\"},\"radialaxis\":{\"gridcolor\":\"white\",\"linecolor\":\"white\",\"ticks\":\"\"}},\"ternary\":{\"bgcolor\":\"#E5ECF6\",\"aaxis\":{\"gridcolor\":\"white\",\"linecolor\":\"white\",\"ticks\":\"\"},\"baxis\":{\"gridcolor\":\"white\",\"linecolor\":\"white\",\"ticks\":\"\"},\"caxis\":{\"gridcolor\":\"white\",\"linecolor\":\"white\",\"ticks\":\"\"}},\"coloraxis\":{\"colorbar\":{\"outlinewidth\":0,\"ticks\":\"\"}},\"colorscale\":{\"sequential\":[[0.0,\"#0d0887\"],[0.1111111111111111,\"#46039f\"],[0.2222222222222222,\"#7201a8\"],[0.3333333333333333,\"#9c179e\"],[0.4444444444444444,\"#bd3786\"],[0.5555555555555556,\"#d8576b\"],[0.6666666666666666,\"#ed7953\"],[0.7777777777777778,\"#fb9f3a\"],[0.8888888888888888,\"#fdca26\"],[1.0,\"#f0f921\"]],\"sequentialminus\":[[0.0,\"#0d0887\"],[0.1111111111111111,\"#46039f\"],[0.2222222222222222,\"#7201a8\"],[0.3333333333333333,\"#9c179e\"],[0.4444444444444444,\"#bd3786\"],[0.5555555555555556,\"#d8576b\"],[0.6666666666666666,\"#ed7953\"],[0.7777777777777778,\"#fb9f3a\"],[0.8888888888888888,\"#fdca26\"],[1.0,\"#f0f921\"]],\"diverging\":[[0,\"#8e0152\"],[0.1,\"#c51b7d\"],[0.2,\"#de77ae\"],[0.3,\"#f1b6da\"],[0.4,\"#fde0ef\"],[0.5,\"#f7f7f7\"],[0.6,\"#e6f5d0\"],[0.7,\"#b8e186\"],[0.8,\"#7fbc41\"],[0.9,\"#4d9221\"],[1,\"#276419\"]]},\"xaxis\":{\"gridcolor\":\"white\",\"linecolor\":\"white\",\"ticks\":\"\",\"title\":{\"standoff\":15},\"zerolinecolor\":\"white\",\"automargin\":true,\"zerolinewidth\":2},\"yaxis\":{\"gridcolor\":\"white\",\"linecolor\":\"white\",\"ticks\":\"\",\"title\":{\"standoff\":15},\"zerolinecolor\":\"white\",\"automargin\":true,\"zerolinewidth\":2},\"scene\":{\"xaxis\":{\"backgroundcolor\":\"#E5ECF6\",\"gridcolor\":\"white\",\"linecolor\":\"white\",\"showbackground\":true,\"ticks\":\"\",\"zerolinecolor\":\"white\",\"gridwidth\":2},\"yaxis\":{\"backgroundcolor\":\"#E5ECF6\",\"gridcolor\":\"white\",\"linecolor\":\"white\",\"showbackground\":true,\"ticks\":\"\",\"zerolinecolor\":\"white\",\"gridwidth\":2},\"zaxis\":{\"backgroundcolor\":\"#E5ECF6\",\"gridcolor\":\"white\",\"linecolor\":\"white\",\"showbackground\":true,\"ticks\":\"\",\"zerolinecolor\":\"white\",\"gridwidth\":2}},\"shapedefaults\":{\"line\":{\"color\":\"#2a3f5f\"}},\"annotationdefaults\":{\"arrowcolor\":\"#2a3f5f\",\"arrowhead\":0,\"arrowwidth\":1},\"geo\":{\"bgcolor\":\"white\",\"landcolor\":\"#E5ECF6\",\"subunitcolor\":\"white\",\"showland\":true,\"showlakes\":true,\"lakecolor\":\"white\"},\"title\":{\"x\":0.05},\"mapbox\":{\"style\":\"light\"}}},\"xaxis\":{\"anchor\":\"y\",\"domain\":[0.0,1.0],\"title\":{\"text\":\"Geodesic Duration Time\",\"font\":{\"family\":\"CMU\",\"size\":15}},\"tickfont\":{\"family\":\"CMU\",\"size\":15}},\"yaxis\":{\"anchor\":\"x\",\"domain\":[0.0,1.0],\"title\":{\"text\":\"Geodesic Coef Error\",\"font\":{\"family\":\"CMU\",\"size\":15}},\"tickfont\":{\"family\":\"CMU\",\"size\":15}},\"legend\":{\"title\":{\"text\":\"Linear Residuals: 1 = True\"},\"tracegroupgap\":0,\"font\":{\"family\":\"CMU\",\"size\":15}},\"margin\":{\"t\":60},\"title\":{\"font\":{\"family\":\"CMU\",\"size\":15}},\"width\":650,\"height\":370},                        {\"responsive\": true}                    ).then(function(){\n",
       "                            \n",
       "var gd = document.getElementById('4ec1c320-033c-4e44-b277-f84a6c07ceca');\n",
       "var x = new MutationObserver(function (mutations, observer) {{\n",
       "        var display = window.getComputedStyle(gd).display;\n",
       "        if (!display || display === 'none') {{\n",
       "            console.log([gd, 'removed!']);\n",
       "            Plotly.purge(gd);\n",
       "            observer.disconnect();\n",
       "        }}\n",
       "}});\n",
       "\n",
       "// Listen for the removal of the full notebook cells\n",
       "var notebookContainer = gd.closest('#notebook-container');\n",
       "if (notebookContainer) {{\n",
       "    x.observe(notebookContainer, {childList: true});\n",
       "}}\n",
       "\n",
       "// Listen for the clearing of the current output cell\n",
       "var outputEl = gd.closest('.output');\n",
       "if (outputEl) {{\n",
       "    x.observe(outputEl, {childList: true});\n",
       "}}\n",
       "\n",
       "                        })                };                });            </script>        </div>"
      ]
     },
     "metadata": {},
     "output_type": "display_data"
    }
   ],
   "source": [
    "diff_scatter_grouped(\n",
    "    colored_by=\"linear_residuals_colors\",\n",
    "    marked_by=\"geodesic_coef_err\",\n",
    "    diff_seq=\"geodesic_coef_err\",\n",
    "    df = \"hypersphere\"\n",
    ")"
   ]
  },
  {
   "cell_type": "markdown",
   "id": "33403830-2aec-4150-852c-5e463d63bc7b",
   "metadata": {},
   "source": [
    "# Hyperboloid plot"
   ]
  },
  {
   "cell_type": "code",
   "execution_count": 33,
   "id": "8695dc86-c948-4fe5-bf64-92586d461170",
   "metadata": {},
   "outputs": [
    {
     "data": {
      "application/vnd.plotly.v1+json": {
       "config": {
        "plotlyServerURL": "https://plot.ly"
       },
       "data": [
        {
         "hovertemplate": "color=0<br>symbol=0.5056846042494868<br>x=%{x}<br>y=%{y}<extra></extra>",
         "legendgroup": "0, 0.5056846042494868",
         "marker": {
          "color": "#fde725",
          "opacity": 0.9,
          "size": 9,
          "symbol": "square"
         },
         "mode": "markers",
         "name": "0, 0.5056846042494868",
         "orientation": "v",
         "showlegend": true,
         "type": "scatter",
         "x": [
          2800.712919235229,
          2807.5130939483643,
          2765.150284767151,
          2816.803479194641,
          2758.172106742859,
          2787.4316215515137,
          2804.262924194336,
          2804.0531396865845,
          2762.757921218872,
          2675.674748420716,
          2802.537107467652,
          2781.734204292298,
          2716.2234783172607,
          2822.424864768982,
          2814.810490608216,
          2806.854557991028,
          2801.797127723694,
          2792.09258556366,
          2833.2343101501465,
          2768.690514564514,
          2611.478352546692,
          2679.0457248687744,
          2699.3205308914185,
          2398.815512657165,
          2799.0548610687256,
          2720.4550981521606,
          2778.934431076049,
          2793.549513816833,
          2770.041060447693,
          2803.5495042800903,
          2759.3703269958496,
          2735.2394580841064,
          2807.558536529541,
          2745.315408706665,
          2751.53546333313,
          2690.887880325318,
          2799.5299577713013,
          2805.295443534851,
          2803.3658742904663,
          2792.626261711121,
          2868.300461769104,
          2746.440482139587,
          2861.836290359497,
          2800.0190496444707,
          2838.784646987915,
          2713.374185562133,
          2556.0471773147583,
          2807.91757106781,
          2820.1552629470825,
          2793.976163864136,
          2806.706166267395,
          2818.620991706848,
          2796.172451972961,
          2791.391563415528,
          2770.3084707260127,
          2521.9417810440063,
          2752.267050743103,
          2803.143286705017,
          2725.239109992981,
          2695.2288389205933,
          2733.5352420806885,
          2759.0664625167847,
          2730.5659532547,
          2702.407813072205,
          2811.422634124756,
          2797.396183013916,
          2797.472715377808,
          2694.8060274124146,
          2774.8636722564697,
          2768.541121482849,
          2666.119408607483,
          2797.526907920838,
          2807.783102989197,
          2785.401463508606,
          2822.760534286499,
          2803.825116157532,
          2772.0234632492065,
          2727.984642982483,
          2807.2692155838013,
          2723.602056503296,
          2829.9131393432617,
          2681.7090034484863,
          2804.236054420471,
          2716.666603088379,
          2828.417587280273,
          2893.372893333435,
          2713.147282600403,
          2829.1311740875244,
          2746.968650817871,
          2404.338788986206,
          2727.758193016052,
          2783.842730522156,
          2837.67671585083,
          2763.636803627014,
          2839.548659324646,
          2782.733035087585,
          2802.3311853408813,
          2798.556089401245,
          2789.705061912537,
          2807.484531402588,
          2776.6582250595093,
          2765.307331085205,
          2795.109796524048,
          2621.2952375411987,
          2783.0041885375977,
          2806.44211769104,
          2852.73871421814,
          2846.702122688293,
          2839.1799211502075,
          2810.1248502731323,
          2828.5245418548584,
          2732.7130556106567,
          2843.26696395874,
          2796.7879056930547,
          2845.2810049057007,
          2790.8427238464355,
          2804.3487071990967,
          2708.093762397766,
          2850.7015466690063,
          2745.964503288269,
          2780.443000793457,
          2790.1811122894287,
          2770.0093269348145,
          2764.4160270690923,
          2784.620046615601,
          2823.518753051757,
          2824.8688220977783,
          2808.5887908935547,
          2781.161952018737,
          2775.5937099456787,
          2815.702033042908,
          2812.614178657532,
          2869.4026708602905,
          2790.8955097198486,
          2838.602590560913,
          2806.9831371307373,
          2787.157964706421,
          2730.811309814453,
          2494.210290908813,
          2812.1273279190063,
          2787.147355079651,
          2802.7547597885127,
          2780.737972259521,
          2833.328604698181,
          2590.4383182525635,
          2728.920555114746,
          2839.7541522979736,
          2816.1540985107426,
          2878.539347648621,
          2817.12908744812,
          2856.7546367645264,
          2814.8610830307007,
          2676.992917060852,
          2700.300621986389,
          2758.8823795318604,
          2750.2962112426762,
          2817.645168304444,
          2781.3666582107544,
          2785.3387355804443,
          2736.2849950790405
         ],
         "xaxis": "x",
         "y": [
          0.5056846042494868,
          0.5056846042494868,
          0.5056846042494868,
          0.5056846042494868,
          0.5056846042494868,
          0.5056846042494868,
          0.5056846042494868,
          0.5056846042494868,
          0.5056846042494868,
          0.5056846042494868,
          0.5056846042494868,
          0.5056846042494868,
          0.5056846042494868,
          0.5056846042494868,
          0.5056846042494868,
          0.5056846042494868,
          0.5056846042494868,
          0.5056846042494868,
          0.5056846042494868,
          0.5056846042494868,
          0.5056846042494868,
          0.5056846042494868,
          0.5056846042494868,
          0.5056846042494868,
          0.5056846042494868,
          0.5056846042494868,
          0.5056846042494868,
          0.5056846042494868,
          0.5056846042494868,
          0.5056846042494868,
          0.5056846042494868,
          0.5056846042494868,
          0.5056846042494868,
          0.5056846042494868,
          0.5056846042494868,
          0.5056846042494868,
          0.5056846042494868,
          0.5056846042494868,
          0.5056846042494868,
          0.5056846042494868,
          0.5056846042494868,
          0.5056846042494868,
          0.5056846042494868,
          0.5056846042494868,
          0.5056846042494868,
          0.5056846042494868,
          0.5056846042494868,
          0.5056846042494868,
          0.5056846042494868,
          0.5056846042494868,
          0.5056846042494868,
          0.5056846042494868,
          0.5056846042494868,
          0.5056846042494868,
          0.5056846042494868,
          0.5056846042494868,
          0.5056846042494868,
          0.5056846042494868,
          0.5056846042494868,
          0.5056846042494868,
          0.5056846042494868,
          0.5056846042494868,
          0.5056846042494868,
          0.5056846042494868,
          0.5056846042494868,
          0.5056846042494868,
          0.5056846042494868,
          0.5056846042494868,
          0.5056846042494868,
          0.5056846042494868,
          0.5056846042494868,
          0.5056846042494868,
          0.5056846042494868,
          0.5056846042494868,
          0.5056846042494868,
          0.5056846042494868,
          0.5056846042494868,
          0.5056846042494868,
          0.5056846042494868,
          0.5056846042494868,
          0.5056846042494868,
          0.5056846042494868,
          0.5056846042494868,
          0.5056846042494868,
          0.5056846042494868,
          0.5056846042494868,
          0.5056846042494868,
          0.5056846042494868,
          0.5056846042494868,
          0.5056846042494868,
          0.5056846042494868,
          0.5056846042494868,
          0.5056846042494868,
          0.5056846042494868,
          0.5056846042494868,
          0.5056846042494868,
          0.5056846042494868,
          0.5056846042494868,
          0.5056846042494868,
          0.5056846042494868,
          0.5056846042494868,
          0.5056846042494868,
          0.5056846042494868,
          0.5056846042494868,
          0.5056846042494868,
          0.5056846042494868,
          0.5056846042494868,
          0.5056846042494868,
          0.5056846042494868,
          0.5056846042494868,
          0.5056846042494868,
          0.5056846042494868,
          0.5056846042494868,
          0.5056846042494868,
          0.5056846042494868,
          0.5056846042494868,
          0.5056846042494868,
          0.5056846042494868,
          0.5056846042494868,
          0.5056846042494868,
          0.5056846042494868,
          0.5056846042494868,
          0.5056846042494868,
          0.5056846042494868,
          0.5056846042494868,
          0.5056846042494868,
          0.5056846042494868,
          0.5056846042494868,
          0.5056846042494868,
          0.5056846042494868,
          0.5056846042494868,
          0.5056846042494868,
          0.5056846042494868,
          0.5056846042494868,
          0.5056846042494868,
          0.5056846042494868,
          0.5056846042494868,
          0.5056846042494868,
          0.5056846042494868,
          0.5056846042494868,
          0.5056846042494868,
          0.5056846042494868,
          0.5056846042494868,
          0.5056846042494868,
          0.5056846042494868,
          0.5056846042494868,
          0.5056846042494868,
          0.5056846042494868,
          0.5056846042494868,
          0.5056846042494868,
          0.5056846042494868,
          0.5056846042494868,
          0.5056846042494868,
          0.5056846042494868,
          0.5056846042494868,
          0.5056846042494868,
          0.5056846042494868,
          0.5056846042494868,
          0.5056846042494868,
          0.5056846042494868
         ],
         "yaxis": "y"
        },
        {
         "hovertemplate": "color=0<br>symbol=0.5057685592288556<br>x=%{x}<br>y=%{y}<extra></extra>",
         "legendgroup": "0, 0.5057685592288556",
         "marker": {
          "color": "#fde725",
          "opacity": 0.9,
          "size": 9,
          "symbol": "cross"
         },
         "mode": "markers",
         "name": "0, 0.5057685592288556",
         "orientation": "v",
         "showlegend": true,
         "type": "scatter",
         "x": [
          1733.015513420105,
          1780.5794954299927,
          1797.9284048080444,
          1778.3300638198853,
          1742.9835081100464,
          1740.9194469451904,
          1761.6652250289917,
          1777.6577949523926,
          1736.5777730941772,
          1798.0134725570679,
          1740.7110214233398,
          1756.7402601242065,
          1738.3877277374268,
          1764.234972000122,
          1167.1791315078735,
          1760.318398475647,
          1809.137749671936,
          1799.729347229004,
          1708.0971479415894,
          1796.6469049453735,
          1711.8890523910522,
          1784.2239379882812,
          1785.5302333831787,
          1805.4766416549683,
          1796.311855316162,
          1775.0668048858643,
          1788.7180805206299,
          1757.5528144836426,
          1776.8158912658691,
          1790.5154705047607,
          1753.8076877593994,
          1767.216944694519,
          1771.4525938034058,
          1773.5318660736084,
          1754.4678211212158,
          1660.6961488723755,
          1732.2991847991943,
          1789.1932964324951,
          1742.853832244873,
          1732.8596353530884,
          1769.007658958435,
          1691.0776615142822,
          1748.6661434173584,
          1778.4008502960205,
          1703.0555248260498,
          1722.5290298461914,
          1790.3775453567505,
          1828.5943508148198,
          1684.3418598175049,
          1775.9021759033203,
          1713.5270833969116,
          1704.3352603912354,
          542.6001071929932,
          1081.6920042037964,
          1679.9261808395386,
          1741.2360429763794,
          1764.1855478286743,
          1828.5733222961421,
          1765.9486770629883,
          1766.591501235962,
          1724.4879245758057,
          1666.3825273513794,
          1630.8669805526733,
          1727.5269746780396,
          1782.1326971054077,
          1755.7578802108765,
          1769.3369626998901,
          1797.5536584854126,
          1805.7322978973389,
          1770.5153703689575,
          1767.3980951309204,
          1656.992530822754,
          1772.308349609375,
          1739.9730205535889,
          1738.0593299865723,
          1749.1705656051636,
          1725.804328918457,
          1736.8640184402466,
          1576.384663581848,
          1747.1211433410645,
          1663.548994064331,
          1795.6860542297363,
          1771.7268705368042,
          1751.2096405029297,
          1781.986427307129,
          1781.0314178466797,
          1780.1385641098022,
          1749.0486145019531,
          1755.4739475250244,
          1705.771279335022,
          1770.0061798095703,
          1764.3438339233398,
          1750.638508796692,
          1805.0123453140259,
          1759.8992586135864,
          1828.3150911331177,
          1617.0541763305664,
          1766.96937084198,
          1789.6127223968506,
          1837.569665908813,
          1742.7697658538818,
          1628.0043125152588,
          1790.915846824646,
          1791.3450479507446,
          1613.6072874069214,
          1639.8974418640137,
          1751.0163068771362,
          1729.4304847717285,
          1755.1748514175415,
          1773.9986658096313,
          1803.5053491592407,
          1736.9816303253174,
          1780.5549144744873,
          1726.226782798767,
          1787.4803304672241,
          1771.969723701477,
          1672.550892829895,
          1714.6316051483154,
          1731.4239263534546,
          1688.5740280151367,
          1793.5590267181396,
          1773.0361938476562,
          1773.6217975616455,
          1761.3361358642578,
          1704.0529012680054,
          1742.7014350891113,
          1753.865671157837,
          1161.4076852798462,
          1769.800591468811,
          1717.3372268676758,
          1542.8655862808228,
          1165.5648708343506,
          1764.326000213623,
          1813.6112689971924,
          1790.1399612426758,
          1748.7191200256348,
          1668.8441276550293,
          1801.0526418685913,
          1822.049641609192,
          1712.0705127716064,
          1828.452086448669,
          1815.4703855514526,
          1825.57532787323,
          1768.6239004135132,
          1779.9898862838745,
          1593.0078029632568,
          1646.684741973877,
          1688.8300895690918,
          1761.2802982330322,
          1733.817195892334,
          1685.4784488677979,
          1762.5926494598389,
          1678.0173063278198,
          1719.8853015899658,
          1711.360764503479,
          1756.6681623458862,
          1719.097924232483,
          1729.1381120681763,
          1734.3058109283447,
          1784.3334913253784
         ],
         "xaxis": "x",
         "y": [
          0.5057685592288556,
          0.5057685592288556,
          0.5057685592288556,
          0.5057685592288556,
          0.5057685592288556,
          0.5057685592288556,
          0.5057685592288556,
          0.5057685592288556,
          0.5057685592288556,
          0.5057685592288556,
          0.5057685592288556,
          0.5057685592288556,
          0.5057685592288556,
          0.5057685592288556,
          0.5057685592288556,
          0.5057685592288556,
          0.5057685592288556,
          0.5057685592288556,
          0.5057685592288556,
          0.5057685592288556,
          0.5057685592288556,
          0.5057685592288556,
          0.5057685592288556,
          0.5057685592288556,
          0.5057685592288556,
          0.5057685592288556,
          0.5057685592288556,
          0.5057685592288556,
          0.5057685592288556,
          0.5057685592288556,
          0.5057685592288556,
          0.5057685592288556,
          0.5057685592288556,
          0.5057685592288556,
          0.5057685592288556,
          0.5057685592288556,
          0.5057685592288556,
          0.5057685592288556,
          0.5057685592288556,
          0.5057685592288556,
          0.5057685592288556,
          0.5057685592288556,
          0.5057685592288556,
          0.5057685592288556,
          0.5057685592288556,
          0.5057685592288556,
          0.5057685592288556,
          0.5057685592288556,
          0.5057685592288556,
          0.5057685592288556,
          0.5057685592288556,
          0.5057685592288556,
          0.5057685592288556,
          0.5057685592288556,
          0.5057685592288556,
          0.5057685592288556,
          0.5057685592288556,
          0.5057685592288556,
          0.5057685592288556,
          0.5057685592288556,
          0.5057685592288556,
          0.5057685592288556,
          0.5057685592288556,
          0.5057685592288556,
          0.5057685592288556,
          0.5057685592288556,
          0.5057685592288556,
          0.5057685592288556,
          0.5057685592288556,
          0.5057685592288556,
          0.5057685592288556,
          0.5057685592288556,
          0.5057685592288556,
          0.5057685592288556,
          0.5057685592288556,
          0.5057685592288556,
          0.5057685592288556,
          0.5057685592288556,
          0.5057685592288556,
          0.5057685592288556,
          0.5057685592288556,
          0.5057685592288556,
          0.5057685592288556,
          0.5057685592288556,
          0.5057685592288556,
          0.5057685592288556,
          0.5057685592288556,
          0.5057685592288556,
          0.5057685592288556,
          0.5057685592288556,
          0.5057685592288556,
          0.5057685592288556,
          0.5057685592288556,
          0.5057685592288556,
          0.5057685592288556,
          0.5057685592288556,
          0.5057685592288556,
          0.5057685592288556,
          0.5057685592288556,
          0.5057685592288556,
          0.5057685592288556,
          0.5057685592288556,
          0.5057685592288556,
          0.5057685592288556,
          0.5057685592288556,
          0.5057685592288556,
          0.5057685592288556,
          0.5057685592288556,
          0.5057685592288556,
          0.5057685592288556,
          0.5057685592288556,
          0.5057685592288556,
          0.5057685592288556,
          0.5057685592288556,
          0.5057685592288556,
          0.5057685592288556,
          0.5057685592288556,
          0.5057685592288556,
          0.5057685592288556,
          0.5057685592288556,
          0.5057685592288556,
          0.5057685592288556,
          0.5057685592288556,
          0.5057685592288556,
          0.5057685592288556,
          0.5057685592288556,
          0.5057685592288556,
          0.5057685592288556,
          0.5057685592288556,
          0.5057685592288556,
          0.5057685592288556,
          0.5057685592288556,
          0.5057685592288556,
          0.5057685592288556,
          0.5057685592288556,
          0.5057685592288556,
          0.5057685592288556,
          0.5057685592288556,
          0.5057685592288556,
          0.5057685592288556,
          0.5057685592288556,
          0.5057685592288556,
          0.5057685592288556,
          0.5057685592288556,
          0.5057685592288556,
          0.5057685592288556,
          0.5057685592288556,
          0.5057685592288556,
          0.5057685592288556,
          0.5057685592288556,
          0.5057685592288556,
          0.5057685592288556,
          0.5057685592288556,
          0.5057685592288556,
          0.5057685592288556,
          0.5057685592288556,
          0.5057685592288556,
          0.5057685592288556,
          0.5057685592288556,
          0.5057685592288556
         ],
         "yaxis": "y"
        },
        {
         "hovertemplate": "color=1<br>symbol=2.289242336133299<br>x=%{x}<br>y=%{y}<extra></extra>",
         "legendgroup": "1, 2.289242336133299",
         "marker": {
          "color": "#b5de2b",
          "opacity": 0.9,
          "size": 9,
          "symbol": "x"
         },
         "mode": "markers",
         "name": "1, 2.289242336133299",
         "orientation": "v",
         "showlegend": true,
         "type": "scatter",
         "x": [
          3271.6646909713745,
          3241.793155670166,
          3221.234393119812,
          3213.0258560180664,
          3249.8037815093994,
          3168.4552431106567,
          3224.1058111190805,
          3208.0527305603027,
          3293.0189847946167,
          3244.223690032959,
          3284.5325469970703,
          3265.375590324402,
          3169.33331489563,
          3201.9588947296143,
          3186.908221244812,
          3236.558222770691,
          3220.1202392578125,
          3272.9636192321777,
          3180.40075302124,
          3168.950676918029,
          3195.9733486175537,
          3274.9428510665894,
          3123.6698865890503,
          3339.9811506271362,
          3256.37788772583,
          3192.3243045806885,
          3218.3738231658936,
          3242.9088592529297,
          3159.433603286743,
          3185.984444618225,
          3077.104139328003,
          3268.365216255188,
          3230.7365894317627,
          3210.2160215377808,
          3341.4246559143066,
          3143.245506286621,
          3267.1014070510864,
          3201.5488624572754,
          3198.431634902954,
          3253.7190914154053,
          3271.248435974121,
          3153.4196376800537,
          3202.557373046875,
          3275.7153511047363,
          3309.8407983779907,
          3276.4567136764526,
          3224.1058349609375,
          3329.4020891189575,
          3242.2847032546997,
          3204.4782161712646,
          3294.0337896347046,
          3269.014286994934,
          3335.0619792938232,
          3267.8049325942993,
          3234.8248720169067,
          3275.4284858703613,
          3290.034580230713,
          3187.0415687561035,
          3291.199779510498,
          3303.560709953308,
          3293.7055826187134,
          2816.62118434906,
          3291.621232032776,
          3281.3913106918335,
          3224.2292642593384,
          3285.862970352173,
          3243.409276008606,
          3283.0487489700317,
          2684.8891019821167,
          2785.545063018799,
          3106.6187381744385,
          3287.1796369552612,
          3332.5619220733643,
          3283.1905364990234,
          3211.0084533691406,
          3209.1140508651733,
          3139.370441436768,
          3013.8883113861084,
          3015.314030647278,
          3209.9260091781616,
          3247.0545530319214,
          3147.574782371521,
          3286.715817451477,
          3255.564546585083,
          3221.756649017334,
          3174.353790283203,
          3266.4225339889526,
          3149.053692817688,
          3290.339732170105,
          3228.8407802581787,
          3293.805170059204,
          3159.1976165771484,
          3121.1261510849,
          3184.3567848205566,
          3227.509617805481,
          3187.557172775269,
          3249.7977018356323,
          3255.847644805908,
          3109.4334840774536,
          3179.349565505981,
          3186.169958114624,
          3235.4057788848877,
          3226.326608657837,
          3203.26189994812,
          3234.411883354187,
          3181.523323059082,
          3220.159411430359,
          3218.983817100525,
          3196.9114303588867,
          3274.7076749801645,
          3307.666563987732,
          3326.8775701522827,
          3187.8295421600346,
          3221.3104724884033,
          3193.3349609375,
          3258.5307359695435,
          3267.3856019973755,
          3148.01926612854,
          3269.520354270935,
          3193.407130241394,
          3238.087272644043,
          3220.0180292129517,
          3249.0243434906006,
          3248.262619972229,
          3211.9230031967163,
          3252.2839307785034,
          3286.643362045288,
          3209.098744392395,
          3197.7784395217896,
          3272.1176385879517,
          3304.473376274109,
          3221.3523864746094,
          3242.5532579421997,
          3196.2384462356567,
          3216.5591955184937,
          3182.7110767364507,
          3184.835124015808,
          3211.9629621505737,
          3211.8960857391357,
          3206.8724155426025,
          3111.112165451049,
          3169.3678617477417,
          3225.310754776001,
          3163.8007640838623,
          3294.6274518966675,
          3210.747814178467,
          3250.896191596985,
          3260.479736328125,
          3211.723232269287,
          3260.1847887039185,
          3207.8399419784546,
          3208.40744972229,
          3262.9944801330566,
          3205.6081771850586,
          3318.043065071106,
          3228.122329711914,
          3237.959408760071,
          3269.1492319107056,
          3236.566662788391,
          3266.2242889404297
         ],
         "xaxis": "x",
         "y": [
          2.289242336133299,
          2.289242336133299,
          2.289242336133299,
          2.289242336133299,
          2.289242336133299,
          2.289242336133299,
          2.289242336133299,
          2.289242336133299,
          2.289242336133299,
          2.289242336133299,
          2.289242336133299,
          2.289242336133299,
          2.289242336133299,
          2.289242336133299,
          2.289242336133299,
          2.289242336133299,
          2.289242336133299,
          2.289242336133299,
          2.289242336133299,
          2.289242336133299,
          2.289242336133299,
          2.289242336133299,
          2.289242336133299,
          2.289242336133299,
          2.289242336133299,
          2.289242336133299,
          2.289242336133299,
          2.289242336133299,
          2.289242336133299,
          2.289242336133299,
          2.289242336133299,
          2.289242336133299,
          2.289242336133299,
          2.289242336133299,
          2.289242336133299,
          2.289242336133299,
          2.289242336133299,
          2.289242336133299,
          2.289242336133299,
          2.289242336133299,
          2.289242336133299,
          2.289242336133299,
          2.289242336133299,
          2.289242336133299,
          2.289242336133299,
          2.289242336133299,
          2.289242336133299,
          2.289242336133299,
          2.289242336133299,
          2.289242336133299,
          2.289242336133299,
          2.289242336133299,
          2.289242336133299,
          2.289242336133299,
          2.289242336133299,
          2.289242336133299,
          2.289242336133299,
          2.289242336133299,
          2.289242336133299,
          2.289242336133299,
          2.289242336133299,
          2.289242336133299,
          2.289242336133299,
          2.289242336133299,
          2.289242336133299,
          2.289242336133299,
          2.289242336133299,
          2.289242336133299,
          2.289242336133299,
          2.289242336133299,
          2.289242336133299,
          2.289242336133299,
          2.289242336133299,
          2.289242336133299,
          2.289242336133299,
          2.289242336133299,
          2.289242336133299,
          2.289242336133299,
          2.289242336133299,
          2.289242336133299,
          2.289242336133299,
          2.289242336133299,
          2.289242336133299,
          2.289242336133299,
          2.289242336133299,
          2.289242336133299,
          2.289242336133299,
          2.289242336133299,
          2.289242336133299,
          2.289242336133299,
          2.289242336133299,
          2.289242336133299,
          2.289242336133299,
          2.289242336133299,
          2.289242336133299,
          2.289242336133299,
          2.289242336133299,
          2.289242336133299,
          2.289242336133299,
          2.289242336133299,
          2.289242336133299,
          2.289242336133299,
          2.289242336133299,
          2.289242336133299,
          2.289242336133299,
          2.289242336133299,
          2.289242336133299,
          2.289242336133299,
          2.289242336133299,
          2.289242336133299,
          2.289242336133299,
          2.289242336133299,
          2.289242336133299,
          2.289242336133299,
          2.289242336133299,
          2.289242336133299,
          2.289242336133299,
          2.289242336133299,
          2.289242336133299,
          2.289242336133299,
          2.289242336133299,
          2.289242336133299,
          2.289242336133299,
          2.289242336133299,
          2.289242336133299,
          2.289242336133299,
          2.289242336133299,
          2.289242336133299,
          2.289242336133299,
          2.289242336133299,
          2.289242336133299,
          2.289242336133299,
          2.289242336133299,
          2.289242336133299,
          2.289242336133299,
          2.289242336133299,
          2.289242336133299,
          2.289242336133299,
          2.289242336133299,
          2.289242336133299,
          2.289242336133299,
          2.289242336133299,
          2.289242336133299,
          2.289242336133299,
          2.289242336133299,
          2.289242336133299,
          2.289242336133299,
          2.289242336133299,
          2.289242336133299,
          2.289242336133299,
          2.289242336133299,
          2.289242336133299,
          2.289242336133299,
          2.289242336133299,
          2.289242336133299,
          2.289242336133299,
          2.289242336133299,
          2.289242336133299,
          2.289242336133299,
          2.289242336133299
         ],
         "yaxis": "y"
        },
        {
         "hovertemplate": "color=1<br>symbol=2.289230403071884<br>x=%{x}<br>y=%{y}<extra></extra>",
         "legendgroup": "1, 2.289230403071884",
         "marker": {
          "color": "#b5de2b",
          "opacity": 0.9,
          "size": 9,
          "symbol": "diamond"
         },
         "mode": "markers",
         "name": "1, 2.289230403071884",
         "orientation": "v",
         "showlegend": true,
         "type": "scatter",
         "x": [
          1851.395297050476,
          1824.830842018127,
          1793.0455923080444,
          1817.8831577301025,
          1841.26455783844,
          1772.226357460022,
          1845.7886695861816,
          1755.6628227233887,
          1840.8475160598755,
          1868.9229011535645,
          1822.354006767273,
          1773.1467723846436,
          1820.2013492584229,
          1792.6296949386597,
          1831.9629669189453,
          1795.8357572555542,
          1854.6350240707402,
          1783.7090015411377,
          1782.9442739486694,
          1798.5806941986084,
          1837.66508102417,
          1798.63862991333,
          1784.391188621521,
          1801.5807628631592,
          1804.4897079467773,
          1766.2902355194092,
          1794.1758155822754,
          1787.6248359680176,
          1841.329264640808,
          1806.0530424118037,
          1725.5689859390259,
          1742.3552513122559,
          1755.8499097824097,
          1727.476692199707,
          1682.7224969863892,
          1769.3587064743042,
          1835.4465007781982,
          1810.6322050094604,
          896.039891242981,
          1826.5315294265747,
          1770.029902458191,
          1774.5534896850586,
          1859.8399639129639,
          1772.0696687698364,
          1763.0861282348633,
          1768.9284801483154,
          1867.497706413269,
          1820.7185983657841,
          1829.477167129517,
          1873.5584735870361,
          1865.8429145812988,
          1796.5154886245728,
          1460.655927658081,
          1816.0094499588013,
          1770.4829692840576,
          1788.7088060379028,
          1806.9038152694707,
          1844.542026519775,
          1765.196442604065,
          1751.9051313400269,
          1867.6003694534302,
          1791.121506690979,
          1804.96518611908,
          1724.9411582946777,
          1829.1396856307983,
          1722.9667901992798,
          1789.491367340088,
          1871.0224866867065,
          1787.7371311187744,
          1763.7626647949219,
          1805.465173721313,
          1848.2414722442627,
          1807.949709892273,
          1827.4965286254883,
          1807.941222190857,
          1833.910441398621,
          1784.0876817703247,
          1807.582974433899,
          1828.510570526123,
          1806.0466766357426,
          1760.0744009017944,
          1772.9115724563599,
          1788.681697845459,
          1832.7539920806885,
          1816.0143613815308,
          1796.9933986663818,
          1767.7622079849243,
          1670.4193353652954,
          1682.1482181549072,
          1822.9271411895752,
          1800.2811431884766,
          1866.1168098449707,
          1776.3708591461182,
          1833.8403463363647,
          1813.3680820465088,
          1819.344043731689,
          1697.0353841781616,
          1800.601887702942,
          1782.0793867111206,
          1672.5563049316406,
          1814.291787147522,
          1866.740369796753,
          1833.5385084152222,
          1810.0197792053223,
          1807.417750358581,
          1801.8835306167603,
          1841.284728050232,
          1818.0797100067139,
          1801.8114805221562,
          1793.7426805496216,
          1816.131472587585,
          1783.9706897735596,
          1803.4264087676997,
          1828.4003257751465,
          1556.7651748657229,
          1772.848916053772,
          1828.4939050674438,
          1841.213059425354,
          1859.4290256500244,
          1757.0225715637207,
          1793.29195022583,
          1779.8580884933472,
          1812.0802640914922,
          1743.993854522705,
          1779.6140909194946,
          1829.366946220398,
          1777.9029369354248,
          1795.760154724121,
          1765.5628681182861,
          1818.884301185608,
          1803.2579898834229,
          1873.473310470581,
          1743.3268785476685,
          1803.1974792480469,
          1799.4686365127563,
          1826.0891437530522,
          1851.003384590149,
          1837.7859115600581,
          1721.695613861084,
          1821.3316440582275,
          1817.0485019683842,
          1788.097858428955,
          1788.0439758300781,
          1764.1987800598145,
          1779.9452066421509,
          1753.8355588912964,
          1720.5957651138306,
          1827.9669284820561,
          1799.6501207351685,
          1817.5037860870361,
          1726.7608880996704,
          1823.077630996704,
          1831.8941831588745,
          1822.1253633499146,
          1814.3061637878411,
          1790.5700206756592,
          1768.6455965042114,
          1802.7034044265747,
          1814.152717590332,
          1847.3119974136357
         ],
         "xaxis": "x",
         "y": [
          2.289230403071884,
          2.289230403071884,
          2.289230403071884,
          2.289230403071884,
          2.289230403071884,
          2.289230403071884,
          2.289230403071884,
          2.289230403071884,
          2.289230403071884,
          2.289230403071884,
          2.289230403071884,
          2.289230403071884,
          2.289230403071884,
          2.289230403071884,
          2.289230403071884,
          2.289230403071884,
          2.289230403071884,
          2.289230403071884,
          2.289230403071884,
          2.289230403071884,
          2.289230403071884,
          2.289230403071884,
          2.289230403071884,
          2.289230403071884,
          2.289230403071884,
          2.289230403071884,
          2.289230403071884,
          2.289230403071884,
          2.289230403071884,
          2.289230403071884,
          2.289230403071884,
          2.289230403071884,
          2.289230403071884,
          2.289230403071884,
          2.289230403071884,
          2.289230403071884,
          2.289230403071884,
          2.289230403071884,
          2.289230403071884,
          2.289230403071884,
          2.289230403071884,
          2.289230403071884,
          2.289230403071884,
          2.289230403071884,
          2.289230403071884,
          2.289230403071884,
          2.289230403071884,
          2.289230403071884,
          2.289230403071884,
          2.289230403071884,
          2.289230403071884,
          2.289230403071884,
          2.289230403071884,
          2.289230403071884,
          2.289230403071884,
          2.289230403071884,
          2.289230403071884,
          2.289230403071884,
          2.289230403071884,
          2.289230403071884,
          2.289230403071884,
          2.289230403071884,
          2.289230403071884,
          2.289230403071884,
          2.289230403071884,
          2.289230403071884,
          2.289230403071884,
          2.289230403071884,
          2.289230403071884,
          2.289230403071884,
          2.289230403071884,
          2.289230403071884,
          2.289230403071884,
          2.289230403071884,
          2.289230403071884,
          2.289230403071884,
          2.289230403071884,
          2.289230403071884,
          2.289230403071884,
          2.289230403071884,
          2.289230403071884,
          2.289230403071884,
          2.289230403071884,
          2.289230403071884,
          2.289230403071884,
          2.289230403071884,
          2.289230403071884,
          2.289230403071884,
          2.289230403071884,
          2.289230403071884,
          2.289230403071884,
          2.289230403071884,
          2.289230403071884,
          2.289230403071884,
          2.289230403071884,
          2.289230403071884,
          2.289230403071884,
          2.289230403071884,
          2.289230403071884,
          2.289230403071884,
          2.289230403071884,
          2.289230403071884,
          2.289230403071884,
          2.289230403071884,
          2.289230403071884,
          2.289230403071884,
          2.289230403071884,
          2.289230403071884,
          2.289230403071884,
          2.289230403071884,
          2.289230403071884,
          2.289230403071884,
          2.289230403071884,
          2.289230403071884,
          2.289230403071884,
          2.289230403071884,
          2.289230403071884,
          2.289230403071884,
          2.289230403071884,
          2.289230403071884,
          2.289230403071884,
          2.289230403071884,
          2.289230403071884,
          2.289230403071884,
          2.289230403071884,
          2.289230403071884,
          2.289230403071884,
          2.289230403071884,
          2.289230403071884,
          2.289230403071884,
          2.289230403071884,
          2.289230403071884,
          2.289230403071884,
          2.289230403071884,
          2.289230403071884,
          2.289230403071884,
          2.289230403071884,
          2.289230403071884,
          2.289230403071884,
          2.289230403071884,
          2.289230403071884,
          2.289230403071884,
          2.289230403071884,
          2.289230403071884,
          2.289230403071884,
          2.289230403071884,
          2.289230403071884,
          2.289230403071884,
          2.289230403071884,
          2.289230403071884,
          2.289230403071884,
          2.289230403071884,
          2.289230403071884,
          2.289230403071884,
          2.289230403071884,
          2.289230403071884,
          2.289230403071884,
          2.289230403071884,
          2.289230403071884,
          2.289230403071884
         ],
         "yaxis": "y"
        }
       ],
       "layout": {
        "height": 370,
        "legend": {
         "font": {
          "family": "CMU",
          "size": 15
         },
         "title": {
          "text": "Linear Residuals: 1 = True"
         },
         "tracegroupgap": 0
        },
        "margin": {
         "t": 60
        },
        "template": {
         "data": {
          "bar": [
           {
            "error_x": {
             "color": "#2a3f5f"
            },
            "error_y": {
             "color": "#2a3f5f"
            },
            "marker": {
             "line": {
              "color": "#E5ECF6",
              "width": 0.5
             },
             "pattern": {
              "fillmode": "overlay",
              "size": 10,
              "solidity": 0.2
             }
            },
            "type": "bar"
           }
          ],
          "barpolar": [
           {
            "marker": {
             "line": {
              "color": "#E5ECF6",
              "width": 0.5
             },
             "pattern": {
              "fillmode": "overlay",
              "size": 10,
              "solidity": 0.2
             }
            },
            "type": "barpolar"
           }
          ],
          "carpet": [
           {
            "aaxis": {
             "endlinecolor": "#2a3f5f",
             "gridcolor": "white",
             "linecolor": "white",
             "minorgridcolor": "white",
             "startlinecolor": "#2a3f5f"
            },
            "baxis": {
             "endlinecolor": "#2a3f5f",
             "gridcolor": "white",
             "linecolor": "white",
             "minorgridcolor": "white",
             "startlinecolor": "#2a3f5f"
            },
            "type": "carpet"
           }
          ],
          "choropleth": [
           {
            "colorbar": {
             "outlinewidth": 0,
             "ticks": ""
            },
            "type": "choropleth"
           }
          ],
          "contour": [
           {
            "colorbar": {
             "outlinewidth": 0,
             "ticks": ""
            },
            "colorscale": [
             [
              0,
              "#0d0887"
             ],
             [
              0.1111111111111111,
              "#46039f"
             ],
             [
              0.2222222222222222,
              "#7201a8"
             ],
             [
              0.3333333333333333,
              "#9c179e"
             ],
             [
              0.4444444444444444,
              "#bd3786"
             ],
             [
              0.5555555555555556,
              "#d8576b"
             ],
             [
              0.6666666666666666,
              "#ed7953"
             ],
             [
              0.7777777777777778,
              "#fb9f3a"
             ],
             [
              0.8888888888888888,
              "#fdca26"
             ],
             [
              1,
              "#f0f921"
             ]
            ],
            "type": "contour"
           }
          ],
          "contourcarpet": [
           {
            "colorbar": {
             "outlinewidth": 0,
             "ticks": ""
            },
            "type": "contourcarpet"
           }
          ],
          "heatmap": [
           {
            "colorbar": {
             "outlinewidth": 0,
             "ticks": ""
            },
            "colorscale": [
             [
              0,
              "#0d0887"
             ],
             [
              0.1111111111111111,
              "#46039f"
             ],
             [
              0.2222222222222222,
              "#7201a8"
             ],
             [
              0.3333333333333333,
              "#9c179e"
             ],
             [
              0.4444444444444444,
              "#bd3786"
             ],
             [
              0.5555555555555556,
              "#d8576b"
             ],
             [
              0.6666666666666666,
              "#ed7953"
             ],
             [
              0.7777777777777778,
              "#fb9f3a"
             ],
             [
              0.8888888888888888,
              "#fdca26"
             ],
             [
              1,
              "#f0f921"
             ]
            ],
            "type": "heatmap"
           }
          ],
          "heatmapgl": [
           {
            "colorbar": {
             "outlinewidth": 0,
             "ticks": ""
            },
            "colorscale": [
             [
              0,
              "#0d0887"
             ],
             [
              0.1111111111111111,
              "#46039f"
             ],
             [
              0.2222222222222222,
              "#7201a8"
             ],
             [
              0.3333333333333333,
              "#9c179e"
             ],
             [
              0.4444444444444444,
              "#bd3786"
             ],
             [
              0.5555555555555556,
              "#d8576b"
             ],
             [
              0.6666666666666666,
              "#ed7953"
             ],
             [
              0.7777777777777778,
              "#fb9f3a"
             ],
             [
              0.8888888888888888,
              "#fdca26"
             ],
             [
              1,
              "#f0f921"
             ]
            ],
            "type": "heatmapgl"
           }
          ],
          "histogram": [
           {
            "marker": {
             "pattern": {
              "fillmode": "overlay",
              "size": 10,
              "solidity": 0.2
             }
            },
            "type": "histogram"
           }
          ],
          "histogram2d": [
           {
            "colorbar": {
             "outlinewidth": 0,
             "ticks": ""
            },
            "colorscale": [
             [
              0,
              "#0d0887"
             ],
             [
              0.1111111111111111,
              "#46039f"
             ],
             [
              0.2222222222222222,
              "#7201a8"
             ],
             [
              0.3333333333333333,
              "#9c179e"
             ],
             [
              0.4444444444444444,
              "#bd3786"
             ],
             [
              0.5555555555555556,
              "#d8576b"
             ],
             [
              0.6666666666666666,
              "#ed7953"
             ],
             [
              0.7777777777777778,
              "#fb9f3a"
             ],
             [
              0.8888888888888888,
              "#fdca26"
             ],
             [
              1,
              "#f0f921"
             ]
            ],
            "type": "histogram2d"
           }
          ],
          "histogram2dcontour": [
           {
            "colorbar": {
             "outlinewidth": 0,
             "ticks": ""
            },
            "colorscale": [
             [
              0,
              "#0d0887"
             ],
             [
              0.1111111111111111,
              "#46039f"
             ],
             [
              0.2222222222222222,
              "#7201a8"
             ],
             [
              0.3333333333333333,
              "#9c179e"
             ],
             [
              0.4444444444444444,
              "#bd3786"
             ],
             [
              0.5555555555555556,
              "#d8576b"
             ],
             [
              0.6666666666666666,
              "#ed7953"
             ],
             [
              0.7777777777777778,
              "#fb9f3a"
             ],
             [
              0.8888888888888888,
              "#fdca26"
             ],
             [
              1,
              "#f0f921"
             ]
            ],
            "type": "histogram2dcontour"
           }
          ],
          "mesh3d": [
           {
            "colorbar": {
             "outlinewidth": 0,
             "ticks": ""
            },
            "type": "mesh3d"
           }
          ],
          "parcoords": [
           {
            "line": {
             "colorbar": {
              "outlinewidth": 0,
              "ticks": ""
             }
            },
            "type": "parcoords"
           }
          ],
          "pie": [
           {
            "automargin": true,
            "type": "pie"
           }
          ],
          "scatter": [
           {
            "fillpattern": {
             "fillmode": "overlay",
             "size": 10,
             "solidity": 0.2
            },
            "type": "scatter"
           }
          ],
          "scatter3d": [
           {
            "line": {
             "colorbar": {
              "outlinewidth": 0,
              "ticks": ""
             }
            },
            "marker": {
             "colorbar": {
              "outlinewidth": 0,
              "ticks": ""
             }
            },
            "type": "scatter3d"
           }
          ],
          "scattercarpet": [
           {
            "marker": {
             "colorbar": {
              "outlinewidth": 0,
              "ticks": ""
             }
            },
            "type": "scattercarpet"
           }
          ],
          "scattergeo": [
           {
            "marker": {
             "colorbar": {
              "outlinewidth": 0,
              "ticks": ""
             }
            },
            "type": "scattergeo"
           }
          ],
          "scattergl": [
           {
            "marker": {
             "colorbar": {
              "outlinewidth": 0,
              "ticks": ""
             }
            },
            "type": "scattergl"
           }
          ],
          "scattermapbox": [
           {
            "marker": {
             "colorbar": {
              "outlinewidth": 0,
              "ticks": ""
             }
            },
            "type": "scattermapbox"
           }
          ],
          "scatterpolar": [
           {
            "marker": {
             "colorbar": {
              "outlinewidth": 0,
              "ticks": ""
             }
            },
            "type": "scatterpolar"
           }
          ],
          "scatterpolargl": [
           {
            "marker": {
             "colorbar": {
              "outlinewidth": 0,
              "ticks": ""
             }
            },
            "type": "scatterpolargl"
           }
          ],
          "scatterternary": [
           {
            "marker": {
             "colorbar": {
              "outlinewidth": 0,
              "ticks": ""
             }
            },
            "type": "scatterternary"
           }
          ],
          "surface": [
           {
            "colorbar": {
             "outlinewidth": 0,
             "ticks": ""
            },
            "colorscale": [
             [
              0,
              "#0d0887"
             ],
             [
              0.1111111111111111,
              "#46039f"
             ],
             [
              0.2222222222222222,
              "#7201a8"
             ],
             [
              0.3333333333333333,
              "#9c179e"
             ],
             [
              0.4444444444444444,
              "#bd3786"
             ],
             [
              0.5555555555555556,
              "#d8576b"
             ],
             [
              0.6666666666666666,
              "#ed7953"
             ],
             [
              0.7777777777777778,
              "#fb9f3a"
             ],
             [
              0.8888888888888888,
              "#fdca26"
             ],
             [
              1,
              "#f0f921"
             ]
            ],
            "type": "surface"
           }
          ],
          "table": [
           {
            "cells": {
             "fill": {
              "color": "#EBF0F8"
             },
             "line": {
              "color": "white"
             }
            },
            "header": {
             "fill": {
              "color": "#C8D4E3"
             },
             "line": {
              "color": "white"
             }
            },
            "type": "table"
           }
          ]
         },
         "layout": {
          "annotationdefaults": {
           "arrowcolor": "#2a3f5f",
           "arrowhead": 0,
           "arrowwidth": 1
          },
          "autotypenumbers": "strict",
          "coloraxis": {
           "colorbar": {
            "outlinewidth": 0,
            "ticks": ""
           }
          },
          "colorscale": {
           "diverging": [
            [
             0,
             "#8e0152"
            ],
            [
             0.1,
             "#c51b7d"
            ],
            [
             0.2,
             "#de77ae"
            ],
            [
             0.3,
             "#f1b6da"
            ],
            [
             0.4,
             "#fde0ef"
            ],
            [
             0.5,
             "#f7f7f7"
            ],
            [
             0.6,
             "#e6f5d0"
            ],
            [
             0.7,
             "#b8e186"
            ],
            [
             0.8,
             "#7fbc41"
            ],
            [
             0.9,
             "#4d9221"
            ],
            [
             1,
             "#276419"
            ]
           ],
           "sequential": [
            [
             0,
             "#0d0887"
            ],
            [
             0.1111111111111111,
             "#46039f"
            ],
            [
             0.2222222222222222,
             "#7201a8"
            ],
            [
             0.3333333333333333,
             "#9c179e"
            ],
            [
             0.4444444444444444,
             "#bd3786"
            ],
            [
             0.5555555555555556,
             "#d8576b"
            ],
            [
             0.6666666666666666,
             "#ed7953"
            ],
            [
             0.7777777777777778,
             "#fb9f3a"
            ],
            [
             0.8888888888888888,
             "#fdca26"
            ],
            [
             1,
             "#f0f921"
            ]
           ],
           "sequentialminus": [
            [
             0,
             "#0d0887"
            ],
            [
             0.1111111111111111,
             "#46039f"
            ],
            [
             0.2222222222222222,
             "#7201a8"
            ],
            [
             0.3333333333333333,
             "#9c179e"
            ],
            [
             0.4444444444444444,
             "#bd3786"
            ],
            [
             0.5555555555555556,
             "#d8576b"
            ],
            [
             0.6666666666666666,
             "#ed7953"
            ],
            [
             0.7777777777777778,
             "#fb9f3a"
            ],
            [
             0.8888888888888888,
             "#fdca26"
            ],
            [
             1,
             "#f0f921"
            ]
           ]
          },
          "colorway": [
           "#636efa",
           "#EF553B",
           "#00cc96",
           "#ab63fa",
           "#FFA15A",
           "#19d3f3",
           "#FF6692",
           "#B6E880",
           "#FF97FF",
           "#FECB52"
          ],
          "font": {
           "color": "#2a3f5f"
          },
          "geo": {
           "bgcolor": "white",
           "lakecolor": "white",
           "landcolor": "#E5ECF6",
           "showlakes": true,
           "showland": true,
           "subunitcolor": "white"
          },
          "hoverlabel": {
           "align": "left"
          },
          "hovermode": "closest",
          "mapbox": {
           "style": "light"
          },
          "paper_bgcolor": "white",
          "plot_bgcolor": "#E5ECF6",
          "polar": {
           "angularaxis": {
            "gridcolor": "white",
            "linecolor": "white",
            "ticks": ""
           },
           "bgcolor": "#E5ECF6",
           "radialaxis": {
            "gridcolor": "white",
            "linecolor": "white",
            "ticks": ""
           }
          },
          "scene": {
           "xaxis": {
            "backgroundcolor": "#E5ECF6",
            "gridcolor": "white",
            "gridwidth": 2,
            "linecolor": "white",
            "showbackground": true,
            "ticks": "",
            "zerolinecolor": "white"
           },
           "yaxis": {
            "backgroundcolor": "#E5ECF6",
            "gridcolor": "white",
            "gridwidth": 2,
            "linecolor": "white",
            "showbackground": true,
            "ticks": "",
            "zerolinecolor": "white"
           },
           "zaxis": {
            "backgroundcolor": "#E5ECF6",
            "gridcolor": "white",
            "gridwidth": 2,
            "linecolor": "white",
            "showbackground": true,
            "ticks": "",
            "zerolinecolor": "white"
           }
          },
          "shapedefaults": {
           "line": {
            "color": "#2a3f5f"
           }
          },
          "ternary": {
           "aaxis": {
            "gridcolor": "white",
            "linecolor": "white",
            "ticks": ""
           },
           "baxis": {
            "gridcolor": "white",
            "linecolor": "white",
            "ticks": ""
           },
           "bgcolor": "#E5ECF6",
           "caxis": {
            "gridcolor": "white",
            "linecolor": "white",
            "ticks": ""
           }
          },
          "title": {
           "x": 0.05
          },
          "xaxis": {
           "automargin": true,
           "gridcolor": "white",
           "linecolor": "white",
           "ticks": "",
           "title": {
            "standoff": 15
           },
           "zerolinecolor": "white",
           "zerolinewidth": 2
          },
          "yaxis": {
           "automargin": true,
           "gridcolor": "white",
           "linecolor": "white",
           "ticks": "",
           "title": {
            "standoff": 15
           },
           "zerolinecolor": "white",
           "zerolinewidth": 2
          }
         }
        },
        "title": {
         "font": {
          "family": "CMU",
          "size": 15
         }
        },
        "width": 650,
        "xaxis": {
         "anchor": "y",
         "autorange": true,
         "domain": [
          0,
          1
         ],
         "range": [
          330.1954135247822,
          3553.8293495825174
         ],
         "tickfont": {
          "family": "CMU",
          "size": 15
         },
         "title": {
          "font": {
           "family": "CMU",
           "size": 15
          },
          "text": "Geodesic Duration Time"
         },
         "type": "linear"
        },
        "yaxis": {
         "anchor": "x",
         "autorange": true,
         "domain": [
          0,
          1
         ],
         "range": [
          0.34965177585352114,
          2.445275164529265
         ],
         "tickfont": {
          "family": "CMU",
          "size": 15
         },
         "title": {
          "font": {
           "family": "CMU",
           "size": 15
          },
          "text": "Geodesic Coef Error"
         },
         "type": "linear"
        }
       }
      },
      "image/png": "[encoded data removed]",
      "text/html": [
       "<div>                            <div id=\"b41de181-7691-493d-a63f-6cc7f5ac37ec\" class=\"plotly-graph-div\" style=\"height:370px; width:650px;\"></div>            <script type=\"text/javascript\">                require([\"plotly\"], function(Plotly) {                    window.PLOTLYENV=window.PLOTLYENV || {};                                    if (document.getElementById(\"b41de181-7691-493d-a63f-6cc7f5ac37ec\")) {                    Plotly.newPlot(                        \"b41de181-7691-493d-a63f-6cc7f5ac37ec\",                        [{\"hovertemplate\":\"color=0\\u003cbr\\u003esymbol=0.5056846042494868\\u003cbr\\u003ex=%{x}\\u003cbr\\u003ey=%{y}\\u003cextra\\u003e\\u003c\\u002fextra\\u003e\",\"legendgroup\":\"0, 0.5056846042494868\",\"marker\":{\"color\":\"#fde725\",\"symbol\":\"square\",\"opacity\":0.9,\"size\":9},\"mode\":\"markers\",\"name\":\"0, 0.5056846042494868\",\"orientation\":\"v\",\"showlegend\":true,\"x\":[2800.712919235229,2807.5130939483643,2765.150284767151,2816.803479194641,2758.172106742859,2787.4316215515137,2804.262924194336,2804.0531396865845,2762.757921218872,2675.674748420716,2802.537107467652,2781.734204292298,2716.2234783172607,2822.424864768982,2814.810490608216,2806.854557991028,2801.797127723694,2792.09258556366,2833.2343101501465,2768.690514564514,2611.478352546692,2679.0457248687744,2699.3205308914185,2398.815512657165,2799.0548610687256,2720.4550981521606,2778.934431076049,2793.549513816833,2770.041060447693,2803.5495042800903,2759.3703269958496,2735.2394580841064,2807.558536529541,2745.315408706665,2751.53546333313,2690.887880325318,2799.5299577713013,2805.295443534851,2803.3658742904663,2792.626261711121,2868.300461769104,2746.440482139587,2861.836290359497,2800.0190496444707,2838.784646987915,2713.374185562133,2556.0471773147583,2807.91757106781,2820.1552629470825,2793.976163864136,2806.706166267395,2818.620991706848,2796.172451972961,2791.391563415528,2770.3084707260127,2521.9417810440063,2752.267050743103,2803.143286705017,2725.239109992981,2695.2288389205933,2733.5352420806885,2759.0664625167847,2730.5659532547,2702.407813072205,2811.422634124756,2797.396183013916,2797.472715377808,2694.8060274124146,2774.8636722564697,2768.541121482849,2666.119408607483,2797.526907920838,2807.783102989197,2785.401463508606,2822.760534286499,2803.825116157532,2772.0234632492065,2727.984642982483,2807.2692155838013,2723.602056503296,2829.9131393432617,2681.7090034484863,2804.236054420471,2716.666603088379,2828.417587280273,2893.372893333435,2713.147282600403,2829.1311740875244,2746.968650817871,2404.338788986206,2727.758193016052,2783.842730522156,2837.67671585083,2763.636803627014,2839.548659324646,2782.733035087585,2802.3311853408813,2798.556089401245,2789.705061912537,2807.484531402588,2776.6582250595093,2765.307331085205,2795.109796524048,2621.2952375411987,2783.0041885375977,2806.44211769104,2852.73871421814,2846.702122688293,2839.1799211502075,2810.1248502731323,2828.5245418548584,2732.7130556106567,2843.26696395874,2796.7879056930547,2845.2810049057007,2790.8427238464355,2804.3487071990967,2708.093762397766,2850.7015466690063,2745.964503288269,2780.443000793457,2790.1811122894287,2770.0093269348145,2764.4160270690923,2784.620046615601,2823.518753051757,2824.8688220977783,2808.5887908935547,2781.161952018737,2775.5937099456787,2815.702033042908,2812.614178657532,2869.4026708602905,2790.8955097198486,2838.602590560913,2806.9831371307373,2787.157964706421,2730.811309814453,2494.210290908813,2812.1273279190063,2787.147355079651,2802.7547597885127,2780.737972259521,2833.328604698181,2590.4383182525635,2728.920555114746,2839.7541522979736,2816.1540985107426,2878.539347648621,2817.12908744812,2856.7546367645264,2814.8610830307007,2676.992917060852,2700.300621986389,2758.8823795318604,2750.2962112426762,2817.645168304444,2781.3666582107544,2785.3387355804443,2736.2849950790405],\"xaxis\":\"x\",\"y\":[0.5056846042494868,0.5056846042494868,0.5056846042494868,0.5056846042494868,0.5056846042494868,0.5056846042494868,0.5056846042494868,0.5056846042494868,0.5056846042494868,0.5056846042494868,0.5056846042494868,0.5056846042494868,0.5056846042494868,0.5056846042494868,0.5056846042494868,0.5056846042494868,0.5056846042494868,0.5056846042494868,0.5056846042494868,0.5056846042494868,0.5056846042494868,0.5056846042494868,0.5056846042494868,0.5056846042494868,0.5056846042494868,0.5056846042494868,0.5056846042494868,0.5056846042494868,0.5056846042494868,0.5056846042494868,0.5056846042494868,0.5056846042494868,0.5056846042494868,0.5056846042494868,0.5056846042494868,0.5056846042494868,0.5056846042494868,0.5056846042494868,0.5056846042494868,0.5056846042494868,0.5056846042494868,0.5056846042494868,0.5056846042494868,0.5056846042494868,0.5056846042494868,0.5056846042494868,0.5056846042494868,0.5056846042494868,0.5056846042494868,0.5056846042494868,0.5056846042494868,0.5056846042494868,0.5056846042494868,0.5056846042494868,0.5056846042494868,0.5056846042494868,0.5056846042494868,0.5056846042494868,0.5056846042494868,0.5056846042494868,0.5056846042494868,0.5056846042494868,0.5056846042494868,0.5056846042494868,0.5056846042494868,0.5056846042494868,0.5056846042494868,0.5056846042494868,0.5056846042494868,0.5056846042494868,0.5056846042494868,0.5056846042494868,0.5056846042494868,0.5056846042494868,0.5056846042494868,0.5056846042494868,0.5056846042494868,0.5056846042494868,0.5056846042494868,0.5056846042494868,0.5056846042494868,0.5056846042494868,0.5056846042494868,0.5056846042494868,0.5056846042494868,0.5056846042494868,0.5056846042494868,0.5056846042494868,0.5056846042494868,0.5056846042494868,0.5056846042494868,0.5056846042494868,0.5056846042494868,0.5056846042494868,0.5056846042494868,0.5056846042494868,0.5056846042494868,0.5056846042494868,0.5056846042494868,0.5056846042494868,0.5056846042494868,0.5056846042494868,0.5056846042494868,0.5056846042494868,0.5056846042494868,0.5056846042494868,0.5056846042494868,0.5056846042494868,0.5056846042494868,0.5056846042494868,0.5056846042494868,0.5056846042494868,0.5056846042494868,0.5056846042494868,0.5056846042494868,0.5056846042494868,0.5056846042494868,0.5056846042494868,0.5056846042494868,0.5056846042494868,0.5056846042494868,0.5056846042494868,0.5056846042494868,0.5056846042494868,0.5056846042494868,0.5056846042494868,0.5056846042494868,0.5056846042494868,0.5056846042494868,0.5056846042494868,0.5056846042494868,0.5056846042494868,0.5056846042494868,0.5056846042494868,0.5056846042494868,0.5056846042494868,0.5056846042494868,0.5056846042494868,0.5056846042494868,0.5056846042494868,0.5056846042494868,0.5056846042494868,0.5056846042494868,0.5056846042494868,0.5056846042494868,0.5056846042494868,0.5056846042494868,0.5056846042494868,0.5056846042494868,0.5056846042494868,0.5056846042494868,0.5056846042494868,0.5056846042494868,0.5056846042494868,0.5056846042494868,0.5056846042494868,0.5056846042494868,0.5056846042494868,0.5056846042494868,0.5056846042494868],\"yaxis\":\"y\",\"type\":\"scatter\"},{\"hovertemplate\":\"color=0\\u003cbr\\u003esymbol=0.5057685592288556\\u003cbr\\u003ex=%{x}\\u003cbr\\u003ey=%{y}\\u003cextra\\u003e\\u003c\\u002fextra\\u003e\",\"legendgroup\":\"0, 0.5057685592288556\",\"marker\":{\"color\":\"#fde725\",\"symbol\":\"cross\",\"opacity\":0.9,\"size\":9},\"mode\":\"markers\",\"name\":\"0, 0.5057685592288556\",\"orientation\":\"v\",\"showlegend\":true,\"x\":[1733.015513420105,1780.5794954299927,1797.9284048080444,1778.3300638198853,1742.9835081100464,1740.9194469451904,1761.6652250289917,1777.6577949523926,1736.5777730941772,1798.0134725570679,1740.7110214233398,1756.7402601242065,1738.3877277374268,1764.234972000122,1167.1791315078735,1760.318398475647,1809.137749671936,1799.729347229004,1708.0971479415894,1796.6469049453735,1711.8890523910522,1784.2239379882812,1785.5302333831787,1805.4766416549683,1796.311855316162,1775.0668048858643,1788.7180805206299,1757.5528144836426,1776.8158912658691,1790.5154705047607,1753.8076877593994,1767.216944694519,1771.4525938034058,1773.5318660736084,1754.4678211212158,1660.6961488723755,1732.2991847991943,1789.1932964324951,1742.853832244873,1732.8596353530884,1769.007658958435,1691.0776615142822,1748.6661434173584,1778.4008502960205,1703.0555248260498,1722.5290298461914,1790.3775453567505,1828.5943508148198,1684.3418598175049,1775.9021759033203,1713.5270833969116,1704.3352603912354,542.6001071929932,1081.6920042037964,1679.9261808395386,1741.2360429763794,1764.1855478286743,1828.5733222961421,1765.9486770629883,1766.591501235962,1724.4879245758057,1666.3825273513794,1630.8669805526733,1727.5269746780396,1782.1326971054077,1755.7578802108765,1769.3369626998901,1797.5536584854126,1805.7322978973389,1770.5153703689575,1767.3980951309204,1656.992530822754,1772.308349609375,1739.9730205535889,1738.0593299865723,1749.1705656051636,1725.804328918457,1736.8640184402466,1576.384663581848,1747.1211433410645,1663.548994064331,1795.6860542297363,1771.7268705368042,1751.2096405029297,1781.986427307129,1781.0314178466797,1780.1385641098022,1749.0486145019531,1755.4739475250244,1705.771279335022,1770.0061798095703,1764.3438339233398,1750.638508796692,1805.0123453140259,1759.8992586135864,1828.3150911331177,1617.0541763305664,1766.96937084198,1789.6127223968506,1837.569665908813,1742.7697658538818,1628.0043125152588,1790.915846824646,1791.3450479507446,1613.6072874069214,1639.8974418640137,1751.0163068771362,1729.4304847717285,1755.1748514175415,1773.9986658096313,1803.5053491592407,1736.9816303253174,1780.5549144744873,1726.226782798767,1787.4803304672241,1771.969723701477,1672.550892829895,1714.6316051483154,1731.4239263534546,1688.5740280151367,1793.5590267181396,1773.0361938476562,1773.6217975616455,1761.3361358642578,1704.0529012680054,1742.7014350891113,1753.865671157837,1161.4076852798462,1769.800591468811,1717.3372268676758,1542.8655862808228,1165.5648708343506,1764.326000213623,1813.6112689971924,1790.1399612426758,1748.7191200256348,1668.8441276550293,1801.0526418685913,1822.049641609192,1712.0705127716064,1828.452086448669,1815.4703855514526,1825.57532787323,1768.6239004135132,1779.9898862838745,1593.0078029632568,1646.684741973877,1688.8300895690918,1761.2802982330322,1733.817195892334,1685.4784488677979,1762.5926494598389,1678.0173063278198,1719.8853015899658,1711.360764503479,1756.6681623458862,1719.097924232483,1729.1381120681763,1734.3058109283447,1784.3334913253784],\"xaxis\":\"x\",\"y\":[0.5057685592288556,0.5057685592288556,0.5057685592288556,0.5057685592288556,0.5057685592288556,0.5057685592288556,0.5057685592288556,0.5057685592288556,0.5057685592288556,0.5057685592288556,0.5057685592288556,0.5057685592288556,0.5057685592288556,0.5057685592288556,0.5057685592288556,0.5057685592288556,0.5057685592288556,0.5057685592288556,0.5057685592288556,0.5057685592288556,0.5057685592288556,0.5057685592288556,0.5057685592288556,0.5057685592288556,0.5057685592288556,0.5057685592288556,0.5057685592288556,0.5057685592288556,0.5057685592288556,0.5057685592288556,0.5057685592288556,0.5057685592288556,0.5057685592288556,0.5057685592288556,0.5057685592288556,0.5057685592288556,0.5057685592288556,0.5057685592288556,0.5057685592288556,0.5057685592288556,0.5057685592288556,0.5057685592288556,0.5057685592288556,0.5057685592288556,0.5057685592288556,0.5057685592288556,0.5057685592288556,0.5057685592288556,0.5057685592288556,0.5057685592288556,0.5057685592288556,0.5057685592288556,0.5057685592288556,0.5057685592288556,0.5057685592288556,0.5057685592288556,0.5057685592288556,0.5057685592288556,0.5057685592288556,0.5057685592288556,0.5057685592288556,0.5057685592288556,0.5057685592288556,0.5057685592288556,0.5057685592288556,0.5057685592288556,0.5057685592288556,0.5057685592288556,0.5057685592288556,0.5057685592288556,0.5057685592288556,0.5057685592288556,0.5057685592288556,0.5057685592288556,0.5057685592288556,0.5057685592288556,0.5057685592288556,0.5057685592288556,0.5057685592288556,0.5057685592288556,0.5057685592288556,0.5057685592288556,0.5057685592288556,0.5057685592288556,0.5057685592288556,0.5057685592288556,0.5057685592288556,0.5057685592288556,0.5057685592288556,0.5057685592288556,0.5057685592288556,0.5057685592288556,0.5057685592288556,0.5057685592288556,0.5057685592288556,0.5057685592288556,0.5057685592288556,0.5057685592288556,0.5057685592288556,0.5057685592288556,0.5057685592288556,0.5057685592288556,0.5057685592288556,0.5057685592288556,0.5057685592288556,0.5057685592288556,0.5057685592288556,0.5057685592288556,0.5057685592288556,0.5057685592288556,0.5057685592288556,0.5057685592288556,0.5057685592288556,0.5057685592288556,0.5057685592288556,0.5057685592288556,0.5057685592288556,0.5057685592288556,0.5057685592288556,0.5057685592288556,0.5057685592288556,0.5057685592288556,0.5057685592288556,0.5057685592288556,0.5057685592288556,0.5057685592288556,0.5057685592288556,0.5057685592288556,0.5057685592288556,0.5057685592288556,0.5057685592288556,0.5057685592288556,0.5057685592288556,0.5057685592288556,0.5057685592288556,0.5057685592288556,0.5057685592288556,0.5057685592288556,0.5057685592288556,0.5057685592288556,0.5057685592288556,0.5057685592288556,0.5057685592288556,0.5057685592288556,0.5057685592288556,0.5057685592288556,0.5057685592288556,0.5057685592288556,0.5057685592288556,0.5057685592288556,0.5057685592288556,0.5057685592288556,0.5057685592288556,0.5057685592288556,0.5057685592288556,0.5057685592288556,0.5057685592288556,0.5057685592288556,0.5057685592288556,0.5057685592288556],\"yaxis\":\"y\",\"type\":\"scatter\"},{\"hovertemplate\":\"color=1\\u003cbr\\u003esymbol=2.289242336133299\\u003cbr\\u003ex=%{x}\\u003cbr\\u003ey=%{y}\\u003cextra\\u003e\\u003c\\u002fextra\\u003e\",\"legendgroup\":\"1, 2.289242336133299\",\"marker\":{\"color\":\"#b5de2b\",\"symbol\":\"x\",\"opacity\":0.9,\"size\":9},\"mode\":\"markers\",\"name\":\"1, 2.289242336133299\",\"orientation\":\"v\",\"showlegend\":true,\"x\":[3271.6646909713745,3241.793155670166,3221.234393119812,3213.0258560180664,3249.8037815093994,3168.4552431106567,3224.1058111190805,3208.0527305603027,3293.0189847946167,3244.223690032959,3284.5325469970703,3265.375590324402,3169.33331489563,3201.9588947296143,3186.908221244812,3236.558222770691,3220.1202392578125,3272.9636192321777,3180.40075302124,3168.950676918029,3195.9733486175537,3274.9428510665894,3123.6698865890503,3339.9811506271362,3256.37788772583,3192.3243045806885,3218.3738231658936,3242.9088592529297,3159.433603286743,3185.984444618225,3077.104139328003,3268.365216255188,3230.7365894317627,3210.2160215377808,3341.4246559143066,3143.245506286621,3267.1014070510864,3201.5488624572754,3198.431634902954,3253.7190914154053,3271.248435974121,3153.4196376800537,3202.557373046875,3275.7153511047363,3309.8407983779907,3276.4567136764526,3224.1058349609375,3329.4020891189575,3242.2847032546997,3204.4782161712646,3294.0337896347046,3269.014286994934,3335.0619792938232,3267.8049325942993,3234.8248720169067,3275.4284858703613,3290.034580230713,3187.0415687561035,3291.199779510498,3303.560709953308,3293.7055826187134,2816.62118434906,3291.621232032776,3281.3913106918335,3224.2292642593384,3285.862970352173,3243.409276008606,3283.0487489700317,2684.8891019821167,2785.545063018799,3106.6187381744385,3287.1796369552612,3332.5619220733643,3283.1905364990234,3211.0084533691406,3209.1140508651733,3139.370441436768,3013.8883113861084,3015.314030647278,3209.9260091781616,3247.0545530319214,3147.574782371521,3286.715817451477,3255.564546585083,3221.756649017334,3174.353790283203,3266.4225339889526,3149.053692817688,3290.339732170105,3228.8407802581787,3293.805170059204,3159.1976165771484,3121.1261510849,3184.3567848205566,3227.509617805481,3187.557172775269,3249.7977018356323,3255.847644805908,3109.4334840774536,3179.349565505981,3186.169958114624,3235.4057788848877,3226.326608657837,3203.26189994812,3234.411883354187,3181.523323059082,3220.159411430359,3218.983817100525,3196.9114303588867,3274.7076749801645,3307.666563987732,3326.8775701522827,3187.8295421600346,3221.3104724884033,3193.3349609375,3258.5307359695435,3267.3856019973755,3148.01926612854,3269.520354270935,3193.407130241394,3238.087272644043,3220.0180292129517,3249.0243434906006,3248.262619972229,3211.9230031967163,3252.2839307785034,3286.643362045288,3209.098744392395,3197.7784395217896,3272.1176385879517,3304.473376274109,3221.3523864746094,3242.5532579421997,3196.2384462356567,3216.5591955184937,3182.7110767364507,3184.835124015808,3211.9629621505737,3211.8960857391357,3206.8724155426025,3111.112165451049,3169.3678617477417,3225.310754776001,3163.8007640838623,3294.6274518966675,3210.747814178467,3250.896191596985,3260.479736328125,3211.723232269287,3260.1847887039185,3207.8399419784546,3208.40744972229,3262.9944801330566,3205.6081771850586,3318.043065071106,3228.122329711914,3237.959408760071,3269.1492319107056,3236.566662788391,3266.2242889404297],\"xaxis\":\"x\",\"y\":[2.289242336133299,2.289242336133299,2.289242336133299,2.289242336133299,2.289242336133299,2.289242336133299,2.289242336133299,2.289242336133299,2.289242336133299,2.289242336133299,2.289242336133299,2.289242336133299,2.289242336133299,2.289242336133299,2.289242336133299,2.289242336133299,2.289242336133299,2.289242336133299,2.289242336133299,2.289242336133299,2.289242336133299,2.289242336133299,2.289242336133299,2.289242336133299,2.289242336133299,2.289242336133299,2.289242336133299,2.289242336133299,2.289242336133299,2.289242336133299,2.289242336133299,2.289242336133299,2.289242336133299,2.289242336133299,2.289242336133299,2.289242336133299,2.289242336133299,2.289242336133299,2.289242336133299,2.289242336133299,2.289242336133299,2.289242336133299,2.289242336133299,2.289242336133299,2.289242336133299,2.289242336133299,2.289242336133299,2.289242336133299,2.289242336133299,2.289242336133299,2.289242336133299,2.289242336133299,2.289242336133299,2.289242336133299,2.289242336133299,2.289242336133299,2.289242336133299,2.289242336133299,2.289242336133299,2.289242336133299,2.289242336133299,2.289242336133299,2.289242336133299,2.289242336133299,2.289242336133299,2.289242336133299,2.289242336133299,2.289242336133299,2.289242336133299,2.289242336133299,2.289242336133299,2.289242336133299,2.289242336133299,2.289242336133299,2.289242336133299,2.289242336133299,2.289242336133299,2.289242336133299,2.289242336133299,2.289242336133299,2.289242336133299,2.289242336133299,2.289242336133299,2.289242336133299,2.289242336133299,2.289242336133299,2.289242336133299,2.289242336133299,2.289242336133299,2.289242336133299,2.289242336133299,2.289242336133299,2.289242336133299,2.289242336133299,2.289242336133299,2.289242336133299,2.289242336133299,2.289242336133299,2.289242336133299,2.289242336133299,2.289242336133299,2.289242336133299,2.289242336133299,2.289242336133299,2.289242336133299,2.289242336133299,2.289242336133299,2.289242336133299,2.289242336133299,2.289242336133299,2.289242336133299,2.289242336133299,2.289242336133299,2.289242336133299,2.289242336133299,2.289242336133299,2.289242336133299,2.289242336133299,2.289242336133299,2.289242336133299,2.289242336133299,2.289242336133299,2.289242336133299,2.289242336133299,2.289242336133299,2.289242336133299,2.289242336133299,2.289242336133299,2.289242336133299,2.289242336133299,2.289242336133299,2.289242336133299,2.289242336133299,2.289242336133299,2.289242336133299,2.289242336133299,2.289242336133299,2.289242336133299,2.289242336133299,2.289242336133299,2.289242336133299,2.289242336133299,2.289242336133299,2.289242336133299,2.289242336133299,2.289242336133299,2.289242336133299,2.289242336133299,2.289242336133299,2.289242336133299,2.289242336133299,2.289242336133299,2.289242336133299,2.289242336133299,2.289242336133299,2.289242336133299,2.289242336133299,2.289242336133299,2.289242336133299,2.289242336133299],\"yaxis\":\"y\",\"type\":\"scatter\"},{\"hovertemplate\":\"color=1\\u003cbr\\u003esymbol=2.289230403071884\\u003cbr\\u003ex=%{x}\\u003cbr\\u003ey=%{y}\\u003cextra\\u003e\\u003c\\u002fextra\\u003e\",\"legendgroup\":\"1, 2.289230403071884\",\"marker\":{\"color\":\"#b5de2b\",\"symbol\":\"diamond\",\"opacity\":0.9,\"size\":9},\"mode\":\"markers\",\"name\":\"1, 2.289230403071884\",\"orientation\":\"v\",\"showlegend\":true,\"x\":[1851.395297050476,1824.830842018127,1793.0455923080444,1817.8831577301025,1841.26455783844,1772.226357460022,1845.7886695861816,1755.6628227233887,1840.8475160598755,1868.9229011535645,1822.354006767273,1773.1467723846436,1820.2013492584229,1792.6296949386597,1831.9629669189453,1795.8357572555542,1854.6350240707402,1783.7090015411377,1782.9442739486694,1798.5806941986084,1837.66508102417,1798.63862991333,1784.391188621521,1801.5807628631592,1804.4897079467773,1766.2902355194092,1794.1758155822754,1787.6248359680176,1841.329264640808,1806.0530424118037,1725.5689859390259,1742.3552513122559,1755.8499097824097,1727.476692199707,1682.7224969863892,1769.3587064743042,1835.4465007781982,1810.6322050094604,896.039891242981,1826.5315294265747,1770.029902458191,1774.5534896850586,1859.8399639129639,1772.0696687698364,1763.0861282348633,1768.9284801483154,1867.497706413269,1820.7185983657841,1829.477167129517,1873.5584735870361,1865.8429145812988,1796.5154886245728,1460.655927658081,1816.0094499588013,1770.4829692840576,1788.7088060379028,1806.9038152694707,1844.542026519775,1765.196442604065,1751.9051313400269,1867.6003694534302,1791.121506690979,1804.96518611908,1724.9411582946777,1829.1396856307983,1722.9667901992798,1789.491367340088,1871.0224866867065,1787.7371311187744,1763.7626647949219,1805.465173721313,1848.2414722442627,1807.949709892273,1827.4965286254883,1807.941222190857,1833.910441398621,1784.0876817703247,1807.582974433899,1828.510570526123,1806.0466766357426,1760.0744009017944,1772.9115724563599,1788.681697845459,1832.7539920806885,1816.0143613815308,1796.9933986663818,1767.7622079849243,1670.4193353652954,1682.1482181549072,1822.9271411895752,1800.2811431884766,1866.1168098449707,1776.3708591461182,1833.8403463363647,1813.3680820465088,1819.344043731689,1697.0353841781616,1800.601887702942,1782.0793867111206,1672.5563049316406,1814.291787147522,1866.740369796753,1833.5385084152222,1810.0197792053223,1807.417750358581,1801.8835306167603,1841.284728050232,1818.0797100067139,1801.8114805221562,1793.7426805496216,1816.131472587585,1783.9706897735596,1803.4264087676997,1828.4003257751465,1556.7651748657229,1772.848916053772,1828.4939050674438,1841.213059425354,1859.4290256500244,1757.0225715637207,1793.29195022583,1779.8580884933472,1812.0802640914922,1743.993854522705,1779.6140909194946,1829.366946220398,1777.9029369354248,1795.760154724121,1765.5628681182861,1818.884301185608,1803.2579898834229,1873.473310470581,1743.3268785476685,1803.1974792480469,1799.4686365127563,1826.0891437530522,1851.003384590149,1837.7859115600581,1721.695613861084,1821.3316440582275,1817.0485019683842,1788.097858428955,1788.0439758300781,1764.1987800598145,1779.9452066421509,1753.8355588912964,1720.5957651138306,1827.9669284820561,1799.6501207351685,1817.5037860870361,1726.7608880996704,1823.077630996704,1831.8941831588745,1822.1253633499146,1814.3061637878411,1790.5700206756592,1768.6455965042114,1802.7034044265747,1814.152717590332,1847.3119974136357],\"xaxis\":\"x\",\"y\":[2.289230403071884,2.289230403071884,2.289230403071884,2.289230403071884,2.289230403071884,2.289230403071884,2.289230403071884,2.289230403071884,2.289230403071884,2.289230403071884,2.289230403071884,2.289230403071884,2.289230403071884,2.289230403071884,2.289230403071884,2.289230403071884,2.289230403071884,2.289230403071884,2.289230403071884,2.289230403071884,2.289230403071884,2.289230403071884,2.289230403071884,2.289230403071884,2.289230403071884,2.289230403071884,2.289230403071884,2.289230403071884,2.289230403071884,2.289230403071884,2.289230403071884,2.289230403071884,2.289230403071884,2.289230403071884,2.289230403071884,2.289230403071884,2.289230403071884,2.289230403071884,2.289230403071884,2.289230403071884,2.289230403071884,2.289230403071884,2.289230403071884,2.289230403071884,2.289230403071884,2.289230403071884,2.289230403071884,2.289230403071884,2.289230403071884,2.289230403071884,2.289230403071884,2.289230403071884,2.289230403071884,2.289230403071884,2.289230403071884,2.289230403071884,2.289230403071884,2.289230403071884,2.289230403071884,2.289230403071884,2.289230403071884,2.289230403071884,2.289230403071884,2.289230403071884,2.289230403071884,2.289230403071884,2.289230403071884,2.289230403071884,2.289230403071884,2.289230403071884,2.289230403071884,2.289230403071884,2.289230403071884,2.289230403071884,2.289230403071884,2.289230403071884,2.289230403071884,2.289230403071884,2.289230403071884,2.289230403071884,2.289230403071884,2.289230403071884,2.289230403071884,2.289230403071884,2.289230403071884,2.289230403071884,2.289230403071884,2.289230403071884,2.289230403071884,2.289230403071884,2.289230403071884,2.289230403071884,2.289230403071884,2.289230403071884,2.289230403071884,2.289230403071884,2.289230403071884,2.289230403071884,2.289230403071884,2.289230403071884,2.289230403071884,2.289230403071884,2.289230403071884,2.289230403071884,2.289230403071884,2.289230403071884,2.289230403071884,2.289230403071884,2.289230403071884,2.289230403071884,2.289230403071884,2.289230403071884,2.289230403071884,2.289230403071884,2.289230403071884,2.289230403071884,2.289230403071884,2.289230403071884,2.289230403071884,2.289230403071884,2.289230403071884,2.289230403071884,2.289230403071884,2.289230403071884,2.289230403071884,2.289230403071884,2.289230403071884,2.289230403071884,2.289230403071884,2.289230403071884,2.289230403071884,2.289230403071884,2.289230403071884,2.289230403071884,2.289230403071884,2.289230403071884,2.289230403071884,2.289230403071884,2.289230403071884,2.289230403071884,2.289230403071884,2.289230403071884,2.289230403071884,2.289230403071884,2.289230403071884,2.289230403071884,2.289230403071884,2.289230403071884,2.289230403071884,2.289230403071884,2.289230403071884,2.289230403071884,2.289230403071884,2.289230403071884,2.289230403071884,2.289230403071884,2.289230403071884,2.289230403071884,2.289230403071884,2.289230403071884],\"yaxis\":\"y\",\"type\":\"scatter\"}],                        {\"template\":{\"data\":{\"histogram2dcontour\":[{\"type\":\"histogram2dcontour\",\"colorbar\":{\"outlinewidth\":0,\"ticks\":\"\"},\"colorscale\":[[0.0,\"#0d0887\"],[0.1111111111111111,\"#46039f\"],[0.2222222222222222,\"#7201a8\"],[0.3333333333333333,\"#9c179e\"],[0.4444444444444444,\"#bd3786\"],[0.5555555555555556,\"#d8576b\"],[0.6666666666666666,\"#ed7953\"],[0.7777777777777778,\"#fb9f3a\"],[0.8888888888888888,\"#fdca26\"],[1.0,\"#f0f921\"]]}],\"choropleth\":[{\"type\":\"choropleth\",\"colorbar\":{\"outlinewidth\":0,\"ticks\":\"\"}}],\"histogram2d\":[{\"type\":\"histogram2d\",\"colorbar\":{\"outlinewidth\":0,\"ticks\":\"\"},\"colorscale\":[[0.0,\"#0d0887\"],[0.1111111111111111,\"#46039f\"],[0.2222222222222222,\"#7201a8\"],[0.3333333333333333,\"#9c179e\"],[0.4444444444444444,\"#bd3786\"],[0.5555555555555556,\"#d8576b\"],[0.6666666666666666,\"#ed7953\"],[0.7777777777777778,\"#fb9f3a\"],[0.8888888888888888,\"#fdca26\"],[1.0,\"#f0f921\"]]}],\"heatmap\":[{\"type\":\"heatmap\",\"colorbar\":{\"outlinewidth\":0,\"ticks\":\"\"},\"colorscale\":[[0.0,\"#0d0887\"],[0.1111111111111111,\"#46039f\"],[0.2222222222222222,\"#7201a8\"],[0.3333333333333333,\"#9c179e\"],[0.4444444444444444,\"#bd3786\"],[0.5555555555555556,\"#d8576b\"],[0.6666666666666666,\"#ed7953\"],[0.7777777777777778,\"#fb9f3a\"],[0.8888888888888888,\"#fdca26\"],[1.0,\"#f0f921\"]]}],\"heatmapgl\":[{\"type\":\"heatmapgl\",\"colorbar\":{\"outlinewidth\":0,\"ticks\":\"\"},\"colorscale\":[[0.0,\"#0d0887\"],[0.1111111111111111,\"#46039f\"],[0.2222222222222222,\"#7201a8\"],[0.3333333333333333,\"#9c179e\"],[0.4444444444444444,\"#bd3786\"],[0.5555555555555556,\"#d8576b\"],[0.6666666666666666,\"#ed7953\"],[0.7777777777777778,\"#fb9f3a\"],[0.8888888888888888,\"#fdca26\"],[1.0,\"#f0f921\"]]}],\"contourcarpet\":[{\"type\":\"contourcarpet\",\"colorbar\":{\"outlinewidth\":0,\"ticks\":\"\"}}],\"contour\":[{\"type\":\"contour\",\"colorbar\":{\"outlinewidth\":0,\"ticks\":\"\"},\"colorscale\":[[0.0,\"#0d0887\"],[0.1111111111111111,\"#46039f\"],[0.2222222222222222,\"#7201a8\"],[0.3333333333333333,\"#9c179e\"],[0.4444444444444444,\"#bd3786\"],[0.5555555555555556,\"#d8576b\"],[0.6666666666666666,\"#ed7953\"],[0.7777777777777778,\"#fb9f3a\"],[0.8888888888888888,\"#fdca26\"],[1.0,\"#f0f921\"]]}],\"surface\":[{\"type\":\"surface\",\"colorbar\":{\"outlinewidth\":0,\"ticks\":\"\"},\"colorscale\":[[0.0,\"#0d0887\"],[0.1111111111111111,\"#46039f\"],[0.2222222222222222,\"#7201a8\"],[0.3333333333333333,\"#9c179e\"],[0.4444444444444444,\"#bd3786\"],[0.5555555555555556,\"#d8576b\"],[0.6666666666666666,\"#ed7953\"],[0.7777777777777778,\"#fb9f3a\"],[0.8888888888888888,\"#fdca26\"],[1.0,\"#f0f921\"]]}],\"mesh3d\":[{\"type\":\"mesh3d\",\"colorbar\":{\"outlinewidth\":0,\"ticks\":\"\"}}],\"scatter\":[{\"fillpattern\":{\"fillmode\":\"overlay\",\"size\":10,\"solidity\":0.2},\"type\":\"scatter\"}],\"parcoords\":[{\"type\":\"parcoords\",\"line\":{\"colorbar\":{\"outlinewidth\":0,\"ticks\":\"\"}}}],\"scatterpolargl\":[{\"type\":\"scatterpolargl\",\"marker\":{\"colorbar\":{\"outlinewidth\":0,\"ticks\":\"\"}}}],\"bar\":[{\"error_x\":{\"color\":\"#2a3f5f\"},\"error_y\":{\"color\":\"#2a3f5f\"},\"marker\":{\"line\":{\"color\":\"#E5ECF6\",\"width\":0.5},\"pattern\":{\"fillmode\":\"overlay\",\"size\":10,\"solidity\":0.2}},\"type\":\"bar\"}],\"scattergeo\":[{\"type\":\"scattergeo\",\"marker\":{\"colorbar\":{\"outlinewidth\":0,\"ticks\":\"\"}}}],\"scatterpolar\":[{\"type\":\"scatterpolar\",\"marker\":{\"colorbar\":{\"outlinewidth\":0,\"ticks\":\"\"}}}],\"histogram\":[{\"marker\":{\"pattern\":{\"fillmode\":\"overlay\",\"size\":10,\"solidity\":0.2}},\"type\":\"histogram\"}],\"scattergl\":[{\"type\":\"scattergl\",\"marker\":{\"colorbar\":{\"outlinewidth\":0,\"ticks\":\"\"}}}],\"scatter3d\":[{\"type\":\"scatter3d\",\"line\":{\"colorbar\":{\"outlinewidth\":0,\"ticks\":\"\"}},\"marker\":{\"colorbar\":{\"outlinewidth\":0,\"ticks\":\"\"}}}],\"scattermapbox\":[{\"type\":\"scattermapbox\",\"marker\":{\"colorbar\":{\"outlinewidth\":0,\"ticks\":\"\"}}}],\"scatterternary\":[{\"type\":\"scatterternary\",\"marker\":{\"colorbar\":{\"outlinewidth\":0,\"ticks\":\"\"}}}],\"scattercarpet\":[{\"type\":\"scattercarpet\",\"marker\":{\"colorbar\":{\"outlinewidth\":0,\"ticks\":\"\"}}}],\"carpet\":[{\"aaxis\":{\"endlinecolor\":\"#2a3f5f\",\"gridcolor\":\"white\",\"linecolor\":\"white\",\"minorgridcolor\":\"white\",\"startlinecolor\":\"#2a3f5f\"},\"baxis\":{\"endlinecolor\":\"#2a3f5f\",\"gridcolor\":\"white\",\"linecolor\":\"white\",\"minorgridcolor\":\"white\",\"startlinecolor\":\"#2a3f5f\"},\"type\":\"carpet\"}],\"table\":[{\"cells\":{\"fill\":{\"color\":\"#EBF0F8\"},\"line\":{\"color\":\"white\"}},\"header\":{\"fill\":{\"color\":\"#C8D4E3\"},\"line\":{\"color\":\"white\"}},\"type\":\"table\"}],\"barpolar\":[{\"marker\":{\"line\":{\"color\":\"#E5ECF6\",\"width\":0.5},\"pattern\":{\"fillmode\":\"overlay\",\"size\":10,\"solidity\":0.2}},\"type\":\"barpolar\"}],\"pie\":[{\"automargin\":true,\"type\":\"pie\"}]},\"layout\":{\"autotypenumbers\":\"strict\",\"colorway\":[\"#636efa\",\"#EF553B\",\"#00cc96\",\"#ab63fa\",\"#FFA15A\",\"#19d3f3\",\"#FF6692\",\"#B6E880\",\"#FF97FF\",\"#FECB52\"],\"font\":{\"color\":\"#2a3f5f\"},\"hovermode\":\"closest\",\"hoverlabel\":{\"align\":\"left\"},\"paper_bgcolor\":\"white\",\"plot_bgcolor\":\"#E5ECF6\",\"polar\":{\"bgcolor\":\"#E5ECF6\",\"angularaxis\":{\"gridcolor\":\"white\",\"linecolor\":\"white\",\"ticks\":\"\"},\"radialaxis\":{\"gridcolor\":\"white\",\"linecolor\":\"white\",\"ticks\":\"\"}},\"ternary\":{\"bgcolor\":\"#E5ECF6\",\"aaxis\":{\"gridcolor\":\"white\",\"linecolor\":\"white\",\"ticks\":\"\"},\"baxis\":{\"gridcolor\":\"white\",\"linecolor\":\"white\",\"ticks\":\"\"},\"caxis\":{\"gridcolor\":\"white\",\"linecolor\":\"white\",\"ticks\":\"\"}},\"coloraxis\":{\"colorbar\":{\"outlinewidth\":0,\"ticks\":\"\"}},\"colorscale\":{\"sequential\":[[0.0,\"#0d0887\"],[0.1111111111111111,\"#46039f\"],[0.2222222222222222,\"#7201a8\"],[0.3333333333333333,\"#9c179e\"],[0.4444444444444444,\"#bd3786\"],[0.5555555555555556,\"#d8576b\"],[0.6666666666666666,\"#ed7953\"],[0.7777777777777778,\"#fb9f3a\"],[0.8888888888888888,\"#fdca26\"],[1.0,\"#f0f921\"]],\"sequentialminus\":[[0.0,\"#0d0887\"],[0.1111111111111111,\"#46039f\"],[0.2222222222222222,\"#7201a8\"],[0.3333333333333333,\"#9c179e\"],[0.4444444444444444,\"#bd3786\"],[0.5555555555555556,\"#d8576b\"],[0.6666666666666666,\"#ed7953\"],[0.7777777777777778,\"#fb9f3a\"],[0.8888888888888888,\"#fdca26\"],[1.0,\"#f0f921\"]],\"diverging\":[[0,\"#8e0152\"],[0.1,\"#c51b7d\"],[0.2,\"#de77ae\"],[0.3,\"#f1b6da\"],[0.4,\"#fde0ef\"],[0.5,\"#f7f7f7\"],[0.6,\"#e6f5d0\"],[0.7,\"#b8e186\"],[0.8,\"#7fbc41\"],[0.9,\"#4d9221\"],[1,\"#276419\"]]},\"xaxis\":{\"gridcolor\":\"white\",\"linecolor\":\"white\",\"ticks\":\"\",\"title\":{\"standoff\":15},\"zerolinecolor\":\"white\",\"automargin\":true,\"zerolinewidth\":2},\"yaxis\":{\"gridcolor\":\"white\",\"linecolor\":\"white\",\"ticks\":\"\",\"title\":{\"standoff\":15},\"zerolinecolor\":\"white\",\"automargin\":true,\"zerolinewidth\":2},\"scene\":{\"xaxis\":{\"backgroundcolor\":\"#E5ECF6\",\"gridcolor\":\"white\",\"linecolor\":\"white\",\"showbackground\":true,\"ticks\":\"\",\"zerolinecolor\":\"white\",\"gridwidth\":2},\"yaxis\":{\"backgroundcolor\":\"#E5ECF6\",\"gridcolor\":\"white\",\"linecolor\":\"white\",\"showbackground\":true,\"ticks\":\"\",\"zerolinecolor\":\"white\",\"gridwidth\":2},\"zaxis\":{\"backgroundcolor\":\"#E5ECF6\",\"gridcolor\":\"white\",\"linecolor\":\"white\",\"showbackground\":true,\"ticks\":\"\",\"zerolinecolor\":\"white\",\"gridwidth\":2}},\"shapedefaults\":{\"line\":{\"color\":\"#2a3f5f\"}},\"annotationdefaults\":{\"arrowcolor\":\"#2a3f5f\",\"arrowhead\":0,\"arrowwidth\":1},\"geo\":{\"bgcolor\":\"white\",\"landcolor\":\"#E5ECF6\",\"subunitcolor\":\"white\",\"showland\":true,\"showlakes\":true,\"lakecolor\":\"white\"},\"title\":{\"x\":0.05},\"mapbox\":{\"style\":\"light\"}}},\"xaxis\":{\"anchor\":\"y\",\"domain\":[0.0,1.0],\"title\":{\"text\":\"Geodesic Duration Time\",\"font\":{\"family\":\"CMU\",\"size\":15}},\"tickfont\":{\"family\":\"CMU\",\"size\":15}},\"yaxis\":{\"anchor\":\"x\",\"domain\":[0.0,1.0],\"title\":{\"text\":\"Geodesic Coef Error\",\"font\":{\"family\":\"CMU\",\"size\":15}},\"tickfont\":{\"family\":\"CMU\",\"size\":15}},\"legend\":{\"title\":{\"text\":\"Linear Residuals: 1 = True\"},\"tracegroupgap\":0,\"font\":{\"family\":\"CMU\",\"size\":15}},\"margin\":{\"t\":60},\"title\":{\"font\":{\"family\":\"CMU\",\"size\":15}},\"width\":650,\"height\":370},                        {\"responsive\": true}                    ).then(function(){\n",
       "                            \n",
       "var gd = document.getElementById('b41de181-7691-493d-a63f-6cc7f5ac37ec');\n",
       "var x = new MutationObserver(function (mutations, observer) {{\n",
       "        var display = window.getComputedStyle(gd).display;\n",
       "        if (!display || display === 'none') {{\n",
       "            console.log([gd, 'removed!']);\n",
       "            Plotly.purge(gd);\n",
       "            observer.disconnect();\n",
       "        }}\n",
       "}});\n",
       "\n",
       "// Listen for the removal of the full notebook cells\n",
       "var notebookContainer = gd.closest('#notebook-container');\n",
       "if (notebookContainer) {{\n",
       "    x.observe(notebookContainer, {childList: true});\n",
       "}}\n",
       "\n",
       "// Listen for the clearing of the current output cell\n",
       "var outputEl = gd.closest('.output');\n",
       "if (outputEl) {{\n",
       "    x.observe(outputEl, {childList: true});\n",
       "}}\n",
       "\n",
       "                        })                };                });            </script>        </div>"
      ]
     },
     "metadata": {},
     "output_type": "display_data"
    }
   ],
   "source": [
    "diff_scatter_grouped(\n",
    "    colored_by=\"linear_residuals_colors\",\n",
    "    marked_by=\"geodesic_coef_err\",\n",
    "    diff_seq=\"geodesic_coef_err\",\n",
    "    df = \"hyperboloid\"\n",
    ")"
   ]
  },
  {
   "cell_type": "code",
   "execution_count": null,
   "id": "52439696-a061-4eea-a997-ad609d861a42",
   "metadata": {},
   "outputs": [],
   "source": []
  }
 ],
 "metadata": {
  "kernelspec": {
   "display_name": "Python 3 (ipykernel)",
   "language": "python",
   "name": "python3"
  },
  "language_info": {
   "codemirror_mode": {
    "name": "ipython",
    "version": 3
   },
   "file_extension": ".py",
   "mimetype": "text/x-python",
   "name": "python",
   "nbconvert_exporter": "python",
   "pygments_lexer": "ipython3",
   "version": "3.10.13"
  }
 },
 "nbformat": 4,
 "nbformat_minor": 5
}
