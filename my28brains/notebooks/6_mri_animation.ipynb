{
 "cells": [
  {
   "cell_type": "markdown",
   "id": "37bf8e57-3993-424b-beaa-515ddaa2688c",
   "metadata": {},
   "source": [
    "# Create Animation of mri image evolving over menstrual cycle"
   ]
  },
  {
   "cell_type": "markdown",
   "id": "99e6a5d4-bd33-4ff9-bec6-68942cffaf40",
   "metadata": {},
   "source": [
    "## Note that this notebook will only work on the Frank server, as i was unable to transfer the original data onto parka (permission denied)"
   ]
  },
  {
   "cell_type": "code",
   "execution_count": 1,
   "id": "8948670b-3c73-44ac-bc5f-3d30de2f7a07",
   "metadata": {
    "tags": []
   },
   "outputs": [
    {
     "name": "stdout",
     "output_type": "stream",
     "text": [
      "Working directory:  /home/adele/code/my28brains\n",
      "Directory added to path:  /home/adele/code\n"
     ]
    }
   ],
   "source": [
    "import os\n",
    "import subprocess\n",
    "\n",
    "gitroot_path = subprocess.check_output(\n",
    "    [\"git\", \"rev-parse\", \"--show-toplevel\"], universal_newlines=True\n",
    ")\n",
    "os.chdir(gitroot_path[:-1])\n",
    "print(\"Working directory: \", os.getcwd())\n",
    "\n",
    "import warnings\n",
    "\n",
    "warnings.filterwarnings(\"ignore\")\n",
    "\n",
    "import sys\n",
    "\n",
    "sys_dir = os.path.dirname(os.getcwd())\n",
    "sys.path.append(sys_dir)\n",
    "print(\"Directory added to path: \", sys_dir)"
   ]
  },
  {
   "cell_type": "code",
   "execution_count": 2,
   "id": "a5ef1f23-b9fe-4a84-8c57-c1b2f0074a84",
   "metadata": {
    "tags": []
   },
   "outputs": [],
   "source": [
    "import matplotlib as mpl\n",
    "import matplotlib.pyplot as plt\n",
    "import nibabel\n",
    "import numpy as np\n",
    "from IPython.display import HTML\n",
    "from nilearn import plotting\n",
    "\n",
    "import my28brains.my28brains.viz as viz"
   ]
  },
  {
   "cell_type": "code",
   "execution_count": 3,
   "id": "27cafb35-3f1c-4f5b-84e0-998c9d437d7c",
   "metadata": {
    "tags": []
   },
   "outputs": [],
   "source": [
    "def show_slices(slices, cmap=\"gray\"):\n",
    "    \"\"\"Function to display row of image slices\"\"\"\n",
    "    fig, axes = plt.subplots(1, len(slices))\n",
    "    for i_slice, one_slice in enumerate(slices):\n",
    "        im = axes[i_slice].imshow(one_slice.T, cmap=cmap, origin=\"lower\")\n",
    "    return fig, axes, im"
   ]
  },
  {
   "cell_type": "markdown",
   "id": "fde63545-8b88-4d82-9c80-9e350aafd9bb",
   "metadata": {},
   "source": [
    "# Make video of Laura's brain for presentation"
   ]
  },
  {
   "cell_type": "code",
   "execution_count": 4,
   "id": "a276a932-4e4d-468e-b238-12ef324607e8",
   "metadata": {
    "tags": []
   },
   "outputs": [
    {
     "name": "stdout",
     "output_type": "stream",
     "text": [
      "['/home/data/28andme/sub-01/ses-02/anat/sub-01_ses-02_T1w.nii.gz', '/home/data/28andme/sub-01/ses-03/anat/sub-01_ses-03_T1w.nii.gz', '/home/data/28andme/sub-01/ses-04/anat/sub-01_ses-04_T1w.nii.gz', '/home/data/28andme/sub-01/ses-05/anat/sub-01_ses-05_T1w.nii.gz', '/home/data/28andme/sub-01/ses-06/anat/sub-01_ses-06_T1w.nii.gz', '/home/data/28andme/sub-01/ses-07/anat/sub-01_ses-07_T1w.nii.gz', '/home/data/28andme/sub-01/ses-08/anat/sub-01_ses-08_T1w.nii.gz', '/home/data/28andme/sub-01/ses-09/anat/sub-01_ses-09_T1w.nii.gz', '/home/data/28andme/sub-01/ses-10/anat/sub-01_ses-10_T1w.nii.gz', '/home/data/28andme/sub-01/ses-11/anat/sub-01_ses-11_T1w.nii.gz', '/home/data/28andme/sub-01/ses-12/anat/sub-01_ses-12_T1w.nii.gz', '/home/data/28andme/sub-01/ses-13/anat/sub-01_ses-13_T1w.nii.gz', '/home/data/28andme/sub-01/ses-14/anat/sub-01_ses-14_T1w.nii.gz', '/home/data/28andme/sub-01/ses-15/anat/sub-01_ses-15_T1w.nii.gz', '/home/data/28andme/sub-01/ses-16/anat/sub-01_ses-16_T1w.nii.gz', '/home/data/28andme/sub-01/ses-17/anat/sub-01_ses-17_T1w.nii.gz', '/home/data/28andme/sub-01/ses-18/anat/sub-01_ses-18_T1w.nii.gz', '/home/data/28andme/sub-01/ses-19/anat/sub-01_ses-19_T1w.nii.gz', '/home/data/28andme/sub-01/ses-20/anat/sub-01_ses-20_T1w.nii.gz', '/home/data/28andme/sub-01/ses-21/anat/sub-01_ses-21_T1w.nii.gz', '/home/data/28andme/sub-01/ses-22/anat/sub-01_ses-22_T1w.nii.gz', '/home/data/28andme/sub-01/ses-23/anat/sub-01_ses-23_T1w.nii.gz', '/home/data/28andme/sub-01/ses-24/anat/sub-01_ses-24_T1w.nii.gz', '/home/data/28andme/sub-01/ses-25/anat/sub-01_ses-25_T1w.nii.gz', '/home/data/28andme/sub-01/ses-26/anat/sub-01_ses-26_T1w.nii.gz', '/home/data/28andme/sub-01/ses-27/anat/sub-01_ses-27_T1w.nii.gz', '/home/data/28andme/sub-01/ses-28/anat/sub-01_ses-28_T1w.nii.gz', '/home/data/28andme/sub-01/ses-29/anat/sub-01_ses-29_T1w.nii.gz', '/home/data/28andme/sub-01/ses-30/anat/sub-01_ses-30_T1w.nii.gz']\n"
     ]
    }
   ],
   "source": [
    "# creating paths to brain data, one path for each day, contained in nii_paths\n",
    "\n",
    "nii_paths = []\n",
    "for day in range(2,31):\n",
    "    nii_paths.append(f\"/home/data/28andme/sub-01/ses-{day:02}/anat/sub-01_ses-{day:02}_T1w.nii.gz\")\n",
    "print(nii_paths)"
   ]
  },
  {
   "cell_type": "code",
   "execution_count": 5,
   "id": "cf2fdec4-6889-4127-9823-260fafbb2b93",
   "metadata": {
    "tags": []
   },
   "outputs": [],
   "source": [
    "import os\n",
    "import nibabel as nib\n",
    "from PIL import Image\n",
    "\n",
    "# Set the directory to save the converted images\n",
    "image_directory = \"/home/adele/code/my28brains/results/anims/mri_anim/\"\n",
    "\n",
    "for i_path, path in enumerate(nii_paths):\n",
    "    img = nib.load(path).get_fdata()\n",
    "    img = (img / img.max() * 255).astype(\"uint8\")  # Normalize pixel values\n",
    "    image_path = os.path.join(image_directory, f\"mri_day_{i_path:03}.png\")\n",
    "    #brain shifts, need to take different slices for later days.\n",
    "    if i_path <7 and i_path !=5:\n",
    "        Image.fromarray(img[:, 50, :]).save(image_path)\n",
    "    else: \n",
    "        Image.fromarray(img[:, 50, :]).save(image_path)\n",
    "    \n"
   ]
  },
  {
   "cell_type": "code",
   "execution_count": 6,
   "id": "386933d8-b2ab-46a1-8328-95f8193fde63",
   "metadata": {
    "tags": []
   },
   "outputs": [
    {
     "name": "stderr",
     "output_type": "stream",
     "text": [
      "ffmpeg version 4.4.2-0ubuntu0.22.04.1 Copyright (c) 2000-2021 the FFmpeg developers\n",
      "  built with gcc 11 (Ubuntu 11.2.0-19ubuntu1)\n",
      "  configuration: --prefix=/usr --extra-version=0ubuntu0.22.04.1 --toolchain=hardened --libdir=/usr/lib/x86_64-linux-gnu --incdir=/usr/include/x86_64-linux-gnu --arch=amd64 --enable-gpl --disable-stripping --enable-gnutls --enable-ladspa --enable-libaom --enable-libass --enable-libbluray --enable-libbs2b --enable-libcaca --enable-libcdio --enable-libcodec2 --enable-libdav1d --enable-libflite --enable-libfontconfig --enable-libfreetype --enable-libfribidi --enable-libgme --enable-libgsm --enable-libjack --enable-libmp3lame --enable-libmysofa --enable-libopenjpeg --enable-libopenmpt --enable-libopus --enable-libpulse --enable-librabbitmq --enable-librubberband --enable-libshine --enable-libsnappy --enable-libsoxr --enable-libspeex --enable-libsrt --enable-libssh --enable-libtheora --enable-libtwolame --enable-libvidstab --enable-libvorbis --enable-libvpx --enable-libwebp --enable-libx265 --enable-libxml2 --enable-libxvid --enable-libzimg --enable-libzmq --enable-libzvbi --enable-lv2 --enable-omx --enable-openal --enable-opencl --enable-opengl --enable-sdl2 --enable-pocketsphinx --enable-librsvg --enable-libmfx --enable-libdc1394 --enable-libdrm --enable-libiec61883 --enable-chromaprint --enable-frei0r --enable-libx264 --enable-shared\n",
      "  libavutil      56. 70.100 / 56. 70.100\n",
      "  libavcodec     58.134.100 / 58.134.100\n",
      "  libavformat    58. 76.100 / 58. 76.100\n",
      "  libavdevice    58. 13.100 / 58. 13.100\n",
      "  libavfilter     7.110.100 /  7.110.100\n",
      "  libswscale      5.  9.100 /  5.  9.100\n",
      "  libswresample   3.  9.100 /  3.  9.100\n",
      "  libpostproc    55.  9.100 / 55.  9.100\n",
      "Input #0, image2, from '/home/adele/code/my28brains/results/anims/mri_anim//*.png':\n",
      "  Duration: 00:00:10.00, start: 0.000000, bitrate: N/A\n",
      "  Stream #0:0: Video: png, rgb24(pc), 178x58, 3 fps, 3 tbr, 3 tbn, 3 tbc\n",
      "File '/home/adele/code/my28brains/results/anims/mri_anim/movie.mp4' already exists. Overwrite? [y/N] Not overwriting - exiting\n"
     ]
    },
    {
     "data": {
      "text/plain": [
       "256"
      ]
     },
     "execution_count": 6,
     "metadata": {},
     "output_type": "execute_result"
    }
   ],
   "source": [
    "# Set the output file name and path\n",
    "output_file = os.path.join(image_directory, \"movie.mp4\")\n",
    "\n",
    "# Set the frame rate of the output movie (frames per second)\n",
    "frame_rate = 3\n",
    "\n",
    "# Use ffmpeg to create the movie from the images\n",
    "os.system(f\"ffmpeg -framerate {frame_rate} -pattern_type glob -i '{image_directory}/*.png' -c:v libx264 -pix_fmt yuv420p {output_file}\")"
   ]
  },
  {
   "cell_type": "code",
   "execution_count": 7,
   "id": "30e7b34a-64c5-4231-919c-d974f271ffd8",
   "metadata": {
    "tags": []
   },
   "outputs": [],
   "source": [
    "from PIL import Image, ImageDraw, ImageFont\n",
    "\n",
    "\n",
    "\n",
    "# Set the font size\n",
    "font_size = 50\n",
    "\n",
    "# Set the font style\n",
    "font = ImageFont.truetype(\"/home/adele/code/my28brains/results/anims/mri_anim/days_gif/DejaVuSerif.ttf\", font_size)\n",
    "\n",
    "\n",
    "\n",
    "for day in range(2,31):\n",
    "    # Set the text to display\n",
    "    text = f\"Day {day:02}\"\n",
    "\n",
    "    # Get the width and height of the text\n",
    "    text_width, text_height = font.getsize(text)\n",
    "\n",
    "    # Create a new image with a white background\n",
    "    image = Image.new(\"RGB\", (text_width, text_height), color=(255, 255, 255))\n",
    "\n",
    "    # Add the text to the image\n",
    "    draw = ImageDraw.Draw(image)\n",
    "    draw.text((0, 0), text, fill=(0, 0, 0), font=font)\n",
    "\n",
    "    # Save the image as a .png file\n",
    "    directory = \"/home/adele/code/my28brains/results/anims/mri_anim/days_gif/\"\n",
    "    filename = f\"Day_{day:02}.png\"\n",
    "    fullpath = directory + filename\n",
    "    image.save(fullpath, \"PNG\")\n"
   ]
  },
  {
   "cell_type": "code",
   "execution_count": 8,
   "id": "4d772fea-cb8d-4e43-bfa1-d1bdbb93011d",
   "metadata": {
    "tags": []
   },
   "outputs": [
    {
     "name": "stderr",
     "output_type": "stream",
     "text": [
      "ffmpeg version 4.4.2-0ubuntu0.22.04.1 Copyright (c) 2000-2021 the FFmpeg developers\n",
      "  built with gcc 11 (Ubuntu 11.2.0-19ubuntu1)\n",
      "  configuration: --prefix=/usr --extra-version=0ubuntu0.22.04.1 --toolchain=hardened --libdir=/usr/lib/x86_64-linux-gnu --incdir=/usr/include/x86_64-linux-gnu --arch=amd64 --enable-gpl --disable-stripping --enable-gnutls --enable-ladspa --enable-libaom --enable-libass --enable-libbluray --enable-libbs2b --enable-libcaca --enable-libcdio --enable-libcodec2 --enable-libdav1d --enable-libflite --enable-libfontconfig --enable-libfreetype --enable-libfribidi --enable-libgme --enable-libgsm --enable-libjack --enable-libmp3lame --enable-libmysofa --enable-libopenjpeg --enable-libopenmpt --enable-libopus --enable-libpulse --enable-librabbitmq --enable-librubberband --enable-libshine --enable-libsnappy --enable-libsoxr --enable-libspeex --enable-libsrt --enable-libssh --enable-libtheora --enable-libtwolame --enable-libvidstab --enable-libvorbis --enable-libvpx --enable-libwebp --enable-libx265 --enable-libxml2 --enable-libxvid --enable-libzimg --enable-libzmq --enable-libzvbi --enable-lv2 --enable-omx --enable-openal --enable-opencl --enable-opengl --enable-sdl2 --enable-pocketsphinx --enable-librsvg --enable-libmfx --enable-libdc1394 --enable-libdrm --enable-libiec61883 --enable-chromaprint --enable-frei0r --enable-libx264 --enable-shared\n",
      "  libavutil      56. 70.100 / 56. 70.100\n",
      "  libavcodec     58.134.100 / 58.134.100\n",
      "  libavformat    58. 76.100 / 58. 76.100\n",
      "  libavdevice    58. 13.100 / 58. 13.100\n",
      "  libavfilter     7.110.100 /  7.110.100\n",
      "  libswscale      5.  9.100 /  5.  9.100\n",
      "  libswresample   3.  9.100 /  3.  9.100\n",
      "  libpostproc    55.  9.100 / 55.  9.100\n",
      "Input #0, image2, from '/home/adele/code/my28brains/results/anims/mri_anim/days_gif//*.png':\n",
      "  Duration: 00:00:09.67, start: 0.000000, bitrate: N/A\n",
      "  Stream #0:0: Video: png, rgb24(pc), 178x58, 3 fps, 3 tbr, 3 tbn, 3 tbc\n",
      "File '/home/adele/code/my28brains/results/anims/mri_anim/days_gif/day_movie.mp4' already exists. Overwrite? [y/N] Not overwriting - exiting\n"
     ]
    },
    {
     "data": {
      "text/plain": [
       "256"
      ]
     },
     "execution_count": 8,
     "metadata": {},
     "output_type": "execute_result"
    }
   ],
   "source": [
    "day_directory = \"/home/adele/code/my28brains/results/anims/mri_anim/days_gif/\"\n",
    "\n",
    "# Set the output file name and path\n",
    "output_file = os.path.join(day_directory, \"day_movie.mp4\")\n",
    "\n",
    "# Set the frame rate of the output movie (frames per second)\n",
    "frame_rate = 3\n",
    "\n",
    "# Use ffmpeg to create the movie from the images\n",
    "os.system(f\"ffmpeg -framerate {frame_rate} -pattern_type glob -i '{day_directory}/*.png' -c:v libx264 -pix_fmt yuv420p {output_file}\")"
   ]
  },
  {
   "cell_type": "code",
   "execution_count": null,
   "id": "5014c2b9-517d-4241-8b25-554461aa6a96",
   "metadata": {},
   "outputs": [],
   "source": []
  }
 ],
 "metadata": {
  "kernelspec": {
   "display_name": "Python 3 (ipykernel)",
   "language": "python",
   "name": "python3"
  },
  "language_info": {
   "codemirror_mode": {
    "name": "ipython",
    "version": 3
   },
   "file_extension": ".py",
   "mimetype": "text/x-python",
   "name": "python",
   "nbconvert_exporter": "python",
   "pygments_lexer": "ipython3",
   "version": "3.8.16"
  }
 },
 "nbformat": 4,
 "nbformat_minor": 5
}
