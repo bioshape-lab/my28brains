{
 "cells": [
  {
   "cell_type": "markdown",
   "id": "805fcdc1-0ce8-42e2-9f0c-81e826ade386",
   "metadata": {},
   "source": [
    "# Create Spherical Mesh"
   ]
  },
  {
   "cell_type": "markdown",
   "id": "137ec312-107c-4693-bee8-9ab84658295b",
   "metadata": {},
   "source": [
    "This notebook uses meshzoo to create a 2D mesh that we will use this mesh for unit testing `discrete_surfaces.py`."
   ]
  },
  {
   "cell_type": "markdown",
   "id": "52a6cb75-4e5d-4f95-b4ea-880c717fc16a",
   "metadata": {
    "tags": []
   },
   "source": [
    "# Set Up"
   ]
  },
  {
   "cell_type": "code",
   "execution_count": 1,
   "id": "211dafc3-d842-4007-89e4-94ea70fd9879",
   "metadata": {},
   "outputs": [
    {
     "name": "stdout",
     "output_type": "stream",
     "text": [
      "Working directory:  /home/adele/code/my28brains\n",
      "Added directories to syspath:\n",
      "/home/adele/code\n"
     ]
    }
   ],
   "source": [
    "import os\n",
    "import subprocess\n",
    "\n",
    "gitroot_path = subprocess.check_output(\n",
    "    [\"git\", \"rev-parse\", \"--show-toplevel\"], universal_newlines=True\n",
    ")\n",
    "os.chdir(gitroot_path[:-1])\n",
    "work_dir = os.getcwd()\n",
    "print(\"Working directory: \", work_dir)\n",
    "\n",
    "import warnings\n",
    "\n",
    "warnings.filterwarnings(\"ignore\")\n",
    "\n",
    "import sys\n",
    "\n",
    "sys_dir = os.path.dirname(work_dir)\n",
    "sys.path.append(sys_dir)\n",
    "\n",
    "print(\"Added directories to syspath:\")\n",
    "print(sys_dir)"
   ]
  },
  {
   "cell_type": "markdown",
   "id": "6f47dce0-fa7e-4fc4-a17b-6075f2ac5457",
   "metadata": {},
   "source": [
    "# Project Specific Imports"
   ]
  },
  {
   "cell_type": "code",
   "execution_count": 2,
   "id": "5e9b75d0-07dc-411c-9c02-f9e6824ee032",
   "metadata": {},
   "outputs": [
    {
     "name": "stderr",
     "output_type": "stream",
     "text": [
      "INFO: Using numpy backend\n"
     ]
    }
   ],
   "source": [
    "import glob\n",
    "import trimesh\n",
    "import numpy as np\n",
    "\n",
    "# so that we can write to the server\n",
    "import my28brains.my28brains.io_mesh as io_mesh"
   ]
  },
  {
   "cell_type": "markdown",
   "id": "a285b60c-60de-45f2-bd6a-3958bb65e8df",
   "metadata": {},
   "source": [
    "# Define Dirs"
   ]
  },
  {
   "cell_type": "code",
   "execution_count": 3,
   "id": "e2cb4807-f635-4016-ba00-2a51e0bb301b",
   "metadata": {},
   "outputs": [
    {
     "name": "stdout",
     "output_type": "stream",
     "text": [
      "CUBE_MESH_DIR:  /home/adele/code/my28brains/data/cube_meshes\n",
      "CUBE_MESH_DIR:  /home/adele/code/my28brains/data/cube_meshes\n"
     ]
    }
   ],
   "source": [
    "CUBE_MESH_DIR = os.path.join(os.getcwd(), \"data\", \"cube_meshes\")\n",
    "print(\"CUBE_MESH_DIR: \", CUBE_MESH_DIR)\n",
    "\n",
    "print(\"CUBE_MESH_DIR: \", CUBE_MESH_DIR)\n",
    "if not os.path.exists(CUBE_MESH_DIR):\n",
    "    os.makedirs(CUBE_MESH_DIR)"
   ]
  },
  {
   "cell_type": "code",
   "execution_count": 4,
   "id": "7d774131-ae07-4e94-b616-a6dc7c5e0ba6",
   "metadata": {},
   "outputs": [
    {
     "name": "stdout",
     "output_type": "stream",
     "text": [
      "/home/adele/code/my28brains/data/cube_meshes/cube_mesh.ply\n"
     ]
    }
   ],
   "source": [
    "path = os.path.join(CUBE_MESH_DIR, f\"cube_mesh.ply\")\n",
    "print(path)"
   ]
  },
  {
   "cell_type": "markdown",
   "id": "cfe64e3e-93cb-4e0d-8bf7-0345986eb39a",
   "metadata": {},
   "source": [
    "# Create cube mesh"
   ]
  },
  {
   "cell_type": "code",
   "execution_count": 6,
   "id": "09e6645b-3691-480e-985d-eee506273801",
   "metadata": {},
   "outputs": [],
   "source": [
    "vertices = np.array(\n",
    "    [\n",
    "        [1, 1, 1],\n",
    "        [1, -1, 1],\n",
    "        [1, -1, -1],\n",
    "        [1, 1, -1],\n",
    "        [-1, 1, 1],\n",
    "        [-1, -1, 1],\n",
    "        [-1, -1, -1],\n",
    "        [-1, 1, -1],\n",
    "    ]\n",
    ")\n",
    "\n",
    "faces = np.array(\n",
    "    [\n",
    "        [0, 1, 4],\n",
    "        [1, 4, 5],\n",
    "        [0, 3, 4],\n",
    "        [3, 4, 7],\n",
    "        [1, 2, 3],\n",
    "        [0, 1, 3],\n",
    "        [1, 2, 5],\n",
    "        [2, 5, 6],\n",
    "        [5, 6, 7],\n",
    "        [4, 5, 7],\n",
    "        [2, 6, 7],\n",
    "        [2, 3, 7],\n",
    "    ]\n",
    ")\n",
    "\n",
    "new_mesh = trimesh.Trimesh(vertices=vertices, faces=faces)"
   ]
  },
  {
   "cell_type": "markdown",
   "id": "c1960fdf-8fec-4511-a4bd-abb43a12df36",
   "metadata": {
    "tags": []
   },
   "source": [
    "# Save Data"
   ]
  },
  {
   "cell_type": "code",
   "execution_count": 7,
   "id": "01ca5ce9-def2-4d18-abd6-5fad5ff02781",
   "metadata": {},
   "outputs": [
    {
     "name": "stdout",
     "output_type": "stream",
     "text": [
      "/home/adele/code/my28brains/data/cube_meshes/cube_mesh.ply\n",
      "Writing mesh at /home/adele/code/my28brains/data/cube_meshes/cube_mesh.ply...\n"
     ]
    }
   ],
   "source": [
    "ply_path = os.path.join(CUBE_MESH_DIR, os.path.basename(path))\n",
    "print(ply_path)\n",
    "io_mesh.write_trimesh_to_ply(new_mesh, ply_path)"
   ]
  },
  {
   "cell_type": "code",
   "execution_count": 9,
   "id": "9d193bc2-3e3f-4eec-81cc-7279d58ace1f",
   "metadata": {},
   "outputs": [],
   "source": [
    "npy_path = os.path.join(CUBE_MESH_DIR, os.path.basename(path))\n",
    "np.save(os.path.join(CUBE_MESH_DIR, \"faces.npy\"), faces)\n",
    "np.save(os.path.join(CUBE_MESH_DIR, \"vertices.npy\"), vertices)"
   ]
  },
  {
   "cell_type": "markdown",
   "id": "24947e6f-5575-47d2-a198-7dc2d04c4509",
   "metadata": {
    "tags": []
   },
   "source": [
    "# Practice Loading this Data"
   ]
  },
  {
   "cell_type": "code",
   "execution_count": 10,
   "id": "ef320b1c-3e70-4c5b-a725-7f5fe55e5fc3",
   "metadata": {},
   "outputs": [
    {
     "name": "stdout",
     "output_type": "stream",
     "text": [
      "/home/adele/code/my28brains/data/cube_meshes/faces.npy\n",
      "/home/adele/code/my28brains/data/cube_meshes/vertices.npy\n"
     ]
    }
   ],
   "source": [
    "DATA_DIR = os.path.join(os.getcwd(), \"data\")\n",
    "CUBE_MESH_DIR = os.path.join(DATA_DIR, \"cube_meshes\")\n",
    "test_vertices_path = os.path.join(CUBE_MESH_DIR, \"faces.npy\")\n",
    "test_faces_path = os.path.join(CUBE_MESH_DIR, \"vertices.npy\")\n",
    "print(test_vertices_path)\n",
    "print(test_faces_path)"
   ]
  },
  {
   "cell_type": "code",
   "execution_count": 11,
   "id": "2a8c848e-1247-4e71-ba7f-0c668c1105dc",
   "metadata": {},
   "outputs": [],
   "source": [
    "test_vertices = np.load(test_vertices_path)\n",
    "test_faces = np.load(test_faces_path)"
   ]
  },
  {
   "cell_type": "code",
   "execution_count": 12,
   "id": "c45c04d5-60e5-432d-9e93-8079966f79f7",
   "metadata": {},
   "outputs": [
    {
     "data": {
      "text/plain": [
       "(8, 3)"
      ]
     },
     "execution_count": 12,
     "metadata": {},
     "output_type": "execute_result"
    }
   ],
   "source": [
    "test_faces.shape"
   ]
  },
  {
   "cell_type": "code",
   "execution_count": null,
   "id": "ed13f8c6-941a-467a-843f-535add2ca22f",
   "metadata": {},
   "outputs": [],
   "source": []
  }
 ],
 "metadata": {
  "kernelspec": {
   "display_name": "Python 3 (ipykernel)",
   "language": "python",
   "name": "python3"
  },
  "language_info": {
   "codemirror_mode": {
    "name": "ipython",
    "version": 3
   },
   "file_extension": ".py",
   "mimetype": "text/x-python",
   "name": "python",
   "nbconvert_exporter": "python",
   "pygments_lexer": "ipython3",
   "version": "3.10.12"
  },
  "vscode": {
   "interpreter": {
    "hash": "31f2aee4e71d21fbe5cf8b01ff0e069b9275f58929596ceb00d14d90e3e16cd6"
   }
  }
 },
 "nbformat": 4,
 "nbformat_minor": 5
}
