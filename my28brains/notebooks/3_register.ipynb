{
 "cells": [
  {
   "cell_type": "markdown",
   "id": "e83da423-358f-4c93-945c-df2f59a2ac77",
   "metadata": {},
   "source": [
    "# Register Meshes to the First Mesh of the Time-Series"
   ]
  },
  {
   "cell_type": "markdown",
   "id": "487abffb-bb35-484e-bffb-c1fd48caa910",
   "metadata": {},
   "source": [
    "This notebook transforms (also called: registers, or aligns) the meshes of the time-series to the first mesh."
   ]
  },
  {
   "cell_type": "markdown",
   "id": "d3eb0910-31f5-47aa-82ea-8421422ddae6",
   "metadata": {},
   "source": [
    "## Set-up and Imports"
   ]
  },
  {
   "cell_type": "code",
   "execution_count": 1,
   "id": "05d9b15f-0841-4e5e-9d51-fe76fe1fa4d8",
   "metadata": {},
   "outputs": [
    {
     "name": "stdout",
     "output_type": "stream",
     "text": [
      "Working directory:  /home/nmiolane/code/my28brains\n"
     ]
    }
   ],
   "source": [
    "import os\n",
    "import subprocess\n",
    "\n",
    "gitroot_path = subprocess.check_output(\n",
    "    [\"git\", \"rev-parse\", \"--show-toplevel\"], universal_newlines=True\n",
    ")\n",
    "os.chdir(gitroot_path[:-1])\n",
    "print(\"Working directory: \", os.getcwd())\n",
    "\n",
    "import warnings\n",
    "\n",
    "warnings.filterwarnings(\"ignore\")\n",
    "\n",
    "import sys\n",
    "\n",
    "sys_dir = os.path.dirname(os.getcwd())\n",
    "sys.path.append(sys_dir)"
   ]
  },
  {
   "cell_type": "code",
   "execution_count": 2,
   "id": "9f32b666-48e4-4cc4-a9f3-c5c17b04271c",
   "metadata": {},
   "outputs": [
    {
     "name": "stdout",
     "output_type": "stream",
     "text": [
      "MESHES_DIR:  /home/nmiolane/code/my28brains/data/meshes\n"
     ]
    }
   ],
   "source": [
    "import glob\n",
    "\n",
    "import trimesh\n",
    "\n",
    "MESHES_DIR = os.path.join(os.getcwd(), \"data\", \"meshes\")\n",
    "print(\"MESHES_DIR: \", MESHES_DIR)"
   ]
  },
  {
   "cell_type": "markdown",
   "id": "b0fe6371-3f22-4fd7-b5d7-fead6adea4d7",
   "metadata": {},
   "source": [
    "## Left Hemisphere: Register Meshes on the First (Base) Mesh of the Time-Series"
   ]
  },
  {
   "cell_type": "code",
   "execution_count": 3,
   "id": "b29c09e9-2ee3-4319-ac24-6ef70e4ddd81",
   "metadata": {},
   "outputs": [
    {
     "name": "stdout",
     "output_type": "stream",
     "text": [
      "Found 27 ply files.\n",
      "['/home/nmiolane/code/my28brains/data/meshes/sub-01/ses-02/ashs/left_lfseg_corr_usegray_CT_LQ.ply', '/home/nmiolane/code/my28brains/data/meshes/sub-01/ses-03/ashs/left_lfseg_corr_usegray_CT_LQ.ply', '/home/nmiolane/code/my28brains/data/meshes/sub-01/ses-04/ashs/left_lfseg_corr_usegray_CT_LQ.ply', '/home/nmiolane/code/my28brains/data/meshes/sub-01/ses-05/ashs/left_lfseg_corr_usegray_CT_LQ.ply', '/home/nmiolane/code/my28brains/data/meshes/sub-01/ses-06/ashs/left_lfseg_corr_usegray_CT_LQ.ply', '/home/nmiolane/code/my28brains/data/meshes/sub-01/ses-07/ashs/left_lfseg_corr_usegray_CT_LQ.ply', '/home/nmiolane/code/my28brains/data/meshes/sub-01/ses-08/ashs/left_lfseg_corr_usegray_CT_LQ.ply', '/home/nmiolane/code/my28brains/data/meshes/sub-01/ses-09/ashs/left_lfseg_corr_usegray_CT_LQ.ply', '/home/nmiolane/code/my28brains/data/meshes/sub-01/ses-10/ashs/left_lfseg_corr_usegray_CT_LQ.ply', '/home/nmiolane/code/my28brains/data/meshes/sub-01/ses-11/ashs/left_lfseg_corr_usegray_CT_LQ.ply', '/home/nmiolane/code/my28brains/data/meshes/sub-01/ses-12/ashs/left_lfseg_corr_usegray_CT_LQ.ply', '/home/nmiolane/code/my28brains/data/meshes/sub-01/ses-14/ashs/left_lfseg_corr_usegray_CT_LQ.ply', '/home/nmiolane/code/my28brains/data/meshes/sub-01/ses-15/ashs/left_lfseg_corr_usegray_CT_LQ.ply', '/home/nmiolane/code/my28brains/data/meshes/sub-01/ses-16/ashs/left_lfseg_corr_usegray_CT_LQ.ply', '/home/nmiolane/code/my28brains/data/meshes/sub-01/ses-17/ashs/left_lfseg_corr_usegray_CT_LQ.ply', '/home/nmiolane/code/my28brains/data/meshes/sub-01/ses-18/ashs/left_lfseg_corr_usegray_CT_LQ.ply', '/home/nmiolane/code/my28brains/data/meshes/sub-01/ses-20/ashs/left_lfseg_corr_usegray_CT_LQ.ply', '/home/nmiolane/code/my28brains/data/meshes/sub-01/ses-21/ashs/left_lfseg_corr_usegray_CT_LQ.ply', '/home/nmiolane/code/my28brains/data/meshes/sub-01/ses-22/ashs/left_lfseg_corr_usegray_CT_LQ.ply', '/home/nmiolane/code/my28brains/data/meshes/sub-01/ses-23/ashs/left_lfseg_corr_usegray_CT_LQ.ply', '/home/nmiolane/code/my28brains/data/meshes/sub-01/ses-24/ashs/left_lfseg_corr_usegray_CT_LQ.ply', '/home/nmiolane/code/my28brains/data/meshes/sub-01/ses-25/ashs/left_lfseg_corr_usegray_CT_LQ.ply', '/home/nmiolane/code/my28brains/data/meshes/sub-01/ses-26/ashs/left_lfseg_corr_usegray_CT_LQ.ply', '/home/nmiolane/code/my28brains/data/meshes/sub-01/ses-27/ashs/left_lfseg_corr_usegray_CT_LQ.ply', '/home/nmiolane/code/my28brains/data/meshes/sub-01/ses-28/ashs/left_lfseg_corr_usegray_CT_LQ.ply', '/home/nmiolane/code/my28brains/data/meshes/sub-01/ses-29/ashs/left_lfseg_corr_usegray_CT_LQ.ply', '/home/nmiolane/code/my28brains/data/meshes/sub-01/ses-30/ashs/left_lfseg_corr_usegray_CT_LQ.ply']\n"
     ]
    }
   ],
   "source": [
    "hemisphere = \"left\"\n",
    "ply_suffix = f\"ashs/{hemisphere}_lfseg_corr_usegray_CT_LQ.ply\"\n",
    "string_base = os.path.join(MESHES_DIR, f\"sub-01/ses-**/{ply_suffix}\")\n",
    "paths = sorted(glob.glob(string_base))\n",
    "\n",
    "print(f\"Found {len(paths)} ply files.\")\n",
    "print(paths)"
   ]
  },
  {
   "cell_type": "code",
   "execution_count": 4,
   "id": "10814514-6d97-43e8-8c80-f64584e6c790",
   "metadata": {},
   "outputs": [
    {
     "name": "stdout",
     "output_type": "stream",
     "text": [
      "Using the first mesh of the time-series as the base mesh:\n",
      " /home/nmiolane/code/my28brains/data/meshes/sub-01/ses-02/ashs/left_lfseg_corr_usegray_CT_LQ.ply\n"
     ]
    }
   ],
   "source": [
    "base_path = paths[0]\n",
    "print(\"Using the first mesh of the time-series as the base mesh:\\n\", base_path)"
   ]
  },
  {
   "cell_type": "code",
   "execution_count": 12,
   "id": "af3511cb-60a8-416e-8117-83c33c32aaf5",
   "metadata": {},
   "outputs": [
    {
     "name": "stdout",
     "output_type": "stream",
     "text": [
      "<trimesh.Trimesh(vertices.shape=(19132, 3), faces.shape=(38388, 3))>\n",
      "[[129.5 130.    8. ]\n",
      " [130.  130.    7.5]\n",
      " [130.  129.5   8. ]\n",
      " [130.  130.    8.5]\n",
      " [129.5 131.    8. ]\n",
      " [130.  131.    7.5]\n",
      " [130.  131.    8.5]\n",
      " [129.5 132.    8. ]\n",
      " [130.  132.    7.5]\n",
      " [130.  132.    8.5]]\n",
      "Writing base mesh at /home/nmiolane/code/my28brains/data/registered_meshes/sub-01/ses-02/ashs/left_lfseg_corr_usegray_CT_LQ.ply...\n"
     ]
    }
   ],
   "source": [
    "base_mesh = trimesh.load(base_path)\n",
    "print(base_mesh)\n",
    "print(base_mesh.vertices[:10])\n",
    "\n",
    "path_split = base_path.split(\"/\")\n",
    "sub, ses, img_dir, img_name = path_split[7:11]\n",
    "ply_name = img_name.split(\".\")[0] + \".ply\"\n",
    "ply_dir = os.path.join(os.getcwd(), \"data\", \"registered_meshes\", sub, ses, img_dir)\n",
    "ply_path = os.path.join(ply_dir, ply_name)\n",
    "if not os.path.exists(ply_dir):\n",
    "    os.makedirs(ply_dir)\n",
    "\n",
    "print(f\"Writing base mesh at {ply_path}...\")\n",
    "with open(ply_path, \"wb\") as f:\n",
    "    f.write(ply_text)"
   ]
  },
  {
   "cell_type": "code",
   "execution_count": 13,
   "id": "be4edc78-278c-4b8e-a909-8368d773f1ea",
   "metadata": {},
   "outputs": [
    {
     "name": "stdout",
     "output_type": "stream",
     "text": [
      "Writing registered mesh at /home/nmiolane/code/my28brains/data/registered_meshes/sub-01/ses-03/ashs/left_lfseg_corr_usegray_CT_LQ.ply...\n",
      "Writing registered mesh at /home/nmiolane/code/my28brains/data/registered_meshes/sub-01/ses-04/ashs/left_lfseg_corr_usegray_CT_LQ.ply...\n",
      "Writing registered mesh at /home/nmiolane/code/my28brains/data/registered_meshes/sub-01/ses-05/ashs/left_lfseg_corr_usegray_CT_LQ.ply...\n",
      "Writing registered mesh at /home/nmiolane/code/my28brains/data/registered_meshes/sub-01/ses-06/ashs/left_lfseg_corr_usegray_CT_LQ.ply...\n",
      "Writing registered mesh at /home/nmiolane/code/my28brains/data/registered_meshes/sub-01/ses-07/ashs/left_lfseg_corr_usegray_CT_LQ.ply...\n",
      "Writing registered mesh at /home/nmiolane/code/my28brains/data/registered_meshes/sub-01/ses-08/ashs/left_lfseg_corr_usegray_CT_LQ.ply...\n",
      "Writing registered mesh at /home/nmiolane/code/my28brains/data/registered_meshes/sub-01/ses-09/ashs/left_lfseg_corr_usegray_CT_LQ.ply...\n",
      "Writing registered mesh at /home/nmiolane/code/my28brains/data/registered_meshes/sub-01/ses-10/ashs/left_lfseg_corr_usegray_CT_LQ.ply...\n",
      "Writing registered mesh at /home/nmiolane/code/my28brains/data/registered_meshes/sub-01/ses-11/ashs/left_lfseg_corr_usegray_CT_LQ.ply...\n",
      "Writing registered mesh at /home/nmiolane/code/my28brains/data/registered_meshes/sub-01/ses-12/ashs/left_lfseg_corr_usegray_CT_LQ.ply...\n",
      "Writing registered mesh at /home/nmiolane/code/my28brains/data/registered_meshes/sub-01/ses-14/ashs/left_lfseg_corr_usegray_CT_LQ.ply...\n",
      "Writing registered mesh at /home/nmiolane/code/my28brains/data/registered_meshes/sub-01/ses-15/ashs/left_lfseg_corr_usegray_CT_LQ.ply...\n",
      "Writing registered mesh at /home/nmiolane/code/my28brains/data/registered_meshes/sub-01/ses-16/ashs/left_lfseg_corr_usegray_CT_LQ.ply...\n",
      "Writing registered mesh at /home/nmiolane/code/my28brains/data/registered_meshes/sub-01/ses-17/ashs/left_lfseg_corr_usegray_CT_LQ.ply...\n",
      "Writing registered mesh at /home/nmiolane/code/my28brains/data/registered_meshes/sub-01/ses-18/ashs/left_lfseg_corr_usegray_CT_LQ.ply...\n",
      "Writing registered mesh at /home/nmiolane/code/my28brains/data/registered_meshes/sub-01/ses-20/ashs/left_lfseg_corr_usegray_CT_LQ.ply...\n",
      "Writing registered mesh at /home/nmiolane/code/my28brains/data/registered_meshes/sub-01/ses-21/ashs/left_lfseg_corr_usegray_CT_LQ.ply...\n",
      "Writing registered mesh at /home/nmiolane/code/my28brains/data/registered_meshes/sub-01/ses-22/ashs/left_lfseg_corr_usegray_CT_LQ.ply...\n",
      "Writing registered mesh at /home/nmiolane/code/my28brains/data/registered_meshes/sub-01/ses-23/ashs/left_lfseg_corr_usegray_CT_LQ.ply...\n",
      "Writing registered mesh at /home/nmiolane/code/my28brains/data/registered_meshes/sub-01/ses-24/ashs/left_lfseg_corr_usegray_CT_LQ.ply...\n",
      "Writing registered mesh at /home/nmiolane/code/my28brains/data/registered_meshes/sub-01/ses-25/ashs/left_lfseg_corr_usegray_CT_LQ.ply...\n",
      "Writing registered mesh at /home/nmiolane/code/my28brains/data/registered_meshes/sub-01/ses-26/ashs/left_lfseg_corr_usegray_CT_LQ.ply...\n",
      "Writing registered mesh at /home/nmiolane/code/my28brains/data/registered_meshes/sub-01/ses-27/ashs/left_lfseg_corr_usegray_CT_LQ.ply...\n",
      "Writing registered mesh at /home/nmiolane/code/my28brains/data/registered_meshes/sub-01/ses-28/ashs/left_lfseg_corr_usegray_CT_LQ.ply...\n",
      "Writing registered mesh at /home/nmiolane/code/my28brains/data/registered_meshes/sub-01/ses-29/ashs/left_lfseg_corr_usegray_CT_LQ.ply...\n",
      "Writing registered mesh at /home/nmiolane/code/my28brains/data/registered_meshes/sub-01/ses-30/ashs/left_lfseg_corr_usegray_CT_LQ.ply...\n"
     ]
    }
   ],
   "source": [
    "for path in paths[1:]:\n",
    "    mesh = trimesh.load(path)\n",
    "    transform_mesh_to_other, _ = trimesh.registration.mesh_other(\n",
    "        mesh=mesh, other=base_mesh, scale=False\n",
    "    )\n",
    "\n",
    "    # Note: This modifies the original mesh in place\n",
    "    registered_mesh = mesh.apply_transform(transform_mesh_to_other)\n",
    "\n",
    "    ply_text = trimesh.exchange.ply.export_ply(registered_mesh, encoding=\"ascii\")\n",
    "\n",
    "    path_split = path.split(\"/\")\n",
    "    sub, ses, img_dir, img_name = path_split[7:11]\n",
    "    ply_name = img_name.split(\".\")[0] + \".ply\"\n",
    "\n",
    "    ply_dir = os.path.join(os.getcwd(), \"data\", \"registered_meshes\", sub, ses, img_dir)\n",
    "\n",
    "    ply_path = os.path.join(ply_dir, ply_name)\n",
    "    if not os.path.exists(ply_dir):\n",
    "        os.makedirs(ply_dir)\n",
    "\n",
    "    print(f\"Writing registered mesh at {ply_path}...\")\n",
    "    with open(ply_path, \"wb\") as f:\n",
    "        f.write(ply_text)"
   ]
  },
  {
   "cell_type": "markdown",
   "id": "54459d0d-cd59-4489-8b9c-49131a6df1ec",
   "metadata": {
    "tags": []
   },
   "source": [
    "## Right Hemisphere: Register Meshes on the First (Base) Mesh of the Time-Series"
   ]
  },
  {
   "cell_type": "code",
   "execution_count": 14,
   "id": "47ad4938-9c87-4d18-b271-db9eec58d54c",
   "metadata": {},
   "outputs": [
    {
     "name": "stdout",
     "output_type": "stream",
     "text": [
      "Found 25 ply files.\n",
      "['/home/nmiolane/code/my28brains/data/meshes/sub-01/ses-02/ashs/right_lfseg_corr_usegray_CT_LQ.ply', '/home/nmiolane/code/my28brains/data/meshes/sub-01/ses-03/ashs/right_lfseg_corr_usegray_CT_LQ.ply', '/home/nmiolane/code/my28brains/data/meshes/sub-01/ses-04/ashs/right_lfseg_corr_usegray_CT_LQ.ply', '/home/nmiolane/code/my28brains/data/meshes/sub-01/ses-06/ashs/right_lfseg_corr_usegray_CT_LQ.ply', '/home/nmiolane/code/my28brains/data/meshes/sub-01/ses-07/ashs/right_lfseg_corr_usegray_CT_LQ.ply', '/home/nmiolane/code/my28brains/data/meshes/sub-01/ses-08/ashs/right_lfseg_corr_usegray_CT_LQ.ply', '/home/nmiolane/code/my28brains/data/meshes/sub-01/ses-10/ashs/right_lfseg_corr_usegray_CT_LQ.ply', '/home/nmiolane/code/my28brains/data/meshes/sub-01/ses-11/ashs/right_lfseg_corr_usegray_CT_LQ.ply', '/home/nmiolane/code/my28brains/data/meshes/sub-01/ses-12/ashs/right_lfseg_corr_usegray_CT_LQ.ply', '/home/nmiolane/code/my28brains/data/meshes/sub-01/ses-14/ashs/right_lfseg_corr_usegray_CT_LQ.ply', '/home/nmiolane/code/my28brains/data/meshes/sub-01/ses-16/ashs/right_lfseg_corr_usegray_CT_LQ.ply', '/home/nmiolane/code/my28brains/data/meshes/sub-01/ses-17/ashs/right_lfseg_corr_usegray_CT_LQ.ply', '/home/nmiolane/code/my28brains/data/meshes/sub-01/ses-18/ashs/right_lfseg_corr_usegray_CT_LQ.ply', '/home/nmiolane/code/my28brains/data/meshes/sub-01/ses-19/ashs/right_lfseg_corr_usegray_CT_LQ.ply', '/home/nmiolane/code/my28brains/data/meshes/sub-01/ses-20/ashs/right_lfseg_corr_usegray_CT_LQ.ply', '/home/nmiolane/code/my28brains/data/meshes/sub-01/ses-21/ashs/right_lfseg_corr_usegray_CT_LQ.ply', '/home/nmiolane/code/my28brains/data/meshes/sub-01/ses-22/ashs/right_lfseg_corr_usegray_CT_LQ.ply', '/home/nmiolane/code/my28brains/data/meshes/sub-01/ses-23/ashs/right_lfseg_corr_usegray_CT_LQ.ply', '/home/nmiolane/code/my28brains/data/meshes/sub-01/ses-24/ashs/right_lfseg_corr_usegray_CT_LQ.ply', '/home/nmiolane/code/my28brains/data/meshes/sub-01/ses-25/ashs/right_lfseg_corr_usegray_CT_LQ.ply', '/home/nmiolane/code/my28brains/data/meshes/sub-01/ses-26/ashs/right_lfseg_corr_usegray_CT_LQ.ply', '/home/nmiolane/code/my28brains/data/meshes/sub-01/ses-27/ashs/right_lfseg_corr_usegray_CT_LQ.ply', '/home/nmiolane/code/my28brains/data/meshes/sub-01/ses-28/ashs/right_lfseg_corr_usegray_CT_LQ.ply', '/home/nmiolane/code/my28brains/data/meshes/sub-01/ses-29/ashs/right_lfseg_corr_usegray_CT_LQ.ply', '/home/nmiolane/code/my28brains/data/meshes/sub-01/ses-30/ashs/right_lfseg_corr_usegray_CT_LQ.ply']\n"
     ]
    }
   ],
   "source": [
    "hemisphere = \"right\"\n",
    "ply_suffix = f\"ashs/{hemisphere}_lfseg_corr_usegray_CT_LQ.ply\"\n",
    "string_base = os.path.join(MESHES_DIR, f\"sub-01/ses-**/{ply_suffix}\")\n",
    "paths = sorted(glob.glob(string_base))\n",
    "\n",
    "print(f\"Found {len(paths)} ply files.\")\n",
    "print(paths)"
   ]
  },
  {
   "cell_type": "code",
   "execution_count": 15,
   "id": "34365503-d90a-4d23-b3aa-1c6d51b97416",
   "metadata": {},
   "outputs": [
    {
     "name": "stdout",
     "output_type": "stream",
     "text": [
      "Using the first mesh of the time-series as the base mesh:\n",
      " /home/nmiolane/code/my28brains/data/meshes/sub-01/ses-02/ashs/right_lfseg_corr_usegray_CT_LQ.ply\n"
     ]
    }
   ],
   "source": [
    "base_path = paths[0]\n",
    "print(\"Using the first mesh of the time-series as the base mesh:\\n\", base_path)"
   ]
  },
  {
   "cell_type": "code",
   "execution_count": 16,
   "id": "e6c4ab57-ebea-463b-afcb-2af4e3bba1bb",
   "metadata": {},
   "outputs": [
    {
     "name": "stdout",
     "output_type": "stream",
     "text": [
      "<trimesh.Trimesh(vertices.shape=(19286, 3), faces.shape=(38692, 3))>\n",
      "[[245.5 145.    5. ]\n",
      " [246.  145.    4.5]\n",
      " [246.  144.5   5. ]\n",
      " [246.  145.    5.5]\n",
      " [245.5 146.    5. ]\n",
      " [246.  146.    4.5]\n",
      " [246.  146.    5.5]\n",
      " [246.  146.5   5. ]\n",
      " [246.5 142.    5. ]\n",
      " [247.  142.    4.5]]\n",
      "Writing base mesh at /home/nmiolane/code/my28brains/data/registered_meshes/sub-01/ses-02/ashs/right_lfseg_corr_usegray_CT_LQ.ply...\n"
     ]
    }
   ],
   "source": [
    "base_mesh = trimesh.load(base_path)\n",
    "print(base_mesh)\n",
    "print(base_mesh.vertices[:10])\n",
    "\n",
    "path_split = base_path.split(\"/\")\n",
    "sub, ses, img_dir, img_name = path_split[7:11]\n",
    "ply_name = img_name.split(\".\")[0] + \".ply\"\n",
    "ply_dir = os.path.join(os.getcwd(), \"data\", \"registered_meshes\", sub, ses, img_dir)\n",
    "ply_path = os.path.join(ply_dir, ply_name)\n",
    "if not os.path.exists(ply_dir):\n",
    "    os.makedirs(ply_dir)\n",
    "\n",
    "print(f\"Writing base mesh at {ply_path}...\")\n",
    "with open(ply_path, \"wb\") as f:\n",
    "    f.write(ply_text)"
   ]
  },
  {
   "cell_type": "code",
   "execution_count": 17,
   "id": "202d163b-9823-4555-8fe3-23e1ff5878dd",
   "metadata": {},
   "outputs": [
    {
     "name": "stdout",
     "output_type": "stream",
     "text": [
      "Writing registered mesh at /home/nmiolane/code/my28brains/data/registered_meshes/sub-01/ses-03/ashs/right_lfseg_corr_usegray_CT_LQ.ply...\n",
      "Writing registered mesh at /home/nmiolane/code/my28brains/data/registered_meshes/sub-01/ses-04/ashs/right_lfseg_corr_usegray_CT_LQ.ply...\n",
      "Writing registered mesh at /home/nmiolane/code/my28brains/data/registered_meshes/sub-01/ses-06/ashs/right_lfseg_corr_usegray_CT_LQ.ply...\n",
      "Writing registered mesh at /home/nmiolane/code/my28brains/data/registered_meshes/sub-01/ses-07/ashs/right_lfseg_corr_usegray_CT_LQ.ply...\n",
      "Writing registered mesh at /home/nmiolane/code/my28brains/data/registered_meshes/sub-01/ses-08/ashs/right_lfseg_corr_usegray_CT_LQ.ply...\n",
      "Writing registered mesh at /home/nmiolane/code/my28brains/data/registered_meshes/sub-01/ses-10/ashs/right_lfseg_corr_usegray_CT_LQ.ply...\n",
      "Writing registered mesh at /home/nmiolane/code/my28brains/data/registered_meshes/sub-01/ses-11/ashs/right_lfseg_corr_usegray_CT_LQ.ply...\n",
      "Writing registered mesh at /home/nmiolane/code/my28brains/data/registered_meshes/sub-01/ses-12/ashs/right_lfseg_corr_usegray_CT_LQ.ply...\n",
      "Writing registered mesh at /home/nmiolane/code/my28brains/data/registered_meshes/sub-01/ses-14/ashs/right_lfseg_corr_usegray_CT_LQ.ply...\n",
      "Writing registered mesh at /home/nmiolane/code/my28brains/data/registered_meshes/sub-01/ses-16/ashs/right_lfseg_corr_usegray_CT_LQ.ply...\n",
      "Writing registered mesh at /home/nmiolane/code/my28brains/data/registered_meshes/sub-01/ses-17/ashs/right_lfseg_corr_usegray_CT_LQ.ply...\n",
      "Writing registered mesh at /home/nmiolane/code/my28brains/data/registered_meshes/sub-01/ses-18/ashs/right_lfseg_corr_usegray_CT_LQ.ply...\n",
      "Writing registered mesh at /home/nmiolane/code/my28brains/data/registered_meshes/sub-01/ses-19/ashs/right_lfseg_corr_usegray_CT_LQ.ply...\n",
      "Writing registered mesh at /home/nmiolane/code/my28brains/data/registered_meshes/sub-01/ses-20/ashs/right_lfseg_corr_usegray_CT_LQ.ply...\n",
      "Writing registered mesh at /home/nmiolane/code/my28brains/data/registered_meshes/sub-01/ses-21/ashs/right_lfseg_corr_usegray_CT_LQ.ply...\n",
      "Writing registered mesh at /home/nmiolane/code/my28brains/data/registered_meshes/sub-01/ses-22/ashs/right_lfseg_corr_usegray_CT_LQ.ply...\n",
      "Writing registered mesh at /home/nmiolane/code/my28brains/data/registered_meshes/sub-01/ses-23/ashs/right_lfseg_corr_usegray_CT_LQ.ply...\n",
      "Writing registered mesh at /home/nmiolane/code/my28brains/data/registered_meshes/sub-01/ses-24/ashs/right_lfseg_corr_usegray_CT_LQ.ply...\n",
      "Writing registered mesh at /home/nmiolane/code/my28brains/data/registered_meshes/sub-01/ses-25/ashs/right_lfseg_corr_usegray_CT_LQ.ply...\n",
      "Writing registered mesh at /home/nmiolane/code/my28brains/data/registered_meshes/sub-01/ses-26/ashs/right_lfseg_corr_usegray_CT_LQ.ply...\n",
      "Writing registered mesh at /home/nmiolane/code/my28brains/data/registered_meshes/sub-01/ses-27/ashs/right_lfseg_corr_usegray_CT_LQ.ply...\n",
      "Writing registered mesh at /home/nmiolane/code/my28brains/data/registered_meshes/sub-01/ses-28/ashs/right_lfseg_corr_usegray_CT_LQ.ply...\n",
      "Writing registered mesh at /home/nmiolane/code/my28brains/data/registered_meshes/sub-01/ses-29/ashs/right_lfseg_corr_usegray_CT_LQ.ply...\n",
      "Writing registered mesh at /home/nmiolane/code/my28brains/data/registered_meshes/sub-01/ses-30/ashs/right_lfseg_corr_usegray_CT_LQ.ply...\n"
     ]
    }
   ],
   "source": [
    "for path in paths[1:]:\n",
    "    mesh = trimesh.load(path)\n",
    "    transform_mesh_to_other, _ = trimesh.registration.mesh_other(\n",
    "        mesh=mesh, other=base_mesh, scale=False\n",
    "    )\n",
    "\n",
    "    # Note: This modifies the original mesh in place\n",
    "    registered_mesh = mesh.apply_transform(transform_mesh_to_other)\n",
    "\n",
    "    ply_text = trimesh.exchange.ply.export_ply(registered_mesh, encoding=\"ascii\")\n",
    "\n",
    "    path_split = path.split(\"/\")\n",
    "    sub, ses, img_dir, img_name = path_split[7:11]\n",
    "    ply_name = img_name.split(\".\")[0] + \".ply\"\n",
    "\n",
    "    ply_dir = os.path.join(os.getcwd(), \"data\", \"registered_meshes\", sub, ses, img_dir)\n",
    "\n",
    "    ply_path = os.path.join(ply_dir, ply_name)\n",
    "    if not os.path.exists(ply_dir):\n",
    "        os.makedirs(ply_dir)\n",
    "\n",
    "    print(f\"Writing registered mesh at {ply_path}...\")\n",
    "    with open(ply_path, \"wb\") as f:\n",
    "        f.write(ply_text)"
   ]
  },
  {
   "cell_type": "code",
   "execution_count": null,
   "id": "e206b12f-d536-4d70-8f8b-4cda20384ca0",
   "metadata": {},
   "outputs": [],
   "source": []
  }
 ],
 "metadata": {
  "kernelspec": {
   "display_name": "Python 3 (ipykernel)",
   "language": "python",
   "name": "python3"
  },
  "language_info": {
   "codemirror_mode": {
    "name": "ipython",
    "version": 3
   },
   "file_extension": ".py",
   "mimetype": "text/x-python",
   "name": "python",
   "nbconvert_exporter": "python",
   "pygments_lexer": "ipython3",
   "version": "3.9.12"
  }
 },
 "nbformat": 4,
 "nbformat_minor": 5
}
