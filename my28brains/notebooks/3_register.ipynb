{
 "cells": [
  {
   "cell_type": "markdown",
   "id": "e83da423-358f-4c93-945c-df2f59a2ac77",
   "metadata": {},
   "source": [
    "# Register Meshes to the First Mesh of the Time-Series"
   ]
  },
  {
   "cell_type": "markdown",
   "id": "487abffb-bb35-484e-bffb-c1fd48caa910",
   "metadata": {},
   "source": [
    "This notebook transforms (i.e. registers, or aligns) the meshes of the time-series to the first mesh.\n",
    "\n",
    "The meshes in the .ply files can be opened with:\n",
    "- the `vscode-3d-preview` extension of VSCode\n",
    "- [MeshLab](https://www.meshlab.net/)\n",
    "- [Blender](https://www.blender.org/download/), specifically with its [Stop-motion-OBJ](https://github.com/neverhood311/Stop-motion-OBJ) plugin to visualize time-series of .ply files.\n",
    "\n",
    "**Note:** Add a plugin to blender following [these instructions](https://docs.blender.org/manual/en/latest/editors/preferences/addons.html#rd-party-add-ons). "
   ]
  },
  {
   "cell_type": "markdown",
   "id": "d3eb0910-31f5-47aa-82ea-8421422ddae6",
   "metadata": {},
   "source": [
    "## Set-up"
   ]
  },
  {
   "cell_type": "code",
   "execution_count": 1,
   "id": "05d9b15f-0841-4e5e-9d51-fe76fe1fa4d8",
   "metadata": {},
   "outputs": [
    {
     "name": "stdout",
     "output_type": "stream",
     "text": [
      "Working directory:  /home/nmiolane/code/my28brains\n",
      "Directory added to path:  /home/nmiolane/code\n"
     ]
    }
   ],
   "source": [
    "import os\n",
    "import subprocess\n",
    "\n",
    "gitroot_path = subprocess.check_output(\n",
    "    [\"git\", \"rev-parse\", \"--show-toplevel\"], universal_newlines=True\n",
    ")\n",
    "os.chdir(gitroot_path[:-1])\n",
    "print(\"Working directory: \", os.getcwd())\n",
    "\n",
    "import warnings\n",
    "\n",
    "warnings.filterwarnings(\"ignore\")\n",
    "\n",
    "import sys\n",
    "\n",
    "sys_dir = os.path.dirname(os.getcwd())\n",
    "sys.path.append(sys_dir)\n",
    "print(\"Directory added to path: \", sys_dir)"
   ]
  },
  {
   "cell_type": "markdown",
   "id": "8bda29de-f19e-4a30-b8e2-eab946eb8bcf",
   "metadata": {},
   "source": [
    "## Imports"
   ]
  },
  {
   "cell_type": "code",
   "execution_count": 2,
   "id": "9f32b666-48e4-4cc4-a9f3-c5c17b04271c",
   "metadata": {},
   "outputs": [
    {
     "name": "stdout",
     "output_type": "stream",
     "text": [
      "MESHES_DIR:  /home/nmiolane/code/my28brains/data/meshes\n",
      "REGISTERED_MESHES_DIR:  /home/nmiolane/code/my28brains/data/registered_meshes\n"
     ]
    }
   ],
   "source": [
    "import glob\n",
    "\n",
    "import numpy as np\n",
    "import trimesh\n",
    "\n",
    "import my28brains.io as io\n",
    "\n",
    "MESHES_DIR = os.path.join(os.getcwd(), \"data\", \"meshes\")\n",
    "REGISTERED_MESHES_DIR = os.path.join(os.getcwd(), \"data\", \"registered_meshes\")\n",
    "print(\"MESHES_DIR: \", MESHES_DIR)\n",
    "print(\"REGISTERED_MESHES_DIR: \", REGISTERED_MESHES_DIR)"
   ]
  },
  {
   "cell_type": "markdown",
   "id": "eb5a1c9a-b445-4523-b42e-36664524902e",
   "metadata": {},
   "source": [
    "## Functions to Register Meshes"
   ]
  },
  {
   "cell_type": "code",
   "execution_count": 3,
   "id": "ebb2c8d5-1906-4e1a-8418-448bebd31714",
   "metadata": {},
   "outputs": [],
   "source": [
    "def center_mesh(mesh):\n",
    "    \"\"\"Center a mesh by putting its barycenter at origin of the coordinates.\n",
    "\n",
    "    Parameters\n",
    "    ----------\n",
    "    mesh : trimesh.Trimesh\n",
    "        Mesh to center.\n",
    "\n",
    "    Returns\n",
    "    -------\n",
    "    centered_mesh : trimesh.Trimesh\n",
    "        Centered Mesh.\n",
    "    \"\"\"\n",
    "    vertices = mesh.vertices\n",
    "    centered_vertices = vertices - np.mean(vertices, axis=0)\n",
    "    return trimesh.Trimesh(vertices=centered_vertices, faces=mesh.faces)\n",
    "\n",
    "\n",
    "def register_mesh(mesh, base_mesh):\n",
    "    \"\"\"Register a mesh to a base mesh.\n",
    "\n",
    "    Note that the rigid registration slightly un-centered the registered mesh.\n",
    "\n",
    "    Parameters\n",
    "    ----------\n",
    "    mesh : trimesh.Trimesh\n",
    "        Mesh to register.\n",
    "\n",
    "    Returns\n",
    "    -------\n",
    "    registered_mesh : trimesh.Trimesh\n",
    "        Registered Mesh.\n",
    "    \"\"\"\n",
    "    transform_mesh_to_base_mesh, _ = trimesh.registration.mesh_other(\n",
    "        mesh=mesh, other=base_mesh, scale=False\n",
    "    )\n",
    "    # Note: This modifies the original mesh in place\n",
    "    registered_mesh = mesh.apply_transform(transform_mesh_to_base_mesh)\n",
    "    return registered_mesh"
   ]
  },
  {
   "cell_type": "markdown",
   "id": "b0fe6371-3f22-4fd7-b5d7-fead6adea4d7",
   "metadata": {},
   "source": [
    "## Left Hemisphere: Register Meshes on the First (Base) Mesh of the Time-Series"
   ]
  },
  {
   "cell_type": "markdown",
   "id": "80936503-eec7-46e5-9db3-6ec7d07bd2c6",
   "metadata": {},
   "source": [
    "This takes a couple of minutes."
   ]
  },
  {
   "cell_type": "code",
   "execution_count": 4,
   "id": "b29c09e9-2ee3-4319-ac24-6ef70e4ddd81",
   "metadata": {},
   "outputs": [
    {
     "name": "stdout",
     "output_type": "stream",
     "text": [
      "Found 27 ply files for left hemisphere and anatomical structure -1:\n",
      " ['/home/nmiolane/code/my28brains/data/meshes/left_structure_-1_sub-01_ses-02.ply', '/home/nmiolane/code/my28brains/data/meshes/left_structure_-1_sub-01_ses-03.ply', '/home/nmiolane/code/my28brains/data/meshes/left_structure_-1_sub-01_ses-04.ply', '/home/nmiolane/code/my28brains/data/meshes/left_structure_-1_sub-01_ses-05.ply', '/home/nmiolane/code/my28brains/data/meshes/left_structure_-1_sub-01_ses-06.ply', '/home/nmiolane/code/my28brains/data/meshes/left_structure_-1_sub-01_ses-07.ply', '/home/nmiolane/code/my28brains/data/meshes/left_structure_-1_sub-01_ses-08.ply', '/home/nmiolane/code/my28brains/data/meshes/left_structure_-1_sub-01_ses-09.ply', '/home/nmiolane/code/my28brains/data/meshes/left_structure_-1_sub-01_ses-10.ply', '/home/nmiolane/code/my28brains/data/meshes/left_structure_-1_sub-01_ses-11.ply', '/home/nmiolane/code/my28brains/data/meshes/left_structure_-1_sub-01_ses-12.ply', '/home/nmiolane/code/my28brains/data/meshes/left_structure_-1_sub-01_ses-14.ply', '/home/nmiolane/code/my28brains/data/meshes/left_structure_-1_sub-01_ses-15.ply', '/home/nmiolane/code/my28brains/data/meshes/left_structure_-1_sub-01_ses-16.ply', '/home/nmiolane/code/my28brains/data/meshes/left_structure_-1_sub-01_ses-17.ply', '/home/nmiolane/code/my28brains/data/meshes/left_structure_-1_sub-01_ses-18.ply', '/home/nmiolane/code/my28brains/data/meshes/left_structure_-1_sub-01_ses-20.ply', '/home/nmiolane/code/my28brains/data/meshes/left_structure_-1_sub-01_ses-21.ply', '/home/nmiolane/code/my28brains/data/meshes/left_structure_-1_sub-01_ses-22.ply', '/home/nmiolane/code/my28brains/data/meshes/left_structure_-1_sub-01_ses-23.ply', '/home/nmiolane/code/my28brains/data/meshes/left_structure_-1_sub-01_ses-24.ply', '/home/nmiolane/code/my28brains/data/meshes/left_structure_-1_sub-01_ses-25.ply', '/home/nmiolane/code/my28brains/data/meshes/left_structure_-1_sub-01_ses-26.ply', '/home/nmiolane/code/my28brains/data/meshes/left_structure_-1_sub-01_ses-27.ply', '/home/nmiolane/code/my28brains/data/meshes/left_structure_-1_sub-01_ses-28.ply', '/home/nmiolane/code/my28brains/data/meshes/left_structure_-1_sub-01_ses-29.ply', '/home/nmiolane/code/my28brains/data/meshes/left_structure_-1_sub-01_ses-30.ply']\n",
      "\n",
      "-> Registration: Using the first mesh as the base mesh.\n",
      "Writing mesh at /home/nmiolane/code/my28brains/data/registered_meshes/left_structure_-1_sub-01_ses-02.ply...\n",
      "Writing mesh at /home/nmiolane/code/my28brains/data/registered_meshes/left_structure_-1_sub-01_ses-03.ply...\n",
      "Writing mesh at /home/nmiolane/code/my28brains/data/registered_meshes/left_structure_-1_sub-01_ses-04.ply...\n",
      "Writing mesh at /home/nmiolane/code/my28brains/data/registered_meshes/left_structure_-1_sub-01_ses-05.ply...\n",
      "Writing mesh at /home/nmiolane/code/my28brains/data/registered_meshes/left_structure_-1_sub-01_ses-06.ply...\n",
      "Writing mesh at /home/nmiolane/code/my28brains/data/registered_meshes/left_structure_-1_sub-01_ses-07.ply...\n",
      "Writing mesh at /home/nmiolane/code/my28brains/data/registered_meshes/left_structure_-1_sub-01_ses-08.ply...\n",
      "Writing mesh at /home/nmiolane/code/my28brains/data/registered_meshes/left_structure_-1_sub-01_ses-09.ply...\n",
      "Writing mesh at /home/nmiolane/code/my28brains/data/registered_meshes/left_structure_-1_sub-01_ses-10.ply...\n",
      "Writing mesh at /home/nmiolane/code/my28brains/data/registered_meshes/left_structure_-1_sub-01_ses-11.ply...\n",
      "Writing mesh at /home/nmiolane/code/my28brains/data/registered_meshes/left_structure_-1_sub-01_ses-12.ply...\n",
      "Writing mesh at /home/nmiolane/code/my28brains/data/registered_meshes/left_structure_-1_sub-01_ses-14.ply...\n",
      "Writing mesh at /home/nmiolane/code/my28brains/data/registered_meshes/left_structure_-1_sub-01_ses-15.ply...\n",
      "Writing mesh at /home/nmiolane/code/my28brains/data/registered_meshes/left_structure_-1_sub-01_ses-16.ply...\n",
      "Writing mesh at /home/nmiolane/code/my28brains/data/registered_meshes/left_structure_-1_sub-01_ses-17.ply...\n",
      "Writing mesh at /home/nmiolane/code/my28brains/data/registered_meshes/left_structure_-1_sub-01_ses-18.ply...\n",
      "Writing mesh at /home/nmiolane/code/my28brains/data/registered_meshes/left_structure_-1_sub-01_ses-20.ply...\n",
      "Writing mesh at /home/nmiolane/code/my28brains/data/registered_meshes/left_structure_-1_sub-01_ses-21.ply...\n",
      "Writing mesh at /home/nmiolane/code/my28brains/data/registered_meshes/left_structure_-1_sub-01_ses-22.ply...\n",
      "Writing mesh at /home/nmiolane/code/my28brains/data/registered_meshes/left_structure_-1_sub-01_ses-23.ply...\n",
      "Writing mesh at /home/nmiolane/code/my28brains/data/registered_meshes/left_structure_-1_sub-01_ses-24.ply...\n",
      "Writing mesh at /home/nmiolane/code/my28brains/data/registered_meshes/left_structure_-1_sub-01_ses-25.ply...\n",
      "Writing mesh at /home/nmiolane/code/my28brains/data/registered_meshes/left_structure_-1_sub-01_ses-26.ply...\n",
      "Writing mesh at /home/nmiolane/code/my28brains/data/registered_meshes/left_structure_-1_sub-01_ses-27.ply...\n",
      "Writing mesh at /home/nmiolane/code/my28brains/data/registered_meshes/left_structure_-1_sub-01_ses-28.ply...\n",
      "Writing mesh at /home/nmiolane/code/my28brains/data/registered_meshes/left_structure_-1_sub-01_ses-29.ply...\n",
      "Writing mesh at /home/nmiolane/code/my28brains/data/registered_meshes/left_structure_-1_sub-01_ses-30.ply...\n"
     ]
    }
   ],
   "source": [
    "hemisphere = \"left\"\n",
    "structure_id = -1\n",
    "string_base = os.path.join(\n",
    "    MESHES_DIR, f\"{hemisphere}_structure_{structure_id}_sub-01_ses-**.ply\"\n",
    ")\n",
    "paths = sorted(glob.glob(string_base))\n",
    "\n",
    "print(\n",
    "    f\"Found {len(paths)} ply files for {hemisphere} hemisphere and anatomical structure {structure_id}:\\n {paths}\\n\"\n",
    ")\n",
    "\n",
    "print(f\"-> Registration: Using the first mesh as the base mesh.\")\n",
    "base_mesh = trimesh.load(paths[0])\n",
    "centered_base_mesh = center_mesh(base_mesh)\n",
    "ply_path = os.path.join(REGISTERED_MESHES_DIR, os.path.basename(paths[0]))\n",
    "io.write_trimesh_to_ply(mesh=centered_base_mesh, ply_path=ply_path)\n",
    "\n",
    "for path in paths[1:]:\n",
    "    mesh = trimesh.load(path)\n",
    "    centered_mesh = center_mesh(mesh)\n",
    "    registered_mesh = register_mesh(mesh=centered_mesh, base_mesh=centered_base_mesh)\n",
    "\n",
    "    ply_path = os.path.join(REGISTERED_MESHES_DIR, os.path.basename(path))\n",
    "    io.write_trimesh_to_ply(mesh=registered_mesh, ply_path=ply_path)"
   ]
  },
  {
   "cell_type": "markdown",
   "id": "54459d0d-cd59-4489-8b9c-49131a6df1ec",
   "metadata": {
    "tags": []
   },
   "source": [
    "## Right Hemisphere: Register Meshes on the First (Base) Mesh of the Time-Series"
   ]
  },
  {
   "cell_type": "markdown",
   "id": "59a569ac-2e02-47d7-b889-98facead07c6",
   "metadata": {},
   "source": [
    "This takes a couple of minutes."
   ]
  },
  {
   "cell_type": "code",
   "execution_count": 5,
   "id": "47ad4938-9c87-4d18-b271-db9eec58d54c",
   "metadata": {},
   "outputs": [
    {
     "name": "stdout",
     "output_type": "stream",
     "text": [
      "Found 25 ply files for right hemisphere and anatomical structure -1:\n",
      " ['/home/nmiolane/code/my28brains/data/meshes/right_structure_-1_sub-01_ses-02.ply', '/home/nmiolane/code/my28brains/data/meshes/right_structure_-1_sub-01_ses-03.ply', '/home/nmiolane/code/my28brains/data/meshes/right_structure_-1_sub-01_ses-04.ply', '/home/nmiolane/code/my28brains/data/meshes/right_structure_-1_sub-01_ses-06.ply', '/home/nmiolane/code/my28brains/data/meshes/right_structure_-1_sub-01_ses-07.ply', '/home/nmiolane/code/my28brains/data/meshes/right_structure_-1_sub-01_ses-08.ply', '/home/nmiolane/code/my28brains/data/meshes/right_structure_-1_sub-01_ses-10.ply', '/home/nmiolane/code/my28brains/data/meshes/right_structure_-1_sub-01_ses-11.ply', '/home/nmiolane/code/my28brains/data/meshes/right_structure_-1_sub-01_ses-12.ply', '/home/nmiolane/code/my28brains/data/meshes/right_structure_-1_sub-01_ses-14.ply', '/home/nmiolane/code/my28brains/data/meshes/right_structure_-1_sub-01_ses-16.ply', '/home/nmiolane/code/my28brains/data/meshes/right_structure_-1_sub-01_ses-17.ply', '/home/nmiolane/code/my28brains/data/meshes/right_structure_-1_sub-01_ses-18.ply', '/home/nmiolane/code/my28brains/data/meshes/right_structure_-1_sub-01_ses-19.ply', '/home/nmiolane/code/my28brains/data/meshes/right_structure_-1_sub-01_ses-20.ply', '/home/nmiolane/code/my28brains/data/meshes/right_structure_-1_sub-01_ses-21.ply', '/home/nmiolane/code/my28brains/data/meshes/right_structure_-1_sub-01_ses-22.ply', '/home/nmiolane/code/my28brains/data/meshes/right_structure_-1_sub-01_ses-23.ply', '/home/nmiolane/code/my28brains/data/meshes/right_structure_-1_sub-01_ses-24.ply', '/home/nmiolane/code/my28brains/data/meshes/right_structure_-1_sub-01_ses-25.ply', '/home/nmiolane/code/my28brains/data/meshes/right_structure_-1_sub-01_ses-26.ply', '/home/nmiolane/code/my28brains/data/meshes/right_structure_-1_sub-01_ses-27.ply', '/home/nmiolane/code/my28brains/data/meshes/right_structure_-1_sub-01_ses-28.ply', '/home/nmiolane/code/my28brains/data/meshes/right_structure_-1_sub-01_ses-29.ply', '/home/nmiolane/code/my28brains/data/meshes/right_structure_-1_sub-01_ses-30.ply']\n",
      "\n",
      "-> Registration: Using the first mesh as the base mesh.\n",
      "Writing mesh at /home/nmiolane/code/my28brains/data/registered_meshes/right_structure_-1_sub-01_ses-02.ply...\n",
      "Writing mesh at /home/nmiolane/code/my28brains/data/registered_meshes/right_structure_-1_sub-01_ses-03.ply...\n",
      "Writing mesh at /home/nmiolane/code/my28brains/data/registered_meshes/right_structure_-1_sub-01_ses-04.ply...\n",
      "Writing mesh at /home/nmiolane/code/my28brains/data/registered_meshes/right_structure_-1_sub-01_ses-06.ply...\n",
      "Writing mesh at /home/nmiolane/code/my28brains/data/registered_meshes/right_structure_-1_sub-01_ses-07.ply...\n",
      "Writing mesh at /home/nmiolane/code/my28brains/data/registered_meshes/right_structure_-1_sub-01_ses-08.ply...\n",
      "Writing mesh at /home/nmiolane/code/my28brains/data/registered_meshes/right_structure_-1_sub-01_ses-10.ply...\n",
      "Writing mesh at /home/nmiolane/code/my28brains/data/registered_meshes/right_structure_-1_sub-01_ses-11.ply...\n",
      "Writing mesh at /home/nmiolane/code/my28brains/data/registered_meshes/right_structure_-1_sub-01_ses-12.ply...\n",
      "Writing mesh at /home/nmiolane/code/my28brains/data/registered_meshes/right_structure_-1_sub-01_ses-14.ply...\n",
      "Writing mesh at /home/nmiolane/code/my28brains/data/registered_meshes/right_structure_-1_sub-01_ses-16.ply...\n",
      "Writing mesh at /home/nmiolane/code/my28brains/data/registered_meshes/right_structure_-1_sub-01_ses-17.ply...\n",
      "Writing mesh at /home/nmiolane/code/my28brains/data/registered_meshes/right_structure_-1_sub-01_ses-18.ply...\n",
      "Writing mesh at /home/nmiolane/code/my28brains/data/registered_meshes/right_structure_-1_sub-01_ses-19.ply...\n",
      "Writing mesh at /home/nmiolane/code/my28brains/data/registered_meshes/right_structure_-1_sub-01_ses-20.ply...\n",
      "Writing mesh at /home/nmiolane/code/my28brains/data/registered_meshes/right_structure_-1_sub-01_ses-21.ply...\n",
      "Writing mesh at /home/nmiolane/code/my28brains/data/registered_meshes/right_structure_-1_sub-01_ses-22.ply...\n",
      "Writing mesh at /home/nmiolane/code/my28brains/data/registered_meshes/right_structure_-1_sub-01_ses-23.ply...\n",
      "Writing mesh at /home/nmiolane/code/my28brains/data/registered_meshes/right_structure_-1_sub-01_ses-24.ply...\n",
      "Writing mesh at /home/nmiolane/code/my28brains/data/registered_meshes/right_structure_-1_sub-01_ses-25.ply...\n",
      "Writing mesh at /home/nmiolane/code/my28brains/data/registered_meshes/right_structure_-1_sub-01_ses-26.ply...\n",
      "Writing mesh at /home/nmiolane/code/my28brains/data/registered_meshes/right_structure_-1_sub-01_ses-27.ply...\n",
      "Writing mesh at /home/nmiolane/code/my28brains/data/registered_meshes/right_structure_-1_sub-01_ses-28.ply...\n",
      "Writing mesh at /home/nmiolane/code/my28brains/data/registered_meshes/right_structure_-1_sub-01_ses-29.ply...\n",
      "Writing mesh at /home/nmiolane/code/my28brains/data/registered_meshes/right_structure_-1_sub-01_ses-30.ply...\n"
     ]
    }
   ],
   "source": [
    "hemisphere = \"right\"\n",
    "structure_id = -1\n",
    "string_base = os.path.join(\n",
    "    MESHES_DIR, f\"{hemisphere}_structure_{structure_id}_sub-01_ses-**.ply\"\n",
    ")\n",
    "paths = sorted(glob.glob(string_base))\n",
    "\n",
    "print(\n",
    "    f\"Found {len(paths)} ply files for {hemisphere} hemisphere and anatomical structure {structure_id}:\\n {paths}\\n\"\n",
    ")\n",
    "\n",
    "print(f\"-> Registration: Using the first mesh as the base mesh.\")\n",
    "base_mesh = trimesh.load(paths[0])\n",
    "centered_base_mesh = center_mesh(base_mesh)\n",
    "ply_path = os.path.join(REGISTERED_MESHES_DIR, os.path.basename(paths[0]))\n",
    "io.write_trimesh_to_ply(mesh=centered_base_mesh, ply_path=ply_path)\n",
    "\n",
    "for path in paths[1:]:\n",
    "    mesh = trimesh.load(path)\n",
    "    centered_mesh = center_mesh(mesh)\n",
    "    registered_mesh = register_mesh(mesh=centered_mesh, base_mesh=centered_base_mesh)\n",
    "\n",
    "    ply_path = os.path.join(REGISTERED_MESHES_DIR, os.path.basename(path))\n",
    "    io.write_trimesh_to_ply(mesh=registered_mesh, ply_path=ply_path)"
   ]
  },
  {
   "cell_type": "code",
   "execution_count": null,
   "id": "e13ddaa6-3446-4bfc-8ede-b30d9f171821",
   "metadata": {},
   "outputs": [],
   "source": []
  }
 ],
 "metadata": {
  "kernelspec": {
   "display_name": "Python 3 (ipykernel)",
   "language": "python",
   "name": "python3"
  },
  "language_info": {
   "codemirror_mode": {
    "name": "ipython",
    "version": 3
   },
   "file_extension": ".py",
   "mimetype": "text/x-python",
   "name": "python",
   "nbconvert_exporter": "python",
   "pygments_lexer": "ipython3",
   "version": "3.9.12"
  }
 },
 "nbformat": 4,
 "nbformat_minor": 5
}
