{
 "cells": [
  {
   "cell_type": "code",
   "execution_count": 6,
   "id": "b503383c-949e-4c76-b76c-802fba5e6ac7",
   "metadata": {},
   "outputs": [
    {
     "name": "stdout",
     "output_type": "stream",
     "text": [
      "Collecting scikit-image\n",
      "  Using cached scikit_image-0.19.3-cp39-cp39-manylinux_2_17_x86_64.manylinux2014_x86_64.whl (14.0 MB)\n",
      "Requirement already satisfied: scipy>=1.4.1 in /home/nmiolane/anaconda3/envs/my28brains/lib/python3.9/site-packages (from scikit-image) (1.9.3)\n",
      "Requirement already satisfied: pillow!=7.1.0,!=7.1.1,!=8.3.0,>=6.1.0 in /home/nmiolane/anaconda3/envs/my28brains/lib/python3.9/site-packages (from scikit-image) (9.0.1)\n",
      "Requirement already satisfied: numpy>=1.17.0 in /home/nmiolane/anaconda3/envs/my28brains/lib/python3.9/site-packages (from scikit-image) (1.23.5)\n",
      "Collecting networkx>=2.2\n",
      "  Using cached networkx-2.8.8-py3-none-any.whl (2.0 MB)\n",
      "Collecting PyWavelets>=1.1.1\n",
      "  Using cached PyWavelets-1.4.1-cp39-cp39-manylinux_2_17_x86_64.manylinux2014_x86_64.whl (6.9 MB)\n",
      "Collecting tifffile>=2019.7.26\n",
      "  Using cached tifffile-2022.10.10-py3-none-any.whl (210 kB)\n",
      "Requirement already satisfied: packaging>=20.0 in /home/nmiolane/anaconda3/envs/my28brains/lib/python3.9/site-packages (from scikit-image) (21.3)\n",
      "Collecting imageio>=2.4.1\n",
      "  Using cached imageio-2.23.0-py3-none-any.whl (3.4 MB)\n",
      "Requirement already satisfied: pyparsing!=3.0.5,>=2.0.2 in /home/nmiolane/anaconda3/envs/my28brains/lib/python3.9/site-packages (from packaging>=20.0->scikit-image) (3.0.9)\n",
      "Installing collected packages: tifffile, PyWavelets, networkx, imageio, scikit-image\n",
      "Successfully installed PyWavelets-1.4.1 imageio-2.23.0 networkx-2.8.8 scikit-image-0.19.3 tifffile-2022.10.10\n"
     ]
    }
   ],
   "source": [
    "!pip install scikit-image"
   ]
  },
  {
   "cell_type": "code",
   "execution_count": 8,
   "id": "60a48a55-bc52-4357-b3d5-4e3f81a070f5",
   "metadata": {},
   "outputs": [],
   "source": [
    "import numpy as np\n",
    "import skimage\n",
    "\n",
    "test = np.zeros((20, 15, 15))\n",
    "test[:, 4, 10] = np.ones(20)\n",
    "\n",
    "res = skimage.measure.marching_cubes(test)"
   ]
  },
  {
   "cell_type": "code",
   "execution_count": 15,
   "id": "a89e3c9d-29f4-4337-a9b9-165d7c8c3129",
   "metadata": {},
   "outputs": [],
   "source": [
    "mesh = trimesh.Trimesh(vertices=res[0], faces=res[1])"
   ]
  },
  {
   "cell_type": "code",
   "execution_count": 16,
   "id": "e45c7a58-7cdb-4caa-8e71-438811b7357e",
   "metadata": {},
   "outputs": [
    {
     "data": {
      "text/plain": [
       "<trimesh.Trimesh(vertices.shape=(80, 3), faces.shape=(152, 3))>"
      ]
     },
     "execution_count": 16,
     "metadata": {},
     "output_type": "execute_result"
    }
   ],
   "source": [
    "mesh"
   ]
  },
  {
   "cell_type": "code",
   "execution_count": 26,
   "id": "4050508f-59a2-4578-8b87-7f0e45bdcb42",
   "metadata": {},
   "outputs": [],
   "source": [
    "import trimesh\n",
    "\n",
    "text = trimesh.exchange.ply.export_ply(mesh, encoding=\"ascii\")\n",
    "with open(\"output.ply\", \"wb\") as f:\n",
    "    f.write(text)"
   ]
  },
  {
   "cell_type": "markdown",
   "id": "a6765043-5fc5-4e16-8d1f-a6f92dc1ee73",
   "metadata": {},
   "source": [
    "# TEST"
   ]
  },
  {
   "cell_type": "code",
   "execution_count": 27,
   "id": "f7e9070b-9b4b-4328-abf7-3fc71cd4928a",
   "metadata": {},
   "outputs": [],
   "source": [
    "import nibabel\n",
    "\n",
    "img = nibabel.load(\n",
    "    \"/home/data/28andme/sub-01/ses-02/ashs/left_lfseg_corr_usegray_CT_LQ.nii.gz\"\n",
    ")\n",
    "img_data = img.get_fdata()"
   ]
  },
  {
   "cell_type": "code",
   "execution_count": 28,
   "id": "91b0ef5d-fb12-4dfb-8a71-86eb37c0aaa9",
   "metadata": {},
   "outputs": [
    {
     "data": {
      "text/plain": [
       "array([0., 1., 2., 3., 4., 5., 6., 7., 8., 9.])"
      ]
     },
     "execution_count": 28,
     "metadata": {},
     "output_type": "execute_result"
    }
   ],
   "source": [
    "np.unique(img_data)"
   ]
  },
  {
   "cell_type": "code",
   "execution_count": 29,
   "id": "061bbdd7-9808-4702-80c7-ce961b814f97",
   "metadata": {},
   "outputs": [],
   "source": [
    "img_mask = img_data != 0"
   ]
  },
  {
   "cell_type": "code",
   "execution_count": 30,
   "id": "2e6583b4-14cc-4283-ac46-483c7d50d5e8",
   "metadata": {},
   "outputs": [
    {
     "data": {
      "text/plain": [
       "(448, 448, 31)"
      ]
     },
     "execution_count": 30,
     "metadata": {},
     "output_type": "execute_result"
    }
   ],
   "source": [
    "img_mask.shape"
   ]
  },
  {
   "cell_type": "code",
   "execution_count": 31,
   "id": "064aea4e-137f-4d77-88a6-861b18366593",
   "metadata": {},
   "outputs": [],
   "source": [
    "res = skimage.measure.marching_cubes(img_mask)"
   ]
  },
  {
   "cell_type": "code",
   "execution_count": 32,
   "id": "10ea9a18-3943-4d2f-b218-2b5f83c2708c",
   "metadata": {},
   "outputs": [],
   "source": [
    "mesh = trimesh.Trimesh(vertices=res[0], faces=res[1])"
   ]
  },
  {
   "cell_type": "code",
   "execution_count": 33,
   "id": "d32aa15b-1c35-47db-907b-6debadd3d643",
   "metadata": {},
   "outputs": [],
   "source": [
    "import trimesh\n",
    "\n",
    "text = trimesh.exchange.ply.export_ply(mesh, encoding=\"ascii\")\n",
    "with open(\"output_brain.ply\", \"wb\") as f:\n",
    "    f.write(text)"
   ]
  },
  {
   "cell_type": "code",
   "execution_count": null,
   "id": "300e1ef9-493c-4d6f-b656-6814b0e8711a",
   "metadata": {},
   "outputs": [],
   "source": []
  }
 ],
 "metadata": {
  "kernelspec": {
   "display_name": "Python 3 (ipykernel)",
   "language": "python",
   "name": "python3"
  },
  "language_info": {
   "codemirror_mode": {
    "name": "ipython",
    "version": 3
   },
   "file_extension": ".py",
   "mimetype": "text/x-python",
   "name": "python",
   "nbconvert_exporter": "python",
   "pygments_lexer": "ipython3",
   "version": "3.9.12"
  }
 },
 "nbformat": 4,
 "nbformat_minor": 5
}
