{
 "cells": [
  {
   "cell_type": "code",
   "execution_count": 2,
   "id": "4f7aa2f5",
   "metadata": {},
   "outputs": [
    {
     "name": "stdout",
     "output_type": "stream",
     "text": [
      "Working directory:  /Volumes/GoogleDrive/My Drive/code/my28brains/my28brains\n",
      "Directory added to path:  /Volumes/GoogleDrive/My Drive/code/my28brains\n",
      "Directory added to path:  /Volumes/GoogleDrive/My Drive/code/my28brains/my28brains\n"
     ]
    }
   ],
   "source": [
    "import setcwd\n",
    "setcwd.main()"
   ]
  },
  {
   "cell_type": "code",
   "execution_count": 4,
   "id": "9ae0d2f1",
   "metadata": {},
   "outputs": [],
   "source": [
    "import trimesh\n",
    "import os"
   ]
  },
  {
   "cell_type": "code",
   "execution_count": 20,
   "id": "810618e4",
   "metadata": {},
   "outputs": [
    {
     "name": "stdout",
     "output_type": "stream",
     "text": [
      "left_structure_-1_day02_at_0.0_parameterized.ply\n",
      "left_structure_-1_day03_at_0.0_parameterized.ply\n",
      "left_structure_-1_day04_at_0.0_parameterized.ply\n",
      "left_structure_-1_day05_at_0.0_parameterized.ply\n",
      "left_structure_-1_day06_at_0.0_parameterized.ply\n",
      "left_structure_-1_day07_at_0.0_parameterized.ply\n",
      "left_structure_-1_day08_at_0.0_parameterized.ply\n",
      "left_structure_-1_day09_at_0.0_parameterized.ply\n",
      "left_structure_-1_day10_at_0.0_parameterized.ply\n",
      "left_structure_-1_day11_at_0.0_parameterized.ply\n"
     ]
    }
   ],
   "source": [
    "mesh_list = []\n",
    "mesh_dir = \"results/meshes_parameterized\"\n",
    "\n",
    "for path in sorted(os.listdir(mesh_dir)):\n",
    "    print(path)\n",
    "    mesh = trimesh.load(os.path.join(mesh_dir, path))\n",
    "    mesh_list.append(mesh)"
   ]
  },
  {
   "cell_type": "code",
   "execution_count": 10,
   "id": "c6eac097",
   "metadata": {},
   "outputs": [],
   "source": [
    "mesh0 = mesh_list[0]\n",
    "mesh1 = mesh_list[1]"
   ]
  },
  {
   "cell_type": "code",
   "execution_count": 11,
   "id": "8292032b",
   "metadata": {},
   "outputs": [
    {
     "data": {
      "text/plain": [
       "<trimesh.Trimesh(vertices.shape=(1160, 3), faces.shape=(2386, 3))>"
      ]
     },
     "execution_count": 11,
     "metadata": {},
     "output_type": "execute_result"
    }
   ],
   "source": [
    "mesh0"
   ]
  },
  {
   "cell_type": "code",
   "execution_count": 12,
   "id": "cfc1675b",
   "metadata": {},
   "outputs": [
    {
     "data": {
      "text/plain": [
       "<trimesh.Trimesh(vertices.shape=(1160, 3), faces.shape=(2386, 3))>"
      ]
     },
     "execution_count": 12,
     "metadata": {},
     "output_type": "execute_result"
    }
   ],
   "source": [
    "mesh1"
   ]
  },
  {
   "cell_type": "code",
   "execution_count": 13,
   "id": "5ef021e5",
   "metadata": {},
   "outputs": [],
   "source": [
    "np_list = [mesh.vertices for mesh in mesh_list]"
   ]
  },
  {
   "cell_type": "code",
   "execution_count": 14,
   "id": "021ab0ec",
   "metadata": {},
   "outputs": [],
   "source": [
    "import numpy as np\n",
    "np_seq = np.stack(np_list)"
   ]
  },
  {
   "cell_type": "code",
   "execution_count": 15,
   "id": "2471db67",
   "metadata": {},
   "outputs": [
    {
     "data": {
      "text/plain": [
       "(10, 1160, 3)"
      ]
     },
     "execution_count": 15,
     "metadata": {},
     "output_type": "execute_result"
    }
   ],
   "source": [
    "np_seq.shape"
   ]
  },
  {
   "cell_type": "code",
   "execution_count": 28,
   "id": "ff9aee39",
   "metadata": {},
   "outputs": [],
   "source": [
    "np_seq = np_seq.reshape((10, -1))"
   ]
  },
  {
   "cell_type": "code",
   "execution_count": 29,
   "id": "70932a41",
   "metadata": {},
   "outputs": [
    {
     "name": "stdout",
     "output_type": "stream",
     "text": [
      "df has length: 60 days\n"
     ]
    },
    {
     "data": {
      "text/html": [
       "<div>\n",
       "<style scoped>\n",
       "    .dataframe tbody tr th:only-of-type {\n",
       "        vertical-align: middle;\n",
       "    }\n",
       "\n",
       "    .dataframe tbody tr th {\n",
       "        vertical-align: top;\n",
       "    }\n",
       "\n",
       "    .dataframe thead th {\n",
       "        text-align: right;\n",
       "    }\n",
       "</style>\n",
       "<table border=\"1\" class=\"dataframe\">\n",
       "  <thead>\n",
       "    <tr style=\"text-align: right;\">\n",
       "      <th></th>\n",
       "      <th>dayID</th>\n",
       "      <th>Estro</th>\n",
       "      <th>Prog</th>\n",
       "      <th>Test</th>\n",
       "      <th>DHEAS</th>\n",
       "      <th>LH</th>\n",
       "      <th>FSH</th>\n",
       "      <th>SHBG</th>\n",
       "      <th>EthinylEstradiol</th>\n",
       "      <th>Levonorgestresl</th>\n",
       "      <th>CycleDay</th>\n",
       "    </tr>\n",
       "  </thead>\n",
       "  <tbody>\n",
       "    <tr>\n",
       "      <th>1</th>\n",
       "      <td>2</td>\n",
       "      <td>74.2</td>\n",
       "      <td>10.60</td>\n",
       "      <td>81.2</td>\n",
       "      <td>247.12</td>\n",
       "      <td>4.89</td>\n",
       "      <td>4.13</td>\n",
       "      <td>58.22</td>\n",
       "      <td>NaN</td>\n",
       "      <td>NaN</td>\n",
       "      <td>22</td>\n",
       "    </tr>\n",
       "    <tr>\n",
       "      <th>2</th>\n",
       "      <td>3</td>\n",
       "      <td>91.7</td>\n",
       "      <td>12.40</td>\n",
       "      <td>96.3</td>\n",
       "      <td>226.23</td>\n",
       "      <td>5.98</td>\n",
       "      <td>3.49</td>\n",
       "      <td>56.92</td>\n",
       "      <td>NaN</td>\n",
       "      <td>NaN</td>\n",
       "      <td>23</td>\n",
       "    </tr>\n",
       "    <tr>\n",
       "      <th>3</th>\n",
       "      <td>4</td>\n",
       "      <td>94.6</td>\n",
       "      <td>13.50</td>\n",
       "      <td>90.5</td>\n",
       "      <td>212.84</td>\n",
       "      <td>4.32</td>\n",
       "      <td>3.65</td>\n",
       "      <td>57.29</td>\n",
       "      <td>NaN</td>\n",
       "      <td>NaN</td>\n",
       "      <td>24</td>\n",
       "    </tr>\n",
       "    <tr>\n",
       "      <th>4</th>\n",
       "      <td>5</td>\n",
       "      <td>110.0</td>\n",
       "      <td>15.00</td>\n",
       "      <td>77.6</td>\n",
       "      <td>217.60</td>\n",
       "      <td>3.44</td>\n",
       "      <td>3.30</td>\n",
       "      <td>58.87</td>\n",
       "      <td>NaN</td>\n",
       "      <td>NaN</td>\n",
       "      <td>25</td>\n",
       "    </tr>\n",
       "    <tr>\n",
       "      <th>5</th>\n",
       "      <td>6</td>\n",
       "      <td>117.0</td>\n",
       "      <td>15.50</td>\n",
       "      <td>85.2</td>\n",
       "      <td>254.84</td>\n",
       "      <td>2.58</td>\n",
       "      <td>3.08</td>\n",
       "      <td>63.26</td>\n",
       "      <td>NaN</td>\n",
       "      <td>NaN</td>\n",
       "      <td>26</td>\n",
       "    </tr>\n",
       "    <tr>\n",
       "      <th>6</th>\n",
       "      <td>7</td>\n",
       "      <td>125.0</td>\n",
       "      <td>13.30</td>\n",
       "      <td>78.7</td>\n",
       "      <td>250.41</td>\n",
       "      <td>3.55</td>\n",
       "      <td>3.26</td>\n",
       "      <td>58.36</td>\n",
       "      <td>NaN</td>\n",
       "      <td>NaN</td>\n",
       "      <td>27</td>\n",
       "    </tr>\n",
       "    <tr>\n",
       "      <th>7</th>\n",
       "      <td>8</td>\n",
       "      <td>123.0</td>\n",
       "      <td>8.78</td>\n",
       "      <td>88.9</td>\n",
       "      <td>271.71</td>\n",
       "      <td>5.21</td>\n",
       "      <td>4.47</td>\n",
       "      <td>61.78</td>\n",
       "      <td>NaN</td>\n",
       "      <td>NaN</td>\n",
       "      <td>28</td>\n",
       "    </tr>\n",
       "    <tr>\n",
       "      <th>8</th>\n",
       "      <td>9</td>\n",
       "      <td>109.0</td>\n",
       "      <td>6.05</td>\n",
       "      <td>75.8</td>\n",
       "      <td>288.47</td>\n",
       "      <td>4.76</td>\n",
       "      <td>4.76</td>\n",
       "      <td>62.44</td>\n",
       "      <td>NaN</td>\n",
       "      <td>NaN</td>\n",
       "      <td>29</td>\n",
       "    </tr>\n",
       "    <tr>\n",
       "      <th>9</th>\n",
       "      <td>10</td>\n",
       "      <td>73.8</td>\n",
       "      <td>2.46</td>\n",
       "      <td>87.3</td>\n",
       "      <td>204.74</td>\n",
       "      <td>3.32</td>\n",
       "      <td>7.94</td>\n",
       "      <td>53.76</td>\n",
       "      <td>NaN</td>\n",
       "      <td>NaN</td>\n",
       "      <td>30</td>\n",
       "    </tr>\n",
       "    <tr>\n",
       "      <th>10</th>\n",
       "      <td>11</td>\n",
       "      <td>31.7</td>\n",
       "      <td>0.63</td>\n",
       "      <td>58.9</td>\n",
       "      <td>224.66</td>\n",
       "      <td>5.21</td>\n",
       "      <td>7.82</td>\n",
       "      <td>61.74</td>\n",
       "      <td>NaN</td>\n",
       "      <td>NaN</td>\n",
       "      <td>1</td>\n",
       "    </tr>\n",
       "  </tbody>\n",
       "</table>\n",
       "</div>"
      ],
      "text/plain": [
       "    dayID  Estro   Prog  Test   DHEAS    LH   FSH   SHBG EthinylEstradiol  \\\n",
       "1       2   74.2  10.60  81.2  247.12  4.89  4.13  58.22              NaN   \n",
       "2       3   91.7  12.40  96.3  226.23  5.98  3.49  56.92              NaN   \n",
       "3       4   94.6  13.50  90.5  212.84  4.32  3.65  57.29              NaN   \n",
       "4       5  110.0  15.00  77.6  217.60  3.44  3.30  58.87              NaN   \n",
       "5       6  117.0  15.50  85.2  254.84  2.58  3.08  63.26              NaN   \n",
       "6       7  125.0  13.30  78.7  250.41  3.55  3.26  58.36              NaN   \n",
       "7       8  123.0   8.78  88.9  271.71  5.21  4.47  61.78              NaN   \n",
       "8       9  109.0   6.05  75.8  288.47  4.76  4.76  62.44              NaN   \n",
       "9      10   73.8   2.46  87.3  204.74  3.32  7.94  53.76              NaN   \n",
       "10     11   31.7   0.63  58.9  224.66  5.21  7.82  61.74              NaN   \n",
       "\n",
       "    Levonorgestresl  CycleDay  \n",
       "1               NaN        22  \n",
       "2               NaN        23  \n",
       "3               NaN        24  \n",
       "4               NaN        25  \n",
       "5               NaN        26  \n",
       "6               NaN        27  \n",
       "7               NaN        28  \n",
       "8               NaN        29  \n",
       "9               NaN        30  \n",
       "10              NaN         1  "
      ]
     },
     "execution_count": 29,
     "metadata": {},
     "output_type": "execute_result"
    }
   ],
   "source": [
    "import pandas as pd\n",
    "\n",
    "DATA_PATH = os.path.join(\"data\", \"hormones.csv\")\n",
    "df = pd.read_csv(DATA_PATH, delimiter=\",\")\n",
    "print(f\"df has length: {len(df)} days\")\n",
    "df[1:11]"
   ]
  },
  {
   "cell_type": "code",
   "execution_count": 33,
   "id": "4394fbc4",
   "metadata": {},
   "outputs": [
    {
     "data": {
      "text/plain": [
       "array([10.6 , 12.4 , 13.5 , 15.  , 15.5 , 13.3 ,  8.78,  6.05,  2.46,\n",
       "        0.63])"
      ]
     },
     "execution_count": 33,
     "metadata": {},
     "output_type": "execute_result"
    }
   ],
   "source": [
    "df[\"Prog\"][1:11].values"
   ]
  },
  {
   "cell_type": "code",
   "execution_count": 34,
   "id": "71c543ee",
   "metadata": {},
   "outputs": [],
   "source": [
    "levels = df[\"Prog\"][1:11].values.reshape((-1, 1))"
   ]
  },
  {
   "cell_type": "code",
   "execution_count": 35,
   "id": "f0387973",
   "metadata": {},
   "outputs": [],
   "source": [
    "from sklearn.linear_model import LinearRegression\n",
    "\n",
    "# Assuming X and y are already defined\n",
    "X = levels.reshape(-1, 1)  # Reshape X to a 2D array if needed\n",
    "y = np_seq\n",
    "\n",
    "regressor = LinearRegression()\n",
    "regressor.fit(X, y)\n",
    "\n",
    "# Predicting values\n",
    "y_pred = regressor.predict(X)"
   ]
  },
  {
   "cell_type": "code",
   "execution_count": 37,
   "id": "4355952a",
   "metadata": {},
   "outputs": [],
   "source": [
    "y_pred = y_pred.reshape((10, -1, 3))\n",
    "y = y.reshape((10, -1, 3))\n",
    "\n",
    "# y_pred = y_pred.reshape((-1, 3))\n",
    "# y = y.reshape((-1, 3))"
   ]
  },
  {
   "cell_type": "code",
   "execution_count": 41,
   "id": "54bbbb47",
   "metadata": {},
   "outputs": [
    {
     "name": "stdout",
     "output_type": "stream",
     "text": [
      "Working directory:  /Volumes/GoogleDrive/My Drive/code/my28brains/my28brains\n",
      "Directory added to path:  /Volumes/GoogleDrive/My Drive/code/my28brains\n",
      "Directory added to path:  /Volumes/GoogleDrive/My Drive/code/my28brains/my28brains\n",
      "/Volumes/GoogleDrive/My Drive/code/my28brains/my28brains\n"
     ]
    }
   ],
   "source": [
    "os.getcwd()\n",
    "import os\n",
    "\n",
    "import setcwd\n",
    "\n",
    "setcwd.main()\n",
    "print(os.getcwd())"
   ]
  },
  {
   "cell_type": "code",
   "execution_count": 42,
   "id": "2486b152",
   "metadata": {},
   "outputs": [
    {
     "ename": "ModuleNotFoundError",
     "evalue": "No module named 'utils'",
     "output_type": "error",
     "traceback": [
      "\u001b[0;31m---------------------------------------------------------------------------\u001b[0m",
      "\u001b[0;31mModuleNotFoundError\u001b[0m                       Traceback (most recent call last)",
      "Cell \u001b[0;32mIn[42], line 1\u001b[0m\n\u001b[0;32m----> 1\u001b[0m \u001b[38;5;28;01mfrom\u001b[39;00m \u001b[38;5;21;01mmy28brains\u001b[39;00m\u001b[38;5;21;01m.\u001b[39;00m\u001b[38;5;21;01mH2_SurfaceMatch\u001b[39;00m\u001b[38;5;21;01m.\u001b[39;00m\u001b[38;5;21;01mutils\u001b[39;00m\u001b[38;5;21;01m.\u001b[39;00m\u001b[38;5;21;01minput_output\u001b[39;00m \u001b[38;5;28;01mimport\u001b[39;00m plotGeodesic\n\u001b[1;32m      2\u001b[0m \u001b[38;5;66;03m# def plotGeodesic(\u001b[39;00m\n\u001b[1;32m      3\u001b[0m \u001b[38;5;66;03m#     geod,\u001b[39;00m\n\u001b[1;32m      4\u001b[0m \u001b[38;5;66;03m#     F,\u001b[39;00m\n\u001b[0;32m   (...)\u001b[0m\n\u001b[1;32m     11\u001b[0m \u001b[38;5;66;03m#     angle=-1 * np.pi / 2,\u001b[39;00m\n\u001b[1;32m     12\u001b[0m \u001b[38;5;66;03m# ):\u001b[39;00m\n\u001b[1;32m     14\u001b[0m plotGeodesic(y, F\u001b[38;5;241m=\u001b[39mmesh0\u001b[38;5;241m.\u001b[39mfaces, file_name\u001b[38;5;241m=\u001b[39m\u001b[38;5;124m\"\u001b[39m\u001b[38;5;124mnotebooks/mesh_seq_from_scratch.ply\u001b[39m\u001b[38;5;124m\"\u001b[39m)\n",
      "File \u001b[0;32m~/Google Drive/My Drive/code/my28brains/H2_SurfaceMatch/utils/input_output.py:6\u001b[0m\n\u001b[1;32m      4\u001b[0m \u001b[38;5;28;01mimport\u001b[39;00m \u001b[38;5;21;01mopen3d\u001b[39;00m \u001b[38;5;28;01mas\u001b[39;00m \u001b[38;5;21;01mo3d\u001b[39;00m\n\u001b[1;32m      5\u001b[0m \u001b[38;5;28;01mfrom\u001b[39;00m \u001b[38;5;21;01mscipy\u001b[39;00m\u001b[38;5;21;01m.\u001b[39;00m\u001b[38;5;21;01mio\u001b[39;00m \u001b[38;5;28;01mimport\u001b[39;00m loadmat, savemat\n\u001b[0;32m----> 6\u001b[0m \u001b[38;5;28;01mfrom\u001b[39;00m \u001b[38;5;21;01mutils\u001b[39;00m\u001b[38;5;21;01m.\u001b[39;00m\u001b[38;5;21;01mutils\u001b[39;00m \u001b[38;5;28;01mimport\u001b[39;00m \u001b[38;5;241m*\u001b[39m\n\u001b[1;32m      8\u001b[0m \u001b[38;5;66;03m##############################################################################################################################\u001b[39;00m\n\u001b[1;32m      9\u001b[0m \u001b[38;5;66;03m# Input-Output (IO) and Plotting Functions\u001b[39;00m\n\u001b[1;32m     10\u001b[0m \u001b[38;5;66;03m##############################################################################################################################\u001b[39;00m\n\u001b[1;32m     13\u001b[0m \u001b[38;5;28;01mdef\u001b[39;00m \u001b[38;5;21mloadData\u001b[39m(file_name):\n",
      "\u001b[0;31mModuleNotFoundError\u001b[0m: No module named 'utils'"
     ]
    }
   ],
   "source": [
    "from my28brains.H2_SurfaceMatch.utils.input_output import plotGeodesic\n",
    "# def plotGeodesic(\n",
    "#     geod,\n",
    "#     F,\n",
    "#     source=None,\n",
    "#     target=None,\n",
    "#     file_name=None,\n",
    "#     offsetstep=2.5,\n",
    "#     stepsize=2,\n",
    "#     axis=[0, 0, 1],\n",
    "#     angle=-1 * np.pi / 2,\n",
    "# ):\n",
    "\n",
    "plotGeodesic(y, F=mesh0.faces, file_name=\"notebooks/mesh_seq_from_scratch.ply\")"
   ]
  },
  {
   "cell_type": "code",
   "execution_count": null,
   "id": "9935fcd0",
   "metadata": {},
   "outputs": [],
   "source": []
  }
 ],
 "metadata": {
  "kernelspec": {
   "display_name": "Python 3 (ipykernel)",
   "language": "python",
   "name": "python3"
  },
  "language_info": {
   "codemirror_mode": {
    "name": "ipython",
    "version": 3
   },
   "file_extension": ".py",
   "mimetype": "text/x-python",
   "name": "python",
   "nbconvert_exporter": "python",
   "pygments_lexer": "ipython3",
   "version": "3.10.11"
  }
 },
 "nbformat": 4,
 "nbformat_minor": 5
}
