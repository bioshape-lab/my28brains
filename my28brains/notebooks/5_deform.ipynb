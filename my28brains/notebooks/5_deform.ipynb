{
 "cells": [
  {
   "cell_type": "markdown",
   "id": "c7042a3a-08d5-4d35-bebd-793fc53e1f5b",
   "metadata": {},
   "source": [
    "# Compute deformations"
   ]
  },
  {
   "cell_type": "markdown",
   "id": "db6d7e40-7434-483d-878a-c07ac6b5a254",
   "metadata": {},
   "source": [
    "This notebook performs a geodesic interpolation between each pair of consecutive meshes.\n",
    "\n",
    "The meshes are unparameterized surfaces, on which the generalized elastic metrics are used.\n",
    "\n",
    "The geodesic itself is saved as new meshes. The geodesic shows how a mesh smoothly deforms onto the next mesh of the time-series.\n",
    "\n",
    "This notebook should be run on the server where a GPU is available."
   ]
  },
  {
   "cell_type": "markdown",
   "id": "fe0cdd01-49d0-48a9-81ff-b3464bb72f0c",
   "metadata": {},
   "source": [
    "## Setup"
   ]
  },
  {
   "cell_type": "code",
   "execution_count": 1,
   "id": "a42d2fca-cb59-4cf1-9748-ce03671b5ea8",
   "metadata": {},
   "outputs": [
    {
     "name": "stdout",
     "output_type": "stream",
     "text": [
      "Working directory:  /home/nmiolane/code/my28brains\n",
      "Added directories to syspath:\n",
      "/home/nmiolane/code\n",
      "/home/nmiolane/code/my28brains/H2_SurfaceMatch\n"
     ]
    }
   ],
   "source": [
    "import os\n",
    "import subprocess\n",
    "\n",
    "gitroot_path = subprocess.check_output(\n",
    "    [\"git\", \"rev-parse\", \"--show-toplevel\"], universal_newlines=True\n",
    ")\n",
    "os.chdir(gitroot_path[:-1])\n",
    "work_dir = os.getcwd()\n",
    "print(\"Working directory: \", work_dir)\n",
    "\n",
    "import warnings\n",
    "\n",
    "warnings.filterwarnings(\"ignore\")\n",
    "\n",
    "import sys\n",
    "\n",
    "sys_dir = os.path.dirname(work_dir)\n",
    "sys.path.append(sys_dir)\n",
    "h2_surfacematch_dir = os.path.join(work_dir, \"H2_SurfaceMatch\")\n",
    "sys.path.append(h2_surfacematch_dir)\n",
    "\n",
    "print(\"Added directories to syspath:\")\n",
    "print(sys_dir)\n",
    "print(h2_surfacematch_dir)"
   ]
  },
  {
   "cell_type": "markdown",
   "id": "8463fa60-d88f-4b5b-baa0-52c17f6472d3",
   "metadata": {},
   "source": [
    "## Imports"
   ]
  },
  {
   "cell_type": "code",
   "execution_count": 2,
   "id": "cd4e01ad-a047-49f5-9d7f-8c3a8e13e649",
   "metadata": {
    "tags": []
   },
   "outputs": [
    {
     "name": "stderr",
     "output_type": "stream",
     "text": [
      "INFO: Using numpy backend\n"
     ]
    }
   ],
   "source": [
    "import glob\n",
    "import time\n",
    "\n",
    "import numpy as np\n",
    "import torch\n",
    "import trimesh\n",
    "\n",
    "import my28brains.my28brains.io as io"
   ]
  },
  {
   "cell_type": "code",
   "execution_count": 3,
   "id": "12197f63-b3cf-4a11-950d-3e110093021a",
   "metadata": {},
   "outputs": [
    {
     "name": "stdout",
     "output_type": "stream",
     "text": [
      "Jupyter environment detected. Enabling Open3D WebVisualizer.\n",
      "[Open3D INFO] WebRTC GUI backend enabled.\n",
      "[Open3D INFO] WebRTCWindowSystem: HTTP handshake server disabled.\n",
      "cuda:0\n"
     ]
    }
   ],
   "source": [
    "import H2_SurfaceMatch.H2_match\n",
    "import H2_SurfaceMatch.utils.input_output\n",
    "import H2_SurfaceMatch.utils.utils\n",
    "\n",
    "use_cuda = 1\n",
    "torchdeviceId = torch.device(\"cuda:0\") if use_cuda else \"cpu\"\n",
    "torchdtype = torch.float32\n",
    "\n",
    "print(torchdeviceId)"
   ]
  },
  {
   "cell_type": "markdown",
   "id": "84b0822e-4b2f-4e55-bbad-c24aac5b5e2d",
   "metadata": {},
   "source": [
    "## Define Dirs"
   ]
  },
  {
   "cell_type": "code",
   "execution_count": 4,
   "id": "5ac350f1-392f-4eb5-ab50-b53ee3ef185c",
   "metadata": {},
   "outputs": [
    {
     "name": "stdout",
     "output_type": "stream",
     "text": [
      "CENTERED_MESHES_DIR:  /home/nmiolane/code/my28brains/data/centered_meshes\n",
      "CENTERED_NONDEGENERATE_MESHES_DIR:  /home/nmiolane/code/my28brains/data/centered_nondegenerate_meshes\n"
     ]
    }
   ],
   "source": [
    "CENTERED_MESHES_DIR = os.path.join(os.getcwd(), \"data\", \"centered_meshes\")\n",
    "print(\"CENTERED_MESHES_DIR: \", CENTERED_MESHES_DIR)\n",
    "\n",
    "CENTERED_NONDEGENERATE_MESHES_DIR = os.path.join(\n",
    "    os.getcwd(), \"data\", \"centered_nondegenerate_meshes\"\n",
    ")\n",
    "print(\"CENTERED_NONDEGENERATE_MESHES_DIR: \", CENTERED_NONDEGENERATE_MESHES_DIR)\n",
    "if not os.path.exists(CENTERED_NONDEGENERATE_MESHES_DIR):\n",
    "    os.makedirs(CENTERED_NONDEGENERATE_MESHES_DIR)"
   ]
  },
  {
   "cell_type": "markdown",
   "id": "cd6b9771-e6d9-4e28-8250-7ae094b95100",
   "metadata": {},
   "source": [
    "## Remove degenerate faces in all meshes"
   ]
  },
  {
   "cell_type": "code",
   "execution_count": 5,
   "id": "42ff7b39-8938-4a64-8db2-f614575c3718",
   "metadata": {
    "tags": []
   },
   "outputs": [
    {
     "name": "stdout",
     "output_type": "stream",
     "text": [
      "Found 27 ply files for left hemisphere and anatomical structure -1:\n",
      "/home/nmiolane/code/my28brains/data/centered_meshes/left_structure_-1_sub-01_ses-02.ply\n",
      "/home/nmiolane/code/my28brains/data/centered_meshes/left_structure_-1_sub-01_ses-03.ply\n",
      "/home/nmiolane/code/my28brains/data/centered_meshes/left_structure_-1_sub-01_ses-04.ply\n",
      "/home/nmiolane/code/my28brains/data/centered_meshes/left_structure_-1_sub-01_ses-05.ply\n",
      "/home/nmiolane/code/my28brains/data/centered_meshes/left_structure_-1_sub-01_ses-06.ply\n",
      "/home/nmiolane/code/my28brains/data/centered_meshes/left_structure_-1_sub-01_ses-07.ply\n",
      "/home/nmiolane/code/my28brains/data/centered_meshes/left_structure_-1_sub-01_ses-08.ply\n",
      "/home/nmiolane/code/my28brains/data/centered_meshes/left_structure_-1_sub-01_ses-09.ply\n",
      "/home/nmiolane/code/my28brains/data/centered_meshes/left_structure_-1_sub-01_ses-10.ply\n",
      "/home/nmiolane/code/my28brains/data/centered_meshes/left_structure_-1_sub-01_ses-11.ply\n",
      "/home/nmiolane/code/my28brains/data/centered_meshes/left_structure_-1_sub-01_ses-12.ply\n",
      "/home/nmiolane/code/my28brains/data/centered_meshes/left_structure_-1_sub-01_ses-14.ply\n",
      "/home/nmiolane/code/my28brains/data/centered_meshes/left_structure_-1_sub-01_ses-15.ply\n",
      "/home/nmiolane/code/my28brains/data/centered_meshes/left_structure_-1_sub-01_ses-16.ply\n",
      "/home/nmiolane/code/my28brains/data/centered_meshes/left_structure_-1_sub-01_ses-17.ply\n",
      "/home/nmiolane/code/my28brains/data/centered_meshes/left_structure_-1_sub-01_ses-18.ply\n",
      "/home/nmiolane/code/my28brains/data/centered_meshes/left_structure_-1_sub-01_ses-20.ply\n",
      "/home/nmiolane/code/my28brains/data/centered_meshes/left_structure_-1_sub-01_ses-21.ply\n",
      "/home/nmiolane/code/my28brains/data/centered_meshes/left_structure_-1_sub-01_ses-22.ply\n",
      "/home/nmiolane/code/my28brains/data/centered_meshes/left_structure_-1_sub-01_ses-23.ply\n",
      "/home/nmiolane/code/my28brains/data/centered_meshes/left_structure_-1_sub-01_ses-24.ply\n",
      "/home/nmiolane/code/my28brains/data/centered_meshes/left_structure_-1_sub-01_ses-25.ply\n",
      "/home/nmiolane/code/my28brains/data/centered_meshes/left_structure_-1_sub-01_ses-26.ply\n",
      "/home/nmiolane/code/my28brains/data/centered_meshes/left_structure_-1_sub-01_ses-27.ply\n",
      "/home/nmiolane/code/my28brains/data/centered_meshes/left_structure_-1_sub-01_ses-28.ply\n",
      "/home/nmiolane/code/my28brains/data/centered_meshes/left_structure_-1_sub-01_ses-29.ply\n",
      "/home/nmiolane/code/my28brains/data/centered_meshes/left_structure_-1_sub-01_ses-30.ply\n"
     ]
    }
   ],
   "source": [
    "hemispheres = [\"left\", \"right\"]\n",
    "\n",
    "substructure_structure_ids = list(range(1,10))\n",
    "structure_ids.append(-1)\n",
    "\n",
    "for hemisphere in hemispheres:\n",
    "    for structure_id in structure_ids:\n",
    "\n",
    "        string_base = os.path.join(\n",
    "            # CENTERED_MESHES_DIR, f\"{hemisphere}_structure_{structure_id}_sub-01_ses-**.ply\"\n",
    "            CENTERED_MESHES_DIR, f\"{hemisphere}_structure_{structure_id}**.ply\"\n",
    "        )\n",
    "        paths = sorted(glob.glob(string_base))\n",
    "\n",
    "        print(\n",
    "            f\"Found {len(paths)} ply files for {hemisphere} hemisphere and anatomical structure {structure_id}:\"\n",
    "        )\n",
    "        for path in paths:\n",
    "            print(path)\n",
    "        \n",
    "        for path in paths:\n",
    "        print(f\"\\tLoad mesh from path: {path}\")\n",
    "        mesh = trimesh.load(path)\n",
    "        new_vertices, new_faces = io.remove_degenerate_faces(mesh.vertices, mesh.faces)\n",
    "        new_mesh = trimesh.Trimesh(vertices=new_vertices, faces=new_faces)\n",
    "\n",
    "        ply_path = os.path.join(CENTERED_NONDEGENERATE_MESHES_DIR, os.path.basename(path))\n",
    "        print(ply_path)\n",
    "        io.write_trimesh_to_ply(new_mesh, ply_path)"
   ]
  },
  {
   "cell_type": "markdown",
   "id": "634419f2-2db9-4f78-9ed4-ff1e103625cc",
   "metadata": {},
   "source": [
    "We will use the centered meshes, since they seemed more aligned than the registered meshes."
   ]
  },
  {
   "cell_type": "code",
   "execution_count": 6,
   "id": "999feeb3-e8e9-476c-9408-d503ef5e6c09",
   "metadata": {
    "collapsed": true,
    "jupyter": {
     "outputs_hidden": true
    },
    "tags": []
   },
   "outputs": [
    {
     "name": "stdout",
     "output_type": "stream",
     "text": [
      "\tLoad mesh from path: /home/nmiolane/code/my28brains/data/centered_meshes/left_structure_-1_sub-01_ses-02.ply\n",
      "/home/nmiolane/code/my28brains/data/centered_nondegenerate_meshes/left_structure_-1_sub-01_ses-02.ply\n",
      "Writing mesh at /home/nmiolane/code/my28brains/data/centered_nondegenerate_meshes/left_structure_-1_sub-01_ses-02.ply...\n",
      "\tLoad mesh from path: /home/nmiolane/code/my28brains/data/centered_meshes/left_structure_-1_sub-01_ses-03.ply\n",
      "/home/nmiolane/code/my28brains/data/centered_nondegenerate_meshes/left_structure_-1_sub-01_ses-03.ply\n",
      "Writing mesh at /home/nmiolane/code/my28brains/data/centered_nondegenerate_meshes/left_structure_-1_sub-01_ses-03.ply...\n",
      "\tLoad mesh from path: /home/nmiolane/code/my28brains/data/centered_meshes/left_structure_-1_sub-01_ses-04.ply\n",
      "/home/nmiolane/code/my28brains/data/centered_nondegenerate_meshes/left_structure_-1_sub-01_ses-04.ply\n",
      "Writing mesh at /home/nmiolane/code/my28brains/data/centered_nondegenerate_meshes/left_structure_-1_sub-01_ses-04.ply...\n",
      "\tLoad mesh from path: /home/nmiolane/code/my28brains/data/centered_meshes/left_structure_-1_sub-01_ses-05.ply\n",
      "/home/nmiolane/code/my28brains/data/centered_nondegenerate_meshes/left_structure_-1_sub-01_ses-05.ply\n",
      "Writing mesh at /home/nmiolane/code/my28brains/data/centered_nondegenerate_meshes/left_structure_-1_sub-01_ses-05.ply...\n",
      "\tLoad mesh from path: /home/nmiolane/code/my28brains/data/centered_meshes/left_structure_-1_sub-01_ses-06.ply\n",
      "/home/nmiolane/code/my28brains/data/centered_nondegenerate_meshes/left_structure_-1_sub-01_ses-06.ply\n",
      "Writing mesh at /home/nmiolane/code/my28brains/data/centered_nondegenerate_meshes/left_structure_-1_sub-01_ses-06.ply...\n",
      "\tLoad mesh from path: /home/nmiolane/code/my28brains/data/centered_meshes/left_structure_-1_sub-01_ses-07.ply\n",
      "/home/nmiolane/code/my28brains/data/centered_nondegenerate_meshes/left_structure_-1_sub-01_ses-07.ply\n",
      "Writing mesh at /home/nmiolane/code/my28brains/data/centered_nondegenerate_meshes/left_structure_-1_sub-01_ses-07.ply...\n",
      "\tLoad mesh from path: /home/nmiolane/code/my28brains/data/centered_meshes/left_structure_-1_sub-01_ses-08.ply\n",
      "/home/nmiolane/code/my28brains/data/centered_nondegenerate_meshes/left_structure_-1_sub-01_ses-08.ply\n",
      "Writing mesh at /home/nmiolane/code/my28brains/data/centered_nondegenerate_meshes/left_structure_-1_sub-01_ses-08.ply...\n",
      "\tLoad mesh from path: /home/nmiolane/code/my28brains/data/centered_meshes/left_structure_-1_sub-01_ses-09.ply\n",
      "/home/nmiolane/code/my28brains/data/centered_nondegenerate_meshes/left_structure_-1_sub-01_ses-09.ply\n",
      "Writing mesh at /home/nmiolane/code/my28brains/data/centered_nondegenerate_meshes/left_structure_-1_sub-01_ses-09.ply...\n",
      "\tLoad mesh from path: /home/nmiolane/code/my28brains/data/centered_meshes/left_structure_-1_sub-01_ses-10.ply\n",
      "/home/nmiolane/code/my28brains/data/centered_nondegenerate_meshes/left_structure_-1_sub-01_ses-10.ply\n",
      "Writing mesh at /home/nmiolane/code/my28brains/data/centered_nondegenerate_meshes/left_structure_-1_sub-01_ses-10.ply...\n",
      "\tLoad mesh from path: /home/nmiolane/code/my28brains/data/centered_meshes/left_structure_-1_sub-01_ses-11.ply\n",
      "/home/nmiolane/code/my28brains/data/centered_nondegenerate_meshes/left_structure_-1_sub-01_ses-11.ply\n",
      "Writing mesh at /home/nmiolane/code/my28brains/data/centered_nondegenerate_meshes/left_structure_-1_sub-01_ses-11.ply...\n",
      "\tLoad mesh from path: /home/nmiolane/code/my28brains/data/centered_meshes/left_structure_-1_sub-01_ses-12.ply\n",
      "/home/nmiolane/code/my28brains/data/centered_nondegenerate_meshes/left_structure_-1_sub-01_ses-12.ply\n",
      "Writing mesh at /home/nmiolane/code/my28brains/data/centered_nondegenerate_meshes/left_structure_-1_sub-01_ses-12.ply...\n",
      "\tLoad mesh from path: /home/nmiolane/code/my28brains/data/centered_meshes/left_structure_-1_sub-01_ses-14.ply\n",
      "/home/nmiolane/code/my28brains/data/centered_nondegenerate_meshes/left_structure_-1_sub-01_ses-14.ply\n",
      "Writing mesh at /home/nmiolane/code/my28brains/data/centered_nondegenerate_meshes/left_structure_-1_sub-01_ses-14.ply...\n",
      "\tLoad mesh from path: /home/nmiolane/code/my28brains/data/centered_meshes/left_structure_-1_sub-01_ses-15.ply\n",
      "/home/nmiolane/code/my28brains/data/centered_nondegenerate_meshes/left_structure_-1_sub-01_ses-15.ply\n",
      "Writing mesh at /home/nmiolane/code/my28brains/data/centered_nondegenerate_meshes/left_structure_-1_sub-01_ses-15.ply...\n",
      "\tLoad mesh from path: /home/nmiolane/code/my28brains/data/centered_meshes/left_structure_-1_sub-01_ses-16.ply\n",
      "/home/nmiolane/code/my28brains/data/centered_nondegenerate_meshes/left_structure_-1_sub-01_ses-16.ply\n",
      "Writing mesh at /home/nmiolane/code/my28brains/data/centered_nondegenerate_meshes/left_structure_-1_sub-01_ses-16.ply...\n",
      "\tLoad mesh from path: /home/nmiolane/code/my28brains/data/centered_meshes/left_structure_-1_sub-01_ses-17.ply\n",
      "/home/nmiolane/code/my28brains/data/centered_nondegenerate_meshes/left_structure_-1_sub-01_ses-17.ply\n",
      "Writing mesh at /home/nmiolane/code/my28brains/data/centered_nondegenerate_meshes/left_structure_-1_sub-01_ses-17.ply...\n",
      "\tLoad mesh from path: /home/nmiolane/code/my28brains/data/centered_meshes/left_structure_-1_sub-01_ses-18.ply\n",
      "/home/nmiolane/code/my28brains/data/centered_nondegenerate_meshes/left_structure_-1_sub-01_ses-18.ply\n",
      "Writing mesh at /home/nmiolane/code/my28brains/data/centered_nondegenerate_meshes/left_structure_-1_sub-01_ses-18.ply...\n",
      "\tLoad mesh from path: /home/nmiolane/code/my28brains/data/centered_meshes/left_structure_-1_sub-01_ses-20.ply\n",
      "/home/nmiolane/code/my28brains/data/centered_nondegenerate_meshes/left_structure_-1_sub-01_ses-20.ply\n",
      "Writing mesh at /home/nmiolane/code/my28brains/data/centered_nondegenerate_meshes/left_structure_-1_sub-01_ses-20.ply...\n",
      "\tLoad mesh from path: /home/nmiolane/code/my28brains/data/centered_meshes/left_structure_-1_sub-01_ses-21.ply\n",
      "/home/nmiolane/code/my28brains/data/centered_nondegenerate_meshes/left_structure_-1_sub-01_ses-21.ply\n",
      "Writing mesh at /home/nmiolane/code/my28brains/data/centered_nondegenerate_meshes/left_structure_-1_sub-01_ses-21.ply...\n",
      "\tLoad mesh from path: /home/nmiolane/code/my28brains/data/centered_meshes/left_structure_-1_sub-01_ses-22.ply\n",
      "/home/nmiolane/code/my28brains/data/centered_nondegenerate_meshes/left_structure_-1_sub-01_ses-22.ply\n",
      "Writing mesh at /home/nmiolane/code/my28brains/data/centered_nondegenerate_meshes/left_structure_-1_sub-01_ses-22.ply...\n",
      "\tLoad mesh from path: /home/nmiolane/code/my28brains/data/centered_meshes/left_structure_-1_sub-01_ses-23.ply\n",
      "/home/nmiolane/code/my28brains/data/centered_nondegenerate_meshes/left_structure_-1_sub-01_ses-23.ply\n",
      "Writing mesh at /home/nmiolane/code/my28brains/data/centered_nondegenerate_meshes/left_structure_-1_sub-01_ses-23.ply...\n",
      "\tLoad mesh from path: /home/nmiolane/code/my28brains/data/centered_meshes/left_structure_-1_sub-01_ses-24.ply\n",
      "/home/nmiolane/code/my28brains/data/centered_nondegenerate_meshes/left_structure_-1_sub-01_ses-24.ply\n",
      "Writing mesh at /home/nmiolane/code/my28brains/data/centered_nondegenerate_meshes/left_structure_-1_sub-01_ses-24.ply...\n",
      "\tLoad mesh from path: /home/nmiolane/code/my28brains/data/centered_meshes/left_structure_-1_sub-01_ses-25.ply\n",
      "/home/nmiolane/code/my28brains/data/centered_nondegenerate_meshes/left_structure_-1_sub-01_ses-25.ply\n",
      "Writing mesh at /home/nmiolane/code/my28brains/data/centered_nondegenerate_meshes/left_structure_-1_sub-01_ses-25.ply...\n",
      "\tLoad mesh from path: /home/nmiolane/code/my28brains/data/centered_meshes/left_structure_-1_sub-01_ses-26.ply\n",
      "/home/nmiolane/code/my28brains/data/centered_nondegenerate_meshes/left_structure_-1_sub-01_ses-26.ply\n",
      "Writing mesh at /home/nmiolane/code/my28brains/data/centered_nondegenerate_meshes/left_structure_-1_sub-01_ses-26.ply...\n",
      "\tLoad mesh from path: /home/nmiolane/code/my28brains/data/centered_meshes/left_structure_-1_sub-01_ses-27.ply\n",
      "/home/nmiolane/code/my28brains/data/centered_nondegenerate_meshes/left_structure_-1_sub-01_ses-27.ply\n",
      "Writing mesh at /home/nmiolane/code/my28brains/data/centered_nondegenerate_meshes/left_structure_-1_sub-01_ses-27.ply...\n",
      "\tLoad mesh from path: /home/nmiolane/code/my28brains/data/centered_meshes/left_structure_-1_sub-01_ses-28.ply\n",
      "/home/nmiolane/code/my28brains/data/centered_nondegenerate_meshes/left_structure_-1_sub-01_ses-28.ply\n",
      "Writing mesh at /home/nmiolane/code/my28brains/data/centered_nondegenerate_meshes/left_structure_-1_sub-01_ses-28.ply...\n",
      "\tLoad mesh from path: /home/nmiolane/code/my28brains/data/centered_meshes/left_structure_-1_sub-01_ses-29.ply\n",
      "/home/nmiolane/code/my28brains/data/centered_nondegenerate_meshes/left_structure_-1_sub-01_ses-29.ply\n",
      "Writing mesh at /home/nmiolane/code/my28brains/data/centered_nondegenerate_meshes/left_structure_-1_sub-01_ses-29.ply...\n",
      "\tLoad mesh from path: /home/nmiolane/code/my28brains/data/centered_meshes/left_structure_-1_sub-01_ses-30.ply\n",
      "/home/nmiolane/code/my28brains/data/centered_nondegenerate_meshes/left_structure_-1_sub-01_ses-30.ply\n",
      "Writing mesh at /home/nmiolane/code/my28brains/data/centered_nondegenerate_meshes/left_structure_-1_sub-01_ses-30.ply...\n"
     ]
    }
   ],
   "source": [
    "# for path in paths:\n",
    "#     print(f\"\\tLoad mesh from path: {path}\")\n",
    "#     mesh = trimesh.load(path)\n",
    "#     new_vertices, new_faces = io.remove_degenerate_faces(mesh.vertices, mesh.faces)\n",
    "#     new_mesh = trimesh.Trimesh(vertices=new_vertices, faces=new_faces)\n",
    "\n",
    "#     ply_path = os.path.join(CENTERED_NONDEGENERATE_MESHES_DIR, os.path.basename(path))\n",
    "#     print(ply_path)\n",
    "#     io.write_trimesh_to_ply(new_mesh, ply_path)"
   ]
  },
  {
   "cell_type": "markdown",
   "id": "c7e575fd-0ea9-4c14-8cab-8fd0d967e7af",
   "metadata": {},
   "source": [
    "# Create sequence of ply showing smooth deformation by geodesic interpolation"
   ]
  },
  {
   "cell_type": "code",
   "execution_count": 7,
   "id": "67cc6e87-4445-45a9-ab92-3872b13940eb",
   "metadata": {},
   "outputs": [
    {
     "name": "stdout",
     "output_type": "stream",
     "text": [
      "Found 27 ply files for left hemisphere and anatomical structure -1:\n",
      "/home/nmiolane/code/my28brains/data/centered_nondegenerate_meshes/left_structure_-1_sub-01_ses-02.ply\n",
      "/home/nmiolane/code/my28brains/data/centered_nondegenerate_meshes/left_structure_-1_sub-01_ses-03.ply\n",
      "/home/nmiolane/code/my28brains/data/centered_nondegenerate_meshes/left_structure_-1_sub-01_ses-04.ply\n",
      "/home/nmiolane/code/my28brains/data/centered_nondegenerate_meshes/left_structure_-1_sub-01_ses-05.ply\n",
      "/home/nmiolane/code/my28brains/data/centered_nondegenerate_meshes/left_structure_-1_sub-01_ses-06.ply\n",
      "/home/nmiolane/code/my28brains/data/centered_nondegenerate_meshes/left_structure_-1_sub-01_ses-07.ply\n",
      "/home/nmiolane/code/my28brains/data/centered_nondegenerate_meshes/left_structure_-1_sub-01_ses-08.ply\n",
      "/home/nmiolane/code/my28brains/data/centered_nondegenerate_meshes/left_structure_-1_sub-01_ses-09.ply\n",
      "/home/nmiolane/code/my28brains/data/centered_nondegenerate_meshes/left_structure_-1_sub-01_ses-10.ply\n",
      "/home/nmiolane/code/my28brains/data/centered_nondegenerate_meshes/left_structure_-1_sub-01_ses-11.ply\n",
      "/home/nmiolane/code/my28brains/data/centered_nondegenerate_meshes/left_structure_-1_sub-01_ses-12.ply\n",
      "/home/nmiolane/code/my28brains/data/centered_nondegenerate_meshes/left_structure_-1_sub-01_ses-14.ply\n",
      "/home/nmiolane/code/my28brains/data/centered_nondegenerate_meshes/left_structure_-1_sub-01_ses-15.ply\n",
      "/home/nmiolane/code/my28brains/data/centered_nondegenerate_meshes/left_structure_-1_sub-01_ses-16.ply\n",
      "/home/nmiolane/code/my28brains/data/centered_nondegenerate_meshes/left_structure_-1_sub-01_ses-17.ply\n",
      "/home/nmiolane/code/my28brains/data/centered_nondegenerate_meshes/left_structure_-1_sub-01_ses-18.ply\n",
      "/home/nmiolane/code/my28brains/data/centered_nondegenerate_meshes/left_structure_-1_sub-01_ses-20.ply\n",
      "/home/nmiolane/code/my28brains/data/centered_nondegenerate_meshes/left_structure_-1_sub-01_ses-21.ply\n",
      "/home/nmiolane/code/my28brains/data/centered_nondegenerate_meshes/left_structure_-1_sub-01_ses-22.ply\n",
      "/home/nmiolane/code/my28brains/data/centered_nondegenerate_meshes/left_structure_-1_sub-01_ses-23.ply\n",
      "/home/nmiolane/code/my28brains/data/centered_nondegenerate_meshes/left_structure_-1_sub-01_ses-24.ply\n",
      "/home/nmiolane/code/my28brains/data/centered_nondegenerate_meshes/left_structure_-1_sub-01_ses-25.ply\n",
      "/home/nmiolane/code/my28brains/data/centered_nondegenerate_meshes/left_structure_-1_sub-01_ses-26.ply\n",
      "/home/nmiolane/code/my28brains/data/centered_nondegenerate_meshes/left_structure_-1_sub-01_ses-27.ply\n",
      "/home/nmiolane/code/my28brains/data/centered_nondegenerate_meshes/left_structure_-1_sub-01_ses-28.ply\n",
      "/home/nmiolane/code/my28brains/data/centered_nondegenerate_meshes/left_structure_-1_sub-01_ses-29.ply\n",
      "/home/nmiolane/code/my28brains/data/centered_nondegenerate_meshes/left_structure_-1_sub-01_ses-30.ply\n"
     ]
    }
   ],
   "source": [
    "# hemisphere = \"left\"\n",
    "# structure_id = -1\n",
    "\n",
    "hemispheres = [\"left\", \"right\"]\n",
    "\n",
    "substructure_structure_ids = list(range(1,10))\n",
    "structure_ids.append(-1)\n",
    "\n",
    "for hemisphere in hemispheres:\n",
    "    for structure_id in structure_ids:\n",
    "        string_base = os.path.join(\n",
    "            CENTERED_NONDEGENERATE_MESHES_DIR,\n",
    "            f\"{hemisphere}_structure_{structure_id}_sub-01_ses-**.ply\",\n",
    "        )\n",
    "        paths = sorted(glob.glob(string_base))\n",
    "\n",
    "        print(\n",
    "            f\"Found {len(paths)} ply files for {hemisphere} hemisphere and anatomical structure {structure_id}:\"\n",
    "        )\n",
    "        for path in paths:\n",
    "            print(path)\n",
    "        \n",
    "        start_paths = paths[:-1]\n",
    "        end_paths = paths[1:]\n",
    "        \n",
    "        a0 = 0.01\n",
    "        a1 = 100\n",
    "        b1 = 100\n",
    "        c1 = 0.2\n",
    "        d1 = 0.01\n",
    "        a2 = 0.01\n",
    "\n",
    "\n",
    "        param1 = {\n",
    "            \"weight_coef_dist_T\": 10**1,\n",
    "            \"weight_coef_dist_S\": 10**1,\n",
    "            \"sig_geom\": 0.4,\n",
    "            \"max_iter\": 2000,\n",
    "            \"time_steps\": 2,\n",
    "            \"tri_unsample\": True,\n",
    "            \"index\": 0,\n",
    "        }\n",
    "\n",
    "        param2 = {\n",
    "            \"weight_coef_dist_T\": 10**2,\n",
    "            \"weight_coef_dist_S\": 10**2,\n",
    "            \"sig_geom\": 0.3,\n",
    "            \"max_iter\": 1000,\n",
    "            \"time_steps\": 2,\n",
    "            \"tri_unsample\": False,\n",
    "            \"index\": 1,\n",
    "        }\n",
    "\n",
    "        param3 = {\n",
    "            \"weight_coef_dist_T\": 10**3,\n",
    "            \"weight_coef_dist_S\": 10**3,\n",
    "            \"sig_geom\": 0.2,\n",
    "            \"max_iter\": 1000,\n",
    "            \"time_steps\": 2,\n",
    "            \"tri_unsample\": False,\n",
    "            \"index\": 1,\n",
    "        }\n",
    "\n",
    "        param4 = {\n",
    "            \"weight_coef_dist_T\": 10**4,\n",
    "            \"weight_coef_dist_S\": 10**4,\n",
    "            \"sig_geom\": 0.1,\n",
    "            \"max_iter\": 1000,\n",
    "            \"time_steps\": 3,\n",
    "            \"tri_unsample\": True,\n",
    "            \"index\": 1,\n",
    "        }\n",
    "\n",
    "        param5 = {\n",
    "            \"weight_coef_dist_T\": 10**5,\n",
    "            \"weight_coef_dist_S\": 10**5,\n",
    "            \"sig_geom\": 0.1,\n",
    "            \"max_iter\": 1000,\n",
    "            \"time_steps\": 4,\n",
    "            \"tri_unsample\": False,\n",
    "            \"index\": 2,\n",
    "        }\n",
    "\n",
    "        param6 = {\n",
    "            \"weight_coef_dist_T\": 10**6,\n",
    "            \"weight_coef_dist_S\": 10**6,\n",
    "            \"sig_geom\": 0.05,\n",
    "            \"max_iter\": 1000,\n",
    "            \"time_steps\": 5,\n",
    "            \"tri_unsample\": False,\n",
    "            \"index\": 2,\n",
    "        }\n",
    "\n",
    "\n",
    "        paramlist = [param1, param2, param3, param4, param5, param6]\n",
    "        \n",
    "        GEODESICS_DIR = os.path.join(os.getcwd(), \"data\", \"geodesics\")\n",
    "        print(\"GEODESICS_DIR: \", GEODESICS_DIR)\n",
    "        if not os.path.exists(GEODESICS_DIR):\n",
    "            os.makedirs(GEODESICS_DIR)"
   ]
  },
  {
   "cell_type": "code",
   "execution_count": 8,
   "id": "1979d2a1-beda-43b3-866d-1851b91ea6f2",
   "metadata": {},
   "outputs": [],
   "source": [
    "# start_paths = paths[:-1]\n",
    "# end_paths = paths[1:]"
   ]
  },
  {
   "cell_type": "markdown",
   "id": "2a81bd8b-d031-436d-8884-b1c617b83ef0",
   "metadata": {},
   "source": [
    "Can we force the interp on one given GPU? it seems, in any case, that it is using all CPUs... thus might not help"
   ]
  },
  {
   "cell_type": "code",
   "execution_count": 9,
   "id": "39337326-6c80-4f3b-83e2-a368576ba838",
   "metadata": {},
   "outputs": [],
   "source": [
    "# a0 = 0.01\n",
    "# a1 = 100\n",
    "# b1 = 100\n",
    "# c1 = 0.2\n",
    "# d1 = 0.01\n",
    "# a2 = 0.01\n",
    "\n",
    "\n",
    "# param1 = {\n",
    "#     \"weight_coef_dist_T\": 10**1,\n",
    "#     \"weight_coef_dist_S\": 10**1,\n",
    "#     \"sig_geom\": 0.4,\n",
    "#     \"max_iter\": 2000,\n",
    "#     \"time_steps\": 2,\n",
    "#     \"tri_unsample\": True,\n",
    "#     \"index\": 0,\n",
    "# }\n",
    "\n",
    "# param2 = {\n",
    "#     \"weight_coef_dist_T\": 10**2,\n",
    "#     \"weight_coef_dist_S\": 10**2,\n",
    "#     \"sig_geom\": 0.3,\n",
    "#     \"max_iter\": 1000,\n",
    "#     \"time_steps\": 2,\n",
    "#     \"tri_unsample\": False,\n",
    "#     \"index\": 1,\n",
    "# }\n",
    "\n",
    "# param3 = {\n",
    "#     \"weight_coef_dist_T\": 10**3,\n",
    "#     \"weight_coef_dist_S\": 10**3,\n",
    "#     \"sig_geom\": 0.2,\n",
    "#     \"max_iter\": 1000,\n",
    "#     \"time_steps\": 2,\n",
    "#     \"tri_unsample\": False,\n",
    "#     \"index\": 1,\n",
    "# }\n",
    "\n",
    "# param4 = {\n",
    "#     \"weight_coef_dist_T\": 10**4,\n",
    "#     \"weight_coef_dist_S\": 10**4,\n",
    "#     \"sig_geom\": 0.1,\n",
    "#     \"max_iter\": 1000,\n",
    "#     \"time_steps\": 3,\n",
    "#     \"tri_unsample\": True,\n",
    "#     \"index\": 1,\n",
    "# }\n",
    "\n",
    "# param5 = {\n",
    "#     \"weight_coef_dist_T\": 10**5,\n",
    "#     \"weight_coef_dist_S\": 10**5,\n",
    "#     \"sig_geom\": 0.1,\n",
    "#     \"max_iter\": 1000,\n",
    "#     \"time_steps\": 4,\n",
    "#     \"tri_unsample\": False,\n",
    "#     \"index\": 2,\n",
    "# }\n",
    "\n",
    "# param6 = {\n",
    "#     \"weight_coef_dist_T\": 10**6,\n",
    "#     \"weight_coef_dist_S\": 10**6,\n",
    "#     \"sig_geom\": 0.05,\n",
    "#     \"max_iter\": 1000,\n",
    "#     \"time_steps\": 5,\n",
    "#     \"tri_unsample\": False,\n",
    "#     \"index\": 2,\n",
    "# }\n",
    "\n",
    "\n",
    "# paramlist = [param1, param2, param3, param4, param5, param6]"
   ]
  },
  {
   "cell_type": "code",
   "execution_count": 10,
   "id": "fe58c680-45b8-403b-87ee-dc48a6a34027",
   "metadata": {},
   "outputs": [
    {
     "name": "stdout",
     "output_type": "stream",
     "text": [
      "GEODESICS_DIR:  /home/nmiolane/code/my28brains/data/geodesics\n"
     ]
    }
   ],
   "source": [
    "# GEODESICS_DIR = os.path.join(os.getcwd(), \"data\", \"geodesics\")\n",
    "# print(\"GEODESICS_DIR: \", GEODESICS_DIR)\n",
    "# if not os.path.exists(GEODESICS_DIR):\n",
    "#     os.makedirs(GEODESICS_DIR)"
   ]
  },
  {
   "cell_type": "markdown",
   "id": "252891c9-104d-495b-bc02-fb2a13001d2b",
   "metadata": {},
   "source": [
    "### Function performing one interpolation"
   ]
  },
  {
   "cell_type": "code",
   "execution_count": 11,
   "id": "50ad39b7-e504-4ab1-9556-40a1c90988dc",
   "metadata": {},
   "outputs": [],
   "source": [
    "def _geodesic_interp(i_pair):\n",
    "    \"\"\"Auxiliary function that will be run in parallelon different GPUs.\"\"\"\n",
    "    start_time = time.time()\n",
    "    start_path = start_paths[i_pair]\n",
    "    end_path = end_paths[i_pair]\n",
    "\n",
    "    [VS, FS, FunS] = H2_SurfaceMatch.utils.input_output.loadData(start_path)\n",
    "    VS = VS / 10\n",
    "    [VS, FS] = H2_SurfaceMatch.utils.input_output.decimate_mesh(\n",
    "        VS, FS, int(FS.shape[0] / 4)\n",
    "    )\n",
    "    sources = [[VS, FS]]\n",
    "\n",
    "    [VT, FT, FunT] = H2_SurfaceMatch.utils.input_output.loadData(end_path)\n",
    "    VT = VT / 10\n",
    "    [VT, FT] = H2_SurfaceMatch.utils.input_output.decimate_mesh(\n",
    "        VT, FT, int(FT.shape[0] / 4)\n",
    "    )\n",
    "    targets = [[VT, FT]]\n",
    "\n",
    "    source = sources[0]\n",
    "    target = targets[0]\n",
    "\n",
    "    geod, F0 = H2_SurfaceMatch.H2_match.H2MultiRes(\n",
    "        source, target, a0, a1, b1, c1, d1, a2, resolutions=2, paramlist=paramlist\n",
    "    )\n",
    "    comp_time = time.time() - start_time\n",
    "    print(f\"Geodesic interpolation {i_pair} took: {comp_time / 60:.2f} minutes.\")\n",
    "\n",
    "    # We use the start mesh as the basename for the ply files\n",
    "    ply_prefix = os.path.join(GEODESICS_DIR, os.path.basename(start_path))\n",
    "\n",
    "    for i_time in range(geod.shape[0]):\n",
    "        H2_SurfaceMatch.utils.input_output.plotGeodesic(\n",
    "            [geod[i_time]],\n",
    "            F0,\n",
    "            stepsize=5,\n",
    "            file_name=ply_prefix + \"{}\".format(i_time),\n",
    "            axis=[0, 1, 0],\n",
    "            angle=-1 * np.pi / 2,\n",
    "        )\n",
    "    print(f\"Geodesic interpolation {i_pair} saved to: {geod_dir}.\")"
   ]
  },
  {
   "cell_type": "markdown",
   "id": "3942b034-75c4-483a-b149-9dc1eed45a43",
   "metadata": {},
   "source": [
    "This code ran until \"Geodesic interpolation for pair: 12/26\", then failed at iteration 5 with error:\n",
    "\n",
    "```\n",
    "File ~/code/H2_SurfaceMatch/enr/H2.py:135, in getGabNorm(alpha, xi, g, dg, dn, a, b, c, d)\n",
    "    132 areas=torch.sqrt(torch.det(g)).to(dtype=torchdtype, device=torchdeviceId)\n",
    "    133 # This inversion fails\n",
    "    134 # g is getSurfMetric(midpoints[i],F_sol)\n",
    "--> 135 ginv=torch.inverse(g)\n",
    "    136 ginvdg=torch.matmul(ginv,dg)    \n",
    "    137 A=0\n",
    "\n",
    "_LinAlgError: linalg.inv: (Batch element 1434): The diagonal element 2 is zero, the inversion could not be completed because the input matrix is singular.\n",
    "```"
   ]
  },
  {
   "cell_type": "code",
   "execution_count": 12,
   "id": "79d749cf-15c0-41a2-96ac-6bff03efede5",
   "metadata": {},
   "outputs": [
    {
     "name": "stdout",
     "output_type": "stream",
     "text": [
      "\n",
      "\n",
      " -------> Geodesic interpolation for pair: 0/26\n",
      "before starting: Vertices then Faces for S then T\n",
      "(4758, 3) (9596, 3)\n",
      "(4504, 3) (9056, 3)\n",
      "FS decimation target: 2399\n",
      "FT decimation target: 2264\n",
      "Resol 0: Vertices for S then T\n",
      "(1205, 3) (2398, 3)\n",
      "(1137, 3) (2264, 3)\n",
      "FS decimation target: 599\n",
      "FT decimation target: 566\n",
      "Resol 1: Vertices for S then T\n",
      "(320, 3) (598, 3)\n",
      "(308, 3) (566, 3)\n"
     ]
    },
    {
     "name": "stderr",
     "output_type": "stream",
     "text": [
      " This problem is unconstrained.\n"
     ]
    },
    {
     "name": "stdout",
     "output_type": "stream",
     "text": [
      "RUNNING THE L-BFGS-B CODE\n",
      "\n",
      "           * * *\n",
      "\n",
      "Machine precision = 2.220D-16\n",
      " N =         1920     M =           10\n"
     ]
    },
    {
     "ename": "KeyboardInterrupt",
     "evalue": "",
     "output_type": "error",
     "traceback": [
      "\u001b[0;31m---------------------------------------------------------------------------\u001b[0m",
      "\u001b[0;31mKeyboardInterrupt\u001b[0m                         Traceback (most recent call last)",
      "Cell \u001b[0;32mIn[12], line 5\u001b[0m\n\u001b[1;32m      3\u001b[0m     \u001b[38;5;28;01mbreak\u001b[39;00m\n\u001b[1;32m      4\u001b[0m \u001b[38;5;28mprint\u001b[39m(\u001b[38;5;124mf\u001b[39m\u001b[38;5;124m\"\u001b[39m\u001b[38;5;130;01m\\n\u001b[39;00m\u001b[38;5;130;01m\\n\u001b[39;00m\u001b[38;5;124m -------> Geodesic interpolation for pair: \u001b[39m\u001b[38;5;132;01m{\u001b[39;00mi_pair\u001b[38;5;132;01m}\u001b[39;00m\u001b[38;5;124m/\u001b[39m\u001b[38;5;132;01m{\u001b[39;00m\u001b[38;5;28mlen\u001b[39m(start_paths)\u001b[38;5;132;01m}\u001b[39;00m\u001b[38;5;124m\"\u001b[39m)\n\u001b[0;32m----> 5\u001b[0m \u001b[43m_geodesic_interp\u001b[49m\u001b[43m(\u001b[49m\u001b[43mi_pair\u001b[49m\u001b[43m)\u001b[49m\n",
      "Cell \u001b[0;32mIn[11], line 24\u001b[0m, in \u001b[0;36m_geodesic_interp\u001b[0;34m(i_pair)\u001b[0m\n\u001b[1;32m     21\u001b[0m source \u001b[38;5;241m=\u001b[39m sources[\u001b[38;5;241m0\u001b[39m]\n\u001b[1;32m     22\u001b[0m target \u001b[38;5;241m=\u001b[39m targets[\u001b[38;5;241m0\u001b[39m]\n\u001b[0;32m---> 24\u001b[0m geod, F0 \u001b[38;5;241m=\u001b[39m \u001b[43mH2_SurfaceMatch\u001b[49m\u001b[38;5;241;43m.\u001b[39;49m\u001b[43mH2_match\u001b[49m\u001b[38;5;241;43m.\u001b[39;49m\u001b[43mH2MultiRes\u001b[49m\u001b[43m(\u001b[49m\n\u001b[1;32m     25\u001b[0m \u001b[43m    \u001b[49m\u001b[43msource\u001b[49m\u001b[43m,\u001b[49m\u001b[43m \u001b[49m\u001b[43mtarget\u001b[49m\u001b[43m,\u001b[49m\u001b[43m \u001b[49m\u001b[43ma0\u001b[49m\u001b[43m,\u001b[49m\u001b[43m \u001b[49m\u001b[43ma1\u001b[49m\u001b[43m,\u001b[49m\u001b[43m \u001b[49m\u001b[43mb1\u001b[49m\u001b[43m,\u001b[49m\u001b[43m \u001b[49m\u001b[43mc1\u001b[49m\u001b[43m,\u001b[49m\u001b[43m \u001b[49m\u001b[43md1\u001b[49m\u001b[43m,\u001b[49m\u001b[43m \u001b[49m\u001b[43ma2\u001b[49m\u001b[43m,\u001b[49m\u001b[43m \u001b[49m\u001b[43mresolutions\u001b[49m\u001b[38;5;241;43m=\u001b[39;49m\u001b[38;5;241;43m2\u001b[39;49m\u001b[43m,\u001b[49m\u001b[43m \u001b[49m\u001b[43mparamlist\u001b[49m\u001b[38;5;241;43m=\u001b[39;49m\u001b[43mparamlist\u001b[49m\n\u001b[1;32m     26\u001b[0m \u001b[43m\u001b[49m\u001b[43m)\u001b[49m\n\u001b[1;32m     27\u001b[0m comp_time \u001b[38;5;241m=\u001b[39m time\u001b[38;5;241m.\u001b[39mtime() \u001b[38;5;241m-\u001b[39m start_time\n\u001b[1;32m     28\u001b[0m \u001b[38;5;28mprint\u001b[39m(\u001b[38;5;124mf\u001b[39m\u001b[38;5;124m\"\u001b[39m\u001b[38;5;124mGeodesic interpolation \u001b[39m\u001b[38;5;132;01m{\u001b[39;00mi_pair\u001b[38;5;132;01m}\u001b[39;00m\u001b[38;5;124m took: \u001b[39m\u001b[38;5;132;01m{\u001b[39;00mcomp_time\u001b[38;5;250m \u001b[39m\u001b[38;5;241m/\u001b[39m\u001b[38;5;250m \u001b[39m\u001b[38;5;241m60\u001b[39m\u001b[38;5;132;01m:\u001b[39;00m\u001b[38;5;124m.2f\u001b[39m\u001b[38;5;132;01m}\u001b[39;00m\u001b[38;5;124m minutes.\u001b[39m\u001b[38;5;124m\"\u001b[39m)\n",
      "File \u001b[0;32m~/code/my28brains/H2_SurfaceMatch/H2_match.py:318\u001b[0m, in \u001b[0;36mH2MultiRes\u001b[0;34m(source, target, a0, a1, b1, c1, d1, a2, resolutions, paramlist, start, rotate)\u001b[0m\n\u001b[1;32m    316\u001b[0m geod \u001b[38;5;241m=\u001b[39m np\u001b[38;5;241m.\u001b[39marray(geod)\n\u001b[1;32m    317\u001b[0m [N, n, three] \u001b[38;5;241m=\u001b[39m geod\u001b[38;5;241m.\u001b[39mshape\n\u001b[0;32m--> 318\u001b[0m geod, ener, Dic \u001b[38;5;241m=\u001b[39m \u001b[43mSymmetricH2Matching\u001b[49m\u001b[43m(\u001b[49m\n\u001b[1;32m    319\u001b[0m \u001b[43m    \u001b[49m\u001b[43msources\u001b[49m\u001b[43m[\u001b[49m\u001b[43mindex\u001b[49m\u001b[43m]\u001b[49m\u001b[43m,\u001b[49m\u001b[43m \u001b[49m\u001b[43mtargets\u001b[49m\u001b[43m[\u001b[49m\u001b[43mindex\u001b[49m\u001b[43m]\u001b[49m\u001b[43m,\u001b[49m\u001b[43m \u001b[49m\u001b[43mgeod\u001b[49m\u001b[43m,\u001b[49m\u001b[43m \u001b[49m\u001b[43mF0\u001b[49m\u001b[43m,\u001b[49m\u001b[43m \u001b[49m\u001b[43ma0\u001b[49m\u001b[43m,\u001b[49m\u001b[43m \u001b[49m\u001b[43ma1\u001b[49m\u001b[43m,\u001b[49m\u001b[43m \u001b[49m\u001b[43mb1\u001b[49m\u001b[43m,\u001b[49m\u001b[43m \u001b[49m\u001b[43mc1\u001b[49m\u001b[43m,\u001b[49m\u001b[43m \u001b[49m\u001b[43md1\u001b[49m\u001b[43m,\u001b[49m\u001b[43m \u001b[49m\u001b[43ma2\u001b[49m\u001b[43m,\u001b[49m\u001b[43m \u001b[49m\u001b[43mparams\u001b[49m\n\u001b[1;32m    320\u001b[0m \u001b[43m\u001b[49m\u001b[43m)\u001b[49m\n\u001b[1;32m    321\u001b[0m \u001b[38;5;28mprint\u001b[39m(\u001b[38;5;124mf\u001b[39m\u001b[38;5;124m\"\u001b[39m\u001b[38;5;130;01m\\n\u001b[39;00m\u001b[38;5;124m ############ Iteration \u001b[39m\u001b[38;5;132;01m{\u001b[39;00mj\u001b[38;5;132;01m}\u001b[39;00m\u001b[38;5;124m:\u001b[39m\u001b[38;5;124m\"\u001b[39m)\n\u001b[1;32m    322\u001b[0m \u001b[38;5;28mprint\u001b[39m(\u001b[38;5;124m\"\u001b[39m\u001b[38;5;124mF0.shape\u001b[39m\u001b[38;5;124m\"\u001b[39m, F0\u001b[38;5;241m.\u001b[39mshape)\n",
      "File \u001b[0;32m~/code/my28brains/H2_SurfaceMatch/H2_match.py:124\u001b[0m, in \u001b[0;36mSymmetricH2Matching\u001b[0;34m(source, target, geod, F_init, a0, a1, b1, c1, d1, a2, param)\u001b[0m\n\u001b[1;32m    121\u001b[0m     Ggeod \u001b[38;5;241m=\u001b[39m Ggeod\u001b[38;5;241m.\u001b[39mdetach()\u001b[38;5;241m.\u001b[39mcpu()\u001b[38;5;241m.\u001b[39mnumpy()\u001b[38;5;241m.\u001b[39mflatten()\u001b[38;5;241m.\u001b[39mastype(\u001b[38;5;124m\"\u001b[39m\u001b[38;5;124mfloat64\u001b[39m\u001b[38;5;124m\"\u001b[39m)\n\u001b[1;32m    122\u001b[0m     \u001b[38;5;28;01mreturn\u001b[39;00m Ggeod\n\u001b[0;32m--> 124\u001b[0m xopt, fopt, Dic \u001b[38;5;241m=\u001b[39m \u001b[43mfmin_l_bfgs_b\u001b[49m\u001b[43m(\u001b[49m\n\u001b[1;32m    125\u001b[0m \u001b[43m    \u001b[49m\u001b[43mfunopt\u001b[49m\u001b[43m,\u001b[49m\n\u001b[1;32m    126\u001b[0m \u001b[43m    \u001b[49m\u001b[43mgeod\u001b[49m\u001b[38;5;241;43m.\u001b[39;49m\u001b[43mcpu\u001b[49m\u001b[43m(\u001b[49m\u001b[43m)\u001b[49m\u001b[38;5;241;43m.\u001b[39;49m\u001b[43mnumpy\u001b[49m\u001b[43m(\u001b[49m\u001b[43m)\u001b[49m\u001b[38;5;241;43m.\u001b[39;49m\u001b[43mflatten\u001b[49m\u001b[43m(\u001b[49m\u001b[43m)\u001b[49m\u001b[43m,\u001b[49m\n\u001b[1;32m    127\u001b[0m \u001b[43m    \u001b[49m\u001b[43mfprime\u001b[49m\u001b[38;5;241;43m=\u001b[39;49m\u001b[43mdfunopt\u001b[49m\u001b[43m,\u001b[49m\n\u001b[1;32m    128\u001b[0m \u001b[43m    \u001b[49m\u001b[43mpgtol\u001b[49m\u001b[38;5;241;43m=\u001b[39;49m\u001b[38;5;241;43m1e-05\u001b[39;49m\u001b[43m,\u001b[49m\n\u001b[1;32m    129\u001b[0m \u001b[43m    \u001b[49m\u001b[43mepsilon\u001b[49m\u001b[38;5;241;43m=\u001b[39;49m\u001b[38;5;241;43m1e-08\u001b[39;49m\u001b[43m,\u001b[49m\n\u001b[1;32m    130\u001b[0m \u001b[43m    \u001b[49m\u001b[43mmaxiter\u001b[49m\u001b[38;5;241;43m=\u001b[39;49m\u001b[43mmax_iter\u001b[49m\u001b[43m,\u001b[49m\n\u001b[1;32m    131\u001b[0m \u001b[43m    \u001b[49m\u001b[43miprint\u001b[49m\u001b[38;5;241;43m=\u001b[39;49m\u001b[38;5;241;43m0\u001b[39;49m\u001b[43m,\u001b[49m\n\u001b[1;32m    132\u001b[0m \u001b[43m    \u001b[49m\u001b[43mmaxls\u001b[49m\u001b[38;5;241;43m=\u001b[39;49m\u001b[38;5;241;43m20\u001b[39;49m\u001b[43m,\u001b[49m\n\u001b[1;32m    133\u001b[0m \u001b[43m    \u001b[49m\u001b[43mmaxfun\u001b[49m\u001b[38;5;241;43m=\u001b[39;49m\u001b[38;5;241;43m150000\u001b[39;49m\u001b[43m,\u001b[49m\n\u001b[1;32m    134\u001b[0m \u001b[43m\u001b[49m\u001b[43m)\u001b[49m\n\u001b[1;32m    135\u001b[0m geod \u001b[38;5;241m=\u001b[39m xopt\u001b[38;5;241m.\u001b[39mreshape(N, n, \u001b[38;5;241m3\u001b[39m)\n\u001b[1;32m    136\u001b[0m \u001b[38;5;28;01mreturn\u001b[39;00m geod, fopt, Dic\n",
      "File \u001b[0;32m~/anaconda3/envs/my28brains/lib/python3.8/site-packages/scipy/optimize/_lbfgsb_py.py:197\u001b[0m, in \u001b[0;36mfmin_l_bfgs_b\u001b[0;34m(func, x0, fprime, args, approx_grad, bounds, m, factr, pgtol, epsilon, iprint, maxfun, maxiter, disp, callback, maxls)\u001b[0m\n\u001b[1;32m    185\u001b[0m \u001b[38;5;66;03m# build options\u001b[39;00m\n\u001b[1;32m    186\u001b[0m opts \u001b[38;5;241m=\u001b[39m {\u001b[38;5;124m'\u001b[39m\u001b[38;5;124mdisp\u001b[39m\u001b[38;5;124m'\u001b[39m: disp,\n\u001b[1;32m    187\u001b[0m         \u001b[38;5;124m'\u001b[39m\u001b[38;5;124miprint\u001b[39m\u001b[38;5;124m'\u001b[39m: iprint,\n\u001b[1;32m    188\u001b[0m         \u001b[38;5;124m'\u001b[39m\u001b[38;5;124mmaxcor\u001b[39m\u001b[38;5;124m'\u001b[39m: m,\n\u001b[0;32m   (...)\u001b[0m\n\u001b[1;32m    194\u001b[0m         \u001b[38;5;124m'\u001b[39m\u001b[38;5;124mcallback\u001b[39m\u001b[38;5;124m'\u001b[39m: callback,\n\u001b[1;32m    195\u001b[0m         \u001b[38;5;124m'\u001b[39m\u001b[38;5;124mmaxls\u001b[39m\u001b[38;5;124m'\u001b[39m: maxls}\n\u001b[0;32m--> 197\u001b[0m res \u001b[38;5;241m=\u001b[39m \u001b[43m_minimize_lbfgsb\u001b[49m\u001b[43m(\u001b[49m\u001b[43mfun\u001b[49m\u001b[43m,\u001b[49m\u001b[43m \u001b[49m\u001b[43mx0\u001b[49m\u001b[43m,\u001b[49m\u001b[43m \u001b[49m\u001b[43margs\u001b[49m\u001b[38;5;241;43m=\u001b[39;49m\u001b[43margs\u001b[49m\u001b[43m,\u001b[49m\u001b[43m \u001b[49m\u001b[43mjac\u001b[49m\u001b[38;5;241;43m=\u001b[39;49m\u001b[43mjac\u001b[49m\u001b[43m,\u001b[49m\u001b[43m \u001b[49m\u001b[43mbounds\u001b[49m\u001b[38;5;241;43m=\u001b[39;49m\u001b[43mbounds\u001b[49m\u001b[43m,\u001b[49m\n\u001b[1;32m    198\u001b[0m \u001b[43m                       \u001b[49m\u001b[38;5;241;43m*\u001b[39;49m\u001b[38;5;241;43m*\u001b[39;49m\u001b[43mopts\u001b[49m\u001b[43m)\u001b[49m\n\u001b[1;32m    199\u001b[0m d \u001b[38;5;241m=\u001b[39m {\u001b[38;5;124m'\u001b[39m\u001b[38;5;124mgrad\u001b[39m\u001b[38;5;124m'\u001b[39m: res[\u001b[38;5;124m'\u001b[39m\u001b[38;5;124mjac\u001b[39m\u001b[38;5;124m'\u001b[39m],\n\u001b[1;32m    200\u001b[0m      \u001b[38;5;124m'\u001b[39m\u001b[38;5;124mtask\u001b[39m\u001b[38;5;124m'\u001b[39m: res[\u001b[38;5;124m'\u001b[39m\u001b[38;5;124mmessage\u001b[39m\u001b[38;5;124m'\u001b[39m],\n\u001b[1;32m    201\u001b[0m      \u001b[38;5;124m'\u001b[39m\u001b[38;5;124mfuncalls\u001b[39m\u001b[38;5;124m'\u001b[39m: res[\u001b[38;5;124m'\u001b[39m\u001b[38;5;124mnfev\u001b[39m\u001b[38;5;124m'\u001b[39m],\n\u001b[1;32m    202\u001b[0m      \u001b[38;5;124m'\u001b[39m\u001b[38;5;124mnit\u001b[39m\u001b[38;5;124m'\u001b[39m: res[\u001b[38;5;124m'\u001b[39m\u001b[38;5;124mnit\u001b[39m\u001b[38;5;124m'\u001b[39m],\n\u001b[1;32m    203\u001b[0m      \u001b[38;5;124m'\u001b[39m\u001b[38;5;124mwarnflag\u001b[39m\u001b[38;5;124m'\u001b[39m: res[\u001b[38;5;124m'\u001b[39m\u001b[38;5;124mstatus\u001b[39m\u001b[38;5;124m'\u001b[39m]}\n\u001b[1;32m    204\u001b[0m f \u001b[38;5;241m=\u001b[39m res[\u001b[38;5;124m'\u001b[39m\u001b[38;5;124mfun\u001b[39m\u001b[38;5;124m'\u001b[39m]\n",
      "File \u001b[0;32m~/anaconda3/envs/my28brains/lib/python3.8/site-packages/scipy/optimize/_lbfgsb_py.py:359\u001b[0m, in \u001b[0;36m_minimize_lbfgsb\u001b[0;34m(fun, x0, args, jac, bounds, disp, maxcor, ftol, gtol, eps, maxfun, maxiter, iprint, callback, maxls, finite_diff_rel_step, **unknown_options)\u001b[0m\n\u001b[1;32m    353\u001b[0m task_str \u001b[38;5;241m=\u001b[39m task\u001b[38;5;241m.\u001b[39mtobytes()\n\u001b[1;32m    354\u001b[0m \u001b[38;5;28;01mif\u001b[39;00m task_str\u001b[38;5;241m.\u001b[39mstartswith(\u001b[38;5;124mb\u001b[39m\u001b[38;5;124m'\u001b[39m\u001b[38;5;124mFG\u001b[39m\u001b[38;5;124m'\u001b[39m):\n\u001b[1;32m    355\u001b[0m     \u001b[38;5;66;03m# The minimization routine wants f and g at the current x.\u001b[39;00m\n\u001b[1;32m    356\u001b[0m     \u001b[38;5;66;03m# Note that interruptions due to maxfun are postponed\u001b[39;00m\n\u001b[1;32m    357\u001b[0m     \u001b[38;5;66;03m# until the completion of the current minimization iteration.\u001b[39;00m\n\u001b[1;32m    358\u001b[0m     \u001b[38;5;66;03m# Overwrite f and g:\u001b[39;00m\n\u001b[0;32m--> 359\u001b[0m     f, g \u001b[38;5;241m=\u001b[39m \u001b[43mfunc_and_grad\u001b[49m\u001b[43m(\u001b[49m\u001b[43mx\u001b[49m\u001b[43m)\u001b[49m\n\u001b[1;32m    360\u001b[0m \u001b[38;5;28;01melif\u001b[39;00m task_str\u001b[38;5;241m.\u001b[39mstartswith(\u001b[38;5;124mb\u001b[39m\u001b[38;5;124m'\u001b[39m\u001b[38;5;124mNEW_X\u001b[39m\u001b[38;5;124m'\u001b[39m):\n\u001b[1;32m    361\u001b[0m     \u001b[38;5;66;03m# new iteration\u001b[39;00m\n\u001b[1;32m    362\u001b[0m     n_iterations \u001b[38;5;241m+\u001b[39m\u001b[38;5;241m=\u001b[39m \u001b[38;5;241m1\u001b[39m\n",
      "File \u001b[0;32m~/anaconda3/envs/my28brains/lib/python3.8/site-packages/scipy/optimize/_differentiable_functions.py:286\u001b[0m, in \u001b[0;36mScalarFunction.fun_and_grad\u001b[0;34m(self, x)\u001b[0m\n\u001b[1;32m    284\u001b[0m     \u001b[38;5;28mself\u001b[39m\u001b[38;5;241m.\u001b[39m_update_x_impl(x)\n\u001b[1;32m    285\u001b[0m \u001b[38;5;28mself\u001b[39m\u001b[38;5;241m.\u001b[39m_update_fun()\n\u001b[0;32m--> 286\u001b[0m \u001b[38;5;28;43mself\u001b[39;49m\u001b[38;5;241;43m.\u001b[39;49m\u001b[43m_update_grad\u001b[49m\u001b[43m(\u001b[49m\u001b[43m)\u001b[49m\n\u001b[1;32m    287\u001b[0m \u001b[38;5;28;01mreturn\u001b[39;00m \u001b[38;5;28mself\u001b[39m\u001b[38;5;241m.\u001b[39mf, \u001b[38;5;28mself\u001b[39m\u001b[38;5;241m.\u001b[39mg\n",
      "File \u001b[0;32m~/anaconda3/envs/my28brains/lib/python3.8/site-packages/scipy/optimize/_differentiable_functions.py:256\u001b[0m, in \u001b[0;36mScalarFunction._update_grad\u001b[0;34m(self)\u001b[0m\n\u001b[1;32m    254\u001b[0m \u001b[38;5;28;01mdef\u001b[39;00m \u001b[38;5;21m_update_grad\u001b[39m(\u001b[38;5;28mself\u001b[39m):\n\u001b[1;32m    255\u001b[0m     \u001b[38;5;28;01mif\u001b[39;00m \u001b[38;5;129;01mnot\u001b[39;00m \u001b[38;5;28mself\u001b[39m\u001b[38;5;241m.\u001b[39mg_updated:\n\u001b[0;32m--> 256\u001b[0m         \u001b[38;5;28;43mself\u001b[39;49m\u001b[38;5;241;43m.\u001b[39;49m\u001b[43m_update_grad_impl\u001b[49m\u001b[43m(\u001b[49m\u001b[43m)\u001b[49m\n\u001b[1;32m    257\u001b[0m         \u001b[38;5;28mself\u001b[39m\u001b[38;5;241m.\u001b[39mg_updated \u001b[38;5;241m=\u001b[39m \u001b[38;5;28;01mTrue\u001b[39;00m\n",
      "File \u001b[0;32m~/anaconda3/envs/my28brains/lib/python3.8/site-packages/scipy/optimize/_differentiable_functions.py:167\u001b[0m, in \u001b[0;36mScalarFunction.__init__.<locals>.update_grad\u001b[0;34m()\u001b[0m\n\u001b[1;32m    166\u001b[0m \u001b[38;5;28;01mdef\u001b[39;00m \u001b[38;5;21mupdate_grad\u001b[39m():\n\u001b[0;32m--> 167\u001b[0m     \u001b[38;5;28mself\u001b[39m\u001b[38;5;241m.\u001b[39mg \u001b[38;5;241m=\u001b[39m \u001b[43mgrad_wrapped\u001b[49m\u001b[43m(\u001b[49m\u001b[38;5;28;43mself\u001b[39;49m\u001b[38;5;241;43m.\u001b[39;49m\u001b[43mx\u001b[49m\u001b[43m)\u001b[49m\n",
      "File \u001b[0;32m~/anaconda3/envs/my28brains/lib/python3.8/site-packages/scipy/optimize/_differentiable_functions.py:164\u001b[0m, in \u001b[0;36mScalarFunction.__init__.<locals>.grad_wrapped\u001b[0;34m(x)\u001b[0m\n\u001b[1;32m    162\u001b[0m \u001b[38;5;28;01mdef\u001b[39;00m \u001b[38;5;21mgrad_wrapped\u001b[39m(x):\n\u001b[1;32m    163\u001b[0m     \u001b[38;5;28mself\u001b[39m\u001b[38;5;241m.\u001b[39mngev \u001b[38;5;241m+\u001b[39m\u001b[38;5;241m=\u001b[39m \u001b[38;5;241m1\u001b[39m\n\u001b[0;32m--> 164\u001b[0m     \u001b[38;5;28;01mreturn\u001b[39;00m np\u001b[38;5;241m.\u001b[39matleast_1d(\u001b[43mgrad\u001b[49m\u001b[43m(\u001b[49m\u001b[43mnp\u001b[49m\u001b[38;5;241;43m.\u001b[39;49m\u001b[43mcopy\u001b[49m\u001b[43m(\u001b[49m\u001b[43mx\u001b[49m\u001b[43m)\u001b[49m\u001b[43m,\u001b[49m\u001b[43m \u001b[49m\u001b[38;5;241;43m*\u001b[39;49m\u001b[43margs\u001b[49m\u001b[43m)\u001b[49m)\n",
      "File \u001b[0;32m~/code/my28brains/H2_SurfaceMatch/H2_match.py:120\u001b[0m, in \u001b[0;36mSymmetricH2Matching.<locals>.dfunopt\u001b[0;34m(geod)\u001b[0m\n\u001b[1;32m    116\u001b[0m \u001b[38;5;28;01mdef\u001b[39;00m \u001b[38;5;21mdfunopt\u001b[39m(geod):\n\u001b[1;32m    117\u001b[0m     geod \u001b[38;5;241m=\u001b[39m torch\u001b[38;5;241m.\u001b[39mfrom_numpy(geod\u001b[38;5;241m.\u001b[39mreshape(N, n, \u001b[38;5;241m3\u001b[39m))\u001b[38;5;241m.\u001b[39mto(\n\u001b[1;32m    118\u001b[0m         dtype\u001b[38;5;241m=\u001b[39mtorchdtype, device\u001b[38;5;241m=\u001b[39mtorchdeviceId\n\u001b[1;32m    119\u001b[0m     )\n\u001b[0;32m--> 120\u001b[0m     [Ggeod] \u001b[38;5;241m=\u001b[39m \u001b[43mgradE\u001b[49m\u001b[43m(\u001b[49m\u001b[43mgeod\u001b[49m\u001b[43m)\u001b[49m\n\u001b[1;32m    121\u001b[0m     Ggeod \u001b[38;5;241m=\u001b[39m Ggeod\u001b[38;5;241m.\u001b[39mdetach()\u001b[38;5;241m.\u001b[39mcpu()\u001b[38;5;241m.\u001b[39mnumpy()\u001b[38;5;241m.\u001b[39mflatten()\u001b[38;5;241m.\u001b[39mastype(\u001b[38;5;124m\"\u001b[39m\u001b[38;5;124mfloat64\u001b[39m\u001b[38;5;124m\"\u001b[39m)\n\u001b[1;32m    122\u001b[0m     \u001b[38;5;28;01mreturn\u001b[39;00m Ggeod\n",
      "File \u001b[0;32m~/code/my28brains/H2_SurfaceMatch/H2_match.py:108\u001b[0m, in \u001b[0;36mSymmetricH2Matching.<locals>.gradE\u001b[0;34m(geod)\u001b[0m\n\u001b[1;32m    106\u001b[0m \u001b[38;5;28;01mdef\u001b[39;00m \u001b[38;5;21mgradE\u001b[39m(geod):\n\u001b[1;32m    107\u001b[0m     qgeod \u001b[38;5;241m=\u001b[39m geod\u001b[38;5;241m.\u001b[39mclone()\u001b[38;5;241m.\u001b[39mrequires_grad_(\u001b[38;5;28;01mTrue\u001b[39;00m)\n\u001b[0;32m--> 108\u001b[0m     \u001b[38;5;28;01mreturn\u001b[39;00m \u001b[43mgrad\u001b[49m\u001b[43m(\u001b[49m\u001b[43menergy\u001b[49m\u001b[43m(\u001b[49m\u001b[43mqgeod\u001b[49m\u001b[43m)\u001b[49m\u001b[43m,\u001b[49m\u001b[43m \u001b[49m\u001b[43mqgeod\u001b[49m\u001b[43m,\u001b[49m\u001b[43m \u001b[49m\u001b[43mcreate_graph\u001b[49m\u001b[38;5;241;43m=\u001b[39;49m\u001b[38;5;28;43;01mTrue\u001b[39;49;00m\u001b[43m)\u001b[49m\n",
      "File \u001b[0;32m~/anaconda3/envs/my28brains/lib/python3.8/site-packages/torch/autograd/__init__.py:300\u001b[0m, in \u001b[0;36mgrad\u001b[0;34m(outputs, inputs, grad_outputs, retain_graph, create_graph, only_inputs, allow_unused, is_grads_batched)\u001b[0m\n\u001b[1;32m    298\u001b[0m     \u001b[38;5;28;01mreturn\u001b[39;00m _vmap_internals\u001b[38;5;241m.\u001b[39m_vmap(vjp, \u001b[38;5;241m0\u001b[39m, \u001b[38;5;241m0\u001b[39m, allow_none_pass_through\u001b[38;5;241m=\u001b[39m\u001b[38;5;28;01mTrue\u001b[39;00m)(grad_outputs_)\n\u001b[1;32m    299\u001b[0m \u001b[38;5;28;01melse\u001b[39;00m:\n\u001b[0;32m--> 300\u001b[0m     \u001b[38;5;28;01mreturn\u001b[39;00m \u001b[43mVariable\u001b[49m\u001b[38;5;241;43m.\u001b[39;49m\u001b[43m_execution_engine\u001b[49m\u001b[38;5;241;43m.\u001b[39;49m\u001b[43mrun_backward\u001b[49m\u001b[43m(\u001b[49m\u001b[43m  \u001b[49m\u001b[38;5;66;43;03m# Calls into the C++ engine to run the backward pass\u001b[39;49;00m\n\u001b[1;32m    301\u001b[0m \u001b[43m        \u001b[49m\u001b[43mt_outputs\u001b[49m\u001b[43m,\u001b[49m\u001b[43m \u001b[49m\u001b[43mgrad_outputs_\u001b[49m\u001b[43m,\u001b[49m\u001b[43m \u001b[49m\u001b[43mretain_graph\u001b[49m\u001b[43m,\u001b[49m\u001b[43m \u001b[49m\u001b[43mcreate_graph\u001b[49m\u001b[43m,\u001b[49m\u001b[43m \u001b[49m\u001b[43mt_inputs\u001b[49m\u001b[43m,\u001b[49m\n\u001b[1;32m    302\u001b[0m \u001b[43m        \u001b[49m\u001b[43mallow_unused\u001b[49m\u001b[43m,\u001b[49m\u001b[43m \u001b[49m\u001b[43maccumulate_grad\u001b[49m\u001b[38;5;241;43m=\u001b[39;49m\u001b[38;5;28;43;01mFalse\u001b[39;49;00m\u001b[43m)\u001b[49m\n",
      "\u001b[0;31mKeyboardInterrupt\u001b[0m: "
     ]
    }
   ],
   "source": [
    "for i_pair in range(len(start_paths)):\n",
    "    print(f\"\\n\\n -------> Geodesic interpolation for pair: {i_pair}/{len(start_paths)}\")\n",
    "    _geodesic_interp(i_pair)"
   ]
  },
  {
   "cell_type": "code",
   "execution_count": null,
   "id": "56a32b92-42f7-4710-aa06-9c8c031c8cee",
   "metadata": {},
   "outputs": [],
   "source": []
  }
 ],
 "metadata": {
  "kernelspec": {
   "display_name": "Python 3 (ipykernel)",
   "language": "python",
   "name": "python3"
  },
  "language_info": {
   "codemirror_mode": {
    "name": "ipython",
    "version": 3
   },
   "file_extension": ".py",
   "mimetype": "text/x-python",
   "name": "python",
   "nbconvert_exporter": "python",
   "pygments_lexer": "ipython3",
   "version": "3.8.16"
  }
 },
 "nbformat": 4,
 "nbformat_minor": 5
}
