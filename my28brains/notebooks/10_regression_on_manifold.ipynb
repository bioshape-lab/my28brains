{
 "cells": [
  {
   "cell_type": "markdown",
   "id": "b090da21-f915-4978-9245-13ab5d766d45",
   "metadata": {},
   "source": [
    "# Linear Regression, GRLR (Geodesic Regression Linear Residuals), GR on other manifolds"
   ]
  },
  {
   "cell_type": "code",
   "execution_count": 2,
   "id": "827521d7-b129-482e-8d16-241cf2001f06",
   "metadata": {},
   "outputs": [
    {
     "name": "stdout",
     "output_type": "stream",
     "text": [
      "Working directory:  /home/adele/code/my28brains/my28brains\n",
      "Directory added to path:  /home/adele/code/my28brains\n",
      "Directory added to path:  /home/adele/code/my28brains/my28brains\n",
      "Directory added to path:  /home/adele/code/my28brains/H2_SurfaceMatch\n",
      "Directory added to path:  /home/adele/code/my28brains/my28brains/notebooks\n",
      "Directory added to path:  /home/adele/code/my28brains/my28brains/notebooks/csv\n"
     ]
    },
    {
     "name": "stderr",
     "output_type": "stream",
     "text": [
      "INFO: Using pytorch backend\n"
     ]
    }
   ],
   "source": [
    "import setcwd\n",
    "\n",
    "setcwd.main()\n",
    "import os\n",
    "import time\n",
    "\n",
    "import matplotlib.pyplot as plt\n",
    "import torch\n",
    "from sklearn.linear_model import LinearRegression\n",
    "\n",
    "from my28brains.regression.geodesic_regression import GeodesicRegression\n",
    "\n",
    "os.environ[\"GEOMSTATS_BACKEND\"] = \"pytorch\"\n",
    "import geomstats.backend as gs\n",
    "import geomstats.visualization as visualization\n",
    "from geomstats.geometry.hypersphere import Hypersphere\n",
    "from geomstats.geometry.hyperbolic import Hyperbolic\n",
    "from geomstats.learning.frechet_mean import FrechetMean, variance\n",
    "\n",
    "torch_dtype = torch.float64"
   ]
  },
  {
   "cell_type": "code",
   "execution_count": 2,
   "id": "e75fa06d-21c8-4fdd-aa53-675ef06ee365",
   "metadata": {},
   "outputs": [
    {
     "data": {
      "text/plain": [
       "'Hypersphere'"
      ]
     },
     "execution_count": 2,
     "metadata": {},
     "output_type": "execute_result"
    }
   ],
   "source": [
    "space = Hypersphere(dim=2)\n",
    "space.__class__.__name__"
   ]
  },
  {
   "cell_type": "code",
   "execution_count": 3,
   "id": "21a5e051-2890-4af7-bb99-f7b92fab78be",
   "metadata": {},
   "outputs": [],
   "source": [
    "viz_dict = {\n",
    "    \"Hypersphere\" : visualization.Sphere(n_meridians=30),\n",
    "    \"PoincareBall\" : visualization.PoincareDisk(), #note: this did not work. points that belonged to poincare ball did not belong to H2\n",
    "    \"Hyperboloid\": visualization.PoincareDisk()\n",
    "}"
   ]
  },
  {
   "cell_type": "markdown",
   "id": "12698e6a-60d2-4343-9e9f-999fa9e2523b",
   "metadata": {},
   "source": [
    "# Set up experiment"
   ]
  },
  {
   "cell_type": "code",
   "execution_count": 4,
   "id": "a3903146-d018-443a-a32a-26d33287087e",
   "metadata": {},
   "outputs": [
    {
     "data": {
      "text/plain": [
       "'Hypersphere'"
      ]
     },
     "execution_count": 4,
     "metadata": {},
     "output_type": "execute_result"
    }
   ],
   "source": [
    "n_samples = 50\n",
    "noise_std = 2\n",
    "space = Hypersphere(dim=2) \n",
    "# space = Hyperbolic(dim=2, default_coords_type=\"extrinsic\")\n",
    "space.__class__.__name__\n",
    "\n",
    "\n",
    "# space = Hyperbolic(dim=2, default_coords_type=\"ball\")"
   ]
  },
  {
   "cell_type": "markdown",
   "id": "df86c9d6-0c32-4564-a69a-54b793f791d6",
   "metadata": {},
   "source": [
    "# Generate data"
   ]
  },
  {
   "cell_type": "markdown",
   "id": "aa19e586-7da8-43e9-869d-9af96a496bf9",
   "metadata": {},
   "source": [
    "### Necessary functions missing from PoincareBall in geomstats\n",
    "Pretty much copied from Hypersphere in geomstats... hopefully that is ok.\n",
    "\n",
    "Key change: The embedding space of the poincare ball is the same dimension as its embedding space, and the embedding space of the hypersphere is one dimension higher than the hypersphere.\n",
    "\n",
    "--> to combat this: in random_uniform, I replace space.dim + 1 (used by hypersphere) with space.dim. because I am assuming space.dim + 1 (used by hypersphere) is referring to the space of the embedding space, but for the poincare ball, that is space.dim."
   ]
  },
  {
   "cell_type": "code",
   "execution_count": 5,
   "id": "defef066-fad4-4348-b46f-a498a1b6de08",
   "metadata": {},
   "outputs": [],
   "source": [
    "def generate_poincare_ball_data(space, n_samples=50, noise_std=1.0):\n",
    "    gs.random.seed(0)\n",
    "\n",
    "    #X needs to be the dimension of the embedding space, which is 2.\n",
    "    X = gs.random.rand(n_samples)\n",
    "    X -= gs.mean(X)\n",
    "\n",
    "    random_2d_point = gs.array([gs.random.rand(space.dim)])\n",
    "    another_random_2d_point = gs.array([gs.random.rand(space.dim)])\n",
    "\n",
    "    intercept = space.projection(random_2d_point)\n",
    "    print(f'intercept shape {intercept.shape}')\n",
    "    coef = space.metric.log(point = another_random_2d_point, base_point = intercept)\n",
    "    print(f'coef shape {coef.shape}')\n",
    "    y = space.metric.exp(X[:, None] * coef, base_point=intercept)\n",
    "\n",
    "    # # Generate normal noise\n",
    "    # normal_noise = gs.random.normal(\n",
    "    #     size=(n_samples, space.embedding_space.dim), scale=noise_std\n",
    "    # )\n",
    "    # noise = to_tangent(space, normal_noise, base_point=y) / gs.pi / 2\n",
    "\n",
    "    # rss = gs.sum(space.metric.squared_norm(noise, base_point=y)) / n_samples\n",
    "\n",
    "    # # Add noise\n",
    "    # y = space.metric.exp(noise, y)\n",
    "\n",
    "    rss = 1\n",
    "    \n",
    "    \n",
    "    return X, y, intercept, coef, rss"
   ]
  },
  {
   "cell_type": "code",
   "execution_count": 6,
   "id": "90ba4d34-00d6-48ee-be90-a85fa7d76064",
   "metadata": {},
   "outputs": [],
   "source": [
    "def generate_hyperboloid_data(space, n_samples=50, noise_std=1.0):\n",
    "    # Note: hyperboloid embedded in 3d euclidean space\n",
    "    gs.random.seed(0)\n",
    "\n",
    "    #X needs to be the dimension of the embedding space, which is 2.\n",
    "    X = gs.random.rand(n_samples)\n",
    "    X -= gs.mean(X)\n",
    "\n",
    "    random_3d_point = gs.array([gs.random.rand(space.dim+1)])\n",
    "    another_random_3d_point = gs.array([gs.random.rand(space.dim+1)])\n",
    "\n",
    "    intercept = space.projection(random_3d_point)\n",
    "    print(f'intercept shape {intercept.shape}')\n",
    "    coef = space.metric.log(point = another_random_3d_point, base_point = intercept)\n",
    "    print(f'coef shape {coef.shape}')\n",
    "    y = space.metric.exp(X[:, None] * coef, base_point=intercept)\n",
    "\n",
    "    # Generate normal noise\n",
    "    #TODO: implement this\n",
    "    # normal_noise = gs.random.normal(\n",
    "    #     size=(n_samples, space.embedding_space.dim), scale=noise_std\n",
    "    # )\n",
    "    # noise = space.to_tangent(space, normal_noise, base_point=y) / gs.pi / 2\n",
    "\n",
    "    # rss = gs.sum(space.metric.squared_norm(noise, base_point=y)) / n_samples\n",
    "\n",
    "    # # Add noise\n",
    "    # y = space.metric.exp(noise, y)\n",
    "\n",
    "    rss = 1\n",
    "    \n",
    "    \n",
    "    return X, y, intercept, coef, rss"
   ]
  },
  {
   "cell_type": "markdown",
   "id": "517a70fa-eeb5-4b53-8532-05cbed98b8a1",
   "metadata": {},
   "source": [
    "### Actually Generate Data"
   ]
  },
  {
   "cell_type": "code",
   "execution_count": 7,
   "id": "036faa22-a645-4c94-9bd5-fed9d7aecb8e",
   "metadata": {},
   "outputs": [],
   "source": [
    "# Generate noise-free data\n",
    "\n",
    "\n",
    "def generate_data(space, n_samples=50, noise_std=1.0):\n",
    "    gs.random.seed(0)\n",
    "\n",
    "    X = gs.random.rand(n_samples)\n",
    "    X -= gs.mean(X)\n",
    "\n",
    "    space_name = space.__class__.__name__\n",
    "    if space_name == 'Hypersphere':\n",
    "        intercept = space.random_uniform()\n",
    "        print(f'intercept shape {intercept.shape}')\n",
    "        vector = 5.0 * gs.random.rand(space.embedding_space.dim)\n",
    "        print(f'vector_shape {vector.shape}')\n",
    "        print(f'embedding space dim {space.embedding_space.dim}')\n",
    "        coef = space.to_tangent(\n",
    "            5.0 * gs.random.rand(space.embedding_space.dim), base_point=intercept\n",
    "        )\n",
    "        y = space.metric.exp(X[:, None] * coef, base_point=intercept)\n",
    "    \n",
    "        # Generate normal noise\n",
    "        normal_noise = gs.random.normal(\n",
    "            size=(n_samples, space.embedding_space.dim), scale=noise_std\n",
    "        )\n",
    "        noise = space.to_tangent(normal_noise, base_point=y) / gs.pi / 2\n",
    "    \n",
    "        rss = gs.sum(space.metric.squared_norm(noise, base_point=y)) / n_samples\n",
    "    \n",
    "        # Add noise\n",
    "        y = space.metric.exp(noise, y)\n",
    "\n",
    "        return X, y, intercept, coef, rss\n",
    "    elif space_name == 'PoincareBall':\n",
    "        return generate_poincare_ball_data(space, n_samples, noise_std)\n",
    "    elif space_name == \"Hyperboloid\":\n",
    "        return generate_hyperboloid_data(space, n_samples, noise_std)"
   ]
  },
  {
   "cell_type": "code",
   "execution_count": 8,
   "id": "4717845c-ef27-4c17-be23-4e6ad77dbc1f",
   "metadata": {},
   "outputs": [
    {
     "name": "stdout",
     "output_type": "stream",
     "text": [
      "intercept shape torch.Size([3])\n",
      "vector_shape torch.Size([3])\n",
      "embedding space dim 3\n"
     ]
    }
   ],
   "source": [
    "X, y, intercept, coef, rss = generate_data(space, n_samples=n_samples, noise_std=noise_std)"
   ]
  },
  {
   "cell_type": "markdown",
   "id": "4196286c-7152-4de3-9dbe-af182b56a051",
   "metadata": {},
   "source": [
    "### Test to see whether generated data is on the poincare ball"
   ]
  },
  {
   "cell_type": "code",
   "execution_count": 9,
   "id": "80130c88-a948-4597-812f-44c560c363bb",
   "metadata": {},
   "outputs": [
    {
     "data": {
      "text/plain": [
       "tensor([True, True, True, True, True, True, True, True, True, True, True, True,\n",
       "        True, True, True, True, True, True, True, True, True, True, True, True,\n",
       "        True, True, True, True, True, True, True, True, True, True, True, True,\n",
       "        True, True, True, True, True, True, True, True, True, True, True, True,\n",
       "        True, True])"
      ]
     },
     "execution_count": 9,
     "metadata": {},
     "output_type": "execute_result"
    }
   ],
   "source": [
    "space.belongs(y)"
   ]
  },
  {
   "cell_type": "markdown",
   "id": "874580b0-f466-45db-b429-35de3bcfed31",
   "metadata": {},
   "source": [
    "# Run Regression"
   ]
  },
  {
   "cell_type": "markdown",
   "id": "6149b22e-8e12-4753-bf2c-5f321192b0a5",
   "metadata": {},
   "source": [
    "### add visualization capability for poincare ball"
   ]
  },
  {
   "cell_type": "code",
   "execution_count": 19,
   "id": "c2959108-1a10-4865-a2b0-a91f02e9ec9b",
   "metadata": {},
   "outputs": [],
   "source": [
    "def fit_linear_regression(\n",
    "    space, X, y, intercept=None, coef=None\n",
    "):  # , device = \"cuda:0\"):\n",
    "    \"\"\"Perform linear regression.\n",
    "\n",
    "    Parameters\n",
    "    ----------\n",
    "\n",
    "\n",
    "    Returns\n",
    "    -------\n",
    "    intercept_hat: intercept of regression fit\n",
    "    coef_hat: slope of regression fit\n",
    "    \"\"\"\n",
    "    X_copy = gs.array(X.reshape(len(X), 1))\n",
    "\n",
    "    start_time = time.time()\n",
    "    lr = LinearRegression()\n",
    "\n",
    "    lr.fit(X_copy, y)\n",
    "\n",
    "    intercept_hat, coef_hat = gs.array(lr.intercept_), gs.array(lr.coef_)\n",
    "\n",
    "    duration_time = time.time() - start_time\n",
    "\n",
    "    # Measure goodness of fit\n",
    "    r2_hat = lr.score(X_copy, y)\n",
    "\n",
    "    # Calculate MSE\n",
    "    mse_intercept = gs.linalg.norm(intercept_hat - intercept) ** 2\n",
    "    mse_coef = gs.linalg.norm(coef_hat - coef) ** 2\n",
    "\n",
    "    print(f\"MSE on the intercept: {mse_intercept:.2e}\")\n",
    "    print(f\"MSE on the coef, i.e. initial velocity: {mse_coef:.2e}\")\n",
    "    print(f\"Determination coefficient: R^2={r2_hat:.2f}\")\n",
    "    # print(f\"True R^2: {r2:.2f}\")\n",
    "\n",
    "    # Plot\n",
    "    fitted_data = gs.array(lr.predict(X_copy))\n",
    "    fig = plt.figure(figsize=(8, 8))\n",
    "\n",
    "    if space.dim == 2: \n",
    "        manifold_visu = viz_dict[space.__class__.__name__]\n",
    "    \n",
    "        size = 10\n",
    "        marker = \"o\"\n",
    "    \n",
    "        if space.__class__.__name__ == \"Hypersphere\":\n",
    "            ax = fig.add_subplot(111, projection=\"3d\")\n",
    "            ax = manifold_visu.set_ax(ax=ax)\n",
    "            manifold_visu.draw_points(ax, gs.array([intercept_hat]), marker=marker, c=\"r\", s=size)\n",
    "            manifold_visu.draw_points(ax, y, marker=marker, c=\"b\", s=size)\n",
    "            manifold_visu.draw_points(ax, fitted_data, marker=marker, c=\"g\", s=size)\n",
    "            manifold_visu.draw(ax, linewidth=1)\n",
    "        elif space.__class__.__name__ == \"PoincareBall\":\n",
    "            raise \"PoincareBall not implemented\"\n",
    "            ax = fig.add_subplot(111)\n",
    "            ax = manifold_visu.set_ax(ax=ax)\n",
    "            projected_intercept_hat = space.projection(intercept_hat)\n",
    "            projected_fitted_data = space.projection(fitted_data)\n",
    "            manifold_visu.plot(gs.array([projected_intercept_hat]),ax = ax, marker=marker, c=\"r\", s=size)\n",
    "            manifold_visu.plot(y, ax = ax, marker=marker, c=\"b\", s=size)\n",
    "            manifold_visu.plot(projected_fitted_data, ax = ax, marker=marker, c=\"g\", s=size)\n",
    "            \n",
    "        elif space.__class__.__name__ == \"Hyperboloid\":\n",
    "            ax = fig.add_subplot(111)\n",
    "            ax = manifold_visu.set_ax(ax=ax)\n",
    "            projected_intercept_hat = space.projection(intercept_hat)\n",
    "            projected_fitted_data = space.projection(fitted_data)\n",
    "            manifold_visu.plot(gs.array([projected_intercept_hat]),ax = ax, marker=marker, c=\"r\", s=size)\n",
    "            manifold_visu.plot(y, ax = ax, marker=marker, c=\"b\", s=size)\n",
    "            manifold_visu.plot(projected_fitted_data, ax = ax, marker=marker, c=\"g\", s=size)\n",
    "    \n",
    "        ax.grid(False)\n",
    "        plt.axis(\"off\")\n",
    "        plt.show()\n",
    "    else:\n",
    "        print(\"space's dimension is not 2 -> can't visualize!\")\n",
    "\n",
    "    return intercept_hat, coef_hat, lr, duration_time"
   ]
  },
  {
   "cell_type": "code",
   "execution_count": 20,
   "id": "70b7ba6a-1263-45ac-b3cd-dbc7d464da15",
   "metadata": {},
   "outputs": [
    {
     "name": "stdout",
     "output_type": "stream",
     "text": [
      "MSE on the intercept: 2.98e-01\n",
      "MSE on the coef, i.e. initial velocity: 5.20e+01\n",
      "Determination coefficient: R^2=0.30\n",
      "space's dimension is not 2 -> can't visualize!\n",
      "lr_duration_time: 0.0010249614715576172\n",
      "coef_hat.shape: torch.Size([4])\n"
     ]
    },
    {
     "data": {
      "text/plain": [
       "<Figure size 800x800 with 0 Axes>"
      ]
     },
     "metadata": {},
     "output_type": "display_data"
    }
   ],
   "source": [
    "intercept_hat, coef_hat, lr, lr_duration_time = fit_linear_regression(\n",
    "    space=space, X=X, y=y, intercept=intercept, coef=coef\n",
    ")\n",
    "\n",
    "coef_hat = coef_hat.reshape(intercept_hat.shape)\n",
    "\n",
    "print(f\"lr_duration_time: {lr_duration_time}\")\n",
    "print(f\"coef_hat.shape: {coef_hat.shape}\")"
   ]
  },
  {
   "cell_type": "code",
   "execution_count": 24,
   "id": "ce5266a9-f3a5-433f-b730-063eab254259",
   "metadata": {},
   "outputs": [],
   "source": [
    "def fit_geodesic_regression(\n",
    "    space,\n",
    "    X,\n",
    "    y,\n",
    "    intercept,\n",
    "    coef,\n",
    "    rss,\n",
    "    linear_residuals=False,\n",
    "    gr_initialization=\"warm_start\",\n",
    "    intercept_hat_guess=None,\n",
    "    coef_hat_guess=None,\n",
    "    \n",
    "):\n",
    "    r\"\"\"Compute and visualize a geodesic regression on the sphere.\n",
    "\n",
    "    The generative model of the data is:\n",
    "    :math:`Z = Exp_{\\beta_0}(\\beta_1.X)` and :math:`Y = Exp_Z(\\epsilon)`\n",
    "    where:\n",
    "    - :math:`Exp` denotes the Riemannian exponential,\n",
    "    - :math:`\\beta_0` is called the intercept,\n",
    "    - :math:`\\beta_1` is called the coefficient,\n",
    "    - :math:`\\epsilon \\sim N(0, 1)` is a standard Gaussian noise,\n",
    "    - :math:`X` is the input, :math:`Y` is the target.\n",
    "\n",
    "    TODO: when we start testing on more spaces, have \"space\" as\n",
    "    an input so that this function is more general.\n",
    "\n",
    "    TODO: generate data OUTSIDE of this function -\n",
    "    that way you are SURE that the data is same for each run\n",
    "    AND it takes less time for each run to finish.\n",
    "    \"\"\"\n",
    "    # True noise level and R2\n",
    "    estimator = FrechetMean(space)  # .metric)\n",
    "    estimator.fit(y)\n",
    "    variance_ = variance(space, y, estimator.estimate_)\n",
    "    r2 = 1 - rss / variance_\n",
    "\n",
    "    start_time = time.time()\n",
    "\n",
    "    # Fit geodesic regression\n",
    "    gr = GeodesicRegression(\n",
    "        space,\n",
    "        # center_X=False,\n",
    "        method=\"extrinsic\",\n",
    "        # initialization = 'warm_start',\n",
    "        verbose=True,\n",
    "        initialization=gr_initialization,\n",
    "        # tol=0.0000005,  # TODO: this might depend on the type of data we have.\n",
    "        linear_residuals=linear_residuals,\n",
    "        compute_training_score=False,\n",
    "    )\n",
    "\n",
    "    if gr_initialization == \"warm_start\":\n",
    "        if intercept_hat_guess is None:\n",
    "            intercept_hat_guess = gs.array(y[0])\n",
    "        elif intercept_hat_guess.shape != y[0].shape:\n",
    "            raise ValueError(\n",
    "                \"intercept_hat_guess must be None or have mesh_sequence[0].shape\"\n",
    "            )\n",
    "\n",
    "        if coef_hat_guess is None:\n",
    "            coef_hat_guess = gs.array(y[1] - y[0])\n",
    "\n",
    "        gr.intercept_ = intercept_hat_guess\n",
    "        gr.coef_ = coef_hat_guess\n",
    "\n",
    "    gr.fit(gs.array(X), gs.array(y))\n",
    "    intercept_hat, coef_hat = gr.intercept_, gr.coef_\n",
    "\n",
    "    duration_time = time.time() - start_time\n",
    "\n",
    "    # # Measure Mean Squared Error\n",
    "    mse_intercept = space.metric.squared_dist(intercept_hat, intercept)\n",
    "\n",
    "    tangent_vec_to_transport = coef_hat\n",
    "    tangent_vec_of_transport = space.metric.log(intercept, base_point=intercept_hat)\n",
    "    transported_coef_hat = space.metric.parallel_transport(\n",
    "        tangent_vec=tangent_vec_to_transport,\n",
    "        base_point=intercept_hat,\n",
    "        direction=tangent_vec_of_transport,\n",
    "    )\n",
    "    mse_coef = space.metric.squared_norm(\n",
    "        transported_coef_hat - coef, base_point=intercept\n",
    "    )\n",
    "\n",
    "    # Measure goodness of fit\n",
    "    r2_hat = gr.training_score_\n",
    "\n",
    "    # print(f\"MSE on the intercept: {mse_intercept:.2e}\")\n",
    "    # print(f\"MSE on the coef, i.e. initial velocity: {mse_coef:.2e}\")\n",
    "    # print(f\"Determination coefficient: R^2={r2_hat:.2f}\")\n",
    "    # print(f\"True R^2: {r2:.2f}\")\n",
    "\n",
    "    fitted_data = gr.predict(X)\n",
    "\n",
    "    if space.dim == 2: \n",
    "        # Plot\n",
    "        fig = plt.figure(figsize=(8, 8))\n",
    "        manifold_visu = viz_dict[space.__class__.__name__]\n",
    "        path = space.metric.geodesic(\n",
    "            initial_point=intercept_hat, initial_tangent_vec=coef_hat\n",
    "        )\n",
    "        regressed_geodesic = path(\n",
    "            gs.linspace(0.0, 1.0, 100) * gs.pi * 2 / space.metric.norm(coef)\n",
    "        )\n",
    "        regressed_geodesic = gs.to_numpy(regressed_geodesic)\n",
    "    \n",
    "        size = 10\n",
    "        marker = \"o\"\n",
    "    \n",
    "        space_name = space.__class__.__name__\n",
    "        if space_name == \"Hypersphere\":\n",
    "            ax = fig.add_subplot(111, projection=\"3d\")\n",
    "            ax = manifold_visu.set_ax(ax=ax)\n",
    "        \n",
    "            manifold_visu.draw_points(ax, gs.array([intercept_hat]), marker=marker, c=\"r\", s=size)\n",
    "            manifold_visu.draw_points(ax, y, marker=marker, c=\"b\", s=size)\n",
    "            manifold_visu.draw_points(ax, fitted_data, marker=marker, c=\"g\", s=size)\n",
    "        \n",
    "            ax.plot(\n",
    "                regressed_geodesic[:, 0],\n",
    "                regressed_geodesic[:, 1],\n",
    "                regressed_geodesic[:, 2],\n",
    "                c=\"gray\",\n",
    "            )\n",
    "            manifold_visu.draw(ax, linewidth=1)\n",
    "        elif space_name == \"Hyperboloid\":\n",
    "            ax = fig.add_subplot(111)\n",
    "            ax = manifold_visu.set_ax(ax=ax)\n",
    "    \n",
    "            projected_intercept_hat = space.projection(intercept_hat)\n",
    "            projected_fitted_data = space.projection(fitted_data)\n",
    "            manifold_visu.plot(gs.array([projected_intercept_hat]),ax = ax, marker=marker, c=\"r\", s=size)\n",
    "            manifold_visu.plot(y, ax = ax, marker=marker, c=\"b\", s=size)\n",
    "            manifold_visu.plot(projected_fitted_data, ax = ax, marker=marker, c=\"g\", s=size)\n",
    "    \n",
    "            ax.plot(\n",
    "                regressed_geodesic[:, 0],\n",
    "                regressed_geodesic[:, 1],\n",
    "                regressed_geodesic[:, 2],\n",
    "                c=\"gray\",\n",
    "            )\n",
    "            \n",
    "    \n",
    "        ax.grid(False)\n",
    "        plt.axis(\"off\")\n",
    "    \n",
    "        plt.show()\n",
    "    else:\n",
    "        print(\"space's dimension is not 2 -> can't visualize!\")\n",
    "\n",
    "    return fitted_data, duration_time"
   ]
  },
  {
   "cell_type": "code",
   "execution_count": 177,
   "id": "d43135e3-2fbd-422f-bb18-b7866b7ece56",
   "metadata": {},
   "outputs": [
    {
     "name": "stdout",
     "output_type": "stream",
     "text": [
      "Optimization terminated successfully.\n",
      "         Current function value: 0.015864\n",
      "         Iterations: 14\n",
      "         Function evaluations: 196\n",
      "         Gradient evaluations: 28\n"
     ]
    },
    {
     "data": {
      "image/png": "[encoded data removed]",
      "text/plain": [
       "<Figure size 800x800 with 1 Axes>"
      ]
     },
     "metadata": {},
     "output_type": "display_data"
    },
    {
     "name": "stdout",
     "output_type": "stream",
     "text": [
      "gr_duration_time: 0.3527655601501465\n"
     ]
    }
   ],
   "source": [
    "fitted_data_geodesic_residuals, gr_duration_time = fit_geodesic_regression(\n",
    "    space=space,\n",
    "    X=X,\n",
    "    y=y,\n",
    "    intercept=intercept,\n",
    "    coef=coef,\n",
    "    rss=rss,\n",
    "    linear_residuals=False,\n",
    "    # gr_initialization=\"warm_start\",\n",
    "    # intercept_hat_guess=intercept_hat,\n",
    "    # coef_hat_guess=coef_hat,\n",
    ")\n",
    "\n",
    "print(f\"gr_duration_time: {gr_duration_time}\")"
   ]
  },
  {
   "cell_type": "code",
   "execution_count": 178,
   "id": "44cdcf5f-6b24-423f-99d1-ad24e8694ec9",
   "metadata": {},
   "outputs": [
    {
     "name": "stdout",
     "output_type": "stream",
     "text": [
      "Optimization terminated successfully.\n",
      "         Current function value: 0.023873\n",
      "         Iterations: 23\n",
      "         Function evaluations: 301\n",
      "         Gradient evaluations: 43\n"
     ]
    },
    {
     "data": {
      "image/png": "[encoded data removed]",
      "text/plain": [
       "<Figure size 800x800 with 1 Axes>"
      ]
     },
     "metadata": {},
     "output_type": "display_data"
    },
    {
     "name": "stdout",
     "output_type": "stream",
     "text": [
      "grlr_duration_time: 0.3361814022064209\n"
     ]
    }
   ],
   "source": [
    "fitted_data_linear_residuals, grlr_duration_time = fit_geodesic_regression(\n",
    "    space=space,\n",
    "    X=X,\n",
    "    y=y,\n",
    "    intercept=intercept,\n",
    "    coef=coef,\n",
    "    rss=rss,\n",
    "    linear_residuals=True,\n",
    "    gr_initialization=\"warm_start\",\n",
    "    intercept_hat_guess=intercept_hat,\n",
    "    coef_hat_guess=coef_hat,\n",
    ")\n",
    "\n",
    "print(f\"grlr_duration_time: {grlr_duration_time}\")"
   ]
  },
  {
   "cell_type": "code",
   "execution_count": 180,
   "id": "598ce8b4-9de8-4082-b000-c198926a72f6",
   "metadata": {},
   "outputs": [
    {
     "name": "stdout",
     "output_type": "stream",
     "text": [
      "tensor([[-5.7972e-03, -9.2510e-03, -4.2550e-03],\n",
      "        [-2.0308e-03, -3.9300e-03, -1.7281e-03],\n",
      "        [ 2.3289e-04,  5.3066e-04,  3.1090e-04],\n",
      "        [-4.9745e-03, -8.1909e-03, -3.7459e-03],\n",
      "        [-1.3435e-03, -2.7582e-03, -1.1836e-03],\n",
      "        [-3.0679e-03, -5.5409e-03, -2.4847e-03],\n",
      "        [ 1.3871e-03,  5.1614e-03,  2.3032e-03],\n",
      "        [ 8.4916e-04,  2.3534e-03,  1.1130e-03],\n",
      "        [-7.2705e-04, -1.6026e-03, -6.5243e-04],\n",
      "        [ 1.1077e-03,  3.3879e-03,  1.5583e-03],\n",
      "        [ 2.7617e-04,  6.4203e-04,  3.6050e-04],\n",
      "        [ 1.3899e-03,  5.1904e-03,  2.3152e-03],\n",
      "        [ 8.2951e-04,  2.2844e-03,  1.0830e-03],\n",
      "        [-1.1104e-03, -2.3350e-03, -9.8843e-04],\n",
      "        [ 7.7478e-05,  1.4474e-04,  1.3846e-04],\n",
      "        [ 3.5424e-04,  8.4772e-04,  4.5192e-04],\n",
      "        [ 5.5672e-04,  1.4150e-03,  7.0267e-04],\n",
      "        [ 1.3387e-03,  4.7302e-03,  2.1244e-03],\n",
      "        [-1.5539e-03, -3.1280e-03, -1.3549e-03],\n",
      "        [-2.9847e-03, -5.4172e-03, -2.4263e-03],\n",
      "        [ 1.3284e-03,  4.6509e-03,  2.0913e-03],\n",
      "        [-1.6806e-03, -3.3458e-03, -1.4560e-03],\n",
      "        [ 1.4529e-03,  6.2621e-03,  2.7528e-03],\n",
      "        [-2.3811e-04, -5.8326e-04, -1.8910e-04],\n",
      "        [ 1.2928e-03,  4.3983e-03,  1.9857e-03],\n",
      "        [-5.2320e-04, -1.1910e-03, -4.6472e-04],\n",
      "        [-7.8343e-04, -1.7136e-03, -7.0316e-04],\n",
      "        [-1.7379e-03, -3.4431e-03, -1.5012e-03],\n",
      "        [-2.4803e-03, -4.6478e-03, -2.0642e-03],\n",
      "        [ 1.2888e-03,  4.3719e-03,  1.9746e-03],\n",
      "        [-3.3212e-03, -5.9127e-03, -2.6606e-03],\n",
      "        [-1.1967e-03, -2.4935e-03, -1.0614e-03],\n",
      "        [ 1.3574e-03,  4.8839e-03,  2.1883e-03],\n",
      "        [ 1.4217e-03,  5.5759e-03,  2.4737e-03],\n",
      "        [ 7.9915e-05,  1.5063e-04,  1.4110e-04],\n",
      "        [-4.9223e-03, -8.1222e-03, -3.7130e-03],\n",
      "        [-6.4371e-04, -1.4364e-03, -5.7653e-04],\n",
      "        [ 8.4734e-05,  1.6231e-04,  1.4633e-04],\n",
      "        [-3.1335e-03, -5.6379e-03, -2.5306e-03],\n",
      "        [ 7.6751e-04,  2.0732e-03,  9.9107e-04],\n",
      "        [ 1.1621e-03,  3.6497e-03,  1.6698e-03],\n",
      "        [ 1.4352e-03,  7.3483e-03,  3.1865e-03],\n",
      "        [-2.5214e-03, -4.7117e-03, -2.0942e-03],\n",
      "        [ 8.9219e-04,  2.5082e-03,  1.1801e-03],\n",
      "        [-3.5493e-04, -8.3731e-04, -3.0408e-04],\n",
      "        [ 1.8561e-04,  4.1103e-04,  2.5754e-04],\n",
      "        [-4.0870e-03, -6.9967e-03, -3.1754e-03],\n",
      "        [ 1.4349e-03,  7.3543e-03,  3.1888e-03],\n",
      "        [-6.2749e-03, -9.8494e-03, -4.5434e-03],\n",
      "        [-4.3304e-03, -7.3302e-03, -3.3344e-03]])\n",
      "1.0493309797474837\n"
     ]
    }
   ],
   "source": [
    "print(fitted_data_geodesic_residuals - fitted_data_linear_residuals)\n",
    "\n",
    "print(gr_duration_time / grlr_duration_time)"
   ]
  },
  {
   "cell_type": "code",
   "execution_count": 181,
   "id": "7fbad9b2-6659-45cc-80ea-a55b6d799cc0",
   "metadata": {},
   "outputs": [
    {
     "name": "stdout",
     "output_type": "stream",
     "text": [
      "Optimization terminated successfully.\n",
      "         Current function value: 0.023873\n",
      "         Iterations: 26\n",
      "         Function evaluations: 315\n",
      "         Gradient evaluations: 45\n"
     ]
    },
    {
     "data": {
      "image/png": "[encoded data removed]",
      "text/plain": [
       "<Figure size 800x800 with 1 Axes>"
      ]
     },
     "metadata": {},
     "output_type": "display_data"
    },
    {
     "name": "stdout",
     "output_type": "stream",
     "text": [
      "grlr_duration_time: 0.36211228370666504\n"
     ]
    }
   ],
   "source": [
    "fitted_data_linear_residuals, grlr_duration_time = fit_geodesic_regression(\n",
    "    space=space,\n",
    "    X=X,\n",
    "    y=y,\n",
    "    intercept=intercept,\n",
    "    coef=coef,\n",
    "    rss=rss,\n",
    "    linear_residuals=True,\n",
    "    gr_initialization=\"frechet\",\n",
    "    intercept_hat_guess=intercept_hat,\n",
    "    coef_hat_guess=coef_hat,\n",
    ")\n",
    "\n",
    "print(f\"grlr_duration_time: {grlr_duration_time}\")"
   ]
  },
  {
   "cell_type": "code",
   "execution_count": 182,
   "id": "df977b9c-16b6-42ff-b55c-e426ac59616d",
   "metadata": {},
   "outputs": [
    {
     "name": "stdout",
     "output_type": "stream",
     "text": [
      "Optimization terminated successfully.\n",
      "         Current function value: 0.023873\n",
      "         Iterations: 28\n",
      "         Function evaluations: 385\n",
      "         Gradient evaluations: 55\n"
     ]
    },
    {
     "data": {
      "image/png": "[encoded data removed]",
      "text/plain": [
       "<Figure size 800x800 with 1 Axes>"
      ]
     },
     "metadata": {},
     "output_type": "display_data"
    },
    {
     "name": "stdout",
     "output_type": "stream",
     "text": [
      "grlr_duration_time: 0.4195835590362549\n"
     ]
    }
   ],
   "source": [
    "fitted_data_linear_residuals, grlr_duration_time = fit_geodesic_regression(\n",
    "    space=space,\n",
    "    X=X,\n",
    "    y=y,\n",
    "    intercept=intercept,\n",
    "    coef=coef,\n",
    "    rss=rss,\n",
    "    linear_residuals=True,\n",
    "    gr_initialization=\"random\",\n",
    "    intercept_hat_guess=intercept_hat,\n",
    "    coef_hat_guess=coef_hat,\n",
    ")\n",
    "\n",
    "print(f\"grlr_duration_time: {grlr_duration_time}\")"
   ]
  },
  {
   "cell_type": "code",
   "execution_count": 183,
   "id": "f3117af0-5406-45a9-9f83-dfa4eec5d226",
   "metadata": {},
   "outputs": [
    {
     "name": "stdout",
     "output_type": "stream",
     "text": [
      "Optimization terminated successfully.\n",
      "         Current function value: 0.023873\n",
      "         Iterations: 19\n",
      "         Function evaluations: 252\n",
      "         Gradient evaluations: 36\n"
     ]
    },
    {
     "data": {
      "image/png": "[encoded data removed]",
      "text/plain": [
       "<Figure size 800x800 with 1 Axes>"
      ]
     },
     "metadata": {},
     "output_type": "display_data"
    },
    {
     "name": "stdout",
     "output_type": "stream",
     "text": [
      "grlr_duration_time: 0.2840254306793213\n"
     ]
    }
   ],
   "source": [
    "fitted_data_linear_residuals, grlr_duration_time = fit_geodesic_regression(\n",
    "    space=space,\n",
    "    X=X,\n",
    "    y=y,\n",
    "    intercept=intercept,\n",
    "    coef=coef,\n",
    "    rss=rss,\n",
    "    linear_residuals=True,\n",
    "    gr_initialization=\"data\",\n",
    "    intercept_hat_guess=intercept_hat,\n",
    "    coef_hat_guess=coef_hat,\n",
    ")\n",
    "\n",
    "print(f\"grlr_duration_time: {grlr_duration_time}\")"
   ]
  },
  {
   "cell_type": "markdown",
   "id": "a79ba717-b697-4cdf-b6de-1996fe2b18be",
   "metadata": {},
   "source": [
    "# Now, let's try for higher dimensions"
   ]
  },
  {
   "cell_type": "code",
   "execution_count": 16,
   "id": "6954d7a8-2a0d-4126-ba6a-1103dc5da827",
   "metadata": {},
   "outputs": [
    {
     "data": {
      "text/plain": [
       "'Hypersphere'"
      ]
     },
     "execution_count": 16,
     "metadata": {},
     "output_type": "execute_result"
    }
   ],
   "source": [
    "n_samples = 50\n",
    "noise_std = 2\n",
    "space = Hypersphere(dim=3)\n",
    "# space = Hyperbolic(dim=2, default_coords_type=\"extrinsic\")\n",
    "space.__class__.__name__"
   ]
  },
  {
   "cell_type": "code",
   "execution_count": 17,
   "id": "7a0d036a-b8aa-4ff9-bcf3-3794f9c6b5c9",
   "metadata": {},
   "outputs": [
    {
     "name": "stdout",
     "output_type": "stream",
     "text": [
      "intercept shape torch.Size([4])\n",
      "vector_shape torch.Size([4])\n",
      "embedding space dim 4\n"
     ]
    },
    {
     "data": {
      "text/plain": [
       "tensor([True, True, True, True, True, True, True, True, True, True, True, True,\n",
       "        True, True, True, True, True, True, True, True, True, True, True, True,\n",
       "        True, True, True, True, True, True, True, True, True, True, True, True,\n",
       "        True, True, True, True, True, True, True, True, True, True, True, True,\n",
       "        True, True])"
      ]
     },
     "execution_count": 17,
     "metadata": {},
     "output_type": "execute_result"
    }
   ],
   "source": [
    "X, y, intercept, coef, rss = generate_data(space, n_samples=n_samples, noise_std=noise_std)\n",
    "space.belongs(y)"
   ]
  },
  {
   "cell_type": "code",
   "execution_count": 22,
   "id": "a2d4105b-ebef-43f9-954c-fe8867ce8d56",
   "metadata": {},
   "outputs": [
    {
     "name": "stdout",
     "output_type": "stream",
     "text": [
      "MSE on the intercept: 2.98e-01\n",
      "MSE on the coef, i.e. initial velocity: 5.20e+01\n",
      "Determination coefficient: R^2=0.30\n",
      "space's dimension is not 2 -> can't visualize!\n",
      "lr_duration_time: 0.0013959407806396484\n",
      "coef_hat.shape: torch.Size([4])\n"
     ]
    },
    {
     "data": {
      "text/plain": [
       "<Figure size 800x800 with 0 Axes>"
      ]
     },
     "metadata": {},
     "output_type": "display_data"
    }
   ],
   "source": [
    "intercept_hat, coef_hat, lr, lr_duration_time = fit_linear_regression(\n",
    "    space=space, X=X, y=y, intercept=intercept, coef=coef\n",
    ")\n",
    "\n",
    "coef_hat = coef_hat.reshape(intercept_hat.shape)\n",
    "\n",
    "print(f\"lr_duration_time: {lr_duration_time}\")\n",
    "print(f\"coef_hat.shape: {coef_hat.shape}\")"
   ]
  },
  {
   "cell_type": "code",
   "execution_count": 25,
   "id": "510cfca1-385a-45f2-8e82-c45248817092",
   "metadata": {},
   "outputs": [
    {
     "name": "stdout",
     "output_type": "stream",
     "text": [
      "Optimization terminated successfully.\n",
      "         Current function value: 8.088729\n",
      "         Iterations: 29\n",
      "         Function evaluations: 486\n",
      "         Gradient evaluations: 54\n",
      "space's dimension is not 2 -> can't visualize!\n",
      "grlr_duration_time: 14.616546154022217\n"
     ]
    }
   ],
   "source": [
    "fitted_data_linear_residuals, grlr_duration_time = fit_geodesic_regression(\n",
    "    space=space,\n",
    "    X=X,\n",
    "    y=y,\n",
    "    intercept=intercept,\n",
    "    coef=coef,\n",
    "    rss=rss,\n",
    "    linear_residuals=True,\n",
    "    gr_initialization=\"data\",\n",
    "    intercept_hat_guess=intercept_hat,\n",
    "    coef_hat_guess=coef_hat,\n",
    ")\n",
    "\n",
    "print(f\"grlr_duration_time: {grlr_duration_time}\")"
   ]
  },
  {
   "cell_type": "code",
   "execution_count": null,
   "id": "c67fba1d-d552-4328-8a71-9226b5eee071",
   "metadata": {},
   "outputs": [],
   "source": []
  }
 ],
 "metadata": {
  "kernelspec": {
   "display_name": "Python 3 (ipykernel)",
   "language": "python",
   "name": "python3"
  },
  "language_info": {
   "codemirror_mode": {
    "name": "ipython",
    "version": 3
   },
   "file_extension": ".py",
   "mimetype": "text/x-python",
   "name": "python",
   "nbconvert_exporter": "python",
   "pygments_lexer": "ipython3",
   "version": "3.10.12"
  }
 },
 "nbformat": 4,
 "nbformat_minor": 5
}
