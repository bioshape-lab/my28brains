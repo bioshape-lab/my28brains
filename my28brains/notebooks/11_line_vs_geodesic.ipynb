{
 "cells": [
  {
   "cell_type": "markdown",
   "id": "f9066bd8",
   "metadata": {},
   "source": [
    "# Generate results comparing lines and geodesics between $q^{\\text{ref}}$ and $q$"
   ]
  },
  {
   "cell_type": "code",
   "execution_count": 20,
   "id": "cd1cbc7b-10d1-4360-869c-6f6862c3240d",
   "metadata": {},
   "outputs": [],
   "source": [
    "import numpy as np\n",
    "import pandas as pd\n",
    "import plotly.express as px\n",
    "import plotly.graph_objects as go\n",
    "import plotly.io as pio\n",
    "\n",
    "import wandb"
   ]
  },
  {
   "cell_type": "markdown",
   "id": "fce02e8b-2e6b-434f-8f75-f5123a668f48",
   "metadata": {},
   "source": [
    "Import results from wandb table directly.\n",
    "We load the .csv that corresponds to the wandb Table downloaded from:\n",
    "\n",
    "https://wandb.ai/bioshape-lab/line_vs_geodesic/table?workspace=user-ninamiolane"
   ]
  },
  {
   "cell_type": "code",
   "execution_count": 19,
   "id": "83c9a87f-6e03-42f1-9fdf-a09bb40c3912",
   "metadata": {},
   "outputs": [],
   "source": [
    "api = wandb.Api()\n",
    "\n",
    "runs = api.runs(\"bioshape-lab/line_vs_geodesic\")\n",
    "\n",
    "summary_list, config_list, name_list = [], [], []\n",
    "for run in runs:\n",
    "    # .summary contains the output keys/values for metrics like accuracy.\n",
    "    #  We call ._json_dict to omit large files\n",
    "    summary_list.append(run.summary._json_dict)\n",
    "\n",
    "    # .config contains the hyperparameters.\n",
    "    #  We remove special values that start with _.\n",
    "    config_list.append({k: v for k, v in run.config.items() if not k.startswith(\"_\")})\n",
    "\n",
    "    # .name is the human-readable name of the run.\n",
    "    name_list.append(run.name)"
   ]
  },
  {
   "cell_type": "code",
   "execution_count": 22,
   "id": "f12b7cd8-362a-47fb-8297-0da5ce254d90",
   "metadata": {},
   "outputs": [
    {
     "name": "stdout",
     "output_type": "stream",
     "text": [
      "lengths: 119, 119, 119\n",
      "total length: 119\n"
     ]
    }
   ],
   "source": [
    "summary_df = pd.DataFrame(summary_list)\n",
    "config_df = pd.DataFrame(config_list)\n",
    "name_df = pd.DataFrame(name_list)\n",
    "print(f\"lengths: {len(summary_df)}, {len(config_df)}, {len(name_df)}\")\n",
    "\n",
    "df = pd.concat([summary_df, config_df, name_df], axis=1)\n",
    "print(f\"total length: {len(df)}\")"
   ]
  },
  {
   "cell_type": "code",
   "execution_count": 23,
   "id": "5a030d2f-ed2d-4232-b734-ef5f596cb6e3",
   "metadata": {},
   "outputs": [
    {
     "data": {
      "text/html": [
       "<div>\n",
       "<style scoped>\n",
       "    .dataframe tbody tr th:only-of-type {\n",
       "        vertical-align: middle;\n",
       "    }\n",
       "\n",
       "    .dataframe tbody tr th {\n",
       "        vertical-align: top;\n",
       "    }\n",
       "\n",
       "    .dataframe thead th {\n",
       "        text-align: right;\n",
       "    }\n",
       "</style>\n",
       "<table border=\"1\" class=\"dataframe\">\n",
       "  <thead>\n",
       "    <tr style=\"text-align: right;\">\n",
       "      <th></th>\n",
       "      <th>geodesic_dist_per_vertex</th>\n",
       "      <th>offset_line</th>\n",
       "      <th>offset_geodesic</th>\n",
       "      <th>diff_seq_duration</th>\n",
       "      <th>geodesic_duration</th>\n",
       "      <th>linear_dist_per_vertex</th>\n",
       "      <th>relative_diff_seq_per_time_and_vertex</th>\n",
       "      <th>geodesic_regression_duration_per_vertex</th>\n",
       "      <th>geodesic_dist</th>\n",
       "      <th>noisy_vertices</th>\n",
       "      <th>...</th>\n",
       "      <th>linear_regression_duration</th>\n",
       "      <th>n_faces</th>\n",
       "      <th>n_steps</th>\n",
       "      <th>n_times</th>\n",
       "      <th>diameter</th>\n",
       "      <th>n_vertices</th>\n",
       "      <th>dataset_name</th>\n",
       "      <th>noise_factor</th>\n",
       "      <th>subdivisions</th>\n",
       "      <th>0</th>\n",
       "    </tr>\n",
       "  </thead>\n",
       "  <tbody>\n",
       "    <tr>\n",
       "      <th>0</th>\n",
       "      <td>NaN</td>\n",
       "      <td>NaN</td>\n",
       "      <td>NaN</td>\n",
       "      <td>NaN</td>\n",
       "      <td>NaN</td>\n",
       "      <td>NaN</td>\n",
       "      <td>NaN</td>\n",
       "      <td>NaN</td>\n",
       "      <td>NaN</td>\n",
       "      <td>NaN</td>\n",
       "      <td>...</td>\n",
       "      <td>NaN</td>\n",
       "      <td>1280</td>\n",
       "      <td>20</td>\n",
       "      <td>5</td>\n",
       "      <td>162000</td>\n",
       "      <td>642</td>\n",
       "      <td>synthetic</td>\n",
       "      <td>1.0</td>\n",
       "      <td>3</td>\n",
       "      <td>run_1bsy3km0</td>\n",
       "    </tr>\n",
       "    <tr>\n",
       "      <th>1</th>\n",
       "      <td>3.481342e+08</td>\n",
       "      <td>{'size': 153021, '_type': 'object3D-file', 'sh...</td>\n",
       "      <td>{'path': 'media/object3D/offset_geodesic_0_91a...</td>\n",
       "      <td>-1961.550399</td>\n",
       "      <td>1961.550707</td>\n",
       "      <td>774.310523</td>\n",
       "      <td>-3936.902424</td>\n",
       "      <td>1.008941</td>\n",
       "      <td>5.639774e+10</td>\n",
       "      <td>{'path': 'media/object3D/noisy_vertices_0_fd41...</td>\n",
       "      <td>...</td>\n",
       "      <td>0.000123</td>\n",
       "      <td>320</td>\n",
       "      <td>20</td>\n",
       "      <td>10</td>\n",
       "      <td>5400</td>\n",
       "      <td>162</td>\n",
       "      <td>synthetic</td>\n",
       "      <td>1.0</td>\n",
       "      <td>2</td>\n",
       "      <td>run_c5ewczah</td>\n",
       "    </tr>\n",
       "    <tr>\n",
       "      <th>2</th>\n",
       "      <td>3.326525e+08</td>\n",
       "      <td>{'path': 'media/object3D/offset_line_0_77653d8...</td>\n",
       "      <td>{'path': 'media/object3D/offset_geodesic_0_a98...</td>\n",
       "      <td>-1010.430251</td>\n",
       "      <td>1010.430487</td>\n",
       "      <td>709.417759</td>\n",
       "      <td>-5285.012651</td>\n",
       "      <td>0.879026</td>\n",
       "      <td>5.388971e+10</td>\n",
       "      <td>{'path': 'media/object3D/noisy_vertices_0_46a5...</td>\n",
       "      <td>...</td>\n",
       "      <td>0.000161</td>\n",
       "      <td>320</td>\n",
       "      <td>20</td>\n",
       "      <td>5</td>\n",
       "      <td>5400</td>\n",
       "      <td>162</td>\n",
       "      <td>synthetic</td>\n",
       "      <td>1.0</td>\n",
       "      <td>2</td>\n",
       "      <td>run_uu30semj</td>\n",
       "    </tr>\n",
       "    <tr>\n",
       "      <th>3</th>\n",
       "      <td>4.199597e+04</td>\n",
       "      <td>{'path': 'media/object3D/offset_line_0_22b199f...</td>\n",
       "      <td>{'_type': 'object3D-file', 'sha256': 'f4523db7...</td>\n",
       "      <td>-462.152686</td>\n",
       "      <td>462.153007</td>\n",
       "      <td>48.163727</td>\n",
       "      <td>-3421.244763</td>\n",
       "      <td>0.450125</td>\n",
       "      <td>1.763831e+06</td>\n",
       "      <td>{'path': 'media/object3D/noisy_vertices_0_4d88...</td>\n",
       "      <td>...</td>\n",
       "      <td>0.000095</td>\n",
       "      <td>80</td>\n",
       "      <td>20</td>\n",
       "      <td>10</td>\n",
       "      <td>180</td>\n",
       "      <td>42</td>\n",
       "      <td>synthetic</td>\n",
       "      <td>1.0</td>\n",
       "      <td>1</td>\n",
       "      <td>run_76bkw2k3</td>\n",
       "    </tr>\n",
       "    <tr>\n",
       "      <th>4</th>\n",
       "      <td>3.438386e+04</td>\n",
       "      <td>{'path': 'media/object3D/offset_line_0_d132c2b...</td>\n",
       "      <td>{'path': 'media/object3D/offset_geodesic_0_0c0...</td>\n",
       "      <td>-236.247280</td>\n",
       "      <td>236.247516</td>\n",
       "      <td>49.628512</td>\n",
       "      <td>-4780.686607</td>\n",
       "      <td>0.674877</td>\n",
       "      <td>1.444122e+06</td>\n",
       "      <td>{'size': 4006, '_type': 'object3D-file', 'sha2...</td>\n",
       "      <td>...</td>\n",
       "      <td>0.000124</td>\n",
       "      <td>80</td>\n",
       "      <td>20</td>\n",
       "      <td>5</td>\n",
       "      <td>180</td>\n",
       "      <td>42</td>\n",
       "      <td>synthetic</td>\n",
       "      <td>1.0</td>\n",
       "      <td>1</td>\n",
       "      <td>run_mvg1ftc9</td>\n",
       "    </tr>\n",
       "  </tbody>\n",
       "</table>\n",
       "<p>5 rows × 40 columns</p>\n",
       "</div>"
      ],
      "text/plain": [
       "   geodesic_dist_per_vertex  \\\n",
       "0                       NaN   \n",
       "1              3.481342e+08   \n",
       "2              3.326525e+08   \n",
       "3              4.199597e+04   \n",
       "4              3.438386e+04   \n",
       "\n",
       "                                         offset_line  \\\n",
       "0                                                NaN   \n",
       "1  {'size': 153021, '_type': 'object3D-file', 'sh...   \n",
       "2  {'path': 'media/object3D/offset_line_0_77653d8...   \n",
       "3  {'path': 'media/object3D/offset_line_0_22b199f...   \n",
       "4  {'path': 'media/object3D/offset_line_0_d132c2b...   \n",
       "\n",
       "                                     offset_geodesic  diff_seq_duration  \\\n",
       "0                                                NaN                NaN   \n",
       "1  {'path': 'media/object3D/offset_geodesic_0_91a...       -1961.550399   \n",
       "2  {'path': 'media/object3D/offset_geodesic_0_a98...       -1010.430251   \n",
       "3  {'_type': 'object3D-file', 'sha256': 'f4523db7...        -462.152686   \n",
       "4  {'path': 'media/object3D/offset_geodesic_0_0c0...        -236.247280   \n",
       "\n",
       "   geodesic_duration  linear_dist_per_vertex  \\\n",
       "0                NaN                     NaN   \n",
       "1        1961.550707              774.310523   \n",
       "2        1010.430487              709.417759   \n",
       "3         462.153007               48.163727   \n",
       "4         236.247516               49.628512   \n",
       "\n",
       "   relative_diff_seq_per_time_and_vertex  \\\n",
       "0                                    NaN   \n",
       "1                           -3936.902424   \n",
       "2                           -5285.012651   \n",
       "3                           -3421.244763   \n",
       "4                           -4780.686607   \n",
       "\n",
       "   geodesic_regression_duration_per_vertex  geodesic_dist  \\\n",
       "0                                      NaN            NaN   \n",
       "1                                 1.008941   5.639774e+10   \n",
       "2                                 0.879026   5.388971e+10   \n",
       "3                                 0.450125   1.763831e+06   \n",
       "4                                 0.674877   1.444122e+06   \n",
       "\n",
       "                                      noisy_vertices  ...  \\\n",
       "0                                                NaN  ...   \n",
       "1  {'path': 'media/object3D/noisy_vertices_0_fd41...  ...   \n",
       "2  {'path': 'media/object3D/noisy_vertices_0_46a5...  ...   \n",
       "3  {'path': 'media/object3D/noisy_vertices_0_4d88...  ...   \n",
       "4  {'size': 4006, '_type': 'object3D-file', 'sha2...  ...   \n",
       "\n",
       "   linear_regression_duration  n_faces  n_steps  n_times  diameter  \\\n",
       "0                         NaN     1280       20        5    162000   \n",
       "1                    0.000123      320       20       10      5400   \n",
       "2                    0.000161      320       20        5      5400   \n",
       "3                    0.000095       80       20       10       180   \n",
       "4                    0.000124       80       20        5       180   \n",
       "\n",
       "   n_vertices  dataset_name  noise_factor  subdivisions             0  \n",
       "0         642     synthetic           1.0             3  run_1bsy3km0  \n",
       "1         162     synthetic           1.0             2  run_c5ewczah  \n",
       "2         162     synthetic           1.0             2  run_uu30semj  \n",
       "3          42     synthetic           1.0             1  run_76bkw2k3  \n",
       "4          42     synthetic           1.0             1  run_mvg1ftc9  \n",
       "\n",
       "[5 rows x 40 columns]"
      ]
     },
     "execution_count": 23,
     "metadata": {},
     "output_type": "execute_result"
    }
   ],
   "source": [
    "df.head()"
   ]
  },
  {
   "cell_type": "markdown",
   "id": "b5a384c5-ec76-4947-955e-c46a0e7da582",
   "metadata": {},
   "source": [
    "The columns of the dataframe corresponding to the .csv are the variables that we have logged into wandb:"
   ]
  },
  {
   "cell_type": "code",
   "execution_count": 24,
   "id": "4a79fd53",
   "metadata": {},
   "outputs": [
    {
     "data": {
      "text/plain": [
       "Index([               'geodesic_dist_per_vertex',\n",
       "                                   'offset_line',\n",
       "                               'offset_geodesic',\n",
       "                             'diff_seq_duration',\n",
       "                             'geodesic_duration',\n",
       "                        'linear_dist_per_vertex',\n",
       "         'relative_diff_seq_per_time_and_vertex',\n",
       "       'geodesic_regression_duration_per_vertex',\n",
       "                                 'geodesic_dist',\n",
       "                                'noisy_vertices',\n",
       "                            'relative_diff_dist',\n",
       "                        'relative_diff_duration',\n",
       "         'linear_regression_duration_per_vertex',\n",
       "                                 'diff_duration',\n",
       "                          'diff_dist_per_vertex',\n",
       "                      'diff_duration_per_vertex',\n",
       "                  'geodesic_regression_duration',\n",
       "                    'relative_diff_seq_duration',\n",
       "             'diff_seq_per_time_vertex_diameter',\n",
       "                                        '_wandb',\n",
       "                                      '_runtime',\n",
       "         'diff_seq_duration_per_time_and_vertex',\n",
       "                                      'run_name',\n",
       "                                     'diff_dist',\n",
       "                                   'linear_dist',\n",
       "                                 'line_duration',\n",
       "                  'diff_seq_per_time_and_vertex',\n",
       "                                         '_step',\n",
       "                                    '_timestamp',\n",
       "                            'noiseless_vertices',\n",
       "                    'linear_regression_duration',\n",
       "                                       'n_faces',\n",
       "                                       'n_steps',\n",
       "                                       'n_times',\n",
       "                                      'diameter',\n",
       "                                    'n_vertices',\n",
       "                                  'dataset_name',\n",
       "                                  'noise_factor',\n",
       "                                  'subdivisions',\n",
       "                                               0],\n",
       "      dtype='object')"
      ]
     },
     "execution_count": 24,
     "metadata": {},
     "output_type": "execute_result"
    }
   ],
   "source": [
    "df.columns"
   ]
  },
  {
   "cell_type": "markdown",
   "id": "abdda121-5755-472d-bad5-9f0ab4f00c4f",
   "metadata": {},
   "source": [
    "# Exploration Plots: Histograms"
   ]
  },
  {
   "cell_type": "markdown",
   "id": "1fa76394-c6ce-431e-ad48-b9a443440e49",
   "metadata": {},
   "source": [
    "We define human readable explanations of the different variables, to make better plots."
   ]
  },
  {
   "cell_type": "code",
   "execution_count": 152,
   "id": "ba19a0bc-8569-4283-9b30-477109d1f37a",
   "metadata": {},
   "outputs": [],
   "source": [
    "COL_TO_TEXT = {\n",
    "    \"line_duration\": \"Time to compute a line\",\n",
    "    \"diff_seq_per_time_vertex_diameter\": \"Mesh distance per vertex [% diameter]\",\n",
    "    \"diff_seq_duration_per_time_and_vertex\": \"Time difference [secs] per mesh and vertex\",\n",
    "    \"relative_diff_seq_duration\": \"Time difference per vertex [% line]\",\n",
    "    \"relative_diff_seq_duration_per_vertex\": \"Time difference per vertex [% line]\",\n",
    "    \"noise_factor\": \"Deformation factor, Steps\",\n",
    "    \"n_steps\": \"Number of steps\",\n",
    "    \"n_vertices\": \"Number of vertices\",\n",
    "}"
   ]
  },
  {
   "cell_type": "markdown",
   "id": "53c74145-359d-4364-97d8-52c601c27513",
   "metadata": {},
   "source": [
    "We can plot histograms of some of these variables to get intuition of their values.\n",
    "\n",
    "Here, we plot how long is takes to compute one line between two meshes, per vertex. We see that it takes less than 1 microsecond per vertex, i.e. less than 5 seconds to compute a line between two meshes that has 5 mesh along the sequence and these meshes have 1000 vertices."
   ]
  },
  {
   "cell_type": "code",
   "execution_count": 37,
   "id": "501cf4e0-1530-4a58-87eb-73d7b6abf5a8",
   "metadata": {},
   "outputs": [
    {
     "name": "stdout",
     "output_type": "stream",
     "text": [
      "Average: 4.99521484367263e-07\n"
     ]
    },
    {
     "data": {
      "application/vnd.plotly.v1+json": {
       "config": {
        "plotlyServerURL": "https://plot.ly"
       },
       "data": [
        {
         "alignmentgroup": "True",
         "bingroup": "x",
         "hovertemplate": "variable=0<br>value=%{x}<br>count=%{y}<extra></extra>",
         "legendgroup": "0",
         "marker": {
          "color": "#636efa",
          "pattern": {
           "shape": ""
          }
         },
         "name": "0",
         "nbinsx": 10,
         "offsetgroup": "0",
         "orientation": "v",
         "showlegend": true,
         "type": "histogram",
         "x": [
          null,
          1.8985183150679976e-07,
          2.914004855685764e-07,
          7.657777695428758e-07,
          1.1205673217773438e-06,
          7.858157529266452e-08,
          8.667740866402599e-08,
          2.0471619971004533e-07,
          3.0052514723789543e-07,
          7.805370149158296e-07,
          1.0320118495396205e-06,
          7.947285970052083e-08,
          1.179466366396515e-07,
          2.0059538476261091e-07,
          2.940495808919271e-07,
          7.850783211844308e-07,
          1.4475413731166294e-06,
          7.932431229921145e-08,
          1.1757526813637802e-07,
          2.0103690064983604e-07,
          2.914004855685764e-07,
          6.953875223795573e-07,
          1.0286058698381696e-06,
          8.088406001295999e-08,
          1.0279480170609424e-07,
          2.0810115484543787e-07,
          2.793323846510899e-07,
          7.124174208868118e-07,
          1.1319205874488467e-06,
          7.48678902599299e-08,
          1.2596819631035825e-07,
          2.3944878283842113e-07,
          3.3172560326847027e-07,
          7.771310352143787e-07,
          1.4623006184895834e-06,
          8.389214488947503e-08,
          8.704877716729945e-08,
          2.0353882401077837e-07,
          2.9758170798972803e-07,
          7.708867390950521e-07,
          1.4770598638625372e-06,
          8.99825883431598e-08,
          8.838570377908391e-08,
          2.116332819432388e-07,
          3.249556929976852e-07,
          7.305826459612166e-07,
          6.538345700218564e-06,
          7.88043963946286e-08,
          1.0888524515977902e-07,
          2.101615623191551e-07,
          3.8382447796103394e-07,
          7.339886256626675e-07,
          1.1285146077473958e-06,
          7.676186962662456e-08,
          8.26666288286726e-08,
          2.1663712866512346e-07,
          2.961099883656443e-07,
          7.618041265578497e-07,
          1.0002227056594122e-06,
          6.628927783431294e-08,
          8.808860897646515e-08,
          2.095728744695216e-07,
          2.896344220196759e-07,
          9.457270304361979e-07,
          1.049041748046875e-06,
          8.537761890256888e-08,
          8.682595606533538e-08,
          2.0030104083779417e-07,
          3.1877447057653356e-07,
          9.275618053617931e-07,
          9.854634602864584e-07,
          6.989155231606552e-08,
          1.0673130784079293e-07,
          2.3282604453004436e-07,
          3.028798986364294e-07,
          9.996550423758369e-07,
          1.0172526041666667e-06,
          7.022578396901164e-08,
          8.422637654242115e-08,
          2.0044821280020256e-07,
          3.3408035466700425e-07,
          7.623717898414249e-07,
          1.0331471761067708e-06,
          7.286250034225321e-08,
          8.868279858170269e-08,
          7.208482718762056e-07,
          3.022912107867959e-07,
          7.708867390950521e-07,
          9.95681399390811e-07,
          7.869298584364656e-08,
          1.1066781397549163e-07,
          2.116332819432388e-07,
          4.129645265178916e-07,
          1.0234969002859933e-06,
          1.083101545061384e-06,
          9.870974817008616e-08,
          1.0420600201853339e-07,
          2.0265579223632812e-07,
          3.181857827269001e-07,
          8.208411080496652e-07,
          1.0728836059570312e-06,
          6.640068838529498e-08,
          1.1594124672197479e-07,
          2.0559923148449557e-07,
          2.9522695659119406e-07,
          7.521538507370721e-07,
          1.0013580322265625e-06,
          8.288944993063668e-08,
          1.2470554339922848e-07,
          2.1648995670271508e-07,
          4.1944009286385996e-07,
          7.697514125279018e-07,
          1.0694776262555804e-06,
          6.536085657612928e-08,
          1.0918233996239778e-07,
          2.541659790792583e-07,
          3.3555207429108797e-07,
          7.748603820800781e-07,
          1.6314642769949776e-06
         ],
         "xaxis": "x",
         "yaxis": "y"
        }
       ],
       "layout": {
        "barmode": "relative",
        "height": 300,
        "legend": {
         "title": {
          "text": "variable"
         },
         "tracegroupgap": 0
        },
        "margin": {
         "t": 60
        },
        "showlegend": false,
        "template": {
         "data": {
          "bar": [
           {
            "error_x": {
             "color": "#2a3f5f"
            },
            "error_y": {
             "color": "#2a3f5f"
            },
            "marker": {
             "line": {
              "color": "#E5ECF6",
              "width": 0.5
             },
             "pattern": {
              "fillmode": "overlay",
              "size": 10,
              "solidity": 0.2
             }
            },
            "type": "bar"
           }
          ],
          "barpolar": [
           {
            "marker": {
             "line": {
              "color": "#E5ECF6",
              "width": 0.5
             },
             "pattern": {
              "fillmode": "overlay",
              "size": 10,
              "solidity": 0.2
             }
            },
            "type": "barpolar"
           }
          ],
          "carpet": [
           {
            "aaxis": {
             "endlinecolor": "#2a3f5f",
             "gridcolor": "white",
             "linecolor": "white",
             "minorgridcolor": "white",
             "startlinecolor": "#2a3f5f"
            },
            "baxis": {
             "endlinecolor": "#2a3f5f",
             "gridcolor": "white",
             "linecolor": "white",
             "minorgridcolor": "white",
             "startlinecolor": "#2a3f5f"
            },
            "type": "carpet"
           }
          ],
          "choropleth": [
           {
            "colorbar": {
             "outlinewidth": 0,
             "ticks": ""
            },
            "type": "choropleth"
           }
          ],
          "contour": [
           {
            "colorbar": {
             "outlinewidth": 0,
             "ticks": ""
            },
            "colorscale": [
             [
              0,
              "#0d0887"
             ],
             [
              0.1111111111111111,
              "#46039f"
             ],
             [
              0.2222222222222222,
              "#7201a8"
             ],
             [
              0.3333333333333333,
              "#9c179e"
             ],
             [
              0.4444444444444444,
              "#bd3786"
             ],
             [
              0.5555555555555556,
              "#d8576b"
             ],
             [
              0.6666666666666666,
              "#ed7953"
             ],
             [
              0.7777777777777778,
              "#fb9f3a"
             ],
             [
              0.8888888888888888,
              "#fdca26"
             ],
             [
              1,
              "#f0f921"
             ]
            ],
            "type": "contour"
           }
          ],
          "contourcarpet": [
           {
            "colorbar": {
             "outlinewidth": 0,
             "ticks": ""
            },
            "type": "contourcarpet"
           }
          ],
          "heatmap": [
           {
            "colorbar": {
             "outlinewidth": 0,
             "ticks": ""
            },
            "colorscale": [
             [
              0,
              "#0d0887"
             ],
             [
              0.1111111111111111,
              "#46039f"
             ],
             [
              0.2222222222222222,
              "#7201a8"
             ],
             [
              0.3333333333333333,
              "#9c179e"
             ],
             [
              0.4444444444444444,
              "#bd3786"
             ],
             [
              0.5555555555555556,
              "#d8576b"
             ],
             [
              0.6666666666666666,
              "#ed7953"
             ],
             [
              0.7777777777777778,
              "#fb9f3a"
             ],
             [
              0.8888888888888888,
              "#fdca26"
             ],
             [
              1,
              "#f0f921"
             ]
            ],
            "type": "heatmap"
           }
          ],
          "heatmapgl": [
           {
            "colorbar": {
             "outlinewidth": 0,
             "ticks": ""
            },
            "colorscale": [
             [
              0,
              "#0d0887"
             ],
             [
              0.1111111111111111,
              "#46039f"
             ],
             [
              0.2222222222222222,
              "#7201a8"
             ],
             [
              0.3333333333333333,
              "#9c179e"
             ],
             [
              0.4444444444444444,
              "#bd3786"
             ],
             [
              0.5555555555555556,
              "#d8576b"
             ],
             [
              0.6666666666666666,
              "#ed7953"
             ],
             [
              0.7777777777777778,
              "#fb9f3a"
             ],
             [
              0.8888888888888888,
              "#fdca26"
             ],
             [
              1,
              "#f0f921"
             ]
            ],
            "type": "heatmapgl"
           }
          ],
          "histogram": [
           {
            "marker": {
             "pattern": {
              "fillmode": "overlay",
              "size": 10,
              "solidity": 0.2
             }
            },
            "type": "histogram"
           }
          ],
          "histogram2d": [
           {
            "colorbar": {
             "outlinewidth": 0,
             "ticks": ""
            },
            "colorscale": [
             [
              0,
              "#0d0887"
             ],
             [
              0.1111111111111111,
              "#46039f"
             ],
             [
              0.2222222222222222,
              "#7201a8"
             ],
             [
              0.3333333333333333,
              "#9c179e"
             ],
             [
              0.4444444444444444,
              "#bd3786"
             ],
             [
              0.5555555555555556,
              "#d8576b"
             ],
             [
              0.6666666666666666,
              "#ed7953"
             ],
             [
              0.7777777777777778,
              "#fb9f3a"
             ],
             [
              0.8888888888888888,
              "#fdca26"
             ],
             [
              1,
              "#f0f921"
             ]
            ],
            "type": "histogram2d"
           }
          ],
          "histogram2dcontour": [
           {
            "colorbar": {
             "outlinewidth": 0,
             "ticks": ""
            },
            "colorscale": [
             [
              0,
              "#0d0887"
             ],
             [
              0.1111111111111111,
              "#46039f"
             ],
             [
              0.2222222222222222,
              "#7201a8"
             ],
             [
              0.3333333333333333,
              "#9c179e"
             ],
             [
              0.4444444444444444,
              "#bd3786"
             ],
             [
              0.5555555555555556,
              "#d8576b"
             ],
             [
              0.6666666666666666,
              "#ed7953"
             ],
             [
              0.7777777777777778,
              "#fb9f3a"
             ],
             [
              0.8888888888888888,
              "#fdca26"
             ],
             [
              1,
              "#f0f921"
             ]
            ],
            "type": "histogram2dcontour"
           }
          ],
          "mesh3d": [
           {
            "colorbar": {
             "outlinewidth": 0,
             "ticks": ""
            },
            "type": "mesh3d"
           }
          ],
          "parcoords": [
           {
            "line": {
             "colorbar": {
              "outlinewidth": 0,
              "ticks": ""
             }
            },
            "type": "parcoords"
           }
          ],
          "pie": [
           {
            "automargin": true,
            "type": "pie"
           }
          ],
          "scatter": [
           {
            "fillpattern": {
             "fillmode": "overlay",
             "size": 10,
             "solidity": 0.2
            },
            "type": "scatter"
           }
          ],
          "scatter3d": [
           {
            "line": {
             "colorbar": {
              "outlinewidth": 0,
              "ticks": ""
             }
            },
            "marker": {
             "colorbar": {
              "outlinewidth": 0,
              "ticks": ""
             }
            },
            "type": "scatter3d"
           }
          ],
          "scattercarpet": [
           {
            "marker": {
             "colorbar": {
              "outlinewidth": 0,
              "ticks": ""
             }
            },
            "type": "scattercarpet"
           }
          ],
          "scattergeo": [
           {
            "marker": {
             "colorbar": {
              "outlinewidth": 0,
              "ticks": ""
             }
            },
            "type": "scattergeo"
           }
          ],
          "scattergl": [
           {
            "marker": {
             "colorbar": {
              "outlinewidth": 0,
              "ticks": ""
             }
            },
            "type": "scattergl"
           }
          ],
          "scattermapbox": [
           {
            "marker": {
             "colorbar": {
              "outlinewidth": 0,
              "ticks": ""
             }
            },
            "type": "scattermapbox"
           }
          ],
          "scatterpolar": [
           {
            "marker": {
             "colorbar": {
              "outlinewidth": 0,
              "ticks": ""
             }
            },
            "type": "scatterpolar"
           }
          ],
          "scatterpolargl": [
           {
            "marker": {
             "colorbar": {
              "outlinewidth": 0,
              "ticks": ""
             }
            },
            "type": "scatterpolargl"
           }
          ],
          "scatterternary": [
           {
            "marker": {
             "colorbar": {
              "outlinewidth": 0,
              "ticks": ""
             }
            },
            "type": "scatterternary"
           }
          ],
          "surface": [
           {
            "colorbar": {
             "outlinewidth": 0,
             "ticks": ""
            },
            "colorscale": [
             [
              0,
              "#0d0887"
             ],
             [
              0.1111111111111111,
              "#46039f"
             ],
             [
              0.2222222222222222,
              "#7201a8"
             ],
             [
              0.3333333333333333,
              "#9c179e"
             ],
             [
              0.4444444444444444,
              "#bd3786"
             ],
             [
              0.5555555555555556,
              "#d8576b"
             ],
             [
              0.6666666666666666,
              "#ed7953"
             ],
             [
              0.7777777777777778,
              "#fb9f3a"
             ],
             [
              0.8888888888888888,
              "#fdca26"
             ],
             [
              1,
              "#f0f921"
             ]
            ],
            "type": "surface"
           }
          ],
          "table": [
           {
            "cells": {
             "fill": {
              "color": "#EBF0F8"
             },
             "line": {
              "color": "white"
             }
            },
            "header": {
             "fill": {
              "color": "#C8D4E3"
             },
             "line": {
              "color": "white"
             }
            },
            "type": "table"
           }
          ]
         },
         "layout": {
          "annotationdefaults": {
           "arrowcolor": "#2a3f5f",
           "arrowhead": 0,
           "arrowwidth": 1
          },
          "autotypenumbers": "strict",
          "coloraxis": {
           "colorbar": {
            "outlinewidth": 0,
            "ticks": ""
           }
          },
          "colorscale": {
           "diverging": [
            [
             0,
             "#8e0152"
            ],
            [
             0.1,
             "#c51b7d"
            ],
            [
             0.2,
             "#de77ae"
            ],
            [
             0.3,
             "#f1b6da"
            ],
            [
             0.4,
             "#fde0ef"
            ],
            [
             0.5,
             "#f7f7f7"
            ],
            [
             0.6,
             "#e6f5d0"
            ],
            [
             0.7,
             "#b8e186"
            ],
            [
             0.8,
             "#7fbc41"
            ],
            [
             0.9,
             "#4d9221"
            ],
            [
             1,
             "#276419"
            ]
           ],
           "sequential": [
            [
             0,
             "#0d0887"
            ],
            [
             0.1111111111111111,
             "#46039f"
            ],
            [
             0.2222222222222222,
             "#7201a8"
            ],
            [
             0.3333333333333333,
             "#9c179e"
            ],
            [
             0.4444444444444444,
             "#bd3786"
            ],
            [
             0.5555555555555556,
             "#d8576b"
            ],
            [
             0.6666666666666666,
             "#ed7953"
            ],
            [
             0.7777777777777778,
             "#fb9f3a"
            ],
            [
             0.8888888888888888,
             "#fdca26"
            ],
            [
             1,
             "#f0f921"
            ]
           ],
           "sequentialminus": [
            [
             0,
             "#0d0887"
            ],
            [
             0.1111111111111111,
             "#46039f"
            ],
            [
             0.2222222222222222,
             "#7201a8"
            ],
            [
             0.3333333333333333,
             "#9c179e"
            ],
            [
             0.4444444444444444,
             "#bd3786"
            ],
            [
             0.5555555555555556,
             "#d8576b"
            ],
            [
             0.6666666666666666,
             "#ed7953"
            ],
            [
             0.7777777777777778,
             "#fb9f3a"
            ],
            [
             0.8888888888888888,
             "#fdca26"
            ],
            [
             1,
             "#f0f921"
            ]
           ]
          },
          "colorway": [
           "#636efa",
           "#EF553B",
           "#00cc96",
           "#ab63fa",
           "#FFA15A",
           "#19d3f3",
           "#FF6692",
           "#B6E880",
           "#FF97FF",
           "#FECB52"
          ],
          "font": {
           "color": "#2a3f5f"
          },
          "geo": {
           "bgcolor": "white",
           "lakecolor": "white",
           "landcolor": "#E5ECF6",
           "showlakes": true,
           "showland": true,
           "subunitcolor": "white"
          },
          "hoverlabel": {
           "align": "left"
          },
          "hovermode": "closest",
          "mapbox": {
           "style": "light"
          },
          "paper_bgcolor": "white",
          "plot_bgcolor": "#E5ECF6",
          "polar": {
           "angularaxis": {
            "gridcolor": "white",
            "linecolor": "white",
            "ticks": ""
           },
           "bgcolor": "#E5ECF6",
           "radialaxis": {
            "gridcolor": "white",
            "linecolor": "white",
            "ticks": ""
           }
          },
          "scene": {
           "xaxis": {
            "backgroundcolor": "#E5ECF6",
            "gridcolor": "white",
            "gridwidth": 2,
            "linecolor": "white",
            "showbackground": true,
            "ticks": "",
            "zerolinecolor": "white"
           },
           "yaxis": {
            "backgroundcolor": "#E5ECF6",
            "gridcolor": "white",
            "gridwidth": 2,
            "linecolor": "white",
            "showbackground": true,
            "ticks": "",
            "zerolinecolor": "white"
           },
           "zaxis": {
            "backgroundcolor": "#E5ECF6",
            "gridcolor": "white",
            "gridwidth": 2,
            "linecolor": "white",
            "showbackground": true,
            "ticks": "",
            "zerolinecolor": "white"
           }
          },
          "shapedefaults": {
           "line": {
            "color": "#2a3f5f"
           }
          },
          "ternary": {
           "aaxis": {
            "gridcolor": "white",
            "linecolor": "white",
            "ticks": ""
           },
           "baxis": {
            "gridcolor": "white",
            "linecolor": "white",
            "ticks": ""
           },
           "bgcolor": "#E5ECF6",
           "caxis": {
            "gridcolor": "white",
            "linecolor": "white",
            "ticks": ""
           }
          },
          "title": {
           "x": 0.05
          },
          "xaxis": {
           "automargin": true,
           "gridcolor": "white",
           "linecolor": "white",
           "ticks": "",
           "title": {
            "standoff": 15
           },
           "zerolinecolor": "white",
           "zerolinewidth": 2
          },
          "yaxis": {
           "automargin": true,
           "gridcolor": "white",
           "linecolor": "white",
           "ticks": "",
           "title": {
            "standoff": 15
           },
           "zerolinecolor": "white",
           "zerolinewidth": 2
          }
         }
        },
        "title": {
         "text": "Histogram of Line Duration per Time Vertex"
        },
        "width": 500,
        "xaxis": {
         "anchor": "y",
         "autorange": true,
         "domain": [
          0,
          1
         ],
         "range": [
          1.0587911840678754e-22,
          7.000000000000001e-06
         ],
         "title": {
          "text": "Line Duration per Time Vertex"
         },
         "type": "linear"
        },
        "yaxis": {
         "anchor": "x",
         "autorange": true,
         "domain": [
          0,
          1
         ],
         "range": [
          0,
          104.21052631578948
         ],
         "title": {
          "text": "Count"
         }
        }
       }
      },
      "text/html": [
       "<div>                            <div id=\"6a15c0f2-b165-4998-b490-46b568260219\" class=\"plotly-graph-div\" style=\"height:300px; width:500px;\"></div>            <script type=\"text/javascript\">                require([\"plotly\"], function(Plotly) {                    window.PLOTLYENV=window.PLOTLYENV || {};                                    if (document.getElementById(\"6a15c0f2-b165-4998-b490-46b568260219\")) {                    Plotly.newPlot(                        \"6a15c0f2-b165-4998-b490-46b568260219\",                        [{\"alignmentgroup\":\"True\",\"bingroup\":\"x\",\"hovertemplate\":\"variable=0\\u003cbr\\u003evalue=%{x}\\u003cbr\\u003ecount=%{y}\\u003cextra\\u003e\\u003c\\u002fextra\\u003e\",\"legendgroup\":\"0\",\"marker\":{\"color\":\"#636efa\",\"pattern\":{\"shape\":\"\"}},\"name\":\"0\",\"nbinsx\":10,\"offsetgroup\":\"0\",\"orientation\":\"v\",\"showlegend\":true,\"x\":[null,1.8985183150679976e-07,2.914004855685764e-07,7.657777695428758e-07,1.1205673217773438e-06,7.858157529266452e-08,8.667740866402599e-08,2.0471619971004533e-07,3.0052514723789543e-07,7.805370149158296e-07,1.0320118495396205e-06,7.947285970052083e-08,1.179466366396515e-07,2.0059538476261091e-07,2.940495808919271e-07,7.850783211844308e-07,1.4475413731166294e-06,7.932431229921145e-08,1.1757526813637802e-07,2.0103690064983604e-07,2.914004855685764e-07,6.953875223795573e-07,1.0286058698381696e-06,8.088406001295999e-08,1.0279480170609424e-07,2.0810115484543787e-07,2.793323846510899e-07,7.124174208868118e-07,1.1319205874488467e-06,7.48678902599299e-08,1.2596819631035825e-07,2.3944878283842113e-07,3.3172560326847027e-07,7.771310352143787e-07,1.4623006184895834e-06,8.389214488947503e-08,8.704877716729945e-08,2.0353882401077837e-07,2.9758170798972803e-07,7.708867390950521e-07,1.4770598638625372e-06,8.99825883431598e-08,8.838570377908391e-08,2.116332819432388e-07,3.249556929976852e-07,7.305826459612166e-07,6.538345700218564e-06,7.88043963946286e-08,1.0888524515977902e-07,2.101615623191551e-07,3.8382447796103394e-07,7.339886256626675e-07,1.1285146077473958e-06,7.676186962662456e-08,8.26666288286726e-08,2.1663712866512346e-07,2.961099883656443e-07,7.618041265578497e-07,1.0002227056594122e-06,6.628927783431294e-08,8.808860897646515e-08,2.095728744695216e-07,2.896344220196759e-07,9.457270304361979e-07,1.049041748046875e-06,8.537761890256888e-08,8.682595606533538e-08,2.0030104083779417e-07,3.1877447057653356e-07,9.275618053617931e-07,9.854634602864584e-07,6.989155231606552e-08,1.0673130784079293e-07,2.3282604453004436e-07,3.028798986364294e-07,9.996550423758369e-07,1.0172526041666667e-06,7.022578396901164e-08,8.422637654242115e-08,2.0044821280020256e-07,3.3408035466700425e-07,7.623717898414249e-07,1.0331471761067708e-06,7.286250034225321e-08,8.868279858170269e-08,7.208482718762056e-07,3.022912107867959e-07,7.708867390950521e-07,9.95681399390811e-07,7.869298584364656e-08,1.1066781397549163e-07,2.116332819432388e-07,4.129645265178916e-07,1.0234969002859933e-06,1.083101545061384e-06,9.870974817008616e-08,1.0420600201853339e-07,2.0265579223632812e-07,3.181857827269001e-07,8.208411080496652e-07,1.0728836059570312e-06,6.640068838529498e-08,1.1594124672197479e-07,2.0559923148449557e-07,2.9522695659119406e-07,7.521538507370721e-07,1.0013580322265625e-06,8.288944993063668e-08,1.2470554339922848e-07,2.1648995670271508e-07,4.1944009286385996e-07,7.697514125279018e-07,1.0694776262555804e-06,6.536085657612928e-08,1.0918233996239778e-07,2.541659790792583e-07,3.3555207429108797e-07,7.748603820800781e-07,1.6314642769949776e-06],\"xaxis\":\"x\",\"yaxis\":\"y\",\"type\":\"histogram\"}],                        {\"template\":{\"data\":{\"histogram2dcontour\":[{\"type\":\"histogram2dcontour\",\"colorbar\":{\"outlinewidth\":0,\"ticks\":\"\"},\"colorscale\":[[0.0,\"#0d0887\"],[0.1111111111111111,\"#46039f\"],[0.2222222222222222,\"#7201a8\"],[0.3333333333333333,\"#9c179e\"],[0.4444444444444444,\"#bd3786\"],[0.5555555555555556,\"#d8576b\"],[0.6666666666666666,\"#ed7953\"],[0.7777777777777778,\"#fb9f3a\"],[0.8888888888888888,\"#fdca26\"],[1.0,\"#f0f921\"]]}],\"choropleth\":[{\"type\":\"choropleth\",\"colorbar\":{\"outlinewidth\":0,\"ticks\":\"\"}}],\"histogram2d\":[{\"type\":\"histogram2d\",\"colorbar\":{\"outlinewidth\":0,\"ticks\":\"\"},\"colorscale\":[[0.0,\"#0d0887\"],[0.1111111111111111,\"#46039f\"],[0.2222222222222222,\"#7201a8\"],[0.3333333333333333,\"#9c179e\"],[0.4444444444444444,\"#bd3786\"],[0.5555555555555556,\"#d8576b\"],[0.6666666666666666,\"#ed7953\"],[0.7777777777777778,\"#fb9f3a\"],[0.8888888888888888,\"#fdca26\"],[1.0,\"#f0f921\"]]}],\"heatmap\":[{\"type\":\"heatmap\",\"colorbar\":{\"outlinewidth\":0,\"ticks\":\"\"},\"colorscale\":[[0.0,\"#0d0887\"],[0.1111111111111111,\"#46039f\"],[0.2222222222222222,\"#7201a8\"],[0.3333333333333333,\"#9c179e\"],[0.4444444444444444,\"#bd3786\"],[0.5555555555555556,\"#d8576b\"],[0.6666666666666666,\"#ed7953\"],[0.7777777777777778,\"#fb9f3a\"],[0.8888888888888888,\"#fdca26\"],[1.0,\"#f0f921\"]]}],\"heatmapgl\":[{\"type\":\"heatmapgl\",\"colorbar\":{\"outlinewidth\":0,\"ticks\":\"\"},\"colorscale\":[[0.0,\"#0d0887\"],[0.1111111111111111,\"#46039f\"],[0.2222222222222222,\"#7201a8\"],[0.3333333333333333,\"#9c179e\"],[0.4444444444444444,\"#bd3786\"],[0.5555555555555556,\"#d8576b\"],[0.6666666666666666,\"#ed7953\"],[0.7777777777777778,\"#fb9f3a\"],[0.8888888888888888,\"#fdca26\"],[1.0,\"#f0f921\"]]}],\"contourcarpet\":[{\"type\":\"contourcarpet\",\"colorbar\":{\"outlinewidth\":0,\"ticks\":\"\"}}],\"contour\":[{\"type\":\"contour\",\"colorbar\":{\"outlinewidth\":0,\"ticks\":\"\"},\"colorscale\":[[0.0,\"#0d0887\"],[0.1111111111111111,\"#46039f\"],[0.2222222222222222,\"#7201a8\"],[0.3333333333333333,\"#9c179e\"],[0.4444444444444444,\"#bd3786\"],[0.5555555555555556,\"#d8576b\"],[0.6666666666666666,\"#ed7953\"],[0.7777777777777778,\"#fb9f3a\"],[0.8888888888888888,\"#fdca26\"],[1.0,\"#f0f921\"]]}],\"surface\":[{\"type\":\"surface\",\"colorbar\":{\"outlinewidth\":0,\"ticks\":\"\"},\"colorscale\":[[0.0,\"#0d0887\"],[0.1111111111111111,\"#46039f\"],[0.2222222222222222,\"#7201a8\"],[0.3333333333333333,\"#9c179e\"],[0.4444444444444444,\"#bd3786\"],[0.5555555555555556,\"#d8576b\"],[0.6666666666666666,\"#ed7953\"],[0.7777777777777778,\"#fb9f3a\"],[0.8888888888888888,\"#fdca26\"],[1.0,\"#f0f921\"]]}],\"mesh3d\":[{\"type\":\"mesh3d\",\"colorbar\":{\"outlinewidth\":0,\"ticks\":\"\"}}],\"scatter\":[{\"fillpattern\":{\"fillmode\":\"overlay\",\"size\":10,\"solidity\":0.2},\"type\":\"scatter\"}],\"parcoords\":[{\"type\":\"parcoords\",\"line\":{\"colorbar\":{\"outlinewidth\":0,\"ticks\":\"\"}}}],\"scatterpolargl\":[{\"type\":\"scatterpolargl\",\"marker\":{\"colorbar\":{\"outlinewidth\":0,\"ticks\":\"\"}}}],\"bar\":[{\"error_x\":{\"color\":\"#2a3f5f\"},\"error_y\":{\"color\":\"#2a3f5f\"},\"marker\":{\"line\":{\"color\":\"#E5ECF6\",\"width\":0.5},\"pattern\":{\"fillmode\":\"overlay\",\"size\":10,\"solidity\":0.2}},\"type\":\"bar\"}],\"scattergeo\":[{\"type\":\"scattergeo\",\"marker\":{\"colorbar\":{\"outlinewidth\":0,\"ticks\":\"\"}}}],\"scatterpolar\":[{\"type\":\"scatterpolar\",\"marker\":{\"colorbar\":{\"outlinewidth\":0,\"ticks\":\"\"}}}],\"histogram\":[{\"marker\":{\"pattern\":{\"fillmode\":\"overlay\",\"size\":10,\"solidity\":0.2}},\"type\":\"histogram\"}],\"scattergl\":[{\"type\":\"scattergl\",\"marker\":{\"colorbar\":{\"outlinewidth\":0,\"ticks\":\"\"}}}],\"scatter3d\":[{\"type\":\"scatter3d\",\"line\":{\"colorbar\":{\"outlinewidth\":0,\"ticks\":\"\"}},\"marker\":{\"colorbar\":{\"outlinewidth\":0,\"ticks\":\"\"}}}],\"scattermapbox\":[{\"type\":\"scattermapbox\",\"marker\":{\"colorbar\":{\"outlinewidth\":0,\"ticks\":\"\"}}}],\"scatterternary\":[{\"type\":\"scatterternary\",\"marker\":{\"colorbar\":{\"outlinewidth\":0,\"ticks\":\"\"}}}],\"scattercarpet\":[{\"type\":\"scattercarpet\",\"marker\":{\"colorbar\":{\"outlinewidth\":0,\"ticks\":\"\"}}}],\"carpet\":[{\"aaxis\":{\"endlinecolor\":\"#2a3f5f\",\"gridcolor\":\"white\",\"linecolor\":\"white\",\"minorgridcolor\":\"white\",\"startlinecolor\":\"#2a3f5f\"},\"baxis\":{\"endlinecolor\":\"#2a3f5f\",\"gridcolor\":\"white\",\"linecolor\":\"white\",\"minorgridcolor\":\"white\",\"startlinecolor\":\"#2a3f5f\"},\"type\":\"carpet\"}],\"table\":[{\"cells\":{\"fill\":{\"color\":\"#EBF0F8\"},\"line\":{\"color\":\"white\"}},\"header\":{\"fill\":{\"color\":\"#C8D4E3\"},\"line\":{\"color\":\"white\"}},\"type\":\"table\"}],\"barpolar\":[{\"marker\":{\"line\":{\"color\":\"#E5ECF6\",\"width\":0.5},\"pattern\":{\"fillmode\":\"overlay\",\"size\":10,\"solidity\":0.2}},\"type\":\"barpolar\"}],\"pie\":[{\"automargin\":true,\"type\":\"pie\"}]},\"layout\":{\"autotypenumbers\":\"strict\",\"colorway\":[\"#636efa\",\"#EF553B\",\"#00cc96\",\"#ab63fa\",\"#FFA15A\",\"#19d3f3\",\"#FF6692\",\"#B6E880\",\"#FF97FF\",\"#FECB52\"],\"font\":{\"color\":\"#2a3f5f\"},\"hovermode\":\"closest\",\"hoverlabel\":{\"align\":\"left\"},\"paper_bgcolor\":\"white\",\"plot_bgcolor\":\"#E5ECF6\",\"polar\":{\"bgcolor\":\"#E5ECF6\",\"angularaxis\":{\"gridcolor\":\"white\",\"linecolor\":\"white\",\"ticks\":\"\"},\"radialaxis\":{\"gridcolor\":\"white\",\"linecolor\":\"white\",\"ticks\":\"\"}},\"ternary\":{\"bgcolor\":\"#E5ECF6\",\"aaxis\":{\"gridcolor\":\"white\",\"linecolor\":\"white\",\"ticks\":\"\"},\"baxis\":{\"gridcolor\":\"white\",\"linecolor\":\"white\",\"ticks\":\"\"},\"caxis\":{\"gridcolor\":\"white\",\"linecolor\":\"white\",\"ticks\":\"\"}},\"coloraxis\":{\"colorbar\":{\"outlinewidth\":0,\"ticks\":\"\"}},\"colorscale\":{\"sequential\":[[0.0,\"#0d0887\"],[0.1111111111111111,\"#46039f\"],[0.2222222222222222,\"#7201a8\"],[0.3333333333333333,\"#9c179e\"],[0.4444444444444444,\"#bd3786\"],[0.5555555555555556,\"#d8576b\"],[0.6666666666666666,\"#ed7953\"],[0.7777777777777778,\"#fb9f3a\"],[0.8888888888888888,\"#fdca26\"],[1.0,\"#f0f921\"]],\"sequentialminus\":[[0.0,\"#0d0887\"],[0.1111111111111111,\"#46039f\"],[0.2222222222222222,\"#7201a8\"],[0.3333333333333333,\"#9c179e\"],[0.4444444444444444,\"#bd3786\"],[0.5555555555555556,\"#d8576b\"],[0.6666666666666666,\"#ed7953\"],[0.7777777777777778,\"#fb9f3a\"],[0.8888888888888888,\"#fdca26\"],[1.0,\"#f0f921\"]],\"diverging\":[[0,\"#8e0152\"],[0.1,\"#c51b7d\"],[0.2,\"#de77ae\"],[0.3,\"#f1b6da\"],[0.4,\"#fde0ef\"],[0.5,\"#f7f7f7\"],[0.6,\"#e6f5d0\"],[0.7,\"#b8e186\"],[0.8,\"#7fbc41\"],[0.9,\"#4d9221\"],[1,\"#276419\"]]},\"xaxis\":{\"gridcolor\":\"white\",\"linecolor\":\"white\",\"ticks\":\"\",\"title\":{\"standoff\":15},\"zerolinecolor\":\"white\",\"automargin\":true,\"zerolinewidth\":2},\"yaxis\":{\"gridcolor\":\"white\",\"linecolor\":\"white\",\"ticks\":\"\",\"title\":{\"standoff\":15},\"zerolinecolor\":\"white\",\"automargin\":true,\"zerolinewidth\":2},\"scene\":{\"xaxis\":{\"backgroundcolor\":\"#E5ECF6\",\"gridcolor\":\"white\",\"linecolor\":\"white\",\"showbackground\":true,\"ticks\":\"\",\"zerolinecolor\":\"white\",\"gridwidth\":2},\"yaxis\":{\"backgroundcolor\":\"#E5ECF6\",\"gridcolor\":\"white\",\"linecolor\":\"white\",\"showbackground\":true,\"ticks\":\"\",\"zerolinecolor\":\"white\",\"gridwidth\":2},\"zaxis\":{\"backgroundcolor\":\"#E5ECF6\",\"gridcolor\":\"white\",\"linecolor\":\"white\",\"showbackground\":true,\"ticks\":\"\",\"zerolinecolor\":\"white\",\"gridwidth\":2}},\"shapedefaults\":{\"line\":{\"color\":\"#2a3f5f\"}},\"annotationdefaults\":{\"arrowcolor\":\"#2a3f5f\",\"arrowhead\":0,\"arrowwidth\":1},\"geo\":{\"bgcolor\":\"white\",\"landcolor\":\"#E5ECF6\",\"subunitcolor\":\"white\",\"showland\":true,\"showlakes\":true,\"lakecolor\":\"white\"},\"title\":{\"x\":0.05},\"mapbox\":{\"style\":\"light\"}}},\"xaxis\":{\"anchor\":\"y\",\"domain\":[0.0,1.0],\"title\":{\"text\":\"Line Duration per Time Vertex\"}},\"yaxis\":{\"anchor\":\"x\",\"domain\":[0.0,1.0],\"title\":{\"text\":\"Count\"}},\"legend\":{\"title\":{\"text\":\"variable\"},\"tracegroupgap\":0},\"margin\":{\"t\":60},\"barmode\":\"relative\",\"title\":{\"text\":\"Histogram of Line Duration per Time Vertex\"},\"showlegend\":false,\"width\":500,\"height\":300},                        {\"responsive\": true}                    ).then(function(){\n",
       "                            \n",
       "var gd = document.getElementById('6a15c0f2-b165-4998-b490-46b568260219');\n",
       "var x = new MutationObserver(function (mutations, observer) {{\n",
       "        var display = window.getComputedStyle(gd).display;\n",
       "        if (!display || display === 'none') {{\n",
       "            console.log([gd, 'removed!']);\n",
       "            Plotly.purge(gd);\n",
       "            observer.disconnect();\n",
       "        }}\n",
       "}});\n",
       "\n",
       "// Listen for the removal of the full notebook cells\n",
       "var notebookContainer = gd.closest('#notebook-container');\n",
       "if (notebookContainer) {{\n",
       "    x.observe(notebookContainer, {childList: true});\n",
       "}}\n",
       "\n",
       "// Listen for the clearing of the current output cell\n",
       "var outputEl = gd.closest('.output');\n",
       "if (outputEl) {{\n",
       "    x.observe(outputEl, {childList: true});\n",
       "}}\n",
       "\n",
       "                        })                };                });            </script>        </div>"
      ]
     },
     "metadata": {},
     "output_type": "display_data"
    }
   ],
   "source": [
    "line_duration_per_time_vertex = df[\"line_duration\"] / (df[\"n_vertices\"] * df[\"n_times\"])\n",
    "average = line_duration_per_time_vertex.mean()\n",
    "print(\"Average:\", average)\n",
    "\n",
    "fig = px.histogram(line_duration_per_time_vertex, nbins=10)\n",
    "fig.update_layout(\n",
    "    title=\"Histogram of Line Duration per Time Vertex\",\n",
    "    xaxis_title=\"Line Duration per Time Vertex\",\n",
    "    yaxis_title=\"Count\",\n",
    "    showlegend=False,\n",
    "    width=500,\n",
    "    height=300,\n",
    ")"
   ]
  },
  {
   "cell_type": "markdown",
   "id": "dcd56020-fe4e-44c7-8d99-9106f6aca33e",
   "metadata": {},
   "source": [
    "We compare the time taken to compute a line versus a geodesic between two meshes."
   ]
  },
  {
   "cell_type": "code",
   "execution_count": 38,
   "id": "a1dfb3ff",
   "metadata": {},
   "outputs": [
    {
     "data": {
      "application/vnd.plotly.v1+json": {
       "config": {
        "plotlyServerURL": "https://plot.ly"
       },
       "data": [
        {
         "alignmentgroup": "True",
         "bingroup": "x",
         "hovertemplate": "variable=diff_seq_duration_per_time_and_vertex<br>value=%{x}<br>count=%{y}<extra></extra>",
         "legendgroup": "diff_seq_duration_per_time_and_vertex",
         "marker": {
          "color": "#636efa",
          "pattern": {
           "shape": ""
          }
         },
         "name": "diff_seq_duration_per_time_and_vertex",
         "nbinsx": 10,
         "offsetgroup": "diff_seq_duration_per_time_and_vertex",
         "orientation": "v",
         "showlegend": true,
         "type": "histogram",
         "x": [
          null,
          -1.210833579669764,
          -1.2474447547653575,
          -1.1003635372434344,
          -1.1249870493298486,
          -0.5460392713175385,
          -0.7188327403083398,
          -0.6715162202163979,
          -0.7801045606165756,
          -0.6022384240513756,
          -0.7309326603299096,
          -1.063324057461688,
          -1.3672339310898587,
          -1.061064628171332,
          -1.0556533224788711,
          -1.1093246471314204,
          -1.3331608352207005,
          -0.4935766169586657,
          -0.7216147210367744,
          -0.6129080639945136,
          -0.7822175929575791,
          -0.6512585770516168,
          -0.6400446165175665,
          -1.0860460660167943,
          -1.1967202817168192,
          -1.0865815646854449,
          -0.7294865190246959,
          -1.149831816128322,
          -1.2286636136827014,
          -0.7612593481102465,
          -0.6616920235001038,
          -0.3735771745811274,
          -0.8013592522821309,
          -0.4230439214479356,
          -0.6307076601755052,
          -1.1713641867459377,
          -1.0510107181525306,
          -0.8327274484398924,
          -0.6395632599606926,
          -1.1771470217477709,
          -1.0090821856544132,
          -0.535053695362305,
          -0.545000573853466,
          -0.4265103852307355,
          -0.4195368284060631,
          -0.5236229743276324,
          -0.491001017888387,
          -0.42149738166191125,
          -0.6050977539050616,
          -0.49600630866156686,
          -0.6512286671885738,
          -0.5014410359518868,
          -0.6868007387433733,
          -0.3793879604785242,
          -0.5251195111378703,
          -0.3060651614342207,
          -0.606295746932795,
          -0.41178532611756097,
          -0.4635149853570121,
          -0.20553838285701667,
          -0.4878161885656672,
          -0.2531263335251514,
          -0.2776943774870884,
          -0.24072180702572776,
          -0.20663882550739107,
          -0.5165617348620454,
          -0.6903555993350495,
          -0.577446522977617,
          -0.48488709661695695,
          -0.5295987571988787,
          -0.565743130729312,
          -0.31564550165818117,
          -0.5566010712834534,
          -0.3518194072040511,
          -0.5100087139341566,
          -0.26800436349142165,
          -0.2742613009044102,
          -0.27408153973635857,
          -0.48033084928803726,
          -0.2454146448476815,
          -0.4168694340152505,
          -0.16721335933322,
          -0.6680303267070226,
          -0.4568935979935239,
          -0.688535013971299,
          -0.3007754197827092,
          -0.4796361369851195,
          -0.31930978638785223,
          -0.45776766481853665,
          -0.30279135232402526,
          -0.475007170680156,
          -0.3348459797140993,
          -0.5054912505326448,
          -0.2488793702352615,
          -0.32663506326221287,
          -0.16827317138327244,
          -0.2842753597509081,
          -0.13827648795681236,
          -0.27449983932353833,
          -0.13276851461047218,
          -0.2672082185745239,
          -0.4332338323102934,
          -0.39954878763989127,
          -0.34699125157462224,
          -0.3942408273249496,
          -0.4426413411185855,
          -0.36849489098503474,
          -0.2360765377309092,
          -0.30149730744762954,
          -0.1929437228191046,
          -0.27774587089632763,
          -0.2648005139260065,
          -0.24613954453241255,
          -0.12830799784615776,
          -0.2131051760967647,
          -0.10842166285455963,
          -0.17248743846092696,
          -0.124445759114765,
          -0.1650976987112136
         ],
         "xaxis": "x",
         "yaxis": "y"
        }
       ],
       "layout": {
        "barmode": "relative",
        "height": 300,
        "legend": {
         "title": {
          "text": "variable"
         },
         "tracegroupgap": 0
        },
        "margin": {
         "t": 60
        },
        "showlegend": false,
        "template": {
         "data": {
          "bar": [
           {
            "error_x": {
             "color": "#2a3f5f"
            },
            "error_y": {
             "color": "#2a3f5f"
            },
            "marker": {
             "line": {
              "color": "#E5ECF6",
              "width": 0.5
             },
             "pattern": {
              "fillmode": "overlay",
              "size": 10,
              "solidity": 0.2
             }
            },
            "type": "bar"
           }
          ],
          "barpolar": [
           {
            "marker": {
             "line": {
              "color": "#E5ECF6",
              "width": 0.5
             },
             "pattern": {
              "fillmode": "overlay",
              "size": 10,
              "solidity": 0.2
             }
            },
            "type": "barpolar"
           }
          ],
          "carpet": [
           {
            "aaxis": {
             "endlinecolor": "#2a3f5f",
             "gridcolor": "white",
             "linecolor": "white",
             "minorgridcolor": "white",
             "startlinecolor": "#2a3f5f"
            },
            "baxis": {
             "endlinecolor": "#2a3f5f",
             "gridcolor": "white",
             "linecolor": "white",
             "minorgridcolor": "white",
             "startlinecolor": "#2a3f5f"
            },
            "type": "carpet"
           }
          ],
          "choropleth": [
           {
            "colorbar": {
             "outlinewidth": 0,
             "ticks": ""
            },
            "type": "choropleth"
           }
          ],
          "contour": [
           {
            "colorbar": {
             "outlinewidth": 0,
             "ticks": ""
            },
            "colorscale": [
             [
              0,
              "#0d0887"
             ],
             [
              0.1111111111111111,
              "#46039f"
             ],
             [
              0.2222222222222222,
              "#7201a8"
             ],
             [
              0.3333333333333333,
              "#9c179e"
             ],
             [
              0.4444444444444444,
              "#bd3786"
             ],
             [
              0.5555555555555556,
              "#d8576b"
             ],
             [
              0.6666666666666666,
              "#ed7953"
             ],
             [
              0.7777777777777778,
              "#fb9f3a"
             ],
             [
              0.8888888888888888,
              "#fdca26"
             ],
             [
              1,
              "#f0f921"
             ]
            ],
            "type": "contour"
           }
          ],
          "contourcarpet": [
           {
            "colorbar": {
             "outlinewidth": 0,
             "ticks": ""
            },
            "type": "contourcarpet"
           }
          ],
          "heatmap": [
           {
            "colorbar": {
             "outlinewidth": 0,
             "ticks": ""
            },
            "colorscale": [
             [
              0,
              "#0d0887"
             ],
             [
              0.1111111111111111,
              "#46039f"
             ],
             [
              0.2222222222222222,
              "#7201a8"
             ],
             [
              0.3333333333333333,
              "#9c179e"
             ],
             [
              0.4444444444444444,
              "#bd3786"
             ],
             [
              0.5555555555555556,
              "#d8576b"
             ],
             [
              0.6666666666666666,
              "#ed7953"
             ],
             [
              0.7777777777777778,
              "#fb9f3a"
             ],
             [
              0.8888888888888888,
              "#fdca26"
             ],
             [
              1,
              "#f0f921"
             ]
            ],
            "type": "heatmap"
           }
          ],
          "heatmapgl": [
           {
            "colorbar": {
             "outlinewidth": 0,
             "ticks": ""
            },
            "colorscale": [
             [
              0,
              "#0d0887"
             ],
             [
              0.1111111111111111,
              "#46039f"
             ],
             [
              0.2222222222222222,
              "#7201a8"
             ],
             [
              0.3333333333333333,
              "#9c179e"
             ],
             [
              0.4444444444444444,
              "#bd3786"
             ],
             [
              0.5555555555555556,
              "#d8576b"
             ],
             [
              0.6666666666666666,
              "#ed7953"
             ],
             [
              0.7777777777777778,
              "#fb9f3a"
             ],
             [
              0.8888888888888888,
              "#fdca26"
             ],
             [
              1,
              "#f0f921"
             ]
            ],
            "type": "heatmapgl"
           }
          ],
          "histogram": [
           {
            "marker": {
             "pattern": {
              "fillmode": "overlay",
              "size": 10,
              "solidity": 0.2
             }
            },
            "type": "histogram"
           }
          ],
          "histogram2d": [
           {
            "colorbar": {
             "outlinewidth": 0,
             "ticks": ""
            },
            "colorscale": [
             [
              0,
              "#0d0887"
             ],
             [
              0.1111111111111111,
              "#46039f"
             ],
             [
              0.2222222222222222,
              "#7201a8"
             ],
             [
              0.3333333333333333,
              "#9c179e"
             ],
             [
              0.4444444444444444,
              "#bd3786"
             ],
             [
              0.5555555555555556,
              "#d8576b"
             ],
             [
              0.6666666666666666,
              "#ed7953"
             ],
             [
              0.7777777777777778,
              "#fb9f3a"
             ],
             [
              0.8888888888888888,
              "#fdca26"
             ],
             [
              1,
              "#f0f921"
             ]
            ],
            "type": "histogram2d"
           }
          ],
          "histogram2dcontour": [
           {
            "colorbar": {
             "outlinewidth": 0,
             "ticks": ""
            },
            "colorscale": [
             [
              0,
              "#0d0887"
             ],
             [
              0.1111111111111111,
              "#46039f"
             ],
             [
              0.2222222222222222,
              "#7201a8"
             ],
             [
              0.3333333333333333,
              "#9c179e"
             ],
             [
              0.4444444444444444,
              "#bd3786"
             ],
             [
              0.5555555555555556,
              "#d8576b"
             ],
             [
              0.6666666666666666,
              "#ed7953"
             ],
             [
              0.7777777777777778,
              "#fb9f3a"
             ],
             [
              0.8888888888888888,
              "#fdca26"
             ],
             [
              1,
              "#f0f921"
             ]
            ],
            "type": "histogram2dcontour"
           }
          ],
          "mesh3d": [
           {
            "colorbar": {
             "outlinewidth": 0,
             "ticks": ""
            },
            "type": "mesh3d"
           }
          ],
          "parcoords": [
           {
            "line": {
             "colorbar": {
              "outlinewidth": 0,
              "ticks": ""
             }
            },
            "type": "parcoords"
           }
          ],
          "pie": [
           {
            "automargin": true,
            "type": "pie"
           }
          ],
          "scatter": [
           {
            "fillpattern": {
             "fillmode": "overlay",
             "size": 10,
             "solidity": 0.2
            },
            "type": "scatter"
           }
          ],
          "scatter3d": [
           {
            "line": {
             "colorbar": {
              "outlinewidth": 0,
              "ticks": ""
             }
            },
            "marker": {
             "colorbar": {
              "outlinewidth": 0,
              "ticks": ""
             }
            },
            "type": "scatter3d"
           }
          ],
          "scattercarpet": [
           {
            "marker": {
             "colorbar": {
              "outlinewidth": 0,
              "ticks": ""
             }
            },
            "type": "scattercarpet"
           }
          ],
          "scattergeo": [
           {
            "marker": {
             "colorbar": {
              "outlinewidth": 0,
              "ticks": ""
             }
            },
            "type": "scattergeo"
           }
          ],
          "scattergl": [
           {
            "marker": {
             "colorbar": {
              "outlinewidth": 0,
              "ticks": ""
             }
            },
            "type": "scattergl"
           }
          ],
          "scattermapbox": [
           {
            "marker": {
             "colorbar": {
              "outlinewidth": 0,
              "ticks": ""
             }
            },
            "type": "scattermapbox"
           }
          ],
          "scatterpolar": [
           {
            "marker": {
             "colorbar": {
              "outlinewidth": 0,
              "ticks": ""
             }
            },
            "type": "scatterpolar"
           }
          ],
          "scatterpolargl": [
           {
            "marker": {
             "colorbar": {
              "outlinewidth": 0,
              "ticks": ""
             }
            },
            "type": "scatterpolargl"
           }
          ],
          "scatterternary": [
           {
            "marker": {
             "colorbar": {
              "outlinewidth": 0,
              "ticks": ""
             }
            },
            "type": "scatterternary"
           }
          ],
          "surface": [
           {
            "colorbar": {
             "outlinewidth": 0,
             "ticks": ""
            },
            "colorscale": [
             [
              0,
              "#0d0887"
             ],
             [
              0.1111111111111111,
              "#46039f"
             ],
             [
              0.2222222222222222,
              "#7201a8"
             ],
             [
              0.3333333333333333,
              "#9c179e"
             ],
             [
              0.4444444444444444,
              "#bd3786"
             ],
             [
              0.5555555555555556,
              "#d8576b"
             ],
             [
              0.6666666666666666,
              "#ed7953"
             ],
             [
              0.7777777777777778,
              "#fb9f3a"
             ],
             [
              0.8888888888888888,
              "#fdca26"
             ],
             [
              1,
              "#f0f921"
             ]
            ],
            "type": "surface"
           }
          ],
          "table": [
           {
            "cells": {
             "fill": {
              "color": "#EBF0F8"
             },
             "line": {
              "color": "white"
             }
            },
            "header": {
             "fill": {
              "color": "#C8D4E3"
             },
             "line": {
              "color": "white"
             }
            },
            "type": "table"
           }
          ]
         },
         "layout": {
          "annotationdefaults": {
           "arrowcolor": "#2a3f5f",
           "arrowhead": 0,
           "arrowwidth": 1
          },
          "autotypenumbers": "strict",
          "coloraxis": {
           "colorbar": {
            "outlinewidth": 0,
            "ticks": ""
           }
          },
          "colorscale": {
           "diverging": [
            [
             0,
             "#8e0152"
            ],
            [
             0.1,
             "#c51b7d"
            ],
            [
             0.2,
             "#de77ae"
            ],
            [
             0.3,
             "#f1b6da"
            ],
            [
             0.4,
             "#fde0ef"
            ],
            [
             0.5,
             "#f7f7f7"
            ],
            [
             0.6,
             "#e6f5d0"
            ],
            [
             0.7,
             "#b8e186"
            ],
            [
             0.8,
             "#7fbc41"
            ],
            [
             0.9,
             "#4d9221"
            ],
            [
             1,
             "#276419"
            ]
           ],
           "sequential": [
            [
             0,
             "#0d0887"
            ],
            [
             0.1111111111111111,
             "#46039f"
            ],
            [
             0.2222222222222222,
             "#7201a8"
            ],
            [
             0.3333333333333333,
             "#9c179e"
            ],
            [
             0.4444444444444444,
             "#bd3786"
            ],
            [
             0.5555555555555556,
             "#d8576b"
            ],
            [
             0.6666666666666666,
             "#ed7953"
            ],
            [
             0.7777777777777778,
             "#fb9f3a"
            ],
            [
             0.8888888888888888,
             "#fdca26"
            ],
            [
             1,
             "#f0f921"
            ]
           ],
           "sequentialminus": [
            [
             0,
             "#0d0887"
            ],
            [
             0.1111111111111111,
             "#46039f"
            ],
            [
             0.2222222222222222,
             "#7201a8"
            ],
            [
             0.3333333333333333,
             "#9c179e"
            ],
            [
             0.4444444444444444,
             "#bd3786"
            ],
            [
             0.5555555555555556,
             "#d8576b"
            ],
            [
             0.6666666666666666,
             "#ed7953"
            ],
            [
             0.7777777777777778,
             "#fb9f3a"
            ],
            [
             0.8888888888888888,
             "#fdca26"
            ],
            [
             1,
             "#f0f921"
            ]
           ]
          },
          "colorway": [
           "#636efa",
           "#EF553B",
           "#00cc96",
           "#ab63fa",
           "#FFA15A",
           "#19d3f3",
           "#FF6692",
           "#B6E880",
           "#FF97FF",
           "#FECB52"
          ],
          "font": {
           "color": "#2a3f5f"
          },
          "geo": {
           "bgcolor": "white",
           "lakecolor": "white",
           "landcolor": "#E5ECF6",
           "showlakes": true,
           "showland": true,
           "subunitcolor": "white"
          },
          "hoverlabel": {
           "align": "left"
          },
          "hovermode": "closest",
          "mapbox": {
           "style": "light"
          },
          "paper_bgcolor": "white",
          "plot_bgcolor": "#E5ECF6",
          "polar": {
           "angularaxis": {
            "gridcolor": "white",
            "linecolor": "white",
            "ticks": ""
           },
           "bgcolor": "#E5ECF6",
           "radialaxis": {
            "gridcolor": "white",
            "linecolor": "white",
            "ticks": ""
           }
          },
          "scene": {
           "xaxis": {
            "backgroundcolor": "#E5ECF6",
            "gridcolor": "white",
            "gridwidth": 2,
            "linecolor": "white",
            "showbackground": true,
            "ticks": "",
            "zerolinecolor": "white"
           },
           "yaxis": {
            "backgroundcolor": "#E5ECF6",
            "gridcolor": "white",
            "gridwidth": 2,
            "linecolor": "white",
            "showbackground": true,
            "ticks": "",
            "zerolinecolor": "white"
           },
           "zaxis": {
            "backgroundcolor": "#E5ECF6",
            "gridcolor": "white",
            "gridwidth": 2,
            "linecolor": "white",
            "showbackground": true,
            "ticks": "",
            "zerolinecolor": "white"
           }
          },
          "shapedefaults": {
           "line": {
            "color": "#2a3f5f"
           }
          },
          "ternary": {
           "aaxis": {
            "gridcolor": "white",
            "linecolor": "white",
            "ticks": ""
           },
           "baxis": {
            "gridcolor": "white",
            "linecolor": "white",
            "ticks": ""
           },
           "bgcolor": "#E5ECF6",
           "caxis": {
            "gridcolor": "white",
            "linecolor": "white",
            "ticks": ""
           }
          },
          "title": {
           "x": 0.05
          },
          "xaxis": {
           "automargin": true,
           "gridcolor": "white",
           "linecolor": "white",
           "ticks": "",
           "title": {
            "standoff": 15
           },
           "zerolinecolor": "white",
           "zerolinewidth": 2
          },
          "yaxis": {
           "automargin": true,
           "gridcolor": "white",
           "linecolor": "white",
           "ticks": "",
           "title": {
            "standoff": 15
           },
           "zerolinecolor": "white",
           "zerolinewidth": 2
          }
         }
        },
        "title": {
         "text": "Histogram of Difference of Duration per Time and Vertex"
        },
        "width": 500,
        "xaxis": {
         "anchor": "y",
         "autorange": true,
         "domain": [
          0,
          1
         ],
         "range": [
          -1.4000000000000004,
          -1.942890293094024e-16
         ],
         "title": {
          "text": "Difference of Duration per Time and Vertex"
         },
         "type": "linear"
        },
        "yaxis": {
         "anchor": "x",
         "autorange": true,
         "domain": [
          0,
          1
         ],
         "range": [
          0,
          34.73684210526316
         ],
         "title": {
          "text": "Count"
         }
        }
       }
      },
      "text/html": [
       "<div>                            <div id=\"4e4da20e-68b3-4b73-b34d-47dfc34334a7\" class=\"plotly-graph-div\" style=\"height:300px; width:500px;\"></div>            <script type=\"text/javascript\">                require([\"plotly\"], function(Plotly) {                    window.PLOTLYENV=window.PLOTLYENV || {};                                    if (document.getElementById(\"4e4da20e-68b3-4b73-b34d-47dfc34334a7\")) {                    Plotly.newPlot(                        \"4e4da20e-68b3-4b73-b34d-47dfc34334a7\",                        [{\"alignmentgroup\":\"True\",\"bingroup\":\"x\",\"hovertemplate\":\"variable=diff_seq_duration_per_time_and_vertex\\u003cbr\\u003evalue=%{x}\\u003cbr\\u003ecount=%{y}\\u003cextra\\u003e\\u003c\\u002fextra\\u003e\",\"legendgroup\":\"diff_seq_duration_per_time_and_vertex\",\"marker\":{\"color\":\"#636efa\",\"pattern\":{\"shape\":\"\"}},\"name\":\"diff_seq_duration_per_time_and_vertex\",\"nbinsx\":10,\"offsetgroup\":\"diff_seq_duration_per_time_and_vertex\",\"orientation\":\"v\",\"showlegend\":true,\"x\":[null,-1.210833579669764,-1.2474447547653575,-1.1003635372434344,-1.1249870493298486,-0.5460392713175385,-0.7188327403083398,-0.6715162202163979,-0.7801045606165756,-0.6022384240513756,-0.7309326603299096,-1.063324057461688,-1.3672339310898587,-1.061064628171332,-1.0556533224788711,-1.1093246471314204,-1.3331608352207005,-0.4935766169586657,-0.7216147210367744,-0.6129080639945136,-0.7822175929575791,-0.6512585770516168,-0.6400446165175665,-1.0860460660167943,-1.1967202817168192,-1.0865815646854449,-0.7294865190246959,-1.149831816128322,-1.2286636136827014,-0.7612593481102465,-0.6616920235001038,-0.3735771745811274,-0.8013592522821309,-0.4230439214479356,-0.6307076601755052,-1.1713641867459377,-1.0510107181525306,-0.8327274484398924,-0.6395632599606926,-1.1771470217477709,-1.0090821856544132,-0.535053695362305,-0.545000573853466,-0.4265103852307355,-0.4195368284060631,-0.5236229743276324,-0.491001017888387,-0.42149738166191125,-0.6050977539050616,-0.49600630866156686,-0.6512286671885738,-0.5014410359518868,-0.6868007387433733,-0.3793879604785242,-0.5251195111378703,-0.3060651614342207,-0.606295746932795,-0.41178532611756097,-0.4635149853570121,-0.20553838285701667,-0.4878161885656672,-0.2531263335251514,-0.2776943774870884,-0.24072180702572776,-0.20663882550739107,-0.5165617348620454,-0.6903555993350495,-0.577446522977617,-0.48488709661695695,-0.5295987571988787,-0.565743130729312,-0.31564550165818117,-0.5566010712834534,-0.3518194072040511,-0.5100087139341566,-0.26800436349142165,-0.2742613009044102,-0.27408153973635857,-0.48033084928803726,-0.2454146448476815,-0.4168694340152505,-0.16721335933322,-0.6680303267070226,-0.4568935979935239,-0.688535013971299,-0.3007754197827092,-0.4796361369851195,-0.31930978638785223,-0.45776766481853665,-0.30279135232402526,-0.475007170680156,-0.3348459797140993,-0.5054912505326448,-0.2488793702352615,-0.32663506326221287,-0.16827317138327244,-0.2842753597509081,-0.13827648795681236,-0.27449983932353833,-0.13276851461047218,-0.2672082185745239,-0.4332338323102934,-0.39954878763989127,-0.34699125157462224,-0.3942408273249496,-0.4426413411185855,-0.36849489098503474,-0.2360765377309092,-0.30149730744762954,-0.1929437228191046,-0.27774587089632763,-0.2648005139260065,-0.24613954453241255,-0.12830799784615776,-0.2131051760967647,-0.10842166285455963,-0.17248743846092696,-0.124445759114765,-0.1650976987112136],\"xaxis\":\"x\",\"yaxis\":\"y\",\"type\":\"histogram\"}],                        {\"template\":{\"data\":{\"histogram2dcontour\":[{\"type\":\"histogram2dcontour\",\"colorbar\":{\"outlinewidth\":0,\"ticks\":\"\"},\"colorscale\":[[0.0,\"#0d0887\"],[0.1111111111111111,\"#46039f\"],[0.2222222222222222,\"#7201a8\"],[0.3333333333333333,\"#9c179e\"],[0.4444444444444444,\"#bd3786\"],[0.5555555555555556,\"#d8576b\"],[0.6666666666666666,\"#ed7953\"],[0.7777777777777778,\"#fb9f3a\"],[0.8888888888888888,\"#fdca26\"],[1.0,\"#f0f921\"]]}],\"choropleth\":[{\"type\":\"choropleth\",\"colorbar\":{\"outlinewidth\":0,\"ticks\":\"\"}}],\"histogram2d\":[{\"type\":\"histogram2d\",\"colorbar\":{\"outlinewidth\":0,\"ticks\":\"\"},\"colorscale\":[[0.0,\"#0d0887\"],[0.1111111111111111,\"#46039f\"],[0.2222222222222222,\"#7201a8\"],[0.3333333333333333,\"#9c179e\"],[0.4444444444444444,\"#bd3786\"],[0.5555555555555556,\"#d8576b\"],[0.6666666666666666,\"#ed7953\"],[0.7777777777777778,\"#fb9f3a\"],[0.8888888888888888,\"#fdca26\"],[1.0,\"#f0f921\"]]}],\"heatmap\":[{\"type\":\"heatmap\",\"colorbar\":{\"outlinewidth\":0,\"ticks\":\"\"},\"colorscale\":[[0.0,\"#0d0887\"],[0.1111111111111111,\"#46039f\"],[0.2222222222222222,\"#7201a8\"],[0.3333333333333333,\"#9c179e\"],[0.4444444444444444,\"#bd3786\"],[0.5555555555555556,\"#d8576b\"],[0.6666666666666666,\"#ed7953\"],[0.7777777777777778,\"#fb9f3a\"],[0.8888888888888888,\"#fdca26\"],[1.0,\"#f0f921\"]]}],\"heatmapgl\":[{\"type\":\"heatmapgl\",\"colorbar\":{\"outlinewidth\":0,\"ticks\":\"\"},\"colorscale\":[[0.0,\"#0d0887\"],[0.1111111111111111,\"#46039f\"],[0.2222222222222222,\"#7201a8\"],[0.3333333333333333,\"#9c179e\"],[0.4444444444444444,\"#bd3786\"],[0.5555555555555556,\"#d8576b\"],[0.6666666666666666,\"#ed7953\"],[0.7777777777777778,\"#fb9f3a\"],[0.8888888888888888,\"#fdca26\"],[1.0,\"#f0f921\"]]}],\"contourcarpet\":[{\"type\":\"contourcarpet\",\"colorbar\":{\"outlinewidth\":0,\"ticks\":\"\"}}],\"contour\":[{\"type\":\"contour\",\"colorbar\":{\"outlinewidth\":0,\"ticks\":\"\"},\"colorscale\":[[0.0,\"#0d0887\"],[0.1111111111111111,\"#46039f\"],[0.2222222222222222,\"#7201a8\"],[0.3333333333333333,\"#9c179e\"],[0.4444444444444444,\"#bd3786\"],[0.5555555555555556,\"#d8576b\"],[0.6666666666666666,\"#ed7953\"],[0.7777777777777778,\"#fb9f3a\"],[0.8888888888888888,\"#fdca26\"],[1.0,\"#f0f921\"]]}],\"surface\":[{\"type\":\"surface\",\"colorbar\":{\"outlinewidth\":0,\"ticks\":\"\"},\"colorscale\":[[0.0,\"#0d0887\"],[0.1111111111111111,\"#46039f\"],[0.2222222222222222,\"#7201a8\"],[0.3333333333333333,\"#9c179e\"],[0.4444444444444444,\"#bd3786\"],[0.5555555555555556,\"#d8576b\"],[0.6666666666666666,\"#ed7953\"],[0.7777777777777778,\"#fb9f3a\"],[0.8888888888888888,\"#fdca26\"],[1.0,\"#f0f921\"]]}],\"mesh3d\":[{\"type\":\"mesh3d\",\"colorbar\":{\"outlinewidth\":0,\"ticks\":\"\"}}],\"scatter\":[{\"fillpattern\":{\"fillmode\":\"overlay\",\"size\":10,\"solidity\":0.2},\"type\":\"scatter\"}],\"parcoords\":[{\"type\":\"parcoords\",\"line\":{\"colorbar\":{\"outlinewidth\":0,\"ticks\":\"\"}}}],\"scatterpolargl\":[{\"type\":\"scatterpolargl\",\"marker\":{\"colorbar\":{\"outlinewidth\":0,\"ticks\":\"\"}}}],\"bar\":[{\"error_x\":{\"color\":\"#2a3f5f\"},\"error_y\":{\"color\":\"#2a3f5f\"},\"marker\":{\"line\":{\"color\":\"#E5ECF6\",\"width\":0.5},\"pattern\":{\"fillmode\":\"overlay\",\"size\":10,\"solidity\":0.2}},\"type\":\"bar\"}],\"scattergeo\":[{\"type\":\"scattergeo\",\"marker\":{\"colorbar\":{\"outlinewidth\":0,\"ticks\":\"\"}}}],\"scatterpolar\":[{\"type\":\"scatterpolar\",\"marker\":{\"colorbar\":{\"outlinewidth\":0,\"ticks\":\"\"}}}],\"histogram\":[{\"marker\":{\"pattern\":{\"fillmode\":\"overlay\",\"size\":10,\"solidity\":0.2}},\"type\":\"histogram\"}],\"scattergl\":[{\"type\":\"scattergl\",\"marker\":{\"colorbar\":{\"outlinewidth\":0,\"ticks\":\"\"}}}],\"scatter3d\":[{\"type\":\"scatter3d\",\"line\":{\"colorbar\":{\"outlinewidth\":0,\"ticks\":\"\"}},\"marker\":{\"colorbar\":{\"outlinewidth\":0,\"ticks\":\"\"}}}],\"scattermapbox\":[{\"type\":\"scattermapbox\",\"marker\":{\"colorbar\":{\"outlinewidth\":0,\"ticks\":\"\"}}}],\"scatterternary\":[{\"type\":\"scatterternary\",\"marker\":{\"colorbar\":{\"outlinewidth\":0,\"ticks\":\"\"}}}],\"scattercarpet\":[{\"type\":\"scattercarpet\",\"marker\":{\"colorbar\":{\"outlinewidth\":0,\"ticks\":\"\"}}}],\"carpet\":[{\"aaxis\":{\"endlinecolor\":\"#2a3f5f\",\"gridcolor\":\"white\",\"linecolor\":\"white\",\"minorgridcolor\":\"white\",\"startlinecolor\":\"#2a3f5f\"},\"baxis\":{\"endlinecolor\":\"#2a3f5f\",\"gridcolor\":\"white\",\"linecolor\":\"white\",\"minorgridcolor\":\"white\",\"startlinecolor\":\"#2a3f5f\"},\"type\":\"carpet\"}],\"table\":[{\"cells\":{\"fill\":{\"color\":\"#EBF0F8\"},\"line\":{\"color\":\"white\"}},\"header\":{\"fill\":{\"color\":\"#C8D4E3\"},\"line\":{\"color\":\"white\"}},\"type\":\"table\"}],\"barpolar\":[{\"marker\":{\"line\":{\"color\":\"#E5ECF6\",\"width\":0.5},\"pattern\":{\"fillmode\":\"overlay\",\"size\":10,\"solidity\":0.2}},\"type\":\"barpolar\"}],\"pie\":[{\"automargin\":true,\"type\":\"pie\"}]},\"layout\":{\"autotypenumbers\":\"strict\",\"colorway\":[\"#636efa\",\"#EF553B\",\"#00cc96\",\"#ab63fa\",\"#FFA15A\",\"#19d3f3\",\"#FF6692\",\"#B6E880\",\"#FF97FF\",\"#FECB52\"],\"font\":{\"color\":\"#2a3f5f\"},\"hovermode\":\"closest\",\"hoverlabel\":{\"align\":\"left\"},\"paper_bgcolor\":\"white\",\"plot_bgcolor\":\"#E5ECF6\",\"polar\":{\"bgcolor\":\"#E5ECF6\",\"angularaxis\":{\"gridcolor\":\"white\",\"linecolor\":\"white\",\"ticks\":\"\"},\"radialaxis\":{\"gridcolor\":\"white\",\"linecolor\":\"white\",\"ticks\":\"\"}},\"ternary\":{\"bgcolor\":\"#E5ECF6\",\"aaxis\":{\"gridcolor\":\"white\",\"linecolor\":\"white\",\"ticks\":\"\"},\"baxis\":{\"gridcolor\":\"white\",\"linecolor\":\"white\",\"ticks\":\"\"},\"caxis\":{\"gridcolor\":\"white\",\"linecolor\":\"white\",\"ticks\":\"\"}},\"coloraxis\":{\"colorbar\":{\"outlinewidth\":0,\"ticks\":\"\"}},\"colorscale\":{\"sequential\":[[0.0,\"#0d0887\"],[0.1111111111111111,\"#46039f\"],[0.2222222222222222,\"#7201a8\"],[0.3333333333333333,\"#9c179e\"],[0.4444444444444444,\"#bd3786\"],[0.5555555555555556,\"#d8576b\"],[0.6666666666666666,\"#ed7953\"],[0.7777777777777778,\"#fb9f3a\"],[0.8888888888888888,\"#fdca26\"],[1.0,\"#f0f921\"]],\"sequentialminus\":[[0.0,\"#0d0887\"],[0.1111111111111111,\"#46039f\"],[0.2222222222222222,\"#7201a8\"],[0.3333333333333333,\"#9c179e\"],[0.4444444444444444,\"#bd3786\"],[0.5555555555555556,\"#d8576b\"],[0.6666666666666666,\"#ed7953\"],[0.7777777777777778,\"#fb9f3a\"],[0.8888888888888888,\"#fdca26\"],[1.0,\"#f0f921\"]],\"diverging\":[[0,\"#8e0152\"],[0.1,\"#c51b7d\"],[0.2,\"#de77ae\"],[0.3,\"#f1b6da\"],[0.4,\"#fde0ef\"],[0.5,\"#f7f7f7\"],[0.6,\"#e6f5d0\"],[0.7,\"#b8e186\"],[0.8,\"#7fbc41\"],[0.9,\"#4d9221\"],[1,\"#276419\"]]},\"xaxis\":{\"gridcolor\":\"white\",\"linecolor\":\"white\",\"ticks\":\"\",\"title\":{\"standoff\":15},\"zerolinecolor\":\"white\",\"automargin\":true,\"zerolinewidth\":2},\"yaxis\":{\"gridcolor\":\"white\",\"linecolor\":\"white\",\"ticks\":\"\",\"title\":{\"standoff\":15},\"zerolinecolor\":\"white\",\"automargin\":true,\"zerolinewidth\":2},\"scene\":{\"xaxis\":{\"backgroundcolor\":\"#E5ECF6\",\"gridcolor\":\"white\",\"linecolor\":\"white\",\"showbackground\":true,\"ticks\":\"\",\"zerolinecolor\":\"white\",\"gridwidth\":2},\"yaxis\":{\"backgroundcolor\":\"#E5ECF6\",\"gridcolor\":\"white\",\"linecolor\":\"white\",\"showbackground\":true,\"ticks\":\"\",\"zerolinecolor\":\"white\",\"gridwidth\":2},\"zaxis\":{\"backgroundcolor\":\"#E5ECF6\",\"gridcolor\":\"white\",\"linecolor\":\"white\",\"showbackground\":true,\"ticks\":\"\",\"zerolinecolor\":\"white\",\"gridwidth\":2}},\"shapedefaults\":{\"line\":{\"color\":\"#2a3f5f\"}},\"annotationdefaults\":{\"arrowcolor\":\"#2a3f5f\",\"arrowhead\":0,\"arrowwidth\":1},\"geo\":{\"bgcolor\":\"white\",\"landcolor\":\"#E5ECF6\",\"subunitcolor\":\"white\",\"showland\":true,\"showlakes\":true,\"lakecolor\":\"white\"},\"title\":{\"x\":0.05},\"mapbox\":{\"style\":\"light\"}}},\"xaxis\":{\"anchor\":\"y\",\"domain\":[0.0,1.0],\"title\":{\"text\":\"Difference of Duration per Time and Vertex\"}},\"yaxis\":{\"anchor\":\"x\",\"domain\":[0.0,1.0],\"title\":{\"text\":\"Count\"}},\"legend\":{\"title\":{\"text\":\"variable\"},\"tracegroupgap\":0},\"margin\":{\"t\":60},\"barmode\":\"relative\",\"title\":{\"text\":\"Histogram of Difference of Duration per Time and Vertex\"},\"showlegend\":false,\"width\":500,\"height\":300},                        {\"responsive\": true}                    ).then(function(){\n",
       "                            \n",
       "var gd = document.getElementById('4e4da20e-68b3-4b73-b34d-47dfc34334a7');\n",
       "var x = new MutationObserver(function (mutations, observer) {{\n",
       "        var display = window.getComputedStyle(gd).display;\n",
       "        if (!display || display === 'none') {{\n",
       "            console.log([gd, 'removed!']);\n",
       "            Plotly.purge(gd);\n",
       "            observer.disconnect();\n",
       "        }}\n",
       "}});\n",
       "\n",
       "// Listen for the removal of the full notebook cells\n",
       "var notebookContainer = gd.closest('#notebook-container');\n",
       "if (notebookContainer) {{\n",
       "    x.observe(notebookContainer, {childList: true});\n",
       "}}\n",
       "\n",
       "// Listen for the clearing of the current output cell\n",
       "var outputEl = gd.closest('.output');\n",
       "if (outputEl) {{\n",
       "    x.observe(outputEl, {childList: true});\n",
       "}}\n",
       "\n",
       "                        })                };                });            </script>        </div>"
      ]
     },
     "metadata": {},
     "output_type": "display_data"
    }
   ],
   "source": [
    "fig = px.histogram(df[\"diff_seq_duration_per_time_and_vertex\"], nbins=10)\n",
    "fig.update_layout(\n",
    "    title=\"Histogram of Difference of Duration per Time and Vertex\",\n",
    "    xaxis_title=\"Difference of Duration per Time and Vertex\",\n",
    "    yaxis_title=\"Count\",\n",
    "    showlegend=False,\n",
    "    width=500,\n",
    "    height=300,\n",
    ")"
   ]
  },
  {
   "cell_type": "markdown",
   "id": "e9ecc101-7a25-457f-bbdf-d87e6a6d86bf",
   "metadata": {},
   "source": [
    "## Histograms"
   ]
  },
  {
   "cell_type": "markdown",
   "id": "cb671d96-0816-4e3b-9d82-fe7664f304e0",
   "metadata": {},
   "source": [
    "We write a function that can plot more sophisticated histograms, by grouping according to a given variable `by`."
   ]
  },
  {
   "cell_type": "code",
   "execution_count": 39,
   "id": "c7707f8e-7e97-4c16-b2f2-6e9d2a78bb81",
   "metadata": {},
   "outputs": [],
   "source": [
    "def hist_diff_seq_per_time_vertex_diameter_group(by=\"n_steps\"):\n",
    "    grouped_data = df.groupby(by)[\"diff_seq_per_time_vertex_diameter\"]\n",
    "    fig = go.Figure()\n",
    "\n",
    "    for name, group in grouped_data:\n",
    "        fig.add_trace(go.Histogram(x=group, opacity=0.5, name=f\"{by} = {name}\"))\n",
    "\n",
    "    fig.update_layout(\n",
    "        title=COL_TO_TEXT[\"diff_seq_per_time_vertex_diameter\"],\n",
    "        showlegend=True,\n",
    "        width=600,  # Set the width of the figure to 500\n",
    "        height=400,\n",
    "    )\n",
    "\n",
    "    fig.show()"
   ]
  },
  {
   "cell_type": "code",
   "execution_count": 40,
   "id": "87293daa",
   "metadata": {},
   "outputs": [
    {
     "data": {
      "application/vnd.plotly.v1+json": {
       "config": {
        "plotlyServerURL": "https://plot.ly"
       },
       "data": [
        {
         "name": "n_steps = 3",
         "opacity": 0.5,
         "type": "histogram",
         "x": [
          0.01313735372449914,
          0.019084633032199785,
          0.026556473793114044,
          0.03870378347331896,
          0.03980275939672403,
          0.06706875703111467,
          0.006356866691044428,
          0.009833283129763098,
          0.012522560892494062,
          0.019772015759102743,
          0.025409559973124503,
          0.032875015823617265,
          0.0012720480548727496,
          0.0018403549966686224,
          0.0025592592724116604,
          0.003628072582555789,
          0.004986855573360426,
          0.007156726042218727,
          0.0001243197639747209,
          0.00018517409697173785,
          0.0002485757253418346,
          0.0003880899393619224,
          0.0004566107516589933,
          0.0008015128242640662
         ]
        },
        {
         "name": "n_steps = 5",
         "opacity": 0.5,
         "type": "histogram",
         "x": [
          0.012722248071556985,
          0.01828454121960764,
          0.025138463461797583,
          0.03640458571779377,
          0.04596387221335714,
          0.075822519623052,
          0.006370635089835703,
          0.00916597819519388,
          0.012740018820119634,
          0.018216753584142792,
          0.022394893387927182,
          0.03469958028372781,
          0.0012930266229484553,
          0.0018986759774876404,
          0.002619277563392499,
          0.003755588854035724,
          0.005029021777936061,
          0.0063879851810367694,
          0.00012237408690654835,
          0.00018316229712155385,
          0.00022908951135571548,
          0.000350574343646998,
          0.000530166909213069,
          0.0008216171024563167
         ]
        },
        {
         "name": "n_steps = 8",
         "opacity": 0.5,
         "type": "histogram",
         "x": [
          0.012776817415536053,
          0.01843962070385627,
          0.02450857707413368,
          0.0370212221197801,
          0.045409491086853195,
          0.07422176266844123,
          0.006178736164286289,
          0.009446698410940264,
          0.012161584834889196,
          0.018603715828937432,
          0.02555670034372129,
          0.03330126076678046,
          0.001309776317152431,
          0.0018624301899789577,
          0.0026033625929028025,
          0.0036138446064247778,
          0.004838159941333491,
          0.007067984655224869,
          0.0001284499908967488,
          0.00017959967870398024,
          0.00025371048470556093,
          0.000369493790548964,
          0.0004805053190920164,
          0.0006584292978305597
         ]
        },
        {
         "name": "n_steps = 10",
         "opacity": 0.5,
         "type": "histogram",
         "x": [
          0.012626218324480331,
          0.018551256171911716,
          0.024396536244089443,
          0.03717709632640312,
          0.047529445816325566,
          0.0689150631546906,
          0.0064390363523516665,
          0.009462125934873116,
          0.012981073260237737,
          0.01774706642414927,
          0.021545185010005484,
          0.03370336467231981,
          0.0012913940869565283,
          0.001868512792287022,
          0.002493122345046038,
          0.003717290468395295,
          0.004578764763836212,
          0.006606132467297124,
          0.00012339861026977928,
          0.00018563636754414292,
          0.0002383368948300347,
          0.00037027052430543936,
          0.00044555162215775986,
          0.000707565942213889
         ]
        },
        {
         "name": "n_steps = 20",
         "opacity": 0.5,
         "type": "histogram",
         "x": [
          null,
          0.026759802367092692,
          0.03583311669855731,
          0.0499333915286153,
          0.07520169167526024,
          0.0063474668076103314,
          0.009437752671772574,
          0.012683964520459732,
          0.0190922242294084,
          0.02723480144222524,
          0.032943406979414364,
          0.0012679274004068048,
          0.0018599847745473257,
          0.00261587385966475,
          0.0036166857725996072,
          0.004464351103427216,
          0.00777115073689134,
          0.00012591014576019246,
          0.00018411093105868368,
          0.00025121507371967067,
          0.0003617567841740864,
          0.0004644217999052358,
          0.000729096853299609
         ]
        }
       ],
       "layout": {
        "height": 400,
        "showlegend": true,
        "template": {
         "data": {
          "bar": [
           {
            "error_x": {
             "color": "#2a3f5f"
            },
            "error_y": {
             "color": "#2a3f5f"
            },
            "marker": {
             "line": {
              "color": "#E5ECF6",
              "width": 0.5
             },
             "pattern": {
              "fillmode": "overlay",
              "size": 10,
              "solidity": 0.2
             }
            },
            "type": "bar"
           }
          ],
          "barpolar": [
           {
            "marker": {
             "line": {
              "color": "#E5ECF6",
              "width": 0.5
             },
             "pattern": {
              "fillmode": "overlay",
              "size": 10,
              "solidity": 0.2
             }
            },
            "type": "barpolar"
           }
          ],
          "carpet": [
           {
            "aaxis": {
             "endlinecolor": "#2a3f5f",
             "gridcolor": "white",
             "linecolor": "white",
             "minorgridcolor": "white",
             "startlinecolor": "#2a3f5f"
            },
            "baxis": {
             "endlinecolor": "#2a3f5f",
             "gridcolor": "white",
             "linecolor": "white",
             "minorgridcolor": "white",
             "startlinecolor": "#2a3f5f"
            },
            "type": "carpet"
           }
          ],
          "choropleth": [
           {
            "colorbar": {
             "outlinewidth": 0,
             "ticks": ""
            },
            "type": "choropleth"
           }
          ],
          "contour": [
           {
            "colorbar": {
             "outlinewidth": 0,
             "ticks": ""
            },
            "colorscale": [
             [
              0,
              "#0d0887"
             ],
             [
              0.1111111111111111,
              "#46039f"
             ],
             [
              0.2222222222222222,
              "#7201a8"
             ],
             [
              0.3333333333333333,
              "#9c179e"
             ],
             [
              0.4444444444444444,
              "#bd3786"
             ],
             [
              0.5555555555555556,
              "#d8576b"
             ],
             [
              0.6666666666666666,
              "#ed7953"
             ],
             [
              0.7777777777777778,
              "#fb9f3a"
             ],
             [
              0.8888888888888888,
              "#fdca26"
             ],
             [
              1,
              "#f0f921"
             ]
            ],
            "type": "contour"
           }
          ],
          "contourcarpet": [
           {
            "colorbar": {
             "outlinewidth": 0,
             "ticks": ""
            },
            "type": "contourcarpet"
           }
          ],
          "heatmap": [
           {
            "colorbar": {
             "outlinewidth": 0,
             "ticks": ""
            },
            "colorscale": [
             [
              0,
              "#0d0887"
             ],
             [
              0.1111111111111111,
              "#46039f"
             ],
             [
              0.2222222222222222,
              "#7201a8"
             ],
             [
              0.3333333333333333,
              "#9c179e"
             ],
             [
              0.4444444444444444,
              "#bd3786"
             ],
             [
              0.5555555555555556,
              "#d8576b"
             ],
             [
              0.6666666666666666,
              "#ed7953"
             ],
             [
              0.7777777777777778,
              "#fb9f3a"
             ],
             [
              0.8888888888888888,
              "#fdca26"
             ],
             [
              1,
              "#f0f921"
             ]
            ],
            "type": "heatmap"
           }
          ],
          "heatmapgl": [
           {
            "colorbar": {
             "outlinewidth": 0,
             "ticks": ""
            },
            "colorscale": [
             [
              0,
              "#0d0887"
             ],
             [
              0.1111111111111111,
              "#46039f"
             ],
             [
              0.2222222222222222,
              "#7201a8"
             ],
             [
              0.3333333333333333,
              "#9c179e"
             ],
             [
              0.4444444444444444,
              "#bd3786"
             ],
             [
              0.5555555555555556,
              "#d8576b"
             ],
             [
              0.6666666666666666,
              "#ed7953"
             ],
             [
              0.7777777777777778,
              "#fb9f3a"
             ],
             [
              0.8888888888888888,
              "#fdca26"
             ],
             [
              1,
              "#f0f921"
             ]
            ],
            "type": "heatmapgl"
           }
          ],
          "histogram": [
           {
            "marker": {
             "pattern": {
              "fillmode": "overlay",
              "size": 10,
              "solidity": 0.2
             }
            },
            "type": "histogram"
           }
          ],
          "histogram2d": [
           {
            "colorbar": {
             "outlinewidth": 0,
             "ticks": ""
            },
            "colorscale": [
             [
              0,
              "#0d0887"
             ],
             [
              0.1111111111111111,
              "#46039f"
             ],
             [
              0.2222222222222222,
              "#7201a8"
             ],
             [
              0.3333333333333333,
              "#9c179e"
             ],
             [
              0.4444444444444444,
              "#bd3786"
             ],
             [
              0.5555555555555556,
              "#d8576b"
             ],
             [
              0.6666666666666666,
              "#ed7953"
             ],
             [
              0.7777777777777778,
              "#fb9f3a"
             ],
             [
              0.8888888888888888,
              "#fdca26"
             ],
             [
              1,
              "#f0f921"
             ]
            ],
            "type": "histogram2d"
           }
          ],
          "histogram2dcontour": [
           {
            "colorbar": {
             "outlinewidth": 0,
             "ticks": ""
            },
            "colorscale": [
             [
              0,
              "#0d0887"
             ],
             [
              0.1111111111111111,
              "#46039f"
             ],
             [
              0.2222222222222222,
              "#7201a8"
             ],
             [
              0.3333333333333333,
              "#9c179e"
             ],
             [
              0.4444444444444444,
              "#bd3786"
             ],
             [
              0.5555555555555556,
              "#d8576b"
             ],
             [
              0.6666666666666666,
              "#ed7953"
             ],
             [
              0.7777777777777778,
              "#fb9f3a"
             ],
             [
              0.8888888888888888,
              "#fdca26"
             ],
             [
              1,
              "#f0f921"
             ]
            ],
            "type": "histogram2dcontour"
           }
          ],
          "mesh3d": [
           {
            "colorbar": {
             "outlinewidth": 0,
             "ticks": ""
            },
            "type": "mesh3d"
           }
          ],
          "parcoords": [
           {
            "line": {
             "colorbar": {
              "outlinewidth": 0,
              "ticks": ""
             }
            },
            "type": "parcoords"
           }
          ],
          "pie": [
           {
            "automargin": true,
            "type": "pie"
           }
          ],
          "scatter": [
           {
            "fillpattern": {
             "fillmode": "overlay",
             "size": 10,
             "solidity": 0.2
            },
            "type": "scatter"
           }
          ],
          "scatter3d": [
           {
            "line": {
             "colorbar": {
              "outlinewidth": 0,
              "ticks": ""
             }
            },
            "marker": {
             "colorbar": {
              "outlinewidth": 0,
              "ticks": ""
             }
            },
            "type": "scatter3d"
           }
          ],
          "scattercarpet": [
           {
            "marker": {
             "colorbar": {
              "outlinewidth": 0,
              "ticks": ""
             }
            },
            "type": "scattercarpet"
           }
          ],
          "scattergeo": [
           {
            "marker": {
             "colorbar": {
              "outlinewidth": 0,
              "ticks": ""
             }
            },
            "type": "scattergeo"
           }
          ],
          "scattergl": [
           {
            "marker": {
             "colorbar": {
              "outlinewidth": 0,
              "ticks": ""
             }
            },
            "type": "scattergl"
           }
          ],
          "scattermapbox": [
           {
            "marker": {
             "colorbar": {
              "outlinewidth": 0,
              "ticks": ""
             }
            },
            "type": "scattermapbox"
           }
          ],
          "scatterpolar": [
           {
            "marker": {
             "colorbar": {
              "outlinewidth": 0,
              "ticks": ""
             }
            },
            "type": "scatterpolar"
           }
          ],
          "scatterpolargl": [
           {
            "marker": {
             "colorbar": {
              "outlinewidth": 0,
              "ticks": ""
             }
            },
            "type": "scatterpolargl"
           }
          ],
          "scatterternary": [
           {
            "marker": {
             "colorbar": {
              "outlinewidth": 0,
              "ticks": ""
             }
            },
            "type": "scatterternary"
           }
          ],
          "surface": [
           {
            "colorbar": {
             "outlinewidth": 0,
             "ticks": ""
            },
            "colorscale": [
             [
              0,
              "#0d0887"
             ],
             [
              0.1111111111111111,
              "#46039f"
             ],
             [
              0.2222222222222222,
              "#7201a8"
             ],
             [
              0.3333333333333333,
              "#9c179e"
             ],
             [
              0.4444444444444444,
              "#bd3786"
             ],
             [
              0.5555555555555556,
              "#d8576b"
             ],
             [
              0.6666666666666666,
              "#ed7953"
             ],
             [
              0.7777777777777778,
              "#fb9f3a"
             ],
             [
              0.8888888888888888,
              "#fdca26"
             ],
             [
              1,
              "#f0f921"
             ]
            ],
            "type": "surface"
           }
          ],
          "table": [
           {
            "cells": {
             "fill": {
              "color": "#EBF0F8"
             },
             "line": {
              "color": "white"
             }
            },
            "header": {
             "fill": {
              "color": "#C8D4E3"
             },
             "line": {
              "color": "white"
             }
            },
            "type": "table"
           }
          ]
         },
         "layout": {
          "annotationdefaults": {
           "arrowcolor": "#2a3f5f",
           "arrowhead": 0,
           "arrowwidth": 1
          },
          "autotypenumbers": "strict",
          "coloraxis": {
           "colorbar": {
            "outlinewidth": 0,
            "ticks": ""
           }
          },
          "colorscale": {
           "diverging": [
            [
             0,
             "#8e0152"
            ],
            [
             0.1,
             "#c51b7d"
            ],
            [
             0.2,
             "#de77ae"
            ],
            [
             0.3,
             "#f1b6da"
            ],
            [
             0.4,
             "#fde0ef"
            ],
            [
             0.5,
             "#f7f7f7"
            ],
            [
             0.6,
             "#e6f5d0"
            ],
            [
             0.7,
             "#b8e186"
            ],
            [
             0.8,
             "#7fbc41"
            ],
            [
             0.9,
             "#4d9221"
            ],
            [
             1,
             "#276419"
            ]
           ],
           "sequential": [
            [
             0,
             "#0d0887"
            ],
            [
             0.1111111111111111,
             "#46039f"
            ],
            [
             0.2222222222222222,
             "#7201a8"
            ],
            [
             0.3333333333333333,
             "#9c179e"
            ],
            [
             0.4444444444444444,
             "#bd3786"
            ],
            [
             0.5555555555555556,
             "#d8576b"
            ],
            [
             0.6666666666666666,
             "#ed7953"
            ],
            [
             0.7777777777777778,
             "#fb9f3a"
            ],
            [
             0.8888888888888888,
             "#fdca26"
            ],
            [
             1,
             "#f0f921"
            ]
           ],
           "sequentialminus": [
            [
             0,
             "#0d0887"
            ],
            [
             0.1111111111111111,
             "#46039f"
            ],
            [
             0.2222222222222222,
             "#7201a8"
            ],
            [
             0.3333333333333333,
             "#9c179e"
            ],
            [
             0.4444444444444444,
             "#bd3786"
            ],
            [
             0.5555555555555556,
             "#d8576b"
            ],
            [
             0.6666666666666666,
             "#ed7953"
            ],
            [
             0.7777777777777778,
             "#fb9f3a"
            ],
            [
             0.8888888888888888,
             "#fdca26"
            ],
            [
             1,
             "#f0f921"
            ]
           ]
          },
          "colorway": [
           "#636efa",
           "#EF553B",
           "#00cc96",
           "#ab63fa",
           "#FFA15A",
           "#19d3f3",
           "#FF6692",
           "#B6E880",
           "#FF97FF",
           "#FECB52"
          ],
          "font": {
           "color": "#2a3f5f"
          },
          "geo": {
           "bgcolor": "white",
           "lakecolor": "white",
           "landcolor": "#E5ECF6",
           "showlakes": true,
           "showland": true,
           "subunitcolor": "white"
          },
          "hoverlabel": {
           "align": "left"
          },
          "hovermode": "closest",
          "mapbox": {
           "style": "light"
          },
          "paper_bgcolor": "white",
          "plot_bgcolor": "#E5ECF6",
          "polar": {
           "angularaxis": {
            "gridcolor": "white",
            "linecolor": "white",
            "ticks": ""
           },
           "bgcolor": "#E5ECF6",
           "radialaxis": {
            "gridcolor": "white",
            "linecolor": "white",
            "ticks": ""
           }
          },
          "scene": {
           "xaxis": {
            "backgroundcolor": "#E5ECF6",
            "gridcolor": "white",
            "gridwidth": 2,
            "linecolor": "white",
            "showbackground": true,
            "ticks": "",
            "zerolinecolor": "white"
           },
           "yaxis": {
            "backgroundcolor": "#E5ECF6",
            "gridcolor": "white",
            "gridwidth": 2,
            "linecolor": "white",
            "showbackground": true,
            "ticks": "",
            "zerolinecolor": "white"
           },
           "zaxis": {
            "backgroundcolor": "#E5ECF6",
            "gridcolor": "white",
            "gridwidth": 2,
            "linecolor": "white",
            "showbackground": true,
            "ticks": "",
            "zerolinecolor": "white"
           }
          },
          "shapedefaults": {
           "line": {
            "color": "#2a3f5f"
           }
          },
          "ternary": {
           "aaxis": {
            "gridcolor": "white",
            "linecolor": "white",
            "ticks": ""
           },
           "baxis": {
            "gridcolor": "white",
            "linecolor": "white",
            "ticks": ""
           },
           "bgcolor": "#E5ECF6",
           "caxis": {
            "gridcolor": "white",
            "linecolor": "white",
            "ticks": ""
           }
          },
          "title": {
           "x": 0.05
          },
          "xaxis": {
           "automargin": true,
           "gridcolor": "white",
           "linecolor": "white",
           "ticks": "",
           "title": {
            "standoff": 15
           },
           "zerolinecolor": "white",
           "zerolinewidth": 2
          },
          "yaxis": {
           "automargin": true,
           "gridcolor": "white",
           "linecolor": "white",
           "ticks": "",
           "title": {
            "standoff": 15
           },
           "zerolinecolor": "white",
           "zerolinewidth": 2
          }
         }
        },
        "title": {
         "text": "Mesh distance per vertex [% diameter]"
        },
        "width": 600,
        "xaxis": {
         "autorange": true,
         "range": [
          2.6020852139652106e-18,
          0.08000000000000002
         ],
         "type": "linear"
        },
        "yaxis": {
         "autorange": true,
         "range": [
          0,
          14.736842105263158
         ]
        }
       }
      },
      "text/html": [
       "<div>                            <div id=\"e1588278-7e38-45e3-af66-9a12a4653b66\" class=\"plotly-graph-div\" style=\"height:400px; width:600px;\"></div>            <script type=\"text/javascript\">                require([\"plotly\"], function(Plotly) {                    window.PLOTLYENV=window.PLOTLYENV || {};                                    if (document.getElementById(\"e1588278-7e38-45e3-af66-9a12a4653b66\")) {                    Plotly.newPlot(                        \"e1588278-7e38-45e3-af66-9a12a4653b66\",                        [{\"name\":\"n_steps = 3\",\"opacity\":0.5,\"x\":[0.01313735372449914,0.019084633032199785,0.026556473793114044,0.03870378347331896,0.03980275939672403,0.06706875703111467,0.006356866691044428,0.009833283129763098,0.012522560892494062,0.019772015759102743,0.025409559973124503,0.032875015823617265,0.0012720480548727496,0.0018403549966686224,0.0025592592724116604,0.003628072582555789,0.004986855573360426,0.007156726042218727,0.0001243197639747209,0.00018517409697173785,0.0002485757253418346,0.0003880899393619224,0.0004566107516589933,0.0008015128242640662],\"type\":\"histogram\"},{\"name\":\"n_steps = 5\",\"opacity\":0.5,\"x\":[0.012722248071556985,0.01828454121960764,0.025138463461797583,0.03640458571779377,0.04596387221335714,0.075822519623052,0.006370635089835703,0.00916597819519388,0.012740018820119634,0.018216753584142792,0.022394893387927182,0.03469958028372781,0.0012930266229484553,0.0018986759774876404,0.002619277563392499,0.003755588854035724,0.005029021777936061,0.0063879851810367694,0.00012237408690654835,0.00018316229712155385,0.00022908951135571548,0.000350574343646998,0.000530166909213069,0.0008216171024563167],\"type\":\"histogram\"},{\"name\":\"n_steps = 8\",\"opacity\":0.5,\"x\":[0.012776817415536053,0.01843962070385627,0.02450857707413368,0.0370212221197801,0.045409491086853195,0.07422176266844123,0.006178736164286289,0.009446698410940264,0.012161584834889196,0.018603715828937432,0.02555670034372129,0.03330126076678046,0.001309776317152431,0.0018624301899789577,0.0026033625929028025,0.0036138446064247778,0.004838159941333491,0.007067984655224869,0.0001284499908967488,0.00017959967870398024,0.00025371048470556093,0.000369493790548964,0.0004805053190920164,0.0006584292978305597],\"type\":\"histogram\"},{\"name\":\"n_steps = 10\",\"opacity\":0.5,\"x\":[0.012626218324480331,0.018551256171911716,0.024396536244089443,0.03717709632640312,0.047529445816325566,0.0689150631546906,0.0064390363523516665,0.009462125934873116,0.012981073260237737,0.01774706642414927,0.021545185010005484,0.03370336467231981,0.0012913940869565283,0.001868512792287022,0.002493122345046038,0.003717290468395295,0.004578764763836212,0.006606132467297124,0.00012339861026977928,0.00018563636754414292,0.0002383368948300347,0.00037027052430543936,0.00044555162215775986,0.000707565942213889],\"type\":\"histogram\"},{\"name\":\"n_steps = 20\",\"opacity\":0.5,\"x\":[null,0.026759802367092692,0.03583311669855731,0.0499333915286153,0.07520169167526024,0.0063474668076103314,0.009437752671772574,0.012683964520459732,0.0190922242294084,0.02723480144222524,0.032943406979414364,0.0012679274004068048,0.0018599847745473257,0.00261587385966475,0.0036166857725996072,0.004464351103427216,0.00777115073689134,0.00012591014576019246,0.00018411093105868368,0.00025121507371967067,0.0003617567841740864,0.0004644217999052358,0.000729096853299609],\"type\":\"histogram\"}],                        {\"template\":{\"data\":{\"histogram2dcontour\":[{\"type\":\"histogram2dcontour\",\"colorbar\":{\"outlinewidth\":0,\"ticks\":\"\"},\"colorscale\":[[0.0,\"#0d0887\"],[0.1111111111111111,\"#46039f\"],[0.2222222222222222,\"#7201a8\"],[0.3333333333333333,\"#9c179e\"],[0.4444444444444444,\"#bd3786\"],[0.5555555555555556,\"#d8576b\"],[0.6666666666666666,\"#ed7953\"],[0.7777777777777778,\"#fb9f3a\"],[0.8888888888888888,\"#fdca26\"],[1.0,\"#f0f921\"]]}],\"choropleth\":[{\"type\":\"choropleth\",\"colorbar\":{\"outlinewidth\":0,\"ticks\":\"\"}}],\"histogram2d\":[{\"type\":\"histogram2d\",\"colorbar\":{\"outlinewidth\":0,\"ticks\":\"\"},\"colorscale\":[[0.0,\"#0d0887\"],[0.1111111111111111,\"#46039f\"],[0.2222222222222222,\"#7201a8\"],[0.3333333333333333,\"#9c179e\"],[0.4444444444444444,\"#bd3786\"],[0.5555555555555556,\"#d8576b\"],[0.6666666666666666,\"#ed7953\"],[0.7777777777777778,\"#fb9f3a\"],[0.8888888888888888,\"#fdca26\"],[1.0,\"#f0f921\"]]}],\"heatmap\":[{\"type\":\"heatmap\",\"colorbar\":{\"outlinewidth\":0,\"ticks\":\"\"},\"colorscale\":[[0.0,\"#0d0887\"],[0.1111111111111111,\"#46039f\"],[0.2222222222222222,\"#7201a8\"],[0.3333333333333333,\"#9c179e\"],[0.4444444444444444,\"#bd3786\"],[0.5555555555555556,\"#d8576b\"],[0.6666666666666666,\"#ed7953\"],[0.7777777777777778,\"#fb9f3a\"],[0.8888888888888888,\"#fdca26\"],[1.0,\"#f0f921\"]]}],\"heatmapgl\":[{\"type\":\"heatmapgl\",\"colorbar\":{\"outlinewidth\":0,\"ticks\":\"\"},\"colorscale\":[[0.0,\"#0d0887\"],[0.1111111111111111,\"#46039f\"],[0.2222222222222222,\"#7201a8\"],[0.3333333333333333,\"#9c179e\"],[0.4444444444444444,\"#bd3786\"],[0.5555555555555556,\"#d8576b\"],[0.6666666666666666,\"#ed7953\"],[0.7777777777777778,\"#fb9f3a\"],[0.8888888888888888,\"#fdca26\"],[1.0,\"#f0f921\"]]}],\"contourcarpet\":[{\"type\":\"contourcarpet\",\"colorbar\":{\"outlinewidth\":0,\"ticks\":\"\"}}],\"contour\":[{\"type\":\"contour\",\"colorbar\":{\"outlinewidth\":0,\"ticks\":\"\"},\"colorscale\":[[0.0,\"#0d0887\"],[0.1111111111111111,\"#46039f\"],[0.2222222222222222,\"#7201a8\"],[0.3333333333333333,\"#9c179e\"],[0.4444444444444444,\"#bd3786\"],[0.5555555555555556,\"#d8576b\"],[0.6666666666666666,\"#ed7953\"],[0.7777777777777778,\"#fb9f3a\"],[0.8888888888888888,\"#fdca26\"],[1.0,\"#f0f921\"]]}],\"surface\":[{\"type\":\"surface\",\"colorbar\":{\"outlinewidth\":0,\"ticks\":\"\"},\"colorscale\":[[0.0,\"#0d0887\"],[0.1111111111111111,\"#46039f\"],[0.2222222222222222,\"#7201a8\"],[0.3333333333333333,\"#9c179e\"],[0.4444444444444444,\"#bd3786\"],[0.5555555555555556,\"#d8576b\"],[0.6666666666666666,\"#ed7953\"],[0.7777777777777778,\"#fb9f3a\"],[0.8888888888888888,\"#fdca26\"],[1.0,\"#f0f921\"]]}],\"mesh3d\":[{\"type\":\"mesh3d\",\"colorbar\":{\"outlinewidth\":0,\"ticks\":\"\"}}],\"scatter\":[{\"fillpattern\":{\"fillmode\":\"overlay\",\"size\":10,\"solidity\":0.2},\"type\":\"scatter\"}],\"parcoords\":[{\"type\":\"parcoords\",\"line\":{\"colorbar\":{\"outlinewidth\":0,\"ticks\":\"\"}}}],\"scatterpolargl\":[{\"type\":\"scatterpolargl\",\"marker\":{\"colorbar\":{\"outlinewidth\":0,\"ticks\":\"\"}}}],\"bar\":[{\"error_x\":{\"color\":\"#2a3f5f\"},\"error_y\":{\"color\":\"#2a3f5f\"},\"marker\":{\"line\":{\"color\":\"#E5ECF6\",\"width\":0.5},\"pattern\":{\"fillmode\":\"overlay\",\"size\":10,\"solidity\":0.2}},\"type\":\"bar\"}],\"scattergeo\":[{\"type\":\"scattergeo\",\"marker\":{\"colorbar\":{\"outlinewidth\":0,\"ticks\":\"\"}}}],\"scatterpolar\":[{\"type\":\"scatterpolar\",\"marker\":{\"colorbar\":{\"outlinewidth\":0,\"ticks\":\"\"}}}],\"histogram\":[{\"marker\":{\"pattern\":{\"fillmode\":\"overlay\",\"size\":10,\"solidity\":0.2}},\"type\":\"histogram\"}],\"scattergl\":[{\"type\":\"scattergl\",\"marker\":{\"colorbar\":{\"outlinewidth\":0,\"ticks\":\"\"}}}],\"scatter3d\":[{\"type\":\"scatter3d\",\"line\":{\"colorbar\":{\"outlinewidth\":0,\"ticks\":\"\"}},\"marker\":{\"colorbar\":{\"outlinewidth\":0,\"ticks\":\"\"}}}],\"scattermapbox\":[{\"type\":\"scattermapbox\",\"marker\":{\"colorbar\":{\"outlinewidth\":0,\"ticks\":\"\"}}}],\"scatterternary\":[{\"type\":\"scatterternary\",\"marker\":{\"colorbar\":{\"outlinewidth\":0,\"ticks\":\"\"}}}],\"scattercarpet\":[{\"type\":\"scattercarpet\",\"marker\":{\"colorbar\":{\"outlinewidth\":0,\"ticks\":\"\"}}}],\"carpet\":[{\"aaxis\":{\"endlinecolor\":\"#2a3f5f\",\"gridcolor\":\"white\",\"linecolor\":\"white\",\"minorgridcolor\":\"white\",\"startlinecolor\":\"#2a3f5f\"},\"baxis\":{\"endlinecolor\":\"#2a3f5f\",\"gridcolor\":\"white\",\"linecolor\":\"white\",\"minorgridcolor\":\"white\",\"startlinecolor\":\"#2a3f5f\"},\"type\":\"carpet\"}],\"table\":[{\"cells\":{\"fill\":{\"color\":\"#EBF0F8\"},\"line\":{\"color\":\"white\"}},\"header\":{\"fill\":{\"color\":\"#C8D4E3\"},\"line\":{\"color\":\"white\"}},\"type\":\"table\"}],\"barpolar\":[{\"marker\":{\"line\":{\"color\":\"#E5ECF6\",\"width\":0.5},\"pattern\":{\"fillmode\":\"overlay\",\"size\":10,\"solidity\":0.2}},\"type\":\"barpolar\"}],\"pie\":[{\"automargin\":true,\"type\":\"pie\"}]},\"layout\":{\"autotypenumbers\":\"strict\",\"colorway\":[\"#636efa\",\"#EF553B\",\"#00cc96\",\"#ab63fa\",\"#FFA15A\",\"#19d3f3\",\"#FF6692\",\"#B6E880\",\"#FF97FF\",\"#FECB52\"],\"font\":{\"color\":\"#2a3f5f\"},\"hovermode\":\"closest\",\"hoverlabel\":{\"align\":\"left\"},\"paper_bgcolor\":\"white\",\"plot_bgcolor\":\"#E5ECF6\",\"polar\":{\"bgcolor\":\"#E5ECF6\",\"angularaxis\":{\"gridcolor\":\"white\",\"linecolor\":\"white\",\"ticks\":\"\"},\"radialaxis\":{\"gridcolor\":\"white\",\"linecolor\":\"white\",\"ticks\":\"\"}},\"ternary\":{\"bgcolor\":\"#E5ECF6\",\"aaxis\":{\"gridcolor\":\"white\",\"linecolor\":\"white\",\"ticks\":\"\"},\"baxis\":{\"gridcolor\":\"white\",\"linecolor\":\"white\",\"ticks\":\"\"},\"caxis\":{\"gridcolor\":\"white\",\"linecolor\":\"white\",\"ticks\":\"\"}},\"coloraxis\":{\"colorbar\":{\"outlinewidth\":0,\"ticks\":\"\"}},\"colorscale\":{\"sequential\":[[0.0,\"#0d0887\"],[0.1111111111111111,\"#46039f\"],[0.2222222222222222,\"#7201a8\"],[0.3333333333333333,\"#9c179e\"],[0.4444444444444444,\"#bd3786\"],[0.5555555555555556,\"#d8576b\"],[0.6666666666666666,\"#ed7953\"],[0.7777777777777778,\"#fb9f3a\"],[0.8888888888888888,\"#fdca26\"],[1.0,\"#f0f921\"]],\"sequentialminus\":[[0.0,\"#0d0887\"],[0.1111111111111111,\"#46039f\"],[0.2222222222222222,\"#7201a8\"],[0.3333333333333333,\"#9c179e\"],[0.4444444444444444,\"#bd3786\"],[0.5555555555555556,\"#d8576b\"],[0.6666666666666666,\"#ed7953\"],[0.7777777777777778,\"#fb9f3a\"],[0.8888888888888888,\"#fdca26\"],[1.0,\"#f0f921\"]],\"diverging\":[[0,\"#8e0152\"],[0.1,\"#c51b7d\"],[0.2,\"#de77ae\"],[0.3,\"#f1b6da\"],[0.4,\"#fde0ef\"],[0.5,\"#f7f7f7\"],[0.6,\"#e6f5d0\"],[0.7,\"#b8e186\"],[0.8,\"#7fbc41\"],[0.9,\"#4d9221\"],[1,\"#276419\"]]},\"xaxis\":{\"gridcolor\":\"white\",\"linecolor\":\"white\",\"ticks\":\"\",\"title\":{\"standoff\":15},\"zerolinecolor\":\"white\",\"automargin\":true,\"zerolinewidth\":2},\"yaxis\":{\"gridcolor\":\"white\",\"linecolor\":\"white\",\"ticks\":\"\",\"title\":{\"standoff\":15},\"zerolinecolor\":\"white\",\"automargin\":true,\"zerolinewidth\":2},\"scene\":{\"xaxis\":{\"backgroundcolor\":\"#E5ECF6\",\"gridcolor\":\"white\",\"linecolor\":\"white\",\"showbackground\":true,\"ticks\":\"\",\"zerolinecolor\":\"white\",\"gridwidth\":2},\"yaxis\":{\"backgroundcolor\":\"#E5ECF6\",\"gridcolor\":\"white\",\"linecolor\":\"white\",\"showbackground\":true,\"ticks\":\"\",\"zerolinecolor\":\"white\",\"gridwidth\":2},\"zaxis\":{\"backgroundcolor\":\"#E5ECF6\",\"gridcolor\":\"white\",\"linecolor\":\"white\",\"showbackground\":true,\"ticks\":\"\",\"zerolinecolor\":\"white\",\"gridwidth\":2}},\"shapedefaults\":{\"line\":{\"color\":\"#2a3f5f\"}},\"annotationdefaults\":{\"arrowcolor\":\"#2a3f5f\",\"arrowhead\":0,\"arrowwidth\":1},\"geo\":{\"bgcolor\":\"white\",\"landcolor\":\"#E5ECF6\",\"subunitcolor\":\"white\",\"showland\":true,\"showlakes\":true,\"lakecolor\":\"white\"},\"title\":{\"x\":0.05},\"mapbox\":{\"style\":\"light\"}}},\"title\":{\"text\":\"Mesh distance per vertex [% diameter]\"},\"showlegend\":true,\"width\":600,\"height\":400},                        {\"responsive\": true}                    ).then(function(){\n",
       "                            \n",
       "var gd = document.getElementById('e1588278-7e38-45e3-af66-9a12a4653b66');\n",
       "var x = new MutationObserver(function (mutations, observer) {{\n",
       "        var display = window.getComputedStyle(gd).display;\n",
       "        if (!display || display === 'none') {{\n",
       "            console.log([gd, 'removed!']);\n",
       "            Plotly.purge(gd);\n",
       "            observer.disconnect();\n",
       "        }}\n",
       "}});\n",
       "\n",
       "// Listen for the removal of the full notebook cells\n",
       "var notebookContainer = gd.closest('#notebook-container');\n",
       "if (notebookContainer) {{\n",
       "    x.observe(notebookContainer, {childList: true});\n",
       "}}\n",
       "\n",
       "// Listen for the clearing of the current output cell\n",
       "var outputEl = gd.closest('.output');\n",
       "if (outputEl) {{\n",
       "    x.observe(outputEl, {childList: true});\n",
       "}}\n",
       "\n",
       "                        })                };                });            </script>        </div>"
      ]
     },
     "metadata": {},
     "output_type": "display_data"
    }
   ],
   "source": [
    "hist_diff_seq_per_time_vertex_diameter_group(by=\"n_steps\")"
   ]
  },
  {
   "cell_type": "code",
   "execution_count": 41,
   "id": "cb75e778",
   "metadata": {},
   "outputs": [
    {
     "data": {
      "application/vnd.plotly.v1+json": {
       "config": {
        "plotlyServerURL": "https://plot.ly"
       },
       "data": [
        {
         "name": "n_vertices = 42",
         "opacity": 0.5,
         "type": "histogram",
         "x": [
          0.0499333915286153,
          0.07520169167526024,
          0.047529445816325566,
          0.0689150631546906,
          0.02723480144222524,
          0.032943406979414364,
          0.021545185010005484,
          0.03370336467231981,
          0.004464351103427216,
          0.00777115073689134,
          0.004578764763836212,
          0.006606132467297124,
          0.0004644217999052358,
          0.000729096853299609,
          0.00044555162215775986,
          0.000707565942213889,
          0.045409491086853195,
          0.07422176266844123,
          0.04596387221335714,
          0.075822519623052,
          0.03980275939672403,
          0.06706875703111467,
          0.02555670034372129,
          0.03330126076678046,
          0.022394893387927182,
          0.03469958028372781,
          0.025409559973124503,
          0.032875015823617265,
          0.004838159941333491,
          0.007067984655224869,
          0.005029021777936061,
          0.0063879851810367694,
          0.004986855573360426,
          0.007156726042218727,
          0.0004805053190920164,
          0.0006584292978305597,
          0.000530166909213069,
          0.0008216171024563167,
          0.0004566107516589933,
          0.0008015128242640662
         ]
        },
        {
         "name": "n_vertices = 162",
         "opacity": 0.5,
         "type": "histogram",
         "x": [
          0.026759802367092692,
          0.03583311669855731,
          0.024396536244089443,
          0.03717709632640312,
          0.012683964520459732,
          0.0190922242294084,
          0.012981073260237737,
          0.01774706642414927,
          0.00261587385966475,
          0.0036166857725996072,
          0.002493122345046038,
          0.003717290468395295,
          0.00025121507371967067,
          0.0003617567841740864,
          0.0002383368948300347,
          0.00037027052430543936,
          0.02450857707413368,
          0.0370212221197801,
          0.025138463461797583,
          0.03640458571779377,
          0.026556473793114044,
          0.03870378347331896,
          0.012161584834889196,
          0.018603715828937432,
          0.012740018820119634,
          0.018216753584142792,
          0.012522560892494062,
          0.019772015759102743,
          0.0026033625929028025,
          0.0036138446064247778,
          0.002619277563392499,
          0.003755588854035724,
          0.0025592592724116604,
          0.003628072582555789,
          0.00025371048470556093,
          0.000369493790548964,
          0.00022908951135571548,
          0.000350574343646998,
          0.0002485757253418346,
          0.0003880899393619224
         ]
        },
        {
         "name": "n_vertices = 642",
         "opacity": 0.5,
         "type": "histogram",
         "x": [
          null,
          0.012626218324480331,
          0.018551256171911716,
          0.0063474668076103314,
          0.009437752671772574,
          0.0064390363523516665,
          0.009462125934873116,
          0.0012679274004068048,
          0.0018599847745473257,
          0.0012913940869565283,
          0.001868512792287022,
          0.00012591014576019246,
          0.00018411093105868368,
          0.00012339861026977928,
          0.00018563636754414292,
          0.012776817415536053,
          0.01843962070385627,
          0.012722248071556985,
          0.01828454121960764,
          0.01313735372449914,
          0.019084633032199785,
          0.006178736164286289,
          0.009446698410940264,
          0.006370635089835703,
          0.00916597819519388,
          0.006356866691044428,
          0.009833283129763098,
          0.001309776317152431,
          0.0018624301899789577,
          0.0012930266229484553,
          0.0018986759774876404,
          0.0012720480548727496,
          0.0018403549966686224,
          0.0001284499908967488,
          0.00017959967870398024,
          0.00012237408690654835,
          0.00018316229712155385,
          0.0001243197639747209,
          0.00018517409697173785
         ]
        }
       ],
       "layout": {
        "height": 400,
        "showlegend": true,
        "template": {
         "data": {
          "bar": [
           {
            "error_x": {
             "color": "#2a3f5f"
            },
            "error_y": {
             "color": "#2a3f5f"
            },
            "marker": {
             "line": {
              "color": "#E5ECF6",
              "width": 0.5
             },
             "pattern": {
              "fillmode": "overlay",
              "size": 10,
              "solidity": 0.2
             }
            },
            "type": "bar"
           }
          ],
          "barpolar": [
           {
            "marker": {
             "line": {
              "color": "#E5ECF6",
              "width": 0.5
             },
             "pattern": {
              "fillmode": "overlay",
              "size": 10,
              "solidity": 0.2
             }
            },
            "type": "barpolar"
           }
          ],
          "carpet": [
           {
            "aaxis": {
             "endlinecolor": "#2a3f5f",
             "gridcolor": "white",
             "linecolor": "white",
             "minorgridcolor": "white",
             "startlinecolor": "#2a3f5f"
            },
            "baxis": {
             "endlinecolor": "#2a3f5f",
             "gridcolor": "white",
             "linecolor": "white",
             "minorgridcolor": "white",
             "startlinecolor": "#2a3f5f"
            },
            "type": "carpet"
           }
          ],
          "choropleth": [
           {
            "colorbar": {
             "outlinewidth": 0,
             "ticks": ""
            },
            "type": "choropleth"
           }
          ],
          "contour": [
           {
            "colorbar": {
             "outlinewidth": 0,
             "ticks": ""
            },
            "colorscale": [
             [
              0,
              "#0d0887"
             ],
             [
              0.1111111111111111,
              "#46039f"
             ],
             [
              0.2222222222222222,
              "#7201a8"
             ],
             [
              0.3333333333333333,
              "#9c179e"
             ],
             [
              0.4444444444444444,
              "#bd3786"
             ],
             [
              0.5555555555555556,
              "#d8576b"
             ],
             [
              0.6666666666666666,
              "#ed7953"
             ],
             [
              0.7777777777777778,
              "#fb9f3a"
             ],
             [
              0.8888888888888888,
              "#fdca26"
             ],
             [
              1,
              "#f0f921"
             ]
            ],
            "type": "contour"
           }
          ],
          "contourcarpet": [
           {
            "colorbar": {
             "outlinewidth": 0,
             "ticks": ""
            },
            "type": "contourcarpet"
           }
          ],
          "heatmap": [
           {
            "colorbar": {
             "outlinewidth": 0,
             "ticks": ""
            },
            "colorscale": [
             [
              0,
              "#0d0887"
             ],
             [
              0.1111111111111111,
              "#46039f"
             ],
             [
              0.2222222222222222,
              "#7201a8"
             ],
             [
              0.3333333333333333,
              "#9c179e"
             ],
             [
              0.4444444444444444,
              "#bd3786"
             ],
             [
              0.5555555555555556,
              "#d8576b"
             ],
             [
              0.6666666666666666,
              "#ed7953"
             ],
             [
              0.7777777777777778,
              "#fb9f3a"
             ],
             [
              0.8888888888888888,
              "#fdca26"
             ],
             [
              1,
              "#f0f921"
             ]
            ],
            "type": "heatmap"
           }
          ],
          "heatmapgl": [
           {
            "colorbar": {
             "outlinewidth": 0,
             "ticks": ""
            },
            "colorscale": [
             [
              0,
              "#0d0887"
             ],
             [
              0.1111111111111111,
              "#46039f"
             ],
             [
              0.2222222222222222,
              "#7201a8"
             ],
             [
              0.3333333333333333,
              "#9c179e"
             ],
             [
              0.4444444444444444,
              "#bd3786"
             ],
             [
              0.5555555555555556,
              "#d8576b"
             ],
             [
              0.6666666666666666,
              "#ed7953"
             ],
             [
              0.7777777777777778,
              "#fb9f3a"
             ],
             [
              0.8888888888888888,
              "#fdca26"
             ],
             [
              1,
              "#f0f921"
             ]
            ],
            "type": "heatmapgl"
           }
          ],
          "histogram": [
           {
            "marker": {
             "pattern": {
              "fillmode": "overlay",
              "size": 10,
              "solidity": 0.2
             }
            },
            "type": "histogram"
           }
          ],
          "histogram2d": [
           {
            "colorbar": {
             "outlinewidth": 0,
             "ticks": ""
            },
            "colorscale": [
             [
              0,
              "#0d0887"
             ],
             [
              0.1111111111111111,
              "#46039f"
             ],
             [
              0.2222222222222222,
              "#7201a8"
             ],
             [
              0.3333333333333333,
              "#9c179e"
             ],
             [
              0.4444444444444444,
              "#bd3786"
             ],
             [
              0.5555555555555556,
              "#d8576b"
             ],
             [
              0.6666666666666666,
              "#ed7953"
             ],
             [
              0.7777777777777778,
              "#fb9f3a"
             ],
             [
              0.8888888888888888,
              "#fdca26"
             ],
             [
              1,
              "#f0f921"
             ]
            ],
            "type": "histogram2d"
           }
          ],
          "histogram2dcontour": [
           {
            "colorbar": {
             "outlinewidth": 0,
             "ticks": ""
            },
            "colorscale": [
             [
              0,
              "#0d0887"
             ],
             [
              0.1111111111111111,
              "#46039f"
             ],
             [
              0.2222222222222222,
              "#7201a8"
             ],
             [
              0.3333333333333333,
              "#9c179e"
             ],
             [
              0.4444444444444444,
              "#bd3786"
             ],
             [
              0.5555555555555556,
              "#d8576b"
             ],
             [
              0.6666666666666666,
              "#ed7953"
             ],
             [
              0.7777777777777778,
              "#fb9f3a"
             ],
             [
              0.8888888888888888,
              "#fdca26"
             ],
             [
              1,
              "#f0f921"
             ]
            ],
            "type": "histogram2dcontour"
           }
          ],
          "mesh3d": [
           {
            "colorbar": {
             "outlinewidth": 0,
             "ticks": ""
            },
            "type": "mesh3d"
           }
          ],
          "parcoords": [
           {
            "line": {
             "colorbar": {
              "outlinewidth": 0,
              "ticks": ""
             }
            },
            "type": "parcoords"
           }
          ],
          "pie": [
           {
            "automargin": true,
            "type": "pie"
           }
          ],
          "scatter": [
           {
            "fillpattern": {
             "fillmode": "overlay",
             "size": 10,
             "solidity": 0.2
            },
            "type": "scatter"
           }
          ],
          "scatter3d": [
           {
            "line": {
             "colorbar": {
              "outlinewidth": 0,
              "ticks": ""
             }
            },
            "marker": {
             "colorbar": {
              "outlinewidth": 0,
              "ticks": ""
             }
            },
            "type": "scatter3d"
           }
          ],
          "scattercarpet": [
           {
            "marker": {
             "colorbar": {
              "outlinewidth": 0,
              "ticks": ""
             }
            },
            "type": "scattercarpet"
           }
          ],
          "scattergeo": [
           {
            "marker": {
             "colorbar": {
              "outlinewidth": 0,
              "ticks": ""
             }
            },
            "type": "scattergeo"
           }
          ],
          "scattergl": [
           {
            "marker": {
             "colorbar": {
              "outlinewidth": 0,
              "ticks": ""
             }
            },
            "type": "scattergl"
           }
          ],
          "scattermapbox": [
           {
            "marker": {
             "colorbar": {
              "outlinewidth": 0,
              "ticks": ""
             }
            },
            "type": "scattermapbox"
           }
          ],
          "scatterpolar": [
           {
            "marker": {
             "colorbar": {
              "outlinewidth": 0,
              "ticks": ""
             }
            },
            "type": "scatterpolar"
           }
          ],
          "scatterpolargl": [
           {
            "marker": {
             "colorbar": {
              "outlinewidth": 0,
              "ticks": ""
             }
            },
            "type": "scatterpolargl"
           }
          ],
          "scatterternary": [
           {
            "marker": {
             "colorbar": {
              "outlinewidth": 0,
              "ticks": ""
             }
            },
            "type": "scatterternary"
           }
          ],
          "surface": [
           {
            "colorbar": {
             "outlinewidth": 0,
             "ticks": ""
            },
            "colorscale": [
             [
              0,
              "#0d0887"
             ],
             [
              0.1111111111111111,
              "#46039f"
             ],
             [
              0.2222222222222222,
              "#7201a8"
             ],
             [
              0.3333333333333333,
              "#9c179e"
             ],
             [
              0.4444444444444444,
              "#bd3786"
             ],
             [
              0.5555555555555556,
              "#d8576b"
             ],
             [
              0.6666666666666666,
              "#ed7953"
             ],
             [
              0.7777777777777778,
              "#fb9f3a"
             ],
             [
              0.8888888888888888,
              "#fdca26"
             ],
             [
              1,
              "#f0f921"
             ]
            ],
            "type": "surface"
           }
          ],
          "table": [
           {
            "cells": {
             "fill": {
              "color": "#EBF0F8"
             },
             "line": {
              "color": "white"
             }
            },
            "header": {
             "fill": {
              "color": "#C8D4E3"
             },
             "line": {
              "color": "white"
             }
            },
            "type": "table"
           }
          ]
         },
         "layout": {
          "annotationdefaults": {
           "arrowcolor": "#2a3f5f",
           "arrowhead": 0,
           "arrowwidth": 1
          },
          "autotypenumbers": "strict",
          "coloraxis": {
           "colorbar": {
            "outlinewidth": 0,
            "ticks": ""
           }
          },
          "colorscale": {
           "diverging": [
            [
             0,
             "#8e0152"
            ],
            [
             0.1,
             "#c51b7d"
            ],
            [
             0.2,
             "#de77ae"
            ],
            [
             0.3,
             "#f1b6da"
            ],
            [
             0.4,
             "#fde0ef"
            ],
            [
             0.5,
             "#f7f7f7"
            ],
            [
             0.6,
             "#e6f5d0"
            ],
            [
             0.7,
             "#b8e186"
            ],
            [
             0.8,
             "#7fbc41"
            ],
            [
             0.9,
             "#4d9221"
            ],
            [
             1,
             "#276419"
            ]
           ],
           "sequential": [
            [
             0,
             "#0d0887"
            ],
            [
             0.1111111111111111,
             "#46039f"
            ],
            [
             0.2222222222222222,
             "#7201a8"
            ],
            [
             0.3333333333333333,
             "#9c179e"
            ],
            [
             0.4444444444444444,
             "#bd3786"
            ],
            [
             0.5555555555555556,
             "#d8576b"
            ],
            [
             0.6666666666666666,
             "#ed7953"
            ],
            [
             0.7777777777777778,
             "#fb9f3a"
            ],
            [
             0.8888888888888888,
             "#fdca26"
            ],
            [
             1,
             "#f0f921"
            ]
           ],
           "sequentialminus": [
            [
             0,
             "#0d0887"
            ],
            [
             0.1111111111111111,
             "#46039f"
            ],
            [
             0.2222222222222222,
             "#7201a8"
            ],
            [
             0.3333333333333333,
             "#9c179e"
            ],
            [
             0.4444444444444444,
             "#bd3786"
            ],
            [
             0.5555555555555556,
             "#d8576b"
            ],
            [
             0.6666666666666666,
             "#ed7953"
            ],
            [
             0.7777777777777778,
             "#fb9f3a"
            ],
            [
             0.8888888888888888,
             "#fdca26"
            ],
            [
             1,
             "#f0f921"
            ]
           ]
          },
          "colorway": [
           "#636efa",
           "#EF553B",
           "#00cc96",
           "#ab63fa",
           "#FFA15A",
           "#19d3f3",
           "#FF6692",
           "#B6E880",
           "#FF97FF",
           "#FECB52"
          ],
          "font": {
           "color": "#2a3f5f"
          },
          "geo": {
           "bgcolor": "white",
           "lakecolor": "white",
           "landcolor": "#E5ECF6",
           "showlakes": true,
           "showland": true,
           "subunitcolor": "white"
          },
          "hoverlabel": {
           "align": "left"
          },
          "hovermode": "closest",
          "mapbox": {
           "style": "light"
          },
          "paper_bgcolor": "white",
          "plot_bgcolor": "#E5ECF6",
          "polar": {
           "angularaxis": {
            "gridcolor": "white",
            "linecolor": "white",
            "ticks": ""
           },
           "bgcolor": "#E5ECF6",
           "radialaxis": {
            "gridcolor": "white",
            "linecolor": "white",
            "ticks": ""
           }
          },
          "scene": {
           "xaxis": {
            "backgroundcolor": "#E5ECF6",
            "gridcolor": "white",
            "gridwidth": 2,
            "linecolor": "white",
            "showbackground": true,
            "ticks": "",
            "zerolinecolor": "white"
           },
           "yaxis": {
            "backgroundcolor": "#E5ECF6",
            "gridcolor": "white",
            "gridwidth": 2,
            "linecolor": "white",
            "showbackground": true,
            "ticks": "",
            "zerolinecolor": "white"
           },
           "zaxis": {
            "backgroundcolor": "#E5ECF6",
            "gridcolor": "white",
            "gridwidth": 2,
            "linecolor": "white",
            "showbackground": true,
            "ticks": "",
            "zerolinecolor": "white"
           }
          },
          "shapedefaults": {
           "line": {
            "color": "#2a3f5f"
           }
          },
          "ternary": {
           "aaxis": {
            "gridcolor": "white",
            "linecolor": "white",
            "ticks": ""
           },
           "baxis": {
            "gridcolor": "white",
            "linecolor": "white",
            "ticks": ""
           },
           "bgcolor": "#E5ECF6",
           "caxis": {
            "gridcolor": "white",
            "linecolor": "white",
            "ticks": ""
           }
          },
          "title": {
           "x": 0.05
          },
          "xaxis": {
           "automargin": true,
           "gridcolor": "white",
           "linecolor": "white",
           "ticks": "",
           "title": {
            "standoff": 15
           },
           "zerolinecolor": "white",
           "zerolinewidth": 2
          },
          "yaxis": {
           "automargin": true,
           "gridcolor": "white",
           "linecolor": "white",
           "ticks": "",
           "title": {
            "standoff": 15
           },
           "zerolinecolor": "white",
           "zerolinewidth": 2
          }
         }
        },
        "title": {
         "text": "Mesh distance per vertex [% diameter]"
        },
        "width": 600,
        "xaxis": {
         "autorange": true,
         "range": [
          2.6020852139652106e-18,
          0.08000000000000002
         ],
         "type": "linear"
        },
        "yaxis": {
         "autorange": true,
         "range": [
          0,
          31.57894736842105
         ]
        }
       }
      },
      "text/html": [
       "<div>                            <div id=\"06e384db-1043-4097-a56a-7f7125599573\" class=\"plotly-graph-div\" style=\"height:400px; width:600px;\"></div>            <script type=\"text/javascript\">                require([\"plotly\"], function(Plotly) {                    window.PLOTLYENV=window.PLOTLYENV || {};                                    if (document.getElementById(\"06e384db-1043-4097-a56a-7f7125599573\")) {                    Plotly.newPlot(                        \"06e384db-1043-4097-a56a-7f7125599573\",                        [{\"name\":\"n_vertices = 42\",\"opacity\":0.5,\"x\":[0.0499333915286153,0.07520169167526024,0.047529445816325566,0.0689150631546906,0.02723480144222524,0.032943406979414364,0.021545185010005484,0.03370336467231981,0.004464351103427216,0.00777115073689134,0.004578764763836212,0.006606132467297124,0.0004644217999052358,0.000729096853299609,0.00044555162215775986,0.000707565942213889,0.045409491086853195,0.07422176266844123,0.04596387221335714,0.075822519623052,0.03980275939672403,0.06706875703111467,0.02555670034372129,0.03330126076678046,0.022394893387927182,0.03469958028372781,0.025409559973124503,0.032875015823617265,0.004838159941333491,0.007067984655224869,0.005029021777936061,0.0063879851810367694,0.004986855573360426,0.007156726042218727,0.0004805053190920164,0.0006584292978305597,0.000530166909213069,0.0008216171024563167,0.0004566107516589933,0.0008015128242640662],\"type\":\"histogram\"},{\"name\":\"n_vertices = 162\",\"opacity\":0.5,\"x\":[0.026759802367092692,0.03583311669855731,0.024396536244089443,0.03717709632640312,0.012683964520459732,0.0190922242294084,0.012981073260237737,0.01774706642414927,0.00261587385966475,0.0036166857725996072,0.002493122345046038,0.003717290468395295,0.00025121507371967067,0.0003617567841740864,0.0002383368948300347,0.00037027052430543936,0.02450857707413368,0.0370212221197801,0.025138463461797583,0.03640458571779377,0.026556473793114044,0.03870378347331896,0.012161584834889196,0.018603715828937432,0.012740018820119634,0.018216753584142792,0.012522560892494062,0.019772015759102743,0.0026033625929028025,0.0036138446064247778,0.002619277563392499,0.003755588854035724,0.0025592592724116604,0.003628072582555789,0.00025371048470556093,0.000369493790548964,0.00022908951135571548,0.000350574343646998,0.0002485757253418346,0.0003880899393619224],\"type\":\"histogram\"},{\"name\":\"n_vertices = 642\",\"opacity\":0.5,\"x\":[null,0.012626218324480331,0.018551256171911716,0.0063474668076103314,0.009437752671772574,0.0064390363523516665,0.009462125934873116,0.0012679274004068048,0.0018599847745473257,0.0012913940869565283,0.001868512792287022,0.00012591014576019246,0.00018411093105868368,0.00012339861026977928,0.00018563636754414292,0.012776817415536053,0.01843962070385627,0.012722248071556985,0.01828454121960764,0.01313735372449914,0.019084633032199785,0.006178736164286289,0.009446698410940264,0.006370635089835703,0.00916597819519388,0.006356866691044428,0.009833283129763098,0.001309776317152431,0.0018624301899789577,0.0012930266229484553,0.0018986759774876404,0.0012720480548727496,0.0018403549966686224,0.0001284499908967488,0.00017959967870398024,0.00012237408690654835,0.00018316229712155385,0.0001243197639747209,0.00018517409697173785],\"type\":\"histogram\"}],                        {\"template\":{\"data\":{\"histogram2dcontour\":[{\"type\":\"histogram2dcontour\",\"colorbar\":{\"outlinewidth\":0,\"ticks\":\"\"},\"colorscale\":[[0.0,\"#0d0887\"],[0.1111111111111111,\"#46039f\"],[0.2222222222222222,\"#7201a8\"],[0.3333333333333333,\"#9c179e\"],[0.4444444444444444,\"#bd3786\"],[0.5555555555555556,\"#d8576b\"],[0.6666666666666666,\"#ed7953\"],[0.7777777777777778,\"#fb9f3a\"],[0.8888888888888888,\"#fdca26\"],[1.0,\"#f0f921\"]]}],\"choropleth\":[{\"type\":\"choropleth\",\"colorbar\":{\"outlinewidth\":0,\"ticks\":\"\"}}],\"histogram2d\":[{\"type\":\"histogram2d\",\"colorbar\":{\"outlinewidth\":0,\"ticks\":\"\"},\"colorscale\":[[0.0,\"#0d0887\"],[0.1111111111111111,\"#46039f\"],[0.2222222222222222,\"#7201a8\"],[0.3333333333333333,\"#9c179e\"],[0.4444444444444444,\"#bd3786\"],[0.5555555555555556,\"#d8576b\"],[0.6666666666666666,\"#ed7953\"],[0.7777777777777778,\"#fb9f3a\"],[0.8888888888888888,\"#fdca26\"],[1.0,\"#f0f921\"]]}],\"heatmap\":[{\"type\":\"heatmap\",\"colorbar\":{\"outlinewidth\":0,\"ticks\":\"\"},\"colorscale\":[[0.0,\"#0d0887\"],[0.1111111111111111,\"#46039f\"],[0.2222222222222222,\"#7201a8\"],[0.3333333333333333,\"#9c179e\"],[0.4444444444444444,\"#bd3786\"],[0.5555555555555556,\"#d8576b\"],[0.6666666666666666,\"#ed7953\"],[0.7777777777777778,\"#fb9f3a\"],[0.8888888888888888,\"#fdca26\"],[1.0,\"#f0f921\"]]}],\"heatmapgl\":[{\"type\":\"heatmapgl\",\"colorbar\":{\"outlinewidth\":0,\"ticks\":\"\"},\"colorscale\":[[0.0,\"#0d0887\"],[0.1111111111111111,\"#46039f\"],[0.2222222222222222,\"#7201a8\"],[0.3333333333333333,\"#9c179e\"],[0.4444444444444444,\"#bd3786\"],[0.5555555555555556,\"#d8576b\"],[0.6666666666666666,\"#ed7953\"],[0.7777777777777778,\"#fb9f3a\"],[0.8888888888888888,\"#fdca26\"],[1.0,\"#f0f921\"]]}],\"contourcarpet\":[{\"type\":\"contourcarpet\",\"colorbar\":{\"outlinewidth\":0,\"ticks\":\"\"}}],\"contour\":[{\"type\":\"contour\",\"colorbar\":{\"outlinewidth\":0,\"ticks\":\"\"},\"colorscale\":[[0.0,\"#0d0887\"],[0.1111111111111111,\"#46039f\"],[0.2222222222222222,\"#7201a8\"],[0.3333333333333333,\"#9c179e\"],[0.4444444444444444,\"#bd3786\"],[0.5555555555555556,\"#d8576b\"],[0.6666666666666666,\"#ed7953\"],[0.7777777777777778,\"#fb9f3a\"],[0.8888888888888888,\"#fdca26\"],[1.0,\"#f0f921\"]]}],\"surface\":[{\"type\":\"surface\",\"colorbar\":{\"outlinewidth\":0,\"ticks\":\"\"},\"colorscale\":[[0.0,\"#0d0887\"],[0.1111111111111111,\"#46039f\"],[0.2222222222222222,\"#7201a8\"],[0.3333333333333333,\"#9c179e\"],[0.4444444444444444,\"#bd3786\"],[0.5555555555555556,\"#d8576b\"],[0.6666666666666666,\"#ed7953\"],[0.7777777777777778,\"#fb9f3a\"],[0.8888888888888888,\"#fdca26\"],[1.0,\"#f0f921\"]]}],\"mesh3d\":[{\"type\":\"mesh3d\",\"colorbar\":{\"outlinewidth\":0,\"ticks\":\"\"}}],\"scatter\":[{\"fillpattern\":{\"fillmode\":\"overlay\",\"size\":10,\"solidity\":0.2},\"type\":\"scatter\"}],\"parcoords\":[{\"type\":\"parcoords\",\"line\":{\"colorbar\":{\"outlinewidth\":0,\"ticks\":\"\"}}}],\"scatterpolargl\":[{\"type\":\"scatterpolargl\",\"marker\":{\"colorbar\":{\"outlinewidth\":0,\"ticks\":\"\"}}}],\"bar\":[{\"error_x\":{\"color\":\"#2a3f5f\"},\"error_y\":{\"color\":\"#2a3f5f\"},\"marker\":{\"line\":{\"color\":\"#E5ECF6\",\"width\":0.5},\"pattern\":{\"fillmode\":\"overlay\",\"size\":10,\"solidity\":0.2}},\"type\":\"bar\"}],\"scattergeo\":[{\"type\":\"scattergeo\",\"marker\":{\"colorbar\":{\"outlinewidth\":0,\"ticks\":\"\"}}}],\"scatterpolar\":[{\"type\":\"scatterpolar\",\"marker\":{\"colorbar\":{\"outlinewidth\":0,\"ticks\":\"\"}}}],\"histogram\":[{\"marker\":{\"pattern\":{\"fillmode\":\"overlay\",\"size\":10,\"solidity\":0.2}},\"type\":\"histogram\"}],\"scattergl\":[{\"type\":\"scattergl\",\"marker\":{\"colorbar\":{\"outlinewidth\":0,\"ticks\":\"\"}}}],\"scatter3d\":[{\"type\":\"scatter3d\",\"line\":{\"colorbar\":{\"outlinewidth\":0,\"ticks\":\"\"}},\"marker\":{\"colorbar\":{\"outlinewidth\":0,\"ticks\":\"\"}}}],\"scattermapbox\":[{\"type\":\"scattermapbox\",\"marker\":{\"colorbar\":{\"outlinewidth\":0,\"ticks\":\"\"}}}],\"scatterternary\":[{\"type\":\"scatterternary\",\"marker\":{\"colorbar\":{\"outlinewidth\":0,\"ticks\":\"\"}}}],\"scattercarpet\":[{\"type\":\"scattercarpet\",\"marker\":{\"colorbar\":{\"outlinewidth\":0,\"ticks\":\"\"}}}],\"carpet\":[{\"aaxis\":{\"endlinecolor\":\"#2a3f5f\",\"gridcolor\":\"white\",\"linecolor\":\"white\",\"minorgridcolor\":\"white\",\"startlinecolor\":\"#2a3f5f\"},\"baxis\":{\"endlinecolor\":\"#2a3f5f\",\"gridcolor\":\"white\",\"linecolor\":\"white\",\"minorgridcolor\":\"white\",\"startlinecolor\":\"#2a3f5f\"},\"type\":\"carpet\"}],\"table\":[{\"cells\":{\"fill\":{\"color\":\"#EBF0F8\"},\"line\":{\"color\":\"white\"}},\"header\":{\"fill\":{\"color\":\"#C8D4E3\"},\"line\":{\"color\":\"white\"}},\"type\":\"table\"}],\"barpolar\":[{\"marker\":{\"line\":{\"color\":\"#E5ECF6\",\"width\":0.5},\"pattern\":{\"fillmode\":\"overlay\",\"size\":10,\"solidity\":0.2}},\"type\":\"barpolar\"}],\"pie\":[{\"automargin\":true,\"type\":\"pie\"}]},\"layout\":{\"autotypenumbers\":\"strict\",\"colorway\":[\"#636efa\",\"#EF553B\",\"#00cc96\",\"#ab63fa\",\"#FFA15A\",\"#19d3f3\",\"#FF6692\",\"#B6E880\",\"#FF97FF\",\"#FECB52\"],\"font\":{\"color\":\"#2a3f5f\"},\"hovermode\":\"closest\",\"hoverlabel\":{\"align\":\"left\"},\"paper_bgcolor\":\"white\",\"plot_bgcolor\":\"#E5ECF6\",\"polar\":{\"bgcolor\":\"#E5ECF6\",\"angularaxis\":{\"gridcolor\":\"white\",\"linecolor\":\"white\",\"ticks\":\"\"},\"radialaxis\":{\"gridcolor\":\"white\",\"linecolor\":\"white\",\"ticks\":\"\"}},\"ternary\":{\"bgcolor\":\"#E5ECF6\",\"aaxis\":{\"gridcolor\":\"white\",\"linecolor\":\"white\",\"ticks\":\"\"},\"baxis\":{\"gridcolor\":\"white\",\"linecolor\":\"white\",\"ticks\":\"\"},\"caxis\":{\"gridcolor\":\"white\",\"linecolor\":\"white\",\"ticks\":\"\"}},\"coloraxis\":{\"colorbar\":{\"outlinewidth\":0,\"ticks\":\"\"}},\"colorscale\":{\"sequential\":[[0.0,\"#0d0887\"],[0.1111111111111111,\"#46039f\"],[0.2222222222222222,\"#7201a8\"],[0.3333333333333333,\"#9c179e\"],[0.4444444444444444,\"#bd3786\"],[0.5555555555555556,\"#d8576b\"],[0.6666666666666666,\"#ed7953\"],[0.7777777777777778,\"#fb9f3a\"],[0.8888888888888888,\"#fdca26\"],[1.0,\"#f0f921\"]],\"sequentialminus\":[[0.0,\"#0d0887\"],[0.1111111111111111,\"#46039f\"],[0.2222222222222222,\"#7201a8\"],[0.3333333333333333,\"#9c179e\"],[0.4444444444444444,\"#bd3786\"],[0.5555555555555556,\"#d8576b\"],[0.6666666666666666,\"#ed7953\"],[0.7777777777777778,\"#fb9f3a\"],[0.8888888888888888,\"#fdca26\"],[1.0,\"#f0f921\"]],\"diverging\":[[0,\"#8e0152\"],[0.1,\"#c51b7d\"],[0.2,\"#de77ae\"],[0.3,\"#f1b6da\"],[0.4,\"#fde0ef\"],[0.5,\"#f7f7f7\"],[0.6,\"#e6f5d0\"],[0.7,\"#b8e186\"],[0.8,\"#7fbc41\"],[0.9,\"#4d9221\"],[1,\"#276419\"]]},\"xaxis\":{\"gridcolor\":\"white\",\"linecolor\":\"white\",\"ticks\":\"\",\"title\":{\"standoff\":15},\"zerolinecolor\":\"white\",\"automargin\":true,\"zerolinewidth\":2},\"yaxis\":{\"gridcolor\":\"white\",\"linecolor\":\"white\",\"ticks\":\"\",\"title\":{\"standoff\":15},\"zerolinecolor\":\"white\",\"automargin\":true,\"zerolinewidth\":2},\"scene\":{\"xaxis\":{\"backgroundcolor\":\"#E5ECF6\",\"gridcolor\":\"white\",\"linecolor\":\"white\",\"showbackground\":true,\"ticks\":\"\",\"zerolinecolor\":\"white\",\"gridwidth\":2},\"yaxis\":{\"backgroundcolor\":\"#E5ECF6\",\"gridcolor\":\"white\",\"linecolor\":\"white\",\"showbackground\":true,\"ticks\":\"\",\"zerolinecolor\":\"white\",\"gridwidth\":2},\"zaxis\":{\"backgroundcolor\":\"#E5ECF6\",\"gridcolor\":\"white\",\"linecolor\":\"white\",\"showbackground\":true,\"ticks\":\"\",\"zerolinecolor\":\"white\",\"gridwidth\":2}},\"shapedefaults\":{\"line\":{\"color\":\"#2a3f5f\"}},\"annotationdefaults\":{\"arrowcolor\":\"#2a3f5f\",\"arrowhead\":0,\"arrowwidth\":1},\"geo\":{\"bgcolor\":\"white\",\"landcolor\":\"#E5ECF6\",\"subunitcolor\":\"white\",\"showland\":true,\"showlakes\":true,\"lakecolor\":\"white\"},\"title\":{\"x\":0.05},\"mapbox\":{\"style\":\"light\"}}},\"title\":{\"text\":\"Mesh distance per vertex [% diameter]\"},\"showlegend\":true,\"width\":600,\"height\":400},                        {\"responsive\": true}                    ).then(function(){\n",
       "                            \n",
       "var gd = document.getElementById('06e384db-1043-4097-a56a-7f7125599573');\n",
       "var x = new MutationObserver(function (mutations, observer) {{\n",
       "        var display = window.getComputedStyle(gd).display;\n",
       "        if (!display || display === 'none') {{\n",
       "            console.log([gd, 'removed!']);\n",
       "            Plotly.purge(gd);\n",
       "            observer.disconnect();\n",
       "        }}\n",
       "}});\n",
       "\n",
       "// Listen for the removal of the full notebook cells\n",
       "var notebookContainer = gd.closest('#notebook-container');\n",
       "if (notebookContainer) {{\n",
       "    x.observe(notebookContainer, {childList: true});\n",
       "}}\n",
       "\n",
       "// Listen for the clearing of the current output cell\n",
       "var outputEl = gd.closest('.output');\n",
       "if (outputEl) {{\n",
       "    x.observe(outputEl, {childList: true});\n",
       "}}\n",
       "\n",
       "                        })                };                });            </script>        </div>"
      ]
     },
     "metadata": {},
     "output_type": "display_data"
    }
   ],
   "source": [
    "hist_diff_seq_per_time_vertex_diameter_group(by=\"n_vertices\")"
   ]
  },
  {
   "cell_type": "code",
   "execution_count": 42,
   "id": "1f645602",
   "metadata": {},
   "outputs": [
    {
     "data": {
      "application/vnd.plotly.v1+json": {
       "config": {
        "plotlyServerURL": "https://plot.ly"
       },
       "data": [
        {
         "name": "noise_factor = 0.01",
         "opacity": 0.5,
         "type": "histogram",
         "x": [
          0.00012591014576019246,
          0.00018411093105868368,
          0.00025121507371967067,
          0.0003617567841740864,
          0.0004644217999052358,
          0.000729096853299609,
          0.00012339861026977928,
          0.00018563636754414292,
          0.0002383368948300347,
          0.00037027052430543936,
          0.00044555162215775986,
          0.000707565942213889,
          0.0001284499908967488,
          0.00017959967870398024,
          0.00025371048470556093,
          0.000369493790548964,
          0.0004805053190920164,
          0.0006584292978305597,
          0.00012237408690654835,
          0.00018316229712155385,
          0.00022908951135571548,
          0.000350574343646998,
          0.000530166909213069,
          0.0008216171024563167,
          0.0001243197639747209,
          0.00018517409697173785,
          0.0002485757253418346,
          0.0003880899393619224,
          0.0004566107516589933,
          0.0008015128242640662
         ]
        },
        {
         "name": "noise_factor = 0.1",
         "opacity": 0.5,
         "type": "histogram",
         "x": [
          0.0012679274004068048,
          0.0018599847745473257,
          0.00261587385966475,
          0.0036166857725996072,
          0.004464351103427216,
          0.00777115073689134,
          0.0012913940869565283,
          0.001868512792287022,
          0.002493122345046038,
          0.003717290468395295,
          0.004578764763836212,
          0.006606132467297124,
          0.001309776317152431,
          0.0018624301899789577,
          0.0026033625929028025,
          0.0036138446064247778,
          0.004838159941333491,
          0.007067984655224869,
          0.0012930266229484553,
          0.0018986759774876404,
          0.002619277563392499,
          0.003755588854035724,
          0.005029021777936061,
          0.0063879851810367694,
          0.0012720480548727496,
          0.0018403549966686224,
          0.0025592592724116604,
          0.003628072582555789,
          0.004986855573360426,
          0.007156726042218727
         ]
        },
        {
         "name": "noise_factor = 0.5",
         "opacity": 0.5,
         "type": "histogram",
         "x": [
          0.0063474668076103314,
          0.009437752671772574,
          0.012683964520459732,
          0.0190922242294084,
          0.02723480144222524,
          0.032943406979414364,
          0.0064390363523516665,
          0.009462125934873116,
          0.012981073260237737,
          0.01774706642414927,
          0.021545185010005484,
          0.03370336467231981,
          0.006178736164286289,
          0.009446698410940264,
          0.012161584834889196,
          0.018603715828937432,
          0.02555670034372129,
          0.03330126076678046,
          0.006370635089835703,
          0.00916597819519388,
          0.012740018820119634,
          0.018216753584142792,
          0.022394893387927182,
          0.03469958028372781,
          0.006356866691044428,
          0.009833283129763098,
          0.012522560892494062,
          0.019772015759102743,
          0.025409559973124503,
          0.032875015823617265
         ]
        },
        {
         "name": "noise_factor = 1.0",
         "opacity": 0.5,
         "type": "histogram",
         "x": [
          null,
          0.026759802367092692,
          0.03583311669855731,
          0.0499333915286153,
          0.07520169167526024,
          0.012626218324480331,
          0.018551256171911716,
          0.024396536244089443,
          0.03717709632640312,
          0.047529445816325566,
          0.0689150631546906,
          0.012776817415536053,
          0.01843962070385627,
          0.02450857707413368,
          0.0370212221197801,
          0.045409491086853195,
          0.07422176266844123,
          0.012722248071556985,
          0.01828454121960764,
          0.025138463461797583,
          0.03640458571779377,
          0.04596387221335714,
          0.075822519623052,
          0.01313735372449914,
          0.019084633032199785,
          0.026556473793114044,
          0.03870378347331896,
          0.03980275939672403,
          0.06706875703111467
         ]
        }
       ],
       "layout": {
        "height": 400,
        "showlegend": true,
        "template": {
         "data": {
          "bar": [
           {
            "error_x": {
             "color": "#2a3f5f"
            },
            "error_y": {
             "color": "#2a3f5f"
            },
            "marker": {
             "line": {
              "color": "#E5ECF6",
              "width": 0.5
             },
             "pattern": {
              "fillmode": "overlay",
              "size": 10,
              "solidity": 0.2
             }
            },
            "type": "bar"
           }
          ],
          "barpolar": [
           {
            "marker": {
             "line": {
              "color": "#E5ECF6",
              "width": 0.5
             },
             "pattern": {
              "fillmode": "overlay",
              "size": 10,
              "solidity": 0.2
             }
            },
            "type": "barpolar"
           }
          ],
          "carpet": [
           {
            "aaxis": {
             "endlinecolor": "#2a3f5f",
             "gridcolor": "white",
             "linecolor": "white",
             "minorgridcolor": "white",
             "startlinecolor": "#2a3f5f"
            },
            "baxis": {
             "endlinecolor": "#2a3f5f",
             "gridcolor": "white",
             "linecolor": "white",
             "minorgridcolor": "white",
             "startlinecolor": "#2a3f5f"
            },
            "type": "carpet"
           }
          ],
          "choropleth": [
           {
            "colorbar": {
             "outlinewidth": 0,
             "ticks": ""
            },
            "type": "choropleth"
           }
          ],
          "contour": [
           {
            "colorbar": {
             "outlinewidth": 0,
             "ticks": ""
            },
            "colorscale": [
             [
              0,
              "#0d0887"
             ],
             [
              0.1111111111111111,
              "#46039f"
             ],
             [
              0.2222222222222222,
              "#7201a8"
             ],
             [
              0.3333333333333333,
              "#9c179e"
             ],
             [
              0.4444444444444444,
              "#bd3786"
             ],
             [
              0.5555555555555556,
              "#d8576b"
             ],
             [
              0.6666666666666666,
              "#ed7953"
             ],
             [
              0.7777777777777778,
              "#fb9f3a"
             ],
             [
              0.8888888888888888,
              "#fdca26"
             ],
             [
              1,
              "#f0f921"
             ]
            ],
            "type": "contour"
           }
          ],
          "contourcarpet": [
           {
            "colorbar": {
             "outlinewidth": 0,
             "ticks": ""
            },
            "type": "contourcarpet"
           }
          ],
          "heatmap": [
           {
            "colorbar": {
             "outlinewidth": 0,
             "ticks": ""
            },
            "colorscale": [
             [
              0,
              "#0d0887"
             ],
             [
              0.1111111111111111,
              "#46039f"
             ],
             [
              0.2222222222222222,
              "#7201a8"
             ],
             [
              0.3333333333333333,
              "#9c179e"
             ],
             [
              0.4444444444444444,
              "#bd3786"
             ],
             [
              0.5555555555555556,
              "#d8576b"
             ],
             [
              0.6666666666666666,
              "#ed7953"
             ],
             [
              0.7777777777777778,
              "#fb9f3a"
             ],
             [
              0.8888888888888888,
              "#fdca26"
             ],
             [
              1,
              "#f0f921"
             ]
            ],
            "type": "heatmap"
           }
          ],
          "heatmapgl": [
           {
            "colorbar": {
             "outlinewidth": 0,
             "ticks": ""
            },
            "colorscale": [
             [
              0,
              "#0d0887"
             ],
             [
              0.1111111111111111,
              "#46039f"
             ],
             [
              0.2222222222222222,
              "#7201a8"
             ],
             [
              0.3333333333333333,
              "#9c179e"
             ],
             [
              0.4444444444444444,
              "#bd3786"
             ],
             [
              0.5555555555555556,
              "#d8576b"
             ],
             [
              0.6666666666666666,
              "#ed7953"
             ],
             [
              0.7777777777777778,
              "#fb9f3a"
             ],
             [
              0.8888888888888888,
              "#fdca26"
             ],
             [
              1,
              "#f0f921"
             ]
            ],
            "type": "heatmapgl"
           }
          ],
          "histogram": [
           {
            "marker": {
             "pattern": {
              "fillmode": "overlay",
              "size": 10,
              "solidity": 0.2
             }
            },
            "type": "histogram"
           }
          ],
          "histogram2d": [
           {
            "colorbar": {
             "outlinewidth": 0,
             "ticks": ""
            },
            "colorscale": [
             [
              0,
              "#0d0887"
             ],
             [
              0.1111111111111111,
              "#46039f"
             ],
             [
              0.2222222222222222,
              "#7201a8"
             ],
             [
              0.3333333333333333,
              "#9c179e"
             ],
             [
              0.4444444444444444,
              "#bd3786"
             ],
             [
              0.5555555555555556,
              "#d8576b"
             ],
             [
              0.6666666666666666,
              "#ed7953"
             ],
             [
              0.7777777777777778,
              "#fb9f3a"
             ],
             [
              0.8888888888888888,
              "#fdca26"
             ],
             [
              1,
              "#f0f921"
             ]
            ],
            "type": "histogram2d"
           }
          ],
          "histogram2dcontour": [
           {
            "colorbar": {
             "outlinewidth": 0,
             "ticks": ""
            },
            "colorscale": [
             [
              0,
              "#0d0887"
             ],
             [
              0.1111111111111111,
              "#46039f"
             ],
             [
              0.2222222222222222,
              "#7201a8"
             ],
             [
              0.3333333333333333,
              "#9c179e"
             ],
             [
              0.4444444444444444,
              "#bd3786"
             ],
             [
              0.5555555555555556,
              "#d8576b"
             ],
             [
              0.6666666666666666,
              "#ed7953"
             ],
             [
              0.7777777777777778,
              "#fb9f3a"
             ],
             [
              0.8888888888888888,
              "#fdca26"
             ],
             [
              1,
              "#f0f921"
             ]
            ],
            "type": "histogram2dcontour"
           }
          ],
          "mesh3d": [
           {
            "colorbar": {
             "outlinewidth": 0,
             "ticks": ""
            },
            "type": "mesh3d"
           }
          ],
          "parcoords": [
           {
            "line": {
             "colorbar": {
              "outlinewidth": 0,
              "ticks": ""
             }
            },
            "type": "parcoords"
           }
          ],
          "pie": [
           {
            "automargin": true,
            "type": "pie"
           }
          ],
          "scatter": [
           {
            "fillpattern": {
             "fillmode": "overlay",
             "size": 10,
             "solidity": 0.2
            },
            "type": "scatter"
           }
          ],
          "scatter3d": [
           {
            "line": {
             "colorbar": {
              "outlinewidth": 0,
              "ticks": ""
             }
            },
            "marker": {
             "colorbar": {
              "outlinewidth": 0,
              "ticks": ""
             }
            },
            "type": "scatter3d"
           }
          ],
          "scattercarpet": [
           {
            "marker": {
             "colorbar": {
              "outlinewidth": 0,
              "ticks": ""
             }
            },
            "type": "scattercarpet"
           }
          ],
          "scattergeo": [
           {
            "marker": {
             "colorbar": {
              "outlinewidth": 0,
              "ticks": ""
             }
            },
            "type": "scattergeo"
           }
          ],
          "scattergl": [
           {
            "marker": {
             "colorbar": {
              "outlinewidth": 0,
              "ticks": ""
             }
            },
            "type": "scattergl"
           }
          ],
          "scattermapbox": [
           {
            "marker": {
             "colorbar": {
              "outlinewidth": 0,
              "ticks": ""
             }
            },
            "type": "scattermapbox"
           }
          ],
          "scatterpolar": [
           {
            "marker": {
             "colorbar": {
              "outlinewidth": 0,
              "ticks": ""
             }
            },
            "type": "scatterpolar"
           }
          ],
          "scatterpolargl": [
           {
            "marker": {
             "colorbar": {
              "outlinewidth": 0,
              "ticks": ""
             }
            },
            "type": "scatterpolargl"
           }
          ],
          "scatterternary": [
           {
            "marker": {
             "colorbar": {
              "outlinewidth": 0,
              "ticks": ""
             }
            },
            "type": "scatterternary"
           }
          ],
          "surface": [
           {
            "colorbar": {
             "outlinewidth": 0,
             "ticks": ""
            },
            "colorscale": [
             [
              0,
              "#0d0887"
             ],
             [
              0.1111111111111111,
              "#46039f"
             ],
             [
              0.2222222222222222,
              "#7201a8"
             ],
             [
              0.3333333333333333,
              "#9c179e"
             ],
             [
              0.4444444444444444,
              "#bd3786"
             ],
             [
              0.5555555555555556,
              "#d8576b"
             ],
             [
              0.6666666666666666,
              "#ed7953"
             ],
             [
              0.7777777777777778,
              "#fb9f3a"
             ],
             [
              0.8888888888888888,
              "#fdca26"
             ],
             [
              1,
              "#f0f921"
             ]
            ],
            "type": "surface"
           }
          ],
          "table": [
           {
            "cells": {
             "fill": {
              "color": "#EBF0F8"
             },
             "line": {
              "color": "white"
             }
            },
            "header": {
             "fill": {
              "color": "#C8D4E3"
             },
             "line": {
              "color": "white"
             }
            },
            "type": "table"
           }
          ]
         },
         "layout": {
          "annotationdefaults": {
           "arrowcolor": "#2a3f5f",
           "arrowhead": 0,
           "arrowwidth": 1
          },
          "autotypenumbers": "strict",
          "coloraxis": {
           "colorbar": {
            "outlinewidth": 0,
            "ticks": ""
           }
          },
          "colorscale": {
           "diverging": [
            [
             0,
             "#8e0152"
            ],
            [
             0.1,
             "#c51b7d"
            ],
            [
             0.2,
             "#de77ae"
            ],
            [
             0.3,
             "#f1b6da"
            ],
            [
             0.4,
             "#fde0ef"
            ],
            [
             0.5,
             "#f7f7f7"
            ],
            [
             0.6,
             "#e6f5d0"
            ],
            [
             0.7,
             "#b8e186"
            ],
            [
             0.8,
             "#7fbc41"
            ],
            [
             0.9,
             "#4d9221"
            ],
            [
             1,
             "#276419"
            ]
           ],
           "sequential": [
            [
             0,
             "#0d0887"
            ],
            [
             0.1111111111111111,
             "#46039f"
            ],
            [
             0.2222222222222222,
             "#7201a8"
            ],
            [
             0.3333333333333333,
             "#9c179e"
            ],
            [
             0.4444444444444444,
             "#bd3786"
            ],
            [
             0.5555555555555556,
             "#d8576b"
            ],
            [
             0.6666666666666666,
             "#ed7953"
            ],
            [
             0.7777777777777778,
             "#fb9f3a"
            ],
            [
             0.8888888888888888,
             "#fdca26"
            ],
            [
             1,
             "#f0f921"
            ]
           ],
           "sequentialminus": [
            [
             0,
             "#0d0887"
            ],
            [
             0.1111111111111111,
             "#46039f"
            ],
            [
             0.2222222222222222,
             "#7201a8"
            ],
            [
             0.3333333333333333,
             "#9c179e"
            ],
            [
             0.4444444444444444,
             "#bd3786"
            ],
            [
             0.5555555555555556,
             "#d8576b"
            ],
            [
             0.6666666666666666,
             "#ed7953"
            ],
            [
             0.7777777777777778,
             "#fb9f3a"
            ],
            [
             0.8888888888888888,
             "#fdca26"
            ],
            [
             1,
             "#f0f921"
            ]
           ]
          },
          "colorway": [
           "#636efa",
           "#EF553B",
           "#00cc96",
           "#ab63fa",
           "#FFA15A",
           "#19d3f3",
           "#FF6692",
           "#B6E880",
           "#FF97FF",
           "#FECB52"
          ],
          "font": {
           "color": "#2a3f5f"
          },
          "geo": {
           "bgcolor": "white",
           "lakecolor": "white",
           "landcolor": "#E5ECF6",
           "showlakes": true,
           "showland": true,
           "subunitcolor": "white"
          },
          "hoverlabel": {
           "align": "left"
          },
          "hovermode": "closest",
          "mapbox": {
           "style": "light"
          },
          "paper_bgcolor": "white",
          "plot_bgcolor": "#E5ECF6",
          "polar": {
           "angularaxis": {
            "gridcolor": "white",
            "linecolor": "white",
            "ticks": ""
           },
           "bgcolor": "#E5ECF6",
           "radialaxis": {
            "gridcolor": "white",
            "linecolor": "white",
            "ticks": ""
           }
          },
          "scene": {
           "xaxis": {
            "backgroundcolor": "#E5ECF6",
            "gridcolor": "white",
            "gridwidth": 2,
            "linecolor": "white",
            "showbackground": true,
            "ticks": "",
            "zerolinecolor": "white"
           },
           "yaxis": {
            "backgroundcolor": "#E5ECF6",
            "gridcolor": "white",
            "gridwidth": 2,
            "linecolor": "white",
            "showbackground": true,
            "ticks": "",
            "zerolinecolor": "white"
           },
           "zaxis": {
            "backgroundcolor": "#E5ECF6",
            "gridcolor": "white",
            "gridwidth": 2,
            "linecolor": "white",
            "showbackground": true,
            "ticks": "",
            "zerolinecolor": "white"
           }
          },
          "shapedefaults": {
           "line": {
            "color": "#2a3f5f"
           }
          },
          "ternary": {
           "aaxis": {
            "gridcolor": "white",
            "linecolor": "white",
            "ticks": ""
           },
           "baxis": {
            "gridcolor": "white",
            "linecolor": "white",
            "ticks": ""
           },
           "bgcolor": "#E5ECF6",
           "caxis": {
            "gridcolor": "white",
            "linecolor": "white",
            "ticks": ""
           }
          },
          "title": {
           "x": 0.05
          },
          "xaxis": {
           "automargin": true,
           "gridcolor": "white",
           "linecolor": "white",
           "ticks": "",
           "title": {
            "standoff": 15
           },
           "zerolinecolor": "white",
           "zerolinewidth": 2
          },
          "yaxis": {
           "automargin": true,
           "gridcolor": "white",
           "linecolor": "white",
           "ticks": "",
           "title": {
            "standoff": 15
           },
           "zerolinecolor": "white",
           "zerolinewidth": 2
          }
         }
        },
        "title": {
         "text": "Mesh distance per vertex [% diameter]"
        },
        "width": 600,
        "xaxis": {
         "autorange": true,
         "range": [
          2.6020852139652106e-18,
          0.08000000000000002
         ],
         "type": "linear"
        },
        "yaxis": {
         "autorange": true,
         "range": [
          0,
          31.57894736842105
         ]
        }
       }
      },
      "text/html": [
       "<div>                            <div id=\"c7b707e7-d3f8-415f-b996-06f190460e87\" class=\"plotly-graph-div\" style=\"height:400px; width:600px;\"></div>            <script type=\"text/javascript\">                require([\"plotly\"], function(Plotly) {                    window.PLOTLYENV=window.PLOTLYENV || {};                                    if (document.getElementById(\"c7b707e7-d3f8-415f-b996-06f190460e87\")) {                    Plotly.newPlot(                        \"c7b707e7-d3f8-415f-b996-06f190460e87\",                        [{\"name\":\"noise_factor = 0.01\",\"opacity\":0.5,\"x\":[0.00012591014576019246,0.00018411093105868368,0.00025121507371967067,0.0003617567841740864,0.0004644217999052358,0.000729096853299609,0.00012339861026977928,0.00018563636754414292,0.0002383368948300347,0.00037027052430543936,0.00044555162215775986,0.000707565942213889,0.0001284499908967488,0.00017959967870398024,0.00025371048470556093,0.000369493790548964,0.0004805053190920164,0.0006584292978305597,0.00012237408690654835,0.00018316229712155385,0.00022908951135571548,0.000350574343646998,0.000530166909213069,0.0008216171024563167,0.0001243197639747209,0.00018517409697173785,0.0002485757253418346,0.0003880899393619224,0.0004566107516589933,0.0008015128242640662],\"type\":\"histogram\"},{\"name\":\"noise_factor = 0.1\",\"opacity\":0.5,\"x\":[0.0012679274004068048,0.0018599847745473257,0.00261587385966475,0.0036166857725996072,0.004464351103427216,0.00777115073689134,0.0012913940869565283,0.001868512792287022,0.002493122345046038,0.003717290468395295,0.004578764763836212,0.006606132467297124,0.001309776317152431,0.0018624301899789577,0.0026033625929028025,0.0036138446064247778,0.004838159941333491,0.007067984655224869,0.0012930266229484553,0.0018986759774876404,0.002619277563392499,0.003755588854035724,0.005029021777936061,0.0063879851810367694,0.0012720480548727496,0.0018403549966686224,0.0025592592724116604,0.003628072582555789,0.004986855573360426,0.007156726042218727],\"type\":\"histogram\"},{\"name\":\"noise_factor = 0.5\",\"opacity\":0.5,\"x\":[0.0063474668076103314,0.009437752671772574,0.012683964520459732,0.0190922242294084,0.02723480144222524,0.032943406979414364,0.0064390363523516665,0.009462125934873116,0.012981073260237737,0.01774706642414927,0.021545185010005484,0.03370336467231981,0.006178736164286289,0.009446698410940264,0.012161584834889196,0.018603715828937432,0.02555670034372129,0.03330126076678046,0.006370635089835703,0.00916597819519388,0.012740018820119634,0.018216753584142792,0.022394893387927182,0.03469958028372781,0.006356866691044428,0.009833283129763098,0.012522560892494062,0.019772015759102743,0.025409559973124503,0.032875015823617265],\"type\":\"histogram\"},{\"name\":\"noise_factor = 1.0\",\"opacity\":0.5,\"x\":[null,0.026759802367092692,0.03583311669855731,0.0499333915286153,0.07520169167526024,0.012626218324480331,0.018551256171911716,0.024396536244089443,0.03717709632640312,0.047529445816325566,0.0689150631546906,0.012776817415536053,0.01843962070385627,0.02450857707413368,0.0370212221197801,0.045409491086853195,0.07422176266844123,0.012722248071556985,0.01828454121960764,0.025138463461797583,0.03640458571779377,0.04596387221335714,0.075822519623052,0.01313735372449914,0.019084633032199785,0.026556473793114044,0.03870378347331896,0.03980275939672403,0.06706875703111467],\"type\":\"histogram\"}],                        {\"template\":{\"data\":{\"histogram2dcontour\":[{\"type\":\"histogram2dcontour\",\"colorbar\":{\"outlinewidth\":0,\"ticks\":\"\"},\"colorscale\":[[0.0,\"#0d0887\"],[0.1111111111111111,\"#46039f\"],[0.2222222222222222,\"#7201a8\"],[0.3333333333333333,\"#9c179e\"],[0.4444444444444444,\"#bd3786\"],[0.5555555555555556,\"#d8576b\"],[0.6666666666666666,\"#ed7953\"],[0.7777777777777778,\"#fb9f3a\"],[0.8888888888888888,\"#fdca26\"],[1.0,\"#f0f921\"]]}],\"choropleth\":[{\"type\":\"choropleth\",\"colorbar\":{\"outlinewidth\":0,\"ticks\":\"\"}}],\"histogram2d\":[{\"type\":\"histogram2d\",\"colorbar\":{\"outlinewidth\":0,\"ticks\":\"\"},\"colorscale\":[[0.0,\"#0d0887\"],[0.1111111111111111,\"#46039f\"],[0.2222222222222222,\"#7201a8\"],[0.3333333333333333,\"#9c179e\"],[0.4444444444444444,\"#bd3786\"],[0.5555555555555556,\"#d8576b\"],[0.6666666666666666,\"#ed7953\"],[0.7777777777777778,\"#fb9f3a\"],[0.8888888888888888,\"#fdca26\"],[1.0,\"#f0f921\"]]}],\"heatmap\":[{\"type\":\"heatmap\",\"colorbar\":{\"outlinewidth\":0,\"ticks\":\"\"},\"colorscale\":[[0.0,\"#0d0887\"],[0.1111111111111111,\"#46039f\"],[0.2222222222222222,\"#7201a8\"],[0.3333333333333333,\"#9c179e\"],[0.4444444444444444,\"#bd3786\"],[0.5555555555555556,\"#d8576b\"],[0.6666666666666666,\"#ed7953\"],[0.7777777777777778,\"#fb9f3a\"],[0.8888888888888888,\"#fdca26\"],[1.0,\"#f0f921\"]]}],\"heatmapgl\":[{\"type\":\"heatmapgl\",\"colorbar\":{\"outlinewidth\":0,\"ticks\":\"\"},\"colorscale\":[[0.0,\"#0d0887\"],[0.1111111111111111,\"#46039f\"],[0.2222222222222222,\"#7201a8\"],[0.3333333333333333,\"#9c179e\"],[0.4444444444444444,\"#bd3786\"],[0.5555555555555556,\"#d8576b\"],[0.6666666666666666,\"#ed7953\"],[0.7777777777777778,\"#fb9f3a\"],[0.8888888888888888,\"#fdca26\"],[1.0,\"#f0f921\"]]}],\"contourcarpet\":[{\"type\":\"contourcarpet\",\"colorbar\":{\"outlinewidth\":0,\"ticks\":\"\"}}],\"contour\":[{\"type\":\"contour\",\"colorbar\":{\"outlinewidth\":0,\"ticks\":\"\"},\"colorscale\":[[0.0,\"#0d0887\"],[0.1111111111111111,\"#46039f\"],[0.2222222222222222,\"#7201a8\"],[0.3333333333333333,\"#9c179e\"],[0.4444444444444444,\"#bd3786\"],[0.5555555555555556,\"#d8576b\"],[0.6666666666666666,\"#ed7953\"],[0.7777777777777778,\"#fb9f3a\"],[0.8888888888888888,\"#fdca26\"],[1.0,\"#f0f921\"]]}],\"surface\":[{\"type\":\"surface\",\"colorbar\":{\"outlinewidth\":0,\"ticks\":\"\"},\"colorscale\":[[0.0,\"#0d0887\"],[0.1111111111111111,\"#46039f\"],[0.2222222222222222,\"#7201a8\"],[0.3333333333333333,\"#9c179e\"],[0.4444444444444444,\"#bd3786\"],[0.5555555555555556,\"#d8576b\"],[0.6666666666666666,\"#ed7953\"],[0.7777777777777778,\"#fb9f3a\"],[0.8888888888888888,\"#fdca26\"],[1.0,\"#f0f921\"]]}],\"mesh3d\":[{\"type\":\"mesh3d\",\"colorbar\":{\"outlinewidth\":0,\"ticks\":\"\"}}],\"scatter\":[{\"fillpattern\":{\"fillmode\":\"overlay\",\"size\":10,\"solidity\":0.2},\"type\":\"scatter\"}],\"parcoords\":[{\"type\":\"parcoords\",\"line\":{\"colorbar\":{\"outlinewidth\":0,\"ticks\":\"\"}}}],\"scatterpolargl\":[{\"type\":\"scatterpolargl\",\"marker\":{\"colorbar\":{\"outlinewidth\":0,\"ticks\":\"\"}}}],\"bar\":[{\"error_x\":{\"color\":\"#2a3f5f\"},\"error_y\":{\"color\":\"#2a3f5f\"},\"marker\":{\"line\":{\"color\":\"#E5ECF6\",\"width\":0.5},\"pattern\":{\"fillmode\":\"overlay\",\"size\":10,\"solidity\":0.2}},\"type\":\"bar\"}],\"scattergeo\":[{\"type\":\"scattergeo\",\"marker\":{\"colorbar\":{\"outlinewidth\":0,\"ticks\":\"\"}}}],\"scatterpolar\":[{\"type\":\"scatterpolar\",\"marker\":{\"colorbar\":{\"outlinewidth\":0,\"ticks\":\"\"}}}],\"histogram\":[{\"marker\":{\"pattern\":{\"fillmode\":\"overlay\",\"size\":10,\"solidity\":0.2}},\"type\":\"histogram\"}],\"scattergl\":[{\"type\":\"scattergl\",\"marker\":{\"colorbar\":{\"outlinewidth\":0,\"ticks\":\"\"}}}],\"scatter3d\":[{\"type\":\"scatter3d\",\"line\":{\"colorbar\":{\"outlinewidth\":0,\"ticks\":\"\"}},\"marker\":{\"colorbar\":{\"outlinewidth\":0,\"ticks\":\"\"}}}],\"scattermapbox\":[{\"type\":\"scattermapbox\",\"marker\":{\"colorbar\":{\"outlinewidth\":0,\"ticks\":\"\"}}}],\"scatterternary\":[{\"type\":\"scatterternary\",\"marker\":{\"colorbar\":{\"outlinewidth\":0,\"ticks\":\"\"}}}],\"scattercarpet\":[{\"type\":\"scattercarpet\",\"marker\":{\"colorbar\":{\"outlinewidth\":0,\"ticks\":\"\"}}}],\"carpet\":[{\"aaxis\":{\"endlinecolor\":\"#2a3f5f\",\"gridcolor\":\"white\",\"linecolor\":\"white\",\"minorgridcolor\":\"white\",\"startlinecolor\":\"#2a3f5f\"},\"baxis\":{\"endlinecolor\":\"#2a3f5f\",\"gridcolor\":\"white\",\"linecolor\":\"white\",\"minorgridcolor\":\"white\",\"startlinecolor\":\"#2a3f5f\"},\"type\":\"carpet\"}],\"table\":[{\"cells\":{\"fill\":{\"color\":\"#EBF0F8\"},\"line\":{\"color\":\"white\"}},\"header\":{\"fill\":{\"color\":\"#C8D4E3\"},\"line\":{\"color\":\"white\"}},\"type\":\"table\"}],\"barpolar\":[{\"marker\":{\"line\":{\"color\":\"#E5ECF6\",\"width\":0.5},\"pattern\":{\"fillmode\":\"overlay\",\"size\":10,\"solidity\":0.2}},\"type\":\"barpolar\"}],\"pie\":[{\"automargin\":true,\"type\":\"pie\"}]},\"layout\":{\"autotypenumbers\":\"strict\",\"colorway\":[\"#636efa\",\"#EF553B\",\"#00cc96\",\"#ab63fa\",\"#FFA15A\",\"#19d3f3\",\"#FF6692\",\"#B6E880\",\"#FF97FF\",\"#FECB52\"],\"font\":{\"color\":\"#2a3f5f\"},\"hovermode\":\"closest\",\"hoverlabel\":{\"align\":\"left\"},\"paper_bgcolor\":\"white\",\"plot_bgcolor\":\"#E5ECF6\",\"polar\":{\"bgcolor\":\"#E5ECF6\",\"angularaxis\":{\"gridcolor\":\"white\",\"linecolor\":\"white\",\"ticks\":\"\"},\"radialaxis\":{\"gridcolor\":\"white\",\"linecolor\":\"white\",\"ticks\":\"\"}},\"ternary\":{\"bgcolor\":\"#E5ECF6\",\"aaxis\":{\"gridcolor\":\"white\",\"linecolor\":\"white\",\"ticks\":\"\"},\"baxis\":{\"gridcolor\":\"white\",\"linecolor\":\"white\",\"ticks\":\"\"},\"caxis\":{\"gridcolor\":\"white\",\"linecolor\":\"white\",\"ticks\":\"\"}},\"coloraxis\":{\"colorbar\":{\"outlinewidth\":0,\"ticks\":\"\"}},\"colorscale\":{\"sequential\":[[0.0,\"#0d0887\"],[0.1111111111111111,\"#46039f\"],[0.2222222222222222,\"#7201a8\"],[0.3333333333333333,\"#9c179e\"],[0.4444444444444444,\"#bd3786\"],[0.5555555555555556,\"#d8576b\"],[0.6666666666666666,\"#ed7953\"],[0.7777777777777778,\"#fb9f3a\"],[0.8888888888888888,\"#fdca26\"],[1.0,\"#f0f921\"]],\"sequentialminus\":[[0.0,\"#0d0887\"],[0.1111111111111111,\"#46039f\"],[0.2222222222222222,\"#7201a8\"],[0.3333333333333333,\"#9c179e\"],[0.4444444444444444,\"#bd3786\"],[0.5555555555555556,\"#d8576b\"],[0.6666666666666666,\"#ed7953\"],[0.7777777777777778,\"#fb9f3a\"],[0.8888888888888888,\"#fdca26\"],[1.0,\"#f0f921\"]],\"diverging\":[[0,\"#8e0152\"],[0.1,\"#c51b7d\"],[0.2,\"#de77ae\"],[0.3,\"#f1b6da\"],[0.4,\"#fde0ef\"],[0.5,\"#f7f7f7\"],[0.6,\"#e6f5d0\"],[0.7,\"#b8e186\"],[0.8,\"#7fbc41\"],[0.9,\"#4d9221\"],[1,\"#276419\"]]},\"xaxis\":{\"gridcolor\":\"white\",\"linecolor\":\"white\",\"ticks\":\"\",\"title\":{\"standoff\":15},\"zerolinecolor\":\"white\",\"automargin\":true,\"zerolinewidth\":2},\"yaxis\":{\"gridcolor\":\"white\",\"linecolor\":\"white\",\"ticks\":\"\",\"title\":{\"standoff\":15},\"zerolinecolor\":\"white\",\"automargin\":true,\"zerolinewidth\":2},\"scene\":{\"xaxis\":{\"backgroundcolor\":\"#E5ECF6\",\"gridcolor\":\"white\",\"linecolor\":\"white\",\"showbackground\":true,\"ticks\":\"\",\"zerolinecolor\":\"white\",\"gridwidth\":2},\"yaxis\":{\"backgroundcolor\":\"#E5ECF6\",\"gridcolor\":\"white\",\"linecolor\":\"white\",\"showbackground\":true,\"ticks\":\"\",\"zerolinecolor\":\"white\",\"gridwidth\":2},\"zaxis\":{\"backgroundcolor\":\"#E5ECF6\",\"gridcolor\":\"white\",\"linecolor\":\"white\",\"showbackground\":true,\"ticks\":\"\",\"zerolinecolor\":\"white\",\"gridwidth\":2}},\"shapedefaults\":{\"line\":{\"color\":\"#2a3f5f\"}},\"annotationdefaults\":{\"arrowcolor\":\"#2a3f5f\",\"arrowhead\":0,\"arrowwidth\":1},\"geo\":{\"bgcolor\":\"white\",\"landcolor\":\"#E5ECF6\",\"subunitcolor\":\"white\",\"showland\":true,\"showlakes\":true,\"lakecolor\":\"white\"},\"title\":{\"x\":0.05},\"mapbox\":{\"style\":\"light\"}}},\"title\":{\"text\":\"Mesh distance per vertex [% diameter]\"},\"showlegend\":true,\"width\":600,\"height\":400},                        {\"responsive\": true}                    ).then(function(){\n",
       "                            \n",
       "var gd = document.getElementById('c7b707e7-d3f8-415f-b996-06f190460e87');\n",
       "var x = new MutationObserver(function (mutations, observer) {{\n",
       "        var display = window.getComputedStyle(gd).display;\n",
       "        if (!display || display === 'none') {{\n",
       "            console.log([gd, 'removed!']);\n",
       "            Plotly.purge(gd);\n",
       "            observer.disconnect();\n",
       "        }}\n",
       "}});\n",
       "\n",
       "// Listen for the removal of the full notebook cells\n",
       "var notebookContainer = gd.closest('#notebook-container');\n",
       "if (notebookContainer) {{\n",
       "    x.observe(notebookContainer, {childList: true});\n",
       "}}\n",
       "\n",
       "// Listen for the clearing of the current output cell\n",
       "var outputEl = gd.closest('.output');\n",
       "if (outputEl) {{\n",
       "    x.observe(outputEl, {childList: true});\n",
       "}}\n",
       "\n",
       "                        })                };                });            </script>        </div>"
      ]
     },
     "metadata": {},
     "output_type": "display_data"
    }
   ],
   "source": [
    "hist_diff_seq_per_time_vertex_diameter_group(by=\"noise_factor\")"
   ]
  },
  {
   "cell_type": "markdown",
   "id": "4860feec-c118-4e38-b875-4f559a818e5f",
   "metadata": {},
   "source": [
    "## Scatter plots"
   ]
  },
  {
   "cell_type": "markdown",
   "id": "ba784540-0eb9-47c2-8376-2485dbfd9b8a",
   "metadata": {},
   "source": [
    "We write code to generate the main plot for the corresponding section of the paper."
   ]
  },
  {
   "cell_type": "code",
   "execution_count": 161,
   "id": "6c8016cb",
   "metadata": {},
   "outputs": [],
   "source": [
    "fontsize = 15\n",
    "\n",
    "\n",
    "def diff_scatter_grouped(\n",
    "    colored_by=\"noise_factor\",\n",
    "    marked_by=\"n_steps\",\n",
    "    diff_seq=\"relative_diff_seq_duration\",\n",
    "):\n",
    "    x = df[\"diff_seq_per_time_vertex_diameter\"] * 100\n",
    "    y = np.abs(df[diff_seq]) / df[\"n_vertices\"]\n",
    "    value_to_symbol = dict(\n",
    "        zip(df[marked_by].unique(), [\"square\", \"x\", \"cross\", \"diamond\", \"star\"])\n",
    "    )\n",
    "\n",
    "    if colored_by == \"n_steps\":\n",
    "        color_discrete_sequence=px.colors.sequential.Plasma_r\n",
    "    else:\n",
    "        color_discrete_sequence=px.colors.sequential.Viridis_r\n",
    "        \n",
    "        \n",
    "    fig = px.scatter(\n",
    "        df,\n",
    "        x=x,\n",
    "        y=y,\n",
    "        color=[str(c) for c in df[colored_by].values],\n",
    "        color_discrete_sequence=color_discrete_sequence,  # px.colors.qualitative.Dark24,  # D3 #Dark24 # Pastel\n",
    "        # color_discrete_sequence=px.colors.sequential.Viridis_r, #px.colors.qualitative.Dark24,  # D3 #Dark24 # Pastel\n",
    "        symbol=[s for s in df[marked_by].values],\n",
    "        symbol_map=value_to_symbol,\n",
    "    )\n",
    "\n",
    "    fig.update_layout(\n",
    "        xaxis_title=dict(\n",
    "            text=COL_TO_TEXT[\"diff_seq_per_time_vertex_diameter\"],\n",
    "            font=dict(family=\"CMU\", size=fontsize),\n",
    "        ),\n",
    "        yaxis_title=dict(\n",
    "            text=COL_TO_TEXT[diff_seq], font=dict(family=\"CMU\", size=fontsize)\n",
    "        ),\n",
    "        title_font=dict(family=\"CMU\", size=fontsize),\n",
    "        xaxis=dict(tickfont=dict(family=\"CMU\", size=fontsize)),\n",
    "        yaxis=dict(tickfont=dict(family=\"CMU\", size=fontsize)),\n",
    "        legend=dict(\n",
    "            font=dict(family=\"CMU\", size=fontsize), title=COL_TO_TEXT[colored_by]\n",
    "        ),\n",
    "        width=650,\n",
    "        height=370,\n",
    "    )\n",
    "\n",
    "    fig.update_traces(marker=dict(size=9, opacity=0.9))\n",
    "    pio.write_image(fig, f\"line_vs_geodesic_colored_by_{colored_by}.svg\")\n",
    "    fig.show()"
   ]
  },
  {
   "cell_type": "code",
   "execution_count": 164,
   "id": "6c21dd84",
   "metadata": {},
   "outputs": [
    {
     "data": {
      "application/vnd.plotly.v1+json": {
       "config": {
        "plotlyServerURL": "https://plot.ly"
       },
       "data": [
        {
         "hovertemplate": "color=1.0<br>symbol=162<br>x=%{x}<br>y=%{y}<extra></extra>",
         "legendgroup": "1.0, 162",
         "marker": {
          "color": "#fde725",
          "opacity": 0.9,
          "size": 9,
          "symbol": "square"
         },
         "mode": "markers",
         "name": "1.0, 162",
         "orientation": "v",
         "showlegend": true,
         "type": "scatter",
         "x": [
          2.675980236709269,
          3.5833116698557306,
          2.4396536244089444,
          3.717709632640312,
          2.450857707413368,
          3.7021222119780104,
          2.513846346179758,
          3.6404585717793774,
          2.6556473793114046,
          3.870378347331896
         ],
         "xaxis": "x",
         "y": [
          39369.02423676907,
          26425.06325601696,
          20248.333346646432,
          16023.485205741164,
          14568.636165577343,
          10473.355075551013,
          8720.99409554482,
          12639.108730334045,
          7455.679727597448,
          5918.367064388237
         ],
         "yaxis": "y"
        },
        {
         "hovertemplate": "color=1.0<br>symbol=42<br>x=%{x}<br>y=%{y}<extra></extra>",
         "legendgroup": "1.0, 42",
         "marker": {
          "color": "#fde725",
          "opacity": 0.9,
          "size": 9,
          "symbol": "x"
         },
         "mode": "markers",
         "name": "1.0, 42",
         "orientation": "v",
         "showlegend": true,
         "type": "scatter",
         "x": [
          4.993339152861529,
          7.520169167526023,
          4.752944581632557,
          6.89150631546906,
          4.54094910868532,
          7.422176266844123,
          4.596387221335714,
          7.5822519623052,
          3.980275939672403,
          6.706875703111467
         ],
         "xaxis": "x",
         "y": [
          34212.44763316742,
          23903.43303420659,
          18370.698406926407,
          16863.33212845094,
          16266.018119544802,
          14490.196608220755,
          12869.991359733165,
          11033.613831684774,
          6060.386783284742,
          4689.967815914245
         ],
         "yaxis": "y"
        },
        {
         "hovertemplate": "color=1.0<br>symbol=642<br>x=%{x}<br>y=%{y}<extra></extra>",
         "legendgroup": "1.0, 642",
         "marker": {
          "color": "#fde725",
          "opacity": 0.9,
          "size": 9,
          "symbol": "cross"
         },
         "mode": "markers",
         "name": "1.0, 642",
         "orientation": "v",
         "showlegend": true,
         "type": "scatter",
         "x": [
          1.2626218324480332,
          1.8551256171911716,
          1.2776817415536053,
          1.843962070385627,
          1.2722248071556985,
          1.828454121960764,
          1.3137353724499141,
          1.9084633032199785
         ],
         "xaxis": "x",
         "y": [
          10823.509923649512,
          12917.750805510841,
          8331.235409491428,
          8656.084343775632,
          7698.444316337281,
          9894.47828411327,
          4829.638439051633,
          8625.84060272231
         ],
         "yaxis": "y"
        },
        {
         "hovertemplate": "color=0.5<br>symbol=162<br>x=%{x}<br>y=%{y}<extra></extra>",
         "legendgroup": "0.5, 162",
         "marker": {
          "color": "#b5de2b",
          "opacity": 0.9,
          "size": 9,
          "symbol": "square"
         },
         "mode": "markers",
         "name": "0.5, 162",
         "orientation": "v",
         "showlegend": true,
         "type": "scatter",
         "x": [
          1.2683964520459732,
          1.9092224229408399,
          1.2981073260237737,
          1.774706642414927,
          1.2161584834889196,
          1.8603715828937433,
          1.2740018820119634,
          1.821675358414279,
          1.2522560892494061,
          1.9772015759102743
         ],
         "xaxis": "x",
         "y": [
          32651.706633877704,
          22160.815581013114,
          18819.346591833415,
          16569.991813193665,
          17795.63748061066,
          9389.491638452857,
          9327.670966583944,
          10394.225407623368,
          7557.589034825328,
          7702.542443030402
         ],
         "yaxis": "y"
        },
        {
         "hovertemplate": "color=0.5<br>symbol=42<br>x=%{x}<br>y=%{y}<extra></extra>",
         "legendgroup": "0.5, 42",
         "marker": {
          "color": "#b5de2b",
          "opacity": 0.9,
          "size": 9,
          "symbol": "x"
         },
         "mode": "markers",
         "name": "0.5, 42",
         "orientation": "v",
         "showlegend": true,
         "type": "scatter",
         "x": [
          2.723480144222524,
          3.2943406979414362,
          2.1545185010005485,
          3.370336467231981,
          2.555670034372129,
          3.3301260766780456,
          2.239489338792718,
          3.469958028372781,
          2.5409559973124503,
          3.2875015823617266
         ],
         "xaxis": "x",
         "y": [
          33643.12946320973,
          21928.16401493931,
          22298.583304178814,
          14815.351518974036,
          13594.236142682286,
          13668.77117621242,
          6383.25822719775,
          6419.281648596939,
          5222.216395418926,
          15395.177315541601
         ],
         "yaxis": "y"
        },
        {
         "hovertemplate": "color=0.5<br>symbol=642<br>x=%{x}<br>y=%{y}<extra></extra>",
         "legendgroup": "0.5, 642",
         "marker": {
          "color": "#b5de2b",
          "opacity": 0.9,
          "size": 9,
          "symbol": "cross"
         },
         "mode": "markers",
         "name": "0.5, 642",
         "orientation": "v",
         "showlegend": true,
         "type": "scatter",
         "x": [
          0.6347466807610331,
          0.9437752671772573,
          0.6439036352351667,
          0.9462125934873117,
          0.6178736164286289,
          0.9446698410940264,
          0.6370635089835702,
          0.916597819519388,
          0.6356866691044428,
          0.9833283129763097
         ],
         "xaxis": "x",
         "y": [
          20840.67452106443,
          18056.028797562714,
          9691.996155506551,
          9559.922649726554,
          9424.17116476214,
          12384.778664300238,
          7034.60781183271,
          8123.013568853423,
          6079.22421175234,
          8882.95239194097
         ],
         "yaxis": "y"
        },
        {
         "hovertemplate": "color=0.1<br>symbol=162<br>x=%{x}<br>y=%{y}<extra></extra>",
         "legendgroup": "0.1, 162",
         "marker": {
          "color": "#6ece58",
          "opacity": 0.9,
          "size": 9,
          "symbol": "square"
         },
         "mode": "markers",
         "name": "0.1, 162",
         "orientation": "v",
         "showlegend": true,
         "type": "scatter",
         "x": [
          0.26158738596647496,
          0.3616685772599607,
          0.24931223450460382,
          0.3717290468395295,
          0.26033625929028026,
          0.36138446064247776,
          0.2619277563392499,
          0.3755588854035724,
          0.25592592724116603,
          0.3628072582555789
         ],
         "xaxis": "x",
         "y": [
          32230.929300469732,
          16120.591278668904,
          9630.585357432827,
          14911.909127257988,
          2575.6299434387433,
          9794.253981992379,
          9766.660862995588,
          7555.894419365909,
          4211.8636640755985,
          5325.327354644191
         ],
         "yaxis": "y"
        },
        {
         "hovertemplate": "color=0.1<br>symbol=42<br>x=%{x}<br>y=%{y}<extra></extra>",
         "legendgroup": "0.1, 42",
         "marker": {
          "color": "#6ece58",
          "opacity": 0.9,
          "size": 9,
          "symbol": "x"
         },
         "mode": "markers",
         "name": "0.1, 42",
         "orientation": "v",
         "showlegend": true,
         "type": "scatter",
         "x": [
          0.44643511034272154,
          0.777115073689134,
          0.4578764763836212,
          0.6606132467297124,
          0.4838159941333491,
          0.7067984655224869,
          0.5029021777936061,
          0.6387985181036769,
          0.4986855573360426,
          0.7156726042218727
         ],
         "xaxis": "x",
         "y": [
          38428.2405236198,
          25844.47697855471,
          12961.101620925945,
          10269.330985655131,
          9862.167262781402,
          10946.503692240865,
          5789.6602223806885,
          7180.328890885496,
          3851.116956464467,
          5929.907407407408
         ],
         "yaxis": "y"
        },
        {
         "hovertemplate": "color=0.1<br>symbol=642<br>x=%{x}<br>y=%{y}<extra></extra>",
         "legendgroup": "0.1, 642",
         "marker": {
          "color": "#6ece58",
          "opacity": 0.9,
          "size": 9,
          "symbol": "cross"
         },
         "mode": "markers",
         "name": "0.1, 642",
         "orientation": "v",
         "showlegend": true,
         "type": "scatter",
         "x": [
          0.12679274004068047,
          0.18599847745473255,
          0.12913940869565282,
          0.1868512792287022,
          0.1309776317152431,
          0.18624301899789578,
          0.12930266229484552,
          0.18986759774876405,
          0.12720480548727495,
          0.18403549966686225
         ],
         "xaxis": "x",
         "y": [
          20914.63433828515,
          18133.70182256496,
          15838.061154842258,
          8182.009141906189,
          9767.33254657813,
          12093.488958290935,
          5993.3882973953205,
          6685.652604068661,
          2655.337982789861,
          4249.24190486341
         ],
         "yaxis": "y"
        },
        {
         "hovertemplate": "color=0.01<br>symbol=162<br>x=%{x}<br>y=%{y}<extra></extra>",
         "legendgroup": "0.01, 162",
         "marker": {
          "color": "#35b779",
          "opacity": 0.9,
          "size": 9,
          "symbol": "square"
         },
         "mode": "markers",
         "name": "0.01, 162",
         "orientation": "v",
         "showlegend": true,
         "type": "scatter",
         "x": [
          0.025121507371967066,
          0.036175678417408645,
          0.023833689483003472,
          0.03702705243054394,
          0.025371048470556094,
          0.0369493790548964,
          0.022908951135571547,
          0.0350574343646998,
          0.024857572534183463,
          0.03880899393619224
         ],
         "xaxis": "x",
         "y": [
          25254.606420110154,
          13266.680215164059,
          12440.293566167002,
          7969.497271426015,
          10417.944126302393,
          8243.100094777397,
          5501.459064548347,
          4087.546025557722,
          2633.1986925161023,
          3173.0910223088586
         ],
         "yaxis": "y"
        },
        {
         "hovertemplate": "color=0.01<br>symbol=42<br>x=%{x}<br>y=%{y}<extra></extra>",
         "legendgroup": "0.01, 42",
         "marker": {
          "color": "#35b779",
          "opacity": 0.9,
          "size": 9,
          "symbol": "x"
         },
         "mode": "markers",
         "name": "0.01, 42",
         "orientation": "v",
         "showlegend": true,
         "type": "scatter",
         "x": [
          0.04644217999052358,
          0.0729096853299609,
          0.04455516221577598,
          0.0707565942213889,
          0.048050531909201645,
          0.06584292978305596,
          0.0530166909213069,
          0.08216171024563167,
          0.045661075165899324,
          0.08015128242640662
         ],
         "xaxis": "x",
         "y": [
          36357.2346237464,
          16265.93946048827,
          17064.754745254744,
          1787.990565491694,
          14011.866774483378,
          8761.789088651332,
          8190.66264573676,
          5479.745627337985,
          3823.907291121577,
          2409.429151340425
         ],
         "yaxis": "y"
        },
        {
         "hovertemplate": "color=0.01<br>symbol=642<br>x=%{x}<br>y=%{y}<extra></extra>",
         "legendgroup": "0.01, 642",
         "marker": {
          "color": "#35b779",
          "opacity": 0.9,
          "size": 9,
          "symbol": "cross"
         },
         "mode": "markers",
         "name": "0.01, 642",
         "orientation": "v",
         "showlegend": true,
         "type": "scatter",
         "x": [
          0.012591014576019246,
          0.01841109310586837,
          0.012339861026977927,
          0.018563636754414293,
          0.012844999089674881,
          0.017959967870398025,
          0.012237408690654835,
          0.018316229712155383,
          0.01243197639747209,
          0.018517409697173786
         ],
         "xaxis": "x",
         "y": [
          21748.815820828833,
          18806.563392448938,
          9261.980415488639,
          9604.613810570958,
          10162.832191243806,
          5367.80614411642,
          4436.275835622327,
          3765.846821372312,
          3057.742889762107,
          3040.2309269502193
         ],
         "yaxis": "y"
        }
       ],
       "layout": {
        "height": 370,
        "legend": {
         "font": {
          "family": "CMU",
          "size": 15
         },
         "title": {
          "text": "Deformation factor, Steps"
         },
         "tracegroupgap": 0
        },
        "margin": {
         "t": 60
        },
        "template": {
         "data": {
          "bar": [
           {
            "error_x": {
             "color": "#2a3f5f"
            },
            "error_y": {
             "color": "#2a3f5f"
            },
            "marker": {
             "line": {
              "color": "#E5ECF6",
              "width": 0.5
             },
             "pattern": {
              "fillmode": "overlay",
              "size": 10,
              "solidity": 0.2
             }
            },
            "type": "bar"
           }
          ],
          "barpolar": [
           {
            "marker": {
             "line": {
              "color": "#E5ECF6",
              "width": 0.5
             },
             "pattern": {
              "fillmode": "overlay",
              "size": 10,
              "solidity": 0.2
             }
            },
            "type": "barpolar"
           }
          ],
          "carpet": [
           {
            "aaxis": {
             "endlinecolor": "#2a3f5f",
             "gridcolor": "white",
             "linecolor": "white",
             "minorgridcolor": "white",
             "startlinecolor": "#2a3f5f"
            },
            "baxis": {
             "endlinecolor": "#2a3f5f",
             "gridcolor": "white",
             "linecolor": "white",
             "minorgridcolor": "white",
             "startlinecolor": "#2a3f5f"
            },
            "type": "carpet"
           }
          ],
          "choropleth": [
           {
            "colorbar": {
             "outlinewidth": 0,
             "ticks": ""
            },
            "type": "choropleth"
           }
          ],
          "contour": [
           {
            "colorbar": {
             "outlinewidth": 0,
             "ticks": ""
            },
            "colorscale": [
             [
              0,
              "#0d0887"
             ],
             [
              0.1111111111111111,
              "#46039f"
             ],
             [
              0.2222222222222222,
              "#7201a8"
             ],
             [
              0.3333333333333333,
              "#9c179e"
             ],
             [
              0.4444444444444444,
              "#bd3786"
             ],
             [
              0.5555555555555556,
              "#d8576b"
             ],
             [
              0.6666666666666666,
              "#ed7953"
             ],
             [
              0.7777777777777778,
              "#fb9f3a"
             ],
             [
              0.8888888888888888,
              "#fdca26"
             ],
             [
              1,
              "#f0f921"
             ]
            ],
            "type": "contour"
           }
          ],
          "contourcarpet": [
           {
            "colorbar": {
             "outlinewidth": 0,
             "ticks": ""
            },
            "type": "contourcarpet"
           }
          ],
          "heatmap": [
           {
            "colorbar": {
             "outlinewidth": 0,
             "ticks": ""
            },
            "colorscale": [
             [
              0,
              "#0d0887"
             ],
             [
              0.1111111111111111,
              "#46039f"
             ],
             [
              0.2222222222222222,
              "#7201a8"
             ],
             [
              0.3333333333333333,
              "#9c179e"
             ],
             [
              0.4444444444444444,
              "#bd3786"
             ],
             [
              0.5555555555555556,
              "#d8576b"
             ],
             [
              0.6666666666666666,
              "#ed7953"
             ],
             [
              0.7777777777777778,
              "#fb9f3a"
             ],
             [
              0.8888888888888888,
              "#fdca26"
             ],
             [
              1,
              "#f0f921"
             ]
            ],
            "type": "heatmap"
           }
          ],
          "heatmapgl": [
           {
            "colorbar": {
             "outlinewidth": 0,
             "ticks": ""
            },
            "colorscale": [
             [
              0,
              "#0d0887"
             ],
             [
              0.1111111111111111,
              "#46039f"
             ],
             [
              0.2222222222222222,
              "#7201a8"
             ],
             [
              0.3333333333333333,
              "#9c179e"
             ],
             [
              0.4444444444444444,
              "#bd3786"
             ],
             [
              0.5555555555555556,
              "#d8576b"
             ],
             [
              0.6666666666666666,
              "#ed7953"
             ],
             [
              0.7777777777777778,
              "#fb9f3a"
             ],
             [
              0.8888888888888888,
              "#fdca26"
             ],
             [
              1,
              "#f0f921"
             ]
            ],
            "type": "heatmapgl"
           }
          ],
          "histogram": [
           {
            "marker": {
             "pattern": {
              "fillmode": "overlay",
              "size": 10,
              "solidity": 0.2
             }
            },
            "type": "histogram"
           }
          ],
          "histogram2d": [
           {
            "colorbar": {
             "outlinewidth": 0,
             "ticks": ""
            },
            "colorscale": [
             [
              0,
              "#0d0887"
             ],
             [
              0.1111111111111111,
              "#46039f"
             ],
             [
              0.2222222222222222,
              "#7201a8"
             ],
             [
              0.3333333333333333,
              "#9c179e"
             ],
             [
              0.4444444444444444,
              "#bd3786"
             ],
             [
              0.5555555555555556,
              "#d8576b"
             ],
             [
              0.6666666666666666,
              "#ed7953"
             ],
             [
              0.7777777777777778,
              "#fb9f3a"
             ],
             [
              0.8888888888888888,
              "#fdca26"
             ],
             [
              1,
              "#f0f921"
             ]
            ],
            "type": "histogram2d"
           }
          ],
          "histogram2dcontour": [
           {
            "colorbar": {
             "outlinewidth": 0,
             "ticks": ""
            },
            "colorscale": [
             [
              0,
              "#0d0887"
             ],
             [
              0.1111111111111111,
              "#46039f"
             ],
             [
              0.2222222222222222,
              "#7201a8"
             ],
             [
              0.3333333333333333,
              "#9c179e"
             ],
             [
              0.4444444444444444,
              "#bd3786"
             ],
             [
              0.5555555555555556,
              "#d8576b"
             ],
             [
              0.6666666666666666,
              "#ed7953"
             ],
             [
              0.7777777777777778,
              "#fb9f3a"
             ],
             [
              0.8888888888888888,
              "#fdca26"
             ],
             [
              1,
              "#f0f921"
             ]
            ],
            "type": "histogram2dcontour"
           }
          ],
          "mesh3d": [
           {
            "colorbar": {
             "outlinewidth": 0,
             "ticks": ""
            },
            "type": "mesh3d"
           }
          ],
          "parcoords": [
           {
            "line": {
             "colorbar": {
              "outlinewidth": 0,
              "ticks": ""
             }
            },
            "type": "parcoords"
           }
          ],
          "pie": [
           {
            "automargin": true,
            "type": "pie"
           }
          ],
          "scatter": [
           {
            "fillpattern": {
             "fillmode": "overlay",
             "size": 10,
             "solidity": 0.2
            },
            "type": "scatter"
           }
          ],
          "scatter3d": [
           {
            "line": {
             "colorbar": {
              "outlinewidth": 0,
              "ticks": ""
             }
            },
            "marker": {
             "colorbar": {
              "outlinewidth": 0,
              "ticks": ""
             }
            },
            "type": "scatter3d"
           }
          ],
          "scattercarpet": [
           {
            "marker": {
             "colorbar": {
              "outlinewidth": 0,
              "ticks": ""
             }
            },
            "type": "scattercarpet"
           }
          ],
          "scattergeo": [
           {
            "marker": {
             "colorbar": {
              "outlinewidth": 0,
              "ticks": ""
             }
            },
            "type": "scattergeo"
           }
          ],
          "scattergl": [
           {
            "marker": {
             "colorbar": {
              "outlinewidth": 0,
              "ticks": ""
             }
            },
            "type": "scattergl"
           }
          ],
          "scattermapbox": [
           {
            "marker": {
             "colorbar": {
              "outlinewidth": 0,
              "ticks": ""
             }
            },
            "type": "scattermapbox"
           }
          ],
          "scatterpolar": [
           {
            "marker": {
             "colorbar": {
              "outlinewidth": 0,
              "ticks": ""
             }
            },
            "type": "scatterpolar"
           }
          ],
          "scatterpolargl": [
           {
            "marker": {
             "colorbar": {
              "outlinewidth": 0,
              "ticks": ""
             }
            },
            "type": "scatterpolargl"
           }
          ],
          "scatterternary": [
           {
            "marker": {
             "colorbar": {
              "outlinewidth": 0,
              "ticks": ""
             }
            },
            "type": "scatterternary"
           }
          ],
          "surface": [
           {
            "colorbar": {
             "outlinewidth": 0,
             "ticks": ""
            },
            "colorscale": [
             [
              0,
              "#0d0887"
             ],
             [
              0.1111111111111111,
              "#46039f"
             ],
             [
              0.2222222222222222,
              "#7201a8"
             ],
             [
              0.3333333333333333,
              "#9c179e"
             ],
             [
              0.4444444444444444,
              "#bd3786"
             ],
             [
              0.5555555555555556,
              "#d8576b"
             ],
             [
              0.6666666666666666,
              "#ed7953"
             ],
             [
              0.7777777777777778,
              "#fb9f3a"
             ],
             [
              0.8888888888888888,
              "#fdca26"
             ],
             [
              1,
              "#f0f921"
             ]
            ],
            "type": "surface"
           }
          ],
          "table": [
           {
            "cells": {
             "fill": {
              "color": "#EBF0F8"
             },
             "line": {
              "color": "white"
             }
            },
            "header": {
             "fill": {
              "color": "#C8D4E3"
             },
             "line": {
              "color": "white"
             }
            },
            "type": "table"
           }
          ]
         },
         "layout": {
          "annotationdefaults": {
           "arrowcolor": "#2a3f5f",
           "arrowhead": 0,
           "arrowwidth": 1
          },
          "autotypenumbers": "strict",
          "coloraxis": {
           "colorbar": {
            "outlinewidth": 0,
            "ticks": ""
           }
          },
          "colorscale": {
           "diverging": [
            [
             0,
             "#8e0152"
            ],
            [
             0.1,
             "#c51b7d"
            ],
            [
             0.2,
             "#de77ae"
            ],
            [
             0.3,
             "#f1b6da"
            ],
            [
             0.4,
             "#fde0ef"
            ],
            [
             0.5,
             "#f7f7f7"
            ],
            [
             0.6,
             "#e6f5d0"
            ],
            [
             0.7,
             "#b8e186"
            ],
            [
             0.8,
             "#7fbc41"
            ],
            [
             0.9,
             "#4d9221"
            ],
            [
             1,
             "#276419"
            ]
           ],
           "sequential": [
            [
             0,
             "#0d0887"
            ],
            [
             0.1111111111111111,
             "#46039f"
            ],
            [
             0.2222222222222222,
             "#7201a8"
            ],
            [
             0.3333333333333333,
             "#9c179e"
            ],
            [
             0.4444444444444444,
             "#bd3786"
            ],
            [
             0.5555555555555556,
             "#d8576b"
            ],
            [
             0.6666666666666666,
             "#ed7953"
            ],
            [
             0.7777777777777778,
             "#fb9f3a"
            ],
            [
             0.8888888888888888,
             "#fdca26"
            ],
            [
             1,
             "#f0f921"
            ]
           ],
           "sequentialminus": [
            [
             0,
             "#0d0887"
            ],
            [
             0.1111111111111111,
             "#46039f"
            ],
            [
             0.2222222222222222,
             "#7201a8"
            ],
            [
             0.3333333333333333,
             "#9c179e"
            ],
            [
             0.4444444444444444,
             "#bd3786"
            ],
            [
             0.5555555555555556,
             "#d8576b"
            ],
            [
             0.6666666666666666,
             "#ed7953"
            ],
            [
             0.7777777777777778,
             "#fb9f3a"
            ],
            [
             0.8888888888888888,
             "#fdca26"
            ],
            [
             1,
             "#f0f921"
            ]
           ]
          },
          "colorway": [
           "#636efa",
           "#EF553B",
           "#00cc96",
           "#ab63fa",
           "#FFA15A",
           "#19d3f3",
           "#FF6692",
           "#B6E880",
           "#FF97FF",
           "#FECB52"
          ],
          "font": {
           "color": "#2a3f5f"
          },
          "geo": {
           "bgcolor": "white",
           "lakecolor": "white",
           "landcolor": "#E5ECF6",
           "showlakes": true,
           "showland": true,
           "subunitcolor": "white"
          },
          "hoverlabel": {
           "align": "left"
          },
          "hovermode": "closest",
          "mapbox": {
           "style": "light"
          },
          "paper_bgcolor": "white",
          "plot_bgcolor": "#E5ECF6",
          "polar": {
           "angularaxis": {
            "gridcolor": "white",
            "linecolor": "white",
            "ticks": ""
           },
           "bgcolor": "#E5ECF6",
           "radialaxis": {
            "gridcolor": "white",
            "linecolor": "white",
            "ticks": ""
           }
          },
          "scene": {
           "xaxis": {
            "backgroundcolor": "#E5ECF6",
            "gridcolor": "white",
            "gridwidth": 2,
            "linecolor": "white",
            "showbackground": true,
            "ticks": "",
            "zerolinecolor": "white"
           },
           "yaxis": {
            "backgroundcolor": "#E5ECF6",
            "gridcolor": "white",
            "gridwidth": 2,
            "linecolor": "white",
            "showbackground": true,
            "ticks": "",
            "zerolinecolor": "white"
           },
           "zaxis": {
            "backgroundcolor": "#E5ECF6",
            "gridcolor": "white",
            "gridwidth": 2,
            "linecolor": "white",
            "showbackground": true,
            "ticks": "",
            "zerolinecolor": "white"
           }
          },
          "shapedefaults": {
           "line": {
            "color": "#2a3f5f"
           }
          },
          "ternary": {
           "aaxis": {
            "gridcolor": "white",
            "linecolor": "white",
            "ticks": ""
           },
           "baxis": {
            "gridcolor": "white",
            "linecolor": "white",
            "ticks": ""
           },
           "bgcolor": "#E5ECF6",
           "caxis": {
            "gridcolor": "white",
            "linecolor": "white",
            "ticks": ""
           }
          },
          "title": {
           "x": 0.05
          },
          "xaxis": {
           "automargin": true,
           "gridcolor": "white",
           "linecolor": "white",
           "ticks": "",
           "title": {
            "standoff": 15
           },
           "zerolinecolor": "white",
           "zerolinewidth": 2
          },
          "yaxis": {
           "automargin": true,
           "gridcolor": "white",
           "linecolor": "white",
           "ticks": "",
           "title": {
            "standoff": 15
           },
           "zerolinecolor": "white",
           "zerolinewidth": 2
          }
         }
        },
        "title": {
         "font": {
          "family": "CMU",
          "size": 15
         }
        },
        "width": 650,
        "xaxis": {
         "anchor": "y",
         "autorange": true,
         "domain": [
          0,
          1
         ],
         "range": [
          -0.5591641362059636,
          8.153653507201819
         ],
         "tickfont": {
          "family": "CMU",
          "size": 15
         },
         "title": {
          "font": {
           "family": "CMU",
           "size": 15
          },
          "text": "Mesh distance per vertex [% diameter]"
         },
         "type": "linear"
        },
        "yaxis": {
         "anchor": "x",
         "autorange": true,
         "domain": [
          0,
          1
         ],
         "range": [
          -1499.7499281002604,
          42656.76473036103
         ],
         "tickfont": {
          "family": "CMU",
          "size": 15
         },
         "title": {
          "font": {
           "family": "CMU",
           "size": 15
          },
          "text": "Time difference per vertex [% line]"
         },
         "type": "linear"
        }
       }
      },
      "text/html": [
       "<div>                            <div id=\"ed56a0c7-38bc-4141-8e31-dc5465d9aaf0\" class=\"plotly-graph-div\" style=\"height:370px; width:650px;\"></div>            <script type=\"text/javascript\">                require([\"plotly\"], function(Plotly) {                    window.PLOTLYENV=window.PLOTLYENV || {};                                    if (document.getElementById(\"ed56a0c7-38bc-4141-8e31-dc5465d9aaf0\")) {                    Plotly.newPlot(                        \"ed56a0c7-38bc-4141-8e31-dc5465d9aaf0\",                        [{\"hovertemplate\":\"color=1.0\\u003cbr\\u003esymbol=162\\u003cbr\\u003ex=%{x}\\u003cbr\\u003ey=%{y}\\u003cextra\\u003e\\u003c\\u002fextra\\u003e\",\"legendgroup\":\"1.0, 162\",\"marker\":{\"color\":\"#fde725\",\"symbol\":\"square\",\"opacity\":0.9,\"size\":9},\"mode\":\"markers\",\"name\":\"1.0, 162\",\"orientation\":\"v\",\"showlegend\":true,\"x\":[2.675980236709269,3.5833116698557306,2.4396536244089444,3.717709632640312,2.450857707413368,3.7021222119780104,2.513846346179758,3.6404585717793774,2.6556473793114046,3.870378347331896],\"xaxis\":\"x\",\"y\":[39369.02423676907,26425.06325601696,20248.333346646432,16023.485205741164,14568.636165577343,10473.355075551013,8720.99409554482,12639.108730334045,7455.679727597448,5918.367064388237],\"yaxis\":\"y\",\"type\":\"scatter\"},{\"hovertemplate\":\"color=1.0\\u003cbr\\u003esymbol=42\\u003cbr\\u003ex=%{x}\\u003cbr\\u003ey=%{y}\\u003cextra\\u003e\\u003c\\u002fextra\\u003e\",\"legendgroup\":\"1.0, 42\",\"marker\":{\"color\":\"#fde725\",\"symbol\":\"x\",\"opacity\":0.9,\"size\":9},\"mode\":\"markers\",\"name\":\"1.0, 42\",\"orientation\":\"v\",\"showlegend\":true,\"x\":[4.993339152861529,7.520169167526023,4.752944581632557,6.89150631546906,4.54094910868532,7.422176266844123,4.596387221335714,7.5822519623052,3.980275939672403,6.706875703111467],\"xaxis\":\"x\",\"y\":[34212.44763316742,23903.43303420659,18370.698406926407,16863.33212845094,16266.018119544802,14490.196608220755,12869.991359733165,11033.613831684774,6060.386783284742,4689.967815914245],\"yaxis\":\"y\",\"type\":\"scatter\"},{\"hovertemplate\":\"color=1.0\\u003cbr\\u003esymbol=642\\u003cbr\\u003ex=%{x}\\u003cbr\\u003ey=%{y}\\u003cextra\\u003e\\u003c\\u002fextra\\u003e\",\"legendgroup\":\"1.0, 642\",\"marker\":{\"color\":\"#fde725\",\"symbol\":\"cross\",\"opacity\":0.9,\"size\":9},\"mode\":\"markers\",\"name\":\"1.0, 642\",\"orientation\":\"v\",\"showlegend\":true,\"x\":[1.2626218324480332,1.8551256171911716,1.2776817415536053,1.843962070385627,1.2722248071556985,1.828454121960764,1.3137353724499141,1.9084633032199785],\"xaxis\":\"x\",\"y\":[10823.509923649512,12917.750805510841,8331.235409491428,8656.084343775632,7698.444316337281,9894.47828411327,4829.638439051633,8625.84060272231],\"yaxis\":\"y\",\"type\":\"scatter\"},{\"hovertemplate\":\"color=0.5\\u003cbr\\u003esymbol=162\\u003cbr\\u003ex=%{x}\\u003cbr\\u003ey=%{y}\\u003cextra\\u003e\\u003c\\u002fextra\\u003e\",\"legendgroup\":\"0.5, 162\",\"marker\":{\"color\":\"#b5de2b\",\"symbol\":\"square\",\"opacity\":0.9,\"size\":9},\"mode\":\"markers\",\"name\":\"0.5, 162\",\"orientation\":\"v\",\"showlegend\":true,\"x\":[1.2683964520459732,1.9092224229408399,1.2981073260237737,1.774706642414927,1.2161584834889196,1.8603715828937433,1.2740018820119634,1.821675358414279,1.2522560892494061,1.9772015759102743],\"xaxis\":\"x\",\"y\":[32651.706633877704,22160.815581013114,18819.346591833415,16569.991813193665,17795.63748061066,9389.491638452857,9327.670966583944,10394.225407623368,7557.589034825328,7702.542443030402],\"yaxis\":\"y\",\"type\":\"scatter\"},{\"hovertemplate\":\"color=0.5\\u003cbr\\u003esymbol=42\\u003cbr\\u003ex=%{x}\\u003cbr\\u003ey=%{y}\\u003cextra\\u003e\\u003c\\u002fextra\\u003e\",\"legendgroup\":\"0.5, 42\",\"marker\":{\"color\":\"#b5de2b\",\"symbol\":\"x\",\"opacity\":0.9,\"size\":9},\"mode\":\"markers\",\"name\":\"0.5, 42\",\"orientation\":\"v\",\"showlegend\":true,\"x\":[2.723480144222524,3.2943406979414362,2.1545185010005485,3.370336467231981,2.555670034372129,3.3301260766780456,2.239489338792718,3.469958028372781,2.5409559973124503,3.2875015823617266],\"xaxis\":\"x\",\"y\":[33643.12946320973,21928.16401493931,22298.583304178814,14815.351518974036,13594.236142682286,13668.77117621242,6383.25822719775,6419.281648596939,5222.216395418926,15395.177315541601],\"yaxis\":\"y\",\"type\":\"scatter\"},{\"hovertemplate\":\"color=0.5\\u003cbr\\u003esymbol=642\\u003cbr\\u003ex=%{x}\\u003cbr\\u003ey=%{y}\\u003cextra\\u003e\\u003c\\u002fextra\\u003e\",\"legendgroup\":\"0.5, 642\",\"marker\":{\"color\":\"#b5de2b\",\"symbol\":\"cross\",\"opacity\":0.9,\"size\":9},\"mode\":\"markers\",\"name\":\"0.5, 642\",\"orientation\":\"v\",\"showlegend\":true,\"x\":[0.6347466807610331,0.9437752671772573,0.6439036352351667,0.9462125934873117,0.6178736164286289,0.9446698410940264,0.6370635089835702,0.916597819519388,0.6356866691044428,0.9833283129763097],\"xaxis\":\"x\",\"y\":[20840.67452106443,18056.028797562714,9691.996155506551,9559.922649726554,9424.17116476214,12384.778664300238,7034.60781183271,8123.013568853423,6079.22421175234,8882.95239194097],\"yaxis\":\"y\",\"type\":\"scatter\"},{\"hovertemplate\":\"color=0.1\\u003cbr\\u003esymbol=162\\u003cbr\\u003ex=%{x}\\u003cbr\\u003ey=%{y}\\u003cextra\\u003e\\u003c\\u002fextra\\u003e\",\"legendgroup\":\"0.1, 162\",\"marker\":{\"color\":\"#6ece58\",\"symbol\":\"square\",\"opacity\":0.9,\"size\":9},\"mode\":\"markers\",\"name\":\"0.1, 162\",\"orientation\":\"v\",\"showlegend\":true,\"x\":[0.26158738596647496,0.3616685772599607,0.24931223450460382,0.3717290468395295,0.26033625929028026,0.36138446064247776,0.2619277563392499,0.3755588854035724,0.25592592724116603,0.3628072582555789],\"xaxis\":\"x\",\"y\":[32230.929300469732,16120.591278668904,9630.585357432827,14911.909127257988,2575.6299434387433,9794.253981992379,9766.660862995588,7555.894419365909,4211.8636640755985,5325.327354644191],\"yaxis\":\"y\",\"type\":\"scatter\"},{\"hovertemplate\":\"color=0.1\\u003cbr\\u003esymbol=42\\u003cbr\\u003ex=%{x}\\u003cbr\\u003ey=%{y}\\u003cextra\\u003e\\u003c\\u002fextra\\u003e\",\"legendgroup\":\"0.1, 42\",\"marker\":{\"color\":\"#6ece58\",\"symbol\":\"x\",\"opacity\":0.9,\"size\":9},\"mode\":\"markers\",\"name\":\"0.1, 42\",\"orientation\":\"v\",\"showlegend\":true,\"x\":[0.44643511034272154,0.777115073689134,0.4578764763836212,0.6606132467297124,0.4838159941333491,0.7067984655224869,0.5029021777936061,0.6387985181036769,0.4986855573360426,0.7156726042218727],\"xaxis\":\"x\",\"y\":[38428.2405236198,25844.47697855471,12961.101620925945,10269.330985655131,9862.167262781402,10946.503692240865,5789.6602223806885,7180.328890885496,3851.116956464467,5929.907407407408],\"yaxis\":\"y\",\"type\":\"scatter\"},{\"hovertemplate\":\"color=0.1\\u003cbr\\u003esymbol=642\\u003cbr\\u003ex=%{x}\\u003cbr\\u003ey=%{y}\\u003cextra\\u003e\\u003c\\u002fextra\\u003e\",\"legendgroup\":\"0.1, 642\",\"marker\":{\"color\":\"#6ece58\",\"symbol\":\"cross\",\"opacity\":0.9,\"size\":9},\"mode\":\"markers\",\"name\":\"0.1, 642\",\"orientation\":\"v\",\"showlegend\":true,\"x\":[0.12679274004068047,0.18599847745473255,0.12913940869565282,0.1868512792287022,0.1309776317152431,0.18624301899789578,0.12930266229484552,0.18986759774876405,0.12720480548727495,0.18403549966686225],\"xaxis\":\"x\",\"y\":[20914.63433828515,18133.70182256496,15838.061154842258,8182.009141906189,9767.33254657813,12093.488958290935,5993.3882973953205,6685.652604068661,2655.337982789861,4249.24190486341],\"yaxis\":\"y\",\"type\":\"scatter\"},{\"hovertemplate\":\"color=0.01\\u003cbr\\u003esymbol=162\\u003cbr\\u003ex=%{x}\\u003cbr\\u003ey=%{y}\\u003cextra\\u003e\\u003c\\u002fextra\\u003e\",\"legendgroup\":\"0.01, 162\",\"marker\":{\"color\":\"#35b779\",\"symbol\":\"square\",\"opacity\":0.9,\"size\":9},\"mode\":\"markers\",\"name\":\"0.01, 162\",\"orientation\":\"v\",\"showlegend\":true,\"x\":[0.025121507371967066,0.036175678417408645,0.023833689483003472,0.03702705243054394,0.025371048470556094,0.0369493790548964,0.022908951135571547,0.0350574343646998,0.024857572534183463,0.03880899393619224],\"xaxis\":\"x\",\"y\":[25254.606420110154,13266.680215164059,12440.293566167002,7969.497271426015,10417.944126302393,8243.100094777397,5501.459064548347,4087.546025557722,2633.1986925161023,3173.0910223088586],\"yaxis\":\"y\",\"type\":\"scatter\"},{\"hovertemplate\":\"color=0.01\\u003cbr\\u003esymbol=42\\u003cbr\\u003ex=%{x}\\u003cbr\\u003ey=%{y}\\u003cextra\\u003e\\u003c\\u002fextra\\u003e\",\"legendgroup\":\"0.01, 42\",\"marker\":{\"color\":\"#35b779\",\"symbol\":\"x\",\"opacity\":0.9,\"size\":9},\"mode\":\"markers\",\"name\":\"0.01, 42\",\"orientation\":\"v\",\"showlegend\":true,\"x\":[0.04644217999052358,0.0729096853299609,0.04455516221577598,0.0707565942213889,0.048050531909201645,0.06584292978305596,0.0530166909213069,0.08216171024563167,0.045661075165899324,0.08015128242640662],\"xaxis\":\"x\",\"y\":[36357.2346237464,16265.93946048827,17064.754745254744,1787.990565491694,14011.866774483378,8761.789088651332,8190.66264573676,5479.745627337985,3823.907291121577,2409.429151340425],\"yaxis\":\"y\",\"type\":\"scatter\"},{\"hovertemplate\":\"color=0.01\\u003cbr\\u003esymbol=642\\u003cbr\\u003ex=%{x}\\u003cbr\\u003ey=%{y}\\u003cextra\\u003e\\u003c\\u002fextra\\u003e\",\"legendgroup\":\"0.01, 642\",\"marker\":{\"color\":\"#35b779\",\"symbol\":\"cross\",\"opacity\":0.9,\"size\":9},\"mode\":\"markers\",\"name\":\"0.01, 642\",\"orientation\":\"v\",\"showlegend\":true,\"x\":[0.012591014576019246,0.01841109310586837,0.012339861026977927,0.018563636754414293,0.012844999089674881,0.017959967870398025,0.012237408690654835,0.018316229712155383,0.01243197639747209,0.018517409697173786],\"xaxis\":\"x\",\"y\":[21748.815820828833,18806.563392448938,9261.980415488639,9604.613810570958,10162.832191243806,5367.80614411642,4436.275835622327,3765.846821372312,3057.742889762107,3040.2309269502193],\"yaxis\":\"y\",\"type\":\"scatter\"}],                        {\"template\":{\"data\":{\"histogram2dcontour\":[{\"type\":\"histogram2dcontour\",\"colorbar\":{\"outlinewidth\":0,\"ticks\":\"\"},\"colorscale\":[[0.0,\"#0d0887\"],[0.1111111111111111,\"#46039f\"],[0.2222222222222222,\"#7201a8\"],[0.3333333333333333,\"#9c179e\"],[0.4444444444444444,\"#bd3786\"],[0.5555555555555556,\"#d8576b\"],[0.6666666666666666,\"#ed7953\"],[0.7777777777777778,\"#fb9f3a\"],[0.8888888888888888,\"#fdca26\"],[1.0,\"#f0f921\"]]}],\"choropleth\":[{\"type\":\"choropleth\",\"colorbar\":{\"outlinewidth\":0,\"ticks\":\"\"}}],\"histogram2d\":[{\"type\":\"histogram2d\",\"colorbar\":{\"outlinewidth\":0,\"ticks\":\"\"},\"colorscale\":[[0.0,\"#0d0887\"],[0.1111111111111111,\"#46039f\"],[0.2222222222222222,\"#7201a8\"],[0.3333333333333333,\"#9c179e\"],[0.4444444444444444,\"#bd3786\"],[0.5555555555555556,\"#d8576b\"],[0.6666666666666666,\"#ed7953\"],[0.7777777777777778,\"#fb9f3a\"],[0.8888888888888888,\"#fdca26\"],[1.0,\"#f0f921\"]]}],\"heatmap\":[{\"type\":\"heatmap\",\"colorbar\":{\"outlinewidth\":0,\"ticks\":\"\"},\"colorscale\":[[0.0,\"#0d0887\"],[0.1111111111111111,\"#46039f\"],[0.2222222222222222,\"#7201a8\"],[0.3333333333333333,\"#9c179e\"],[0.4444444444444444,\"#bd3786\"],[0.5555555555555556,\"#d8576b\"],[0.6666666666666666,\"#ed7953\"],[0.7777777777777778,\"#fb9f3a\"],[0.8888888888888888,\"#fdca26\"],[1.0,\"#f0f921\"]]}],\"heatmapgl\":[{\"type\":\"heatmapgl\",\"colorbar\":{\"outlinewidth\":0,\"ticks\":\"\"},\"colorscale\":[[0.0,\"#0d0887\"],[0.1111111111111111,\"#46039f\"],[0.2222222222222222,\"#7201a8\"],[0.3333333333333333,\"#9c179e\"],[0.4444444444444444,\"#bd3786\"],[0.5555555555555556,\"#d8576b\"],[0.6666666666666666,\"#ed7953\"],[0.7777777777777778,\"#fb9f3a\"],[0.8888888888888888,\"#fdca26\"],[1.0,\"#f0f921\"]]}],\"contourcarpet\":[{\"type\":\"contourcarpet\",\"colorbar\":{\"outlinewidth\":0,\"ticks\":\"\"}}],\"contour\":[{\"type\":\"contour\",\"colorbar\":{\"outlinewidth\":0,\"ticks\":\"\"},\"colorscale\":[[0.0,\"#0d0887\"],[0.1111111111111111,\"#46039f\"],[0.2222222222222222,\"#7201a8\"],[0.3333333333333333,\"#9c179e\"],[0.4444444444444444,\"#bd3786\"],[0.5555555555555556,\"#d8576b\"],[0.6666666666666666,\"#ed7953\"],[0.7777777777777778,\"#fb9f3a\"],[0.8888888888888888,\"#fdca26\"],[1.0,\"#f0f921\"]]}],\"surface\":[{\"type\":\"surface\",\"colorbar\":{\"outlinewidth\":0,\"ticks\":\"\"},\"colorscale\":[[0.0,\"#0d0887\"],[0.1111111111111111,\"#46039f\"],[0.2222222222222222,\"#7201a8\"],[0.3333333333333333,\"#9c179e\"],[0.4444444444444444,\"#bd3786\"],[0.5555555555555556,\"#d8576b\"],[0.6666666666666666,\"#ed7953\"],[0.7777777777777778,\"#fb9f3a\"],[0.8888888888888888,\"#fdca26\"],[1.0,\"#f0f921\"]]}],\"mesh3d\":[{\"type\":\"mesh3d\",\"colorbar\":{\"outlinewidth\":0,\"ticks\":\"\"}}],\"scatter\":[{\"fillpattern\":{\"fillmode\":\"overlay\",\"size\":10,\"solidity\":0.2},\"type\":\"scatter\"}],\"parcoords\":[{\"type\":\"parcoords\",\"line\":{\"colorbar\":{\"outlinewidth\":0,\"ticks\":\"\"}}}],\"scatterpolargl\":[{\"type\":\"scatterpolargl\",\"marker\":{\"colorbar\":{\"outlinewidth\":0,\"ticks\":\"\"}}}],\"bar\":[{\"error_x\":{\"color\":\"#2a3f5f\"},\"error_y\":{\"color\":\"#2a3f5f\"},\"marker\":{\"line\":{\"color\":\"#E5ECF6\",\"width\":0.5},\"pattern\":{\"fillmode\":\"overlay\",\"size\":10,\"solidity\":0.2}},\"type\":\"bar\"}],\"scattergeo\":[{\"type\":\"scattergeo\",\"marker\":{\"colorbar\":{\"outlinewidth\":0,\"ticks\":\"\"}}}],\"scatterpolar\":[{\"type\":\"scatterpolar\",\"marker\":{\"colorbar\":{\"outlinewidth\":0,\"ticks\":\"\"}}}],\"histogram\":[{\"marker\":{\"pattern\":{\"fillmode\":\"overlay\",\"size\":10,\"solidity\":0.2}},\"type\":\"histogram\"}],\"scattergl\":[{\"type\":\"scattergl\",\"marker\":{\"colorbar\":{\"outlinewidth\":0,\"ticks\":\"\"}}}],\"scatter3d\":[{\"type\":\"scatter3d\",\"line\":{\"colorbar\":{\"outlinewidth\":0,\"ticks\":\"\"}},\"marker\":{\"colorbar\":{\"outlinewidth\":0,\"ticks\":\"\"}}}],\"scattermapbox\":[{\"type\":\"scattermapbox\",\"marker\":{\"colorbar\":{\"outlinewidth\":0,\"ticks\":\"\"}}}],\"scatterternary\":[{\"type\":\"scatterternary\",\"marker\":{\"colorbar\":{\"outlinewidth\":0,\"ticks\":\"\"}}}],\"scattercarpet\":[{\"type\":\"scattercarpet\",\"marker\":{\"colorbar\":{\"outlinewidth\":0,\"ticks\":\"\"}}}],\"carpet\":[{\"aaxis\":{\"endlinecolor\":\"#2a3f5f\",\"gridcolor\":\"white\",\"linecolor\":\"white\",\"minorgridcolor\":\"white\",\"startlinecolor\":\"#2a3f5f\"},\"baxis\":{\"endlinecolor\":\"#2a3f5f\",\"gridcolor\":\"white\",\"linecolor\":\"white\",\"minorgridcolor\":\"white\",\"startlinecolor\":\"#2a3f5f\"},\"type\":\"carpet\"}],\"table\":[{\"cells\":{\"fill\":{\"color\":\"#EBF0F8\"},\"line\":{\"color\":\"white\"}},\"header\":{\"fill\":{\"color\":\"#C8D4E3\"},\"line\":{\"color\":\"white\"}},\"type\":\"table\"}],\"barpolar\":[{\"marker\":{\"line\":{\"color\":\"#E5ECF6\",\"width\":0.5},\"pattern\":{\"fillmode\":\"overlay\",\"size\":10,\"solidity\":0.2}},\"type\":\"barpolar\"}],\"pie\":[{\"automargin\":true,\"type\":\"pie\"}]},\"layout\":{\"autotypenumbers\":\"strict\",\"colorway\":[\"#636efa\",\"#EF553B\",\"#00cc96\",\"#ab63fa\",\"#FFA15A\",\"#19d3f3\",\"#FF6692\",\"#B6E880\",\"#FF97FF\",\"#FECB52\"],\"font\":{\"color\":\"#2a3f5f\"},\"hovermode\":\"closest\",\"hoverlabel\":{\"align\":\"left\"},\"paper_bgcolor\":\"white\",\"plot_bgcolor\":\"#E5ECF6\",\"polar\":{\"bgcolor\":\"#E5ECF6\",\"angularaxis\":{\"gridcolor\":\"white\",\"linecolor\":\"white\",\"ticks\":\"\"},\"radialaxis\":{\"gridcolor\":\"white\",\"linecolor\":\"white\",\"ticks\":\"\"}},\"ternary\":{\"bgcolor\":\"#E5ECF6\",\"aaxis\":{\"gridcolor\":\"white\",\"linecolor\":\"white\",\"ticks\":\"\"},\"baxis\":{\"gridcolor\":\"white\",\"linecolor\":\"white\",\"ticks\":\"\"},\"caxis\":{\"gridcolor\":\"white\",\"linecolor\":\"white\",\"ticks\":\"\"}},\"coloraxis\":{\"colorbar\":{\"outlinewidth\":0,\"ticks\":\"\"}},\"colorscale\":{\"sequential\":[[0.0,\"#0d0887\"],[0.1111111111111111,\"#46039f\"],[0.2222222222222222,\"#7201a8\"],[0.3333333333333333,\"#9c179e\"],[0.4444444444444444,\"#bd3786\"],[0.5555555555555556,\"#d8576b\"],[0.6666666666666666,\"#ed7953\"],[0.7777777777777778,\"#fb9f3a\"],[0.8888888888888888,\"#fdca26\"],[1.0,\"#f0f921\"]],\"sequentialminus\":[[0.0,\"#0d0887\"],[0.1111111111111111,\"#46039f\"],[0.2222222222222222,\"#7201a8\"],[0.3333333333333333,\"#9c179e\"],[0.4444444444444444,\"#bd3786\"],[0.5555555555555556,\"#d8576b\"],[0.6666666666666666,\"#ed7953\"],[0.7777777777777778,\"#fb9f3a\"],[0.8888888888888888,\"#fdca26\"],[1.0,\"#f0f921\"]],\"diverging\":[[0,\"#8e0152\"],[0.1,\"#c51b7d\"],[0.2,\"#de77ae\"],[0.3,\"#f1b6da\"],[0.4,\"#fde0ef\"],[0.5,\"#f7f7f7\"],[0.6,\"#e6f5d0\"],[0.7,\"#b8e186\"],[0.8,\"#7fbc41\"],[0.9,\"#4d9221\"],[1,\"#276419\"]]},\"xaxis\":{\"gridcolor\":\"white\",\"linecolor\":\"white\",\"ticks\":\"\",\"title\":{\"standoff\":15},\"zerolinecolor\":\"white\",\"automargin\":true,\"zerolinewidth\":2},\"yaxis\":{\"gridcolor\":\"white\",\"linecolor\":\"white\",\"ticks\":\"\",\"title\":{\"standoff\":15},\"zerolinecolor\":\"white\",\"automargin\":true,\"zerolinewidth\":2},\"scene\":{\"xaxis\":{\"backgroundcolor\":\"#E5ECF6\",\"gridcolor\":\"white\",\"linecolor\":\"white\",\"showbackground\":true,\"ticks\":\"\",\"zerolinecolor\":\"white\",\"gridwidth\":2},\"yaxis\":{\"backgroundcolor\":\"#E5ECF6\",\"gridcolor\":\"white\",\"linecolor\":\"white\",\"showbackground\":true,\"ticks\":\"\",\"zerolinecolor\":\"white\",\"gridwidth\":2},\"zaxis\":{\"backgroundcolor\":\"#E5ECF6\",\"gridcolor\":\"white\",\"linecolor\":\"white\",\"showbackground\":true,\"ticks\":\"\",\"zerolinecolor\":\"white\",\"gridwidth\":2}},\"shapedefaults\":{\"line\":{\"color\":\"#2a3f5f\"}},\"annotationdefaults\":{\"arrowcolor\":\"#2a3f5f\",\"arrowhead\":0,\"arrowwidth\":1},\"geo\":{\"bgcolor\":\"white\",\"landcolor\":\"#E5ECF6\",\"subunitcolor\":\"white\",\"showland\":true,\"showlakes\":true,\"lakecolor\":\"white\"},\"title\":{\"x\":0.05},\"mapbox\":{\"style\":\"light\"}}},\"xaxis\":{\"anchor\":\"y\",\"domain\":[0.0,1.0],\"title\":{\"text\":\"Mesh distance per vertex [% diameter]\",\"font\":{\"family\":\"CMU\",\"size\":15}},\"tickfont\":{\"family\":\"CMU\",\"size\":15}},\"yaxis\":{\"anchor\":\"x\",\"domain\":[0.0,1.0],\"title\":{\"text\":\"Time difference per vertex [% line]\",\"font\":{\"family\":\"CMU\",\"size\":15}},\"tickfont\":{\"family\":\"CMU\",\"size\":15}},\"legend\":{\"title\":{\"text\":\"Deformation factor, Steps\"},\"tracegroupgap\":0,\"font\":{\"family\":\"CMU\",\"size\":15}},\"margin\":{\"t\":60},\"title\":{\"font\":{\"family\":\"CMU\",\"size\":15}},\"width\":650,\"height\":370},                        {\"responsive\": true}                    ).then(function(){\n",
       "                            \n",
       "var gd = document.getElementById('ed56a0c7-38bc-4141-8e31-dc5465d9aaf0');\n",
       "var x = new MutationObserver(function (mutations, observer) {{\n",
       "        var display = window.getComputedStyle(gd).display;\n",
       "        if (!display || display === 'none') {{\n",
       "            console.log([gd, 'removed!']);\n",
       "            Plotly.purge(gd);\n",
       "            observer.disconnect();\n",
       "        }}\n",
       "}});\n",
       "\n",
       "// Listen for the removal of the full notebook cells\n",
       "var notebookContainer = gd.closest('#notebook-container');\n",
       "if (notebookContainer) {{\n",
       "    x.observe(notebookContainer, {childList: true});\n",
       "}}\n",
       "\n",
       "// Listen for the clearing of the current output cell\n",
       "var outputEl = gd.closest('.output');\n",
       "if (outputEl) {{\n",
       "    x.observe(outputEl, {childList: true});\n",
       "}}\n",
       "\n",
       "                        })                };                });            </script>        </div>"
      ]
     },
     "metadata": {},
     "output_type": "display_data"
    }
   ],
   "source": [
    "diff_scatter_grouped(colored_by=\"noise_factor\", marked_by=\"n_vertices\")"
   ]
  },
  {
   "cell_type": "code",
   "execution_count": 160,
   "id": "3b0f2e1c-a82d-4019-b70c-f87c0fbab166",
   "metadata": {},
   "outputs": [],
   "source": [
    "#diff_scatter_grouped(colored_by=\"n_vertices\", marked_by=\"n_steps\")"
   ]
  },
  {
   "cell_type": "code",
   "execution_count": 163,
   "id": "f1b4dfc6-007d-45f4-b5c5-484933d1d2a0",
   "metadata": {},
   "outputs": [
    {
     "data": {
      "application/vnd.plotly.v1+json": {
       "config": {
        "plotlyServerURL": "https://plot.ly"
       },
       "data": [
        {
         "hovertemplate": "color=20<br>symbol=162<br>x=%{x}<br>y=%{y}<extra></extra>",
         "legendgroup": "20, 162",
         "marker": {
          "color": "#f0f921",
          "opacity": 0.9,
          "size": 9,
          "symbol": "square"
         },
         "mode": "markers",
         "name": "20, 162",
         "orientation": "v",
         "showlegend": true,
         "type": "scatter",
         "x": [
          2.675980236709269,
          3.5833116698557306,
          1.2683964520459732,
          1.9092224229408399,
          0.26158738596647496,
          0.3616685772599607,
          0.025121507371967066,
          0.036175678417408645
         ],
         "xaxis": "x",
         "y": [
          39369.02423676907,
          26425.06325601696,
          32651.706633877704,
          22160.815581013114,
          32230.929300469732,
          16120.591278668904,
          25254.606420110154,
          13266.680215164059
         ],
         "yaxis": "y"
        },
        {
         "hovertemplate": "color=20<br>symbol=42<br>x=%{x}<br>y=%{y}<extra></extra>",
         "legendgroup": "20, 42",
         "marker": {
          "color": "#f0f921",
          "opacity": 0.9,
          "size": 9,
          "symbol": "x"
         },
         "mode": "markers",
         "name": "20, 42",
         "orientation": "v",
         "showlegend": true,
         "type": "scatter",
         "x": [
          4.993339152861529,
          7.520169167526023,
          2.723480144222524,
          3.2943406979414362,
          0.44643511034272154,
          0.777115073689134,
          0.04644217999052358,
          0.0729096853299609
         ],
         "xaxis": "x",
         "y": [
          34212.44763316742,
          23903.43303420659,
          33643.12946320973,
          21928.16401493931,
          38428.2405236198,
          25844.47697855471,
          36357.2346237464,
          16265.93946048827
         ],
         "yaxis": "y"
        },
        {
         "hovertemplate": "color=20<br>symbol=642<br>x=%{x}<br>y=%{y}<extra></extra>",
         "legendgroup": "20, 642",
         "marker": {
          "color": "#f0f921",
          "opacity": 0.9,
          "size": 9,
          "symbol": "cross"
         },
         "mode": "markers",
         "name": "20, 642",
         "orientation": "v",
         "showlegend": true,
         "type": "scatter",
         "x": [
          0.6347466807610331,
          0.9437752671772573,
          0.12679274004068047,
          0.18599847745473255,
          0.012591014576019246,
          0.01841109310586837
         ],
         "xaxis": "x",
         "y": [
          20840.67452106443,
          18056.028797562714,
          20914.63433828515,
          18133.70182256496,
          21748.815820828833,
          18806.563392448938
         ],
         "yaxis": "y"
        },
        {
         "hovertemplate": "color=10<br>symbol=162<br>x=%{x}<br>y=%{y}<extra></extra>",
         "legendgroup": "10, 162",
         "marker": {
          "color": "#fdca26",
          "opacity": 0.9,
          "size": 9,
          "symbol": "square"
         },
         "mode": "markers",
         "name": "10, 162",
         "orientation": "v",
         "showlegend": true,
         "type": "scatter",
         "x": [
          2.4396536244089444,
          3.717709632640312,
          1.2981073260237737,
          1.774706642414927,
          0.24931223450460382,
          0.3717290468395295,
          0.023833689483003472,
          0.03702705243054394
         ],
         "xaxis": "x",
         "y": [
          20248.333346646432,
          16023.485205741164,
          18819.346591833415,
          16569.991813193665,
          9630.585357432827,
          14911.909127257988,
          12440.293566167002,
          7969.497271426015
         ],
         "yaxis": "y"
        },
        {
         "hovertemplate": "color=10<br>symbol=42<br>x=%{x}<br>y=%{y}<extra></extra>",
         "legendgroup": "10, 42",
         "marker": {
          "color": "#fdca26",
          "opacity": 0.9,
          "size": 9,
          "symbol": "x"
         },
         "mode": "markers",
         "name": "10, 42",
         "orientation": "v",
         "showlegend": true,
         "type": "scatter",
         "x": [
          4.752944581632557,
          6.89150631546906,
          2.1545185010005485,
          3.370336467231981,
          0.4578764763836212,
          0.6606132467297124,
          0.04455516221577598,
          0.0707565942213889
         ],
         "xaxis": "x",
         "y": [
          18370.698406926407,
          16863.33212845094,
          22298.583304178814,
          14815.351518974036,
          12961.101620925945,
          10269.330985655131,
          17064.754745254744,
          1787.990565491694
         ],
         "yaxis": "y"
        },
        {
         "hovertemplate": "color=10<br>symbol=642<br>x=%{x}<br>y=%{y}<extra></extra>",
         "legendgroup": "10, 642",
         "marker": {
          "color": "#fdca26",
          "opacity": 0.9,
          "size": 9,
          "symbol": "cross"
         },
         "mode": "markers",
         "name": "10, 642",
         "orientation": "v",
         "showlegend": true,
         "type": "scatter",
         "x": [
          1.2626218324480332,
          1.8551256171911716,
          0.6439036352351667,
          0.9462125934873117,
          0.12913940869565282,
          0.1868512792287022,
          0.012339861026977927,
          0.018563636754414293
         ],
         "xaxis": "x",
         "y": [
          10823.509923649512,
          12917.750805510841,
          9691.996155506551,
          9559.922649726554,
          15838.061154842258,
          8182.009141906189,
          9261.980415488639,
          9604.613810570958
         ],
         "yaxis": "y"
        },
        {
         "hovertemplate": "color=8<br>symbol=162<br>x=%{x}<br>y=%{y}<extra></extra>",
         "legendgroup": "8, 162",
         "marker": {
          "color": "#fb9f3a",
          "opacity": 0.9,
          "size": 9,
          "symbol": "square"
         },
         "mode": "markers",
         "name": "8, 162",
         "orientation": "v",
         "showlegend": true,
         "type": "scatter",
         "x": [
          2.450857707413368,
          3.7021222119780104,
          1.2161584834889196,
          1.8603715828937433,
          0.26033625929028026,
          0.36138446064247776,
          0.025371048470556094,
          0.0369493790548964
         ],
         "xaxis": "x",
         "y": [
          14568.636165577343,
          10473.355075551013,
          17795.63748061066,
          9389.491638452857,
          2575.6299434387433,
          9794.253981992379,
          10417.944126302393,
          8243.100094777397
         ],
         "yaxis": "y"
        },
        {
         "hovertemplate": "color=8<br>symbol=42<br>x=%{x}<br>y=%{y}<extra></extra>",
         "legendgroup": "8, 42",
         "marker": {
          "color": "#fb9f3a",
          "opacity": 0.9,
          "size": 9,
          "symbol": "x"
         },
         "mode": "markers",
         "name": "8, 42",
         "orientation": "v",
         "showlegend": true,
         "type": "scatter",
         "x": [
          4.54094910868532,
          7.422176266844123,
          2.555670034372129,
          3.3301260766780456,
          0.4838159941333491,
          0.7067984655224869,
          0.048050531909201645,
          0.06584292978305596
         ],
         "xaxis": "x",
         "y": [
          16266.018119544802,
          14490.196608220755,
          13594.236142682286,
          13668.77117621242,
          9862.167262781402,
          10946.503692240865,
          14011.866774483378,
          8761.789088651332
         ],
         "yaxis": "y"
        },
        {
         "hovertemplate": "color=8<br>symbol=642<br>x=%{x}<br>y=%{y}<extra></extra>",
         "legendgroup": "8, 642",
         "marker": {
          "color": "#fb9f3a",
          "opacity": 0.9,
          "size": 9,
          "symbol": "cross"
         },
         "mode": "markers",
         "name": "8, 642",
         "orientation": "v",
         "showlegend": true,
         "type": "scatter",
         "x": [
          1.2776817415536053,
          1.843962070385627,
          0.6178736164286289,
          0.9446698410940264,
          0.1309776317152431,
          0.18624301899789578,
          0.012844999089674881,
          0.017959967870398025
         ],
         "xaxis": "x",
         "y": [
          8331.235409491428,
          8656.084343775632,
          9424.17116476214,
          12384.778664300238,
          9767.33254657813,
          12093.488958290935,
          10162.832191243806,
          5367.80614411642
         ],
         "yaxis": "y"
        },
        {
         "hovertemplate": "color=5<br>symbol=162<br>x=%{x}<br>y=%{y}<extra></extra>",
         "legendgroup": "5, 162",
         "marker": {
          "color": "#ed7953",
          "opacity": 0.9,
          "size": 9,
          "symbol": "square"
         },
         "mode": "markers",
         "name": "5, 162",
         "orientation": "v",
         "showlegend": true,
         "type": "scatter",
         "x": [
          2.513846346179758,
          3.6404585717793774,
          1.2740018820119634,
          1.821675358414279,
          0.2619277563392499,
          0.3755588854035724,
          0.022908951135571547,
          0.0350574343646998
         ],
         "xaxis": "x",
         "y": [
          8720.99409554482,
          12639.108730334045,
          9327.670966583944,
          10394.225407623368,
          9766.660862995588,
          7555.894419365909,
          5501.459064548347,
          4087.546025557722
         ],
         "yaxis": "y"
        },
        {
         "hovertemplate": "color=5<br>symbol=42<br>x=%{x}<br>y=%{y}<extra></extra>",
         "legendgroup": "5, 42",
         "marker": {
          "color": "#ed7953",
          "opacity": 0.9,
          "size": 9,
          "symbol": "x"
         },
         "mode": "markers",
         "name": "5, 42",
         "orientation": "v",
         "showlegend": true,
         "type": "scatter",
         "x": [
          4.596387221335714,
          7.5822519623052,
          2.239489338792718,
          3.469958028372781,
          0.5029021777936061,
          0.6387985181036769,
          0.0530166909213069,
          0.08216171024563167
         ],
         "xaxis": "x",
         "y": [
          12869.991359733165,
          11033.613831684774,
          6383.25822719775,
          6419.281648596939,
          5789.6602223806885,
          7180.328890885496,
          8190.66264573676,
          5479.745627337985
         ],
         "yaxis": "y"
        },
        {
         "hovertemplate": "color=5<br>symbol=642<br>x=%{x}<br>y=%{y}<extra></extra>",
         "legendgroup": "5, 642",
         "marker": {
          "color": "#ed7953",
          "opacity": 0.9,
          "size": 9,
          "symbol": "cross"
         },
         "mode": "markers",
         "name": "5, 642",
         "orientation": "v",
         "showlegend": true,
         "type": "scatter",
         "x": [
          1.2722248071556985,
          1.828454121960764,
          0.6370635089835702,
          0.916597819519388,
          0.12930266229484552,
          0.18986759774876405,
          0.012237408690654835,
          0.018316229712155383
         ],
         "xaxis": "x",
         "y": [
          7698.444316337281,
          9894.47828411327,
          7034.60781183271,
          8123.013568853423,
          5993.3882973953205,
          6685.652604068661,
          4436.275835622327,
          3765.846821372312
         ],
         "yaxis": "y"
        },
        {
         "hovertemplate": "color=3<br>symbol=162<br>x=%{x}<br>y=%{y}<extra></extra>",
         "legendgroup": "3, 162",
         "marker": {
          "color": "#d8576b",
          "opacity": 0.9,
          "size": 9,
          "symbol": "square"
         },
         "mode": "markers",
         "name": "3, 162",
         "orientation": "v",
         "showlegend": true,
         "type": "scatter",
         "x": [
          2.6556473793114046,
          3.870378347331896,
          1.2522560892494061,
          1.9772015759102743,
          0.25592592724116603,
          0.3628072582555789,
          0.024857572534183463,
          0.03880899393619224
         ],
         "xaxis": "x",
         "y": [
          7455.679727597448,
          5918.367064388237,
          7557.589034825328,
          7702.542443030402,
          4211.8636640755985,
          5325.327354644191,
          2633.1986925161023,
          3173.0910223088586
         ],
         "yaxis": "y"
        },
        {
         "hovertemplate": "color=3<br>symbol=42<br>x=%{x}<br>y=%{y}<extra></extra>",
         "legendgroup": "3, 42",
         "marker": {
          "color": "#d8576b",
          "opacity": 0.9,
          "size": 9,
          "symbol": "x"
         },
         "mode": "markers",
         "name": "3, 42",
         "orientation": "v",
         "showlegend": true,
         "type": "scatter",
         "x": [
          3.980275939672403,
          6.706875703111467,
          2.5409559973124503,
          3.2875015823617266,
          0.4986855573360426,
          0.7156726042218727,
          0.045661075165899324,
          0.08015128242640662
         ],
         "xaxis": "x",
         "y": [
          6060.386783284742,
          4689.967815914245,
          5222.216395418926,
          15395.177315541601,
          3851.116956464467,
          5929.907407407408,
          3823.907291121577,
          2409.429151340425
         ],
         "yaxis": "y"
        },
        {
         "hovertemplate": "color=3<br>symbol=642<br>x=%{x}<br>y=%{y}<extra></extra>",
         "legendgroup": "3, 642",
         "marker": {
          "color": "#d8576b",
          "opacity": 0.9,
          "size": 9,
          "symbol": "cross"
         },
         "mode": "markers",
         "name": "3, 642",
         "orientation": "v",
         "showlegend": true,
         "type": "scatter",
         "x": [
          1.3137353724499141,
          1.9084633032199785,
          0.6356866691044428,
          0.9833283129763097,
          0.12720480548727495,
          0.18403549966686225,
          0.01243197639747209,
          0.018517409697173786
         ],
         "xaxis": "x",
         "y": [
          4829.638439051633,
          8625.84060272231,
          6079.22421175234,
          8882.95239194097,
          2655.337982789861,
          4249.24190486341,
          3057.742889762107,
          3040.2309269502193
         ],
         "yaxis": "y"
        }
       ],
       "layout": {
        "height": 370,
        "legend": {
         "font": {
          "family": "CMU",
          "size": 15
         },
         "title": {
          "text": "Number of steps"
         },
         "tracegroupgap": 0
        },
        "margin": {
         "t": 60
        },
        "template": {
         "data": {
          "bar": [
           {
            "error_x": {
             "color": "#2a3f5f"
            },
            "error_y": {
             "color": "#2a3f5f"
            },
            "marker": {
             "line": {
              "color": "#E5ECF6",
              "width": 0.5
             },
             "pattern": {
              "fillmode": "overlay",
              "size": 10,
              "solidity": 0.2
             }
            },
            "type": "bar"
           }
          ],
          "barpolar": [
           {
            "marker": {
             "line": {
              "color": "#E5ECF6",
              "width": 0.5
             },
             "pattern": {
              "fillmode": "overlay",
              "size": 10,
              "solidity": 0.2
             }
            },
            "type": "barpolar"
           }
          ],
          "carpet": [
           {
            "aaxis": {
             "endlinecolor": "#2a3f5f",
             "gridcolor": "white",
             "linecolor": "white",
             "minorgridcolor": "white",
             "startlinecolor": "#2a3f5f"
            },
            "baxis": {
             "endlinecolor": "#2a3f5f",
             "gridcolor": "white",
             "linecolor": "white",
             "minorgridcolor": "white",
             "startlinecolor": "#2a3f5f"
            },
            "type": "carpet"
           }
          ],
          "choropleth": [
           {
            "colorbar": {
             "outlinewidth": 0,
             "ticks": ""
            },
            "type": "choropleth"
           }
          ],
          "contour": [
           {
            "colorbar": {
             "outlinewidth": 0,
             "ticks": ""
            },
            "colorscale": [
             [
              0,
              "#0d0887"
             ],
             [
              0.1111111111111111,
              "#46039f"
             ],
             [
              0.2222222222222222,
              "#7201a8"
             ],
             [
              0.3333333333333333,
              "#9c179e"
             ],
             [
              0.4444444444444444,
              "#bd3786"
             ],
             [
              0.5555555555555556,
              "#d8576b"
             ],
             [
              0.6666666666666666,
              "#ed7953"
             ],
             [
              0.7777777777777778,
              "#fb9f3a"
             ],
             [
              0.8888888888888888,
              "#fdca26"
             ],
             [
              1,
              "#f0f921"
             ]
            ],
            "type": "contour"
           }
          ],
          "contourcarpet": [
           {
            "colorbar": {
             "outlinewidth": 0,
             "ticks": ""
            },
            "type": "contourcarpet"
           }
          ],
          "heatmap": [
           {
            "colorbar": {
             "outlinewidth": 0,
             "ticks": ""
            },
            "colorscale": [
             [
              0,
              "#0d0887"
             ],
             [
              0.1111111111111111,
              "#46039f"
             ],
             [
              0.2222222222222222,
              "#7201a8"
             ],
             [
              0.3333333333333333,
              "#9c179e"
             ],
             [
              0.4444444444444444,
              "#bd3786"
             ],
             [
              0.5555555555555556,
              "#d8576b"
             ],
             [
              0.6666666666666666,
              "#ed7953"
             ],
             [
              0.7777777777777778,
              "#fb9f3a"
             ],
             [
              0.8888888888888888,
              "#fdca26"
             ],
             [
              1,
              "#f0f921"
             ]
            ],
            "type": "heatmap"
           }
          ],
          "heatmapgl": [
           {
            "colorbar": {
             "outlinewidth": 0,
             "ticks": ""
            },
            "colorscale": [
             [
              0,
              "#0d0887"
             ],
             [
              0.1111111111111111,
              "#46039f"
             ],
             [
              0.2222222222222222,
              "#7201a8"
             ],
             [
              0.3333333333333333,
              "#9c179e"
             ],
             [
              0.4444444444444444,
              "#bd3786"
             ],
             [
              0.5555555555555556,
              "#d8576b"
             ],
             [
              0.6666666666666666,
              "#ed7953"
             ],
             [
              0.7777777777777778,
              "#fb9f3a"
             ],
             [
              0.8888888888888888,
              "#fdca26"
             ],
             [
              1,
              "#f0f921"
             ]
            ],
            "type": "heatmapgl"
           }
          ],
          "histogram": [
           {
            "marker": {
             "pattern": {
              "fillmode": "overlay",
              "size": 10,
              "solidity": 0.2
             }
            },
            "type": "histogram"
           }
          ],
          "histogram2d": [
           {
            "colorbar": {
             "outlinewidth": 0,
             "ticks": ""
            },
            "colorscale": [
             [
              0,
              "#0d0887"
             ],
             [
              0.1111111111111111,
              "#46039f"
             ],
             [
              0.2222222222222222,
              "#7201a8"
             ],
             [
              0.3333333333333333,
              "#9c179e"
             ],
             [
              0.4444444444444444,
              "#bd3786"
             ],
             [
              0.5555555555555556,
              "#d8576b"
             ],
             [
              0.6666666666666666,
              "#ed7953"
             ],
             [
              0.7777777777777778,
              "#fb9f3a"
             ],
             [
              0.8888888888888888,
              "#fdca26"
             ],
             [
              1,
              "#f0f921"
             ]
            ],
            "type": "histogram2d"
           }
          ],
          "histogram2dcontour": [
           {
            "colorbar": {
             "outlinewidth": 0,
             "ticks": ""
            },
            "colorscale": [
             [
              0,
              "#0d0887"
             ],
             [
              0.1111111111111111,
              "#46039f"
             ],
             [
              0.2222222222222222,
              "#7201a8"
             ],
             [
              0.3333333333333333,
              "#9c179e"
             ],
             [
              0.4444444444444444,
              "#bd3786"
             ],
             [
              0.5555555555555556,
              "#d8576b"
             ],
             [
              0.6666666666666666,
              "#ed7953"
             ],
             [
              0.7777777777777778,
              "#fb9f3a"
             ],
             [
              0.8888888888888888,
              "#fdca26"
             ],
             [
              1,
              "#f0f921"
             ]
            ],
            "type": "histogram2dcontour"
           }
          ],
          "mesh3d": [
           {
            "colorbar": {
             "outlinewidth": 0,
             "ticks": ""
            },
            "type": "mesh3d"
           }
          ],
          "parcoords": [
           {
            "line": {
             "colorbar": {
              "outlinewidth": 0,
              "ticks": ""
             }
            },
            "type": "parcoords"
           }
          ],
          "pie": [
           {
            "automargin": true,
            "type": "pie"
           }
          ],
          "scatter": [
           {
            "fillpattern": {
             "fillmode": "overlay",
             "size": 10,
             "solidity": 0.2
            },
            "type": "scatter"
           }
          ],
          "scatter3d": [
           {
            "line": {
             "colorbar": {
              "outlinewidth": 0,
              "ticks": ""
             }
            },
            "marker": {
             "colorbar": {
              "outlinewidth": 0,
              "ticks": ""
             }
            },
            "type": "scatter3d"
           }
          ],
          "scattercarpet": [
           {
            "marker": {
             "colorbar": {
              "outlinewidth": 0,
              "ticks": ""
             }
            },
            "type": "scattercarpet"
           }
          ],
          "scattergeo": [
           {
            "marker": {
             "colorbar": {
              "outlinewidth": 0,
              "ticks": ""
             }
            },
            "type": "scattergeo"
           }
          ],
          "scattergl": [
           {
            "marker": {
             "colorbar": {
              "outlinewidth": 0,
              "ticks": ""
             }
            },
            "type": "scattergl"
           }
          ],
          "scattermapbox": [
           {
            "marker": {
             "colorbar": {
              "outlinewidth": 0,
              "ticks": ""
             }
            },
            "type": "scattermapbox"
           }
          ],
          "scatterpolar": [
           {
            "marker": {
             "colorbar": {
              "outlinewidth": 0,
              "ticks": ""
             }
            },
            "type": "scatterpolar"
           }
          ],
          "scatterpolargl": [
           {
            "marker": {
             "colorbar": {
              "outlinewidth": 0,
              "ticks": ""
             }
            },
            "type": "scatterpolargl"
           }
          ],
          "scatterternary": [
           {
            "marker": {
             "colorbar": {
              "outlinewidth": 0,
              "ticks": ""
             }
            },
            "type": "scatterternary"
           }
          ],
          "surface": [
           {
            "colorbar": {
             "outlinewidth": 0,
             "ticks": ""
            },
            "colorscale": [
             [
              0,
              "#0d0887"
             ],
             [
              0.1111111111111111,
              "#46039f"
             ],
             [
              0.2222222222222222,
              "#7201a8"
             ],
             [
              0.3333333333333333,
              "#9c179e"
             ],
             [
              0.4444444444444444,
              "#bd3786"
             ],
             [
              0.5555555555555556,
              "#d8576b"
             ],
             [
              0.6666666666666666,
              "#ed7953"
             ],
             [
              0.7777777777777778,
              "#fb9f3a"
             ],
             [
              0.8888888888888888,
              "#fdca26"
             ],
             [
              1,
              "#f0f921"
             ]
            ],
            "type": "surface"
           }
          ],
          "table": [
           {
            "cells": {
             "fill": {
              "color": "#EBF0F8"
             },
             "line": {
              "color": "white"
             }
            },
            "header": {
             "fill": {
              "color": "#C8D4E3"
             },
             "line": {
              "color": "white"
             }
            },
            "type": "table"
           }
          ]
         },
         "layout": {
          "annotationdefaults": {
           "arrowcolor": "#2a3f5f",
           "arrowhead": 0,
           "arrowwidth": 1
          },
          "autotypenumbers": "strict",
          "coloraxis": {
           "colorbar": {
            "outlinewidth": 0,
            "ticks": ""
           }
          },
          "colorscale": {
           "diverging": [
            [
             0,
             "#8e0152"
            ],
            [
             0.1,
             "#c51b7d"
            ],
            [
             0.2,
             "#de77ae"
            ],
            [
             0.3,
             "#f1b6da"
            ],
            [
             0.4,
             "#fde0ef"
            ],
            [
             0.5,
             "#f7f7f7"
            ],
            [
             0.6,
             "#e6f5d0"
            ],
            [
             0.7,
             "#b8e186"
            ],
            [
             0.8,
             "#7fbc41"
            ],
            [
             0.9,
             "#4d9221"
            ],
            [
             1,
             "#276419"
            ]
           ],
           "sequential": [
            [
             0,
             "#0d0887"
            ],
            [
             0.1111111111111111,
             "#46039f"
            ],
            [
             0.2222222222222222,
             "#7201a8"
            ],
            [
             0.3333333333333333,
             "#9c179e"
            ],
            [
             0.4444444444444444,
             "#bd3786"
            ],
            [
             0.5555555555555556,
             "#d8576b"
            ],
            [
             0.6666666666666666,
             "#ed7953"
            ],
            [
             0.7777777777777778,
             "#fb9f3a"
            ],
            [
             0.8888888888888888,
             "#fdca26"
            ],
            [
             1,
             "#f0f921"
            ]
           ],
           "sequentialminus": [
            [
             0,
             "#0d0887"
            ],
            [
             0.1111111111111111,
             "#46039f"
            ],
            [
             0.2222222222222222,
             "#7201a8"
            ],
            [
             0.3333333333333333,
             "#9c179e"
            ],
            [
             0.4444444444444444,
             "#bd3786"
            ],
            [
             0.5555555555555556,
             "#d8576b"
            ],
            [
             0.6666666666666666,
             "#ed7953"
            ],
            [
             0.7777777777777778,
             "#fb9f3a"
            ],
            [
             0.8888888888888888,
             "#fdca26"
            ],
            [
             1,
             "#f0f921"
            ]
           ]
          },
          "colorway": [
           "#636efa",
           "#EF553B",
           "#00cc96",
           "#ab63fa",
           "#FFA15A",
           "#19d3f3",
           "#FF6692",
           "#B6E880",
           "#FF97FF",
           "#FECB52"
          ],
          "font": {
           "color": "#2a3f5f"
          },
          "geo": {
           "bgcolor": "white",
           "lakecolor": "white",
           "landcolor": "#E5ECF6",
           "showlakes": true,
           "showland": true,
           "subunitcolor": "white"
          },
          "hoverlabel": {
           "align": "left"
          },
          "hovermode": "closest",
          "mapbox": {
           "style": "light"
          },
          "paper_bgcolor": "white",
          "plot_bgcolor": "#E5ECF6",
          "polar": {
           "angularaxis": {
            "gridcolor": "white",
            "linecolor": "white",
            "ticks": ""
           },
           "bgcolor": "#E5ECF6",
           "radialaxis": {
            "gridcolor": "white",
            "linecolor": "white",
            "ticks": ""
           }
          },
          "scene": {
           "xaxis": {
            "backgroundcolor": "#E5ECF6",
            "gridcolor": "white",
            "gridwidth": 2,
            "linecolor": "white",
            "showbackground": true,
            "ticks": "",
            "zerolinecolor": "white"
           },
           "yaxis": {
            "backgroundcolor": "#E5ECF6",
            "gridcolor": "white",
            "gridwidth": 2,
            "linecolor": "white",
            "showbackground": true,
            "ticks": "",
            "zerolinecolor": "white"
           },
           "zaxis": {
            "backgroundcolor": "#E5ECF6",
            "gridcolor": "white",
            "gridwidth": 2,
            "linecolor": "white",
            "showbackground": true,
            "ticks": "",
            "zerolinecolor": "white"
           }
          },
          "shapedefaults": {
           "line": {
            "color": "#2a3f5f"
           }
          },
          "ternary": {
           "aaxis": {
            "gridcolor": "white",
            "linecolor": "white",
            "ticks": ""
           },
           "baxis": {
            "gridcolor": "white",
            "linecolor": "white",
            "ticks": ""
           },
           "bgcolor": "#E5ECF6",
           "caxis": {
            "gridcolor": "white",
            "linecolor": "white",
            "ticks": ""
           }
          },
          "title": {
           "x": 0.05
          },
          "xaxis": {
           "automargin": true,
           "gridcolor": "white",
           "linecolor": "white",
           "ticks": "",
           "title": {
            "standoff": 15
           },
           "zerolinecolor": "white",
           "zerolinewidth": 2
          },
          "yaxis": {
           "automargin": true,
           "gridcolor": "white",
           "linecolor": "white",
           "ticks": "",
           "title": {
            "standoff": 15
           },
           "zerolinecolor": "white",
           "zerolinewidth": 2
          }
         }
        },
        "title": {
         "font": {
          "family": "CMU",
          "size": 15
         }
        },
        "width": 650,
        "xaxis": {
         "anchor": "y",
         "autorange": true,
         "domain": [
          0,
          1
         ],
         "range": [
          -0.5354520763451417,
          8.129941447340997
         ],
         "tickfont": {
          "family": "CMU",
          "size": 15
         },
         "title": {
          "font": {
           "family": "CMU",
           "size": 15
          },
          "text": "Mesh distance per vertex [% diameter]"
         },
         "type": "linear"
        },
        "yaxis": {
         "anchor": "x",
         "autorange": true,
         "domain": [
          0,
          1
         ],
         "range": [
          -1499.7499281002604,
          42656.76473036103
         ],
         "tickfont": {
          "family": "CMU",
          "size": 15
         },
         "title": {
          "font": {
           "family": "CMU",
           "size": 15
          },
          "text": "Time difference per vertex [% line]"
         },
         "type": "linear"
        }
       }
      },
      "text/html": [
       "<div>                            <div id=\"f68944ce-019e-4591-8ecd-959c5c6f980f\" class=\"plotly-graph-div\" style=\"height:370px; width:650px;\"></div>            <script type=\"text/javascript\">                require([\"plotly\"], function(Plotly) {                    window.PLOTLYENV=window.PLOTLYENV || {};                                    if (document.getElementById(\"f68944ce-019e-4591-8ecd-959c5c6f980f\")) {                    Plotly.newPlot(                        \"f68944ce-019e-4591-8ecd-959c5c6f980f\",                        [{\"hovertemplate\":\"color=20\\u003cbr\\u003esymbol=162\\u003cbr\\u003ex=%{x}\\u003cbr\\u003ey=%{y}\\u003cextra\\u003e\\u003c\\u002fextra\\u003e\",\"legendgroup\":\"20, 162\",\"marker\":{\"color\":\"#f0f921\",\"symbol\":\"square\",\"opacity\":0.9,\"size\":9},\"mode\":\"markers\",\"name\":\"20, 162\",\"orientation\":\"v\",\"showlegend\":true,\"x\":[2.675980236709269,3.5833116698557306,1.2683964520459732,1.9092224229408399,0.26158738596647496,0.3616685772599607,0.025121507371967066,0.036175678417408645],\"xaxis\":\"x\",\"y\":[39369.02423676907,26425.06325601696,32651.706633877704,22160.815581013114,32230.929300469732,16120.591278668904,25254.606420110154,13266.680215164059],\"yaxis\":\"y\",\"type\":\"scatter\"},{\"hovertemplate\":\"color=20\\u003cbr\\u003esymbol=42\\u003cbr\\u003ex=%{x}\\u003cbr\\u003ey=%{y}\\u003cextra\\u003e\\u003c\\u002fextra\\u003e\",\"legendgroup\":\"20, 42\",\"marker\":{\"color\":\"#f0f921\",\"symbol\":\"x\",\"opacity\":0.9,\"size\":9},\"mode\":\"markers\",\"name\":\"20, 42\",\"orientation\":\"v\",\"showlegend\":true,\"x\":[4.993339152861529,7.520169167526023,2.723480144222524,3.2943406979414362,0.44643511034272154,0.777115073689134,0.04644217999052358,0.0729096853299609],\"xaxis\":\"x\",\"y\":[34212.44763316742,23903.43303420659,33643.12946320973,21928.16401493931,38428.2405236198,25844.47697855471,36357.2346237464,16265.93946048827],\"yaxis\":\"y\",\"type\":\"scatter\"},{\"hovertemplate\":\"color=20\\u003cbr\\u003esymbol=642\\u003cbr\\u003ex=%{x}\\u003cbr\\u003ey=%{y}\\u003cextra\\u003e\\u003c\\u002fextra\\u003e\",\"legendgroup\":\"20, 642\",\"marker\":{\"color\":\"#f0f921\",\"symbol\":\"cross\",\"opacity\":0.9,\"size\":9},\"mode\":\"markers\",\"name\":\"20, 642\",\"orientation\":\"v\",\"showlegend\":true,\"x\":[0.6347466807610331,0.9437752671772573,0.12679274004068047,0.18599847745473255,0.012591014576019246,0.01841109310586837],\"xaxis\":\"x\",\"y\":[20840.67452106443,18056.028797562714,20914.63433828515,18133.70182256496,21748.815820828833,18806.563392448938],\"yaxis\":\"y\",\"type\":\"scatter\"},{\"hovertemplate\":\"color=10\\u003cbr\\u003esymbol=162\\u003cbr\\u003ex=%{x}\\u003cbr\\u003ey=%{y}\\u003cextra\\u003e\\u003c\\u002fextra\\u003e\",\"legendgroup\":\"10, 162\",\"marker\":{\"color\":\"#fdca26\",\"symbol\":\"square\",\"opacity\":0.9,\"size\":9},\"mode\":\"markers\",\"name\":\"10, 162\",\"orientation\":\"v\",\"showlegend\":true,\"x\":[2.4396536244089444,3.717709632640312,1.2981073260237737,1.774706642414927,0.24931223450460382,0.3717290468395295,0.023833689483003472,0.03702705243054394],\"xaxis\":\"x\",\"y\":[20248.333346646432,16023.485205741164,18819.346591833415,16569.991813193665,9630.585357432827,14911.909127257988,12440.293566167002,7969.497271426015],\"yaxis\":\"y\",\"type\":\"scatter\"},{\"hovertemplate\":\"color=10\\u003cbr\\u003esymbol=42\\u003cbr\\u003ex=%{x}\\u003cbr\\u003ey=%{y}\\u003cextra\\u003e\\u003c\\u002fextra\\u003e\",\"legendgroup\":\"10, 42\",\"marker\":{\"color\":\"#fdca26\",\"symbol\":\"x\",\"opacity\":0.9,\"size\":9},\"mode\":\"markers\",\"name\":\"10, 42\",\"orientation\":\"v\",\"showlegend\":true,\"x\":[4.752944581632557,6.89150631546906,2.1545185010005485,3.370336467231981,0.4578764763836212,0.6606132467297124,0.04455516221577598,0.0707565942213889],\"xaxis\":\"x\",\"y\":[18370.698406926407,16863.33212845094,22298.583304178814,14815.351518974036,12961.101620925945,10269.330985655131,17064.754745254744,1787.990565491694],\"yaxis\":\"y\",\"type\":\"scatter\"},{\"hovertemplate\":\"color=10\\u003cbr\\u003esymbol=642\\u003cbr\\u003ex=%{x}\\u003cbr\\u003ey=%{y}\\u003cextra\\u003e\\u003c\\u002fextra\\u003e\",\"legendgroup\":\"10, 642\",\"marker\":{\"color\":\"#fdca26\",\"symbol\":\"cross\",\"opacity\":0.9,\"size\":9},\"mode\":\"markers\",\"name\":\"10, 642\",\"orientation\":\"v\",\"showlegend\":true,\"x\":[1.2626218324480332,1.8551256171911716,0.6439036352351667,0.9462125934873117,0.12913940869565282,0.1868512792287022,0.012339861026977927,0.018563636754414293],\"xaxis\":\"x\",\"y\":[10823.509923649512,12917.750805510841,9691.996155506551,9559.922649726554,15838.061154842258,8182.009141906189,9261.980415488639,9604.613810570958],\"yaxis\":\"y\",\"type\":\"scatter\"},{\"hovertemplate\":\"color=8\\u003cbr\\u003esymbol=162\\u003cbr\\u003ex=%{x}\\u003cbr\\u003ey=%{y}\\u003cextra\\u003e\\u003c\\u002fextra\\u003e\",\"legendgroup\":\"8, 162\",\"marker\":{\"color\":\"#fb9f3a\",\"symbol\":\"square\",\"opacity\":0.9,\"size\":9},\"mode\":\"markers\",\"name\":\"8, 162\",\"orientation\":\"v\",\"showlegend\":true,\"x\":[2.450857707413368,3.7021222119780104,1.2161584834889196,1.8603715828937433,0.26033625929028026,0.36138446064247776,0.025371048470556094,0.0369493790548964],\"xaxis\":\"x\",\"y\":[14568.636165577343,10473.355075551013,17795.63748061066,9389.491638452857,2575.6299434387433,9794.253981992379,10417.944126302393,8243.100094777397],\"yaxis\":\"y\",\"type\":\"scatter\"},{\"hovertemplate\":\"color=8\\u003cbr\\u003esymbol=42\\u003cbr\\u003ex=%{x}\\u003cbr\\u003ey=%{y}\\u003cextra\\u003e\\u003c\\u002fextra\\u003e\",\"legendgroup\":\"8, 42\",\"marker\":{\"color\":\"#fb9f3a\",\"symbol\":\"x\",\"opacity\":0.9,\"size\":9},\"mode\":\"markers\",\"name\":\"8, 42\",\"orientation\":\"v\",\"showlegend\":true,\"x\":[4.54094910868532,7.422176266844123,2.555670034372129,3.3301260766780456,0.4838159941333491,0.7067984655224869,0.048050531909201645,0.06584292978305596],\"xaxis\":\"x\",\"y\":[16266.018119544802,14490.196608220755,13594.236142682286,13668.77117621242,9862.167262781402,10946.503692240865,14011.866774483378,8761.789088651332],\"yaxis\":\"y\",\"type\":\"scatter\"},{\"hovertemplate\":\"color=8\\u003cbr\\u003esymbol=642\\u003cbr\\u003ex=%{x}\\u003cbr\\u003ey=%{y}\\u003cextra\\u003e\\u003c\\u002fextra\\u003e\",\"legendgroup\":\"8, 642\",\"marker\":{\"color\":\"#fb9f3a\",\"symbol\":\"cross\",\"opacity\":0.9,\"size\":9},\"mode\":\"markers\",\"name\":\"8, 642\",\"orientation\":\"v\",\"showlegend\":true,\"x\":[1.2776817415536053,1.843962070385627,0.6178736164286289,0.9446698410940264,0.1309776317152431,0.18624301899789578,0.012844999089674881,0.017959967870398025],\"xaxis\":\"x\",\"y\":[8331.235409491428,8656.084343775632,9424.17116476214,12384.778664300238,9767.33254657813,12093.488958290935,10162.832191243806,5367.80614411642],\"yaxis\":\"y\",\"type\":\"scatter\"},{\"hovertemplate\":\"color=5\\u003cbr\\u003esymbol=162\\u003cbr\\u003ex=%{x}\\u003cbr\\u003ey=%{y}\\u003cextra\\u003e\\u003c\\u002fextra\\u003e\",\"legendgroup\":\"5, 162\",\"marker\":{\"color\":\"#ed7953\",\"symbol\":\"square\",\"opacity\":0.9,\"size\":9},\"mode\":\"markers\",\"name\":\"5, 162\",\"orientation\":\"v\",\"showlegend\":true,\"x\":[2.513846346179758,3.6404585717793774,1.2740018820119634,1.821675358414279,0.2619277563392499,0.3755588854035724,0.022908951135571547,0.0350574343646998],\"xaxis\":\"x\",\"y\":[8720.99409554482,12639.108730334045,9327.670966583944,10394.225407623368,9766.660862995588,7555.894419365909,5501.459064548347,4087.546025557722],\"yaxis\":\"y\",\"type\":\"scatter\"},{\"hovertemplate\":\"color=5\\u003cbr\\u003esymbol=42\\u003cbr\\u003ex=%{x}\\u003cbr\\u003ey=%{y}\\u003cextra\\u003e\\u003c\\u002fextra\\u003e\",\"legendgroup\":\"5, 42\",\"marker\":{\"color\":\"#ed7953\",\"symbol\":\"x\",\"opacity\":0.9,\"size\":9},\"mode\":\"markers\",\"name\":\"5, 42\",\"orientation\":\"v\",\"showlegend\":true,\"x\":[4.596387221335714,7.5822519623052,2.239489338792718,3.469958028372781,0.5029021777936061,0.6387985181036769,0.0530166909213069,0.08216171024563167],\"xaxis\":\"x\",\"y\":[12869.991359733165,11033.613831684774,6383.25822719775,6419.281648596939,5789.6602223806885,7180.328890885496,8190.66264573676,5479.745627337985],\"yaxis\":\"y\",\"type\":\"scatter\"},{\"hovertemplate\":\"color=5\\u003cbr\\u003esymbol=642\\u003cbr\\u003ex=%{x}\\u003cbr\\u003ey=%{y}\\u003cextra\\u003e\\u003c\\u002fextra\\u003e\",\"legendgroup\":\"5, 642\",\"marker\":{\"color\":\"#ed7953\",\"symbol\":\"cross\",\"opacity\":0.9,\"size\":9},\"mode\":\"markers\",\"name\":\"5, 642\",\"orientation\":\"v\",\"showlegend\":true,\"x\":[1.2722248071556985,1.828454121960764,0.6370635089835702,0.916597819519388,0.12930266229484552,0.18986759774876405,0.012237408690654835,0.018316229712155383],\"xaxis\":\"x\",\"y\":[7698.444316337281,9894.47828411327,7034.60781183271,8123.013568853423,5993.3882973953205,6685.652604068661,4436.275835622327,3765.846821372312],\"yaxis\":\"y\",\"type\":\"scatter\"},{\"hovertemplate\":\"color=3\\u003cbr\\u003esymbol=162\\u003cbr\\u003ex=%{x}\\u003cbr\\u003ey=%{y}\\u003cextra\\u003e\\u003c\\u002fextra\\u003e\",\"legendgroup\":\"3, 162\",\"marker\":{\"color\":\"#d8576b\",\"symbol\":\"square\",\"opacity\":0.9,\"size\":9},\"mode\":\"markers\",\"name\":\"3, 162\",\"orientation\":\"v\",\"showlegend\":true,\"x\":[2.6556473793114046,3.870378347331896,1.2522560892494061,1.9772015759102743,0.25592592724116603,0.3628072582555789,0.024857572534183463,0.03880899393619224],\"xaxis\":\"x\",\"y\":[7455.679727597448,5918.367064388237,7557.589034825328,7702.542443030402,4211.8636640755985,5325.327354644191,2633.1986925161023,3173.0910223088586],\"yaxis\":\"y\",\"type\":\"scatter\"},{\"hovertemplate\":\"color=3\\u003cbr\\u003esymbol=42\\u003cbr\\u003ex=%{x}\\u003cbr\\u003ey=%{y}\\u003cextra\\u003e\\u003c\\u002fextra\\u003e\",\"legendgroup\":\"3, 42\",\"marker\":{\"color\":\"#d8576b\",\"symbol\":\"x\",\"opacity\":0.9,\"size\":9},\"mode\":\"markers\",\"name\":\"3, 42\",\"orientation\":\"v\",\"showlegend\":true,\"x\":[3.980275939672403,6.706875703111467,2.5409559973124503,3.2875015823617266,0.4986855573360426,0.7156726042218727,0.045661075165899324,0.08015128242640662],\"xaxis\":\"x\",\"y\":[6060.386783284742,4689.967815914245,5222.216395418926,15395.177315541601,3851.116956464467,5929.907407407408,3823.907291121577,2409.429151340425],\"yaxis\":\"y\",\"type\":\"scatter\"},{\"hovertemplate\":\"color=3\\u003cbr\\u003esymbol=642\\u003cbr\\u003ex=%{x}\\u003cbr\\u003ey=%{y}\\u003cextra\\u003e\\u003c\\u002fextra\\u003e\",\"legendgroup\":\"3, 642\",\"marker\":{\"color\":\"#d8576b\",\"symbol\":\"cross\",\"opacity\":0.9,\"size\":9},\"mode\":\"markers\",\"name\":\"3, 642\",\"orientation\":\"v\",\"showlegend\":true,\"x\":[1.3137353724499141,1.9084633032199785,0.6356866691044428,0.9833283129763097,0.12720480548727495,0.18403549966686225,0.01243197639747209,0.018517409697173786],\"xaxis\":\"x\",\"y\":[4829.638439051633,8625.84060272231,6079.22421175234,8882.95239194097,2655.337982789861,4249.24190486341,3057.742889762107,3040.2309269502193],\"yaxis\":\"y\",\"type\":\"scatter\"}],                        {\"template\":{\"data\":{\"histogram2dcontour\":[{\"type\":\"histogram2dcontour\",\"colorbar\":{\"outlinewidth\":0,\"ticks\":\"\"},\"colorscale\":[[0.0,\"#0d0887\"],[0.1111111111111111,\"#46039f\"],[0.2222222222222222,\"#7201a8\"],[0.3333333333333333,\"#9c179e\"],[0.4444444444444444,\"#bd3786\"],[0.5555555555555556,\"#d8576b\"],[0.6666666666666666,\"#ed7953\"],[0.7777777777777778,\"#fb9f3a\"],[0.8888888888888888,\"#fdca26\"],[1.0,\"#f0f921\"]]}],\"choropleth\":[{\"type\":\"choropleth\",\"colorbar\":{\"outlinewidth\":0,\"ticks\":\"\"}}],\"histogram2d\":[{\"type\":\"histogram2d\",\"colorbar\":{\"outlinewidth\":0,\"ticks\":\"\"},\"colorscale\":[[0.0,\"#0d0887\"],[0.1111111111111111,\"#46039f\"],[0.2222222222222222,\"#7201a8\"],[0.3333333333333333,\"#9c179e\"],[0.4444444444444444,\"#bd3786\"],[0.5555555555555556,\"#d8576b\"],[0.6666666666666666,\"#ed7953\"],[0.7777777777777778,\"#fb9f3a\"],[0.8888888888888888,\"#fdca26\"],[1.0,\"#f0f921\"]]}],\"heatmap\":[{\"type\":\"heatmap\",\"colorbar\":{\"outlinewidth\":0,\"ticks\":\"\"},\"colorscale\":[[0.0,\"#0d0887\"],[0.1111111111111111,\"#46039f\"],[0.2222222222222222,\"#7201a8\"],[0.3333333333333333,\"#9c179e\"],[0.4444444444444444,\"#bd3786\"],[0.5555555555555556,\"#d8576b\"],[0.6666666666666666,\"#ed7953\"],[0.7777777777777778,\"#fb9f3a\"],[0.8888888888888888,\"#fdca26\"],[1.0,\"#f0f921\"]]}],\"heatmapgl\":[{\"type\":\"heatmapgl\",\"colorbar\":{\"outlinewidth\":0,\"ticks\":\"\"},\"colorscale\":[[0.0,\"#0d0887\"],[0.1111111111111111,\"#46039f\"],[0.2222222222222222,\"#7201a8\"],[0.3333333333333333,\"#9c179e\"],[0.4444444444444444,\"#bd3786\"],[0.5555555555555556,\"#d8576b\"],[0.6666666666666666,\"#ed7953\"],[0.7777777777777778,\"#fb9f3a\"],[0.8888888888888888,\"#fdca26\"],[1.0,\"#f0f921\"]]}],\"contourcarpet\":[{\"type\":\"contourcarpet\",\"colorbar\":{\"outlinewidth\":0,\"ticks\":\"\"}}],\"contour\":[{\"type\":\"contour\",\"colorbar\":{\"outlinewidth\":0,\"ticks\":\"\"},\"colorscale\":[[0.0,\"#0d0887\"],[0.1111111111111111,\"#46039f\"],[0.2222222222222222,\"#7201a8\"],[0.3333333333333333,\"#9c179e\"],[0.4444444444444444,\"#bd3786\"],[0.5555555555555556,\"#d8576b\"],[0.6666666666666666,\"#ed7953\"],[0.7777777777777778,\"#fb9f3a\"],[0.8888888888888888,\"#fdca26\"],[1.0,\"#f0f921\"]]}],\"surface\":[{\"type\":\"surface\",\"colorbar\":{\"outlinewidth\":0,\"ticks\":\"\"},\"colorscale\":[[0.0,\"#0d0887\"],[0.1111111111111111,\"#46039f\"],[0.2222222222222222,\"#7201a8\"],[0.3333333333333333,\"#9c179e\"],[0.4444444444444444,\"#bd3786\"],[0.5555555555555556,\"#d8576b\"],[0.6666666666666666,\"#ed7953\"],[0.7777777777777778,\"#fb9f3a\"],[0.8888888888888888,\"#fdca26\"],[1.0,\"#f0f921\"]]}],\"mesh3d\":[{\"type\":\"mesh3d\",\"colorbar\":{\"outlinewidth\":0,\"ticks\":\"\"}}],\"scatter\":[{\"fillpattern\":{\"fillmode\":\"overlay\",\"size\":10,\"solidity\":0.2},\"type\":\"scatter\"}],\"parcoords\":[{\"type\":\"parcoords\",\"line\":{\"colorbar\":{\"outlinewidth\":0,\"ticks\":\"\"}}}],\"scatterpolargl\":[{\"type\":\"scatterpolargl\",\"marker\":{\"colorbar\":{\"outlinewidth\":0,\"ticks\":\"\"}}}],\"bar\":[{\"error_x\":{\"color\":\"#2a3f5f\"},\"error_y\":{\"color\":\"#2a3f5f\"},\"marker\":{\"line\":{\"color\":\"#E5ECF6\",\"width\":0.5},\"pattern\":{\"fillmode\":\"overlay\",\"size\":10,\"solidity\":0.2}},\"type\":\"bar\"}],\"scattergeo\":[{\"type\":\"scattergeo\",\"marker\":{\"colorbar\":{\"outlinewidth\":0,\"ticks\":\"\"}}}],\"scatterpolar\":[{\"type\":\"scatterpolar\",\"marker\":{\"colorbar\":{\"outlinewidth\":0,\"ticks\":\"\"}}}],\"histogram\":[{\"marker\":{\"pattern\":{\"fillmode\":\"overlay\",\"size\":10,\"solidity\":0.2}},\"type\":\"histogram\"}],\"scattergl\":[{\"type\":\"scattergl\",\"marker\":{\"colorbar\":{\"outlinewidth\":0,\"ticks\":\"\"}}}],\"scatter3d\":[{\"type\":\"scatter3d\",\"line\":{\"colorbar\":{\"outlinewidth\":0,\"ticks\":\"\"}},\"marker\":{\"colorbar\":{\"outlinewidth\":0,\"ticks\":\"\"}}}],\"scattermapbox\":[{\"type\":\"scattermapbox\",\"marker\":{\"colorbar\":{\"outlinewidth\":0,\"ticks\":\"\"}}}],\"scatterternary\":[{\"type\":\"scatterternary\",\"marker\":{\"colorbar\":{\"outlinewidth\":0,\"ticks\":\"\"}}}],\"scattercarpet\":[{\"type\":\"scattercarpet\",\"marker\":{\"colorbar\":{\"outlinewidth\":0,\"ticks\":\"\"}}}],\"carpet\":[{\"aaxis\":{\"endlinecolor\":\"#2a3f5f\",\"gridcolor\":\"white\",\"linecolor\":\"white\",\"minorgridcolor\":\"white\",\"startlinecolor\":\"#2a3f5f\"},\"baxis\":{\"endlinecolor\":\"#2a3f5f\",\"gridcolor\":\"white\",\"linecolor\":\"white\",\"minorgridcolor\":\"white\",\"startlinecolor\":\"#2a3f5f\"},\"type\":\"carpet\"}],\"table\":[{\"cells\":{\"fill\":{\"color\":\"#EBF0F8\"},\"line\":{\"color\":\"white\"}},\"header\":{\"fill\":{\"color\":\"#C8D4E3\"},\"line\":{\"color\":\"white\"}},\"type\":\"table\"}],\"barpolar\":[{\"marker\":{\"line\":{\"color\":\"#E5ECF6\",\"width\":0.5},\"pattern\":{\"fillmode\":\"overlay\",\"size\":10,\"solidity\":0.2}},\"type\":\"barpolar\"}],\"pie\":[{\"automargin\":true,\"type\":\"pie\"}]},\"layout\":{\"autotypenumbers\":\"strict\",\"colorway\":[\"#636efa\",\"#EF553B\",\"#00cc96\",\"#ab63fa\",\"#FFA15A\",\"#19d3f3\",\"#FF6692\",\"#B6E880\",\"#FF97FF\",\"#FECB52\"],\"font\":{\"color\":\"#2a3f5f\"},\"hovermode\":\"closest\",\"hoverlabel\":{\"align\":\"left\"},\"paper_bgcolor\":\"white\",\"plot_bgcolor\":\"#E5ECF6\",\"polar\":{\"bgcolor\":\"#E5ECF6\",\"angularaxis\":{\"gridcolor\":\"white\",\"linecolor\":\"white\",\"ticks\":\"\"},\"radialaxis\":{\"gridcolor\":\"white\",\"linecolor\":\"white\",\"ticks\":\"\"}},\"ternary\":{\"bgcolor\":\"#E5ECF6\",\"aaxis\":{\"gridcolor\":\"white\",\"linecolor\":\"white\",\"ticks\":\"\"},\"baxis\":{\"gridcolor\":\"white\",\"linecolor\":\"white\",\"ticks\":\"\"},\"caxis\":{\"gridcolor\":\"white\",\"linecolor\":\"white\",\"ticks\":\"\"}},\"coloraxis\":{\"colorbar\":{\"outlinewidth\":0,\"ticks\":\"\"}},\"colorscale\":{\"sequential\":[[0.0,\"#0d0887\"],[0.1111111111111111,\"#46039f\"],[0.2222222222222222,\"#7201a8\"],[0.3333333333333333,\"#9c179e\"],[0.4444444444444444,\"#bd3786\"],[0.5555555555555556,\"#d8576b\"],[0.6666666666666666,\"#ed7953\"],[0.7777777777777778,\"#fb9f3a\"],[0.8888888888888888,\"#fdca26\"],[1.0,\"#f0f921\"]],\"sequentialminus\":[[0.0,\"#0d0887\"],[0.1111111111111111,\"#46039f\"],[0.2222222222222222,\"#7201a8\"],[0.3333333333333333,\"#9c179e\"],[0.4444444444444444,\"#bd3786\"],[0.5555555555555556,\"#d8576b\"],[0.6666666666666666,\"#ed7953\"],[0.7777777777777778,\"#fb9f3a\"],[0.8888888888888888,\"#fdca26\"],[1.0,\"#f0f921\"]],\"diverging\":[[0,\"#8e0152\"],[0.1,\"#c51b7d\"],[0.2,\"#de77ae\"],[0.3,\"#f1b6da\"],[0.4,\"#fde0ef\"],[0.5,\"#f7f7f7\"],[0.6,\"#e6f5d0\"],[0.7,\"#b8e186\"],[0.8,\"#7fbc41\"],[0.9,\"#4d9221\"],[1,\"#276419\"]]},\"xaxis\":{\"gridcolor\":\"white\",\"linecolor\":\"white\",\"ticks\":\"\",\"title\":{\"standoff\":15},\"zerolinecolor\":\"white\",\"automargin\":true,\"zerolinewidth\":2},\"yaxis\":{\"gridcolor\":\"white\",\"linecolor\":\"white\",\"ticks\":\"\",\"title\":{\"standoff\":15},\"zerolinecolor\":\"white\",\"automargin\":true,\"zerolinewidth\":2},\"scene\":{\"xaxis\":{\"backgroundcolor\":\"#E5ECF6\",\"gridcolor\":\"white\",\"linecolor\":\"white\",\"showbackground\":true,\"ticks\":\"\",\"zerolinecolor\":\"white\",\"gridwidth\":2},\"yaxis\":{\"backgroundcolor\":\"#E5ECF6\",\"gridcolor\":\"white\",\"linecolor\":\"white\",\"showbackground\":true,\"ticks\":\"\",\"zerolinecolor\":\"white\",\"gridwidth\":2},\"zaxis\":{\"backgroundcolor\":\"#E5ECF6\",\"gridcolor\":\"white\",\"linecolor\":\"white\",\"showbackground\":true,\"ticks\":\"\",\"zerolinecolor\":\"white\",\"gridwidth\":2}},\"shapedefaults\":{\"line\":{\"color\":\"#2a3f5f\"}},\"annotationdefaults\":{\"arrowcolor\":\"#2a3f5f\",\"arrowhead\":0,\"arrowwidth\":1},\"geo\":{\"bgcolor\":\"white\",\"landcolor\":\"#E5ECF6\",\"subunitcolor\":\"white\",\"showland\":true,\"showlakes\":true,\"lakecolor\":\"white\"},\"title\":{\"x\":0.05},\"mapbox\":{\"style\":\"light\"}}},\"xaxis\":{\"anchor\":\"y\",\"domain\":[0.0,1.0],\"title\":{\"text\":\"Mesh distance per vertex [% diameter]\",\"font\":{\"family\":\"CMU\",\"size\":15}},\"tickfont\":{\"family\":\"CMU\",\"size\":15}},\"yaxis\":{\"anchor\":\"x\",\"domain\":[0.0,1.0],\"title\":{\"text\":\"Time difference per vertex [% line]\",\"font\":{\"family\":\"CMU\",\"size\":15}},\"tickfont\":{\"family\":\"CMU\",\"size\":15}},\"legend\":{\"title\":{\"text\":\"Number of steps\"},\"tracegroupgap\":0,\"font\":{\"family\":\"CMU\",\"size\":15}},\"margin\":{\"t\":60},\"title\":{\"font\":{\"family\":\"CMU\",\"size\":15}},\"width\":650,\"height\":370},                        {\"responsive\": true}                    ).then(function(){\n",
       "                            \n",
       "var gd = document.getElementById('f68944ce-019e-4591-8ecd-959c5c6f980f');\n",
       "var x = new MutationObserver(function (mutations, observer) {{\n",
       "        var display = window.getComputedStyle(gd).display;\n",
       "        if (!display || display === 'none') {{\n",
       "            console.log([gd, 'removed!']);\n",
       "            Plotly.purge(gd);\n",
       "            observer.disconnect();\n",
       "        }}\n",
       "}});\n",
       "\n",
       "// Listen for the removal of the full notebook cells\n",
       "var notebookContainer = gd.closest('#notebook-container');\n",
       "if (notebookContainer) {{\n",
       "    x.observe(notebookContainer, {childList: true});\n",
       "}}\n",
       "\n",
       "// Listen for the clearing of the current output cell\n",
       "var outputEl = gd.closest('.output');\n",
       "if (outputEl) {{\n",
       "    x.observe(outputEl, {childList: true});\n",
       "}}\n",
       "\n",
       "                        })                };                });            </script>        </div>"
      ]
     },
     "metadata": {},
     "output_type": "display_data"
    }
   ],
   "source": [
    "diff_scatter_grouped(colored_by=\"n_steps\", marked_by=\"n_vertices\")"
   ]
  },
  {
   "cell_type": "code",
   "execution_count": 154,
   "id": "d42cdb61-3478-4941-a775-2f9d03df04f9",
   "metadata": {},
   "outputs": [],
   "source": [
    "from sklearn.linear_model import LinearRegression\n",
    "from sklearn.metrics import r2_score\n",
    "\n",
    "\n",
    "def line_plot(y_var, y):\n",
    "    y = y.reset_index()\n",
    "    colors_vertices = [\n",
    "        px.colors.sequential.Plasma_r[0],\n",
    "        px.colors.sequential.Plasma_r[5],\n",
    "        px.colors.sequential.Plasma_r[-1],\n",
    "    ]\n",
    "    \n",
    "    marked_by = \"n_steps\"\n",
    "    value_to_symbol = dict(\n",
    "        zip(df[marked_by].unique(), [\"square\", \"x\", \"cross\", \"diamond\", \"star\"])\n",
    "    )\n",
    "    \n",
    "    fig = px.scatter(\n",
    "        x=y[\"noise_factor\"],\n",
    "        y=y[y_var],\n",
    "        color=y[\"n_vertices\"],\n",
    "        color_discrete_sequence=colors_vertices,\n",
    "        symbol=[s for s in y[marked_by].values],\n",
    "        symbol_map=value_to_symbol,\n",
    "    )\n",
    "    fig.update_layout(\n",
    "        title=\"Line Plot\",\n",
    "        title_font=dict(family=\"CMU\", size=fontsize),\n",
    "        xaxis_title=dict(\n",
    "            text=\"Deformation Factor\",\n",
    "            font=dict(family=\"CMU\", size=fontsize),\n",
    "        ),\n",
    "        yaxis_title=dict(text=COL_TO_TEXT[y_var], font=dict(family=\"CMU\", size=fontsize)),\n",
    "        xaxis=dict(tickfont=dict(family=\"CMU\", size=fontsize)),\n",
    "        yaxis=dict(tickfont=dict(family=\"CMU\", size=fontsize)),\n",
    "        width=600,\n",
    "        height=350,\n",
    "    )\n",
    "    \n",
    "    color_sequence = colors_vertices[::-1]\n",
    "    for n_vertices, color in zip(y[\"n_vertices\"].unique(), color_sequence):\n",
    "        filtered_data = y[y[\"n_vertices\"] == n_vertices]\n",
    "    \n",
    "        xx = filtered_data[\"noise_factor\"].values.reshape(-1, 1)\n",
    "        yy = filtered_data[y_var].values.reshape(-1, 1)\n",
    "        regression_model = LinearRegression()\n",
    "        regression_model.fit(xx, yy)\n",
    "        regression_y = regression_model.predict(xx)\n",
    "    \n",
    "        r_squared = r2_score(yy, regression_y)\n",
    "        print(r_squared)\n",
    "    \n",
    "        fig.add_trace(\n",
    "            go.Scatter(\n",
    "                x=xx.flatten(),\n",
    "                y=regression_y.flatten(),\n",
    "                mode=\"lines\",\n",
    "                name=f\"n_vertices: {n_vertices} (R2={r_squared:.3f})\",\n",
    "                line=dict(color=color),\n",
    "                showlegend=True,  # Show legend only for the regression lines\n",
    "                legendgroup=\"regression\",\n",
    "            )\n",
    "        )\n",
    "    \n",
    "    fig.data[0].showlegend = False  # Show legend for the scatter symbols\n",
    "    fig.data[0].legendgroup = \"scatter\"\n",
    "    fig.show()\n",
    "    pio.write_image(fig, f\"{y_var}_vs_deformation_factor.svg\")"
   ]
  },
  {
   "cell_type": "code",
   "execution_count": 155,
   "id": "a875b1b1-cf1e-45a9-821e-1e6810ca4561",
   "metadata": {},
   "outputs": [
    {
     "name": "stdout",
     "output_type": "stream",
     "text": [
      "0.9950065676323988\n",
      "0.9989705990628883\n",
      "0.9995409046915548\n"
     ]
    },
    {
     "data": {
      "application/vnd.plotly.v1+json": {
       "config": {
        "plotlyServerURL": "https://plot.ly"
       },
       "data": [
        {
         "hovertemplate": "symbol=3<br>x=%{x}<br>y=%{y}<br>color=%{marker.color}<extra></extra>",
         "legendgroup": "scatter",
         "marker": {
          "color": [
           42,
           162,
           642,
           42,
           162,
           642,
           42,
           162,
           642,
           42,
           162,
           642
          ],
          "coloraxis": "coloraxis",
          "symbol": "star"
         },
         "mode": "markers",
         "name": "3",
         "orientation": "v",
         "showlegend": false,
         "type": "scatter",
         "x": [
          0.01,
          0.01,
          0.01,
          0.1,
          0.1,
          0.1,
          0.5,
          0.5,
          0.5,
          1,
          1,
          1
         ],
         "xaxis": "x",
         "y": [
          0.06290617879615298,
          0.03183328323518785,
          0.015474693047322938,
          0.6071790807789577,
          0.3093665927483725,
          0.1556201525770686,
          2.914228789837088,
          1.6147288325798401,
          0.8095074910403763,
          5.343575821391935,
          3.26301286332165,
          1.6110993378349463
         ],
         "yaxis": "y"
        },
        {
         "hovertemplate": "symbol=5<br>x=%{x}<br>y=%{y}<br>color=%{marker.color}<extra></extra>",
         "legendgroup": "5",
         "marker": {
          "color": [
           42,
           162,
           642,
           42,
           162,
           642,
           42,
           162,
           642,
           42,
           162,
           642
          ],
          "coloraxis": "coloraxis",
          "symbol": "diamond"
         },
         "mode": "markers",
         "name": "5",
         "orientation": "v",
         "showlegend": true,
         "type": "scatter",
         "x": [
          0.01,
          0.01,
          0.01,
          0.1,
          0.1,
          0.1,
          0.5,
          0.5,
          0.5,
          1,
          1,
          1
         ],
         "xaxis": "x",
         "y": [
          0.06758920058346929,
          0.028983192750135674,
          0.01527681920140511,
          0.5708503479486415,
          0.31874332087141116,
          0.15958513002180477,
          2.85472368358275,
          1.5478386202131214,
          0.7768306642514792,
          6.089319591820457,
          3.077152458979568,
          1.5503394645582311
         ],
         "yaxis": "y"
        },
        {
         "hovertemplate": "symbol=8<br>x=%{x}<br>y=%{y}<br>color=%{marker.color}<extra></extra>",
         "legendgroup": "8",
         "marker": {
          "color": [
           42,
           162,
           642,
           42,
           162,
           642,
           42,
           162,
           642,
           42,
           162,
           642
          ],
          "coloraxis": "coloraxis",
          "symbol": "cross"
         },
         "mode": "markers",
         "name": "8",
         "orientation": "v",
         "showlegend": true,
         "type": "scatter",
         "x": [
          0.01,
          0.01,
          0.01,
          0.1,
          0.1,
          0.1,
          0.5,
          0.5,
          0.5,
          1,
          1,
          1
         ],
         "xaxis": "x",
         "y": [
          0.0569467308461288,
          0.031160213762726246,
          0.015402483480036453,
          0.5953072298279181,
          0.310860359966379,
          0.1586103253565694,
          2.942898055525087,
          1.5382650331913315,
          0.7812717287613278,
          5.981562687764722,
          3.076489959695689,
          1.560821905969616
         ],
         "yaxis": "y"
        },
        {
         "hovertemplate": "symbol=10<br>x=%{x}<br>y=%{y}<br>color=%{marker.color}<extra></extra>",
         "legendgroup": "10",
         "marker": {
          "color": [
           42,
           162,
           642,
           42,
           162,
           642,
           42,
           162,
           642,
           42,
           162,
           642
          ],
          "coloraxis": "coloraxis",
          "symbol": "x"
         },
         "mode": "markers",
         "name": "10",
         "orientation": "v",
         "showlegend": true,
         "type": "scatter",
         "x": [
          0.01,
          0.01,
          0.01,
          0.1,
          0.1,
          0.1,
          0.5,
          0.5,
          0.5,
          1,
          1,
          1
         ],
         "xaxis": "x",
         "y": [
          0.05765587821858244,
          0.030430370956773704,
          0.01545174889069611,
          0.5592448615566669,
          0.3105206406720667,
          0.15799534396217751,
          2.7624274841162646,
          1.5364069842193504,
          0.7950581143612391,
          5.8222254485508085,
          3.078681628524628,
          1.5588737248196025
         ],
         "yaxis": "y"
        },
        {
         "hovertemplate": "symbol=20<br>x=%{x}<br>y=%{y}<br>color=%{marker.color}<extra></extra>",
         "legendgroup": "20",
         "marker": {
          "color": [
           42,
           162,
           642,
           42,
           162,
           642,
           42,
           162,
           642,
           42,
           162
          ],
          "coloraxis": "coloraxis",
          "symbol": "square"
         },
         "mode": "markers",
         "name": "20",
         "orientation": "v",
         "showlegend": true,
         "type": "scatter",
         "x": [
          0.01,
          0.01,
          0.01,
          0.1,
          0.1,
          0.1,
          0.5,
          0.5,
          0.5,
          1,
          1
         ],
         "xaxis": "x",
         "y": [
          0.05967593266024224,
          0.03064859289468785,
          0.015501053840943807,
          0.6117750920159277,
          0.31162798161321786,
          0.1563956087477065,
          3.00891042108198,
          1.5888094374934065,
          0.7892609739691452,
          6.256754160193776,
          3.1296459532824996
         ],
         "yaxis": "y"
        },
        {
         "legendgroup": "regression",
         "line": {
          "color": "#0d0887"
         },
         "mode": "lines",
         "name": "n_vertices: 42 (R2=0.995)",
         "showlegend": true,
         "type": "scatter",
         "x": [
          0.01,
          0.01,
          0.01,
          0.01,
          0.01,
          0.1,
          0.1,
          0.1,
          0.1,
          0.1,
          0.5,
          0.5,
          0.5,
          0.5,
          0.5,
          1,
          1,
          1,
          1,
          1
         ],
         "y": [
          0.04965014439230861,
          0.04965014439230861,
          0.04965014439230861,
          0.04965014439230861,
          0.04965014439230861,
          0.5797071942053819,
          0.5797071942053819,
          0.5797071942053819,
          0.5797071942053819,
          0.5797071942053819,
          2.9355163044857076,
          2.9355163044857076,
          2.9355163044857076,
          2.9355163044857076,
          2.9355163044857076,
          5.880277692336115,
          5.880277692336115,
          5.880277692336115,
          5.880277692336115,
          5.880277692336115
         ]
        },
        {
         "legendgroup": "regression",
         "line": {
          "color": "#bd3786"
         },
         "mode": "lines",
         "name": "n_vertices: 162 (R2=0.999)",
         "showlegend": true,
         "type": "scatter",
         "x": [
          0.01,
          0.01,
          0.01,
          0.01,
          0.01,
          0.1,
          0.1,
          0.1,
          0.1,
          0.1,
          0.5,
          0.5,
          0.5,
          0.5,
          0.5,
          1,
          1,
          1,
          1,
          1
         ],
         "y": [
          0.03131532362548415,
          0.03131532362548415,
          0.03131532362548415,
          0.03131532362548415,
          0.03131532362548415,
          0.3126530288944793,
          0.3126530288944793,
          0.3126530288944793,
          0.3126530288944793,
          0.3126530288944793,
          1.5630428300900134,
          1.5630428300900134,
          1.5630428300900134,
          1.5630428300900134,
          1.5630428300900134,
          3.126030081584431,
          3.126030081584431,
          3.126030081584431,
          3.126030081584431,
          3.126030081584431
         ]
        },
        {
         "legendgroup": "regression",
         "line": {
          "color": "#f0f921"
         },
         "mode": "lines",
         "name": "n_vertices: 642 (R2=1.000)",
         "showlegend": true,
         "type": "scatter",
         "x": [
          0.01,
          0.01,
          0.01,
          0.01,
          0.01,
          0.1,
          0.1,
          0.1,
          0.1,
          0.1,
          0.5,
          0.5,
          0.5,
          0.5,
          0.5,
          1,
          1,
          1,
          1
         ],
         "y": [
          0.016758732437506647,
          0.016758732437506647,
          0.016758732437506647,
          0.016758732437506647,
          0.016758732437506647,
          0.15818679021507462,
          0.15818679021507462,
          0.15818679021507462,
          0.15818679021507462,
          0.15818679021507462,
          0.7867559358931544,
          0.7867559358931544,
          0.7867559358931544,
          0.7867559358931544,
          0.7867559358931544,
          1.5724673679907542,
          1.5724673679907542,
          1.5724673679907542,
          1.5724673679907542
         ]
        }
       ],
       "layout": {
        "coloraxis": {
         "colorbar": {
          "title": {
           "text": "color"
          }
         },
         "colorscale": [
          [
           0,
           "#0d0887"
          ],
          [
           0.1111111111111111,
           "#46039f"
          ],
          [
           0.2222222222222222,
           "#7201a8"
          ],
          [
           0.3333333333333333,
           "#9c179e"
          ],
          [
           0.4444444444444444,
           "#bd3786"
          ],
          [
           0.5555555555555556,
           "#d8576b"
          ],
          [
           0.6666666666666666,
           "#ed7953"
          ],
          [
           0.7777777777777778,
           "#fb9f3a"
          ],
          [
           0.8888888888888888,
           "#fdca26"
          ],
          [
           1,
           "#f0f921"
          ]
         ]
        },
        "height": 350,
        "legend": {
         "title": {
          "text": "symbol"
         },
         "tracegroupgap": 0
        },
        "margin": {
         "t": 60
        },
        "template": {
         "data": {
          "bar": [
           {
            "error_x": {
             "color": "#2a3f5f"
            },
            "error_y": {
             "color": "#2a3f5f"
            },
            "marker": {
             "line": {
              "color": "#E5ECF6",
              "width": 0.5
             },
             "pattern": {
              "fillmode": "overlay",
              "size": 10,
              "solidity": 0.2
             }
            },
            "type": "bar"
           }
          ],
          "barpolar": [
           {
            "marker": {
             "line": {
              "color": "#E5ECF6",
              "width": 0.5
             },
             "pattern": {
              "fillmode": "overlay",
              "size": 10,
              "solidity": 0.2
             }
            },
            "type": "barpolar"
           }
          ],
          "carpet": [
           {
            "aaxis": {
             "endlinecolor": "#2a3f5f",
             "gridcolor": "white",
             "linecolor": "white",
             "minorgridcolor": "white",
             "startlinecolor": "#2a3f5f"
            },
            "baxis": {
             "endlinecolor": "#2a3f5f",
             "gridcolor": "white",
             "linecolor": "white",
             "minorgridcolor": "white",
             "startlinecolor": "#2a3f5f"
            },
            "type": "carpet"
           }
          ],
          "choropleth": [
           {
            "colorbar": {
             "outlinewidth": 0,
             "ticks": ""
            },
            "type": "choropleth"
           }
          ],
          "contour": [
           {
            "colorbar": {
             "outlinewidth": 0,
             "ticks": ""
            },
            "colorscale": [
             [
              0,
              "#0d0887"
             ],
             [
              0.1111111111111111,
              "#46039f"
             ],
             [
              0.2222222222222222,
              "#7201a8"
             ],
             [
              0.3333333333333333,
              "#9c179e"
             ],
             [
              0.4444444444444444,
              "#bd3786"
             ],
             [
              0.5555555555555556,
              "#d8576b"
             ],
             [
              0.6666666666666666,
              "#ed7953"
             ],
             [
              0.7777777777777778,
              "#fb9f3a"
             ],
             [
              0.8888888888888888,
              "#fdca26"
             ],
             [
              1,
              "#f0f921"
             ]
            ],
            "type": "contour"
           }
          ],
          "contourcarpet": [
           {
            "colorbar": {
             "outlinewidth": 0,
             "ticks": ""
            },
            "type": "contourcarpet"
           }
          ],
          "heatmap": [
           {
            "colorbar": {
             "outlinewidth": 0,
             "ticks": ""
            },
            "colorscale": [
             [
              0,
              "#0d0887"
             ],
             [
              0.1111111111111111,
              "#46039f"
             ],
             [
              0.2222222222222222,
              "#7201a8"
             ],
             [
              0.3333333333333333,
              "#9c179e"
             ],
             [
              0.4444444444444444,
              "#bd3786"
             ],
             [
              0.5555555555555556,
              "#d8576b"
             ],
             [
              0.6666666666666666,
              "#ed7953"
             ],
             [
              0.7777777777777778,
              "#fb9f3a"
             ],
             [
              0.8888888888888888,
              "#fdca26"
             ],
             [
              1,
              "#f0f921"
             ]
            ],
            "type": "heatmap"
           }
          ],
          "heatmapgl": [
           {
            "colorbar": {
             "outlinewidth": 0,
             "ticks": ""
            },
            "colorscale": [
             [
              0,
              "#0d0887"
             ],
             [
              0.1111111111111111,
              "#46039f"
             ],
             [
              0.2222222222222222,
              "#7201a8"
             ],
             [
              0.3333333333333333,
              "#9c179e"
             ],
             [
              0.4444444444444444,
              "#bd3786"
             ],
             [
              0.5555555555555556,
              "#d8576b"
             ],
             [
              0.6666666666666666,
              "#ed7953"
             ],
             [
              0.7777777777777778,
              "#fb9f3a"
             ],
             [
              0.8888888888888888,
              "#fdca26"
             ],
             [
              1,
              "#f0f921"
             ]
            ],
            "type": "heatmapgl"
           }
          ],
          "histogram": [
           {
            "marker": {
             "pattern": {
              "fillmode": "overlay",
              "size": 10,
              "solidity": 0.2
             }
            },
            "type": "histogram"
           }
          ],
          "histogram2d": [
           {
            "colorbar": {
             "outlinewidth": 0,
             "ticks": ""
            },
            "colorscale": [
             [
              0,
              "#0d0887"
             ],
             [
              0.1111111111111111,
              "#46039f"
             ],
             [
              0.2222222222222222,
              "#7201a8"
             ],
             [
              0.3333333333333333,
              "#9c179e"
             ],
             [
              0.4444444444444444,
              "#bd3786"
             ],
             [
              0.5555555555555556,
              "#d8576b"
             ],
             [
              0.6666666666666666,
              "#ed7953"
             ],
             [
              0.7777777777777778,
              "#fb9f3a"
             ],
             [
              0.8888888888888888,
              "#fdca26"
             ],
             [
              1,
              "#f0f921"
             ]
            ],
            "type": "histogram2d"
           }
          ],
          "histogram2dcontour": [
           {
            "colorbar": {
             "outlinewidth": 0,
             "ticks": ""
            },
            "colorscale": [
             [
              0,
              "#0d0887"
             ],
             [
              0.1111111111111111,
              "#46039f"
             ],
             [
              0.2222222222222222,
              "#7201a8"
             ],
             [
              0.3333333333333333,
              "#9c179e"
             ],
             [
              0.4444444444444444,
              "#bd3786"
             ],
             [
              0.5555555555555556,
              "#d8576b"
             ],
             [
              0.6666666666666666,
              "#ed7953"
             ],
             [
              0.7777777777777778,
              "#fb9f3a"
             ],
             [
              0.8888888888888888,
              "#fdca26"
             ],
             [
              1,
              "#f0f921"
             ]
            ],
            "type": "histogram2dcontour"
           }
          ],
          "mesh3d": [
           {
            "colorbar": {
             "outlinewidth": 0,
             "ticks": ""
            },
            "type": "mesh3d"
           }
          ],
          "parcoords": [
           {
            "line": {
             "colorbar": {
              "outlinewidth": 0,
              "ticks": ""
             }
            },
            "type": "parcoords"
           }
          ],
          "pie": [
           {
            "automargin": true,
            "type": "pie"
           }
          ],
          "scatter": [
           {
            "fillpattern": {
             "fillmode": "overlay",
             "size": 10,
             "solidity": 0.2
            },
            "type": "scatter"
           }
          ],
          "scatter3d": [
           {
            "line": {
             "colorbar": {
              "outlinewidth": 0,
              "ticks": ""
             }
            },
            "marker": {
             "colorbar": {
              "outlinewidth": 0,
              "ticks": ""
             }
            },
            "type": "scatter3d"
           }
          ],
          "scattercarpet": [
           {
            "marker": {
             "colorbar": {
              "outlinewidth": 0,
              "ticks": ""
             }
            },
            "type": "scattercarpet"
           }
          ],
          "scattergeo": [
           {
            "marker": {
             "colorbar": {
              "outlinewidth": 0,
              "ticks": ""
             }
            },
            "type": "scattergeo"
           }
          ],
          "scattergl": [
           {
            "marker": {
             "colorbar": {
              "outlinewidth": 0,
              "ticks": ""
             }
            },
            "type": "scattergl"
           }
          ],
          "scattermapbox": [
           {
            "marker": {
             "colorbar": {
              "outlinewidth": 0,
              "ticks": ""
             }
            },
            "type": "scattermapbox"
           }
          ],
          "scatterpolar": [
           {
            "marker": {
             "colorbar": {
              "outlinewidth": 0,
              "ticks": ""
             }
            },
            "type": "scatterpolar"
           }
          ],
          "scatterpolargl": [
           {
            "marker": {
             "colorbar": {
              "outlinewidth": 0,
              "ticks": ""
             }
            },
            "type": "scatterpolargl"
           }
          ],
          "scatterternary": [
           {
            "marker": {
             "colorbar": {
              "outlinewidth": 0,
              "ticks": ""
             }
            },
            "type": "scatterternary"
           }
          ],
          "surface": [
           {
            "colorbar": {
             "outlinewidth": 0,
             "ticks": ""
            },
            "colorscale": [
             [
              0,
              "#0d0887"
             ],
             [
              0.1111111111111111,
              "#46039f"
             ],
             [
              0.2222222222222222,
              "#7201a8"
             ],
             [
              0.3333333333333333,
              "#9c179e"
             ],
             [
              0.4444444444444444,
              "#bd3786"
             ],
             [
              0.5555555555555556,
              "#d8576b"
             ],
             [
              0.6666666666666666,
              "#ed7953"
             ],
             [
              0.7777777777777778,
              "#fb9f3a"
             ],
             [
              0.8888888888888888,
              "#fdca26"
             ],
             [
              1,
              "#f0f921"
             ]
            ],
            "type": "surface"
           }
          ],
          "table": [
           {
            "cells": {
             "fill": {
              "color": "#EBF0F8"
             },
             "line": {
              "color": "white"
             }
            },
            "header": {
             "fill": {
              "color": "#C8D4E3"
             },
             "line": {
              "color": "white"
             }
            },
            "type": "table"
           }
          ]
         },
         "layout": {
          "annotationdefaults": {
           "arrowcolor": "#2a3f5f",
           "arrowhead": 0,
           "arrowwidth": 1
          },
          "autotypenumbers": "strict",
          "coloraxis": {
           "colorbar": {
            "outlinewidth": 0,
            "ticks": ""
           }
          },
          "colorscale": {
           "diverging": [
            [
             0,
             "#8e0152"
            ],
            [
             0.1,
             "#c51b7d"
            ],
            [
             0.2,
             "#de77ae"
            ],
            [
             0.3,
             "#f1b6da"
            ],
            [
             0.4,
             "#fde0ef"
            ],
            [
             0.5,
             "#f7f7f7"
            ],
            [
             0.6,
             "#e6f5d0"
            ],
            [
             0.7,
             "#b8e186"
            ],
            [
             0.8,
             "#7fbc41"
            ],
            [
             0.9,
             "#4d9221"
            ],
            [
             1,
             "#276419"
            ]
           ],
           "sequential": [
            [
             0,
             "#0d0887"
            ],
            [
             0.1111111111111111,
             "#46039f"
            ],
            [
             0.2222222222222222,
             "#7201a8"
            ],
            [
             0.3333333333333333,
             "#9c179e"
            ],
            [
             0.4444444444444444,
             "#bd3786"
            ],
            [
             0.5555555555555556,
             "#d8576b"
            ],
            [
             0.6666666666666666,
             "#ed7953"
            ],
            [
             0.7777777777777778,
             "#fb9f3a"
            ],
            [
             0.8888888888888888,
             "#fdca26"
            ],
            [
             1,
             "#f0f921"
            ]
           ],
           "sequentialminus": [
            [
             0,
             "#0d0887"
            ],
            [
             0.1111111111111111,
             "#46039f"
            ],
            [
             0.2222222222222222,
             "#7201a8"
            ],
            [
             0.3333333333333333,
             "#9c179e"
            ],
            [
             0.4444444444444444,
             "#bd3786"
            ],
            [
             0.5555555555555556,
             "#d8576b"
            ],
            [
             0.6666666666666666,
             "#ed7953"
            ],
            [
             0.7777777777777778,
             "#fb9f3a"
            ],
            [
             0.8888888888888888,
             "#fdca26"
            ],
            [
             1,
             "#f0f921"
            ]
           ]
          },
          "colorway": [
           "#636efa",
           "#EF553B",
           "#00cc96",
           "#ab63fa",
           "#FFA15A",
           "#19d3f3",
           "#FF6692",
           "#B6E880",
           "#FF97FF",
           "#FECB52"
          ],
          "font": {
           "color": "#2a3f5f"
          },
          "geo": {
           "bgcolor": "white",
           "lakecolor": "white",
           "landcolor": "#E5ECF6",
           "showlakes": true,
           "showland": true,
           "subunitcolor": "white"
          },
          "hoverlabel": {
           "align": "left"
          },
          "hovermode": "closest",
          "mapbox": {
           "style": "light"
          },
          "paper_bgcolor": "white",
          "plot_bgcolor": "#E5ECF6",
          "polar": {
           "angularaxis": {
            "gridcolor": "white",
            "linecolor": "white",
            "ticks": ""
           },
           "bgcolor": "#E5ECF6",
           "radialaxis": {
            "gridcolor": "white",
            "linecolor": "white",
            "ticks": ""
           }
          },
          "scene": {
           "xaxis": {
            "backgroundcolor": "#E5ECF6",
            "gridcolor": "white",
            "gridwidth": 2,
            "linecolor": "white",
            "showbackground": true,
            "ticks": "",
            "zerolinecolor": "white"
           },
           "yaxis": {
            "backgroundcolor": "#E5ECF6",
            "gridcolor": "white",
            "gridwidth": 2,
            "linecolor": "white",
            "showbackground": true,
            "ticks": "",
            "zerolinecolor": "white"
           },
           "zaxis": {
            "backgroundcolor": "#E5ECF6",
            "gridcolor": "white",
            "gridwidth": 2,
            "linecolor": "white",
            "showbackground": true,
            "ticks": "",
            "zerolinecolor": "white"
           }
          },
          "shapedefaults": {
           "line": {
            "color": "#2a3f5f"
           }
          },
          "ternary": {
           "aaxis": {
            "gridcolor": "white",
            "linecolor": "white",
            "ticks": ""
           },
           "baxis": {
            "gridcolor": "white",
            "linecolor": "white",
            "ticks": ""
           },
           "bgcolor": "#E5ECF6",
           "caxis": {
            "gridcolor": "white",
            "linecolor": "white",
            "ticks": ""
           }
          },
          "title": {
           "x": 0.05
          },
          "xaxis": {
           "automargin": true,
           "gridcolor": "white",
           "linecolor": "white",
           "ticks": "",
           "title": {
            "standoff": 15
           },
           "zerolinecolor": "white",
           "zerolinewidth": 2
          },
          "yaxis": {
           "automargin": true,
           "gridcolor": "white",
           "linecolor": "white",
           "ticks": "",
           "title": {
            "standoff": 15
           },
           "zerolinecolor": "white",
           "zerolinewidth": 2
          }
         }
        },
        "title": {
         "font": {
          "family": "CMU",
          "size": 15
         },
         "text": "Line Plot"
        },
        "width": 600,
        "xaxis": {
         "anchor": "y",
         "autorange": true,
         "domain": [
          0,
          1
         ],
         "range": [
          -0.06009330406147092,
          1.0700933040614709
         ],
         "tickfont": {
          "family": "CMU",
          "size": 15
         },
         "title": {
          "font": {
           "family": "CMU",
           "size": 15
          },
          "text": "Deformation Factor"
         },
         "type": "linear"
        },
        "yaxis": {
         "anchor": "x",
         "autorange": true,
         "domain": [
          0,
          1
         ],
         "range": [
          -0.47475652575254135,
          6.746787505147723
         ],
         "tickfont": {
          "family": "CMU",
          "size": 15
         },
         "title": {
          "font": {
           "family": "CMU",
           "size": 15
          },
          "text": "Mesh distance per vertex [% diameter]"
         },
         "type": "linear"
        }
       }
      },
      "text/html": [
       "<div>                            <div id=\"675ef606-756e-48ed-abb3-d08ae2c9340a\" class=\"plotly-graph-div\" style=\"height:350px; width:600px;\"></div>            <script type=\"text/javascript\">                require([\"plotly\"], function(Plotly) {                    window.PLOTLYENV=window.PLOTLYENV || {};                                    if (document.getElementById(\"675ef606-756e-48ed-abb3-d08ae2c9340a\")) {                    Plotly.newPlot(                        \"675ef606-756e-48ed-abb3-d08ae2c9340a\",                        [{\"hovertemplate\":\"symbol=3\\u003cbr\\u003ex=%{x}\\u003cbr\\u003ey=%{y}\\u003cbr\\u003ecolor=%{marker.color}\\u003cextra\\u003e\\u003c\\u002fextra\\u003e\",\"legendgroup\":\"scatter\",\"marker\":{\"color\":[42,162,642,42,162,642,42,162,642,42,162,642],\"coloraxis\":\"coloraxis\",\"symbol\":\"star\"},\"mode\":\"markers\",\"name\":\"3\",\"orientation\":\"v\",\"showlegend\":false,\"x\":[0.01,0.01,0.01,0.1,0.1,0.1,0.5,0.5,0.5,1.0,1.0,1.0],\"xaxis\":\"x\",\"y\":[0.06290617879615298,0.03183328323518785,0.015474693047322938,0.6071790807789577,0.3093665927483725,0.1556201525770686,2.914228789837088,1.6147288325798401,0.8095074910403763,5.343575821391935,3.26301286332165,1.6110993378349463],\"yaxis\":\"y\",\"type\":\"scatter\"},{\"hovertemplate\":\"symbol=5\\u003cbr\\u003ex=%{x}\\u003cbr\\u003ey=%{y}\\u003cbr\\u003ecolor=%{marker.color}\\u003cextra\\u003e\\u003c\\u002fextra\\u003e\",\"legendgroup\":\"5\",\"marker\":{\"color\":[42,162,642,42,162,642,42,162,642,42,162,642],\"coloraxis\":\"coloraxis\",\"symbol\":\"diamond\"},\"mode\":\"markers\",\"name\":\"5\",\"orientation\":\"v\",\"showlegend\":true,\"x\":[0.01,0.01,0.01,0.1,0.1,0.1,0.5,0.5,0.5,1.0,1.0,1.0],\"xaxis\":\"x\",\"y\":[0.06758920058346929,0.028983192750135674,0.01527681920140511,0.5708503479486415,0.31874332087141116,0.15958513002180477,2.85472368358275,1.5478386202131214,0.7768306642514792,6.089319591820457,3.077152458979568,1.5503394645582311],\"yaxis\":\"y\",\"type\":\"scatter\"},{\"hovertemplate\":\"symbol=8\\u003cbr\\u003ex=%{x}\\u003cbr\\u003ey=%{y}\\u003cbr\\u003ecolor=%{marker.color}\\u003cextra\\u003e\\u003c\\u002fextra\\u003e\",\"legendgroup\":\"8\",\"marker\":{\"color\":[42,162,642,42,162,642,42,162,642,42,162,642],\"coloraxis\":\"coloraxis\",\"symbol\":\"cross\"},\"mode\":\"markers\",\"name\":\"8\",\"orientation\":\"v\",\"showlegend\":true,\"x\":[0.01,0.01,0.01,0.1,0.1,0.1,0.5,0.5,0.5,1.0,1.0,1.0],\"xaxis\":\"x\",\"y\":[0.0569467308461288,0.031160213762726246,0.015402483480036453,0.5953072298279181,0.310860359966379,0.1586103253565694,2.942898055525087,1.5382650331913315,0.7812717287613278,5.981562687764722,3.076489959695689,1.560821905969616],\"yaxis\":\"y\",\"type\":\"scatter\"},{\"hovertemplate\":\"symbol=10\\u003cbr\\u003ex=%{x}\\u003cbr\\u003ey=%{y}\\u003cbr\\u003ecolor=%{marker.color}\\u003cextra\\u003e\\u003c\\u002fextra\\u003e\",\"legendgroup\":\"10\",\"marker\":{\"color\":[42,162,642,42,162,642,42,162,642,42,162,642],\"coloraxis\":\"coloraxis\",\"symbol\":\"x\"},\"mode\":\"markers\",\"name\":\"10\",\"orientation\":\"v\",\"showlegend\":true,\"x\":[0.01,0.01,0.01,0.1,0.1,0.1,0.5,0.5,0.5,1.0,1.0,1.0],\"xaxis\":\"x\",\"y\":[0.05765587821858244,0.030430370956773704,0.01545174889069611,0.5592448615566669,0.3105206406720667,0.15799534396217751,2.7624274841162646,1.5364069842193504,0.7950581143612391,5.8222254485508085,3.078681628524628,1.5588737248196025],\"yaxis\":\"y\",\"type\":\"scatter\"},{\"hovertemplate\":\"symbol=20\\u003cbr\\u003ex=%{x}\\u003cbr\\u003ey=%{y}\\u003cbr\\u003ecolor=%{marker.color}\\u003cextra\\u003e\\u003c\\u002fextra\\u003e\",\"legendgroup\":\"20\",\"marker\":{\"color\":[42,162,642,42,162,642,42,162,642,42,162],\"coloraxis\":\"coloraxis\",\"symbol\":\"square\"},\"mode\":\"markers\",\"name\":\"20\",\"orientation\":\"v\",\"showlegend\":true,\"x\":[0.01,0.01,0.01,0.1,0.1,0.1,0.5,0.5,0.5,1.0,1.0],\"xaxis\":\"x\",\"y\":[0.05967593266024224,0.03064859289468785,0.015501053840943807,0.6117750920159277,0.31162798161321786,0.1563956087477065,3.00891042108198,1.5888094374934065,0.7892609739691452,6.256754160193776,3.1296459532824996],\"yaxis\":\"y\",\"type\":\"scatter\"},{\"legendgroup\":\"regression\",\"line\":{\"color\":\"#0d0887\"},\"mode\":\"lines\",\"name\":\"n_vertices: 42 (R2=0.995)\",\"showlegend\":true,\"x\":[0.01,0.01,0.01,0.01,0.01,0.1,0.1,0.1,0.1,0.1,0.5,0.5,0.5,0.5,0.5,1.0,1.0,1.0,1.0,1.0],\"y\":[0.04965014439230861,0.04965014439230861,0.04965014439230861,0.04965014439230861,0.04965014439230861,0.5797071942053819,0.5797071942053819,0.5797071942053819,0.5797071942053819,0.5797071942053819,2.9355163044857076,2.9355163044857076,2.9355163044857076,2.9355163044857076,2.9355163044857076,5.880277692336115,5.880277692336115,5.880277692336115,5.880277692336115,5.880277692336115],\"type\":\"scatter\"},{\"legendgroup\":\"regression\",\"line\":{\"color\":\"#bd3786\"},\"mode\":\"lines\",\"name\":\"n_vertices: 162 (R2=0.999)\",\"showlegend\":true,\"x\":[0.01,0.01,0.01,0.01,0.01,0.1,0.1,0.1,0.1,0.1,0.5,0.5,0.5,0.5,0.5,1.0,1.0,1.0,1.0,1.0],\"y\":[0.03131532362548415,0.03131532362548415,0.03131532362548415,0.03131532362548415,0.03131532362548415,0.3126530288944793,0.3126530288944793,0.3126530288944793,0.3126530288944793,0.3126530288944793,1.5630428300900134,1.5630428300900134,1.5630428300900134,1.5630428300900134,1.5630428300900134,3.126030081584431,3.126030081584431,3.126030081584431,3.126030081584431,3.126030081584431],\"type\":\"scatter\"},{\"legendgroup\":\"regression\",\"line\":{\"color\":\"#f0f921\"},\"mode\":\"lines\",\"name\":\"n_vertices: 642 (R2=1.000)\",\"showlegend\":true,\"x\":[0.01,0.01,0.01,0.01,0.01,0.1,0.1,0.1,0.1,0.1,0.5,0.5,0.5,0.5,0.5,1.0,1.0,1.0,1.0],\"y\":[0.016758732437506647,0.016758732437506647,0.016758732437506647,0.016758732437506647,0.016758732437506647,0.15818679021507462,0.15818679021507462,0.15818679021507462,0.15818679021507462,0.15818679021507462,0.7867559358931544,0.7867559358931544,0.7867559358931544,0.7867559358931544,0.7867559358931544,1.5724673679907542,1.5724673679907542,1.5724673679907542,1.5724673679907542],\"type\":\"scatter\"}],                        {\"template\":{\"data\":{\"histogram2dcontour\":[{\"type\":\"histogram2dcontour\",\"colorbar\":{\"outlinewidth\":0,\"ticks\":\"\"},\"colorscale\":[[0.0,\"#0d0887\"],[0.1111111111111111,\"#46039f\"],[0.2222222222222222,\"#7201a8\"],[0.3333333333333333,\"#9c179e\"],[0.4444444444444444,\"#bd3786\"],[0.5555555555555556,\"#d8576b\"],[0.6666666666666666,\"#ed7953\"],[0.7777777777777778,\"#fb9f3a\"],[0.8888888888888888,\"#fdca26\"],[1.0,\"#f0f921\"]]}],\"choropleth\":[{\"type\":\"choropleth\",\"colorbar\":{\"outlinewidth\":0,\"ticks\":\"\"}}],\"histogram2d\":[{\"type\":\"histogram2d\",\"colorbar\":{\"outlinewidth\":0,\"ticks\":\"\"},\"colorscale\":[[0.0,\"#0d0887\"],[0.1111111111111111,\"#46039f\"],[0.2222222222222222,\"#7201a8\"],[0.3333333333333333,\"#9c179e\"],[0.4444444444444444,\"#bd3786\"],[0.5555555555555556,\"#d8576b\"],[0.6666666666666666,\"#ed7953\"],[0.7777777777777778,\"#fb9f3a\"],[0.8888888888888888,\"#fdca26\"],[1.0,\"#f0f921\"]]}],\"heatmap\":[{\"type\":\"heatmap\",\"colorbar\":{\"outlinewidth\":0,\"ticks\":\"\"},\"colorscale\":[[0.0,\"#0d0887\"],[0.1111111111111111,\"#46039f\"],[0.2222222222222222,\"#7201a8\"],[0.3333333333333333,\"#9c179e\"],[0.4444444444444444,\"#bd3786\"],[0.5555555555555556,\"#d8576b\"],[0.6666666666666666,\"#ed7953\"],[0.7777777777777778,\"#fb9f3a\"],[0.8888888888888888,\"#fdca26\"],[1.0,\"#f0f921\"]]}],\"heatmapgl\":[{\"type\":\"heatmapgl\",\"colorbar\":{\"outlinewidth\":0,\"ticks\":\"\"},\"colorscale\":[[0.0,\"#0d0887\"],[0.1111111111111111,\"#46039f\"],[0.2222222222222222,\"#7201a8\"],[0.3333333333333333,\"#9c179e\"],[0.4444444444444444,\"#bd3786\"],[0.5555555555555556,\"#d8576b\"],[0.6666666666666666,\"#ed7953\"],[0.7777777777777778,\"#fb9f3a\"],[0.8888888888888888,\"#fdca26\"],[1.0,\"#f0f921\"]]}],\"contourcarpet\":[{\"type\":\"contourcarpet\",\"colorbar\":{\"outlinewidth\":0,\"ticks\":\"\"}}],\"contour\":[{\"type\":\"contour\",\"colorbar\":{\"outlinewidth\":0,\"ticks\":\"\"},\"colorscale\":[[0.0,\"#0d0887\"],[0.1111111111111111,\"#46039f\"],[0.2222222222222222,\"#7201a8\"],[0.3333333333333333,\"#9c179e\"],[0.4444444444444444,\"#bd3786\"],[0.5555555555555556,\"#d8576b\"],[0.6666666666666666,\"#ed7953\"],[0.7777777777777778,\"#fb9f3a\"],[0.8888888888888888,\"#fdca26\"],[1.0,\"#f0f921\"]]}],\"surface\":[{\"type\":\"surface\",\"colorbar\":{\"outlinewidth\":0,\"ticks\":\"\"},\"colorscale\":[[0.0,\"#0d0887\"],[0.1111111111111111,\"#46039f\"],[0.2222222222222222,\"#7201a8\"],[0.3333333333333333,\"#9c179e\"],[0.4444444444444444,\"#bd3786\"],[0.5555555555555556,\"#d8576b\"],[0.6666666666666666,\"#ed7953\"],[0.7777777777777778,\"#fb9f3a\"],[0.8888888888888888,\"#fdca26\"],[1.0,\"#f0f921\"]]}],\"mesh3d\":[{\"type\":\"mesh3d\",\"colorbar\":{\"outlinewidth\":0,\"ticks\":\"\"}}],\"scatter\":[{\"fillpattern\":{\"fillmode\":\"overlay\",\"size\":10,\"solidity\":0.2},\"type\":\"scatter\"}],\"parcoords\":[{\"type\":\"parcoords\",\"line\":{\"colorbar\":{\"outlinewidth\":0,\"ticks\":\"\"}}}],\"scatterpolargl\":[{\"type\":\"scatterpolargl\",\"marker\":{\"colorbar\":{\"outlinewidth\":0,\"ticks\":\"\"}}}],\"bar\":[{\"error_x\":{\"color\":\"#2a3f5f\"},\"error_y\":{\"color\":\"#2a3f5f\"},\"marker\":{\"line\":{\"color\":\"#E5ECF6\",\"width\":0.5},\"pattern\":{\"fillmode\":\"overlay\",\"size\":10,\"solidity\":0.2}},\"type\":\"bar\"}],\"scattergeo\":[{\"type\":\"scattergeo\",\"marker\":{\"colorbar\":{\"outlinewidth\":0,\"ticks\":\"\"}}}],\"scatterpolar\":[{\"type\":\"scatterpolar\",\"marker\":{\"colorbar\":{\"outlinewidth\":0,\"ticks\":\"\"}}}],\"histogram\":[{\"marker\":{\"pattern\":{\"fillmode\":\"overlay\",\"size\":10,\"solidity\":0.2}},\"type\":\"histogram\"}],\"scattergl\":[{\"type\":\"scattergl\",\"marker\":{\"colorbar\":{\"outlinewidth\":0,\"ticks\":\"\"}}}],\"scatter3d\":[{\"type\":\"scatter3d\",\"line\":{\"colorbar\":{\"outlinewidth\":0,\"ticks\":\"\"}},\"marker\":{\"colorbar\":{\"outlinewidth\":0,\"ticks\":\"\"}}}],\"scattermapbox\":[{\"type\":\"scattermapbox\",\"marker\":{\"colorbar\":{\"outlinewidth\":0,\"ticks\":\"\"}}}],\"scatterternary\":[{\"type\":\"scatterternary\",\"marker\":{\"colorbar\":{\"outlinewidth\":0,\"ticks\":\"\"}}}],\"scattercarpet\":[{\"type\":\"scattercarpet\",\"marker\":{\"colorbar\":{\"outlinewidth\":0,\"ticks\":\"\"}}}],\"carpet\":[{\"aaxis\":{\"endlinecolor\":\"#2a3f5f\",\"gridcolor\":\"white\",\"linecolor\":\"white\",\"minorgridcolor\":\"white\",\"startlinecolor\":\"#2a3f5f\"},\"baxis\":{\"endlinecolor\":\"#2a3f5f\",\"gridcolor\":\"white\",\"linecolor\":\"white\",\"minorgridcolor\":\"white\",\"startlinecolor\":\"#2a3f5f\"},\"type\":\"carpet\"}],\"table\":[{\"cells\":{\"fill\":{\"color\":\"#EBF0F8\"},\"line\":{\"color\":\"white\"}},\"header\":{\"fill\":{\"color\":\"#C8D4E3\"},\"line\":{\"color\":\"white\"}},\"type\":\"table\"}],\"barpolar\":[{\"marker\":{\"line\":{\"color\":\"#E5ECF6\",\"width\":0.5},\"pattern\":{\"fillmode\":\"overlay\",\"size\":10,\"solidity\":0.2}},\"type\":\"barpolar\"}],\"pie\":[{\"automargin\":true,\"type\":\"pie\"}]},\"layout\":{\"autotypenumbers\":\"strict\",\"colorway\":[\"#636efa\",\"#EF553B\",\"#00cc96\",\"#ab63fa\",\"#FFA15A\",\"#19d3f3\",\"#FF6692\",\"#B6E880\",\"#FF97FF\",\"#FECB52\"],\"font\":{\"color\":\"#2a3f5f\"},\"hovermode\":\"closest\",\"hoverlabel\":{\"align\":\"left\"},\"paper_bgcolor\":\"white\",\"plot_bgcolor\":\"#E5ECF6\",\"polar\":{\"bgcolor\":\"#E5ECF6\",\"angularaxis\":{\"gridcolor\":\"white\",\"linecolor\":\"white\",\"ticks\":\"\"},\"radialaxis\":{\"gridcolor\":\"white\",\"linecolor\":\"white\",\"ticks\":\"\"}},\"ternary\":{\"bgcolor\":\"#E5ECF6\",\"aaxis\":{\"gridcolor\":\"white\",\"linecolor\":\"white\",\"ticks\":\"\"},\"baxis\":{\"gridcolor\":\"white\",\"linecolor\":\"white\",\"ticks\":\"\"},\"caxis\":{\"gridcolor\":\"white\",\"linecolor\":\"white\",\"ticks\":\"\"}},\"coloraxis\":{\"colorbar\":{\"outlinewidth\":0,\"ticks\":\"\"}},\"colorscale\":{\"sequential\":[[0.0,\"#0d0887\"],[0.1111111111111111,\"#46039f\"],[0.2222222222222222,\"#7201a8\"],[0.3333333333333333,\"#9c179e\"],[0.4444444444444444,\"#bd3786\"],[0.5555555555555556,\"#d8576b\"],[0.6666666666666666,\"#ed7953\"],[0.7777777777777778,\"#fb9f3a\"],[0.8888888888888888,\"#fdca26\"],[1.0,\"#f0f921\"]],\"sequentialminus\":[[0.0,\"#0d0887\"],[0.1111111111111111,\"#46039f\"],[0.2222222222222222,\"#7201a8\"],[0.3333333333333333,\"#9c179e\"],[0.4444444444444444,\"#bd3786\"],[0.5555555555555556,\"#d8576b\"],[0.6666666666666666,\"#ed7953\"],[0.7777777777777778,\"#fb9f3a\"],[0.8888888888888888,\"#fdca26\"],[1.0,\"#f0f921\"]],\"diverging\":[[0,\"#8e0152\"],[0.1,\"#c51b7d\"],[0.2,\"#de77ae\"],[0.3,\"#f1b6da\"],[0.4,\"#fde0ef\"],[0.5,\"#f7f7f7\"],[0.6,\"#e6f5d0\"],[0.7,\"#b8e186\"],[0.8,\"#7fbc41\"],[0.9,\"#4d9221\"],[1,\"#276419\"]]},\"xaxis\":{\"gridcolor\":\"white\",\"linecolor\":\"white\",\"ticks\":\"\",\"title\":{\"standoff\":15},\"zerolinecolor\":\"white\",\"automargin\":true,\"zerolinewidth\":2},\"yaxis\":{\"gridcolor\":\"white\",\"linecolor\":\"white\",\"ticks\":\"\",\"title\":{\"standoff\":15},\"zerolinecolor\":\"white\",\"automargin\":true,\"zerolinewidth\":2},\"scene\":{\"xaxis\":{\"backgroundcolor\":\"#E5ECF6\",\"gridcolor\":\"white\",\"linecolor\":\"white\",\"showbackground\":true,\"ticks\":\"\",\"zerolinecolor\":\"white\",\"gridwidth\":2},\"yaxis\":{\"backgroundcolor\":\"#E5ECF6\",\"gridcolor\":\"white\",\"linecolor\":\"white\",\"showbackground\":true,\"ticks\":\"\",\"zerolinecolor\":\"white\",\"gridwidth\":2},\"zaxis\":{\"backgroundcolor\":\"#E5ECF6\",\"gridcolor\":\"white\",\"linecolor\":\"white\",\"showbackground\":true,\"ticks\":\"\",\"zerolinecolor\":\"white\",\"gridwidth\":2}},\"shapedefaults\":{\"line\":{\"color\":\"#2a3f5f\"}},\"annotationdefaults\":{\"arrowcolor\":\"#2a3f5f\",\"arrowhead\":0,\"arrowwidth\":1},\"geo\":{\"bgcolor\":\"white\",\"landcolor\":\"#E5ECF6\",\"subunitcolor\":\"white\",\"showland\":true,\"showlakes\":true,\"lakecolor\":\"white\"},\"title\":{\"x\":0.05},\"mapbox\":{\"style\":\"light\"}}},\"xaxis\":{\"anchor\":\"y\",\"domain\":[0.0,1.0],\"title\":{\"text\":\"Deformation Factor\",\"font\":{\"family\":\"CMU\",\"size\":15}},\"tickfont\":{\"family\":\"CMU\",\"size\":15}},\"yaxis\":{\"anchor\":\"x\",\"domain\":[0.0,1.0],\"title\":{\"text\":\"Mesh distance per vertex [% diameter]\",\"font\":{\"family\":\"CMU\",\"size\":15}},\"tickfont\":{\"family\":\"CMU\",\"size\":15}},\"coloraxis\":{\"colorbar\":{\"title\":{\"text\":\"color\"}},\"colorscale\":[[0.0,\"#0d0887\"],[0.1111111111111111,\"#46039f\"],[0.2222222222222222,\"#7201a8\"],[0.3333333333333333,\"#9c179e\"],[0.4444444444444444,\"#bd3786\"],[0.5555555555555556,\"#d8576b\"],[0.6666666666666666,\"#ed7953\"],[0.7777777777777778,\"#fb9f3a\"],[0.8888888888888888,\"#fdca26\"],[1.0,\"#f0f921\"]]},\"legend\":{\"title\":{\"text\":\"symbol\"},\"tracegroupgap\":0},\"margin\":{\"t\":60},\"title\":{\"text\":\"Line Plot\",\"font\":{\"family\":\"CMU\",\"size\":15}},\"width\":600,\"height\":350},                        {\"responsive\": true}                    ).then(function(){\n",
       "                            \n",
       "var gd = document.getElementById('675ef606-756e-48ed-abb3-d08ae2c9340a');\n",
       "var x = new MutationObserver(function (mutations, observer) {{\n",
       "        var display = window.getComputedStyle(gd).display;\n",
       "        if (!display || display === 'none') {{\n",
       "            console.log([gd, 'removed!']);\n",
       "            Plotly.purge(gd);\n",
       "            observer.disconnect();\n",
       "        }}\n",
       "}});\n",
       "\n",
       "// Listen for the removal of the full notebook cells\n",
       "var notebookContainer = gd.closest('#notebook-container');\n",
       "if (notebookContainer) {{\n",
       "    x.observe(notebookContainer, {childList: true});\n",
       "}}\n",
       "\n",
       "// Listen for the clearing of the current output cell\n",
       "var outputEl = gd.closest('.output');\n",
       "if (outputEl) {{\n",
       "    x.observe(outputEl, {childList: true});\n",
       "}}\n",
       "\n",
       "                        })                };                });            </script>        </div>"
      ]
     },
     "metadata": {},
     "output_type": "display_data"
    }
   ],
   "source": [
    "y_var = \"diff_seq_per_time_vertex_diameter\"\n",
    "y = df.groupby([\"noise_factor\", \"n_vertices\", \"n_steps\"])[y_var].mean() * 100\n",
    "\n",
    "line_plot(y_var, y)"
   ]
  },
  {
   "cell_type": "code",
   "execution_count": 157,
   "id": "1460131c-2788-421a-b6bd-d1b3e8acf0f2",
   "metadata": {},
   "outputs": [
    {
     "name": "stdout",
     "output_type": "stream",
     "text": [
      "0.03652100935614144\n",
      "0.11291463972399463\n",
      "0.0002951048435867465\n"
     ]
    },
    {
     "data": {
      "application/vnd.plotly.v1+json": {
       "config": {
        "plotlyServerURL": "https://plot.ly"
       },
       "data": [
        {
         "hovertemplate": "symbol=3<br>x=%{x}<br>y=%{y}<br>color=%{marker.color}<extra></extra>",
         "legendgroup": "scatter",
         "marker": {
          "color": [
           42,
           162,
           642,
           42,
           162,
           642,
           42,
           162,
           642,
           42,
           162,
           642
          ],
          "coloraxis": "coloraxis",
          "symbol": "star"
         },
         "mode": "markers",
         "name": "3",
         "orientation": "v",
         "showlegend": false,
         "type": "scatter",
         "x": [
          0.01,
          0.01,
          0.01,
          0.1,
          0.1,
          0.1,
          0.5,
          0.5,
          0.5,
          1,
          1,
          1
         ],
         "xaxis": "x",
         "y": [
          -3116.668221231001,
          -2903.1448574124806,
          -3048.9869083561634,
          -4890.512181935937,
          -4768.595509359895,
          -3452.289943826636,
          -10308.696855480264,
          -7630.065738927865,
          -7481.088301846655,
          -5375.177299599493,
          -6687.023395992843,
          -6727.739520886971
         ],
         "yaxis": "y"
        },
        {
         "hovertemplate": "symbol=5<br>x=%{x}<br>y=%{y}<br>color=%{marker.color}<extra></extra>",
         "legendgroup": "5",
         "marker": {
          "color": [
           42,
           162,
           642,
           42,
           162,
           642,
           42,
           162,
           642,
           42,
           162,
           642
          ],
          "coloraxis": "coloraxis",
          "symbol": "diamond"
         },
         "mode": "markers",
         "name": "5",
         "orientation": "v",
         "showlegend": true,
         "type": "scatter",
         "x": [
          0.01,
          0.01,
          0.01,
          0.1,
          0.1,
          0.1,
          0.5,
          0.5,
          0.5,
          1,
          1,
          1
         ],
         "xaxis": "x",
         "y": [
          -6835.2041365373725,
          -4794.502545053034,
          -4101.06132849732,
          -6484.994556633092,
          -8661.277641180748,
          -6339.52045073199,
          -6401.269937897345,
          -9860.948187103655,
          -7578.810690343066,
          -11951.80259570897,
          -10680.051412939432,
          -8796.461300225275
         ],
         "yaxis": "y"
        },
        {
         "hovertemplate": "symbol=8<br>x=%{x}<br>y=%{y}<br>color=%{marker.color}<extra></extra>",
         "legendgroup": "8",
         "marker": {
          "color": [
           42,
           162,
           642,
           42,
           162,
           642,
           42,
           162,
           642,
           42,
           162,
           642
          ],
          "coloraxis": "coloraxis",
          "symbol": "cross"
         },
         "mode": "markers",
         "name": "8",
         "orientation": "v",
         "showlegend": true,
         "type": "scatter",
         "x": [
          0.01,
          0.01,
          0.01,
          0.1,
          0.1,
          0.1,
          0.5,
          0.5,
          0.5,
          1,
          1,
          1
         ],
         "xaxis": "x",
         "y": [
          -11386.827931567355,
          -9330.522110539896,
          -7765.3191676801125,
          -10404.335477511133,
          -6184.941962715561,
          -10930.410752434533,
          -13631.503659447353,
          -13592.564559531758,
          -10904.474914531189,
          -15378.107363882778,
          -12520.99562056418,
          -8493.65987663353
         ],
         "yaxis": "y"
        },
        {
         "hovertemplate": "symbol=10<br>x=%{x}<br>y=%{y}<br>color=%{marker.color}<extra></extra>",
         "legendgroup": "10",
         "marker": {
          "color": [
           42,
           162,
           642,
           42,
           162,
           642,
           42,
           162,
           642,
           42,
           162,
           642
          ],
          "coloraxis": "coloraxis",
          "symbol": "x"
         },
         "mode": "markers",
         "name": "10",
         "orientation": "v",
         "showlegend": true,
         "type": "scatter",
         "x": [
          0.01,
          0.01,
          0.01,
          0.1,
          0.1,
          0.1,
          0.5,
          0.5,
          0.5,
          1,
          1,
          1
         ],
         "xaxis": "x",
         "y": [
          -9426.37265537322,
          -10204.895418796508,
          -9433.2971130298,
          -11615.216303290537,
          -12271.247242345407,
          -12010.035148374223,
          -18556.967411576425,
          -17694.66920251354,
          -9625.959402616552,
          -17617.015267688672,
          -18135.909276193797,
          -11870.630364580176
         ],
         "yaxis": "y"
        },
        {
         "hovertemplate": "symbol=20<br>x=%{x}<br>y=%{y}<br>color=%{marker.color}<extra></extra>",
         "legendgroup": "20",
         "marker": {
          "color": [
           42,
           162,
           642,
           42,
           162,
           642,
           42,
           162,
           642,
           42,
           162
          ],
          "coloraxis": "coloraxis",
          "symbol": "square"
         },
         "mode": "markers",
         "name": "20",
         "orientation": "v",
         "showlegend": true,
         "type": "scatter",
         "x": [
          0.01,
          0.01,
          0.01,
          0.1,
          0.1,
          0.1,
          0.5,
          0.5,
          0.5,
          1,
          1
         ],
         "xaxis": "x",
         "y": [
          -26311.587042117335,
          -19260.643317637107,
          -20277.689606638887,
          -32136.358751087257,
          -24175.76028956932,
          -19524.168080425054,
          -27785.646739074517,
          -27406.26110744541,
          -19448.351659313572,
          -29057.94033368701,
          -32897.043746393014
         ],
         "yaxis": "y"
        },
        {
         "legendgroup": "regression",
         "line": {
          "color": "#0d0887"
         },
         "mode": "lines",
         "name": "n_vertices: 42 (R2=0.037)",
         "showlegend": true,
         "type": "scatter",
         "x": [
          0.01,
          0.01,
          0.01,
          0.01,
          0.01,
          0.1,
          0.1,
          0.1,
          0.1,
          0.1,
          0.5,
          0.5,
          0.5,
          0.5,
          0.5,
          1,
          1,
          1,
          1,
          1
         ],
         "y": [
          -12307.316333395183,
          -12307.316333395183,
          -12307.316333395183,
          -12307.316333395183,
          -12307.316333395183,
          -12680.224489421695,
          -12680.224489421695,
          -12680.224489421695,
          -12680.224489421695,
          -12680.224489421695,
          -14337.59407176174,
          -14337.59407176174,
          -14337.59407176174,
          -14337.59407176174,
          -14337.59407176174,
          -16409.3060496868,
          -16409.3060496868,
          -16409.3060496868,
          -16409.3060496868,
          -16409.3060496868
         ]
        },
        {
         "legendgroup": "regression",
         "line": {
          "color": "#bd3786"
         },
         "mode": "lines",
         "name": "n_vertices: 162 (R2=0.113)",
         "showlegend": true,
         "type": "scatter",
         "x": [
          0.01,
          0.01,
          0.01,
          0.01,
          0.01,
          0.1,
          0.1,
          0.1,
          0.1,
          0.1,
          0.5,
          0.5,
          0.5,
          0.5,
          0.5,
          1,
          1,
          1,
          1,
          1
         ],
         "y": [
          -10344.799162672245,
          -10344.799162672245,
          -10344.799162672245,
          -10344.799162672245,
          -10344.799162672245,
          -10949.749123180443,
          -10949.749123180443,
          -10949.749123180443,
          -10949.749123180443,
          -10949.749123180443,
          -13638.415614327985,
          -13638.415614327985,
          -13638.415614327985,
          -13638.415614327985,
          -13638.415614327985,
          -16999.248728262413,
          -16999.248728262413,
          -16999.248728262413,
          -16999.248728262413,
          -16999.248728262413
         ]
        },
        {
         "legendgroup": "regression",
         "line": {
          "color": "#f0f921"
         },
         "mode": "lines",
         "name": "n_vertices: 642 (R2=0.000)",
         "showlegend": true,
         "type": "scatter",
         "x": [
          0.01,
          0.01,
          0.01,
          0.01,
          0.01,
          0.1,
          0.1,
          0.1,
          0.1,
          0.1,
          0.5,
          0.5,
          0.5,
          0.5,
          0.5,
          1,
          1,
          1,
          1
         ],
         "y": [
          -9966.456546204228,
          -9966.456546204228,
          -9966.456546204228,
          -9966.456546204228,
          -9966.456546204228,
          -9946.08558611359,
          -9946.08558611359,
          -9946.08558611359,
          -9946.08558611359,
          -9946.08558611359,
          -9855.547985710755,
          -9855.547985710755,
          -9855.547985710755,
          -9855.547985710755,
          -9855.547985710755,
          -9742.37598520721,
          -9742.37598520721,
          -9742.37598520721,
          -9742.37598520721
         ]
        }
       ],
       "layout": {
        "coloraxis": {
         "colorbar": {
          "title": {
           "text": "color"
          }
         },
         "colorscale": [
          [
           0,
           "#0d0887"
          ],
          [
           0.1111111111111111,
           "#46039f"
          ],
          [
           0.2222222222222222,
           "#7201a8"
          ],
          [
           0.3333333333333333,
           "#9c179e"
          ],
          [
           0.4444444444444444,
           "#bd3786"
          ],
          [
           0.5555555555555556,
           "#d8576b"
          ],
          [
           0.6666666666666666,
           "#ed7953"
          ],
          [
           0.7777777777777778,
           "#fb9f3a"
          ],
          [
           0.8888888888888888,
           "#fdca26"
          ],
          [
           1,
           "#f0f921"
          ]
         ]
        },
        "height": 350,
        "legend": {
         "title": {
          "text": "symbol"
         },
         "tracegroupgap": 0
        },
        "margin": {
         "t": 60
        },
        "template": {
         "data": {
          "bar": [
           {
            "error_x": {
             "color": "#2a3f5f"
            },
            "error_y": {
             "color": "#2a3f5f"
            },
            "marker": {
             "line": {
              "color": "#E5ECF6",
              "width": 0.5
             },
             "pattern": {
              "fillmode": "overlay",
              "size": 10,
              "solidity": 0.2
             }
            },
            "type": "bar"
           }
          ],
          "barpolar": [
           {
            "marker": {
             "line": {
              "color": "#E5ECF6",
              "width": 0.5
             },
             "pattern": {
              "fillmode": "overlay",
              "size": 10,
              "solidity": 0.2
             }
            },
            "type": "barpolar"
           }
          ],
          "carpet": [
           {
            "aaxis": {
             "endlinecolor": "#2a3f5f",
             "gridcolor": "white",
             "linecolor": "white",
             "minorgridcolor": "white",
             "startlinecolor": "#2a3f5f"
            },
            "baxis": {
             "endlinecolor": "#2a3f5f",
             "gridcolor": "white",
             "linecolor": "white",
             "minorgridcolor": "white",
             "startlinecolor": "#2a3f5f"
            },
            "type": "carpet"
           }
          ],
          "choropleth": [
           {
            "colorbar": {
             "outlinewidth": 0,
             "ticks": ""
            },
            "type": "choropleth"
           }
          ],
          "contour": [
           {
            "colorbar": {
             "outlinewidth": 0,
             "ticks": ""
            },
            "colorscale": [
             [
              0,
              "#0d0887"
             ],
             [
              0.1111111111111111,
              "#46039f"
             ],
             [
              0.2222222222222222,
              "#7201a8"
             ],
             [
              0.3333333333333333,
              "#9c179e"
             ],
             [
              0.4444444444444444,
              "#bd3786"
             ],
             [
              0.5555555555555556,
              "#d8576b"
             ],
             [
              0.6666666666666666,
              "#ed7953"
             ],
             [
              0.7777777777777778,
              "#fb9f3a"
             ],
             [
              0.8888888888888888,
              "#fdca26"
             ],
             [
              1,
              "#f0f921"
             ]
            ],
            "type": "contour"
           }
          ],
          "contourcarpet": [
           {
            "colorbar": {
             "outlinewidth": 0,
             "ticks": ""
            },
            "type": "contourcarpet"
           }
          ],
          "heatmap": [
           {
            "colorbar": {
             "outlinewidth": 0,
             "ticks": ""
            },
            "colorscale": [
             [
              0,
              "#0d0887"
             ],
             [
              0.1111111111111111,
              "#46039f"
             ],
             [
              0.2222222222222222,
              "#7201a8"
             ],
             [
              0.3333333333333333,
              "#9c179e"
             ],
             [
              0.4444444444444444,
              "#bd3786"
             ],
             [
              0.5555555555555556,
              "#d8576b"
             ],
             [
              0.6666666666666666,
              "#ed7953"
             ],
             [
              0.7777777777777778,
              "#fb9f3a"
             ],
             [
              0.8888888888888888,
              "#fdca26"
             ],
             [
              1,
              "#f0f921"
             ]
            ],
            "type": "heatmap"
           }
          ],
          "heatmapgl": [
           {
            "colorbar": {
             "outlinewidth": 0,
             "ticks": ""
            },
            "colorscale": [
             [
              0,
              "#0d0887"
             ],
             [
              0.1111111111111111,
              "#46039f"
             ],
             [
              0.2222222222222222,
              "#7201a8"
             ],
             [
              0.3333333333333333,
              "#9c179e"
             ],
             [
              0.4444444444444444,
              "#bd3786"
             ],
             [
              0.5555555555555556,
              "#d8576b"
             ],
             [
              0.6666666666666666,
              "#ed7953"
             ],
             [
              0.7777777777777778,
              "#fb9f3a"
             ],
             [
              0.8888888888888888,
              "#fdca26"
             ],
             [
              1,
              "#f0f921"
             ]
            ],
            "type": "heatmapgl"
           }
          ],
          "histogram": [
           {
            "marker": {
             "pattern": {
              "fillmode": "overlay",
              "size": 10,
              "solidity": 0.2
             }
            },
            "type": "histogram"
           }
          ],
          "histogram2d": [
           {
            "colorbar": {
             "outlinewidth": 0,
             "ticks": ""
            },
            "colorscale": [
             [
              0,
              "#0d0887"
             ],
             [
              0.1111111111111111,
              "#46039f"
             ],
             [
              0.2222222222222222,
              "#7201a8"
             ],
             [
              0.3333333333333333,
              "#9c179e"
             ],
             [
              0.4444444444444444,
              "#bd3786"
             ],
             [
              0.5555555555555556,
              "#d8576b"
             ],
             [
              0.6666666666666666,
              "#ed7953"
             ],
             [
              0.7777777777777778,
              "#fb9f3a"
             ],
             [
              0.8888888888888888,
              "#fdca26"
             ],
             [
              1,
              "#f0f921"
             ]
            ],
            "type": "histogram2d"
           }
          ],
          "histogram2dcontour": [
           {
            "colorbar": {
             "outlinewidth": 0,
             "ticks": ""
            },
            "colorscale": [
             [
              0,
              "#0d0887"
             ],
             [
              0.1111111111111111,
              "#46039f"
             ],
             [
              0.2222222222222222,
              "#7201a8"
             ],
             [
              0.3333333333333333,
              "#9c179e"
             ],
             [
              0.4444444444444444,
              "#bd3786"
             ],
             [
              0.5555555555555556,
              "#d8576b"
             ],
             [
              0.6666666666666666,
              "#ed7953"
             ],
             [
              0.7777777777777778,
              "#fb9f3a"
             ],
             [
              0.8888888888888888,
              "#fdca26"
             ],
             [
              1,
              "#f0f921"
             ]
            ],
            "type": "histogram2dcontour"
           }
          ],
          "mesh3d": [
           {
            "colorbar": {
             "outlinewidth": 0,
             "ticks": ""
            },
            "type": "mesh3d"
           }
          ],
          "parcoords": [
           {
            "line": {
             "colorbar": {
              "outlinewidth": 0,
              "ticks": ""
             }
            },
            "type": "parcoords"
           }
          ],
          "pie": [
           {
            "automargin": true,
            "type": "pie"
           }
          ],
          "scatter": [
           {
            "fillpattern": {
             "fillmode": "overlay",
             "size": 10,
             "solidity": 0.2
            },
            "type": "scatter"
           }
          ],
          "scatter3d": [
           {
            "line": {
             "colorbar": {
              "outlinewidth": 0,
              "ticks": ""
             }
            },
            "marker": {
             "colorbar": {
              "outlinewidth": 0,
              "ticks": ""
             }
            },
            "type": "scatter3d"
           }
          ],
          "scattercarpet": [
           {
            "marker": {
             "colorbar": {
              "outlinewidth": 0,
              "ticks": ""
             }
            },
            "type": "scattercarpet"
           }
          ],
          "scattergeo": [
           {
            "marker": {
             "colorbar": {
              "outlinewidth": 0,
              "ticks": ""
             }
            },
            "type": "scattergeo"
           }
          ],
          "scattergl": [
           {
            "marker": {
             "colorbar": {
              "outlinewidth": 0,
              "ticks": ""
             }
            },
            "type": "scattergl"
           }
          ],
          "scattermapbox": [
           {
            "marker": {
             "colorbar": {
              "outlinewidth": 0,
              "ticks": ""
             }
            },
            "type": "scattermapbox"
           }
          ],
          "scatterpolar": [
           {
            "marker": {
             "colorbar": {
              "outlinewidth": 0,
              "ticks": ""
             }
            },
            "type": "scatterpolar"
           }
          ],
          "scatterpolargl": [
           {
            "marker": {
             "colorbar": {
              "outlinewidth": 0,
              "ticks": ""
             }
            },
            "type": "scatterpolargl"
           }
          ],
          "scatterternary": [
           {
            "marker": {
             "colorbar": {
              "outlinewidth": 0,
              "ticks": ""
             }
            },
            "type": "scatterternary"
           }
          ],
          "surface": [
           {
            "colorbar": {
             "outlinewidth": 0,
             "ticks": ""
            },
            "colorscale": [
             [
              0,
              "#0d0887"
             ],
             [
              0.1111111111111111,
              "#46039f"
             ],
             [
              0.2222222222222222,
              "#7201a8"
             ],
             [
              0.3333333333333333,
              "#9c179e"
             ],
             [
              0.4444444444444444,
              "#bd3786"
             ],
             [
              0.5555555555555556,
              "#d8576b"
             ],
             [
              0.6666666666666666,
              "#ed7953"
             ],
             [
              0.7777777777777778,
              "#fb9f3a"
             ],
             [
              0.8888888888888888,
              "#fdca26"
             ],
             [
              1,
              "#f0f921"
             ]
            ],
            "type": "surface"
           }
          ],
          "table": [
           {
            "cells": {
             "fill": {
              "color": "#EBF0F8"
             },
             "line": {
              "color": "white"
             }
            },
            "header": {
             "fill": {
              "color": "#C8D4E3"
             },
             "line": {
              "color": "white"
             }
            },
            "type": "table"
           }
          ]
         },
         "layout": {
          "annotationdefaults": {
           "arrowcolor": "#2a3f5f",
           "arrowhead": 0,
           "arrowwidth": 1
          },
          "autotypenumbers": "strict",
          "coloraxis": {
           "colorbar": {
            "outlinewidth": 0,
            "ticks": ""
           }
          },
          "colorscale": {
           "diverging": [
            [
             0,
             "#8e0152"
            ],
            [
             0.1,
             "#c51b7d"
            ],
            [
             0.2,
             "#de77ae"
            ],
            [
             0.3,
             "#f1b6da"
            ],
            [
             0.4,
             "#fde0ef"
            ],
            [
             0.5,
             "#f7f7f7"
            ],
            [
             0.6,
             "#e6f5d0"
            ],
            [
             0.7,
             "#b8e186"
            ],
            [
             0.8,
             "#7fbc41"
            ],
            [
             0.9,
             "#4d9221"
            ],
            [
             1,
             "#276419"
            ]
           ],
           "sequential": [
            [
             0,
             "#0d0887"
            ],
            [
             0.1111111111111111,
             "#46039f"
            ],
            [
             0.2222222222222222,
             "#7201a8"
            ],
            [
             0.3333333333333333,
             "#9c179e"
            ],
            [
             0.4444444444444444,
             "#bd3786"
            ],
            [
             0.5555555555555556,
             "#d8576b"
            ],
            [
             0.6666666666666666,
             "#ed7953"
            ],
            [
             0.7777777777777778,
             "#fb9f3a"
            ],
            [
             0.8888888888888888,
             "#fdca26"
            ],
            [
             1,
             "#f0f921"
            ]
           ],
           "sequentialminus": [
            [
             0,
             "#0d0887"
            ],
            [
             0.1111111111111111,
             "#46039f"
            ],
            [
             0.2222222222222222,
             "#7201a8"
            ],
            [
             0.3333333333333333,
             "#9c179e"
            ],
            [
             0.4444444444444444,
             "#bd3786"
            ],
            [
             0.5555555555555556,
             "#d8576b"
            ],
            [
             0.6666666666666666,
             "#ed7953"
            ],
            [
             0.7777777777777778,
             "#fb9f3a"
            ],
            [
             0.8888888888888888,
             "#fdca26"
            ],
            [
             1,
             "#f0f921"
            ]
           ]
          },
          "colorway": [
           "#636efa",
           "#EF553B",
           "#00cc96",
           "#ab63fa",
           "#FFA15A",
           "#19d3f3",
           "#FF6692",
           "#B6E880",
           "#FF97FF",
           "#FECB52"
          ],
          "font": {
           "color": "#2a3f5f"
          },
          "geo": {
           "bgcolor": "white",
           "lakecolor": "white",
           "landcolor": "#E5ECF6",
           "showlakes": true,
           "showland": true,
           "subunitcolor": "white"
          },
          "hoverlabel": {
           "align": "left"
          },
          "hovermode": "closest",
          "mapbox": {
           "style": "light"
          },
          "paper_bgcolor": "white",
          "plot_bgcolor": "#E5ECF6",
          "polar": {
           "angularaxis": {
            "gridcolor": "white",
            "linecolor": "white",
            "ticks": ""
           },
           "bgcolor": "#E5ECF6",
           "radialaxis": {
            "gridcolor": "white",
            "linecolor": "white",
            "ticks": ""
           }
          },
          "scene": {
           "xaxis": {
            "backgroundcolor": "#E5ECF6",
            "gridcolor": "white",
            "gridwidth": 2,
            "linecolor": "white",
            "showbackground": true,
            "ticks": "",
            "zerolinecolor": "white"
           },
           "yaxis": {
            "backgroundcolor": "#E5ECF6",
            "gridcolor": "white",
            "gridwidth": 2,
            "linecolor": "white",
            "showbackground": true,
            "ticks": "",
            "zerolinecolor": "white"
           },
           "zaxis": {
            "backgroundcolor": "#E5ECF6",
            "gridcolor": "white",
            "gridwidth": 2,
            "linecolor": "white",
            "showbackground": true,
            "ticks": "",
            "zerolinecolor": "white"
           }
          },
          "shapedefaults": {
           "line": {
            "color": "#2a3f5f"
           }
          },
          "ternary": {
           "aaxis": {
            "gridcolor": "white",
            "linecolor": "white",
            "ticks": ""
           },
           "baxis": {
            "gridcolor": "white",
            "linecolor": "white",
            "ticks": ""
           },
           "bgcolor": "#E5ECF6",
           "caxis": {
            "gridcolor": "white",
            "linecolor": "white",
            "ticks": ""
           }
          },
          "title": {
           "x": 0.05
          },
          "xaxis": {
           "automargin": true,
           "gridcolor": "white",
           "linecolor": "white",
           "ticks": "",
           "title": {
            "standoff": 15
           },
           "zerolinecolor": "white",
           "zerolinewidth": 2
          },
          "yaxis": {
           "automargin": true,
           "gridcolor": "white",
           "linecolor": "white",
           "ticks": "",
           "title": {
            "standoff": 15
           },
           "zerolinecolor": "white",
           "zerolinewidth": 2
          }
         }
        },
        "title": {
         "font": {
          "family": "CMU",
          "size": 15
         },
         "text": "Line Plot"
        },
        "width": 600,
        "xaxis": {
         "anchor": "y",
         "autorange": true,
         "domain": [
          0,
          1
         ],
         "range": [
          -0.06009330406147092,
          1.0700933040614709
         ],
         "tickfont": {
          "family": "CMU",
          "size": 15
         },
         "title": {
          "font": {
           "family": "CMU",
           "size": 15
          },
          "text": "Deformation Factor"
         },
         "type": "linear"
        },
        "yaxis": {
         "anchor": "x",
         "autorange": true,
         "domain": [
          0,
          1
         ],
         "range": [
          -35251.936634370824,
          -548.2519694346702
         ],
         "tickfont": {
          "family": "CMU",
          "size": 15
         },
         "title": {
          "font": {
           "family": "CMU",
           "size": 15
          },
          "text": "Time difference per vertex [% line]"
         },
         "type": "linear"
        }
       }
      },
      "text/html": [
       "<div>                            <div id=\"4552ca8a-633f-4444-be30-b76ea1abe62a\" class=\"plotly-graph-div\" style=\"height:350px; width:600px;\"></div>            <script type=\"text/javascript\">                require([\"plotly\"], function(Plotly) {                    window.PLOTLYENV=window.PLOTLYENV || {};                                    if (document.getElementById(\"4552ca8a-633f-4444-be30-b76ea1abe62a\")) {                    Plotly.newPlot(                        \"4552ca8a-633f-4444-be30-b76ea1abe62a\",                        [{\"hovertemplate\":\"symbol=3\\u003cbr\\u003ex=%{x}\\u003cbr\\u003ey=%{y}\\u003cbr\\u003ecolor=%{marker.color}\\u003cextra\\u003e\\u003c\\u002fextra\\u003e\",\"legendgroup\":\"scatter\",\"marker\":{\"color\":[42,162,642,42,162,642,42,162,642,42,162,642],\"coloraxis\":\"coloraxis\",\"symbol\":\"star\"},\"mode\":\"markers\",\"name\":\"3\",\"orientation\":\"v\",\"showlegend\":false,\"x\":[0.01,0.01,0.01,0.1,0.1,0.1,0.5,0.5,0.5,1.0,1.0,1.0],\"xaxis\":\"x\",\"y\":[-3116.668221231001,-2903.1448574124806,-3048.9869083561634,-4890.512181935937,-4768.595509359895,-3452.289943826636,-10308.696855480264,-7630.065738927865,-7481.088301846655,-5375.177299599493,-6687.023395992843,-6727.739520886971],\"yaxis\":\"y\",\"type\":\"scatter\"},{\"hovertemplate\":\"symbol=5\\u003cbr\\u003ex=%{x}\\u003cbr\\u003ey=%{y}\\u003cbr\\u003ecolor=%{marker.color}\\u003cextra\\u003e\\u003c\\u002fextra\\u003e\",\"legendgroup\":\"5\",\"marker\":{\"color\":[42,162,642,42,162,642,42,162,642,42,162,642],\"coloraxis\":\"coloraxis\",\"symbol\":\"diamond\"},\"mode\":\"markers\",\"name\":\"5\",\"orientation\":\"v\",\"showlegend\":true,\"x\":[0.01,0.01,0.01,0.1,0.1,0.1,0.5,0.5,0.5,1.0,1.0,1.0],\"xaxis\":\"x\",\"y\":[-6835.2041365373725,-4794.502545053034,-4101.06132849732,-6484.994556633092,-8661.277641180748,-6339.52045073199,-6401.269937897345,-9860.948187103655,-7578.810690343066,-11951.80259570897,-10680.051412939432,-8796.461300225275],\"yaxis\":\"y\",\"type\":\"scatter\"},{\"hovertemplate\":\"symbol=8\\u003cbr\\u003ex=%{x}\\u003cbr\\u003ey=%{y}\\u003cbr\\u003ecolor=%{marker.color}\\u003cextra\\u003e\\u003c\\u002fextra\\u003e\",\"legendgroup\":\"8\",\"marker\":{\"color\":[42,162,642,42,162,642,42,162,642,42,162,642],\"coloraxis\":\"coloraxis\",\"symbol\":\"cross\"},\"mode\":\"markers\",\"name\":\"8\",\"orientation\":\"v\",\"showlegend\":true,\"x\":[0.01,0.01,0.01,0.1,0.1,0.1,0.5,0.5,0.5,1.0,1.0,1.0],\"xaxis\":\"x\",\"y\":[-11386.827931567355,-9330.522110539896,-7765.3191676801125,-10404.335477511133,-6184.941962715561,-10930.410752434533,-13631.503659447353,-13592.564559531758,-10904.474914531189,-15378.107363882778,-12520.99562056418,-8493.65987663353],\"yaxis\":\"y\",\"type\":\"scatter\"},{\"hovertemplate\":\"symbol=10\\u003cbr\\u003ex=%{x}\\u003cbr\\u003ey=%{y}\\u003cbr\\u003ecolor=%{marker.color}\\u003cextra\\u003e\\u003c\\u002fextra\\u003e\",\"legendgroup\":\"10\",\"marker\":{\"color\":[42,162,642,42,162,642,42,162,642,42,162,642],\"coloraxis\":\"coloraxis\",\"symbol\":\"x\"},\"mode\":\"markers\",\"name\":\"10\",\"orientation\":\"v\",\"showlegend\":true,\"x\":[0.01,0.01,0.01,0.1,0.1,0.1,0.5,0.5,0.5,1.0,1.0,1.0],\"xaxis\":\"x\",\"y\":[-9426.37265537322,-10204.895418796508,-9433.2971130298,-11615.216303290537,-12271.247242345407,-12010.035148374223,-18556.967411576425,-17694.66920251354,-9625.959402616552,-17617.015267688672,-18135.909276193797,-11870.630364580176],\"yaxis\":\"y\",\"type\":\"scatter\"},{\"hovertemplate\":\"symbol=20\\u003cbr\\u003ex=%{x}\\u003cbr\\u003ey=%{y}\\u003cbr\\u003ecolor=%{marker.color}\\u003cextra\\u003e\\u003c\\u002fextra\\u003e\",\"legendgroup\":\"20\",\"marker\":{\"color\":[42,162,642,42,162,642,42,162,642,42,162],\"coloraxis\":\"coloraxis\",\"symbol\":\"square\"},\"mode\":\"markers\",\"name\":\"20\",\"orientation\":\"v\",\"showlegend\":true,\"x\":[0.01,0.01,0.01,0.1,0.1,0.1,0.5,0.5,0.5,1.0,1.0],\"xaxis\":\"x\",\"y\":[-26311.587042117335,-19260.643317637107,-20277.689606638887,-32136.358751087257,-24175.76028956932,-19524.168080425054,-27785.646739074517,-27406.26110744541,-19448.351659313572,-29057.94033368701,-32897.043746393014],\"yaxis\":\"y\",\"type\":\"scatter\"},{\"legendgroup\":\"regression\",\"line\":{\"color\":\"#0d0887\"},\"mode\":\"lines\",\"name\":\"n_vertices: 42 (R2=0.037)\",\"showlegend\":true,\"x\":[0.01,0.01,0.01,0.01,0.01,0.1,0.1,0.1,0.1,0.1,0.5,0.5,0.5,0.5,0.5,1.0,1.0,1.0,1.0,1.0],\"y\":[-12307.316333395183,-12307.316333395183,-12307.316333395183,-12307.316333395183,-12307.316333395183,-12680.224489421695,-12680.224489421695,-12680.224489421695,-12680.224489421695,-12680.224489421695,-14337.59407176174,-14337.59407176174,-14337.59407176174,-14337.59407176174,-14337.59407176174,-16409.3060496868,-16409.3060496868,-16409.3060496868,-16409.3060496868,-16409.3060496868],\"type\":\"scatter\"},{\"legendgroup\":\"regression\",\"line\":{\"color\":\"#bd3786\"},\"mode\":\"lines\",\"name\":\"n_vertices: 162 (R2=0.113)\",\"showlegend\":true,\"x\":[0.01,0.01,0.01,0.01,0.01,0.1,0.1,0.1,0.1,0.1,0.5,0.5,0.5,0.5,0.5,1.0,1.0,1.0,1.0,1.0],\"y\":[-10344.799162672245,-10344.799162672245,-10344.799162672245,-10344.799162672245,-10344.799162672245,-10949.749123180443,-10949.749123180443,-10949.749123180443,-10949.749123180443,-10949.749123180443,-13638.415614327985,-13638.415614327985,-13638.415614327985,-13638.415614327985,-13638.415614327985,-16999.248728262413,-16999.248728262413,-16999.248728262413,-16999.248728262413,-16999.248728262413],\"type\":\"scatter\"},{\"legendgroup\":\"regression\",\"line\":{\"color\":\"#f0f921\"},\"mode\":\"lines\",\"name\":\"n_vertices: 642 (R2=0.000)\",\"showlegend\":true,\"x\":[0.01,0.01,0.01,0.01,0.01,0.1,0.1,0.1,0.1,0.1,0.5,0.5,0.5,0.5,0.5,1.0,1.0,1.0,1.0],\"y\":[-9966.456546204228,-9966.456546204228,-9966.456546204228,-9966.456546204228,-9966.456546204228,-9946.08558611359,-9946.08558611359,-9946.08558611359,-9946.08558611359,-9946.08558611359,-9855.547985710755,-9855.547985710755,-9855.547985710755,-9855.547985710755,-9855.547985710755,-9742.37598520721,-9742.37598520721,-9742.37598520721,-9742.37598520721],\"type\":\"scatter\"}],                        {\"template\":{\"data\":{\"histogram2dcontour\":[{\"type\":\"histogram2dcontour\",\"colorbar\":{\"outlinewidth\":0,\"ticks\":\"\"},\"colorscale\":[[0.0,\"#0d0887\"],[0.1111111111111111,\"#46039f\"],[0.2222222222222222,\"#7201a8\"],[0.3333333333333333,\"#9c179e\"],[0.4444444444444444,\"#bd3786\"],[0.5555555555555556,\"#d8576b\"],[0.6666666666666666,\"#ed7953\"],[0.7777777777777778,\"#fb9f3a\"],[0.8888888888888888,\"#fdca26\"],[1.0,\"#f0f921\"]]}],\"choropleth\":[{\"type\":\"choropleth\",\"colorbar\":{\"outlinewidth\":0,\"ticks\":\"\"}}],\"histogram2d\":[{\"type\":\"histogram2d\",\"colorbar\":{\"outlinewidth\":0,\"ticks\":\"\"},\"colorscale\":[[0.0,\"#0d0887\"],[0.1111111111111111,\"#46039f\"],[0.2222222222222222,\"#7201a8\"],[0.3333333333333333,\"#9c179e\"],[0.4444444444444444,\"#bd3786\"],[0.5555555555555556,\"#d8576b\"],[0.6666666666666666,\"#ed7953\"],[0.7777777777777778,\"#fb9f3a\"],[0.8888888888888888,\"#fdca26\"],[1.0,\"#f0f921\"]]}],\"heatmap\":[{\"type\":\"heatmap\",\"colorbar\":{\"outlinewidth\":0,\"ticks\":\"\"},\"colorscale\":[[0.0,\"#0d0887\"],[0.1111111111111111,\"#46039f\"],[0.2222222222222222,\"#7201a8\"],[0.3333333333333333,\"#9c179e\"],[0.4444444444444444,\"#bd3786\"],[0.5555555555555556,\"#d8576b\"],[0.6666666666666666,\"#ed7953\"],[0.7777777777777778,\"#fb9f3a\"],[0.8888888888888888,\"#fdca26\"],[1.0,\"#f0f921\"]]}],\"heatmapgl\":[{\"type\":\"heatmapgl\",\"colorbar\":{\"outlinewidth\":0,\"ticks\":\"\"},\"colorscale\":[[0.0,\"#0d0887\"],[0.1111111111111111,\"#46039f\"],[0.2222222222222222,\"#7201a8\"],[0.3333333333333333,\"#9c179e\"],[0.4444444444444444,\"#bd3786\"],[0.5555555555555556,\"#d8576b\"],[0.6666666666666666,\"#ed7953\"],[0.7777777777777778,\"#fb9f3a\"],[0.8888888888888888,\"#fdca26\"],[1.0,\"#f0f921\"]]}],\"contourcarpet\":[{\"type\":\"contourcarpet\",\"colorbar\":{\"outlinewidth\":0,\"ticks\":\"\"}}],\"contour\":[{\"type\":\"contour\",\"colorbar\":{\"outlinewidth\":0,\"ticks\":\"\"},\"colorscale\":[[0.0,\"#0d0887\"],[0.1111111111111111,\"#46039f\"],[0.2222222222222222,\"#7201a8\"],[0.3333333333333333,\"#9c179e\"],[0.4444444444444444,\"#bd3786\"],[0.5555555555555556,\"#d8576b\"],[0.6666666666666666,\"#ed7953\"],[0.7777777777777778,\"#fb9f3a\"],[0.8888888888888888,\"#fdca26\"],[1.0,\"#f0f921\"]]}],\"surface\":[{\"type\":\"surface\",\"colorbar\":{\"outlinewidth\":0,\"ticks\":\"\"},\"colorscale\":[[0.0,\"#0d0887\"],[0.1111111111111111,\"#46039f\"],[0.2222222222222222,\"#7201a8\"],[0.3333333333333333,\"#9c179e\"],[0.4444444444444444,\"#bd3786\"],[0.5555555555555556,\"#d8576b\"],[0.6666666666666666,\"#ed7953\"],[0.7777777777777778,\"#fb9f3a\"],[0.8888888888888888,\"#fdca26\"],[1.0,\"#f0f921\"]]}],\"mesh3d\":[{\"type\":\"mesh3d\",\"colorbar\":{\"outlinewidth\":0,\"ticks\":\"\"}}],\"scatter\":[{\"fillpattern\":{\"fillmode\":\"overlay\",\"size\":10,\"solidity\":0.2},\"type\":\"scatter\"}],\"parcoords\":[{\"type\":\"parcoords\",\"line\":{\"colorbar\":{\"outlinewidth\":0,\"ticks\":\"\"}}}],\"scatterpolargl\":[{\"type\":\"scatterpolargl\",\"marker\":{\"colorbar\":{\"outlinewidth\":0,\"ticks\":\"\"}}}],\"bar\":[{\"error_x\":{\"color\":\"#2a3f5f\"},\"error_y\":{\"color\":\"#2a3f5f\"},\"marker\":{\"line\":{\"color\":\"#E5ECF6\",\"width\":0.5},\"pattern\":{\"fillmode\":\"overlay\",\"size\":10,\"solidity\":0.2}},\"type\":\"bar\"}],\"scattergeo\":[{\"type\":\"scattergeo\",\"marker\":{\"colorbar\":{\"outlinewidth\":0,\"ticks\":\"\"}}}],\"scatterpolar\":[{\"type\":\"scatterpolar\",\"marker\":{\"colorbar\":{\"outlinewidth\":0,\"ticks\":\"\"}}}],\"histogram\":[{\"marker\":{\"pattern\":{\"fillmode\":\"overlay\",\"size\":10,\"solidity\":0.2}},\"type\":\"histogram\"}],\"scattergl\":[{\"type\":\"scattergl\",\"marker\":{\"colorbar\":{\"outlinewidth\":0,\"ticks\":\"\"}}}],\"scatter3d\":[{\"type\":\"scatter3d\",\"line\":{\"colorbar\":{\"outlinewidth\":0,\"ticks\":\"\"}},\"marker\":{\"colorbar\":{\"outlinewidth\":0,\"ticks\":\"\"}}}],\"scattermapbox\":[{\"type\":\"scattermapbox\",\"marker\":{\"colorbar\":{\"outlinewidth\":0,\"ticks\":\"\"}}}],\"scatterternary\":[{\"type\":\"scatterternary\",\"marker\":{\"colorbar\":{\"outlinewidth\":0,\"ticks\":\"\"}}}],\"scattercarpet\":[{\"type\":\"scattercarpet\",\"marker\":{\"colorbar\":{\"outlinewidth\":0,\"ticks\":\"\"}}}],\"carpet\":[{\"aaxis\":{\"endlinecolor\":\"#2a3f5f\",\"gridcolor\":\"white\",\"linecolor\":\"white\",\"minorgridcolor\":\"white\",\"startlinecolor\":\"#2a3f5f\"},\"baxis\":{\"endlinecolor\":\"#2a3f5f\",\"gridcolor\":\"white\",\"linecolor\":\"white\",\"minorgridcolor\":\"white\",\"startlinecolor\":\"#2a3f5f\"},\"type\":\"carpet\"}],\"table\":[{\"cells\":{\"fill\":{\"color\":\"#EBF0F8\"},\"line\":{\"color\":\"white\"}},\"header\":{\"fill\":{\"color\":\"#C8D4E3\"},\"line\":{\"color\":\"white\"}},\"type\":\"table\"}],\"barpolar\":[{\"marker\":{\"line\":{\"color\":\"#E5ECF6\",\"width\":0.5},\"pattern\":{\"fillmode\":\"overlay\",\"size\":10,\"solidity\":0.2}},\"type\":\"barpolar\"}],\"pie\":[{\"automargin\":true,\"type\":\"pie\"}]},\"layout\":{\"autotypenumbers\":\"strict\",\"colorway\":[\"#636efa\",\"#EF553B\",\"#00cc96\",\"#ab63fa\",\"#FFA15A\",\"#19d3f3\",\"#FF6692\",\"#B6E880\",\"#FF97FF\",\"#FECB52\"],\"font\":{\"color\":\"#2a3f5f\"},\"hovermode\":\"closest\",\"hoverlabel\":{\"align\":\"left\"},\"paper_bgcolor\":\"white\",\"plot_bgcolor\":\"#E5ECF6\",\"polar\":{\"bgcolor\":\"#E5ECF6\",\"angularaxis\":{\"gridcolor\":\"white\",\"linecolor\":\"white\",\"ticks\":\"\"},\"radialaxis\":{\"gridcolor\":\"white\",\"linecolor\":\"white\",\"ticks\":\"\"}},\"ternary\":{\"bgcolor\":\"#E5ECF6\",\"aaxis\":{\"gridcolor\":\"white\",\"linecolor\":\"white\",\"ticks\":\"\"},\"baxis\":{\"gridcolor\":\"white\",\"linecolor\":\"white\",\"ticks\":\"\"},\"caxis\":{\"gridcolor\":\"white\",\"linecolor\":\"white\",\"ticks\":\"\"}},\"coloraxis\":{\"colorbar\":{\"outlinewidth\":0,\"ticks\":\"\"}},\"colorscale\":{\"sequential\":[[0.0,\"#0d0887\"],[0.1111111111111111,\"#46039f\"],[0.2222222222222222,\"#7201a8\"],[0.3333333333333333,\"#9c179e\"],[0.4444444444444444,\"#bd3786\"],[0.5555555555555556,\"#d8576b\"],[0.6666666666666666,\"#ed7953\"],[0.7777777777777778,\"#fb9f3a\"],[0.8888888888888888,\"#fdca26\"],[1.0,\"#f0f921\"]],\"sequentialminus\":[[0.0,\"#0d0887\"],[0.1111111111111111,\"#46039f\"],[0.2222222222222222,\"#7201a8\"],[0.3333333333333333,\"#9c179e\"],[0.4444444444444444,\"#bd3786\"],[0.5555555555555556,\"#d8576b\"],[0.6666666666666666,\"#ed7953\"],[0.7777777777777778,\"#fb9f3a\"],[0.8888888888888888,\"#fdca26\"],[1.0,\"#f0f921\"]],\"diverging\":[[0,\"#8e0152\"],[0.1,\"#c51b7d\"],[0.2,\"#de77ae\"],[0.3,\"#f1b6da\"],[0.4,\"#fde0ef\"],[0.5,\"#f7f7f7\"],[0.6,\"#e6f5d0\"],[0.7,\"#b8e186\"],[0.8,\"#7fbc41\"],[0.9,\"#4d9221\"],[1,\"#276419\"]]},\"xaxis\":{\"gridcolor\":\"white\",\"linecolor\":\"white\",\"ticks\":\"\",\"title\":{\"standoff\":15},\"zerolinecolor\":\"white\",\"automargin\":true,\"zerolinewidth\":2},\"yaxis\":{\"gridcolor\":\"white\",\"linecolor\":\"white\",\"ticks\":\"\",\"title\":{\"standoff\":15},\"zerolinecolor\":\"white\",\"automargin\":true,\"zerolinewidth\":2},\"scene\":{\"xaxis\":{\"backgroundcolor\":\"#E5ECF6\",\"gridcolor\":\"white\",\"linecolor\":\"white\",\"showbackground\":true,\"ticks\":\"\",\"zerolinecolor\":\"white\",\"gridwidth\":2},\"yaxis\":{\"backgroundcolor\":\"#E5ECF6\",\"gridcolor\":\"white\",\"linecolor\":\"white\",\"showbackground\":true,\"ticks\":\"\",\"zerolinecolor\":\"white\",\"gridwidth\":2},\"zaxis\":{\"backgroundcolor\":\"#E5ECF6\",\"gridcolor\":\"white\",\"linecolor\":\"white\",\"showbackground\":true,\"ticks\":\"\",\"zerolinecolor\":\"white\",\"gridwidth\":2}},\"shapedefaults\":{\"line\":{\"color\":\"#2a3f5f\"}},\"annotationdefaults\":{\"arrowcolor\":\"#2a3f5f\",\"arrowhead\":0,\"arrowwidth\":1},\"geo\":{\"bgcolor\":\"white\",\"landcolor\":\"#E5ECF6\",\"subunitcolor\":\"white\",\"showland\":true,\"showlakes\":true,\"lakecolor\":\"white\"},\"title\":{\"x\":0.05},\"mapbox\":{\"style\":\"light\"}}},\"xaxis\":{\"anchor\":\"y\",\"domain\":[0.0,1.0],\"title\":{\"text\":\"Deformation Factor\",\"font\":{\"family\":\"CMU\",\"size\":15}},\"tickfont\":{\"family\":\"CMU\",\"size\":15}},\"yaxis\":{\"anchor\":\"x\",\"domain\":[0.0,1.0],\"title\":{\"text\":\"Time difference per vertex [% line]\",\"font\":{\"family\":\"CMU\",\"size\":15}},\"tickfont\":{\"family\":\"CMU\",\"size\":15}},\"coloraxis\":{\"colorbar\":{\"title\":{\"text\":\"color\"}},\"colorscale\":[[0.0,\"#0d0887\"],[0.1111111111111111,\"#46039f\"],[0.2222222222222222,\"#7201a8\"],[0.3333333333333333,\"#9c179e\"],[0.4444444444444444,\"#bd3786\"],[0.5555555555555556,\"#d8576b\"],[0.6666666666666666,\"#ed7953\"],[0.7777777777777778,\"#fb9f3a\"],[0.8888888888888888,\"#fdca26\"],[1.0,\"#f0f921\"]]},\"legend\":{\"title\":{\"text\":\"symbol\"},\"tracegroupgap\":0},\"margin\":{\"t\":60},\"title\":{\"text\":\"Line Plot\",\"font\":{\"family\":\"CMU\",\"size\":15}},\"width\":600,\"height\":350},                        {\"responsive\": true}                    ).then(function(){\n",
       "                            \n",
       "var gd = document.getElementById('4552ca8a-633f-4444-be30-b76ea1abe62a');\n",
       "var x = new MutationObserver(function (mutations, observer) {{\n",
       "        var display = window.getComputedStyle(gd).display;\n",
       "        if (!display || display === 'none') {{\n",
       "            console.log([gd, 'removed!']);\n",
       "            Plotly.purge(gd);\n",
       "            observer.disconnect();\n",
       "        }}\n",
       "}});\n",
       "\n",
       "// Listen for the removal of the full notebook cells\n",
       "var notebookContainer = gd.closest('#notebook-container');\n",
       "if (notebookContainer) {{\n",
       "    x.observe(notebookContainer, {childList: true});\n",
       "}}\n",
       "\n",
       "// Listen for the clearing of the current output cell\n",
       "var outputEl = gd.closest('.output');\n",
       "if (outputEl) {{\n",
       "    x.observe(outputEl, {childList: true});\n",
       "}}\n",
       "\n",
       "                        })                };                });            </script>        </div>"
      ]
     },
     "metadata": {},
     "output_type": "display_data"
    }
   ],
   "source": [
    "y_var = \"relative_diff_seq_duration_per_vertex\"\n",
    "df[\"relative_diff_seq_duration_per_vertex\"] = df[\"relative_diff_seq_duration\"] / df[\"n_vertices\"]\n",
    "y = df.groupby([\"noise_factor\", \"n_vertices\", \"n_steps\"])[y_var].mean()\n",
    "\n",
    "line_plot(y_var, y)"
   ]
  },
  {
   "cell_type": "code",
   "execution_count": null,
   "id": "02b8a8d9-b867-45e4-b5bd-cfdd398d375a",
   "metadata": {},
   "outputs": [],
   "source": []
  }
 ],
 "metadata": {
  "kernelspec": {
   "display_name": "Python 3 (ipykernel)",
   "language": "python",
   "name": "python3"
  },
  "language_info": {
   "codemirror_mode": {
    "name": "ipython",
    "version": 3
   },
   "file_extension": ".py",
   "mimetype": "text/x-python",
   "name": "python",
   "nbconvert_exporter": "python",
   "pygments_lexer": "ipython3",
   "version": "3.10.11"
  }
 },
 "nbformat": 4,
 "nbformat_minor": 5
}
