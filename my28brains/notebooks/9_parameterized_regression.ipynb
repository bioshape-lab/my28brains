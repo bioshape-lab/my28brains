{
 "cells": [
  {
   "cell_type": "markdown",
   "id": "180e0d82-0e9a-4f63-b643-cc4ca0e3bb48",
   "metadata": {},
   "source": [
    "# Perform regression on parameterized surfaces"
   ]
  },
  {
   "cell_type": "markdown",
   "id": "e1068d73-7d06-4eb6-a373-2dd6a65b8220",
   "metadata": {},
   "source": [
    "## Imports"
   ]
  },
  {
   "cell_type": "code",
   "execution_count": 1,
   "id": "4dd8d37b-e675-48b9-94a0-4bbe92d8b783",
   "metadata": {
    "tags": []
   },
   "outputs": [
    {
     "name": "stderr",
     "output_type": "stream",
     "text": [
      "INFO: Using pytorch backend\n"
     ]
    }
   ],
   "source": [
    "# imports\n",
    "\n",
    "import trimesh\n",
    "import os\n",
    "import sys\n",
    "import subprocess\n",
    "import torch\n",
    "import numpy as np\n",
    "os.environ[\"GEOMSTATS_BACKEND\"] = \"pytorch\"\n",
    "import geomstats.backend as gs\n",
    "import my28brains.discrete_surfaces"
   ]
  },
  {
   "cell_type": "code",
   "execution_count": 2,
   "id": "82c14888-ba98-46d8-96be-40e1ac77cef3",
   "metadata": {
    "tags": []
   },
   "outputs": [],
   "source": [
    "gitroot_path = subprocess.check_output(\n",
    "    [\"git\", \"rev-parse\", \"--show-toplevel\"], universal_newlines=True\n",
    ")\n",
    "os.chdir(gitroot_path[:-1])\n",
    "work_dir = os.getcwd()\n",
    "\n",
    "my28brains_dir = os.path.join(work_dir, \"my28brains\")\n",
    "\n",
    "sys_dir = os.path.dirname(work_dir)\n",
    "sys.path.append(sys_dir)\n",
    "sys.path.append(my28brains_dir)\n",
    "\n",
    "# this forces the notebook to re-load\n",
    "import importlib\n",
    "importlib.reload(my28brains.discrete_surfaces)\n",
    "\n",
    "from my28brains.discrete_surfaces import (\n",
    "    DiscreteSurfaces,\n",
    "    ElasticMetric,\n",
    ")\n",
    "\n",
    "import my28brains.default_config as default_config"
   ]
  },
  {
   "cell_type": "markdown",
   "id": "97250c08-d3ff-4317-bebf-2102296af2ca",
   "metadata": {},
   "source": [
    "## Generate parameterized geodesic from sphere to ellipse using `discrete_curves.py`."
   ]
  },
  {
   "cell_type": "code",
   "execution_count": 3,
   "id": "13152dff-8825-4bf5-a683-c76df813c579",
   "metadata": {
    "tags": []
   },
   "outputs": [
    {
     "name": "stdout",
     "output_type": "stream",
     "text": [
      "642\n",
      "torch.Size([642, 3])\n",
      "RUNNING THE L-BFGS-B CODE\n",
      "\n",
      "           * * *\n",
      "\n",
      "Machine precision = 2.220D-16\n",
      " N =         5778     M =           10\n",
      "\n",
      "At X0         0 variables are exactly at the bounds\n",
      "\n",
      "At iterate    0    f=  3.86728D+08    |proj g|=  4.99244D+04\n"
     ]
    },
    {
     "name": "stderr",
     "output_type": "stream",
     "text": [
      " This problem is unconstrained.\n"
     ]
    },
    {
     "name": "stdout",
     "output_type": "stream",
     "text": [
      "\n",
      "At iterate    1    f=  3.15951D+08    |proj g|=  1.37249D+05\n",
      "\n",
      "At iterate    2    f=  2.50530D+08    |proj g|=  4.32341D+05\n",
      "\n",
      "At iterate    3    f=  2.20899D+08    |proj g|=  5.06246D+05\n",
      "\n",
      "At iterate    4    f=  1.84697D+08    |proj g|=  5.33675D+04\n",
      "\n",
      "At iterate    5    f=  1.81563D+08    |proj g|=  3.93044D+04\n",
      "\n",
      "At iterate    6    f=  1.74483D+08    |proj g|=  9.26942D+04\n",
      "\n",
      "At iterate    7    f=  1.73475D+08    |proj g|=  1.84078D+05\n",
      "\n",
      "At iterate    8    f=  1.68764D+08    |proj g|=  6.48147D+04\n",
      "\n",
      "At iterate    9    f=  1.66201D+08    |proj g|=  2.71185D+04\n",
      "\n",
      "At iterate   10    f=  1.62078D+08    |proj g|=  6.22908D+04\n",
      "\n",
      "At iterate   11    f=  1.56385D+08    |proj g|=  8.33474D+04\n",
      "\n",
      "At iterate   12    f=  1.46889D+08    |proj g|=  2.01747D+05\n",
      "\n",
      "At iterate   13    f=  1.39824D+08    |proj g|=  1.59422D+05\n",
      "\n",
      "At iterate   14    f=  1.32977D+08    |proj g|=  4.42927D+04\n",
      "\n",
      "At iterate   15    f=  1.27929D+08    |proj g|=  4.36129D+04\n",
      "\n",
      "At iterate   16    f=  1.23887D+08    |proj g|=  4.47398D+04\n",
      "\n",
      "At iterate   17    f=  1.21038D+08    |proj g|=  7.57832D+04\n",
      "\n",
      "At iterate   18    f=  1.17172D+08    |proj g|=  3.72513D+04\n",
      "\n",
      "At iterate   19    f=  1.15419D+08    |proj g|=  2.21156D+04\n",
      "\n",
      "At iterate   20    f=  1.13410D+08    |proj g|=  2.72240D+04\n",
      "\n",
      "At iterate   21    f=  1.13125D+08    |proj g|=  1.05119D+05\n",
      "\n",
      "At iterate   22    f=  1.10384D+08    |proj g|=  2.14013D+04\n",
      "\n",
      "At iterate   23    f=  1.09665D+08    |proj g|=  1.86700D+04\n",
      "\n",
      "At iterate   24    f=  1.08599D+08    |proj g|=  2.78482D+04\n",
      "\n",
      "At iterate   25    f=  1.06985D+08    |proj g|=  3.20738D+04\n",
      "\n",
      "At iterate   26    f=  1.06223D+08    |proj g|=  1.04834D+05\n",
      "\n",
      "At iterate   27    f=  1.02995D+08    |proj g|=  2.98105D+04\n",
      "\n",
      "At iterate   28    f=  1.01788D+08    |proj g|=  1.86201D+04\n",
      "\n",
      "At iterate   29    f=  1.00261D+08    |proj g|=  2.96506D+04\n",
      "\n",
      "At iterate   30    f=  9.90165D+07    |proj g|=  3.20424D+04\n",
      "\n",
      "At iterate   31    f=  9.78362D+07    |proj g|=  1.51966D+04\n",
      "\n",
      "At iterate   32    f=  9.70704D+07    |proj g|=  1.80935D+04\n",
      "\n",
      "At iterate   33    f=  9.65161D+07    |proj g|=  1.52756D+04\n",
      "\n",
      "At iterate   34    f=  9.60612D+07    |proj g|=  1.54778D+04\n",
      "\n",
      "At iterate   35    f=  9.57372D+07    |proj g|=  9.86422D+03\n",
      "\n",
      "At iterate   36    f=  9.54775D+07    |proj g|=  7.92466D+03\n",
      "\n",
      "At iterate   37    f=  9.52809D+07    |proj g|=  1.10540D+04\n",
      "\n",
      "At iterate   38    f=  9.50871D+07    |proj g|=  6.10516D+03\n",
      "\n",
      "At iterate   39    f=  9.49614D+07    |proj g|=  6.35558D+03\n",
      "\n",
      "At iterate   40    f=  9.48743D+07    |proj g|=  8.23975D+03\n",
      "\n",
      "           * * *\n",
      "\n",
      "Tit   = total number of iterations\n",
      "Tnf   = total number of function evaluations\n",
      "Tnint = total number of segments explored during Cauchy searches\n",
      "Skip  = number of BFGS updates skipped\n",
      "Nact  = number of active bounds at final generalized Cauchy point\n",
      "Projg = norm of the final projected gradient\n",
      "F     = final function value\n",
      "\n",
      "           * * *\n",
      "\n",
      "   N    Tit     Tnf  Tnint  Skip  Nact     Projg        F\n",
      " 5778     40     44      1     0     0   8.240D+03   9.487D+07\n",
      "  F =   94874318.908416480     \n",
      "\n",
      "CONVERGENCE: REL_REDUCTION_OF_F_<=_FACTR*EPSMCH             \n",
      "torch.Size([5, 642, 3])\n"
     ]
    }
   ],
   "source": [
    "#create sphere mesh\n",
    "sphere = trimesh.creation.icosphere(subdivisions=3, radius=30.0)\n",
    "\n",
    "#Create ellipsoid mesh\n",
    "# Create a scaling matrix for the semi-axes lengths\n",
    "scales = np.array([2, 2, 3])\n",
    "scale_matrix = np.diag(scales)\n",
    "\n",
    "scale_matrix = gs.array(scale_matrix)\n",
    "\n",
    "# Apply the scaling transformation to the mesh vertices\n",
    "scaled_vertices = sphere.vertices.dot(scale_matrix)\n",
    "\n",
    "# Create a new mesh with the scaled vertices\n",
    "ellipsoid = trimesh.Trimesh(vertices=scaled_vertices, faces=sphere.faces)\n",
    "\n",
    "#Define Surface Space\n",
    "SURFACE_SPACE = DiscreteSurfaces(faces = sphere.faces)\n",
    "\n",
    "METRIC = ElasticMetric(\n",
    "    space = SURFACE_SPACE,\n",
    "    a0=default_config.a0,\n",
    "    a1=default_config.a1,\n",
    "    b1=default_config.b1,\n",
    "    c1=default_config.c1,\n",
    "    d1=default_config.d1,\n",
    "    a2=default_config.a2,)\n",
    "\n",
    "# CREATE GEODESIC\n",
    "n_vertices = sphere.vertices.shape[0]\n",
    "print(n_vertices)\n",
    "\n",
    "\n",
    "def geodesics_sphere_to_ellipsoid(\n",
    "    n_geodesics=1, n_times=5\n",
    "):\n",
    "    \"\"\"Generate a dataset of geodesics that transform spheres into ellipsoids.\"\"\"\n",
    "    dim = 3\n",
    "    \n",
    "    geodesics = gs.zeros((n_geodesics, n_times, n_vertices, dim))\n",
    "    times = gs.arange(0, 1, 1 / n_times)\n",
    "    for i_geodesic in range(n_geodesics):\n",
    "        start_surface = gs.array(sphere.vertices)\n",
    "        end_surface = gs.array(ellipsoid.vertices)\n",
    "        print(start_surface.shape)\n",
    "        geodesic = METRIC.geodesic(initial_point = start_surface, end_point = end_surface)\n",
    "        \n",
    "        geodesics[i_geodesic] = geodesic(times)\n",
    "\n",
    "    return geodesics, times\n",
    "\n",
    "geodesics, times = geodesics_sphere_to_ellipsoid()\n",
    "geodesic = geodesics[0]\n",
    "print(geodesic.shape)"
   ]
  },
  {
   "cell_type": "markdown",
   "id": "0c6bf7de-86e9-4e8b-87c6-a24cce6d6c96",
   "metadata": {},
   "source": [
    "# GEODESIC REGRESSION"
   ]
  },
  {
   "cell_type": "code",
   "execution_count": 4,
   "id": "4d56ded8-b8e4-481c-bb22-6363aa5128e2",
   "metadata": {
    "tags": []
   },
   "outputs": [],
   "source": [
    "# Regression imports\n",
    "\n",
    "import matplotlib.pyplot as plt\n",
    "\n",
    "import geomstats.backend as gs\n",
    "import geomstats.visualization as visualization\n",
    "from geomstats.geometry.special_euclidean import SpecialEuclidean\n",
    "from geomstats.learning.frechet_mean import FrechetMean, variance\n",
    "from geomstats.learning.geodesic_regression import GeodesicRegression"
   ]
  },
  {
   "cell_type": "code",
   "execution_count": 5,
   "id": "11bbebec-35b3-4848-b37f-f324b021ef14",
   "metadata": {
    "tags": []
   },
   "outputs": [
    {
     "name": "stdout",
     "output_type": "stream",
     "text": [
      "RUNNING THE L-BFGS-B CODE\n",
      "\n",
      "           * * *\n",
      "\n",
      "Machine precision = 2.220D-16\n",
      " N =         5778     M =           10\n",
      "\n",
      "At X0         0 variables are exactly at the bounds\n",
      "\n",
      "At iterate    0    f=  0.00000D+00    |proj g|=  0.00000D+00\n",
      "\n",
      "           * * *\n",
      "\n",
      "Tit   = total number of iterations\n",
      "Tnf   = total number of function evaluations\n",
      "Tnint = total number of segments explored during Cauchy searches\n",
      "Skip  = number of BFGS updates skipped\n",
      "Nact  = number of active bounds at final generalized Cauchy point\n",
      "Projg = norm of the final projected gradient\n",
      "F     = final function value\n",
      "\n",
      "           * * *\n",
      "\n",
      "   N    Tit     Tnf  Tnint  Skip  Nact     Projg        F\n",
      " 5778      0      1      0     0     0   0.000D+00   0.000D+00\n",
      "  F =   0.0000000000000000     \n",
      "\n",
      "CONVERGENCE: NORM_OF_PROJECTED_GRADIENT_<=_PGTOL            \n",
      "RUNNING THE L-BFGS-B CODE\n",
      "\n",
      "           * * *\n",
      "\n",
      "Machine precision = 2.220D-16\n",
      " N =         5778     M =           10\n",
      "\n",
      "At X0         0 variables are exactly at the bounds\n",
      "\n",
      "At iterate    0    f=  4.46391D+06    |proj g|=  2.63739D+01\n"
     ]
    },
    {
     "name": "stderr",
     "output_type": "stream",
     "text": [
      " This problem is unconstrained.\n",
      " This problem is unconstrained.\n"
     ]
    },
    {
     "name": "stdout",
     "output_type": "stream",
     "text": [
      "\n",
      "At iterate    1    f=  4.46390D+06    |proj g|=  4.15594D+01\n",
      "\n",
      "           * * *\n",
      "\n",
      "Tit   = total number of iterations\n",
      "Tnf   = total number of function evaluations\n",
      "Tnint = total number of segments explored during Cauchy searches\n",
      "Skip  = number of BFGS updates skipped\n",
      "Nact  = number of active bounds at final generalized Cauchy point\n",
      "Projg = norm of the final projected gradient\n",
      "F     = final function value\n",
      "\n",
      "           * * *\n",
      "\n",
      "   N    Tit     Tnf  Tnint  Skip  Nact     Projg        F\n",
      " 5778      1      3      1     0     0   4.156D+01   4.464D+06\n",
      "  F =   4463903.7713449076     \n",
      "\n",
      "CONVERGENCE: REL_REDUCTION_OF_F_<=_FACTR*EPSMCH             \n",
      "RUNNING THE L-BFGS-B CODE\n",
      "\n",
      "           * * *\n",
      "\n",
      "Machine precision = 2.220D-16\n",
      " N =         5778     M =           10\n",
      "\n",
      "At X0         0 variables are exactly at the bounds\n",
      "\n",
      "At iterate    0    f=  1.86624D+07    |proj g|=  1.99413D+02\n"
     ]
    },
    {
     "name": "stderr",
     "output_type": "stream",
     "text": [
      " This problem is unconstrained.\n"
     ]
    },
    {
     "name": "stdout",
     "output_type": "stream",
     "text": [
      "\n",
      "At iterate    1    f=  1.86622D+07    |proj g|=  3.80617D+02\n",
      "\n",
      "           * * *\n",
      "\n",
      "Tit   = total number of iterations\n",
      "Tnf   = total number of function evaluations\n",
      "Tnint = total number of segments explored during Cauchy searches\n",
      "Skip  = number of BFGS updates skipped\n",
      "Nact  = number of active bounds at final generalized Cauchy point\n",
      "Projg = norm of the final projected gradient\n",
      "F     = final function value\n",
      "\n",
      "           * * *\n",
      "\n",
      "   N    Tit     Tnf  Tnint  Skip  Nact     Projg        F\n",
      " 5778      1      3      1     0     0   3.806D+02   1.866D+07\n",
      "  F =   18662172.117284607     \n",
      "\n",
      "CONVERGENCE: REL_REDUCTION_OF_F_<=_FACTR*EPSMCH             \n",
      "RUNNING THE L-BFGS-B CODE\n",
      "\n",
      "           * * *\n",
      "\n",
      "Machine precision = 2.220D-16\n",
      " N =         5778     M =           10\n",
      "\n",
      "At X0         0 variables are exactly at the bounds\n",
      "\n",
      "At iterate    0    f=  4.69182D+07    |proj g|=  7.63575D+02\n"
     ]
    },
    {
     "name": "stderr",
     "output_type": "stream",
     "text": [
      " This problem is unconstrained.\n"
     ]
    },
    {
     "name": "stdout",
     "output_type": "stream",
     "text": [
      "\n",
      "At iterate    1    f=  4.69155D+07    |proj g|=  1.41438D+03\n",
      "\n",
      "           * * *\n",
      "\n",
      "Tit   = total number of iterations\n",
      "Tnf   = total number of function evaluations\n",
      "Tnint = total number of segments explored during Cauchy searches\n",
      "Skip  = number of BFGS updates skipped\n",
      "Nact  = number of active bounds at final generalized Cauchy point\n",
      "Projg = norm of the final projected gradient\n",
      "F     = final function value\n",
      "\n",
      "           * * *\n",
      "\n",
      "   N    Tit     Tnf  Tnint  Skip  Nact     Projg        F\n",
      " 5778      1      3      1     0     0   1.414D+03   4.692D+07\n",
      "  F =   46915490.833080560     \n",
      "\n",
      "CONVERGENCE: REL_REDUCTION_OF_F_<=_FACTR*EPSMCH             \n",
      "RUNNING THE L-BFGS-B CODE\n",
      "\n",
      "           * * *\n",
      "\n",
      "Machine precision = 2.220D-16\n",
      " N =         5778     M =           10\n",
      "\n",
      "At X0         0 variables are exactly at the bounds\n",
      "\n",
      "At iterate    0    f=  9.36869D+07    |proj g|=  2.31308D+03\n",
      "\n",
      "At iterate    1    f=  9.36708D+07    |proj g|=  3.97712D+03\n",
      "\n",
      "           * * *\n",
      "\n",
      "Tit   = total number of iterations\n",
      "Tnf   = total number of function evaluations\n",
      "Tnint = total number of segments explored during Cauchy searches\n",
      "Skip  = number of BFGS updates skipped\n",
      "Nact  = number of active bounds at final generalized Cauchy point\n",
      "Projg = norm of the final projected gradient\n",
      "F     = final function value\n",
      "\n",
      "           * * *\n",
      "\n",
      "   N    Tit     Tnf  Tnint  Skip  Nact     Projg        F\n",
      " 5778      1      2      1     0     0   3.977D+03   9.367D+07\n",
      "  F =   93670813.262415290     \n",
      "\n",
      "CONVERGENCE: REL_REDUCTION_OF_F_<=_FACTR*EPSMCH             \n"
     ]
    },
    {
     "name": "stderr",
     "output_type": "stream",
     "text": [
      " This problem is unconstrained.\n"
     ]
    },
    {
     "ename": "IndexError",
     "evalue": "index 313 is out of bounds for dimension 0 with size 5",
     "output_type": "error",
     "traceback": [
      "\u001b[0;31m---------------------------------------------------------------------------\u001b[0m",
      "\u001b[0;31mIndexError\u001b[0m                                Traceback (most recent call last)",
      "Cell \u001b[0;32mIn[5], line 16\u001b[0m\n\u001b[1;32m      1\u001b[0m gr \u001b[38;5;241m=\u001b[39m GeodesicRegression(\n\u001b[1;32m      2\u001b[0m         SURFACE_SPACE,\n\u001b[1;32m      3\u001b[0m         metric\u001b[38;5;241m=\u001b[39mMETRIC,\n\u001b[0;32m   (...)\u001b[0m\n\u001b[1;32m      9\u001b[0m         initialization\u001b[38;5;241m=\u001b[39m\u001b[38;5;124m\"\u001b[39m\u001b[38;5;124mfrechet\u001b[39m\u001b[38;5;124m\"\u001b[39m,\n\u001b[1;32m     10\u001b[0m     )\n\u001b[1;32m     12\u001b[0m \u001b[38;5;66;03m# X = gs.random.normal(size=(5))\u001b[39;00m\n\u001b[1;32m     13\u001b[0m \u001b[38;5;66;03m# X -= gs.mean(X)\u001b[39;00m\n\u001b[1;32m     14\u001b[0m \u001b[38;5;66;03m# print(geodesic.shape)\u001b[39;00m\n\u001b[0;32m---> 16\u001b[0m \u001b[43mgr\u001b[49m\u001b[38;5;241;43m.\u001b[39;49m\u001b[43mfit\u001b[49m\u001b[43m(\u001b[49m\u001b[43mtimes\u001b[49m\u001b[43m,\u001b[49m\u001b[43m \u001b[49m\u001b[43mgeodesic\u001b[49m\u001b[43m,\u001b[49m\u001b[43m \u001b[49m\u001b[43mcompute_training_score\u001b[49m\u001b[38;5;241;43m=\u001b[39;49m\u001b[38;5;28;43;01mTrue\u001b[39;49;00m\u001b[43m)\u001b[49m\n\u001b[1;32m     18\u001b[0m intercept_hat, beta_hat \u001b[38;5;241m=\u001b[39m gr\u001b[38;5;241m.\u001b[39mintercept_, gr\u001b[38;5;241m.\u001b[39mcoef_\n",
      "File \u001b[0;32m~/anaconda3/envs/my28brains/lib/python3.8/site-packages/geomstats/learning/geodesic_regression.py:215\u001b[0m, in \u001b[0;36mGeodesicRegression.fit\u001b[0;34m(self, X, y, weights, compute_training_score)\u001b[0m\n\u001b[1;32m    213\u001b[0m     \u001b[38;5;28;01mreturn\u001b[39;00m \u001b[38;5;28mself\u001b[39m\u001b[38;5;241m.\u001b[39m_fit_extrinsic(times, y, weights, compute_training_score)\n\u001b[1;32m    214\u001b[0m \u001b[38;5;28;01mif\u001b[39;00m \u001b[38;5;28mself\u001b[39m\u001b[38;5;241m.\u001b[39mmethod \u001b[38;5;241m==\u001b[39m \u001b[38;5;124m\"\u001b[39m\u001b[38;5;124mriemannian\u001b[39m\u001b[38;5;124m\"\u001b[39m:\n\u001b[0;32m--> 215\u001b[0m     \u001b[38;5;28;01mreturn\u001b[39;00m \u001b[38;5;28;43mself\u001b[39;49m\u001b[38;5;241;43m.\u001b[39;49m\u001b[43m_fit_riemannian\u001b[49m\u001b[43m(\u001b[49m\u001b[43mtimes\u001b[49m\u001b[43m,\u001b[49m\u001b[43m \u001b[49m\u001b[43my\u001b[49m\u001b[43m,\u001b[49m\u001b[43m \u001b[49m\u001b[43mweights\u001b[49m\u001b[43m,\u001b[49m\u001b[43m \u001b[49m\u001b[43mcompute_training_score\u001b[49m\u001b[43m)\u001b[49m\n",
      "File \u001b[0;32m~/anaconda3/envs/my28brains/lib/python3.8/site-packages/geomstats/learning/geodesic_regression.py:368\u001b[0m, in \u001b[0;36mGeodesicRegression._fit_riemannian\u001b[0;34m(self, X, y, weights, compute_training_score)\u001b[0m\n\u001b[1;32m    363\u001b[0m objective_with_grad \u001b[38;5;241m=\u001b[39m gs\u001b[38;5;241m.\u001b[39mautodiff\u001b[38;5;241m.\u001b[39mvalue_and_grad(\n\u001b[1;32m    364\u001b[0m     \u001b[38;5;28;01mlambda\u001b[39;00m params: \u001b[38;5;28mself\u001b[39m\u001b[38;5;241m.\u001b[39m_loss(X, y, params, shape, weights)\n\u001b[1;32m    365\u001b[0m )\n\u001b[1;32m    367\u001b[0m lr \u001b[38;5;241m=\u001b[39m \u001b[38;5;28mself\u001b[39m\u001b[38;5;241m.\u001b[39minit_step_size\n\u001b[0;32m--> 368\u001b[0m intercept_init, coef_init \u001b[38;5;241m=\u001b[39m \u001b[38;5;28;43mself\u001b[39;49m\u001b[38;5;241;43m.\u001b[39;49m\u001b[43minitialize_parameters\u001b[49m\u001b[43m(\u001b[49m\u001b[43my\u001b[49m\u001b[43m)\u001b[49m\n\u001b[1;32m    369\u001b[0m intercept_hat \u001b[38;5;241m=\u001b[39m intercept_hat_new \u001b[38;5;241m=\u001b[39m \u001b[38;5;28mself\u001b[39m\u001b[38;5;241m.\u001b[39mspace\u001b[38;5;241m.\u001b[39mprojection(intercept_init)\n\u001b[1;32m    370\u001b[0m coef_hat \u001b[38;5;241m=\u001b[39m coef_hat_new \u001b[38;5;241m=\u001b[39m \u001b[38;5;28mself\u001b[39m\u001b[38;5;241m.\u001b[39mspace\u001b[38;5;241m.\u001b[39mto_tangent(coef_init, intercept_hat)\n",
      "File \u001b[0;32m~/anaconda3/envs/my28brains/lib/python3.8/site-packages/geomstats/learning/geodesic_regression.py:312\u001b[0m, in \u001b[0;36mGeodesicRegression.initialize_parameters\u001b[0;34m(self, y)\u001b[0m\n\u001b[1;32m    310\u001b[0m     \u001b[38;5;28;01mreturn\u001b[39;00m gs\u001b[38;5;241m.\u001b[39mrandom\u001b[38;5;241m.\u001b[39mnormal(size\u001b[38;5;241m=\u001b[39m(\u001b[38;5;241m2\u001b[39m,) \u001b[38;5;241m+\u001b[39m shape)\n\u001b[1;32m    311\u001b[0m \u001b[38;5;28;01mif\u001b[39;00m init \u001b[38;5;241m==\u001b[39m \u001b[38;5;124m\"\u001b[39m\u001b[38;5;124mfrechet\u001b[39m\u001b[38;5;124m\"\u001b[39m:\n\u001b[0;32m--> 312\u001b[0m     mean \u001b[38;5;241m=\u001b[39m \u001b[43mFrechetMean\u001b[49m\u001b[43m(\u001b[49m\u001b[38;5;28;43mself\u001b[39;49m\u001b[38;5;241;43m.\u001b[39;49m\u001b[43mmetric\u001b[49m\u001b[43m,\u001b[49m\u001b[43m \u001b[49m\u001b[43mverbose\u001b[49m\u001b[38;5;241;43m=\u001b[39;49m\u001b[38;5;28;43mself\u001b[39;49m\u001b[38;5;241;43m.\u001b[39;49m\u001b[43mverbose\u001b[49m\u001b[43m)\u001b[49m\u001b[38;5;241;43m.\u001b[39;49m\u001b[43mfit\u001b[49m\u001b[43m(\u001b[49m\u001b[43my\u001b[49m\u001b[43m)\u001b[49m\u001b[38;5;241m.\u001b[39mestimate_\n\u001b[1;32m    313\u001b[0m     \u001b[38;5;28;01mreturn\u001b[39;00m mean, gs\u001b[38;5;241m.\u001b[39mzeros(shape)\n\u001b[1;32m    314\u001b[0m \u001b[38;5;28;01mif\u001b[39;00m init \u001b[38;5;241m==\u001b[39m \u001b[38;5;124m\"\u001b[39m\u001b[38;5;124mdata\u001b[39m\u001b[38;5;124m\"\u001b[39m:\n",
      "File \u001b[0;32m~/anaconda3/envs/my28brains/lib/python3.8/site-packages/geomstats/learning/frechet_mean.py:605\u001b[0m, in \u001b[0;36mFrechetMean.fit\u001b[0;34m(self, X, y, weights)\u001b[0m\n\u001b[1;32m    602\u001b[0m     mean \u001b[38;5;241m=\u001b[39m elastic_mean(points\u001b[38;5;241m=\u001b[39mX, weights\u001b[38;5;241m=\u001b[39mweights, metric\u001b[38;5;241m=\u001b[39m\u001b[38;5;28mself\u001b[39m\u001b[38;5;241m.\u001b[39mmetric)\n\u001b[1;32m    604\u001b[0m \u001b[38;5;28;01melse\u001b[39;00m:\n\u001b[0;32m--> 605\u001b[0m     mean \u001b[38;5;241m=\u001b[39m \u001b[38;5;28;43mself\u001b[39;49m\u001b[38;5;241;43m.\u001b[39;49m\u001b[43m_minimize\u001b[49m\u001b[43m(\u001b[49m\n\u001b[1;32m    606\u001b[0m \u001b[43m        \u001b[49m\u001b[43mpoints\u001b[49m\u001b[38;5;241;43m=\u001b[39;49m\u001b[43mX\u001b[49m\u001b[43m,\u001b[49m\n\u001b[1;32m    607\u001b[0m \u001b[43m        \u001b[49m\u001b[43mweights\u001b[49m\u001b[38;5;241;43m=\u001b[39;49m\u001b[43mweights\u001b[49m\u001b[43m,\u001b[49m\n\u001b[1;32m    608\u001b[0m \u001b[43m        \u001b[49m\u001b[43mmetric\u001b[49m\u001b[38;5;241;43m=\u001b[39;49m\u001b[38;5;28;43mself\u001b[39;49m\u001b[38;5;241;43m.\u001b[39;49m\u001b[43mmetric\u001b[49m\u001b[43m,\u001b[49m\n\u001b[1;32m    609\u001b[0m \u001b[43m    \u001b[49m\u001b[43m)\u001b[49m\n\u001b[1;32m    611\u001b[0m \u001b[38;5;28mself\u001b[39m\u001b[38;5;241m.\u001b[39mestimate_ \u001b[38;5;241m=\u001b[39m mean\n\u001b[1;32m    613\u001b[0m \u001b[38;5;28;01mreturn\u001b[39;00m \u001b[38;5;28mself\u001b[39m\n",
      "File \u001b[0;32m~/anaconda3/envs/my28brains/lib/python3.8/site-packages/geomstats/learning/frechet_mean.py:564\u001b[0m, in \u001b[0;36mFrechetMean._minimize.<locals>.<lambda>\u001b[0;34m(points, weights, metric)\u001b[0m\n\u001b[1;32m    558\u001b[0m MAP_OPTIMIZER \u001b[38;5;241m=\u001b[39m {\n\u001b[1;32m    559\u001b[0m     \u001b[38;5;124m\"\u001b[39m\u001b[38;5;124mdefault\u001b[39m\u001b[38;5;124m\"\u001b[39m: _default_gradient_descent,\n\u001b[1;32m    560\u001b[0m     \u001b[38;5;124m\"\u001b[39m\u001b[38;5;124madaptive\u001b[39m\u001b[38;5;124m\"\u001b[39m: _adaptive_gradient_descent,\n\u001b[1;32m    561\u001b[0m     \u001b[38;5;124m\"\u001b[39m\u001b[38;5;124mbatch\u001b[39m\u001b[38;5;124m\"\u001b[39m: _batch_gradient_descent,\n\u001b[1;32m    562\u001b[0m }\n\u001b[1;32m    563\u001b[0m minimize_ \u001b[38;5;241m=\u001b[39m MAP_OPTIMIZER\u001b[38;5;241m.\u001b[39mget(\u001b[38;5;28mself\u001b[39m\u001b[38;5;241m.\u001b[39mmethod)\n\u001b[0;32m--> 564\u001b[0m \u001b[38;5;28;01mreturn\u001b[39;00m \u001b[38;5;28;01mlambda\u001b[39;00m points, weights, metric: \u001b[43mminimize_\u001b[49m\u001b[43m(\u001b[49m\n\u001b[1;32m    565\u001b[0m \u001b[43m    \u001b[49m\u001b[43mpoints\u001b[49m\u001b[38;5;241;43m=\u001b[39;49m\u001b[43mpoints\u001b[49m\u001b[43m,\u001b[49m\n\u001b[1;32m    566\u001b[0m \u001b[43m    \u001b[49m\u001b[43mweights\u001b[49m\u001b[38;5;241;43m=\u001b[39;49m\u001b[43mweights\u001b[49m\u001b[43m,\u001b[49m\n\u001b[1;32m    567\u001b[0m \u001b[43m    \u001b[49m\u001b[43mmetric\u001b[49m\u001b[38;5;241;43m=\u001b[39;49m\u001b[43mmetric\u001b[49m\u001b[43m,\u001b[49m\n\u001b[1;32m    568\u001b[0m \u001b[43m    \u001b[49m\u001b[43mmax_iter\u001b[49m\u001b[38;5;241;43m=\u001b[39;49m\u001b[38;5;28;43mself\u001b[39;49m\u001b[38;5;241;43m.\u001b[39;49m\u001b[43mmax_iter\u001b[49m\u001b[43m,\u001b[49m\n\u001b[1;32m    569\u001b[0m \u001b[43m    \u001b[49m\u001b[43minit_step_size\u001b[49m\u001b[38;5;241;43m=\u001b[39;49m\u001b[38;5;28;43mself\u001b[39;49m\u001b[38;5;241;43m.\u001b[39;49m\u001b[43minit_step_size\u001b[49m\u001b[43m,\u001b[49m\n\u001b[1;32m    570\u001b[0m \u001b[43m    \u001b[49m\u001b[43mepsilon\u001b[49m\u001b[38;5;241;43m=\u001b[39;49m\u001b[38;5;28;43mself\u001b[39;49m\u001b[38;5;241;43m.\u001b[39;49m\u001b[43mepsilon\u001b[49m\u001b[43m,\u001b[49m\n\u001b[1;32m    571\u001b[0m \u001b[43m    \u001b[49m\u001b[43mverbose\u001b[49m\u001b[38;5;241;43m=\u001b[39;49m\u001b[38;5;28;43mself\u001b[39;49m\u001b[38;5;241;43m.\u001b[39;49m\u001b[43mverbose\u001b[49m\u001b[43m,\u001b[49m\n\u001b[1;32m    572\u001b[0m \u001b[43m    \u001b[49m\u001b[43minit_point\u001b[49m\u001b[38;5;241;43m=\u001b[39;49m\u001b[38;5;28;43mself\u001b[39;49m\u001b[38;5;241;43m.\u001b[39;49m\u001b[43minit_point\u001b[49m\u001b[43m,\u001b[49m\n\u001b[1;32m    573\u001b[0m \u001b[43m\u001b[49m\u001b[43m)\u001b[49m\n",
      "File \u001b[0;32m~/anaconda3/envs/my28brains/lib/python3.8/site-packages/geomstats/learning/frechet_mean.py:192\u001b[0m, in \u001b[0;36m_default_gradient_descent\u001b[0;34m(points, metric, weights, max_iter, epsilon, init_step_size, verbose, init_point)\u001b[0m\n\u001b[1;32m    189\u001b[0m \u001b[38;5;28;01mwhile\u001b[39;00m iteration \u001b[38;5;241m<\u001b[39m max_iter:\n\u001b[1;32m    190\u001b[0m     logs \u001b[38;5;241m=\u001b[39m metric\u001b[38;5;241m.\u001b[39mlog(point\u001b[38;5;241m=\u001b[39mpoints, base_point\u001b[38;5;241m=\u001b[39mmean)\n\u001b[0;32m--> 192\u001b[0m     var \u001b[38;5;241m=\u001b[39m gs\u001b[38;5;241m.\u001b[39msum(\u001b[43mmetric\u001b[49m\u001b[38;5;241;43m.\u001b[39;49m\u001b[43msquared_norm\u001b[49m\u001b[43m(\u001b[49m\u001b[43mlogs\u001b[49m\u001b[43m,\u001b[49m\u001b[43m \u001b[49m\u001b[43mmean\u001b[49m\u001b[43m)\u001b[49m \u001b[38;5;241m*\u001b[39m weights) \u001b[38;5;241m/\u001b[39m sum_weights\n\u001b[1;32m    194\u001b[0m     tangent_mean \u001b[38;5;241m=\u001b[39m _scalarmulsum(weights, logs)\n\u001b[1;32m    195\u001b[0m     tangent_mean \u001b[38;5;241m/\u001b[39m\u001b[38;5;241m=\u001b[39m sum_weights\n",
      "File \u001b[0;32m~/code/my28brains/my28brains/discrete_surfaces.py:578\u001b[0m, in \u001b[0;36mElasticMetric.squared_norm\u001b[0;34m(self, vector, base_point)\u001b[0m\n\u001b[1;32m    563\u001b[0m \u001b[38;5;28;01mdef\u001b[39;00m \u001b[38;5;21msquared_norm\u001b[39m(\u001b[38;5;28mself\u001b[39m, vector, base_point):\n\u001b[1;32m    564\u001b[0m \u001b[38;5;250m    \u001b[39m\u001b[38;5;124;03m\"\"\"Compute squared norm of a tangent vector at a base point.\u001b[39;00m\n\u001b[1;32m    565\u001b[0m \n\u001b[1;32m    566\u001b[0m \u001b[38;5;124;03m    Parameters\u001b[39;00m\n\u001b[0;32m   (...)\u001b[0m\n\u001b[1;32m    576\u001b[0m \u001b[38;5;124;03m        Squared Norm.\u001b[39;00m\n\u001b[1;32m    577\u001b[0m \u001b[38;5;124;03m    \"\"\"\u001b[39;00m\n\u001b[0;32m--> 578\u001b[0m     \u001b[38;5;28;01mreturn\u001b[39;00m \u001b[38;5;28;43mself\u001b[39;49m\u001b[38;5;241;43m.\u001b[39;49m\u001b[43minner_product\u001b[49m\u001b[43m(\u001b[49m\u001b[43mvector\u001b[49m\u001b[43m,\u001b[49m\u001b[43m \u001b[49m\u001b[43mvector\u001b[49m\u001b[43m,\u001b[49m\u001b[43m \u001b[49m\u001b[43mbase_point\u001b[49m\u001b[43m)\u001b[49m\n",
      "File \u001b[0;32m~/code/my28brains/my28brains/discrete_surfaces.py:481\u001b[0m, in \u001b[0;36mElasticMetric.inner_product\u001b[0;34m(self, tangent_vec_a, tangent_vec_b, base_point)\u001b[0m\n\u001b[1;32m    476\u001b[0m \u001b[38;5;28;01mif\u001b[39;00m \u001b[38;5;28mself\u001b[39m\u001b[38;5;241m.\u001b[39ma2 \u001b[38;5;241m>\u001b[39m \u001b[38;5;241m0\u001b[39m:\n\u001b[1;32m    477\u001b[0m     laplacian_at_base_point \u001b[38;5;241m=\u001b[39m \u001b[38;5;28mself\u001b[39m\u001b[38;5;241m.\u001b[39mspace\u001b[38;5;241m.\u001b[39mget_laplacian(base_point)\n\u001b[1;32m    478\u001b[0m     norm \u001b[38;5;241m+\u001b[39m\u001b[38;5;241m=\u001b[39m \u001b[38;5;28mself\u001b[39m\u001b[38;5;241m.\u001b[39ma2 \u001b[38;5;241m*\u001b[39m gs\u001b[38;5;241m.\u001b[39msum(\n\u001b[1;32m    479\u001b[0m         gs\u001b[38;5;241m.\u001b[39meinsum(\n\u001b[1;32m    480\u001b[0m             \u001b[38;5;124m\"\u001b[39m\u001b[38;5;124mbi,bi->b\u001b[39m\u001b[38;5;124m\"\u001b[39m,\n\u001b[0;32m--> 481\u001b[0m             \u001b[43mlaplacian_at_base_point\u001b[49m\u001b[43m(\u001b[49m\u001b[43mh\u001b[49m\u001b[43m)\u001b[49m,\n\u001b[1;32m    482\u001b[0m             laplacian_at_base_point(k),\n\u001b[1;32m    483\u001b[0m         )\n\u001b[1;32m    484\u001b[0m         \u001b[38;5;241m/\u001b[39m v_areas\n\u001b[1;32m    485\u001b[0m     )\n\u001b[1;32m    486\u001b[0m \u001b[38;5;28;01mif\u001b[39;00m \u001b[38;5;28mself\u001b[39m\u001b[38;5;241m.\u001b[39ma0 \u001b[38;5;241m>\u001b[39m \u001b[38;5;241m0\u001b[39m:\n\u001b[1;32m    487\u001b[0m     norm \u001b[38;5;241m+\u001b[39m\u001b[38;5;241m=\u001b[39m \u001b[38;5;28mself\u001b[39m\u001b[38;5;241m.\u001b[39ma0 \u001b[38;5;241m*\u001b[39m gs\u001b[38;5;241m.\u001b[39msum(v_areas \u001b[38;5;241m*\u001b[39m gs\u001b[38;5;241m.\u001b[39meinsum(\u001b[38;5;124m\"\u001b[39m\u001b[38;5;124mbi,bi->b\u001b[39m\u001b[38;5;124m\"\u001b[39m, h, k))\n",
      "File \u001b[0;32m~/code/my28brains/my28brains/discrete_surfaces.py:277\u001b[0m, in \u001b[0;36mDiscreteSurfaces.get_laplacian.<locals>.laplacian\u001b[0;34m(tangent_vec)\u001b[0m\n\u001b[1;32m    261\u001b[0m \u001b[38;5;28;01mdef\u001b[39;00m \u001b[38;5;21mlaplacian\u001b[39m(tangent_vec):\n\u001b[1;32m    262\u001b[0m \u001b[38;5;250m    \u001b[39m\u001b[38;5;124;03m\"\"\"Evaluate the mesh Laplacian operator.\u001b[39;00m\n\u001b[1;32m    263\u001b[0m \n\u001b[1;32m    264\u001b[0m \u001b[38;5;124;03m    The operator is evaluated at a tangent vector to the surface.\u001b[39;00m\n\u001b[0;32m   (...)\u001b[0m\n\u001b[1;32m    275\u001b[0m \u001b[38;5;124;03m         to one its tangent vector tangent_vec.\u001b[39;00m\n\u001b[1;32m    276\u001b[0m \u001b[38;5;124;03m    \"\"\"\u001b[39;00m\n\u001b[0;32m--> 277\u001b[0m     tangent_vec_diff \u001b[38;5;241m=\u001b[39m \u001b[43mtangent_vec\u001b[49m\u001b[43m[\u001b[49m\u001b[43mid_vertices\u001b[49m\u001b[43m[\u001b[49m\u001b[38;5;241;43m0\u001b[39;49m\u001b[43m]\u001b[49m\u001b[43m]\u001b[49m \u001b[38;5;241m-\u001b[39m tangent_vec[id_vertices[\u001b[38;5;241m1\u001b[39m]]\n\u001b[1;32m    278\u001b[0m     values \u001b[38;5;241m=\u001b[39m gs\u001b[38;5;241m.\u001b[39mstack([gs\u001b[38;5;241m.\u001b[39mflatten(cot)] \u001b[38;5;241m*\u001b[39m \u001b[38;5;241m3\u001b[39m, axis\u001b[38;5;241m=\u001b[39m\u001b[38;5;241m1\u001b[39m) \u001b[38;5;241m*\u001b[39m tangent_vec_diff\n\u001b[1;32m    279\u001b[0m     laplacian_at_tangent_vec \u001b[38;5;241m=\u001b[39m gs\u001b[38;5;241m.\u001b[39mzeros((n_vertices, \u001b[38;5;241m3\u001b[39m))\n",
      "\u001b[0;31mIndexError\u001b[0m: index 313 is out of bounds for dimension 0 with size 5"
     ]
    }
   ],
   "source": [
    "gr = GeodesicRegression(\n",
    "        SURFACE_SPACE,\n",
    "        metric=METRIC,\n",
    "        center_X=False,\n",
    "        method=\"riemannian\",\n",
    "        max_iter=100,\n",
    "        init_step_size=0.1,\n",
    "        verbose=True,\n",
    "        initialization=\"frechet\",\n",
    "    )\n",
    "\n",
    "# X = gs.random.normal(size=(5))\n",
    "# X -= gs.mean(X)\n",
    "# print(geodesic.shape)\n",
    "\n",
    "gr.fit(times, geodesic, compute_training_score=True)\n",
    "\n",
    "intercept_hat, beta_hat = gr.intercept_, gr.coef_"
   ]
  },
  {
   "cell_type": "code",
   "execution_count": null,
   "id": "0c62ed1d-def4-4457-a3f8-24a40973b45a",
   "metadata": {},
   "outputs": [],
   "source": []
  },
  {
   "cell_type": "code",
   "execution_count": null,
   "id": "b6306c4e-9dca-4c3d-ae64-26dd3f8ccc86",
   "metadata": {},
   "outputs": [],
   "source": []
  },
  {
   "cell_type": "code",
   "execution_count": null,
   "id": "73bf688a-4d71-466e-a088-54adac41c5ed",
   "metadata": {},
   "outputs": [],
   "source": []
  },
  {
   "cell_type": "code",
   "execution_count": null,
   "id": "7f583cfa-0ff8-4c5e-8b52-f30005775244",
   "metadata": {},
   "outputs": [],
   "source": []
  }
 ],
 "metadata": {
  "kernelspec": {
   "display_name": "Python 3 (ipykernel)",
   "language": "python",
   "name": "python3"
  },
  "language_info": {
   "codemirror_mode": {
    "name": "ipython",
    "version": 3
   },
   "file_extension": ".py",
   "mimetype": "text/x-python",
   "name": "python",
   "nbconvert_exporter": "python",
   "pygments_lexer": "ipython3",
   "version": "3.8.16"
  }
 },
 "nbformat": 4,
 "nbformat_minor": 5
}
