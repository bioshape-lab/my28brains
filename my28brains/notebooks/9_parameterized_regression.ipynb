{
 "cells": [
  {
   "cell_type": "markdown",
   "id": "180e0d82-0e9a-4f63-b643-cc4ca0e3bb48",
   "metadata": {},
   "source": [
    "# Perform regression on parameterized surfaces"
   ]
  },
  {
   "cell_type": "markdown",
   "id": "e1068d73-7d06-4eb6-a373-2dd6a65b8220",
   "metadata": {},
   "source": [
    "## Imports"
   ]
  },
  {
   "cell_type": "code",
   "execution_count": 1,
   "id": "4dd8d37b-e675-48b9-94a0-4bbe92d8b783",
   "metadata": {
    "tags": []
   },
   "outputs": [
    {
     "name": "stderr",
     "output_type": "stream",
     "text": [
      "INFO: Using pytorch backend\n"
     ]
    }
   ],
   "source": [
    "# imports\n",
    "\n",
    "import trimesh\n",
    "import os\n",
    "import sys\n",
    "import subprocess\n",
    "import torch\n",
    "import numpy as np\n",
    "os.environ[\"GEOMSTATS_BACKEND\"] = \"pytorch\"\n",
    "import geomstats.backend as gs\n",
    "import my28brains.discrete_surfaces"
   ]
  },
  {
   "cell_type": "code",
   "execution_count": 2,
   "id": "82c14888-ba98-46d8-96be-40e1ac77cef3",
   "metadata": {
    "tags": []
   },
   "outputs": [],
   "source": [
    "gitroot_path = subprocess.check_output(\n",
    "    [\"git\", \"rev-parse\", \"--show-toplevel\"], universal_newlines=True\n",
    ")\n",
    "os.chdir(gitroot_path[:-1])\n",
    "work_dir = os.getcwd()\n",
    "\n",
    "my28brains_dir = os.path.join(work_dir, \"my28brains\")\n",
    "\n",
    "sys_dir = os.path.dirname(work_dir)\n",
    "sys.path.append(sys_dir)\n",
    "sys.path.append(my28brains_dir)\n",
    "\n",
    "# this forces the notebook to re-load\n",
    "import importlib\n",
    "importlib.reload(my28brains.discrete_surfaces)\n",
    "\n",
    "from my28brains.discrete_surfaces import (\n",
    "    DiscreteSurfaces,\n",
    "    ElasticMetric,\n",
    ")\n",
    "\n",
    "import my28brains.default_config as default_config"
   ]
  },
  {
   "cell_type": "markdown",
   "id": "97250c08-d3ff-4317-bebf-2102296af2ca",
   "metadata": {},
   "source": [
    "## Generate parameterized geodesic from sphere to ellipse using `discrete_curves.py`."
   ]
  },
  {
   "cell_type": "code",
   "execution_count": 3,
   "id": "13152dff-8825-4bf5-a683-c76df813c579",
   "metadata": {
    "tags": []
   },
   "outputs": [
    {
     "name": "stdout",
     "output_type": "stream",
     "text": [
      "642\n",
      "torch.Size([642, 3])\n"
     ]
    },
    {
     "ename": "IndexError",
     "evalue": "index 532 is out of bounds for axis 0 with size 3",
     "output_type": "error",
     "traceback": [
      "\u001b[0;31m---------------------------------------------------------------------------\u001b[0m",
      "\u001b[0;31mIndexError\u001b[0m                                Traceback (most recent call last)",
      "Cell \u001b[0;32mIn[3], line 52\u001b[0m\n\u001b[1;32m     48\u001b[0m         geodesics[i_geodesic] \u001b[38;5;241m=\u001b[39m geodesic(times)\n\u001b[1;32m     50\u001b[0m     \u001b[38;5;28;01mreturn\u001b[39;00m geodesics, times\n\u001b[0;32m---> 52\u001b[0m geodesics, times \u001b[38;5;241m=\u001b[39m \u001b[43mgeodesics_sphere_to_ellipsoid\u001b[49m\u001b[43m(\u001b[49m\u001b[43m)\u001b[49m\n\u001b[1;32m     53\u001b[0m geodesic \u001b[38;5;241m=\u001b[39m geodesics[\u001b[38;5;241m0\u001b[39m]\n",
      "Cell \u001b[0;32mIn[3], line 48\u001b[0m, in \u001b[0;36mgeodesics_sphere_to_ellipsoid\u001b[0;34m(n_geodesics, n_times)\u001b[0m\n\u001b[1;32m     45\u001b[0m     \u001b[38;5;28mprint\u001b[39m(start_surface\u001b[38;5;241m.\u001b[39mshape)\n\u001b[1;32m     46\u001b[0m     geodesic \u001b[38;5;241m=\u001b[39m METRIC\u001b[38;5;241m.\u001b[39mgeodesic(initial_point \u001b[38;5;241m=\u001b[39m start_surface, end_point \u001b[38;5;241m=\u001b[39m end_surface)\n\u001b[0;32m---> 48\u001b[0m     geodesics[i_geodesic] \u001b[38;5;241m=\u001b[39m \u001b[43mgeodesic\u001b[49m\u001b[43m(\u001b[49m\u001b[43mtimes\u001b[49m\u001b[43m)\u001b[49m\n\u001b[1;32m     50\u001b[0m \u001b[38;5;28;01mreturn\u001b[39;00m geodesics, times\n",
      "File \u001b[0;32m~/code/my28brains/my28brains/discrete_surfaces.py:662\u001b[0m, in \u001b[0;36mElasticMetric.geodesic.<locals>.geodesic_function\u001b[0;34m(times)\u001b[0m\n\u001b[1;32m    649\u001b[0m \u001b[38;5;250m\u001b[39m\u001b[38;5;124;03m\"\"\"Compute geodesic function.\u001b[39;00m\n\u001b[1;32m    650\u001b[0m \n\u001b[1;32m    651\u001b[0m \u001b[38;5;124;03mParameters\u001b[39;00m\n\u001b[0;32m   (...)\u001b[0m\n\u001b[1;32m    659\u001b[0m \u001b[38;5;124;03m    Geodesic.\u001b[39;00m\n\u001b[1;32m    660\u001b[0m \u001b[38;5;124;03m\"\"\"\u001b[39;00m\n\u001b[1;32m    661\u001b[0m \u001b[38;5;28;01mif\u001b[39;00m end_point \u001b[38;5;129;01mis\u001b[39;00m \u001b[38;5;129;01mnot\u001b[39;00m \u001b[38;5;28;01mNone\u001b[39;00m:\n\u001b[0;32m--> 662\u001b[0m     \u001b[38;5;28;01mreturn\u001b[39;00m \u001b[38;5;28;43mself\u001b[39;49m\u001b[38;5;241;43m.\u001b[39;49m\u001b[43m_bvp\u001b[49m\u001b[43m(\u001b[49m\u001b[43minitial_point\u001b[49m\u001b[43m,\u001b[49m\u001b[43m \u001b[49m\u001b[43mend_point\u001b[49m\u001b[43m,\u001b[49m\u001b[43m \u001b[49m\u001b[43mtimes\u001b[49m\u001b[43m)\u001b[49m\n\u001b[1;32m    663\u001b[0m \u001b[38;5;28;01mif\u001b[39;00m initial_tangent_vec \u001b[38;5;129;01mis\u001b[39;00m \u001b[38;5;129;01mnot\u001b[39;00m \u001b[38;5;28;01mNone\u001b[39;00m:\n\u001b[1;32m    664\u001b[0m     \u001b[38;5;28;01mreturn\u001b[39;00m \u001b[38;5;28mself\u001b[39m\u001b[38;5;241m.\u001b[39m_ivp(initial_point, initial_tangent_vec, times)\n",
      "File \u001b[0;32m~/code/my28brains/my28brains/discrete_surfaces.py:722\u001b[0m, in \u001b[0;36mElasticMetric._bvp\u001b[0;34m(self, initial_point, end_point, times)\u001b[0m\n\u001b[1;32m    720\u001b[0m     geod \u001b[38;5;241m=\u001b[39m gs\u001b[38;5;241m.\u001b[39marray([initial_point \u001b[38;5;241m+\u001b[39m i \u001b[38;5;241m*\u001b[39m step \u001b[38;5;28;01mfor\u001b[39;00m i \u001b[38;5;129;01min\u001b[39;00m times])\n\u001b[1;32m    721\u001b[0m     midpoints \u001b[38;5;241m=\u001b[39m geod[\u001b[38;5;241m1\u001b[39m : \u001b[38;5;28mlen\u001b[39m(times) \u001b[38;5;241m-\u001b[39m \u001b[38;5;241m1\u001b[39m]\n\u001b[0;32m--> 722\u001b[0m     \u001b[38;5;28;43mself\u001b[39;49m\u001b[38;5;241;43m.\u001b[39;49m\u001b[43mremove_degenerate_faces\u001b[49m\u001b[43m(\u001b[49m\u001b[43mmidpoints\u001b[49m\u001b[43m,\u001b[49m\u001b[43m \u001b[49m\u001b[43mn_points\u001b[49m\u001b[43m,\u001b[49m\u001b[43m \u001b[49m\u001b[43mtimes\u001b[49m\u001b[43m)\u001b[49m\n\u001b[1;32m    724\u001b[0m \u001b[38;5;66;03m# needs to be differentiable with respect to midpoints\u001b[39;00m\n\u001b[1;32m    725\u001b[0m \u001b[38;5;28;01mdef\u001b[39;00m \u001b[38;5;21mfunopt\u001b[39m(midpoint):\n",
      "File \u001b[0;32m~/code/my28brains/my28brains/discrete_surfaces.py:845\u001b[0m, in \u001b[0;36mElasticMetric.remove_degenerate_faces\u001b[0;34m(self, vertices_list, n_points, times)\u001b[0m\n\u001b[1;32m    843\u001b[0m \u001b[38;5;66;03m# point = torch.Tensor(point)\u001b[39;00m\n\u001b[1;32m    844\u001b[0m area_threshold \u001b[38;5;241m=\u001b[39m \u001b[38;5;241m0.01\u001b[39m\n\u001b[0;32m--> 845\u001b[0m mesh \u001b[38;5;241m=\u001b[39m \u001b[43mtrimesh\u001b[49m\u001b[38;5;241;43m.\u001b[39;49m\u001b[43mTrimesh\u001b[49m\u001b[43m(\u001b[49m\u001b[43mpoint\u001b[49m\u001b[43m,\u001b[49m\u001b[43m \u001b[49m\u001b[38;5;28;43mself\u001b[39;49m\u001b[38;5;241;43m.\u001b[39;49m\u001b[43mspace\u001b[49m\u001b[38;5;241;43m.\u001b[39;49m\u001b[43mfaces\u001b[49m\u001b[43m)\u001b[49m\n\u001b[1;32m    846\u001b[0m \u001b[38;5;66;03m# make sure that the midpoints don't have degenerate faces\u001b[39;00m\n\u001b[1;32m    847\u001b[0m face_areas \u001b[38;5;241m=\u001b[39m \u001b[38;5;28mself\u001b[39m\u001b[38;5;241m.\u001b[39mspace\u001b[38;5;241m.\u001b[39mface_areas(point)\n",
      "File \u001b[0;32m~/anaconda3/envs/my28brains/lib/python3.8/site-packages/trimesh/base.py:190\u001b[0m, in \u001b[0;36mTrimesh.__init__\u001b[0;34m(self, vertices, faces, face_normals, vertex_normals, face_colors, vertex_colors, face_attributes, vertex_attributes, metadata, process, validate, merge_tex, merge_norm, use_embree, initial_cache, visual, **kwargs)\u001b[0m\n\u001b[1;32m    187\u001b[0m \u001b[38;5;66;03m# process will remove NaN and Inf values and merge vertices\u001b[39;00m\n\u001b[1;32m    188\u001b[0m \u001b[38;5;66;03m# if validate, will remove degenerate and duplicate faces\u001b[39;00m\n\u001b[1;32m    189\u001b[0m \u001b[38;5;28;01mif\u001b[39;00m process \u001b[38;5;129;01mor\u001b[39;00m validate:\n\u001b[0;32m--> 190\u001b[0m     \u001b[38;5;28;43mself\u001b[39;49m\u001b[38;5;241;43m.\u001b[39;49m\u001b[43mprocess\u001b[49m\u001b[43m(\u001b[49m\u001b[43mvalidate\u001b[49m\u001b[38;5;241;43m=\u001b[39;49m\u001b[43mvalidate\u001b[49m\u001b[43m,\u001b[49m\n\u001b[1;32m    191\u001b[0m \u001b[43m                 \u001b[49m\u001b[43mmerge_tex\u001b[49m\u001b[38;5;241;43m=\u001b[39;49m\u001b[43mmerge_tex\u001b[49m\u001b[43m,\u001b[49m\n\u001b[1;32m    192\u001b[0m \u001b[43m                 \u001b[49m\u001b[43mmerge_norm\u001b[49m\u001b[38;5;241;43m=\u001b[39;49m\u001b[43mmerge_norm\u001b[49m\u001b[43m)\u001b[49m\n\u001b[1;32m    194\u001b[0m \u001b[38;5;66;03m# save reference to kwargs\u001b[39;00m\n\u001b[1;32m    195\u001b[0m \u001b[38;5;28mself\u001b[39m\u001b[38;5;241m.\u001b[39m_kwargs \u001b[38;5;241m=\u001b[39m kwargs\n",
      "File \u001b[0;32m~/anaconda3/envs/my28brains/lib/python3.8/site-packages/trimesh/base.py:232\u001b[0m, in \u001b[0;36mTrimesh.process\u001b[0;34m(self, validate, merge_tex, merge_norm)\u001b[0m\n\u001b[1;32m    230\u001b[0m \u001b[38;5;28;01mwith\u001b[39;00m \u001b[38;5;28mself\u001b[39m\u001b[38;5;241m.\u001b[39m_cache:\n\u001b[1;32m    231\u001b[0m     \u001b[38;5;28mself\u001b[39m\u001b[38;5;241m.\u001b[39mremove_infinite_values()\n\u001b[0;32m--> 232\u001b[0m     \u001b[38;5;28;43mself\u001b[39;49m\u001b[38;5;241;43m.\u001b[39;49m\u001b[43mmerge_vertices\u001b[49m\u001b[43m(\u001b[49m\u001b[43mmerge_tex\u001b[49m\u001b[38;5;241;43m=\u001b[39;49m\u001b[43mmerge_tex\u001b[49m\u001b[43m,\u001b[49m\n\u001b[1;32m    233\u001b[0m \u001b[43m                        \u001b[49m\u001b[43mmerge_norm\u001b[49m\u001b[38;5;241;43m=\u001b[39;49m\u001b[43mmerge_norm\u001b[49m\u001b[43m)\u001b[49m\n\u001b[1;32m    234\u001b[0m     \u001b[38;5;66;03m# if we're cleaning remove duplicate\u001b[39;00m\n\u001b[1;32m    235\u001b[0m     \u001b[38;5;66;03m# and degenerate faces\u001b[39;00m\n\u001b[1;32m    236\u001b[0m     \u001b[38;5;28;01mif\u001b[39;00m validate:\n",
      "File \u001b[0;32m~/anaconda3/envs/my28brains/lib/python3.8/site-packages/trimesh/base.py:1134\u001b[0m, in \u001b[0;36mTrimesh.merge_vertices\u001b[0;34m(self, merge_tex, merge_norm, digits_vertex, digits_norm, digits_uv)\u001b[0m\n\u001b[1;32m   1106\u001b[0m \u001b[38;5;28;01mdef\u001b[39;00m \u001b[38;5;21mmerge_vertices\u001b[39m(\n\u001b[1;32m   1107\u001b[0m         \u001b[38;5;28mself\u001b[39m,\n\u001b[1;32m   1108\u001b[0m         merge_tex\u001b[38;5;241m=\u001b[39m\u001b[38;5;28;01mNone\u001b[39;00m,\n\u001b[0;32m   (...)\u001b[0m\n\u001b[1;32m   1111\u001b[0m         digits_norm\u001b[38;5;241m=\u001b[39m\u001b[38;5;28;01mNone\u001b[39;00m,\n\u001b[1;32m   1112\u001b[0m         digits_uv\u001b[38;5;241m=\u001b[39m\u001b[38;5;28;01mNone\u001b[39;00m):\n\u001b[1;32m   1113\u001b[0m \u001b[38;5;250m    \u001b[39m\u001b[38;5;124;03m\"\"\"\u001b[39;00m\n\u001b[1;32m   1114\u001b[0m \u001b[38;5;124;03m    Removes duplicate vertices grouped by position and\u001b[39;00m\n\u001b[1;32m   1115\u001b[0m \u001b[38;5;124;03m    optionally texture coordinate and normal.\u001b[39;00m\n\u001b[0;32m   (...)\u001b[0m\n\u001b[1;32m   1132\u001b[0m \u001b[38;5;124;03m      Number of digits to consider for UV coordinates\u001b[39;00m\n\u001b[1;32m   1133\u001b[0m \u001b[38;5;124;03m    \"\"\"\u001b[39;00m\n\u001b[0;32m-> 1134\u001b[0m     \u001b[43mgrouping\u001b[49m\u001b[38;5;241;43m.\u001b[39;49m\u001b[43mmerge_vertices\u001b[49m\u001b[43m(\u001b[49m\n\u001b[1;32m   1135\u001b[0m \u001b[43m        \u001b[49m\u001b[43mmesh\u001b[49m\u001b[38;5;241;43m=\u001b[39;49m\u001b[38;5;28;43mself\u001b[39;49m\u001b[43m,\u001b[49m\n\u001b[1;32m   1136\u001b[0m \u001b[43m        \u001b[49m\u001b[43mmerge_tex\u001b[49m\u001b[38;5;241;43m=\u001b[39;49m\u001b[43mmerge_tex\u001b[49m\u001b[43m,\u001b[49m\n\u001b[1;32m   1137\u001b[0m \u001b[43m        \u001b[49m\u001b[43mmerge_norm\u001b[49m\u001b[38;5;241;43m=\u001b[39;49m\u001b[43mmerge_norm\u001b[49m\u001b[43m,\u001b[49m\n\u001b[1;32m   1138\u001b[0m \u001b[43m        \u001b[49m\u001b[43mdigits_vertex\u001b[49m\u001b[38;5;241;43m=\u001b[39;49m\u001b[43mdigits_vertex\u001b[49m\u001b[43m,\u001b[49m\n\u001b[1;32m   1139\u001b[0m \u001b[43m        \u001b[49m\u001b[43mdigits_norm\u001b[49m\u001b[38;5;241;43m=\u001b[39;49m\u001b[43mdigits_norm\u001b[49m\u001b[43m,\u001b[49m\n\u001b[1;32m   1140\u001b[0m \u001b[43m        \u001b[49m\u001b[43mdigits_uv\u001b[49m\u001b[38;5;241;43m=\u001b[39;49m\u001b[43mdigits_uv\u001b[49m\u001b[43m)\u001b[49m\n",
      "File \u001b[0;32m~/anaconda3/envs/my28brains/lib/python3.8/site-packages/trimesh/grouping.py:70\u001b[0m, in \u001b[0;36mmerge_vertices\u001b[0;34m(mesh, merge_tex, merge_norm, digits_vertex, digits_norm, digits_uv)\u001b[0m\n\u001b[1;32m     68\u001b[0m \u001b[38;5;28;01mif\u001b[39;00m \u001b[38;5;28mhasattr\u001b[39m(mesh, \u001b[38;5;124m'\u001b[39m\u001b[38;5;124mfaces\u001b[39m\u001b[38;5;124m'\u001b[39m) \u001b[38;5;129;01mand\u001b[39;00m \u001b[38;5;28mlen\u001b[39m(mesh\u001b[38;5;241m.\u001b[39mfaces) \u001b[38;5;241m>\u001b[39m \u001b[38;5;241m0\u001b[39m:\n\u001b[1;32m     69\u001b[0m     referenced \u001b[38;5;241m=\u001b[39m np\u001b[38;5;241m.\u001b[39mzeros(\u001b[38;5;28mlen\u001b[39m(mesh\u001b[38;5;241m.\u001b[39mvertices), dtype\u001b[38;5;241m=\u001b[39m\u001b[38;5;28mbool\u001b[39m)\n\u001b[0;32m---> 70\u001b[0m     \u001b[43mreferenced\u001b[49m\u001b[43m[\u001b[49m\u001b[43mmesh\u001b[49m\u001b[38;5;241;43m.\u001b[39;49m\u001b[43mfaces\u001b[49m\u001b[43m]\u001b[49m \u001b[38;5;241m=\u001b[39m \u001b[38;5;28;01mTrue\u001b[39;00m\n\u001b[1;32m     71\u001b[0m \u001b[38;5;28;01melse\u001b[39;00m:\n\u001b[1;32m     72\u001b[0m     \u001b[38;5;66;03m# this is used for geometry without faces\u001b[39;00m\n\u001b[1;32m     73\u001b[0m     referenced \u001b[38;5;241m=\u001b[39m np\u001b[38;5;241m.\u001b[39mones(\u001b[38;5;28mlen\u001b[39m(mesh\u001b[38;5;241m.\u001b[39mvertices), dtype\u001b[38;5;241m=\u001b[39m\u001b[38;5;28mbool\u001b[39m)\n",
      "\u001b[0;31mIndexError\u001b[0m: index 532 is out of bounds for axis 0 with size 3"
     ]
    }
   ],
   "source": [
    "#create sphere mesh\n",
    "sphere = trimesh.creation.icosphere(subdivisions=3, radius=30.0)\n",
    "\n",
    "#Create ellipsoid mesh\n",
    "# Create a scaling matrix for the semi-axes lengths\n",
    "scales = np.array([2, 2, 3])\n",
    "scale_matrix = np.diag(scales)\n",
    "\n",
    "scale_matrix = gs.array(scale_matrix)\n",
    "\n",
    "# Apply the scaling transformation to the mesh vertices\n",
    "scaled_vertices = sphere.vertices.dot(scale_matrix)\n",
    "\n",
    "# Create a new mesh with the scaled vertices\n",
    "ellipsoid = trimesh.Trimesh(vertices=scaled_vertices, faces=sphere.faces)\n",
    "\n",
    "#Define Surface Space\n",
    "SURFACE_SPACE = DiscreteSurfaces(faces = sphere.faces)\n",
    "\n",
    "METRIC = ElasticMetric(\n",
    "    space = SURFACE_SPACE,\n",
    "    a0=default_config.a0,\n",
    "    a1=default_config.a1,\n",
    "    b1=default_config.b1,\n",
    "    c1=default_config.c1,\n",
    "    d1=default_config.d1,\n",
    "    a2=default_config.a2,)\n",
    "\n",
    "# CREATE GEODESIC\n",
    "n_vertices = sphere.vertices.shape[0]\n",
    "print(n_vertices)\n",
    "\n",
    "\n",
    "def geodesics_sphere_to_ellipsoid(\n",
    "    n_geodesics=1, n_times=5\n",
    "):\n",
    "    \"\"\"Generate a dataset of geodesics that transform spheres into ellipsoids.\"\"\"\n",
    "    dim = 3\n",
    "    \n",
    "    geodesics = gs.zeros((n_geodesics, n_times, n_vertices, dim))\n",
    "    times = gs.arange(0, 1, 1 / n_times)\n",
    "    for i_geodesic in range(n_geodesics):\n",
    "        start_surface = gs.array(sphere.vertices)\n",
    "        end_surface = gs.array(ellipsoid.vertices)\n",
    "        print(start_surface.shape)\n",
    "        geodesic = METRIC.geodesic(initial_point = start_surface, end_point = end_surface)\n",
    "        \n",
    "        geodesics[i_geodesic] = geodesic(times)\n",
    "\n",
    "    return geodesics, times\n",
    "\n",
    "geodesics, times = geodesics_sphere_to_ellipsoid()\n",
    "geodesic = geodesics[0]"
   ]
  },
  {
   "cell_type": "markdown",
   "id": "0c6bf7de-86e9-4e8b-87c6-a24cce6d6c96",
   "metadata": {},
   "source": [
    "# GEODESIC REGRESSION"
   ]
  },
  {
   "cell_type": "code",
   "execution_count": null,
   "id": "4d56ded8-b8e4-481c-bb22-6363aa5128e2",
   "metadata": {
    "tags": []
   },
   "outputs": [],
   "source": [
    "# Regression imports\n",
    "\n",
    "import matplotlib.pyplot as plt\n",
    "\n",
    "import geomstats.backend as gs\n",
    "import geomstats.visualization as visualization\n",
    "from geomstats.geometry.special_euclidean import SpecialEuclidean\n",
    "from geomstats.learning.frechet_mean import FrechetMean, variance\n",
    "from geomstats.learning.geodesic_regression import GeodesicRegression"
   ]
  },
  {
   "cell_type": "code",
   "execution_count": null,
   "id": "11bbebec-35b3-4848-b37f-f324b021ef14",
   "metadata": {
    "tags": []
   },
   "outputs": [],
   "source": [
    "gr = GeodesicRegression(\n",
    "        SURFACE_SPACE,\n",
    "        metric=METRIC,\n",
    "        center_X=False,\n",
    "        method=\"riemannian\",\n",
    "        max_iter=100,\n",
    "        init_step_size=0.1,\n",
    "        verbose=True,\n",
    "        initialization=\"frechet\",\n",
    "    )\n",
    "\n",
    "# X = gs.random.normal(size=(5))\n",
    "# X -= gs.mean(X)\n",
    "# print(geodesic.shape)\n",
    "\n",
    "gr.fit(times, geodesic, compute_training_score=True)\n",
    "\n",
    "intercept_hat, beta_hat = gr.intercept_, gr.coef_"
   ]
  },
  {
   "cell_type": "code",
   "execution_count": null,
   "id": "0c62ed1d-def4-4457-a3f8-24a40973b45a",
   "metadata": {},
   "outputs": [],
   "source": []
  },
  {
   "cell_type": "code",
   "execution_count": null,
   "id": "b6306c4e-9dca-4c3d-ae64-26dd3f8ccc86",
   "metadata": {},
   "outputs": [],
   "source": []
  },
  {
   "cell_type": "code",
   "execution_count": null,
   "id": "73bf688a-4d71-466e-a088-54adac41c5ed",
   "metadata": {},
   "outputs": [],
   "source": []
  },
  {
   "cell_type": "code",
   "execution_count": null,
   "id": "7f583cfa-0ff8-4c5e-8b52-f30005775244",
   "metadata": {},
   "outputs": [],
   "source": []
  }
 ],
 "metadata": {
  "kernelspec": {
   "display_name": "Python 3 (ipykernel)",
   "language": "python",
   "name": "python3"
  },
  "language_info": {
   "codemirror_mode": {
    "name": "ipython",
    "version": 3
   },
   "file_extension": ".py",
   "mimetype": "text/x-python",
   "name": "python",
   "nbconvert_exporter": "python",
   "pygments_lexer": "ipython3",
   "version": "3.8.16"
  }
 },
 "nbformat": 4,
 "nbformat_minor": 5
}
