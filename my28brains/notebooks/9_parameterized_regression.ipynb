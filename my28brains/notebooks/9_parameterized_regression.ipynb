{
 "cells": [
  {
   "cell_type": "markdown",
   "id": "180e0d82-0e9a-4f63-b643-cc4ca0e3bb48",
   "metadata": {},
   "source": [
    "# Perform regression on parameterized surfaces"
   ]
  },
  {
   "cell_type": "markdown",
   "id": "e1068d73-7d06-4eb6-a373-2dd6a65b8220",
   "metadata": {},
   "source": [
    "## Imports"
   ]
  },
  {
   "cell_type": "code",
   "execution_count": 7,
   "id": "4dd8d37b-e675-48b9-94a0-4bbe92d8b783",
   "metadata": {
    "tags": []
   },
   "outputs": [],
   "source": [
    "# imports\n",
    "\n",
    "import trimesh\n",
    "import os\n",
    "import sys\n",
    "import subprocess\n",
    "import torch\n",
    "import numpy as np\n",
    "os.environ[\"GEOMSTATS_BACKEND\"] = \"pytorch\"\n",
    "import geomstats.backend as gs\n",
    "import my28brains.discrete_surfaces"
   ]
  },
  {
   "cell_type": "code",
   "execution_count": 8,
   "id": "82c14888-ba98-46d8-96be-40e1ac77cef3",
   "metadata": {
    "tags": []
   },
   "outputs": [],
   "source": [
    "gitroot_path = subprocess.check_output(\n",
    "    [\"git\", \"rev-parse\", \"--show-toplevel\"], universal_newlines=True\n",
    ")\n",
    "os.chdir(gitroot_path[:-1])\n",
    "work_dir = os.getcwd()\n",
    "\n",
    "my28brains_dir = os.path.join(work_dir, \"my28brains\")\n",
    "\n",
    "sys_dir = os.path.dirname(work_dir)\n",
    "sys.path.append(sys_dir)\n",
    "sys.path.append(my28brains_dir)\n",
    "\n",
    "# this forces the notebook to re-load\n",
    "import importlib\n",
    "importlib.reload(my28brains.discrete_surfaces)\n",
    "\n",
    "from my28brains.discrete_surfaces import (\n",
    "    DiscreteSurfaces,\n",
    "    ElasticMetric,\n",
    ")\n",
    "\n",
    "import my28brains.default_config as default_config"
   ]
  },
  {
   "cell_type": "markdown",
   "id": "97250c08-d3ff-4317-bebf-2102296af2ca",
   "metadata": {},
   "source": [
    "## Generate parameterized geodesic from sphere to ellipse using `discrete_curves.py`."
   ]
  },
  {
   "cell_type": "code",
   "execution_count": 18,
   "id": "13152dff-8825-4bf5-a683-c76df813c579",
   "metadata": {
    "collapsed": true,
    "jupyter": {
     "outputs_hidden": true
    },
    "tags": []
   },
   "outputs": [
    {
     "name": "stdout",
     "output_type": "stream",
     "text": [
      "642\n",
      "torch.Size([642, 3])\n",
      "RUNNING THE L-BFGS-B CODE\n",
      "\n",
      "           * * *\n",
      "\n",
      "Machine precision = 2.220D-16\n",
      " N =         5778     M =           10\n",
      "\n",
      "At X0         0 variables are exactly at the bounds\n",
      "\n",
      "At iterate    0    f=  9.36869D+07    |proj g|=  2.31308D+03\n",
      "\n",
      "At iterate    1    f=  9.36708D+07    |proj g|=  3.97712D+03\n",
      "\n",
      "           * * *\n",
      "\n",
      "Tit   = total number of iterations\n",
      "Tnf   = total number of function evaluations\n",
      "Tnint = total number of segments explored during Cauchy searches\n",
      "Skip  = number of BFGS updates skipped\n",
      "Nact  = number of active bounds at final generalized Cauchy point\n",
      "Projg = norm of the final projected gradient\n",
      "F     = final function value\n",
      "\n",
      "           * * *\n",
      "\n",
      "   N    Tit     Tnf  Tnint  Skip  Nact     Projg        F\n",
      " 5778      1      2      1     0     0   3.977D+03   9.367D+07\n",
      "  F =   93670813.262415290     \n",
      "\n",
      "CONVERGENCE: REL_REDUCTION_OF_F_<=_FACTR*EPSMCH             \n"
     ]
    },
    {
     "name": "stderr",
     "output_type": "stream",
     "text": [
      " This problem is unconstrained.\n"
     ]
    }
   ],
   "source": [
    "#create sphere mesh\n",
    "sphere = trimesh.creation.icosphere(subdivisions=3, radius=30.0)\n",
    "\n",
    "#Create ellipsoid mesh\n",
    "# Create a scaling matrix for the semi-axes lengths\n",
    "scales = np.array([2, 2, 3])\n",
    "scale_matrix = np.diag(scales)\n",
    "\n",
    "scale_matrix = gs.array(scale_matrix)\n",
    "\n",
    "# Apply the scaling transformation to the mesh vertices\n",
    "scaled_vertices = sphere.vertices.dot(scale_matrix)\n",
    "\n",
    "# Create a new mesh with the scaled vertices\n",
    "ellipsoid = trimesh.Trimesh(vertices=scaled_vertices, faces=sphere.faces)\n",
    "\n",
    "#Define Surface Space\n",
    "SURFACE_SPACE = DiscreteSurfaces(faces = sphere.faces)\n",
    "\n",
    "METRIC = ElasticMetric(\n",
    "    space = SURFACE_SPACE,\n",
    "    a0=default_config.a0,\n",
    "    a1=default_config.a1,\n",
    "    b1=default_config.b1,\n",
    "    c1=default_config.c1,\n",
    "    d1=default_config.d1,\n",
    "    a2=default_config.a2,)\n",
    "\n",
    "# CREATE GEODESIC\n",
    "n_vertices = sphere.vertices.shape[0]\n",
    "print(n_vertices)\n",
    "\n",
    "def geodesics_sphere_to_ellipsoid(\n",
    "    n_geodesics=1, n_times=5\n",
    "):\n",
    "    \"\"\"Generate a dataset of geodesics that transform spheres into ellipsoids.\"\"\"\n",
    "    dim = 3\n",
    "    \n",
    "    geodesics = gs.zeros((n_geodesics, n_times, n_vertices, dim))\n",
    "    times = gs.arange(0, 1, 1 / n_times)\n",
    "    for i_geodesic in range(n_geodesics):\n",
    "        start_surface = gs.array(sphere.vertices)\n",
    "        end_surface = gs.array(ellipsoid.vertices)\n",
    "        print(start_surface.shape)\n",
    "        geodesic = METRIC.geodesic(initial_point = start_surface, end_point = end_surface)\n",
    "        \n",
    "        geodesics[i_geodesic] = geodesic\n",
    "        # geodesics[i_geodesic] = geodesic(times)\n",
    "\n",
    "    return geodesics\n",
    "\n",
    "geodesics = geodesics_sphere_to_ellipsoid()\n",
    "geodesic = geodesics[0]"
   ]
  },
  {
   "cell_type": "markdown",
   "id": "0c6bf7de-86e9-4e8b-87c6-a24cce6d6c96",
   "metadata": {},
   "source": [
    "# GEODESIC REGRESSION"
   ]
  },
  {
   "cell_type": "code",
   "execution_count": 19,
   "id": "4d56ded8-b8e4-481c-bb22-6363aa5128e2",
   "metadata": {
    "tags": []
   },
   "outputs": [],
   "source": [
    "# Regression imports\n",
    "\n",
    "import matplotlib.pyplot as plt\n",
    "\n",
    "import geomstats.backend as gs\n",
    "import geomstats.visualization as visualization\n",
    "from geomstats.geometry.special_euclidean import SpecialEuclidean\n",
    "from geomstats.learning.frechet_mean import FrechetMean, variance\n",
    "from geomstats.learning.geodesic_regression import GeodesicRegression"
   ]
  },
  {
   "cell_type": "code",
   "execution_count": 20,
   "id": "11bbebec-35b3-4848-b37f-f324b021ef14",
   "metadata": {
    "tags": []
   },
   "outputs": [
    {
     "name": "stdout",
     "output_type": "stream",
     "text": [
      "torch.Size([5, 642, 3])\n"
     ]
    },
    {
     "ename": "IndexError",
     "evalue": "index 532 is out of bounds for axis 0 with size 5",
     "output_type": "error",
     "traceback": [
      "\u001b[0;31m---------------------------------------------------------------------------\u001b[0m",
      "\u001b[0;31mIndexError\u001b[0m                                Traceback (most recent call last)",
      "Cell \u001b[0;32mIn[20], line 16\u001b[0m\n\u001b[1;32m     13\u001b[0m X \u001b[38;5;241m-\u001b[39m\u001b[38;5;241m=\u001b[39m gs\u001b[38;5;241m.\u001b[39mmean(X)\n\u001b[1;32m     14\u001b[0m \u001b[38;5;28mprint\u001b[39m(geodesic\u001b[38;5;241m.\u001b[39mshape)\n\u001b[0;32m---> 16\u001b[0m \u001b[43mgr\u001b[49m\u001b[38;5;241;43m.\u001b[39;49m\u001b[43mfit\u001b[49m\u001b[43m(\u001b[49m\u001b[43mX\u001b[49m\u001b[43m,\u001b[49m\u001b[43m \u001b[49m\u001b[43mgeodesic\u001b[49m\u001b[43m,\u001b[49m\u001b[43m \u001b[49m\u001b[43mcompute_training_score\u001b[49m\u001b[38;5;241;43m=\u001b[39;49m\u001b[38;5;28;43;01mTrue\u001b[39;49;00m\u001b[43m)\u001b[49m\n\u001b[1;32m     18\u001b[0m intercept_hat, beta_hat \u001b[38;5;241m=\u001b[39m gr\u001b[38;5;241m.\u001b[39mintercept_, gr\u001b[38;5;241m.\u001b[39mcoef_\n",
      "File \u001b[0;32m~/anaconda3/envs/my28brains/lib/python3.8/site-packages/geomstats/learning/geodesic_regression.py:215\u001b[0m, in \u001b[0;36mGeodesicRegression.fit\u001b[0;34m(self, X, y, weights, compute_training_score)\u001b[0m\n\u001b[1;32m    213\u001b[0m     \u001b[38;5;28;01mreturn\u001b[39;00m \u001b[38;5;28mself\u001b[39m\u001b[38;5;241m.\u001b[39m_fit_extrinsic(times, y, weights, compute_training_score)\n\u001b[1;32m    214\u001b[0m \u001b[38;5;28;01mif\u001b[39;00m \u001b[38;5;28mself\u001b[39m\u001b[38;5;241m.\u001b[39mmethod \u001b[38;5;241m==\u001b[39m \u001b[38;5;124m\"\u001b[39m\u001b[38;5;124mriemannian\u001b[39m\u001b[38;5;124m\"\u001b[39m:\n\u001b[0;32m--> 215\u001b[0m     \u001b[38;5;28;01mreturn\u001b[39;00m \u001b[38;5;28;43mself\u001b[39;49m\u001b[38;5;241;43m.\u001b[39;49m\u001b[43m_fit_riemannian\u001b[49m\u001b[43m(\u001b[49m\u001b[43mtimes\u001b[49m\u001b[43m,\u001b[49m\u001b[43m \u001b[49m\u001b[43my\u001b[49m\u001b[43m,\u001b[49m\u001b[43m \u001b[49m\u001b[43mweights\u001b[49m\u001b[43m,\u001b[49m\u001b[43m \u001b[49m\u001b[43mcompute_training_score\u001b[49m\u001b[43m)\u001b[49m\n",
      "File \u001b[0;32m~/anaconda3/envs/my28brains/lib/python3.8/site-packages/geomstats/learning/geodesic_regression.py:368\u001b[0m, in \u001b[0;36mGeodesicRegression._fit_riemannian\u001b[0;34m(self, X, y, weights, compute_training_score)\u001b[0m\n\u001b[1;32m    363\u001b[0m objective_with_grad \u001b[38;5;241m=\u001b[39m gs\u001b[38;5;241m.\u001b[39mautodiff\u001b[38;5;241m.\u001b[39mvalue_and_grad(\n\u001b[1;32m    364\u001b[0m     \u001b[38;5;28;01mlambda\u001b[39;00m params: \u001b[38;5;28mself\u001b[39m\u001b[38;5;241m.\u001b[39m_loss(X, y, params, shape, weights)\n\u001b[1;32m    365\u001b[0m )\n\u001b[1;32m    367\u001b[0m lr \u001b[38;5;241m=\u001b[39m \u001b[38;5;28mself\u001b[39m\u001b[38;5;241m.\u001b[39minit_step_size\n\u001b[0;32m--> 368\u001b[0m intercept_init, coef_init \u001b[38;5;241m=\u001b[39m \u001b[38;5;28;43mself\u001b[39;49m\u001b[38;5;241;43m.\u001b[39;49m\u001b[43minitialize_parameters\u001b[49m\u001b[43m(\u001b[49m\u001b[43my\u001b[49m\u001b[43m)\u001b[49m\n\u001b[1;32m    369\u001b[0m intercept_hat \u001b[38;5;241m=\u001b[39m intercept_hat_new \u001b[38;5;241m=\u001b[39m \u001b[38;5;28mself\u001b[39m\u001b[38;5;241m.\u001b[39mspace\u001b[38;5;241m.\u001b[39mprojection(intercept_init)\n\u001b[1;32m    370\u001b[0m coef_hat \u001b[38;5;241m=\u001b[39m coef_hat_new \u001b[38;5;241m=\u001b[39m \u001b[38;5;28mself\u001b[39m\u001b[38;5;241m.\u001b[39mspace\u001b[38;5;241m.\u001b[39mto_tangent(coef_init, intercept_hat)\n",
      "File \u001b[0;32m~/anaconda3/envs/my28brains/lib/python3.8/site-packages/geomstats/learning/geodesic_regression.py:312\u001b[0m, in \u001b[0;36mGeodesicRegression.initialize_parameters\u001b[0;34m(self, y)\u001b[0m\n\u001b[1;32m    310\u001b[0m     \u001b[38;5;28;01mreturn\u001b[39;00m gs\u001b[38;5;241m.\u001b[39mrandom\u001b[38;5;241m.\u001b[39mnormal(size\u001b[38;5;241m=\u001b[39m(\u001b[38;5;241m2\u001b[39m,) \u001b[38;5;241m+\u001b[39m shape)\n\u001b[1;32m    311\u001b[0m \u001b[38;5;28;01mif\u001b[39;00m init \u001b[38;5;241m==\u001b[39m \u001b[38;5;124m\"\u001b[39m\u001b[38;5;124mfrechet\u001b[39m\u001b[38;5;124m\"\u001b[39m:\n\u001b[0;32m--> 312\u001b[0m     mean \u001b[38;5;241m=\u001b[39m \u001b[43mFrechetMean\u001b[49m\u001b[43m(\u001b[49m\u001b[38;5;28;43mself\u001b[39;49m\u001b[38;5;241;43m.\u001b[39;49m\u001b[43mmetric\u001b[49m\u001b[43m,\u001b[49m\u001b[43m \u001b[49m\u001b[43mverbose\u001b[49m\u001b[38;5;241;43m=\u001b[39;49m\u001b[38;5;28;43mself\u001b[39;49m\u001b[38;5;241;43m.\u001b[39;49m\u001b[43mverbose\u001b[49m\u001b[43m)\u001b[49m\u001b[38;5;241;43m.\u001b[39;49m\u001b[43mfit\u001b[49m\u001b[43m(\u001b[49m\u001b[43my\u001b[49m\u001b[43m)\u001b[49m\u001b[38;5;241m.\u001b[39mestimate_\n\u001b[1;32m    313\u001b[0m     \u001b[38;5;28;01mreturn\u001b[39;00m mean, gs\u001b[38;5;241m.\u001b[39mzeros(shape)\n\u001b[1;32m    314\u001b[0m \u001b[38;5;28;01mif\u001b[39;00m init \u001b[38;5;241m==\u001b[39m \u001b[38;5;124m\"\u001b[39m\u001b[38;5;124mdata\u001b[39m\u001b[38;5;124m\"\u001b[39m:\n",
      "File \u001b[0;32m~/anaconda3/envs/my28brains/lib/python3.8/site-packages/geomstats/learning/frechet_mean.py:605\u001b[0m, in \u001b[0;36mFrechetMean.fit\u001b[0;34m(self, X, y, weights)\u001b[0m\n\u001b[1;32m    602\u001b[0m     mean \u001b[38;5;241m=\u001b[39m elastic_mean(points\u001b[38;5;241m=\u001b[39mX, weights\u001b[38;5;241m=\u001b[39mweights, metric\u001b[38;5;241m=\u001b[39m\u001b[38;5;28mself\u001b[39m\u001b[38;5;241m.\u001b[39mmetric)\n\u001b[1;32m    604\u001b[0m \u001b[38;5;28;01melse\u001b[39;00m:\n\u001b[0;32m--> 605\u001b[0m     mean \u001b[38;5;241m=\u001b[39m \u001b[38;5;28;43mself\u001b[39;49m\u001b[38;5;241;43m.\u001b[39;49m\u001b[43m_minimize\u001b[49m\u001b[43m(\u001b[49m\n\u001b[1;32m    606\u001b[0m \u001b[43m        \u001b[49m\u001b[43mpoints\u001b[49m\u001b[38;5;241;43m=\u001b[39;49m\u001b[43mX\u001b[49m\u001b[43m,\u001b[49m\n\u001b[1;32m    607\u001b[0m \u001b[43m        \u001b[49m\u001b[43mweights\u001b[49m\u001b[38;5;241;43m=\u001b[39;49m\u001b[43mweights\u001b[49m\u001b[43m,\u001b[49m\n\u001b[1;32m    608\u001b[0m \u001b[43m        \u001b[49m\u001b[43mmetric\u001b[49m\u001b[38;5;241;43m=\u001b[39;49m\u001b[38;5;28;43mself\u001b[39;49m\u001b[38;5;241;43m.\u001b[39;49m\u001b[43mmetric\u001b[49m\u001b[43m,\u001b[49m\n\u001b[1;32m    609\u001b[0m \u001b[43m    \u001b[49m\u001b[43m)\u001b[49m\n\u001b[1;32m    611\u001b[0m \u001b[38;5;28mself\u001b[39m\u001b[38;5;241m.\u001b[39mestimate_ \u001b[38;5;241m=\u001b[39m mean\n\u001b[1;32m    613\u001b[0m \u001b[38;5;28;01mreturn\u001b[39;00m \u001b[38;5;28mself\u001b[39m\n",
      "File \u001b[0;32m~/anaconda3/envs/my28brains/lib/python3.8/site-packages/geomstats/learning/frechet_mean.py:564\u001b[0m, in \u001b[0;36mFrechetMean._minimize.<locals>.<lambda>\u001b[0;34m(points, weights, metric)\u001b[0m\n\u001b[1;32m    558\u001b[0m MAP_OPTIMIZER \u001b[38;5;241m=\u001b[39m {\n\u001b[1;32m    559\u001b[0m     \u001b[38;5;124m\"\u001b[39m\u001b[38;5;124mdefault\u001b[39m\u001b[38;5;124m\"\u001b[39m: _default_gradient_descent,\n\u001b[1;32m    560\u001b[0m     \u001b[38;5;124m\"\u001b[39m\u001b[38;5;124madaptive\u001b[39m\u001b[38;5;124m\"\u001b[39m: _adaptive_gradient_descent,\n\u001b[1;32m    561\u001b[0m     \u001b[38;5;124m\"\u001b[39m\u001b[38;5;124mbatch\u001b[39m\u001b[38;5;124m\"\u001b[39m: _batch_gradient_descent,\n\u001b[1;32m    562\u001b[0m }\n\u001b[1;32m    563\u001b[0m minimize_ \u001b[38;5;241m=\u001b[39m MAP_OPTIMIZER\u001b[38;5;241m.\u001b[39mget(\u001b[38;5;28mself\u001b[39m\u001b[38;5;241m.\u001b[39mmethod)\n\u001b[0;32m--> 564\u001b[0m \u001b[38;5;28;01mreturn\u001b[39;00m \u001b[38;5;28;01mlambda\u001b[39;00m points, weights, metric: \u001b[43mminimize_\u001b[49m\u001b[43m(\u001b[49m\n\u001b[1;32m    565\u001b[0m \u001b[43m    \u001b[49m\u001b[43mpoints\u001b[49m\u001b[38;5;241;43m=\u001b[39;49m\u001b[43mpoints\u001b[49m\u001b[43m,\u001b[49m\n\u001b[1;32m    566\u001b[0m \u001b[43m    \u001b[49m\u001b[43mweights\u001b[49m\u001b[38;5;241;43m=\u001b[39;49m\u001b[43mweights\u001b[49m\u001b[43m,\u001b[49m\n\u001b[1;32m    567\u001b[0m \u001b[43m    \u001b[49m\u001b[43mmetric\u001b[49m\u001b[38;5;241;43m=\u001b[39;49m\u001b[43mmetric\u001b[49m\u001b[43m,\u001b[49m\n\u001b[1;32m    568\u001b[0m \u001b[43m    \u001b[49m\u001b[43mmax_iter\u001b[49m\u001b[38;5;241;43m=\u001b[39;49m\u001b[38;5;28;43mself\u001b[39;49m\u001b[38;5;241;43m.\u001b[39;49m\u001b[43mmax_iter\u001b[49m\u001b[43m,\u001b[49m\n\u001b[1;32m    569\u001b[0m \u001b[43m    \u001b[49m\u001b[43minit_step_size\u001b[49m\u001b[38;5;241;43m=\u001b[39;49m\u001b[38;5;28;43mself\u001b[39;49m\u001b[38;5;241;43m.\u001b[39;49m\u001b[43minit_step_size\u001b[49m\u001b[43m,\u001b[49m\n\u001b[1;32m    570\u001b[0m \u001b[43m    \u001b[49m\u001b[43mepsilon\u001b[49m\u001b[38;5;241;43m=\u001b[39;49m\u001b[38;5;28;43mself\u001b[39;49m\u001b[38;5;241;43m.\u001b[39;49m\u001b[43mepsilon\u001b[49m\u001b[43m,\u001b[49m\n\u001b[1;32m    571\u001b[0m \u001b[43m    \u001b[49m\u001b[43mverbose\u001b[49m\u001b[38;5;241;43m=\u001b[39;49m\u001b[38;5;28;43mself\u001b[39;49m\u001b[38;5;241;43m.\u001b[39;49m\u001b[43mverbose\u001b[49m\u001b[43m,\u001b[49m\n\u001b[1;32m    572\u001b[0m \u001b[43m    \u001b[49m\u001b[43minit_point\u001b[49m\u001b[38;5;241;43m=\u001b[39;49m\u001b[38;5;28;43mself\u001b[39;49m\u001b[38;5;241;43m.\u001b[39;49m\u001b[43minit_point\u001b[49m\u001b[43m,\u001b[49m\n\u001b[1;32m    573\u001b[0m \u001b[43m\u001b[49m\u001b[43m)\u001b[49m\n",
      "File \u001b[0;32m~/anaconda3/envs/my28brains/lib/python3.8/site-packages/geomstats/learning/frechet_mean.py:190\u001b[0m, in \u001b[0;36m_default_gradient_descent\u001b[0;34m(points, metric, weights, max_iter, epsilon, init_step_size, verbose, init_point)\u001b[0m\n\u001b[1;32m    187\u001b[0m step \u001b[38;5;241m=\u001b[39m init_step_size\n\u001b[1;32m    189\u001b[0m \u001b[38;5;28;01mwhile\u001b[39;00m iteration \u001b[38;5;241m<\u001b[39m max_iter:\n\u001b[0;32m--> 190\u001b[0m     logs \u001b[38;5;241m=\u001b[39m \u001b[43mmetric\u001b[49m\u001b[38;5;241;43m.\u001b[39;49m\u001b[43mlog\u001b[49m\u001b[43m(\u001b[49m\u001b[43mpoint\u001b[49m\u001b[38;5;241;43m=\u001b[39;49m\u001b[43mpoints\u001b[49m\u001b[43m,\u001b[49m\u001b[43m \u001b[49m\u001b[43mbase_point\u001b[49m\u001b[38;5;241;43m=\u001b[39;49m\u001b[43mmean\u001b[49m\u001b[43m)\u001b[49m\n\u001b[1;32m    192\u001b[0m     var \u001b[38;5;241m=\u001b[39m gs\u001b[38;5;241m.\u001b[39msum(metric\u001b[38;5;241m.\u001b[39msquared_norm(logs, mean) \u001b[38;5;241m*\u001b[39m weights) \u001b[38;5;241m/\u001b[39m sum_weights\n\u001b[1;32m    194\u001b[0m     tangent_mean \u001b[38;5;241m=\u001b[39m _scalarmulsum(weights, logs)\n",
      "File \u001b[0;32m~/code/my28brains/my28brains/discrete_surfaces.py:687\u001b[0m, in \u001b[0;36mElasticMetric.log\u001b[0;34m(self, point, base_point)\u001b[0m\n\u001b[1;32m    669\u001b[0m \u001b[38;5;28;01mdef\u001b[39;00m \u001b[38;5;21mlog\u001b[39m(\u001b[38;5;28mself\u001b[39m, point, base_point):\n\u001b[1;32m    670\u001b[0m \u001b[38;5;250m    \u001b[39m\u001b[38;5;124;03m\"\"\"Compute logarithm map associated to the Riemannian metric.\u001b[39;00m\n\u001b[1;32m    671\u001b[0m \n\u001b[1;32m    672\u001b[0m \u001b[38;5;124;03m    Solve the boundary value problem associated to the geodesic equation\u001b[39;00m\n\u001b[0;32m   (...)\u001b[0m\n\u001b[1;32m    685\u001b[0m \u001b[38;5;124;03m        Tangent vector at the base point.\u001b[39;00m\n\u001b[1;32m    686\u001b[0m \u001b[38;5;124;03m    \"\"\"\u001b[39;00m\n\u001b[0;32m--> 687\u001b[0m     geod \u001b[38;5;241m=\u001b[39m \u001b[38;5;28;43mself\u001b[39;49m\u001b[38;5;241;43m.\u001b[39;49m\u001b[43m_bvp\u001b[49m\u001b[43m(\u001b[49m\u001b[43mbase_point\u001b[49m\u001b[43m,\u001b[49m\u001b[43m \u001b[49m\u001b[43mpoint\u001b[49m\u001b[43m)\u001b[49m\n\u001b[1;32m    688\u001b[0m     \u001b[38;5;28;01mreturn\u001b[39;00m geod[\u001b[38;5;241m1\u001b[39m] \u001b[38;5;241m-\u001b[39m geod[\u001b[38;5;241m0\u001b[39m]\n",
      "File \u001b[0;32m~/code/my28brains/my28brains/discrete_surfaces.py:697\u001b[0m, in \u001b[0;36mElasticMetric._bvp\u001b[0;34m(self, initial_point, end_point)\u001b[0m\n\u001b[1;32m    694\u001b[0m geod \u001b[38;5;241m=\u001b[39m gs\u001b[38;5;241m.\u001b[39marray([initial_point \u001b[38;5;241m+\u001b[39m i \u001b[38;5;241m*\u001b[39m step \u001b[38;5;28;01mfor\u001b[39;00m i \u001b[38;5;129;01min\u001b[39;00m \u001b[38;5;28mrange\u001b[39m(\u001b[38;5;241m0\u001b[39m, \u001b[38;5;28mself\u001b[39m\u001b[38;5;241m.\u001b[39mn_times)])\n\u001b[1;32m    695\u001b[0m midpoints \u001b[38;5;241m=\u001b[39m geod[\u001b[38;5;241m1\u001b[39m : \u001b[38;5;28mself\u001b[39m\u001b[38;5;241m.\u001b[39mn_times \u001b[38;5;241m-\u001b[39m \u001b[38;5;241m1\u001b[39m]  \u001b[38;5;66;03m# NOQA\u001b[39;00m\n\u001b[0;32m--> 697\u001b[0m \u001b[38;5;28;43mself\u001b[39;49m\u001b[38;5;241;43m.\u001b[39;49m\u001b[43mremove_degenerate_faces\u001b[49m\u001b[43m(\u001b[49m\u001b[43mmidpoints\u001b[49m\u001b[43m,\u001b[49m\u001b[43m \u001b[49m\u001b[43mn_points\u001b[49m\u001b[43m)\u001b[49m\n\u001b[1;32m    699\u001b[0m \u001b[38;5;66;03m# needs to be differentiable with respect to midpoints\u001b[39;00m\n\u001b[1;32m    700\u001b[0m \u001b[38;5;28;01mdef\u001b[39;00m \u001b[38;5;21mfunopt\u001b[39m(midpoint):\n",
      "File \u001b[0;32m~/code/my28brains/my28brains/discrete_surfaces.py:804\u001b[0m, in \u001b[0;36mElasticMetric.remove_degenerate_faces\u001b[0;34m(self, vertices_list, n_points)\u001b[0m\n\u001b[1;32m    802\u001b[0m \u001b[38;5;66;03m# point = torch.Tensor(point)\u001b[39;00m\n\u001b[1;32m    803\u001b[0m area_threshold \u001b[38;5;241m=\u001b[39m \u001b[38;5;241m0.01\u001b[39m\n\u001b[0;32m--> 804\u001b[0m mesh \u001b[38;5;241m=\u001b[39m \u001b[43mtrimesh\u001b[49m\u001b[38;5;241;43m.\u001b[39;49m\u001b[43mTrimesh\u001b[49m\u001b[43m(\u001b[49m\u001b[43mpoint\u001b[49m\u001b[43m,\u001b[49m\u001b[43m \u001b[49m\u001b[38;5;28;43mself\u001b[39;49m\u001b[38;5;241;43m.\u001b[39;49m\u001b[43mspace\u001b[49m\u001b[38;5;241;43m.\u001b[39;49m\u001b[43mfaces\u001b[49m\u001b[43m)\u001b[49m\n\u001b[1;32m    805\u001b[0m \u001b[38;5;66;03m# make sure that the midpoints don't have degenerate faces\u001b[39;00m\n\u001b[1;32m    806\u001b[0m face_areas \u001b[38;5;241m=\u001b[39m \u001b[38;5;28mself\u001b[39m\u001b[38;5;241m.\u001b[39mspace\u001b[38;5;241m.\u001b[39mface_areas(point)\n",
      "File \u001b[0;32m~/anaconda3/envs/my28brains/lib/python3.8/site-packages/trimesh/base.py:190\u001b[0m, in \u001b[0;36mTrimesh.__init__\u001b[0;34m(self, vertices, faces, face_normals, vertex_normals, face_colors, vertex_colors, face_attributes, vertex_attributes, metadata, process, validate, merge_tex, merge_norm, use_embree, initial_cache, visual, **kwargs)\u001b[0m\n\u001b[1;32m    187\u001b[0m \u001b[38;5;66;03m# process will remove NaN and Inf values and merge vertices\u001b[39;00m\n\u001b[1;32m    188\u001b[0m \u001b[38;5;66;03m# if validate, will remove degenerate and duplicate faces\u001b[39;00m\n\u001b[1;32m    189\u001b[0m \u001b[38;5;28;01mif\u001b[39;00m process \u001b[38;5;129;01mor\u001b[39;00m validate:\n\u001b[0;32m--> 190\u001b[0m     \u001b[38;5;28;43mself\u001b[39;49m\u001b[38;5;241;43m.\u001b[39;49m\u001b[43mprocess\u001b[49m\u001b[43m(\u001b[49m\u001b[43mvalidate\u001b[49m\u001b[38;5;241;43m=\u001b[39;49m\u001b[43mvalidate\u001b[49m\u001b[43m,\u001b[49m\n\u001b[1;32m    191\u001b[0m \u001b[43m                 \u001b[49m\u001b[43mmerge_tex\u001b[49m\u001b[38;5;241;43m=\u001b[39;49m\u001b[43mmerge_tex\u001b[49m\u001b[43m,\u001b[49m\n\u001b[1;32m    192\u001b[0m \u001b[43m                 \u001b[49m\u001b[43mmerge_norm\u001b[49m\u001b[38;5;241;43m=\u001b[39;49m\u001b[43mmerge_norm\u001b[49m\u001b[43m)\u001b[49m\n\u001b[1;32m    194\u001b[0m \u001b[38;5;66;03m# save reference to kwargs\u001b[39;00m\n\u001b[1;32m    195\u001b[0m \u001b[38;5;28mself\u001b[39m\u001b[38;5;241m.\u001b[39m_kwargs \u001b[38;5;241m=\u001b[39m kwargs\n",
      "File \u001b[0;32m~/anaconda3/envs/my28brains/lib/python3.8/site-packages/trimesh/base.py:232\u001b[0m, in \u001b[0;36mTrimesh.process\u001b[0;34m(self, validate, merge_tex, merge_norm)\u001b[0m\n\u001b[1;32m    230\u001b[0m \u001b[38;5;28;01mwith\u001b[39;00m \u001b[38;5;28mself\u001b[39m\u001b[38;5;241m.\u001b[39m_cache:\n\u001b[1;32m    231\u001b[0m     \u001b[38;5;28mself\u001b[39m\u001b[38;5;241m.\u001b[39mremove_infinite_values()\n\u001b[0;32m--> 232\u001b[0m     \u001b[38;5;28;43mself\u001b[39;49m\u001b[38;5;241;43m.\u001b[39;49m\u001b[43mmerge_vertices\u001b[49m\u001b[43m(\u001b[49m\u001b[43mmerge_tex\u001b[49m\u001b[38;5;241;43m=\u001b[39;49m\u001b[43mmerge_tex\u001b[49m\u001b[43m,\u001b[49m\n\u001b[1;32m    233\u001b[0m \u001b[43m                        \u001b[49m\u001b[43mmerge_norm\u001b[49m\u001b[38;5;241;43m=\u001b[39;49m\u001b[43mmerge_norm\u001b[49m\u001b[43m)\u001b[49m\n\u001b[1;32m    234\u001b[0m     \u001b[38;5;66;03m# if we're cleaning remove duplicate\u001b[39;00m\n\u001b[1;32m    235\u001b[0m     \u001b[38;5;66;03m# and degenerate faces\u001b[39;00m\n\u001b[1;32m    236\u001b[0m     \u001b[38;5;28;01mif\u001b[39;00m validate:\n",
      "File \u001b[0;32m~/anaconda3/envs/my28brains/lib/python3.8/site-packages/trimesh/base.py:1134\u001b[0m, in \u001b[0;36mTrimesh.merge_vertices\u001b[0;34m(self, merge_tex, merge_norm, digits_vertex, digits_norm, digits_uv)\u001b[0m\n\u001b[1;32m   1106\u001b[0m \u001b[38;5;28;01mdef\u001b[39;00m \u001b[38;5;21mmerge_vertices\u001b[39m(\n\u001b[1;32m   1107\u001b[0m         \u001b[38;5;28mself\u001b[39m,\n\u001b[1;32m   1108\u001b[0m         merge_tex\u001b[38;5;241m=\u001b[39m\u001b[38;5;28;01mNone\u001b[39;00m,\n\u001b[0;32m   (...)\u001b[0m\n\u001b[1;32m   1111\u001b[0m         digits_norm\u001b[38;5;241m=\u001b[39m\u001b[38;5;28;01mNone\u001b[39;00m,\n\u001b[1;32m   1112\u001b[0m         digits_uv\u001b[38;5;241m=\u001b[39m\u001b[38;5;28;01mNone\u001b[39;00m):\n\u001b[1;32m   1113\u001b[0m \u001b[38;5;250m    \u001b[39m\u001b[38;5;124;03m\"\"\"\u001b[39;00m\n\u001b[1;32m   1114\u001b[0m \u001b[38;5;124;03m    Removes duplicate vertices grouped by position and\u001b[39;00m\n\u001b[1;32m   1115\u001b[0m \u001b[38;5;124;03m    optionally texture coordinate and normal.\u001b[39;00m\n\u001b[0;32m   (...)\u001b[0m\n\u001b[1;32m   1132\u001b[0m \u001b[38;5;124;03m      Number of digits to consider for UV coordinates\u001b[39;00m\n\u001b[1;32m   1133\u001b[0m \u001b[38;5;124;03m    \"\"\"\u001b[39;00m\n\u001b[0;32m-> 1134\u001b[0m     \u001b[43mgrouping\u001b[49m\u001b[38;5;241;43m.\u001b[39;49m\u001b[43mmerge_vertices\u001b[49m\u001b[43m(\u001b[49m\n\u001b[1;32m   1135\u001b[0m \u001b[43m        \u001b[49m\u001b[43mmesh\u001b[49m\u001b[38;5;241;43m=\u001b[39;49m\u001b[38;5;28;43mself\u001b[39;49m\u001b[43m,\u001b[49m\n\u001b[1;32m   1136\u001b[0m \u001b[43m        \u001b[49m\u001b[43mmerge_tex\u001b[49m\u001b[38;5;241;43m=\u001b[39;49m\u001b[43mmerge_tex\u001b[49m\u001b[43m,\u001b[49m\n\u001b[1;32m   1137\u001b[0m \u001b[43m        \u001b[49m\u001b[43mmerge_norm\u001b[49m\u001b[38;5;241;43m=\u001b[39;49m\u001b[43mmerge_norm\u001b[49m\u001b[43m,\u001b[49m\n\u001b[1;32m   1138\u001b[0m \u001b[43m        \u001b[49m\u001b[43mdigits_vertex\u001b[49m\u001b[38;5;241;43m=\u001b[39;49m\u001b[43mdigits_vertex\u001b[49m\u001b[43m,\u001b[49m\n\u001b[1;32m   1139\u001b[0m \u001b[43m        \u001b[49m\u001b[43mdigits_norm\u001b[49m\u001b[38;5;241;43m=\u001b[39;49m\u001b[43mdigits_norm\u001b[49m\u001b[43m,\u001b[49m\n\u001b[1;32m   1140\u001b[0m \u001b[43m        \u001b[49m\u001b[43mdigits_uv\u001b[49m\u001b[38;5;241;43m=\u001b[39;49m\u001b[43mdigits_uv\u001b[49m\u001b[43m)\u001b[49m\n",
      "File \u001b[0;32m~/anaconda3/envs/my28brains/lib/python3.8/site-packages/trimesh/grouping.py:70\u001b[0m, in \u001b[0;36mmerge_vertices\u001b[0;34m(mesh, merge_tex, merge_norm, digits_vertex, digits_norm, digits_uv)\u001b[0m\n\u001b[1;32m     68\u001b[0m \u001b[38;5;28;01mif\u001b[39;00m \u001b[38;5;28mhasattr\u001b[39m(mesh, \u001b[38;5;124m'\u001b[39m\u001b[38;5;124mfaces\u001b[39m\u001b[38;5;124m'\u001b[39m) \u001b[38;5;129;01mand\u001b[39;00m \u001b[38;5;28mlen\u001b[39m(mesh\u001b[38;5;241m.\u001b[39mfaces) \u001b[38;5;241m>\u001b[39m \u001b[38;5;241m0\u001b[39m:\n\u001b[1;32m     69\u001b[0m     referenced \u001b[38;5;241m=\u001b[39m np\u001b[38;5;241m.\u001b[39mzeros(\u001b[38;5;28mlen\u001b[39m(mesh\u001b[38;5;241m.\u001b[39mvertices), dtype\u001b[38;5;241m=\u001b[39m\u001b[38;5;28mbool\u001b[39m)\n\u001b[0;32m---> 70\u001b[0m     \u001b[43mreferenced\u001b[49m\u001b[43m[\u001b[49m\u001b[43mmesh\u001b[49m\u001b[38;5;241;43m.\u001b[39;49m\u001b[43mfaces\u001b[49m\u001b[43m]\u001b[49m \u001b[38;5;241m=\u001b[39m \u001b[38;5;28;01mTrue\u001b[39;00m\n\u001b[1;32m     71\u001b[0m \u001b[38;5;28;01melse\u001b[39;00m:\n\u001b[1;32m     72\u001b[0m     \u001b[38;5;66;03m# this is used for geometry without faces\u001b[39;00m\n\u001b[1;32m     73\u001b[0m     referenced \u001b[38;5;241m=\u001b[39m np\u001b[38;5;241m.\u001b[39mones(\u001b[38;5;28mlen\u001b[39m(mesh\u001b[38;5;241m.\u001b[39mvertices), dtype\u001b[38;5;241m=\u001b[39m\u001b[38;5;28mbool\u001b[39m)\n",
      "\u001b[0;31mIndexError\u001b[0m: index 532 is out of bounds for axis 0 with size 5"
     ]
    }
   ],
   "source": [
    "gr = GeodesicRegression(\n",
    "        SURFACE_SPACE,\n",
    "        metric=METRIC,\n",
    "        center_X=False,\n",
    "        method=\"riemannian\",\n",
    "        max_iter=100,\n",
    "        init_step_size=0.1,\n",
    "        verbose=True,\n",
    "        initialization=\"frechet\",\n",
    "    )\n",
    "\n",
    "X = gs.random.normal(size=(5))\n",
    "X -= gs.mean(X)\n",
    "print(geodesic.shape)\n",
    "\n",
    "gr.fit(X, geodesic, compute_training_score=True)\n",
    "\n",
    "intercept_hat, beta_hat = gr.intercept_, gr.coef_"
   ]
  },
  {
   "cell_type": "code",
   "execution_count": null,
   "id": "0c62ed1d-def4-4457-a3f8-24a40973b45a",
   "metadata": {},
   "outputs": [],
   "source": []
  },
  {
   "cell_type": "code",
   "execution_count": null,
   "id": "b6306c4e-9dca-4c3d-ae64-26dd3f8ccc86",
   "metadata": {},
   "outputs": [],
   "source": []
  },
  {
   "cell_type": "code",
   "execution_count": null,
   "id": "73bf688a-4d71-466e-a088-54adac41c5ed",
   "metadata": {},
   "outputs": [],
   "source": []
  }
 ],
 "metadata": {
  "kernelspec": {
   "display_name": "Python 3 (ipykernel)",
   "language": "python",
   "name": "python3"
  },
  "language_info": {
   "codemirror_mode": {
    "name": "ipython",
    "version": 3
   },
   "file_extension": ".py",
   "mimetype": "text/x-python",
   "name": "python",
   "nbconvert_exporter": "python",
   "pygments_lexer": "ipython3",
   "version": "3.8.16"
  }
 },
 "nbformat": 4,
 "nbformat_minor": 5
}
