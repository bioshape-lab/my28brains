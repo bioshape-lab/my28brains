{
 "cells": [
  {
   "cell_type": "markdown",
   "id": "295ad663-a5f3-4174-8cf3-2ed04f83b05b",
   "metadata": {},
   "source": [
    "# Visualize 3D Time-Series of Meshes"
   ]
  },
  {
   "cell_type": "markdown",
   "id": "a8a88891-05b3-481c-a3ad-2a5799eb1b2f",
   "metadata": {},
   "source": [
    "This notebook visualizes meshes using the library `open3d`. It does not run on the server. \n",
    "\n",
    "To run this notebook:\n",
    "- Download registered meshes on your local machine, e.g. with:\n",
    "\n",
    "`scp -r @bioshape-server2.ece.ucsb.edu:/home/nmiolane/code/my28brains/data/meshes /Users/ninamiolane/code/my28brains/data/`\n",
    "- Run on your local machine.\n",
    "\n",
    "**Note:** The following error is raised on the server:\n",
    "\n",
    "```\n",
    "[Open3D WARNING] GLFW Error: X11: Failed to open display :0\n",
    "[Open3D WARNING] Failed to initialize GLFW\n",
    "[Open3D WARNING] [DrawGeometries] Failed creating OpenGL window.\n",
    "```\n",
    "\n",
    "\n",
    "Alternatively, the meshes in the .ply files can be opened with:\n",
    "- the `vscode-3d-preview` extension of VSCode\n",
    "- [MeshLab](https://www.meshlab.net/)\n",
    "- [Blender](https://www.blender.org/download/), specifically with its [Stop-motion-OBJ](https://github.com/neverhood311/Stop-motion-OBJ) plugin to visualize time-series of .ply files.\n",
    "\n",
    "**Note:** Add a plugin to blender following [these instructions](https://docs.blender.org/manual/en/latest/editors/preferences/addons.html#rd-party-add-ons). "
   ]
  },
  {
   "cell_type": "markdown",
   "id": "4574779b-e0ec-48cb-a02b-c276ffe1e094",
   "metadata": {
    "tags": []
   },
   "source": [
    "## Set-up"
   ]
  },
  {
   "cell_type": "code",
   "execution_count": 1,
   "id": "1f9c9fc5-587c-4fc9-8423-0965f7b5fcb0",
   "metadata": {},
   "outputs": [
    {
     "name": "stdout",
     "output_type": "stream",
     "text": [
      "Working directory:  /home/nmiolane/code/my28brains\n",
      "Directory added to path:  /home/nmiolane/code\n"
     ]
    }
   ],
   "source": [
    "import os\n",
    "import subprocess\n",
    "\n",
    "gitroot_path = subprocess.check_output(\n",
    "    [\"git\", \"rev-parse\", \"--show-toplevel\"], universal_newlines=True\n",
    ")\n",
    "os.chdir(gitroot_path[:-1])\n",
    "print(\"Working directory: \", os.getcwd())\n",
    "\n",
    "import warnings\n",
    "\n",
    "warnings.filterwarnings(\"ignore\")\n",
    "\n",
    "import sys\n",
    "\n",
    "sys_dir = os.path.dirname(os.getcwd())\n",
    "sys.path.append(sys_dir)\n",
    "print(\"Directory added to path: \", sys_dir)"
   ]
  },
  {
   "cell_type": "markdown",
   "id": "9071036d-6740-4186-9021-b6f378157033",
   "metadata": {},
   "source": [
    "## Imports"
   ]
  },
  {
   "cell_type": "code",
   "execution_count": 10,
   "id": "e217377e-081b-4cd3-810a-6c97a21f002f",
   "metadata": {},
   "outputs": [
    {
     "name": "stdout",
     "output_type": "stream",
     "text": [
      "REGISTERED_MESHES_DIR:  /home/nmiolane/code/my28brains/data/registered_meshes\n"
     ]
    }
   ],
   "source": [
    "import glob\n",
    "from time import sleep\n",
    "\n",
    "import numpy as np\n",
    "import open3d as o3d\n",
    "import trimesh\n",
    "\n",
    "import my28brains.viz as viz\n",
    "\n",
    "REGISTERED_MESHES_DIR = os.path.join(os.getcwd(), \"data\", \"registered_meshes\")\n",
    "print(\"REGISTERED_MESHES_DIR: \", REGISTERED_MESHES_DIR)"
   ]
  },
  {
   "cell_type": "markdown",
   "id": "eca11ded-8639-409a-991d-82a1cfd84804",
   "metadata": {},
   "source": [
    "## Visualize one mesh"
   ]
  },
  {
   "cell_type": "code",
   "execution_count": 14,
   "id": "8915e0f4-ffe8-40d0-8ac8-0f53064da747",
   "metadata": {},
   "outputs": [
    {
     "name": "stdout",
     "output_type": "stream",
     "text": [
      "\u001b[1;33m[Open3D WARNING] GLFW Error: X11: Failed to open display :0\u001b[0;m\n",
      "\u001b[1;33m[Open3D WARNING] Failed to initialize GLFW\u001b[0;m\n",
      "\u001b[1;33m[Open3D WARNING] [DrawGeometries] Failed creating OpenGL window.\u001b[0;m\n"
     ]
    }
   ],
   "source": [
    "mesh_dir = REGISTERED_MESHES_DIR \n",
    "hemisphere = \"left\"\n",
    "structure_id = -1\n",
    "ses_id = \"03\"\n",
    "\n",
    "ply_path = os.path.join(REGISTERED_MESHES_DIR, f\"{hemisphere}_structure_{structure_id}_sub-01_ses-{ses_id}.ply\")\n",
    "mesh = o3d.io.read_triangle_mesh(ply_path)\n",
    "\n",
    "mesh.compute_vertex_normals()\n",
    "mesh.paint_uniform_color([1, 0.706, 0])\n",
    "\n",
    "o3d.visualization.draw_geometries([mesh])"
   ]
  },
  {
   "cell_type": "markdown",
   "id": "4950aa24-28ba-43ca-b147-57090e9959a4",
   "metadata": {},
   "source": [
    "## Create an animation with point clouds"
   ]
  },
  {
   "cell_type": "code",
   "execution_count": 16,
   "id": "79c0abc8-9f97-4987-9198-666f3c10f5f9",
   "metadata": {},
   "outputs": [
    {
     "name": "stdout",
     "output_type": "stream",
     "text": [
      "Found 27 ply files:\n",
      " ['/home/nmiolane/code/my28brains/data/registered_meshes/left_structure_-1_sub-01_ses-02.ply', '/home/nmiolane/code/my28brains/data/registered_meshes/left_structure_-1_sub-01_ses-03.ply', '/home/nmiolane/code/my28brains/data/registered_meshes/left_structure_-1_sub-01_ses-04.ply', '/home/nmiolane/code/my28brains/data/registered_meshes/left_structure_-1_sub-01_ses-05.ply', '/home/nmiolane/code/my28brains/data/registered_meshes/left_structure_-1_sub-01_ses-06.ply', '/home/nmiolane/code/my28brains/data/registered_meshes/left_structure_-1_sub-01_ses-07.ply', '/home/nmiolane/code/my28brains/data/registered_meshes/left_structure_-1_sub-01_ses-08.ply', '/home/nmiolane/code/my28brains/data/registered_meshes/left_structure_-1_sub-01_ses-09.ply', '/home/nmiolane/code/my28brains/data/registered_meshes/left_structure_-1_sub-01_ses-10.ply', '/home/nmiolane/code/my28brains/data/registered_meshes/left_structure_-1_sub-01_ses-11.ply', '/home/nmiolane/code/my28brains/data/registered_meshes/left_structure_-1_sub-01_ses-12.ply', '/home/nmiolane/code/my28brains/data/registered_meshes/left_structure_-1_sub-01_ses-14.ply', '/home/nmiolane/code/my28brains/data/registered_meshes/left_structure_-1_sub-01_ses-15.ply', '/home/nmiolane/code/my28brains/data/registered_meshes/left_structure_-1_sub-01_ses-16.ply', '/home/nmiolane/code/my28brains/data/registered_meshes/left_structure_-1_sub-01_ses-17.ply', '/home/nmiolane/code/my28brains/data/registered_meshes/left_structure_-1_sub-01_ses-18.ply', '/home/nmiolane/code/my28brains/data/registered_meshes/left_structure_-1_sub-01_ses-20.ply', '/home/nmiolane/code/my28brains/data/registered_meshes/left_structure_-1_sub-01_ses-21.ply', '/home/nmiolane/code/my28brains/data/registered_meshes/left_structure_-1_sub-01_ses-22.ply', '/home/nmiolane/code/my28brains/data/registered_meshes/left_structure_-1_sub-01_ses-23.ply', '/home/nmiolane/code/my28brains/data/registered_meshes/left_structure_-1_sub-01_ses-24.ply', '/home/nmiolane/code/my28brains/data/registered_meshes/left_structure_-1_sub-01_ses-25.ply', '/home/nmiolane/code/my28brains/data/registered_meshes/left_structure_-1_sub-01_ses-26.ply', '/home/nmiolane/code/my28brains/data/registered_meshes/left_structure_-1_sub-01_ses-27.ply', '/home/nmiolane/code/my28brains/data/registered_meshes/left_structure_-1_sub-01_ses-28.ply', '/home/nmiolane/code/my28brains/data/registered_meshes/left_structure_-1_sub-01_ses-29.ply', '/home/nmiolane/code/my28brains/data/registered_meshes/left_structure_-1_sub-01_ses-30.ply']\n",
      "\n",
      "\u001b[1;33m[Open3D WARNING] GLFW Error: X11: Failed to open display :0\u001b[0;m\n",
      "\u001b[1;33m[Open3D WARNING] Failed to initialize GLFW\u001b[0;m\n",
      "\u001b[1;33m[Open3D WARNING] GLFW Error: The GLFW library is not initialized\u001b[0;m\n",
      "\u001b[1;33m[Open3D WARNING] GLFW Error: The GLFW library is not initialized\u001b[0;m\n",
      "\u001b[1;33m[Open3D WARNING] GLFW Error: The GLFW library is not initialized\u001b[0;m\n",
      "\u001b[1;33m[Open3D WARNING] GLFW Error: The GLFW library is not initialized\u001b[0;m\n",
      "\u001b[1;33m[Open3D WARNING] GLFW Error: The GLFW library is not initialized\u001b[0;m\n",
      "\u001b[1;33m[Open3D WARNING] GLFW Error: The GLFW library is not initialized\u001b[0;m\n",
      "\u001b[1;33m[Open3D WARNING] GLFW Error: The GLFW library is not initialized\u001b[0;m\n",
      "\u001b[1;33m[Open3D WARNING] GLFW Error: The GLFW library is not initialized\u001b[0;m\n",
      "\u001b[1;33m[Open3D WARNING] GLFW Error: The GLFW library is not initialized\u001b[0;m\n",
      "\u001b[1;33m[Open3D WARNING] GLFW Error: The GLFW library is not initialized\u001b[0;m\n",
      "\u001b[1;33m[Open3D WARNING] GLFW Error: The GLFW library is not initialized\u001b[0;m\n",
      "\u001b[1;33m[Open3D WARNING] GLFW Error: The GLFW library is not initialized\u001b[0;m\n",
      "\u001b[1;33m[Open3D WARNING] GLFW Error: The GLFW library is not initialized\u001b[0;m\n",
      "\u001b[1;33m[Open3D WARNING] GLFW Error: The GLFW library is not initialized\u001b[0;m\n",
      "\u001b[1;33m[Open3D WARNING] GLFW Error: The GLFW library is not initialized\u001b[0;m\n",
      "\u001b[1;33m[Open3D WARNING] GLFW Error: The GLFW library is not initialized\u001b[0;m\n",
      "\u001b[1;33m[Open3D WARNING] GLFW Error: The GLFW library is not initialized\u001b[0;m\n",
      "\u001b[1;33m[Open3D WARNING] GLFW Error: The GLFW library is not initialized\u001b[0;m\n",
      "\u001b[1;33m[Open3D WARNING] GLFW Error: The GLFW library is not initialized\u001b[0;m\n",
      "\u001b[1;33m[Open3D WARNING] GLFW Error: The GLFW library is not initialized\u001b[0;m\n",
      "\u001b[1;33m[Open3D WARNING] GLFW Error: The GLFW library is not initialized\u001b[0;m\n",
      "\u001b[1;33m[Open3D WARNING] GLFW Error: The GLFW library is not initialized\u001b[0;m\n",
      "\u001b[1;33m[Open3D WARNING] GLFW Error: The GLFW library is not initialized\u001b[0;m\n",
      "\u001b[1;33m[Open3D WARNING] GLFW Error: The GLFW library is not initialized\u001b[0;m\n",
      "\u001b[1;33m[Open3D WARNING] GLFW Error: The GLFW library is not initialized\u001b[0;m\n",
      "\u001b[1;33m[Open3D WARNING] GLFW Error: The GLFW library is not initialized\u001b[0;m\n"
     ]
    }
   ],
   "source": [
    "hemisphere = \"left\"\n",
    "structure_id = -1\n",
    "mesh_dir = REGISTERED_MESHES_DIR \n",
    "\n",
    "string_base = os.path.join(\n",
    "    REGISTERED_MESHES_DIR, f\"{hemisphere}_structure_{structure_id}_sub-01_ses-**.ply\"\n",
    ")\n",
    "paths = sorted(glob.glob(string_base))\n",
    "\n",
    "print(f\"Found {len(paths)} ply files:\\n {paths}\\n\")\n",
    "\n",
    "vis = o3d.visualization.Visualizer()\n",
    "vis.create_window()\n",
    "\n",
    "pcd = o3d.io.read_point_cloud(paths[0])\n",
    "vis.add_geometry(pcd)\n",
    "vis.poll_events()\n",
    "vis.update_renderer()\n",
    "\n",
    "for path in paths[1:]:\n",
    "    sleep(1)\n",
    "    pcd.points = o3d.io.read_point_cloud(path).points\n",
    "    vis.update_geometry(pcd)\n",
    "    vis.poll_events()\n",
    "    vis.update_renderer()"
   ]
  },
  {
   "cell_type": "code",
   "execution_count": null,
   "id": "9ad2abdc-132a-44ef-9525-fae59d556922",
   "metadata": {},
   "outputs": [],
   "source": []
  }
 ],
 "metadata": {
  "kernelspec": {
   "display_name": "Python 3 (ipykernel)",
   "language": "python",
   "name": "python3"
  },
  "language_info": {
   "codemirror_mode": {
    "name": "ipython",
    "version": 3
   },
   "file_extension": ".py",
   "mimetype": "text/x-python",
   "name": "python",
   "nbconvert_exporter": "python",
   "pygments_lexer": "ipython3",
   "version": "3.9.12"
  }
 },
 "nbformat": 4,
 "nbformat_minor": 5
}
