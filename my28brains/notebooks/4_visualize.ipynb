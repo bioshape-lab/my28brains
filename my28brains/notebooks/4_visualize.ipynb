{
 "cells": [
  {
   "cell_type": "markdown",
   "id": "295ad663-a5f3-4174-8cf3-2ed04f83b05b",
   "metadata": {},
   "source": [
    "# Visualize 3D Time-Series of Meshes"
   ]
  },
  {
   "cell_type": "markdown",
   "id": "4574779b-e0ec-48cb-a02b-c276ffe1e094",
   "metadata": {},
   "source": [
    "## Set-up and Imports"
   ]
  },
  {
   "cell_type": "code",
   "execution_count": 1,
   "id": "1f9c9fc5-587c-4fc9-8423-0965f7b5fcb0",
   "metadata": {},
   "outputs": [
    {
     "name": "stdout",
     "output_type": "stream",
     "text": [
      "Working directory:  /home/nmiolane/code/my28brains\n"
     ]
    }
   ],
   "source": [
    "import os\n",
    "import subprocess\n",
    "\n",
    "gitroot_path = subprocess.check_output(\n",
    "    [\"git\", \"rev-parse\", \"--show-toplevel\"], universal_newlines=True\n",
    ")\n",
    "os.chdir(gitroot_path[:-1])\n",
    "print(\"Working directory: \", os.getcwd())\n",
    "\n",
    "import warnings\n",
    "\n",
    "warnings.filterwarnings(\"ignore\")\n",
    "\n",
    "import sys\n",
    "\n",
    "sys_dir = os.path.dirname(os.getcwd())\n",
    "sys.path.append(sys_dir)"
   ]
  },
  {
   "cell_type": "code",
   "execution_count": null,
   "id": "ce1f5937-de07-476a-800a-93e56f8ac4b1",
   "metadata": {},
   "outputs": [],
   "source": []
  },
  {
   "cell_type": "code",
   "execution_count": 2,
   "id": "e217377e-081b-4cd3-810a-6c97a21f002f",
   "metadata": {},
   "outputs": [
    {
     "name": "stdout",
     "output_type": "stream",
     "text": [
      "REGISTERED_MESHES_DIR:  /home/nmiolane/code/my28brains/data/registered_meshes\n"
     ]
    }
   ],
   "source": [
    "import glob\n",
    "\n",
    "import numpy as np\n",
    "import trimesh\n",
    "\n",
    "import my28brains.viz as viz\n",
    "\n",
    "REGISTERED_MESHES_DIR = os.path.join(os.getcwd(), \"data\", \"registered_meshes\")\n",
    "print(\"REGISTERED_MESHES_DIR: \", REGISTERED_MESHES_DIR)"
   ]
  },
  {
   "cell_type": "code",
   "execution_count": 3,
   "id": "e6a191c2-a4e1-4c48-8649-157fe9aa3ff9",
   "metadata": {},
   "outputs": [
    {
     "name": "stdout",
     "output_type": "stream",
     "text": [
      "Found 27 ply files.\n",
      "['/home/nmiolane/code/my28brains/data/registered_meshes/sub-01/ses-02/ashs/left_lfseg_corr_usegray_CT_LQ.ply', '/home/nmiolane/code/my28brains/data/registered_meshes/sub-01/ses-03/ashs/left_lfseg_corr_usegray_CT_LQ.ply', '/home/nmiolane/code/my28brains/data/registered_meshes/sub-01/ses-04/ashs/left_lfseg_corr_usegray_CT_LQ.ply', '/home/nmiolane/code/my28brains/data/registered_meshes/sub-01/ses-05/ashs/left_lfseg_corr_usegray_CT_LQ.ply', '/home/nmiolane/code/my28brains/data/registered_meshes/sub-01/ses-06/ashs/left_lfseg_corr_usegray_CT_LQ.ply', '/home/nmiolane/code/my28brains/data/registered_meshes/sub-01/ses-07/ashs/left_lfseg_corr_usegray_CT_LQ.ply', '/home/nmiolane/code/my28brains/data/registered_meshes/sub-01/ses-08/ashs/left_lfseg_corr_usegray_CT_LQ.ply', '/home/nmiolane/code/my28brains/data/registered_meshes/sub-01/ses-09/ashs/left_lfseg_corr_usegray_CT_LQ.ply', '/home/nmiolane/code/my28brains/data/registered_meshes/sub-01/ses-10/ashs/left_lfseg_corr_usegray_CT_LQ.ply', '/home/nmiolane/code/my28brains/data/registered_meshes/sub-01/ses-11/ashs/left_lfseg_corr_usegray_CT_LQ.ply', '/home/nmiolane/code/my28brains/data/registered_meshes/sub-01/ses-12/ashs/left_lfseg_corr_usegray_CT_LQ.ply', '/home/nmiolane/code/my28brains/data/registered_meshes/sub-01/ses-14/ashs/left_lfseg_corr_usegray_CT_LQ.ply', '/home/nmiolane/code/my28brains/data/registered_meshes/sub-01/ses-15/ashs/left_lfseg_corr_usegray_CT_LQ.ply', '/home/nmiolane/code/my28brains/data/registered_meshes/sub-01/ses-16/ashs/left_lfseg_corr_usegray_CT_LQ.ply', '/home/nmiolane/code/my28brains/data/registered_meshes/sub-01/ses-17/ashs/left_lfseg_corr_usegray_CT_LQ.ply', '/home/nmiolane/code/my28brains/data/registered_meshes/sub-01/ses-18/ashs/left_lfseg_corr_usegray_CT_LQ.ply', '/home/nmiolane/code/my28brains/data/registered_meshes/sub-01/ses-20/ashs/left_lfseg_corr_usegray_CT_LQ.ply', '/home/nmiolane/code/my28brains/data/registered_meshes/sub-01/ses-21/ashs/left_lfseg_corr_usegray_CT_LQ.ply', '/home/nmiolane/code/my28brains/data/registered_meshes/sub-01/ses-22/ashs/left_lfseg_corr_usegray_CT_LQ.ply', '/home/nmiolane/code/my28brains/data/registered_meshes/sub-01/ses-23/ashs/left_lfseg_corr_usegray_CT_LQ.ply', '/home/nmiolane/code/my28brains/data/registered_meshes/sub-01/ses-24/ashs/left_lfseg_corr_usegray_CT_LQ.ply', '/home/nmiolane/code/my28brains/data/registered_meshes/sub-01/ses-25/ashs/left_lfseg_corr_usegray_CT_LQ.ply', '/home/nmiolane/code/my28brains/data/registered_meshes/sub-01/ses-26/ashs/left_lfseg_corr_usegray_CT_LQ.ply', '/home/nmiolane/code/my28brains/data/registered_meshes/sub-01/ses-27/ashs/left_lfseg_corr_usegray_CT_LQ.ply', '/home/nmiolane/code/my28brains/data/registered_meshes/sub-01/ses-28/ashs/left_lfseg_corr_usegray_CT_LQ.ply', '/home/nmiolane/code/my28brains/data/registered_meshes/sub-01/ses-29/ashs/left_lfseg_corr_usegray_CT_LQ.ply', '/home/nmiolane/code/my28brains/data/registered_meshes/sub-01/ses-30/ashs/left_lfseg_corr_usegray_CT_LQ.ply']\n"
     ]
    }
   ],
   "source": [
    "hemisphere = \"left\"\n",
    "ply_suffix = f\"ashs/{hemisphere}_lfseg_corr_usegray_CT_LQ.ply\"\n",
    "string_base = os.path.join(REGISTERED_MESHES_DIR, f\"sub-01/ses-**/{ply_suffix}\")\n",
    "paths = sorted(glob.glob(string_base))\n",
    "\n",
    "print(f\"Found {len(paths)} ply files.\")\n",
    "print(paths)"
   ]
  },
  {
   "cell_type": "code",
   "execution_count": 4,
   "id": "5986526e-7acc-4f24-8482-6116f2714ad9",
   "metadata": {},
   "outputs": [],
   "source": [
    "geodesic = []\n",
    "base_mesh = trimesh.load(paths[0])\n",
    "faces = np.array(base_mesh.faces)\n",
    "\n",
    "# source = (base_mesh.vertices, base_mesh.faces)\n",
    "# target_mesh = trimesh.load(paths[4])\n",
    "# target = (target_mesh.vertices, target_mesh.faces)\n",
    "\n",
    "for path in paths[:5]:  ## TODO REPLACE\n",
    "    mesh = trimesh.load(path)\n",
    "    vertices = np.array(mesh.vertices)\n",
    "    geodesic.append(vertices)\n",
    "\n",
    "geodesic = tuple(geodesic)"
   ]
  },
  {
   "cell_type": "code",
   "execution_count": 5,
   "id": "a1689e7f-0ac5-4f48-9580-c414b5ea905c",
   "metadata": {},
   "outputs": [
    {
     "name": "stdout",
     "output_type": "stream",
     "text": [
      "\u001b[1;33m[Open3D WARNING] GLFW Error: X11: The DISPLAY environment variable is missing\u001b[0;m\n",
      "\u001b[1;33m[Open3D WARNING] Failed to initialize GLFW\u001b[0;m\n",
      "\u001b[1;33m[Open3D WARNING] [DrawGeometries] Failed creating OpenGL window.\u001b[0;m\n"
     ]
    }
   ],
   "source": [
    "viz.plotGeodesic(geodesic, faces)"
   ]
  },
  {
   "cell_type": "code",
   "execution_count": 6,
   "id": "912adeaa-c38b-45c9-bc74-8f6dbf920db0",
   "metadata": {},
   "outputs": [],
   "source": [
    "def plotGeodesic(\n",
    "    geod,\n",
    "    F,\n",
    "    source=None,\n",
    "    target=None,\n",
    "    file_name=None,\n",
    "    offsetstep=2.5,\n",
    "    stepsize=2,\n",
    "    axis=[0, 0, 1],\n",
    "    angle=-1 * np.pi / 2,\n",
    "):\n",
    "    \"\"\"Plot geodesic evolution after symmetric or asymmetric matching with the H2 metric and varifold relaxation.\n",
    "\n",
    "    Input:\n",
    "        - geod: geodesic path [tuple with tuple[k]=vertices of k^th surface in the geodesic stored as an nVx3 ndarray]\n",
    "        - F: faces for the mesh structure of the surfaces on the geodesic path [nFx3 ndarray]\n",
    "        - source [tuple with source[0]=vertices, source[1]=faces, default=None]\n",
    "        - target [tuple with target[0]=vertices, target[1]=faces, default=None]\n",
    "        - file_name: specified path for saving geodesic mesh [string, default=None]\n",
    "        - offsetstep: spacing between different geodesics on the plot [default=2.5]\n",
    "        - stepsize: spacing within a geodesic on the plot [default=2]\n",
    "        - axis: axis of rotation for each individual surface in the geodesic [default=[0,0,1]]\n",
    "        - angle: angle of rotation [default=-pi/2]\n",
    "    Output:\n",
    "        - Plot of geodesic with source (left), geodesic path (middle) and target (right)\n",
    "        - file_name.ply file containing geodesic mesh information (optional)\n",
    "    \"\"\""
   ]
  }
 ],
 "metadata": {
  "kernelspec": {
   "display_name": "Python 3 (ipykernel)",
   "language": "python",
   "name": "python3"
  },
  "language_info": {
   "codemirror_mode": {
    "name": "ipython",
    "version": 3
   },
   "file_extension": ".py",
   "mimetype": "text/x-python",
   "name": "python",
   "nbconvert_exporter": "python",
   "pygments_lexer": "ipython3",
   "version": "3.9.12"
  }
 },
 "nbformat": 4,
 "nbformat_minor": 5
}
