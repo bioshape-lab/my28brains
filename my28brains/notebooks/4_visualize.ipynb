{
 "cells": [
  {
   "cell_type": "markdown",
   "id": "295ad663-a5f3-4174-8cf3-2ed04f83b05b",
   "metadata": {},
   "source": [
    "# Visualize 3D Time-Series of Meshes"
   ]
  },
  {
   "cell_type": "markdown",
   "id": "a8a88891-05b3-481c-a3ad-2a5799eb1b2f",
   "metadata": {},
   "source": [
    "This notebook does not run on the server: run on your local machine."
   ]
  },
  {
   "cell_type": "markdown",
   "id": "4574779b-e0ec-48cb-a02b-c276ffe1e094",
   "metadata": {
    "tags": []
   },
   "source": [
    "## Set-up and Imports"
   ]
  },
  {
   "cell_type": "code",
   "execution_count": 1,
   "id": "1f9c9fc5-587c-4fc9-8423-0965f7b5fcb0",
   "metadata": {},
   "outputs": [
    {
     "name": "stdout",
     "output_type": "stream",
     "text": [
      "Working directory:  /Volumes/GoogleDrive/My Drive/code/my28brains\n"
     ]
    }
   ],
   "source": [
    "import os\n",
    "import subprocess\n",
    "\n",
    "gitroot_path = subprocess.check_output(\n",
    "    [\"git\", \"rev-parse\", \"--show-toplevel\"], universal_newlines=True\n",
    ")\n",
    "os.chdir(gitroot_path[:-1])\n",
    "print(\"Working directory: \", os.getcwd())\n",
    "\n",
    "import warnings\n",
    "\n",
    "warnings.filterwarnings(\"ignore\")\n",
    "\n",
    "import sys\n",
    "\n",
    "sys_dir = os.path.dirname(os.getcwd())\n",
    "sys.path.append(sys_dir)"
   ]
  },
  {
   "cell_type": "code",
   "execution_count": 2,
   "id": "e217377e-081b-4cd3-810a-6c97a21f002f",
   "metadata": {},
   "outputs": [
    {
     "name": "stdout",
     "output_type": "stream",
     "text": [
      "REGISTERED_MESHES_DIR:  /Volumes/GoogleDrive/My Drive/code/my28brains/data/registered_meshes\n"
     ]
    }
   ],
   "source": [
    "import glob\n",
    "import os\n",
    "from time import sleep\n",
    "\n",
    "import numpy as np\n",
    "import open3d as o3d\n",
    "import trimesh\n",
    "\n",
    "import my28brains.viz as viz\n",
    "\n",
    "REGISTERED_MESHES_DIR = os.path.join(os.getcwd(), \"data\", \"registered_meshes\")\n",
    "print(\"REGISTERED_MESHES_DIR: \", REGISTERED_MESHES_DIR)"
   ]
  },
  {
   "cell_type": "code",
   "execution_count": 3,
   "id": "ea676cbf-8fa6-4479-b7bb-fd289ed49cdc",
   "metadata": {},
   "outputs": [
    {
     "name": "stdout",
     "output_type": "stream",
     "text": [
      "Found 27 ply files.\n",
      "['/Volumes/GoogleDrive/My Drive/code/my28brains/data/registered_meshes/sub-01/ses-02/ashs/left_lfseg_corr_usegray_CT_LQ.ply', '/Volumes/GoogleDrive/My Drive/code/my28brains/data/registered_meshes/sub-01/ses-03/ashs/left_lfseg_corr_usegray_CT_LQ.ply', '/Volumes/GoogleDrive/My Drive/code/my28brains/data/registered_meshes/sub-01/ses-04/ashs/left_lfseg_corr_usegray_CT_LQ.ply', '/Volumes/GoogleDrive/My Drive/code/my28brains/data/registered_meshes/sub-01/ses-05/ashs/left_lfseg_corr_usegray_CT_LQ.ply', '/Volumes/GoogleDrive/My Drive/code/my28brains/data/registered_meshes/sub-01/ses-06/ashs/left_lfseg_corr_usegray_CT_LQ.ply', '/Volumes/GoogleDrive/My Drive/code/my28brains/data/registered_meshes/sub-01/ses-07/ashs/left_lfseg_corr_usegray_CT_LQ.ply', '/Volumes/GoogleDrive/My Drive/code/my28brains/data/registered_meshes/sub-01/ses-08/ashs/left_lfseg_corr_usegray_CT_LQ.ply', '/Volumes/GoogleDrive/My Drive/code/my28brains/data/registered_meshes/sub-01/ses-09/ashs/left_lfseg_corr_usegray_CT_LQ.ply', '/Volumes/GoogleDrive/My Drive/code/my28brains/data/registered_meshes/sub-01/ses-10/ashs/left_lfseg_corr_usegray_CT_LQ.ply', '/Volumes/GoogleDrive/My Drive/code/my28brains/data/registered_meshes/sub-01/ses-11/ashs/left_lfseg_corr_usegray_CT_LQ.ply', '/Volumes/GoogleDrive/My Drive/code/my28brains/data/registered_meshes/sub-01/ses-12/ashs/left_lfseg_corr_usegray_CT_LQ.ply', '/Volumes/GoogleDrive/My Drive/code/my28brains/data/registered_meshes/sub-01/ses-14/ashs/left_lfseg_corr_usegray_CT_LQ.ply', '/Volumes/GoogleDrive/My Drive/code/my28brains/data/registered_meshes/sub-01/ses-15/ashs/left_lfseg_corr_usegray_CT_LQ.ply', '/Volumes/GoogleDrive/My Drive/code/my28brains/data/registered_meshes/sub-01/ses-16/ashs/left_lfseg_corr_usegray_CT_LQ.ply', '/Volumes/GoogleDrive/My Drive/code/my28brains/data/registered_meshes/sub-01/ses-17/ashs/left_lfseg_corr_usegray_CT_LQ.ply', '/Volumes/GoogleDrive/My Drive/code/my28brains/data/registered_meshes/sub-01/ses-18/ashs/left_lfseg_corr_usegray_CT_LQ.ply', '/Volumes/GoogleDrive/My Drive/code/my28brains/data/registered_meshes/sub-01/ses-20/ashs/left_lfseg_corr_usegray_CT_LQ.ply', '/Volumes/GoogleDrive/My Drive/code/my28brains/data/registered_meshes/sub-01/ses-21/ashs/left_lfseg_corr_usegray_CT_LQ.ply', '/Volumes/GoogleDrive/My Drive/code/my28brains/data/registered_meshes/sub-01/ses-22/ashs/left_lfseg_corr_usegray_CT_LQ.ply', '/Volumes/GoogleDrive/My Drive/code/my28brains/data/registered_meshes/sub-01/ses-23/ashs/left_lfseg_corr_usegray_CT_LQ.ply', '/Volumes/GoogleDrive/My Drive/code/my28brains/data/registered_meshes/sub-01/ses-24/ashs/left_lfseg_corr_usegray_CT_LQ.ply', '/Volumes/GoogleDrive/My Drive/code/my28brains/data/registered_meshes/sub-01/ses-25/ashs/left_lfseg_corr_usegray_CT_LQ.ply', '/Volumes/GoogleDrive/My Drive/code/my28brains/data/registered_meshes/sub-01/ses-26/ashs/left_lfseg_corr_usegray_CT_LQ.ply', '/Volumes/GoogleDrive/My Drive/code/my28brains/data/registered_meshes/sub-01/ses-27/ashs/left_lfseg_corr_usegray_CT_LQ.ply', '/Volumes/GoogleDrive/My Drive/code/my28brains/data/registered_meshes/sub-01/ses-28/ashs/left_lfseg_corr_usegray_CT_LQ.ply', '/Volumes/GoogleDrive/My Drive/code/my28brains/data/registered_meshes/sub-01/ses-29/ashs/left_lfseg_corr_usegray_CT_LQ.ply', '/Volumes/GoogleDrive/My Drive/code/my28brains/data/registered_meshes/sub-01/ses-30/ashs/left_lfseg_corr_usegray_CT_LQ.ply']\n"
     ]
    }
   ],
   "source": [
    "hemisphere = \"left\"\n",
    "ply_suffix = f\"ashs/{hemisphere}_lfseg_corr_usegray_CT_LQ.ply\"\n",
    "string_base = os.path.join(REGISTERED_MESHES_DIR, f\"sub-01/ses-**/{ply_suffix}\")\n",
    "paths = sorted(glob.glob(string_base))\n",
    "\n",
    "print(f\"Found {len(paths)} ply files.\")\n",
    "print(paths)"
   ]
  },
  {
   "cell_type": "markdown",
   "id": "eca11ded-8639-409a-991d-82a1cfd84804",
   "metadata": {},
   "source": [
    "## Visualize one Mesh"
   ]
  },
  {
   "cell_type": "code",
   "execution_count": 4,
   "id": "8915e0f4-ffe8-40d0-8ac8-0f53064da747",
   "metadata": {},
   "outputs": [],
   "source": [
    "mesh = o3d.io.read_triangle_mesh(\n",
    "    os.path.join(REGISTERED_MESHES_DIR, f\"sub-01/ses-03/{ply_suffix}\")\n",
    ")\n",
    "mesh.compute_vertex_normals()\n",
    "mesh.paint_uniform_color([1, 0.706, 0])\n",
    "\n",
    "o3d.visualization.draw_geometries([mesh])"
   ]
  },
  {
   "cell_type": "markdown",
   "id": "4950aa24-28ba-43ca-b147-57090e9959a4",
   "metadata": {},
   "source": [
    "## Create an animation with point clouds"
   ]
  },
  {
   "cell_type": "code",
   "execution_count": 5,
   "id": "a90fb54b-4caf-4e12-aeef-eb081d902efc",
   "metadata": {},
   "outputs": [
    {
     "name": "stdout",
     "output_type": "stream",
     "text": [
      "Writing mesh at /Volumes/GoogleDrive/My Drive/code/my28brains/data/video/left_brain0.ply...\n",
      "Writing mesh at /Volumes/GoogleDrive/My Drive/code/my28brains/data/video/left_brain1.ply...\n",
      "Writing mesh at /Volumes/GoogleDrive/My Drive/code/my28brains/data/video/left_brain2.ply...\n",
      "Writing mesh at /Volumes/GoogleDrive/My Drive/code/my28brains/data/video/left_brain3.ply...\n",
      "Writing mesh at /Volumes/GoogleDrive/My Drive/code/my28brains/data/video/left_brain4.ply...\n",
      "Writing mesh at /Volumes/GoogleDrive/My Drive/code/my28brains/data/video/left_brain5.ply...\n",
      "Writing mesh at /Volumes/GoogleDrive/My Drive/code/my28brains/data/video/left_brain6.ply...\n",
      "Writing mesh at /Volumes/GoogleDrive/My Drive/code/my28brains/data/video/left_brain7.ply...\n",
      "Writing mesh at /Volumes/GoogleDrive/My Drive/code/my28brains/data/video/left_brain8.ply...\n",
      "Writing mesh at /Volumes/GoogleDrive/My Drive/code/my28brains/data/video/left_brain9.ply...\n",
      "Writing mesh at /Volumes/GoogleDrive/My Drive/code/my28brains/data/video/left_brain10.ply...\n",
      "Writing mesh at /Volumes/GoogleDrive/My Drive/code/my28brains/data/video/left_brain11.ply...\n",
      "Writing mesh at /Volumes/GoogleDrive/My Drive/code/my28brains/data/video/left_brain12.ply...\n",
      "Writing mesh at /Volumes/GoogleDrive/My Drive/code/my28brains/data/video/left_brain13.ply...\n",
      "Writing mesh at /Volumes/GoogleDrive/My Drive/code/my28brains/data/video/left_brain14.ply...\n",
      "Writing mesh at /Volumes/GoogleDrive/My Drive/code/my28brains/data/video/left_brain15.ply...\n",
      "Writing mesh at /Volumes/GoogleDrive/My Drive/code/my28brains/data/video/left_brain16.ply...\n",
      "Writing mesh at /Volumes/GoogleDrive/My Drive/code/my28brains/data/video/left_brain17.ply...\n",
      "Writing mesh at /Volumes/GoogleDrive/My Drive/code/my28brains/data/video/left_brain18.ply...\n",
      "Writing mesh at /Volumes/GoogleDrive/My Drive/code/my28brains/data/video/left_brain19.ply...\n",
      "Writing mesh at /Volumes/GoogleDrive/My Drive/code/my28brains/data/video/left_brain20.ply...\n",
      "Writing mesh at /Volumes/GoogleDrive/My Drive/code/my28brains/data/video/left_brain21.ply...\n",
      "Writing mesh at /Volumes/GoogleDrive/My Drive/code/my28brains/data/video/left_brain22.ply...\n",
      "Writing mesh at /Volumes/GoogleDrive/My Drive/code/my28brains/data/video/left_brain23.ply...\n",
      "Writing mesh at /Volumes/GoogleDrive/My Drive/code/my28brains/data/video/left_brain24.ply...\n",
      "Writing mesh at /Volumes/GoogleDrive/My Drive/code/my28brains/data/video/left_brain25.ply...\n",
      "Writing mesh at /Volumes/GoogleDrive/My Drive/code/my28brains/data/video/left_brain26.ply...\n"
     ]
    }
   ],
   "source": [
    "video_dir = os.path.join(os.getcwd(), \"data\", \"video\")\n",
    "if not os.path.exists(video_dir):\n",
    "    os.makedirs(video_dir)\n",
    "\n",
    "for i_path, path in enumerate(paths):  ## TODO REPLACE\n",
    "    mesh = trimesh.load(path)\n",
    "    ply_text = trimesh.exchange.ply.export_ply(mesh, encoding=\"ascii\")\n",
    "\n",
    "    ply_path = os.path.join(video_dir, f\"left_brain{i_path}.ply\")\n",
    "    print(f\"Writing mesh at {ply_path}...\")\n",
    "    with open(ply_path, \"wb\") as f:\n",
    "        f.write(ply_text)"
   ]
  },
  {
   "cell_type": "code",
   "execution_count": 6,
   "id": "ec271baa-152c-4bbb-bc5a-32dcde4fa96f",
   "metadata": {},
   "outputs": [],
   "source": [
    "video_dir = os.path.join(os.getcwd(), \"data\", \"video\")\n",
    "if not os.path.exists(video_dir):\n",
    "    os.makedirs(video_dir)\n",
    "\n",
    "vis = o3d.visualization.Visualizer()\n",
    "vis.create_window()\n",
    "\n",
    "pcd = o3d.io.read_point_cloud(os.path.join(video_dir, \"left_brain0.ply\"))\n",
    "vis.add_geometry(pcd)\n",
    "vis.poll_events()\n",
    "vis.update_renderer()\n",
    "\n",
    "for i in range(1, len(paths)):\n",
    "    sleep(1)\n",
    "    pcd.points = o3d.io.read_point_cloud(\n",
    "        os.path.join(video_dir, f\"left_brain{i}.ply\")\n",
    "    ).points\n",
    "    vis.update_geometry(pcd)\n",
    "    vis.poll_events()\n",
    "    vis.update_renderer()"
   ]
  }
 ],
 "metadata": {
  "kernelspec": {
   "display_name": "Python 3 (ipykernel)",
   "language": "python",
   "name": "python3"
  },
  "language_info": {
   "codemirror_mode": {
    "name": "ipython",
    "version": 3
   },
   "file_extension": ".py",
   "mimetype": "text/x-python",
   "name": "python",
   "nbconvert_exporter": "python",
   "pygments_lexer": "ipython3",
   "version": "3.9.15"
  }
 },
 "nbformat": 4,
 "nbformat_minor": 5
}
