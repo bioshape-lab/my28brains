{
 "cells": [
  {
   "cell_type": "code",
   "execution_count": 1,
   "id": "b034a8d5-91a0-46fd-860a-86dfcf7d5b5e",
   "metadata": {},
   "outputs": [
    {
     "name": "stdout",
     "output_type": "stream",
     "text": [
      "Working directory:  /home/nmiolane/code/my28brains/my28brains\n",
      "Directory added to path:  /home/nmiolane/code/my28brains\n",
      "Directory added to path:  /home/nmiolane/code/my28brains/my28brains\n"
     ]
    }
   ],
   "source": [
    "import setcwd\n",
    "\n",
    "setcwd.main()"
   ]
  },
  {
   "cell_type": "code",
   "execution_count": 2,
   "id": "8856059e-8238-4358-83e1-21278b8a4a86",
   "metadata": {},
   "outputs": [
    {
     "name": "stdout",
     "output_type": "stream",
     "text": [
      "Requirement already satisfied: plotly in /home/nmiolane/anaconda3/envs/my28brains/lib/python3.8/site-packages (5.12.0)\n",
      "Requirement already satisfied: tenacity>=6.2.0 in /home/nmiolane/anaconda3/envs/my28brains/lib/python3.8/site-packages (from plotly) (8.1.0)\n",
      "Requirement already satisfied: kaleido in /home/nmiolane/anaconda3/envs/my28brains/lib/python3.8/site-packages (0.2.1)\n",
      "\u001b[31mERROR: Could not find a version that satisfies the requirement plotly-orca==1.3.1 (from versions: none)\u001b[0m\u001b[31m\n",
      "\u001b[0m\u001b[31mERROR: No matching distribution found for plotly-orca==1.3.1\u001b[0m\u001b[31m\n",
      "\u001b[0m"
     ]
    }
   ],
   "source": []
  },
  {
   "cell_type": "code",
   "execution_count": 3,
   "id": "5ce03361-e82c-4dd3-bf21-ab21c3f2a762",
   "metadata": {
    "tags": []
   },
   "outputs": [],
   "source": [
    "import csv\n",
    "import os\n",
    "import subprocess\n",
    "\n",
    "import matplotlib.pyplot as plt\n",
    "import numpy as np\n",
    "import pandas as pd\n",
    "import plotly.io as pio\n",
    "from joblib import Parallel, delayed"
   ]
  },
  {
   "cell_type": "code",
   "execution_count": 4,
   "id": "d6a2fc37-778e-406e-a320-56036db01bfb",
   "metadata": {
    "tags": []
   },
   "outputs": [
    {
     "name": "stdout",
     "output_type": "stream",
     "text": [
      "df has length: 60 days\n"
     ]
    },
    {
     "data": {
      "text/html": [
       "<div>\n",
       "<style scoped>\n",
       "    .dataframe tbody tr th:only-of-type {\n",
       "        vertical-align: middle;\n",
       "    }\n",
       "\n",
       "    .dataframe tbody tr th {\n",
       "        vertical-align: top;\n",
       "    }\n",
       "\n",
       "    .dataframe thead th {\n",
       "        text-align: right;\n",
       "    }\n",
       "</style>\n",
       "<table border=\"1\" class=\"dataframe\">\n",
       "  <thead>\n",
       "    <tr style=\"text-align: right;\">\n",
       "      <th></th>\n",
       "      <th>dayID</th>\n",
       "      <th>Estro</th>\n",
       "      <th>Prog</th>\n",
       "      <th>Test</th>\n",
       "      <th>DHEAS</th>\n",
       "      <th>LH</th>\n",
       "      <th>FSH</th>\n",
       "      <th>SHBG</th>\n",
       "      <th>EthinylEstradiol</th>\n",
       "      <th>Levonorgestresl</th>\n",
       "      <th>CycleDay</th>\n",
       "    </tr>\n",
       "  </thead>\n",
       "  <tbody>\n",
       "    <tr>\n",
       "      <th>0</th>\n",
       "      <td>1</td>\n",
       "      <td>52.4</td>\n",
       "      <td>11.9</td>\n",
       "      <td>98.7</td>\n",
       "      <td>192.88</td>\n",
       "      <td>8.61</td>\n",
       "      <td>5.06</td>\n",
       "      <td>55.72</td>\n",
       "      <td>NaN</td>\n",
       "      <td>NaN</td>\n",
       "      <td>21</td>\n",
       "    </tr>\n",
       "    <tr>\n",
       "      <th>1</th>\n",
       "      <td>2</td>\n",
       "      <td>74.2</td>\n",
       "      <td>10.6</td>\n",
       "      <td>81.2</td>\n",
       "      <td>247.12</td>\n",
       "      <td>4.89</td>\n",
       "      <td>4.13</td>\n",
       "      <td>58.22</td>\n",
       "      <td>NaN</td>\n",
       "      <td>NaN</td>\n",
       "      <td>22</td>\n",
       "    </tr>\n",
       "    <tr>\n",
       "      <th>2</th>\n",
       "      <td>3</td>\n",
       "      <td>91.7</td>\n",
       "      <td>12.4</td>\n",
       "      <td>96.3</td>\n",
       "      <td>226.23</td>\n",
       "      <td>5.98</td>\n",
       "      <td>3.49</td>\n",
       "      <td>56.92</td>\n",
       "      <td>NaN</td>\n",
       "      <td>NaN</td>\n",
       "      <td>23</td>\n",
       "    </tr>\n",
       "    <tr>\n",
       "      <th>3</th>\n",
       "      <td>4</td>\n",
       "      <td>94.6</td>\n",
       "      <td>13.5</td>\n",
       "      <td>90.5</td>\n",
       "      <td>212.84</td>\n",
       "      <td>4.32</td>\n",
       "      <td>3.65</td>\n",
       "      <td>57.29</td>\n",
       "      <td>NaN</td>\n",
       "      <td>NaN</td>\n",
       "      <td>24</td>\n",
       "    </tr>\n",
       "    <tr>\n",
       "      <th>4</th>\n",
       "      <td>5</td>\n",
       "      <td>110.0</td>\n",
       "      <td>15.0</td>\n",
       "      <td>77.6</td>\n",
       "      <td>217.60</td>\n",
       "      <td>3.44</td>\n",
       "      <td>3.30</td>\n",
       "      <td>58.87</td>\n",
       "      <td>NaN</td>\n",
       "      <td>NaN</td>\n",
       "      <td>25</td>\n",
       "    </tr>\n",
       "  </tbody>\n",
       "</table>\n",
       "</div>"
      ],
      "text/plain": [
       "   dayID  Estro  Prog  Test   DHEAS    LH   FSH   SHBG EthinylEstradiol  \\\n",
       "0      1   52.4  11.9  98.7  192.88  8.61  5.06  55.72              NaN   \n",
       "1      2   74.2  10.6  81.2  247.12  4.89  4.13  58.22              NaN   \n",
       "2      3   91.7  12.4  96.3  226.23  5.98  3.49  56.92              NaN   \n",
       "3      4   94.6  13.5  90.5  212.84  4.32  3.65  57.29              NaN   \n",
       "4      5  110.0  15.0  77.6  217.60  3.44  3.30  58.87              NaN   \n",
       "\n",
       "   Levonorgestresl  CycleDay  \n",
       "0              NaN        21  \n",
       "1              NaN        22  \n",
       "2              NaN        23  \n",
       "3              NaN        24  \n",
       "4              NaN        25  "
      ]
     },
     "execution_count": 4,
     "metadata": {},
     "output_type": "execute_result"
    }
   ],
   "source": [
    "WORK_DIR = os.path.dirname(os.getcwd())\n",
    "DATA_PATH = os.path.join(WORK_DIR, \"data\", \"hormones.csv\")\n",
    "df = pd.read_csv(DATA_PATH, delimiter=\",\")\n",
    "print(f\"df has length: {len(df)} days\")\n",
    "df.head()"
   ]
  },
  {
   "cell_type": "markdown",
   "id": "536b20a9-d6f5-4e98-9a5b-cf2098c0e24c",
   "metadata": {},
   "source": [
    "# Animations\n"
   ]
  },
  {
   "cell_type": "code",
   "execution_count": 11,
   "id": "31604ddd-142d-4ef2-a789-40696e60756e",
   "metadata": {},
   "outputs": [],
   "source": [
    "HORMONES = {\"Estro\": \"Estrogen\", \"Prog\": \"Progesterone\", \"LH\": \"LH\", \"FSH\": \"FSH\"}\n",
    "COLORS = {\"Estro\": \"#1f77b4\", \"Prog\": \"#ff7f0e\", \"LH\": \"#2ca02c\", \"FSH\": \"#d62728\"}\n",
    "\n",
    "FIGS = os.path.join(os.getcwd(), \"notebooks\", \"figs\")"
   ]
  },
  {
   "cell_type": "code",
   "execution_count": 12,
   "id": "9795f4d4-d79c-49b1-a209-e56f3c55275a",
   "metadata": {},
   "outputs": [],
   "source": [
    "def plot_hormones(df, dayID, plot_type=\"dot\", hormones=HORMONES, savefig=False):\n",
    "\n",
    "    if plot_type == \"dot\":\n",
    "        df = df[df[\"dayID\"] < dayID]\n",
    "    times = df[\"dayID\"]\n",
    "\n",
    "    fig = plt.figure()\n",
    "    ax = fig.add_subplot(111)\n",
    "    for h in hormones:\n",
    "        ax.plot(times, df[h], label=HORMONES[h])\n",
    "\n",
    "    if dayID > 2:\n",
    "        if plot_type == \"dot\":\n",
    "            for h in hormones:\n",
    "                ax.scatter(times.values[-1], df[h].values[-1], s=100)\n",
    "\n",
    "    ax.set_xlim((0, 30))\n",
    "    ax.set_ylim(0, df[\"Estro\"].max() + 5)\n",
    "    ax.legend(loc=\"upper left\")\n",
    "    if savefig:\n",
    "        fig.savefig(f\"{FIGS}/plot_hormones_dot_pic{dayID:02d}.svg\")\n",
    "    return fig"
   ]
  },
  {
   "cell_type": "code",
   "execution_count": 13,
   "id": "9b3dfee7-2088-42eb-82f7-74399308bc3a",
   "metadata": {},
   "outputs": [],
   "source": [
    "# import plotly.graph_objects as go\n",
    "\n",
    "# def plotly_hormones(df, dayID, plot_type=\"dot\", hormones=HORMONES, savefig=False):\n",
    "#     if plot_type == \"dot\":\n",
    "#         df = df[df[\"dayID\"] < dayID]\n",
    "#     times = df[\"dayID\"]\n",
    "\n",
    "#     # Define custom colors for each hormone\n",
    "#     colors = {\n",
    "#         \"Hormone1\": \"blue\",\n",
    "#         \"Hormone2\": \"red\",\n",
    "#         \"Hormone3\": \"green\"\n",
    "#     }\n",
    "\n",
    "#     fig = go.Figure()\n",
    "\n",
    "#     # Add traces\n",
    "#     for h in hormones:\n",
    "#         fig.add_trace(go.Scatter(x=times, y=df[h], mode='lines+markers' if plot_type == \"dot\" else 'lines', name=HORMONES[h], marker=dict(color=colors[h])))\n",
    "\n",
    "#     # Add the last point with a larger marker size if dayID > 2 and plot_type is \"dot\"\n",
    "#     if dayID > 2 and plot_type == \"dot\":\n",
    "#         for h in hormones:\n",
    "#             fig.add_trace(go.Scatter(x=[times.values[-1]], y=[df[h].values[-1]], mode='markers', marker=dict(size=10, color=colors[h]), showlegend=False))\n",
    "\n",
    "#     # Set the axis labels and title\n",
    "#     fig.update_layout(\n",
    "#         xaxis_title=\"Day\",\n",
    "#         yaxis_title=\"Hormone Level\",\n",
    "#         title=\"Hormone Levels Over Time\",\n",
    "#         xaxis=dict(range=[0, 30]),\n",
    "#         yaxis=dict(range=[0, df[\"Estro\"].max()+5])\n",
    "#     )\n",
    "\n",
    "#     # Save the figure\n",
    "#     if savefig:\n",
    "#         fig.write_image(f\"{FIGS}/plot_hormones_dot_pic{dayID:02d}.svg\")\n",
    "\n",
    "#     # Show the figure\n",
    "#     fig.show()"
   ]
  },
  {
   "cell_type": "code",
   "execution_count": 123,
   "id": "e1dd2d97-2c18-44fb-909f-28f526a51690",
   "metadata": {},
   "outputs": [],
   "source": [
    "import kaleido\n",
    "import plotly.graph_objects as go\n",
    "\n",
    "\n",
    "def plotly_hormones(df, dayID, plot_type=\"dot\", hormones=HORMONES, ymax=None,savefig=False):\n",
    "    if ymax is None:\n",
    "        ymax = df[hormones].max().max() + 10\n",
    "    if plot_type == \"dot\":\n",
    "        df = df[df[\"dayID\"] < dayID]\n",
    "    times = df[\"dayID\"]\n",
    "\n",
    "    fig = go.Figure()\n",
    "\n",
    "    # Add traces\n",
    "    for h in hormones:\n",
    "        fig.add_trace(\n",
    "            go.Scatter(\n",
    "                x=times,\n",
    "                y=df[h],\n",
    "                mode=\"lines+markers\" if plot_type == \"dot\" else \"lines\",\n",
    "                name=HORMONES[h],\n",
    "                marker=dict(color=COLORS[h]),\n",
    "            )\n",
    "        )\n",
    "\n",
    "    # Add the last point with a larger marker size if dayID > 2 and plot_type is \"dot\"\n",
    "    if dayID > 1:\n",
    "        if plot_type == \"dot\":\n",
    "            for h in hormones:\n",
    "                fig.add_trace(\n",
    "                    go.Scatter(\n",
    "                        x=[times.values[-1]],\n",
    "                        y=[df[h].values[-1]],\n",
    "                        mode=\"markers\",\n",
    "                        marker=dict(size=10, color=COLORS[h]),\n",
    "                        showlegend=False,\n",
    "                    )\n",
    "                )\n",
    "    if plot_type == \"vertical_line\":\n",
    "        for h in hormones:\n",
    "            fig.add_trace(\n",
    "                go.Scatter(\n",
    "                    x=[times.values[dayID], times.values[dayID]],\n",
    "                    y=[0, ymax],\n",
    "                    mode=\"lines\",\n",
    "                    line=dict(color=\"black\"),\n",
    "                    showlegend=False,\n",
    "                )\n",
    "            )\n",
    "\n",
    "    # Set the axis labels and title\n",
    "    fig.update_layout(\n",
    "        xaxis_title=\"Day\",\n",
    "        yaxis_title=\"Hormone Level\",\n",
    "        #title={\"text\": \"Hormone Levels Over Time\", \"x\": 0.5, \"y\": 0.75, \"xanchor\": \"center\"},\n",
    "        xaxis=dict(range=[0, 30]),\n",
    "        yaxis=dict(range=[0, ymax]),\n",
    "        width=900,  # Adjust the width as needed\n",
    "        height=300  # Adjust the height as needed\n",
    "    )\n",
    "\n",
    "    # Save the figure\n",
    "    if savefig:\n",
    "        pio.write_image(fig, f\"{FIGS}/plotly_hormones_{dayID:02d}.png\", format=\"png\")\n",
    "\n",
    "    # Show the figure\n",
    "    fig.show()"
   ]
  },
  {
   "cell_type": "markdown",
   "id": "82b85399-683c-4be4-9269-173e25b4379f",
   "metadata": {},
   "source": [
    "We select the first 30 days to get the first (natural) cycle."
   ]
  },
  {
   "cell_type": "code",
   "execution_count": 124,
   "id": "753b7bcd-9bd3-4fcb-ab16-6f0cbcebae28",
   "metadata": {},
   "outputs": [
    {
     "name": "stdout",
     "output_type": "stream",
     "text": [
      "natural_cycle_df has length: 30 days.\n"
     ]
    }
   ],
   "source": [
    "natural_cycle_df = df[df[\"dayID\"] < 31]\n",
    "n_days = len(natural_cycle_df)\n",
    "print(f\"natural_cycle_df has length: {len(natural_cycle_df)} days.\")"
   ]
  },
  {
   "cell_type": "markdown",
   "id": "ac42b68d-871b-45e4-8564-10e4aef9dfdf",
   "metadata": {},
   "source": [
    "## Make the animation"
   ]
  },
  {
   "cell_type": "markdown",
   "id": "f3d7a60b-04a3-4ce4-8b65-51f92d028e72",
   "metadata": {},
   "source": [
    "Make one plot to check the design."
   ]
  },
  {
   "cell_type": "code",
   "execution_count": 130,
   "id": "fd20db13-c4e1-4a9e-8adb-b73e527332b6",
   "metadata": {},
   "outputs": [
    {
     "data": {
      "application/vnd.plotly.v1+json": {
       "config": {
        "plotlyServerURL": "https://plot.ly"
       },
       "data": [
        {
         "marker": {
          "color": "#ff7f0e"
         },
         "mode": "lines+markers",
         "name": "Progesterone",
         "type": "scatter",
         "x": [
          1,
          2,
          3,
          4
         ],
         "y": [
          11.9,
          10.6,
          12.4,
          13.5
         ]
        },
        {
         "marker": {
          "color": "#ff7f0e",
          "size": 10
         },
         "mode": "markers",
         "showlegend": false,
         "type": "scatter",
         "x": [
          4
         ],
         "y": [
          13.5
         ]
        }
       ],
       "layout": {
        "height": 300,
        "template": {
         "data": {
          "bar": [
           {
            "error_x": {
             "color": "#2a3f5f"
            },
            "error_y": {
             "color": "#2a3f5f"
            },
            "marker": {
             "line": {
              "color": "#E5ECF6",
              "width": 0.5
             },
             "pattern": {
              "fillmode": "overlay",
              "size": 10,
              "solidity": 0.2
             }
            },
            "type": "bar"
           }
          ],
          "barpolar": [
           {
            "marker": {
             "line": {
              "color": "#E5ECF6",
              "width": 0.5
             },
             "pattern": {
              "fillmode": "overlay",
              "size": 10,
              "solidity": 0.2
             }
            },
            "type": "barpolar"
           }
          ],
          "carpet": [
           {
            "aaxis": {
             "endlinecolor": "#2a3f5f",
             "gridcolor": "white",
             "linecolor": "white",
             "minorgridcolor": "white",
             "startlinecolor": "#2a3f5f"
            },
            "baxis": {
             "endlinecolor": "#2a3f5f",
             "gridcolor": "white",
             "linecolor": "white",
             "minorgridcolor": "white",
             "startlinecolor": "#2a3f5f"
            },
            "type": "carpet"
           }
          ],
          "choropleth": [
           {
            "colorbar": {
             "outlinewidth": 0,
             "ticks": ""
            },
            "type": "choropleth"
           }
          ],
          "contour": [
           {
            "colorbar": {
             "outlinewidth": 0,
             "ticks": ""
            },
            "colorscale": [
             [
              0,
              "#0d0887"
             ],
             [
              0.1111111111111111,
              "#46039f"
             ],
             [
              0.2222222222222222,
              "#7201a8"
             ],
             [
              0.3333333333333333,
              "#9c179e"
             ],
             [
              0.4444444444444444,
              "#bd3786"
             ],
             [
              0.5555555555555556,
              "#d8576b"
             ],
             [
              0.6666666666666666,
              "#ed7953"
             ],
             [
              0.7777777777777778,
              "#fb9f3a"
             ],
             [
              0.8888888888888888,
              "#fdca26"
             ],
             [
              1,
              "#f0f921"
             ]
            ],
            "type": "contour"
           }
          ],
          "contourcarpet": [
           {
            "colorbar": {
             "outlinewidth": 0,
             "ticks": ""
            },
            "type": "contourcarpet"
           }
          ],
          "heatmap": [
           {
            "colorbar": {
             "outlinewidth": 0,
             "ticks": ""
            },
            "colorscale": [
             [
              0,
              "#0d0887"
             ],
             [
              0.1111111111111111,
              "#46039f"
             ],
             [
              0.2222222222222222,
              "#7201a8"
             ],
             [
              0.3333333333333333,
              "#9c179e"
             ],
             [
              0.4444444444444444,
              "#bd3786"
             ],
             [
              0.5555555555555556,
              "#d8576b"
             ],
             [
              0.6666666666666666,
              "#ed7953"
             ],
             [
              0.7777777777777778,
              "#fb9f3a"
             ],
             [
              0.8888888888888888,
              "#fdca26"
             ],
             [
              1,
              "#f0f921"
             ]
            ],
            "type": "heatmap"
           }
          ],
          "heatmapgl": [
           {
            "colorbar": {
             "outlinewidth": 0,
             "ticks": ""
            },
            "colorscale": [
             [
              0,
              "#0d0887"
             ],
             [
              0.1111111111111111,
              "#46039f"
             ],
             [
              0.2222222222222222,
              "#7201a8"
             ],
             [
              0.3333333333333333,
              "#9c179e"
             ],
             [
              0.4444444444444444,
              "#bd3786"
             ],
             [
              0.5555555555555556,
              "#d8576b"
             ],
             [
              0.6666666666666666,
              "#ed7953"
             ],
             [
              0.7777777777777778,
              "#fb9f3a"
             ],
             [
              0.8888888888888888,
              "#fdca26"
             ],
             [
              1,
              "#f0f921"
             ]
            ],
            "type": "heatmapgl"
           }
          ],
          "histogram": [
           {
            "marker": {
             "pattern": {
              "fillmode": "overlay",
              "size": 10,
              "solidity": 0.2
             }
            },
            "type": "histogram"
           }
          ],
          "histogram2d": [
           {
            "colorbar": {
             "outlinewidth": 0,
             "ticks": ""
            },
            "colorscale": [
             [
              0,
              "#0d0887"
             ],
             [
              0.1111111111111111,
              "#46039f"
             ],
             [
              0.2222222222222222,
              "#7201a8"
             ],
             [
              0.3333333333333333,
              "#9c179e"
             ],
             [
              0.4444444444444444,
              "#bd3786"
             ],
             [
              0.5555555555555556,
              "#d8576b"
             ],
             [
              0.6666666666666666,
              "#ed7953"
             ],
             [
              0.7777777777777778,
              "#fb9f3a"
             ],
             [
              0.8888888888888888,
              "#fdca26"
             ],
             [
              1,
              "#f0f921"
             ]
            ],
            "type": "histogram2d"
           }
          ],
          "histogram2dcontour": [
           {
            "colorbar": {
             "outlinewidth": 0,
             "ticks": ""
            },
            "colorscale": [
             [
              0,
              "#0d0887"
             ],
             [
              0.1111111111111111,
              "#46039f"
             ],
             [
              0.2222222222222222,
              "#7201a8"
             ],
             [
              0.3333333333333333,
              "#9c179e"
             ],
             [
              0.4444444444444444,
              "#bd3786"
             ],
             [
              0.5555555555555556,
              "#d8576b"
             ],
             [
              0.6666666666666666,
              "#ed7953"
             ],
             [
              0.7777777777777778,
              "#fb9f3a"
             ],
             [
              0.8888888888888888,
              "#fdca26"
             ],
             [
              1,
              "#f0f921"
             ]
            ],
            "type": "histogram2dcontour"
           }
          ],
          "mesh3d": [
           {
            "colorbar": {
             "outlinewidth": 0,
             "ticks": ""
            },
            "type": "mesh3d"
           }
          ],
          "parcoords": [
           {
            "line": {
             "colorbar": {
              "outlinewidth": 0,
              "ticks": ""
             }
            },
            "type": "parcoords"
           }
          ],
          "pie": [
           {
            "automargin": true,
            "type": "pie"
           }
          ],
          "scatter": [
           {
            "fillpattern": {
             "fillmode": "overlay",
             "size": 10,
             "solidity": 0.2
            },
            "type": "scatter"
           }
          ],
          "scatter3d": [
           {
            "line": {
             "colorbar": {
              "outlinewidth": 0,
              "ticks": ""
             }
            },
            "marker": {
             "colorbar": {
              "outlinewidth": 0,
              "ticks": ""
             }
            },
            "type": "scatter3d"
           }
          ],
          "scattercarpet": [
           {
            "marker": {
             "colorbar": {
              "outlinewidth": 0,
              "ticks": ""
             }
            },
            "type": "scattercarpet"
           }
          ],
          "scattergeo": [
           {
            "marker": {
             "colorbar": {
              "outlinewidth": 0,
              "ticks": ""
             }
            },
            "type": "scattergeo"
           }
          ],
          "scattergl": [
           {
            "marker": {
             "colorbar": {
              "outlinewidth": 0,
              "ticks": ""
             }
            },
            "type": "scattergl"
           }
          ],
          "scattermapbox": [
           {
            "marker": {
             "colorbar": {
              "outlinewidth": 0,
              "ticks": ""
             }
            },
            "type": "scattermapbox"
           }
          ],
          "scatterpolar": [
           {
            "marker": {
             "colorbar": {
              "outlinewidth": 0,
              "ticks": ""
             }
            },
            "type": "scatterpolar"
           }
          ],
          "scatterpolargl": [
           {
            "marker": {
             "colorbar": {
              "outlinewidth": 0,
              "ticks": ""
             }
            },
            "type": "scatterpolargl"
           }
          ],
          "scatterternary": [
           {
            "marker": {
             "colorbar": {
              "outlinewidth": 0,
              "ticks": ""
             }
            },
            "type": "scatterternary"
           }
          ],
          "surface": [
           {
            "colorbar": {
             "outlinewidth": 0,
             "ticks": ""
            },
            "colorscale": [
             [
              0,
              "#0d0887"
             ],
             [
              0.1111111111111111,
              "#46039f"
             ],
             [
              0.2222222222222222,
              "#7201a8"
             ],
             [
              0.3333333333333333,
              "#9c179e"
             ],
             [
              0.4444444444444444,
              "#bd3786"
             ],
             [
              0.5555555555555556,
              "#d8576b"
             ],
             [
              0.6666666666666666,
              "#ed7953"
             ],
             [
              0.7777777777777778,
              "#fb9f3a"
             ],
             [
              0.8888888888888888,
              "#fdca26"
             ],
             [
              1,
              "#f0f921"
             ]
            ],
            "type": "surface"
           }
          ],
          "table": [
           {
            "cells": {
             "fill": {
              "color": "#EBF0F8"
             },
             "line": {
              "color": "white"
             }
            },
            "header": {
             "fill": {
              "color": "#C8D4E3"
             },
             "line": {
              "color": "white"
             }
            },
            "type": "table"
           }
          ]
         },
         "layout": {
          "annotationdefaults": {
           "arrowcolor": "#2a3f5f",
           "arrowhead": 0,
           "arrowwidth": 1
          },
          "autotypenumbers": "strict",
          "coloraxis": {
           "colorbar": {
            "outlinewidth": 0,
            "ticks": ""
           }
          },
          "colorscale": {
           "diverging": [
            [
             0,
             "#8e0152"
            ],
            [
             0.1,
             "#c51b7d"
            ],
            [
             0.2,
             "#de77ae"
            ],
            [
             0.3,
             "#f1b6da"
            ],
            [
             0.4,
             "#fde0ef"
            ],
            [
             0.5,
             "#f7f7f7"
            ],
            [
             0.6,
             "#e6f5d0"
            ],
            [
             0.7,
             "#b8e186"
            ],
            [
             0.8,
             "#7fbc41"
            ],
            [
             0.9,
             "#4d9221"
            ],
            [
             1,
             "#276419"
            ]
           ],
           "sequential": [
            [
             0,
             "#0d0887"
            ],
            [
             0.1111111111111111,
             "#46039f"
            ],
            [
             0.2222222222222222,
             "#7201a8"
            ],
            [
             0.3333333333333333,
             "#9c179e"
            ],
            [
             0.4444444444444444,
             "#bd3786"
            ],
            [
             0.5555555555555556,
             "#d8576b"
            ],
            [
             0.6666666666666666,
             "#ed7953"
            ],
            [
             0.7777777777777778,
             "#fb9f3a"
            ],
            [
             0.8888888888888888,
             "#fdca26"
            ],
            [
             1,
             "#f0f921"
            ]
           ],
           "sequentialminus": [
            [
             0,
             "#0d0887"
            ],
            [
             0.1111111111111111,
             "#46039f"
            ],
            [
             0.2222222222222222,
             "#7201a8"
            ],
            [
             0.3333333333333333,
             "#9c179e"
            ],
            [
             0.4444444444444444,
             "#bd3786"
            ],
            [
             0.5555555555555556,
             "#d8576b"
            ],
            [
             0.6666666666666666,
             "#ed7953"
            ],
            [
             0.7777777777777778,
             "#fb9f3a"
            ],
            [
             0.8888888888888888,
             "#fdca26"
            ],
            [
             1,
             "#f0f921"
            ]
           ]
          },
          "colorway": [
           "#636efa",
           "#EF553B",
           "#00cc96",
           "#ab63fa",
           "#FFA15A",
           "#19d3f3",
           "#FF6692",
           "#B6E880",
           "#FF97FF",
           "#FECB52"
          ],
          "font": {
           "color": "#2a3f5f"
          },
          "geo": {
           "bgcolor": "white",
           "lakecolor": "white",
           "landcolor": "#E5ECF6",
           "showlakes": true,
           "showland": true,
           "subunitcolor": "white"
          },
          "hoverlabel": {
           "align": "left"
          },
          "hovermode": "closest",
          "mapbox": {
           "style": "light"
          },
          "paper_bgcolor": "white",
          "plot_bgcolor": "#E5ECF6",
          "polar": {
           "angularaxis": {
            "gridcolor": "white",
            "linecolor": "white",
            "ticks": ""
           },
           "bgcolor": "#E5ECF6",
           "radialaxis": {
            "gridcolor": "white",
            "linecolor": "white",
            "ticks": ""
           }
          },
          "scene": {
           "xaxis": {
            "backgroundcolor": "#E5ECF6",
            "gridcolor": "white",
            "gridwidth": 2,
            "linecolor": "white",
            "showbackground": true,
            "ticks": "",
            "zerolinecolor": "white"
           },
           "yaxis": {
            "backgroundcolor": "#E5ECF6",
            "gridcolor": "white",
            "gridwidth": 2,
            "linecolor": "white",
            "showbackground": true,
            "ticks": "",
            "zerolinecolor": "white"
           },
           "zaxis": {
            "backgroundcolor": "#E5ECF6",
            "gridcolor": "white",
            "gridwidth": 2,
            "linecolor": "white",
            "showbackground": true,
            "ticks": "",
            "zerolinecolor": "white"
           }
          },
          "shapedefaults": {
           "line": {
            "color": "#2a3f5f"
           }
          },
          "ternary": {
           "aaxis": {
            "gridcolor": "white",
            "linecolor": "white",
            "ticks": ""
           },
           "baxis": {
            "gridcolor": "white",
            "linecolor": "white",
            "ticks": ""
           },
           "bgcolor": "#E5ECF6",
           "caxis": {
            "gridcolor": "white",
            "linecolor": "white",
            "ticks": ""
           }
          },
          "title": {
           "x": 0.05
          },
          "xaxis": {
           "automargin": true,
           "gridcolor": "white",
           "linecolor": "white",
           "ticks": "",
           "title": {
            "standoff": 15
           },
           "zerolinecolor": "white",
           "zerolinewidth": 2
          },
          "yaxis": {
           "automargin": true,
           "gridcolor": "white",
           "linecolor": "white",
           "ticks": "",
           "title": {
            "standoff": 15
           },
           "zerolinecolor": "white",
           "zerolinewidth": 2
          }
         }
        },
        "width": 900,
        "xaxis": {
         "range": [
          0,
          30
         ],
         "title": {
          "text": "Day"
         },
         "type": "linear"
        },
        "yaxis": {
         "range": [
          0,
          20.5
         ],
         "title": {
          "text": "Hormone Level"
         },
         "type": "linear"
        }
       }
      },
      "image/png": "[encoded data removed]",
      "text/html": [
       "<div>                            <div id=\"142467fe-a43c-4425-b0d2-c0155001730e\" class=\"plotly-graph-div\" style=\"height:300px; width:900px;\"></div>            <script type=\"text/javascript\">                require([\"plotly\"], function(Plotly) {                    window.PLOTLYENV=window.PLOTLYENV || {};                                    if (document.getElementById(\"142467fe-a43c-4425-b0d2-c0155001730e\")) {                    Plotly.newPlot(                        \"142467fe-a43c-4425-b0d2-c0155001730e\",                        [{\"marker\":{\"color\":\"#ff7f0e\"},\"mode\":\"lines+markers\",\"name\":\"Progesterone\",\"x\":[1,2,3,4],\"y\":[11.9,10.6,12.4,13.5],\"type\":\"scatter\"},{\"marker\":{\"color\":\"#ff7f0e\",\"size\":10},\"mode\":\"markers\",\"showlegend\":false,\"x\":[4],\"y\":[13.5],\"type\":\"scatter\"}],                        {\"template\":{\"data\":{\"histogram2dcontour\":[{\"type\":\"histogram2dcontour\",\"colorbar\":{\"outlinewidth\":0,\"ticks\":\"\"},\"colorscale\":[[0.0,\"#0d0887\"],[0.1111111111111111,\"#46039f\"],[0.2222222222222222,\"#7201a8\"],[0.3333333333333333,\"#9c179e\"],[0.4444444444444444,\"#bd3786\"],[0.5555555555555556,\"#d8576b\"],[0.6666666666666666,\"#ed7953\"],[0.7777777777777778,\"#fb9f3a\"],[0.8888888888888888,\"#fdca26\"],[1.0,\"#f0f921\"]]}],\"choropleth\":[{\"type\":\"choropleth\",\"colorbar\":{\"outlinewidth\":0,\"ticks\":\"\"}}],\"histogram2d\":[{\"type\":\"histogram2d\",\"colorbar\":{\"outlinewidth\":0,\"ticks\":\"\"},\"colorscale\":[[0.0,\"#0d0887\"],[0.1111111111111111,\"#46039f\"],[0.2222222222222222,\"#7201a8\"],[0.3333333333333333,\"#9c179e\"],[0.4444444444444444,\"#bd3786\"],[0.5555555555555556,\"#d8576b\"],[0.6666666666666666,\"#ed7953\"],[0.7777777777777778,\"#fb9f3a\"],[0.8888888888888888,\"#fdca26\"],[1.0,\"#f0f921\"]]}],\"heatmap\":[{\"type\":\"heatmap\",\"colorbar\":{\"outlinewidth\":0,\"ticks\":\"\"},\"colorscale\":[[0.0,\"#0d0887\"],[0.1111111111111111,\"#46039f\"],[0.2222222222222222,\"#7201a8\"],[0.3333333333333333,\"#9c179e\"],[0.4444444444444444,\"#bd3786\"],[0.5555555555555556,\"#d8576b\"],[0.6666666666666666,\"#ed7953\"],[0.7777777777777778,\"#fb9f3a\"],[0.8888888888888888,\"#fdca26\"],[1.0,\"#f0f921\"]]}],\"heatmapgl\":[{\"type\":\"heatmapgl\",\"colorbar\":{\"outlinewidth\":0,\"ticks\":\"\"},\"colorscale\":[[0.0,\"#0d0887\"],[0.1111111111111111,\"#46039f\"],[0.2222222222222222,\"#7201a8\"],[0.3333333333333333,\"#9c179e\"],[0.4444444444444444,\"#bd3786\"],[0.5555555555555556,\"#d8576b\"],[0.6666666666666666,\"#ed7953\"],[0.7777777777777778,\"#fb9f3a\"],[0.8888888888888888,\"#fdca26\"],[1.0,\"#f0f921\"]]}],\"contourcarpet\":[{\"type\":\"contourcarpet\",\"colorbar\":{\"outlinewidth\":0,\"ticks\":\"\"}}],\"contour\":[{\"type\":\"contour\",\"colorbar\":{\"outlinewidth\":0,\"ticks\":\"\"},\"colorscale\":[[0.0,\"#0d0887\"],[0.1111111111111111,\"#46039f\"],[0.2222222222222222,\"#7201a8\"],[0.3333333333333333,\"#9c179e\"],[0.4444444444444444,\"#bd3786\"],[0.5555555555555556,\"#d8576b\"],[0.6666666666666666,\"#ed7953\"],[0.7777777777777778,\"#fb9f3a\"],[0.8888888888888888,\"#fdca26\"],[1.0,\"#f0f921\"]]}],\"surface\":[{\"type\":\"surface\",\"colorbar\":{\"outlinewidth\":0,\"ticks\":\"\"},\"colorscale\":[[0.0,\"#0d0887\"],[0.1111111111111111,\"#46039f\"],[0.2222222222222222,\"#7201a8\"],[0.3333333333333333,\"#9c179e\"],[0.4444444444444444,\"#bd3786\"],[0.5555555555555556,\"#d8576b\"],[0.6666666666666666,\"#ed7953\"],[0.7777777777777778,\"#fb9f3a\"],[0.8888888888888888,\"#fdca26\"],[1.0,\"#f0f921\"]]}],\"mesh3d\":[{\"type\":\"mesh3d\",\"colorbar\":{\"outlinewidth\":0,\"ticks\":\"\"}}],\"scatter\":[{\"fillpattern\":{\"fillmode\":\"overlay\",\"size\":10,\"solidity\":0.2},\"type\":\"scatter\"}],\"parcoords\":[{\"type\":\"parcoords\",\"line\":{\"colorbar\":{\"outlinewidth\":0,\"ticks\":\"\"}}}],\"scatterpolargl\":[{\"type\":\"scatterpolargl\",\"marker\":{\"colorbar\":{\"outlinewidth\":0,\"ticks\":\"\"}}}],\"bar\":[{\"error_x\":{\"color\":\"#2a3f5f\"},\"error_y\":{\"color\":\"#2a3f5f\"},\"marker\":{\"line\":{\"color\":\"#E5ECF6\",\"width\":0.5},\"pattern\":{\"fillmode\":\"overlay\",\"size\":10,\"solidity\":0.2}},\"type\":\"bar\"}],\"scattergeo\":[{\"type\":\"scattergeo\",\"marker\":{\"colorbar\":{\"outlinewidth\":0,\"ticks\":\"\"}}}],\"scatterpolar\":[{\"type\":\"scatterpolar\",\"marker\":{\"colorbar\":{\"outlinewidth\":0,\"ticks\":\"\"}}}],\"histogram\":[{\"marker\":{\"pattern\":{\"fillmode\":\"overlay\",\"size\":10,\"solidity\":0.2}},\"type\":\"histogram\"}],\"scattergl\":[{\"type\":\"scattergl\",\"marker\":{\"colorbar\":{\"outlinewidth\":0,\"ticks\":\"\"}}}],\"scatter3d\":[{\"type\":\"scatter3d\",\"line\":{\"colorbar\":{\"outlinewidth\":0,\"ticks\":\"\"}},\"marker\":{\"colorbar\":{\"outlinewidth\":0,\"ticks\":\"\"}}}],\"scattermapbox\":[{\"type\":\"scattermapbox\",\"marker\":{\"colorbar\":{\"outlinewidth\":0,\"ticks\":\"\"}}}],\"scatterternary\":[{\"type\":\"scatterternary\",\"marker\":{\"colorbar\":{\"outlinewidth\":0,\"ticks\":\"\"}}}],\"scattercarpet\":[{\"type\":\"scattercarpet\",\"marker\":{\"colorbar\":{\"outlinewidth\":0,\"ticks\":\"\"}}}],\"carpet\":[{\"aaxis\":{\"endlinecolor\":\"#2a3f5f\",\"gridcolor\":\"white\",\"linecolor\":\"white\",\"minorgridcolor\":\"white\",\"startlinecolor\":\"#2a3f5f\"},\"baxis\":{\"endlinecolor\":\"#2a3f5f\",\"gridcolor\":\"white\",\"linecolor\":\"white\",\"minorgridcolor\":\"white\",\"startlinecolor\":\"#2a3f5f\"},\"type\":\"carpet\"}],\"table\":[{\"cells\":{\"fill\":{\"color\":\"#EBF0F8\"},\"line\":{\"color\":\"white\"}},\"header\":{\"fill\":{\"color\":\"#C8D4E3\"},\"line\":{\"color\":\"white\"}},\"type\":\"table\"}],\"barpolar\":[{\"marker\":{\"line\":{\"color\":\"#E5ECF6\",\"width\":0.5},\"pattern\":{\"fillmode\":\"overlay\",\"size\":10,\"solidity\":0.2}},\"type\":\"barpolar\"}],\"pie\":[{\"automargin\":true,\"type\":\"pie\"}]},\"layout\":{\"autotypenumbers\":\"strict\",\"colorway\":[\"#636efa\",\"#EF553B\",\"#00cc96\",\"#ab63fa\",\"#FFA15A\",\"#19d3f3\",\"#FF6692\",\"#B6E880\",\"#FF97FF\",\"#FECB52\"],\"font\":{\"color\":\"#2a3f5f\"},\"hovermode\":\"closest\",\"hoverlabel\":{\"align\":\"left\"},\"paper_bgcolor\":\"white\",\"plot_bgcolor\":\"#E5ECF6\",\"polar\":{\"bgcolor\":\"#E5ECF6\",\"angularaxis\":{\"gridcolor\":\"white\",\"linecolor\":\"white\",\"ticks\":\"\"},\"radialaxis\":{\"gridcolor\":\"white\",\"linecolor\":\"white\",\"ticks\":\"\"}},\"ternary\":{\"bgcolor\":\"#E5ECF6\",\"aaxis\":{\"gridcolor\":\"white\",\"linecolor\":\"white\",\"ticks\":\"\"},\"baxis\":{\"gridcolor\":\"white\",\"linecolor\":\"white\",\"ticks\":\"\"},\"caxis\":{\"gridcolor\":\"white\",\"linecolor\":\"white\",\"ticks\":\"\"}},\"coloraxis\":{\"colorbar\":{\"outlinewidth\":0,\"ticks\":\"\"}},\"colorscale\":{\"sequential\":[[0.0,\"#0d0887\"],[0.1111111111111111,\"#46039f\"],[0.2222222222222222,\"#7201a8\"],[0.3333333333333333,\"#9c179e\"],[0.4444444444444444,\"#bd3786\"],[0.5555555555555556,\"#d8576b\"],[0.6666666666666666,\"#ed7953\"],[0.7777777777777778,\"#fb9f3a\"],[0.8888888888888888,\"#fdca26\"],[1.0,\"#f0f921\"]],\"sequentialminus\":[[0.0,\"#0d0887\"],[0.1111111111111111,\"#46039f\"],[0.2222222222222222,\"#7201a8\"],[0.3333333333333333,\"#9c179e\"],[0.4444444444444444,\"#bd3786\"],[0.5555555555555556,\"#d8576b\"],[0.6666666666666666,\"#ed7953\"],[0.7777777777777778,\"#fb9f3a\"],[0.8888888888888888,\"#fdca26\"],[1.0,\"#f0f921\"]],\"diverging\":[[0,\"#8e0152\"],[0.1,\"#c51b7d\"],[0.2,\"#de77ae\"],[0.3,\"#f1b6da\"],[0.4,\"#fde0ef\"],[0.5,\"#f7f7f7\"],[0.6,\"#e6f5d0\"],[0.7,\"#b8e186\"],[0.8,\"#7fbc41\"],[0.9,\"#4d9221\"],[1,\"#276419\"]]},\"xaxis\":{\"gridcolor\":\"white\",\"linecolor\":\"white\",\"ticks\":\"\",\"title\":{\"standoff\":15},\"zerolinecolor\":\"white\",\"automargin\":true,\"zerolinewidth\":2},\"yaxis\":{\"gridcolor\":\"white\",\"linecolor\":\"white\",\"ticks\":\"\",\"title\":{\"standoff\":15},\"zerolinecolor\":\"white\",\"automargin\":true,\"zerolinewidth\":2},\"scene\":{\"xaxis\":{\"backgroundcolor\":\"#E5ECF6\",\"gridcolor\":\"white\",\"linecolor\":\"white\",\"showbackground\":true,\"ticks\":\"\",\"zerolinecolor\":\"white\",\"gridwidth\":2},\"yaxis\":{\"backgroundcolor\":\"#E5ECF6\",\"gridcolor\":\"white\",\"linecolor\":\"white\",\"showbackground\":true,\"ticks\":\"\",\"zerolinecolor\":\"white\",\"gridwidth\":2},\"zaxis\":{\"backgroundcolor\":\"#E5ECF6\",\"gridcolor\":\"white\",\"linecolor\":\"white\",\"showbackground\":true,\"ticks\":\"\",\"zerolinecolor\":\"white\",\"gridwidth\":2}},\"shapedefaults\":{\"line\":{\"color\":\"#2a3f5f\"}},\"annotationdefaults\":{\"arrowcolor\":\"#2a3f5f\",\"arrowhead\":0,\"arrowwidth\":1},\"geo\":{\"bgcolor\":\"white\",\"landcolor\":\"#E5ECF6\",\"subunitcolor\":\"white\",\"showland\":true,\"showlakes\":true,\"lakecolor\":\"white\"},\"title\":{\"x\":0.05},\"mapbox\":{\"style\":\"light\"}}},\"xaxis\":{\"title\":{\"text\":\"Day\"},\"range\":[0,30]},\"yaxis\":{\"title\":{\"text\":\"Hormone Level\"},\"range\":[0,20.5]},\"width\":900,\"height\":300},                        {\"responsive\": true}                    ).then(function(){\n",
       "                            \n",
       "var gd = document.getElementById('142467fe-a43c-4425-b0d2-c0155001730e');\n",
       "var x = new MutationObserver(function (mutations, observer) {{\n",
       "        var display = window.getComputedStyle(gd).display;\n",
       "        if (!display || display === 'none') {{\n",
       "            console.log([gd, 'removed!']);\n",
       "            Plotly.purge(gd);\n",
       "            observer.disconnect();\n",
       "        }}\n",
       "}});\n",
       "\n",
       "// Listen for the removal of the full notebook cells\n",
       "var notebookContainer = gd.closest('#notebook-container');\n",
       "if (notebookContainer) {{\n",
       "    x.observe(notebookContainer, {childList: true});\n",
       "}}\n",
       "\n",
       "// Listen for the clearing of the current output cell\n",
       "var outputEl = gd.closest('.output');\n",
       "if (outputEl) {{\n",
       "    x.observe(outputEl, {childList: true});\n",
       "}}\n",
       "\n",
       "                        })                };                });            </script>        </div>"
      ]
     },
     "metadata": {},
     "output_type": "display_data"
    }
   ],
   "source": [
    "_ = plotly_hormones(\n",
    "    natural_cycle_df,\n",
    "    dayID=5,\n",
    "    plot_type=\"dot\",\n",
    "    hormones=[\"Prog\"],\n",
    "    ymax= natural_cycle_df[\"Prog\"].max()+5,\n",
    "    savefig=True,\n",
    ")"
   ]
  },
  {
   "cell_type": "markdown",
   "id": "e7e55ee5-8ed5-4a84-b0b2-e005cdf191f6",
   "metadata": {},
   "source": [
    "Make all plots to create the many .pngs."
   ]
  },
  {
   "cell_type": "code",
   "execution_count": 131,
   "id": "32c889eb-7012-4a51-a091-6465f453a6bf",
   "metadata": {},
   "outputs": [
    {
     "data": {
      "text/plain": [
       "[None,\n",
       " None,\n",
       " None,\n",
       " None,\n",
       " None,\n",
       " None,\n",
       " None,\n",
       " None,\n",
       " None,\n",
       " None,\n",
       " None,\n",
       " None,\n",
       " None,\n",
       " None,\n",
       " None,\n",
       " None,\n",
       " None,\n",
       " None,\n",
       " None,\n",
       " None,\n",
       " None,\n",
       " None,\n",
       " None,\n",
       " None,\n",
       " None,\n",
       " None,\n",
       " None,\n",
       " None,\n",
       " None]"
      ]
     },
     "execution_count": 131,
     "metadata": {},
     "output_type": "execute_result"
    }
   ],
   "source": [
    "def plot_all(i):\n",
    "    plotly_hormones(\n",
    "    natural_cycle_df,\n",
    "    dayID=i,\n",
    "    plot_type=\"dot\",\n",
    "    hormones=[\"Prog\"],\n",
    "    ymax= natural_cycle_df[\"Prog\"].max()+5,\n",
    "    savefig=True,\n",
    ")\n",
    "\n",
    "Parallel(n_jobs=-1)(delayed(plot_all)(i) for i in range(1,n_days))"
   ]
  },
  {
   "cell_type": "markdown",
   "id": "d33957c2-3444-46ca-b3c3-21a38d322c3b",
   "metadata": {},
   "source": [
    "## Use ffmpeg to make the animation"
   ]
  },
  {
   "cell_type": "code",
   "execution_count": 132,
   "id": "f3797b5d-628c-4ed9-9a31-699a0f6bb47b",
   "metadata": {},
   "outputs": [
    {
     "data": {
      "text/plain": [
       "'/home/nmiolane/code/my28brains/my28brains/notebooks/figs'"
      ]
     },
     "execution_count": 132,
     "metadata": {},
     "output_type": "execute_result"
    }
   ],
   "source": [
    "FIGS"
   ]
  },
  {
   "cell_type": "code",
   "execution_count": 134,
   "id": "06832e6f-82fa-476c-acf7-80fc28caf297",
   "metadata": {},
   "outputs": [
    {
     "name": "stdout",
     "output_type": "stream",
     "text": [
      "ffmpeg version 4.4.2-0ubuntu0.22.04.1 Copyright (c) 2000-2021 the FFmpeg developers\n",
      "  built with gcc 11 (Ubuntu 11.2.0-19ubuntu1)\n",
      "  configuration: --prefix=/usr --extra-version=0ubuntu0.22.04.1 --toolchain=hardened --libdir=/usr/lib/x86_64-linux-gnu --incdir=/usr/include/x86_64-linux-gnu --arch=amd64 --enable-gpl --disable-stripping --enable-gnutls --enable-ladspa --enable-libaom --enable-libass --enable-libbluray --enable-libbs2b --enable-libcaca --enable-libcdio --enable-libcodec2 --enable-libdav1d --enable-libflite --enable-libfontconfig --enable-libfreetype --enable-libfribidi --enable-libgme --enable-libgsm --enable-libjack --enable-libmp3lame --enable-libmysofa --enable-libopenjpeg --enable-libopenmpt --enable-libopus --enable-libpulse --enable-librabbitmq --enable-librubberband --enable-libshine --enable-libsnappy --enable-libsoxr --enable-libspeex --enable-libsrt --enable-libssh --enable-libtheora --enable-libtwolame --enable-libvidstab --enable-libvorbis --enable-libvpx --enable-libwebp --enable-libx265 --enable-libxml2 --enable-libxvid --enable-libzimg --enable-libzmq --enable-libzvbi --enable-lv2 --enable-omx --enable-openal --enable-opencl --enable-opengl --enable-sdl2 --enable-pocketsphinx --enable-librsvg --enable-libmfx --enable-libdc1394 --enable-libdrm --enable-libiec61883 --enable-chromaprint --enable-frei0r --enable-libx264 --enable-shared\n",
      "  libavutil      56. 70.100 / 56. 70.100\n",
      "  libavcodec     58.134.100 / 58.134.100\n",
      "  libavformat    58. 76.100 / 58. 76.100\n",
      "  libavdevice    58. 13.100 / 58. 13.100\n",
      "  libavfilter     7.110.100 /  7.110.100\n",
      "  libswscale      5.  9.100 /  5.  9.100\n",
      "  libswresample   3.  9.100 /  3.  9.100\n",
      "  libpostproc    55.  9.100 / 55.  9.100\n",
      "Input #0, image2, from '/home/nmiolane/code/my28brains/my28brains/notebooks/figs/plotly_hormones_*.png':\n",
      "  Duration: 00:00:02.90, start: 0.000000, bitrate: N/A\n",
      "  Stream #0:0: Video: png, rgba(pc), 900x300, 10 fps, 10 tbr, 10 tbn, 10 tbc\n",
      "Stream mapping:\n",
      "  Stream #0:0 -> #0:0 (png (native) -> png (native))\n",
      "Press [q] to stop, [?] for help\n",
      "\u001b[1;32m[Parsed_palettegen_0 @ 0x55baf3dbedc0] \u001b[0m255(+1) colors generated out of 813 colors; ratio=0.313653\n",
      "\u001b[1;32m[Parsed_palettegen_0 @ 0x55baf3dbedc0] \u001b[0m\u001b[0;33mDupped color: FFD3D8DE\n",
      "\u001b[0m\u001b[1;32m[Parsed_palettegen_0 @ 0x55baf3dbedc0] \u001b[0m\u001b[0;33mDupped color: FFF2B179\n",
      "\u001b[0m\u001b[1;32m[Parsed_palettegen_0 @ 0x55baf3dbedc0] \u001b[0m\u001b[0;33mDupped color: FFF2F3F5\n",
      "\u001b[0mOutput #0, image2, to 'palette.png':\n",
      "  Metadata:\n",
      "    encoder         : Lavf58.76.100\n",
      "  Stream #0:0: Video: png, rgba(pc, gbr/unknown/unknown, progressive), 16x16 [SAR 1:1 DAR 1:1], q=2-31, 200 kb/s, 10 fps, 10 tbn\n",
      "    Metadata:\n",
      "      encoder         : Lavc58.134.100 png\n",
      "frame=    1 fps=0.0 q=-0.0 Lsize=N/A time=00:00:00.10 bitrate=N/A speed=2.04x    \n",
      "video:1kB audio:0kB subtitle:0kB other streams:0kB global headers:0kB muxing overhead: unknown\n"
     ]
    }
   ],
   "source": [
    "!ffmpeg -framerate 10 -pattern_type glob -i '/home/nmiolane/code/my28brains/my28brains/notebooks/figs/plotly_hormones_*.png' -vf palettegen palette.png"
   ]
  },
  {
   "cell_type": "code",
   "execution_count": 135,
   "id": "7a4786de-d698-4e33-88b2-85ae37dec55d",
   "metadata": {},
   "outputs": [
    {
     "name": "stdout",
     "output_type": "stream",
     "text": [
      "ffmpeg version 4.4.2-0ubuntu0.22.04.1 Copyright (c) 2000-2021 the FFmpeg developers\n",
      "  built with gcc 11 (Ubuntu 11.2.0-19ubuntu1)\n",
      "  configuration: --prefix=/usr --extra-version=0ubuntu0.22.04.1 --toolchain=hardened --libdir=/usr/lib/x86_64-linux-gnu --incdir=/usr/include/x86_64-linux-gnu --arch=amd64 --enable-gpl --disable-stripping --enable-gnutls --enable-ladspa --enable-libaom --enable-libass --enable-libbluray --enable-libbs2b --enable-libcaca --enable-libcdio --enable-libcodec2 --enable-libdav1d --enable-libflite --enable-libfontconfig --enable-libfreetype --enable-libfribidi --enable-libgme --enable-libgsm --enable-libjack --enable-libmp3lame --enable-libmysofa --enable-libopenjpeg --enable-libopenmpt --enable-libopus --enable-libpulse --enable-librabbitmq --enable-librubberband --enable-libshine --enable-libsnappy --enable-libsoxr --enable-libspeex --enable-libsrt --enable-libssh --enable-libtheora --enable-libtwolame --enable-libvidstab --enable-libvorbis --enable-libvpx --enable-libwebp --enable-libx265 --enable-libxml2 --enable-libxvid --enable-libzimg --enable-libzmq --enable-libzvbi --enable-lv2 --enable-omx --enable-openal --enable-opencl --enable-opengl --enable-sdl2 --enable-pocketsphinx --enable-librsvg --enable-libmfx --enable-libdc1394 --enable-libdrm --enable-libiec61883 --enable-chromaprint --enable-frei0r --enable-libx264 --enable-shared\n",
      "  libavutil      56. 70.100 / 56. 70.100\n",
      "  libavcodec     58.134.100 / 58.134.100\n",
      "  libavformat    58. 76.100 / 58. 76.100\n",
      "  libavdevice    58. 13.100 / 58. 13.100\n",
      "  libavfilter     7.110.100 /  7.110.100\n",
      "  libswscale      5.  9.100 /  5.  9.100\n",
      "  libswresample   3.  9.100 /  3.  9.100\n",
      "  libpostproc    55.  9.100 / 55.  9.100\n",
      "Input #0, image2, from '/home/nmiolane/code/my28brains/my28brains/notebooks/figs/plotly_hormones_*.png':\n",
      "  Duration: 00:00:02.90, start: 0.000000, bitrate: N/A\n",
      "  Stream #0:0: Video: png, rgba(pc), 900x300, 10 fps, 10 tbr, 10 tbn, 10 tbc\n",
      "Input #1, png_pipe, from 'palette.png':\n",
      "  Duration: N/A, bitrate: N/A\n",
      "  Stream #1:0: Video: png, rgba(pc), 16x16 [SAR 1:1 DAR 1:1], 25 fps, 25 tbr, 25 tbn, 25 tbc\n",
      "Stream mapping:\n",
      "  Stream #0:0 (png) -> paletteuse:default\n",
      "  Stream #1:0 (png) -> paletteuse:palette\n",
      "  paletteuse -> Stream #0:0 (gif)\n",
      "Press [q] to stop, [?] for help\n",
      "\u001b[0;35m[image2 @ 0x556a0f3b9900] \u001b[0m\u001b[0;33mThread message queue blocking; consider raising the thread_queue_size option (current value: 8)\n",
      "\u001b[0mOutput #0, gif, to 'output.gif':\n",
      "  Metadata:\n",
      "    encoder         : Lavf58.76.100\n",
      "  Stream #0:0: Video: gif, pal8(pc, gbr/unknown/unknown, progressive), 900x300, q=2-31, 200 kb/s, 10 fps, 100 tbn (default)\n",
      "    Metadata:\n",
      "      encoder         : Lavc58.134.100 gif\n",
      "frame=   29 fps=0.0 q=-0.0 Lsize=      18kB time=00:00:02.81 bitrate=  51.3kbits/s speed=14.3x    \n",
      "video:18kB audio:0kB subtitle:0kB other streams:0kB global headers:0kB muxing overhead: 0.111191%\n"
     ]
    }
   ],
   "source": [
    "!ffmpeg -framerate 10 -pattern_type glob -i '/home/nmiolane/code/my28brains/my28brains/notebooks/figs/plotly_hormones_*.png' -i palette.png -filter_complex \"paletteuse\" output.gif"
   ]
  },
  {
   "cell_type": "code",
   "execution_count": 87,
   "id": "7352f917-e12b-4ee2-8368-6c98a90443d9",
   "metadata": {},
   "outputs": [
    {
     "name": "stdout",
     "output_type": "stream",
     "text": [
      "all_hormones_line_frame_rate_10.gif  main.py\t\t   __pycache__\n",
      "discrete_surfaces.py\t\t     my28brains_config.py  viz.py\n",
      "io_mesh.py\t\t\t     notebooks\n"
     ]
    }
   ],
   "source": [
    "!ls"
   ]
  },
  {
   "cell_type": "code",
   "execution_count": 48,
   "id": "6ccb135c-6830-4145-bf9d-9802bd64ba23",
   "metadata": {},
   "outputs": [
    {
     "name": "stderr",
     "output_type": "stream",
     "text": [
      "ffmpeg version 4.4.2-0ubuntu0.22.04.1 Copyright (c) 2000-2021 the FFmpeg developers\n",
      "  built with gcc 11 (Ubuntu 11.2.0-19ubuntu1)\n",
      "  configuration: --prefix=/usr --extra-version=0ubuntu0.22.04.1 --toolchain=hardened --libdir=/usr/lib/x86_64-linux-gnu --incdir=/usr/include/x86_64-linux-gnu --arch=amd64 --enable-gpl --disable-stripping --enable-gnutls --enable-ladspa --enable-libaom --enable-libass --enable-libbluray --enable-libbs2b --enable-libcaca --enable-libcdio --enable-libcodec2 --enable-libdav1d --enable-libflite --enable-libfontconfig --enable-libfreetype --enable-libfribidi --enable-libgme --enable-libgsm --enable-libjack --enable-libmp3lame --enable-libmysofa --enable-libopenjpeg --enable-libopenmpt --enable-libopus --enable-libpulse --enable-librabbitmq --enable-librubberband --enable-libshine --enable-libsnappy --enable-libsoxr --enable-libspeex --enable-libsrt --enable-libssh --enable-libtheora --enable-libtwolame --enable-libvidstab --enable-libvorbis --enable-libvpx --enable-libwebp --enable-libx265 --enable-libxml2 --enable-libxvid --enable-libzimg --enable-libzmq --enable-libzvbi --enable-lv2 --enable-omx --enable-openal --enable-opencl --enable-opengl --enable-sdl2 --enable-pocketsphinx --enable-librsvg --enable-libmfx --enable-libdc1394 --enable-libdrm --enable-libiec61883 --enable-chromaprint --enable-frei0r --enable-libx264 --enable-shared\n",
      "  libavutil      56. 70.100 / 56. 70.100\n",
      "  libavcodec     58.134.100 / 58.134.100\n",
      "  libavformat    58. 76.100 / 58. 76.100\n",
      "  libavdevice    58. 13.100 / 58. 13.100\n",
      "  libavfilter     7.110.100 /  7.110.100\n",
      "  libswscale      5.  9.100 /  5.  9.100\n",
      "  libswresample   3.  9.100 /  3.  9.100\n",
      "  libpostproc    55.  9.100 / 55.  9.100\n",
      "/home/nmiolane/code/my28brains/data/hormones/dot_pic%02d_frame%01d.svg: No such file or directory\n",
      "ffmpeg version 4.4.2-0ubuntu0.22.04.1 Copyright (c) 2000-2021 the FFmpeg developers\n",
      "  built with gcc 11 (Ubuntu 11.2.0-19ubuntu1)\n",
      "  configuration: --prefix=/usr --extra-version=0ubuntu0.22.04.1 --toolchain=hardened --libdir=/usr/lib/x86_64-linux-gnu --incdir=/usr/include/x86_64-linux-gnu --arch=amd64 --enable-gpl --disable-stripping --enable-gnutls --enable-ladspa --enable-libaom --enable-libass --enable-libbluray --enable-libbs2b --enable-libcaca --enable-libcdio --enable-libcodec2 --enable-libdav1d --enable-libflite --enable-libfontconfig --enable-libfreetype --enable-libfribidi --enable-libgme --enable-libgsm --enable-libjack --enable-libmp3lame --enable-libmysofa --enable-libopenjpeg --enable-libopenmpt --enable-libopus --enable-libpulse --enable-librabbitmq --enable-librubberband --enable-libshine --enable-libsnappy --enable-libsoxr --enable-libspeex --enable-libsrt --enable-libssh --enable-libtheora --enable-libtwolame --enable-libvidstab --enable-libvorbis --enable-libvpx --enable-libwebp --enable-libx265 --enable-libxml2 --enable-libxvid --enable-libzimg --enable-libzmq --enable-libzvbi --enable-lv2 --enable-omx --enable-openal --enable-opencl --enable-opengl --enable-sdl2 --enable-pocketsphinx --enable-librsvg --enable-libmfx --enable-libdc1394 --enable-libdrm --enable-libiec61883 --enable-chromaprint --enable-frei0r --enable-libx264 --enable-shared\n",
      "  libavutil      56. 70.100 / 56. 70.100\n",
      "  libavcodec     58.134.100 / 58.134.100\n",
      "  libavformat    58. 76.100 / 58. 76.100\n",
      "  libavdevice    58. 13.100 / 58. 13.100\n",
      "  libavfilter     7.110.100 /  7.110.100\n",
      "  libswscale      5.  9.100 /  5.  9.100\n",
      "  libswresample   3.  9.100 /  3.  9.100\n",
      "  libpostproc    55.  9.100 / 55.  9.100\n",
      "/home/nmiolane/code/my28brains/data/hormones/dot_pic%02d_frame%01d.svg: No such file or directory\n"
     ]
    },
    {
     "data": {
      "text/plain": [
       "256"
      ]
     },
     "execution_count": 48,
     "metadata": {},
     "output_type": "execute_result"
    }
   ],
   "source": [
    "os.system(\n",
    "    f\"ffmpeg -i {WORK_DIR}/data/hormones/dot_pic%02d_frame%01d.svg -vf palettegen palette.svg\"\n",
    ")\n",
    "os.system(\n",
    "    f\"ffmpeg -framerate 24 -i {WORK_DIR}/data/hormones/dot_pic%02d_frame%01d.svg -i palette.svg -lavfi paletteuse -framerate 24 {WORK_DIR}/data/hormones/dot_video.gif\"\n",
    ")"
   ]
  },
  {
   "cell_type": "code",
   "execution_count": 36,
   "id": "84ae4281-be84-4f34-a7a6-5cefd9862bfa",
   "metadata": {
    "tags": []
   },
   "outputs": [
    {
     "ename": "SyntaxError",
     "evalue": "invalid syntax (667853806.py, line 4)",
     "output_type": "error",
     "traceback": [
      "\u001b[0;36m  Cell \u001b[0;32mIn[36], line 4\u001b[0;36m\u001b[0m\n\u001b[0;31m    ffmpeg -framerate 10 -pattern_type glob -i 'plot_hormones_dot_pic*.png' -vf palettegen\u001b[0m\n\u001b[0m                      ^\u001b[0m\n\u001b[0;31mSyntaxError\u001b[0m\u001b[0;31m:\u001b[0m invalid syntax\n"
     ]
    }
   ],
   "source": [
    "\n",
    "\n",
    "\n",
    "\n",
    "\n",
    "\n",
    "\n",
    "import glob\n",
    "import os\n",
    "\n",
    "ffmpeg -framerate 10 -pattern_type glob -i 'plot_hormones_dot_pic*.png' -vf palettegen\n",
    "palette.png && ffmpeg -framerate 10 -pattern_type glob -i 'dot_pic*_frame*.png' -i palette.png -filter_complex \"paletteuse\" output.gif\n",
    "\n",
    "# palette_path = os.path.join(WORK_DIR, \"data/hormones/palette.png\")\n",
    "# img_paths = sorted(glob.glob(os.path.join(WORK_DIR, \"data/hormones/dot_pic*_frame*.png\")))\n",
    "\n",
    "# # Generate palette file\n",
    "# palette_cmd = f\"ffmpeg -i {' '.join(img_paths)} -vf palettegen {palette_path}\"\n",
    "# if os.system(palette_cmd) != 0:\n",
    "#     print(\"Error generating palette file\")\n",
    "#     exit()\n",
    "\n",
    "# # Generate GIF using palette file\n",
    "# gif_cmd = f\"ffmpeg -framerate 24 -i {' '.join(img_paths)} -i {palette_path} -lavfi paletteuse -framerate 24 {os.path.join(WORK_DIR, 'data/hormones/dot_video.gif')}\"\n",
    "# if os.system(gif_cmd) != 0:\n",
    "#     print(\"Error generating GIF file\")\n",
    "#     exit()\n",
    "# else:\n",
    "    \n",
    "#     print(\"GIF file generated successfully\")\n",
    "\n",
    "# img_paths = sorted(glob.glob(os.path.join(WORK_DIR, \"data/hormones/dot_pic*_frame*.png\")))\n",
    "# palette_path = os.path.join(WORK_DIR, \"data/hormones/palette.png\")\n",
    "\n",
    "# os.system(f\"ffmpeg -i {' '.join(img_paths)} -vf palettegen {WORK_DIR}/data/hormones/palette.png\")\n",
    "# os.system(f\"ffmpeg -framerate 24 -i {' '.join(img_paths)} -i {WORK_DIR}/data/hormones/palette.png -lavfi paletteuse -framerate 24 {os.path.join(WORK_DIR, 'data/hormones/dot_video.gif')}\")\n",
    "\n",
    "\n",
    "# os.system(f\"ffmpeg -i {' '.join(img_paths)} -vf palettegen {' '.join(palette_path)}\")\n",
    "# os.system(f\"ffmpeg -framerate 24 -i {' '.join(img_paths)} -i {' '.join(palette_path)} -lavfi paletteuse -framerate 24 {os.path.join(WORK_DIR, 'data/hormones/dot_video.gif')}\")"
   ]
  },
  {
   "cell_type": "code",
   "execution_count": null,
   "id": "14bbb59a-1b8c-44b7-913d-16ba12a68cb1",
   "metadata": {
    "tags": []
   },
   "outputs": [],
   "source": [
    "import glob\n",
    "import os\n",
    "import subprocess\n",
    "\n",
    "palette_path = os.path.join(WORK_DIR, \"data/hormones/palette.png\")\n",
    "img_paths = sorted(\n",
    "    glob.glob(os.path.join(WORK_DIR, \"data/hormones/dot_pic*_frame*.png\"))\n",
    ")\n",
    "\n",
    "# Generate palette file\n",
    "palette_cmd = [\"ffmpeg\", \"-i\", \" \".join(img_paths), \"-vf\", \"palettegen\", palette_path]\n",
    "palette_result = subprocess.run(\n",
    "    palette_cmd, stdout=subprocess.PIPE, stderr=subprocess.PIPE\n",
    ")\n",
    "if palette_result.returncode != 0:\n",
    "    print(\"Error generating palette file:\")\n",
    "    print(palette_result.stderr.decode())\n",
    "    exit()\n",
    "\n",
    "# Generate GIF using palette file\n",
    "gif_cmd = [\n",
    "    \"ffmpeg\",\n",
    "    \"-framerate\",\n",
    "    \"24\",\n",
    "    \"-i\",\n",
    "    \" \".join(img_paths),\n",
    "    \"-i\",\n",
    "    palette_path,\n",
    "    \"-lavfi\",\n",
    "    \"paletteuse\",\n",
    "    \"-framerate\",\n",
    "    \"24\",\n",
    "    os.path.join(WORK_DIR, \"data/hormones/dot_video.gif\"),\n",
    "]\n",
    "gif_result = subprocess.run(gif_cmd, stdout=subprocess.PIPE, stderr=subprocess.PIPE)\n",
    "if gif_result.returncode != 0:\n",
    "    print(\"Error generating GIF file:\")\n",
    "    print(gif_result.stderr.decode())\n",
    "    exit()\n",
    "\n",
    "else:\n",
    "    print(\"GIF file generated successfully\")"
   ]
  },
  {
   "cell_type": "code",
   "execution_count": null,
   "id": "dfd64c7b-d381-4948-b520-2f07e6cc028d",
   "metadata": {
    "tags": []
   },
   "outputs": [],
   "source": [
    "os.getcwd()"
   ]
  },
  {
   "cell_type": "code",
   "execution_count": null,
   "id": "ba67969e-eff8-4508-8954-5a4665cc56f0",
   "metadata": {},
   "outputs": [],
   "source": [
    "ffmpeg - -version"
   ]
  },
  {
   "cell_type": "code",
   "execution_count": null,
   "id": "571d8ab3-c463-40e7-a448-2e6beb54c6d9",
   "metadata": {},
   "outputs": [],
   "source": []
  }
 ],
 "metadata": {
  "kernelspec": {
   "display_name": "Python 3 (ipykernel)",
   "language": "python",
   "name": "python3"
  },
  "language_info": {
   "codemirror_mode": {
    "name": "ipython",
    "version": 3
   },
   "file_extension": ".py",
   "mimetype": "text/x-python",
   "name": "python",
   "nbconvert_exporter": "python",
   "pygments_lexer": "ipython3",
   "version": "3.8.16"
  }
 },
 "nbformat": 4,
 "nbformat_minor": 5
}
