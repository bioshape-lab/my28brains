{
 "cells": [
  {
   "attachments": {},
   "cell_type": "markdown",
   "id": "fb8f3bf8",
   "metadata": {},
   "source": [
    "# Create animations of hormones over time"
   ]
  },
  {
   "cell_type": "code",
   "execution_count": 1,
   "id": "b034a8d5-91a0-46fd-860a-86dfcf7d5b5e",
   "metadata": {},
   "outputs": [
    {
     "name": "stdout",
     "output_type": "stream",
     "text": [
      "Working directory:  /Volumes/GoogleDrive/My Drive/code/my28brains/my28brains\n",
      "Directory added to path:  /Volumes/GoogleDrive/My Drive/code/my28brains\n",
      "Directory added to path:  /Volumes/GoogleDrive/My Drive/code/my28brains/my28brains\n"
     ]
    }
   ],
   "source": [
    "import setcwd\n",
    "\n",
    "setcwd.main()"
   ]
  },
  {
   "cell_type": "code",
   "execution_count": 2,
   "id": "5ce03361-e82c-4dd3-bf21-ab21c3f2a762",
   "metadata": {
    "tags": []
   },
   "outputs": [],
   "source": [
    "import os\n",
    "import re\n",
    "\n",
    "import pandas as pd\n",
    "\n",
    "from joblib import Parallel, delayed\n",
    "\n",
    "from my28brains.viz import plotly_hormones\n",
    "from my28brains.viz import HORMONES, FIGS, ANIMS, TMP"
   ]
  },
  {
   "cell_type": "code",
   "execution_count": 3,
   "id": "211b4237",
   "metadata": {},
   "outputs": [
    {
     "name": "stdout",
     "output_type": "stream",
     "text": [
      "HORMONES =  {'Estro': 'Estrogen', 'Prog': 'Progesterone', 'LH': 'LH', 'FSH': 'FSH'}\n",
      "FIGS =  /Volumes/GoogleDrive/My Drive/code/my28brains/results/figs\n",
      "ANIMS =  /Volumes/GoogleDrive/My Drive/code/my28brains/results/anims\n",
      "TMP =  /Volumes/GoogleDrive/My Drive/code/my28brains/results/tmp\n"
     ]
    }
   ],
   "source": [
    "print(\"HORMONES = \", HORMONES)\n",
    "print(\"FIGS = \", FIGS)\n",
    "print(\"ANIMS = \", ANIMS)\n",
    "print(\"TMP = \", TMP)"
   ]
  },
  {
   "attachments": {},
   "cell_type": "markdown",
   "id": "05a8b9f7",
   "metadata": {},
   "source": [
    "## Load the hormones data"
   ]
  },
  {
   "cell_type": "code",
   "execution_count": 4,
   "id": "d6a2fc37-778e-406e-a320-56036db01bfb",
   "metadata": {
    "tags": []
   },
   "outputs": [
    {
     "name": "stdout",
     "output_type": "stream",
     "text": [
      "df has length: 60 days\n"
     ]
    },
    {
     "data": {
      "text/html": [
       "<div>\n",
       "<style scoped>\n",
       "    .dataframe tbody tr th:only-of-type {\n",
       "        vertical-align: middle;\n",
       "    }\n",
       "\n",
       "    .dataframe tbody tr th {\n",
       "        vertical-align: top;\n",
       "    }\n",
       "\n",
       "    .dataframe thead th {\n",
       "        text-align: right;\n",
       "    }\n",
       "</style>\n",
       "<table border=\"1\" class=\"dataframe\">\n",
       "  <thead>\n",
       "    <tr style=\"text-align: right;\">\n",
       "      <th></th>\n",
       "      <th>dayID</th>\n",
       "      <th>Estro</th>\n",
       "      <th>Prog</th>\n",
       "      <th>Test</th>\n",
       "      <th>DHEAS</th>\n",
       "      <th>LH</th>\n",
       "      <th>FSH</th>\n",
       "      <th>SHBG</th>\n",
       "      <th>EthinylEstradiol</th>\n",
       "      <th>Levonorgestresl</th>\n",
       "      <th>CycleDay</th>\n",
       "    </tr>\n",
       "  </thead>\n",
       "  <tbody>\n",
       "    <tr>\n",
       "      <th>0</th>\n",
       "      <td>1</td>\n",
       "      <td>52.4</td>\n",
       "      <td>11.9</td>\n",
       "      <td>98.7</td>\n",
       "      <td>192.88</td>\n",
       "      <td>8.61</td>\n",
       "      <td>5.06</td>\n",
       "      <td>55.72</td>\n",
       "      <td>NaN</td>\n",
       "      <td>NaN</td>\n",
       "      <td>21</td>\n",
       "    </tr>\n",
       "    <tr>\n",
       "      <th>1</th>\n",
       "      <td>2</td>\n",
       "      <td>74.2</td>\n",
       "      <td>10.6</td>\n",
       "      <td>81.2</td>\n",
       "      <td>247.12</td>\n",
       "      <td>4.89</td>\n",
       "      <td>4.13</td>\n",
       "      <td>58.22</td>\n",
       "      <td>NaN</td>\n",
       "      <td>NaN</td>\n",
       "      <td>22</td>\n",
       "    </tr>\n",
       "    <tr>\n",
       "      <th>2</th>\n",
       "      <td>3</td>\n",
       "      <td>91.7</td>\n",
       "      <td>12.4</td>\n",
       "      <td>96.3</td>\n",
       "      <td>226.23</td>\n",
       "      <td>5.98</td>\n",
       "      <td>3.49</td>\n",
       "      <td>56.92</td>\n",
       "      <td>NaN</td>\n",
       "      <td>NaN</td>\n",
       "      <td>23</td>\n",
       "    </tr>\n",
       "    <tr>\n",
       "      <th>3</th>\n",
       "      <td>4</td>\n",
       "      <td>94.6</td>\n",
       "      <td>13.5</td>\n",
       "      <td>90.5</td>\n",
       "      <td>212.84</td>\n",
       "      <td>4.32</td>\n",
       "      <td>3.65</td>\n",
       "      <td>57.29</td>\n",
       "      <td>NaN</td>\n",
       "      <td>NaN</td>\n",
       "      <td>24</td>\n",
       "    </tr>\n",
       "    <tr>\n",
       "      <th>4</th>\n",
       "      <td>5</td>\n",
       "      <td>110.0</td>\n",
       "      <td>15.0</td>\n",
       "      <td>77.6</td>\n",
       "      <td>217.60</td>\n",
       "      <td>3.44</td>\n",
       "      <td>3.30</td>\n",
       "      <td>58.87</td>\n",
       "      <td>NaN</td>\n",
       "      <td>NaN</td>\n",
       "      <td>25</td>\n",
       "    </tr>\n",
       "  </tbody>\n",
       "</table>\n",
       "</div>"
      ],
      "text/plain": [
       "   dayID  Estro  Prog  Test   DHEAS    LH   FSH   SHBG EthinylEstradiol  \\\n",
       "0      1   52.4  11.9  98.7  192.88  8.61  5.06  55.72              NaN   \n",
       "1      2   74.2  10.6  81.2  247.12  4.89  4.13  58.22              NaN   \n",
       "2      3   91.7  12.4  96.3  226.23  5.98  3.49  56.92              NaN   \n",
       "3      4   94.6  13.5  90.5  212.84  4.32  3.65  57.29              NaN   \n",
       "4      5  110.0  15.0  77.6  217.60  3.44  3.30  58.87              NaN   \n",
       "\n",
       "   Levonorgestresl  CycleDay  \n",
       "0              NaN        21  \n",
       "1              NaN        22  \n",
       "2              NaN        23  \n",
       "3              NaN        24  \n",
       "4              NaN        25  "
      ]
     },
     "execution_count": 4,
     "metadata": {},
     "output_type": "execute_result"
    }
   ],
   "source": [
    "DATA_PATH = os.path.join(os.path.dirname(os.getcwd()), \"data\", \"hormones.csv\")\n",
    "df = pd.read_csv(DATA_PATH, delimiter=\",\")\n",
    "print(f\"df has length: {len(df)} days\")\n",
    "df.head()"
   ]
  },
  {
   "attachments": {},
   "cell_type": "markdown",
   "id": "536b20a9-d6f5-4e98-9a5b-cf2098c0e24c",
   "metadata": {},
   "source": [
    "## Select the cycle of interest: natural or OC\n"
   ]
  },
  {
   "cell_type": "markdown",
   "id": "82b85399-683c-4be4-9269-173e25b4379f",
   "metadata": {},
   "source": [
    "We select the first 30 days to get the first (natural) cycle."
   ]
  },
  {
   "cell_type": "code",
   "execution_count": 5,
   "id": "753b7bcd-9bd3-4fcb-ab16-6f0cbcebae28",
   "metadata": {},
   "outputs": [
    {
     "name": "stdout",
     "output_type": "stream",
     "text": [
      "natural_cycle_df has length: 30 days.\n"
     ]
    }
   ],
   "source": [
    "natural_cycle_df = df[df[\"dayID\"] < 31]\n",
    "n_days = len(natural_cycle_df)\n",
    "print(f\"natural_cycle_df has length: {len(natural_cycle_df)} days.\")"
   ]
  },
  {
   "cell_type": "markdown",
   "id": "ac42b68d-871b-45e4-8564-10e4aef9dfdf",
   "metadata": {},
   "source": [
    "## Make the animation"
   ]
  },
  {
   "cell_type": "markdown",
   "id": "f3d7a60b-04a3-4ce4-8b65-51f92d028e72",
   "metadata": {},
   "source": [
    "Make one plot to check the design."
   ]
  },
  {
   "cell_type": "code",
   "execution_count": 6,
   "id": "c29eca12-dd5d-4a93-9552-6ab17addd0e4",
   "metadata": {
    "tags": []
   },
   "outputs": [],
   "source": [
    "CONFIG = {\n",
    "    \"all\": {\"hormones\": HORMONES, \"ymax\": natural_cycle_df[\"Estro\"].max() + 10},\n",
    "    \"prog\": {\"hormones\": [\"Prog\"], \"ymax\": natural_cycle_df[\"Prog\"].max() + 5},\n",
    "}"
   ]
  },
  {
   "cell_type": "code",
   "execution_count": 7,
   "id": "fd20db13-c4e1-4a9e-8adb-b73e527332b6",
   "metadata": {},
   "outputs": [
    {
     "data": {
      "application/vnd.plotly.v1+json": {
       "config": {
        "plotlyServerURL": "https://plot.ly"
       },
       "data": [
        {
         "line": {
          "color": "#ff7f0e",
          "shape": "spline",
          "width": 8
         },
         "mode": "lines",
         "name": "Progesterone",
         "showlegend": true,
         "type": "scatter",
         "x": [
          1,
          2,
          3,
          4,
          5,
          6,
          7,
          8,
          9,
          10,
          11,
          12,
          13,
          14,
          15,
          16,
          17,
          18,
          19,
          20
         ],
         "y": [
          0.63,
          0.28,
          0.17,
          0.084,
          0.056,
          0.073,
          0.045,
          0.037,
          0.075,
          0.037,
          0.019,
          0.043,
          0.14,
          0.52,
          0.97,
          2.13,
          5.08,
          8.51,
          12.7,
          13.2
         ]
        }
       ],
       "layout": {
        "height": 300,
        "legend": {
         "font": {
          "size": 20
         },
         "orientation": "h",
         "x": 1,
         "xanchor": "right",
         "y": 1.02,
         "yanchor": "bottom"
        },
        "margin": {
         "b": 60,
         "l": 60,
         "r": 30,
         "t": 30
        },
        "template": {
         "data": {
          "bar": [
           {
            "error_x": {
             "color": "#2a3f5f"
            },
            "error_y": {
             "color": "#2a3f5f"
            },
            "marker": {
             "line": {
              "color": "white",
              "width": 0.5
             },
             "pattern": {
              "fillmode": "overlay",
              "size": 10,
              "solidity": 0.2
             }
            },
            "type": "bar"
           }
          ],
          "barpolar": [
           {
            "marker": {
             "line": {
              "color": "white",
              "width": 0.5
             },
             "pattern": {
              "fillmode": "overlay",
              "size": 10,
              "solidity": 0.2
             }
            },
            "type": "barpolar"
           }
          ],
          "carpet": [
           {
            "aaxis": {
             "endlinecolor": "#2a3f5f",
             "gridcolor": "#C8D4E3",
             "linecolor": "#C8D4E3",
             "minorgridcolor": "#C8D4E3",
             "startlinecolor": "#2a3f5f"
            },
            "baxis": {
             "endlinecolor": "#2a3f5f",
             "gridcolor": "#C8D4E3",
             "linecolor": "#C8D4E3",
             "minorgridcolor": "#C8D4E3",
             "startlinecolor": "#2a3f5f"
            },
            "type": "carpet"
           }
          ],
          "choropleth": [
           {
            "colorbar": {
             "outlinewidth": 0,
             "ticks": ""
            },
            "type": "choropleth"
           }
          ],
          "contour": [
           {
            "colorbar": {
             "outlinewidth": 0,
             "ticks": ""
            },
            "colorscale": [
             [
              0,
              "#0d0887"
             ],
             [
              0.1111111111111111,
              "#46039f"
             ],
             [
              0.2222222222222222,
              "#7201a8"
             ],
             [
              0.3333333333333333,
              "#9c179e"
             ],
             [
              0.4444444444444444,
              "#bd3786"
             ],
             [
              0.5555555555555556,
              "#d8576b"
             ],
             [
              0.6666666666666666,
              "#ed7953"
             ],
             [
              0.7777777777777778,
              "#fb9f3a"
             ],
             [
              0.8888888888888888,
              "#fdca26"
             ],
             [
              1,
              "#f0f921"
             ]
            ],
            "type": "contour"
           }
          ],
          "contourcarpet": [
           {
            "colorbar": {
             "outlinewidth": 0,
             "ticks": ""
            },
            "type": "contourcarpet"
           }
          ],
          "heatmap": [
           {
            "colorbar": {
             "outlinewidth": 0,
             "ticks": ""
            },
            "colorscale": [
             [
              0,
              "#0d0887"
             ],
             [
              0.1111111111111111,
              "#46039f"
             ],
             [
              0.2222222222222222,
              "#7201a8"
             ],
             [
              0.3333333333333333,
              "#9c179e"
             ],
             [
              0.4444444444444444,
              "#bd3786"
             ],
             [
              0.5555555555555556,
              "#d8576b"
             ],
             [
              0.6666666666666666,
              "#ed7953"
             ],
             [
              0.7777777777777778,
              "#fb9f3a"
             ],
             [
              0.8888888888888888,
              "#fdca26"
             ],
             [
              1,
              "#f0f921"
             ]
            ],
            "type": "heatmap"
           }
          ],
          "heatmapgl": [
           {
            "colorbar": {
             "outlinewidth": 0,
             "ticks": ""
            },
            "colorscale": [
             [
              0,
              "#0d0887"
             ],
             [
              0.1111111111111111,
              "#46039f"
             ],
             [
              0.2222222222222222,
              "#7201a8"
             ],
             [
              0.3333333333333333,
              "#9c179e"
             ],
             [
              0.4444444444444444,
              "#bd3786"
             ],
             [
              0.5555555555555556,
              "#d8576b"
             ],
             [
              0.6666666666666666,
              "#ed7953"
             ],
             [
              0.7777777777777778,
              "#fb9f3a"
             ],
             [
              0.8888888888888888,
              "#fdca26"
             ],
             [
              1,
              "#f0f921"
             ]
            ],
            "type": "heatmapgl"
           }
          ],
          "histogram": [
           {
            "marker": {
             "pattern": {
              "fillmode": "overlay",
              "size": 10,
              "solidity": 0.2
             }
            },
            "type": "histogram"
           }
          ],
          "histogram2d": [
           {
            "colorbar": {
             "outlinewidth": 0,
             "ticks": ""
            },
            "colorscale": [
             [
              0,
              "#0d0887"
             ],
             [
              0.1111111111111111,
              "#46039f"
             ],
             [
              0.2222222222222222,
              "#7201a8"
             ],
             [
              0.3333333333333333,
              "#9c179e"
             ],
             [
              0.4444444444444444,
              "#bd3786"
             ],
             [
              0.5555555555555556,
              "#d8576b"
             ],
             [
              0.6666666666666666,
              "#ed7953"
             ],
             [
              0.7777777777777778,
              "#fb9f3a"
             ],
             [
              0.8888888888888888,
              "#fdca26"
             ],
             [
              1,
              "#f0f921"
             ]
            ],
            "type": "histogram2d"
           }
          ],
          "histogram2dcontour": [
           {
            "colorbar": {
             "outlinewidth": 0,
             "ticks": ""
            },
            "colorscale": [
             [
              0,
              "#0d0887"
             ],
             [
              0.1111111111111111,
              "#46039f"
             ],
             [
              0.2222222222222222,
              "#7201a8"
             ],
             [
              0.3333333333333333,
              "#9c179e"
             ],
             [
              0.4444444444444444,
              "#bd3786"
             ],
             [
              0.5555555555555556,
              "#d8576b"
             ],
             [
              0.6666666666666666,
              "#ed7953"
             ],
             [
              0.7777777777777778,
              "#fb9f3a"
             ],
             [
              0.8888888888888888,
              "#fdca26"
             ],
             [
              1,
              "#f0f921"
             ]
            ],
            "type": "histogram2dcontour"
           }
          ],
          "mesh3d": [
           {
            "colorbar": {
             "outlinewidth": 0,
             "ticks": ""
            },
            "type": "mesh3d"
           }
          ],
          "parcoords": [
           {
            "line": {
             "colorbar": {
              "outlinewidth": 0,
              "ticks": ""
             }
            },
            "type": "parcoords"
           }
          ],
          "pie": [
           {
            "automargin": true,
            "type": "pie"
           }
          ],
          "scatter": [
           {
            "fillpattern": {
             "fillmode": "overlay",
             "size": 10,
             "solidity": 0.2
            },
            "type": "scatter"
           }
          ],
          "scatter3d": [
           {
            "line": {
             "colorbar": {
              "outlinewidth": 0,
              "ticks": ""
             }
            },
            "marker": {
             "colorbar": {
              "outlinewidth": 0,
              "ticks": ""
             }
            },
            "type": "scatter3d"
           }
          ],
          "scattercarpet": [
           {
            "marker": {
             "colorbar": {
              "outlinewidth": 0,
              "ticks": ""
             }
            },
            "type": "scattercarpet"
           }
          ],
          "scattergeo": [
           {
            "marker": {
             "colorbar": {
              "outlinewidth": 0,
              "ticks": ""
             }
            },
            "type": "scattergeo"
           }
          ],
          "scattergl": [
           {
            "marker": {
             "colorbar": {
              "outlinewidth": 0,
              "ticks": ""
             }
            },
            "type": "scattergl"
           }
          ],
          "scattermapbox": [
           {
            "marker": {
             "colorbar": {
              "outlinewidth": 0,
              "ticks": ""
             }
            },
            "type": "scattermapbox"
           }
          ],
          "scatterpolar": [
           {
            "marker": {
             "colorbar": {
              "outlinewidth": 0,
              "ticks": ""
             }
            },
            "type": "scatterpolar"
           }
          ],
          "scatterpolargl": [
           {
            "marker": {
             "colorbar": {
              "outlinewidth": 0,
              "ticks": ""
             }
            },
            "type": "scatterpolargl"
           }
          ],
          "scatterternary": [
           {
            "marker": {
             "colorbar": {
              "outlinewidth": 0,
              "ticks": ""
             }
            },
            "type": "scatterternary"
           }
          ],
          "surface": [
           {
            "colorbar": {
             "outlinewidth": 0,
             "ticks": ""
            },
            "colorscale": [
             [
              0,
              "#0d0887"
             ],
             [
              0.1111111111111111,
              "#46039f"
             ],
             [
              0.2222222222222222,
              "#7201a8"
             ],
             [
              0.3333333333333333,
              "#9c179e"
             ],
             [
              0.4444444444444444,
              "#bd3786"
             ],
             [
              0.5555555555555556,
              "#d8576b"
             ],
             [
              0.6666666666666666,
              "#ed7953"
             ],
             [
              0.7777777777777778,
              "#fb9f3a"
             ],
             [
              0.8888888888888888,
              "#fdca26"
             ],
             [
              1,
              "#f0f921"
             ]
            ],
            "type": "surface"
           }
          ],
          "table": [
           {
            "cells": {
             "fill": {
              "color": "#EBF0F8"
             },
             "line": {
              "color": "white"
             }
            },
            "header": {
             "fill": {
              "color": "#C8D4E3"
             },
             "line": {
              "color": "white"
             }
            },
            "type": "table"
           }
          ]
         },
         "layout": {
          "annotationdefaults": {
           "arrowcolor": "#2a3f5f",
           "arrowhead": 0,
           "arrowwidth": 1
          },
          "autotypenumbers": "strict",
          "coloraxis": {
           "colorbar": {
            "outlinewidth": 0,
            "ticks": ""
           }
          },
          "colorscale": {
           "diverging": [
            [
             0,
             "#8e0152"
            ],
            [
             0.1,
             "#c51b7d"
            ],
            [
             0.2,
             "#de77ae"
            ],
            [
             0.3,
             "#f1b6da"
            ],
            [
             0.4,
             "#fde0ef"
            ],
            [
             0.5,
             "#f7f7f7"
            ],
            [
             0.6,
             "#e6f5d0"
            ],
            [
             0.7,
             "#b8e186"
            ],
            [
             0.8,
             "#7fbc41"
            ],
            [
             0.9,
             "#4d9221"
            ],
            [
             1,
             "#276419"
            ]
           ],
           "sequential": [
            [
             0,
             "#0d0887"
            ],
            [
             0.1111111111111111,
             "#46039f"
            ],
            [
             0.2222222222222222,
             "#7201a8"
            ],
            [
             0.3333333333333333,
             "#9c179e"
            ],
            [
             0.4444444444444444,
             "#bd3786"
            ],
            [
             0.5555555555555556,
             "#d8576b"
            ],
            [
             0.6666666666666666,
             "#ed7953"
            ],
            [
             0.7777777777777778,
             "#fb9f3a"
            ],
            [
             0.8888888888888888,
             "#fdca26"
            ],
            [
             1,
             "#f0f921"
            ]
           ],
           "sequentialminus": [
            [
             0,
             "#0d0887"
            ],
            [
             0.1111111111111111,
             "#46039f"
            ],
            [
             0.2222222222222222,
             "#7201a8"
            ],
            [
             0.3333333333333333,
             "#9c179e"
            ],
            [
             0.4444444444444444,
             "#bd3786"
            ],
            [
             0.5555555555555556,
             "#d8576b"
            ],
            [
             0.6666666666666666,
             "#ed7953"
            ],
            [
             0.7777777777777778,
             "#fb9f3a"
            ],
            [
             0.8888888888888888,
             "#fdca26"
            ],
            [
             1,
             "#f0f921"
            ]
           ]
          },
          "colorway": [
           "#636efa",
           "#EF553B",
           "#00cc96",
           "#ab63fa",
           "#FFA15A",
           "#19d3f3",
           "#FF6692",
           "#B6E880",
           "#FF97FF",
           "#FECB52"
          ],
          "font": {
           "color": "#2a3f5f"
          },
          "geo": {
           "bgcolor": "white",
           "lakecolor": "white",
           "landcolor": "white",
           "showlakes": true,
           "showland": true,
           "subunitcolor": "#C8D4E3"
          },
          "hoverlabel": {
           "align": "left"
          },
          "hovermode": "closest",
          "mapbox": {
           "style": "light"
          },
          "paper_bgcolor": "white",
          "plot_bgcolor": "white",
          "polar": {
           "angularaxis": {
            "gridcolor": "#EBF0F8",
            "linecolor": "#EBF0F8",
            "ticks": ""
           },
           "bgcolor": "white",
           "radialaxis": {
            "gridcolor": "#EBF0F8",
            "linecolor": "#EBF0F8",
            "ticks": ""
           }
          },
          "scene": {
           "xaxis": {
            "backgroundcolor": "white",
            "gridcolor": "#DFE8F3",
            "gridwidth": 2,
            "linecolor": "#EBF0F8",
            "showbackground": true,
            "ticks": "",
            "zerolinecolor": "#EBF0F8"
           },
           "yaxis": {
            "backgroundcolor": "white",
            "gridcolor": "#DFE8F3",
            "gridwidth": 2,
            "linecolor": "#EBF0F8",
            "showbackground": true,
            "ticks": "",
            "zerolinecolor": "#EBF0F8"
           },
           "zaxis": {
            "backgroundcolor": "white",
            "gridcolor": "#DFE8F3",
            "gridwidth": 2,
            "linecolor": "#EBF0F8",
            "showbackground": true,
            "ticks": "",
            "zerolinecolor": "#EBF0F8"
           }
          },
          "shapedefaults": {
           "line": {
            "color": "#2a3f5f"
           }
          },
          "ternary": {
           "aaxis": {
            "gridcolor": "#DFE8F3",
            "linecolor": "#A2B1C6",
            "ticks": ""
           },
           "baxis": {
            "gridcolor": "#DFE8F3",
            "linecolor": "#A2B1C6",
            "ticks": ""
           },
           "bgcolor": "white",
           "caxis": {
            "gridcolor": "#DFE8F3",
            "linecolor": "#A2B1C6",
            "ticks": ""
           }
          },
          "title": {
           "x": 0.05
          },
          "xaxis": {
           "automargin": true,
           "gridcolor": "#EBF0F8",
           "linecolor": "#EBF0F8",
           "ticks": "",
           "title": {
            "standoff": 15
           },
           "zerolinecolor": "#EBF0F8",
           "zerolinewidth": 2
          },
          "yaxis": {
           "automargin": true,
           "gridcolor": "#EBF0F8",
           "linecolor": "#EBF0F8",
           "ticks": "",
           "title": {
            "standoff": 15
           },
           "zerolinecolor": "#EBF0F8",
           "zerolinewidth": 2
          }
         }
        },
        "width": 900,
        "xaxis": {
         "linewidth": 8,
         "range": [
          0,
          30
         ],
         "showgrid": false,
         "tickfont": {
          "size": 20
         },
         "title": {
          "font": {
           "size": 20
          },
          "text": "Cycle Day"
         }
        },
        "yaxis": {
         "linewidth": 8,
         "range": [
          -1.0250000000000001,
          20.5
         ],
         "showgrid": false,
         "tickfont": {
          "size": 20
         },
         "title": {
          "font": {
           "size": 20
          },
          "text": "Hormone"
         },
         "zeroline": false
        }
       }
      }
     },
     "metadata": {},
     "output_type": "display_data"
    }
   ],
   "source": [
    "to_plot = \"prog\"\n",
    "by = \"CycleDay\"\n",
    "framerate = 2\n",
    "\n",
    "plotly_hormones(\n",
    "    natural_cycle_df,\n",
    "    by=by,\n",
    "    day=20,\n",
    "    hormones=CONFIG[to_plot][\"hormones\"],\n",
    "    ymax=CONFIG[to_plot][\"ymax\"],\n",
    "    savefig=False,\n",
    ")"
   ]
  },
  {
   "cell_type": "markdown",
   "id": "e7e55ee5-8ed5-4a84-b0b2-e005cdf191f6",
   "metadata": {},
   "source": [
    "Make all plots to create the many .pngs."
   ]
  },
  {
   "cell_type": "code",
   "execution_count": 8,
   "id": "32c889eb-7012-4a51-a091-6465f453a6bf",
   "metadata": {},
   "outputs": [],
   "source": [
    "def plot_all(i):\n",
    "    plotly_hormones(\n",
    "    natural_cycle_df,\n",
    "    by=by,\n",
    "    day=i,\n",
    "    hormones=CONFIG[to_plot][\"hormones\"],\n",
    "    ymax=CONFIG[to_plot][\"ymax\"],\n",
    "    savefig=True,\n",
    "    )\n",
    "\n",
    "\n",
    "_ = Parallel(n_jobs=-1)(delayed(plot_all)(i) for i in range(1, n_days))"
   ]
  },
  {
   "attachments": {},
   "cell_type": "markdown",
   "id": "d33957c2-3444-46ca-b3c3-21a38d322c3b",
   "metadata": {
    "tags": []
   },
   "source": [
    "Use ffmpeg to make the animation"
   ]
  },
  {
   "cell_type": "code",
   "execution_count": 9,
   "id": "11ffb5a6-79f2-4b72-9038-7dc00074ff4d",
   "metadata": {
    "tags": []
   },
   "outputs": [],
   "source": [
    "by_lower = re.sub(r'(?<!^)(?=[A-Z])', '_', by).lower()\n",
    "input_pattern = os.path.join(TMP, f\"hormones_day_*.png\")\n",
    "palette_path = os.path.join(TMP, \"palette.png\")\n",
    "\n",
    "output_name = f\"{to_plot}_by_{by_lower}_framerate{framerate}\"\n",
    "\n",
    "output_gif = os.path.join(ANIMS, f\"{output_name}.gif\")\n",
    "output_mov = os.path.join(ANIMS, f\"{output_name}.mov\")"
   ]
  },
  {
   "cell_type": "code",
   "execution_count": 10,
   "id": "704bf8d3-8d7c-4fe7-8649-fa9fa1a902aa",
   "metadata": {
    "tags": []
   },
   "outputs": [
    {
     "name": "stderr",
     "output_type": "stream",
     "text": [
      "ffmpeg version 5.0.1 Copyright (c) 2000-2022 the FFmpeg developers\n",
      "  built with Apple clang version 13.0.0 (clang-1300.0.29.30)\n",
      "  configuration: --prefix=/usr/local/Cellar/ffmpeg/5.0.1_2 --enable-shared --enable-pthreads --enable-version3 --cc=clang --host-cflags= --host-ldflags= --enable-ffplay --enable-gnutls --enable-gpl --enable-libaom --enable-libbluray --enable-libdav1d --enable-libmp3lame --enable-libopus --enable-librav1e --enable-librist --enable-librubberband --enable-libsnappy --enable-libsrt --enable-libtesseract --enable-libtheora --enable-libvidstab --enable-libvmaf --enable-libvorbis --enable-libvpx --enable-libwebp --enable-libx264 --enable-libx265 --enable-libxml2 --enable-libxvid --enable-lzma --enable-libfontconfig --enable-libfreetype --enable-frei0r --enable-libass --enable-libopencore-amrnb --enable-libopencore-amrwb --enable-libopenjpeg --enable-libspeex --enable-libsoxr --enable-libzmq --enable-libzimg --disable-libjack --disable-indev=jack --enable-videotoolbox\n",
      "  libavutil      57. 17.100 / 57. 17.100\n",
      "  libavcodec     59. 18.100 / 59. 18.100\n",
      "  libavformat    59. 16.100 / 59. 16.100\n",
      "  libavdevice    59.  4.100 / 59.  4.100\n",
      "  libavfilter     8. 24.100 /  8. 24.100\n",
      "  libswscale      6.  4.100 /  6.  4.100\n",
      "  libswresample   4.  3.100 /  4.  3.100\n",
      "  libpostproc    56.  3.100 / 56.  3.100\n",
      "Input #0, image2, from '/Volumes/GoogleDrive/My Drive/code/my28brains/results/tmp/hormones_day_*.png':\n",
      "  Duration: 00:00:14.50, start: 0.000000, bitrate: N/A\n",
      "  Stream #0:0: Video: png, rgba(pc), 900x300, 2 fps, 2 tbr, 2 tbn\n",
      "Stream mapping:\n",
      "  Stream #0:0 -> #0:0 (png (native) -> png (native))\n",
      "Press [q] to stop, [?] for help\n",
      "[Parsed_palettegen_0 @ 0x7fdd19908880] 255(+1) colors generated out of 430 colors; ratio=0.593023\n",
      "Output #0, image2, to '/Volumes/GoogleDrive/My Drive/code/my28brains/results/tmp/palette.png':\n",
      "  Metadata:\n",
      "    encoder         : Lavf59.16.100\n",
      "  Stream #0:0: Video: png, rgba(pc, gbr/unknown/unknown, progressive), 16x16 [SAR 1:1 DAR 1:1], q=2-31, 200 kb/s, 2 fps, 2 tbn\n",
      "    Metadata:\n",
      "      encoder         : Lavc59.18.100 png\n",
      "frame=    1 fps=0.0 q=-0.0 Lsize=N/A time=00:00:00.50 bitrate=N/A speed= 4.5x    \n",
      "video:1kB audio:0kB subtitle:0kB other streams:0kB global headers:0kB muxing overhead: unknown\n"
     ]
    },
    {
     "data": {
      "text/plain": [
       "0"
      ]
     },
     "execution_count": 10,
     "metadata": {},
     "output_type": "execute_result"
    }
   ],
   "source": [
    "cmd = f\"ffmpeg -y -framerate {framerate} -pattern_type glob -i '{input_pattern}' -vf palettegen '{palette_path}'\"\n",
    "os.system(cmd)"
   ]
  },
  {
   "cell_type": "code",
   "execution_count": 11,
   "id": "5fe854f2-bbad-499f-bf8a-179d20e5ef1a",
   "metadata": {
    "tags": []
   },
   "outputs": [
    {
     "name": "stderr",
     "output_type": "stream",
     "text": [
      "ffmpeg version 5.0.1 Copyright (c) 2000-2022 the FFmpeg developers\n",
      "  built with Apple clang version 13.0.0 (clang-1300.0.29.30)\n",
      "  configuration: --prefix=/usr/local/Cellar/ffmpeg/5.0.1_2 --enable-shared --enable-pthreads --enable-version3 --cc=clang --host-cflags= --host-ldflags= --enable-ffplay --enable-gnutls --enable-gpl --enable-libaom --enable-libbluray --enable-libdav1d --enable-libmp3lame --enable-libopus --enable-librav1e --enable-librist --enable-librubberband --enable-libsnappy --enable-libsrt --enable-libtesseract --enable-libtheora --enable-libvidstab --enable-libvmaf --enable-libvorbis --enable-libvpx --enable-libwebp --enable-libx264 --enable-libx265 --enable-libxml2 --enable-libxvid --enable-lzma --enable-libfontconfig --enable-libfreetype --enable-frei0r --enable-libass --enable-libopencore-amrnb --enable-libopencore-amrwb --enable-libopenjpeg --enable-libspeex --enable-libsoxr --enable-libzmq --enable-libzimg --disable-libjack --disable-indev=jack --enable-videotoolbox\n",
      "  libavutil      57. 17.100 / 57. 17.100\n",
      "  libavcodec     59. 18.100 / 59. 18.100\n",
      "  libavformat    59. 16.100 / 59. 16.100\n",
      "  libavdevice    59.  4.100 / 59.  4.100\n",
      "  libavfilter     8. 24.100 /  8. 24.100\n",
      "  libswscale      6.  4.100 /  6.  4.100\n",
      "  libswresample   4.  3.100 /  4.  3.100\n",
      "  libpostproc    56.  3.100 / 56.  3.100\n",
      "Input #0, image2, from '/Volumes/GoogleDrive/My Drive/code/my28brains/results/tmp/hormones_day_*.png':\n",
      "  Duration: 00:00:14.50, start: 0.000000, bitrate: N/A\n",
      "  Stream #0:0: Video: png, rgba(pc), 900x300, 2 fps, 2 tbr, 2 tbn\n",
      "Input #1, png_pipe, from '/Volumes/GoogleDrive/My Drive/code/my28brains/results/tmp/palette.png':\n",
      "  Duration: N/A, bitrate: N/A\n",
      "  Stream #1:0: Video: png, rgba(pc), 16x16 [SAR 1:1 DAR 1:1], 25 fps, 25 tbr, 25 tbn\n",
      "Stream mapping:\n",
      "  Stream #0:0 (png) -> paletteuse\n",
      "  Stream #1:0 (png) -> paletteuse\n",
      "  paletteuse:default -> Stream #0:0 (gif)\n",
      "Press [q] to stop, [?] for help\n",
      "[image2 @ 0x7fa333f05980] Thread message queue blocking; consider raising the thread_queue_size option (current value: 8)\n",
      "Output #0, gif, to '/Volumes/GoogleDrive/My Drive/code/my28brains/results/anims/prog_by_cycle_day_framerate2.gif':\n",
      "  Metadata:\n",
      "    encoder         : Lavf59.16.100\n",
      "  Stream #0:0: Video: gif, pal8(pc, gbr/unknown/unknown, progressive), 900x300, q=2-31, 200 kb/s, 2 fps, 100 tbn\n",
      "    Metadata:\n",
      "      encoder         : Lavc59.18.100 gif\n",
      "frame=   29 fps= 13 q=-0.0 Lsize=      16kB time=00:00:14.01 bitrate=   9.2kbits/s speed=6.21x    \n",
      "video:16kB audio:0kB subtitle:0kB other streams:0kB global headers:0kB muxing overhead: 0.124100%\n",
      "ffmpeg version 5.0.1 Copyright (c) 2000-2022 the FFmpeg developers\n",
      "  built with Apple clang version 13.0.0 (clang-1300.0.29.30)\n",
      "  configuration: --prefix=/usr/local/Cellar/ffmpeg/5.0.1_2 --enable-shared --enable-pthreads --enable-version3 --cc=clang --host-cflags= --host-ldflags= --enable-ffplay --enable-gnutls --enable-gpl --enable-libaom --enable-libbluray --enable-libdav1d --enable-libmp3lame --enable-libopus --enable-librav1e --enable-librist --enable-librubberband --enable-libsnappy --enable-libsrt --enable-libtesseract --enable-libtheora --enable-libvidstab --enable-libvmaf --enable-libvorbis --enable-libvpx --enable-libwebp --enable-libx264 --enable-libx265 --enable-libxml2 --enable-libxvid --enable-lzma --enable-libfontconfig --enable-libfreetype --enable-frei0r --enable-libass --enable-libopencore-amrnb --enable-libopencore-amrwb --enable-libopenjpeg --enable-libspeex --enable-libsoxr --enable-libzmq --enable-libzimg --disable-libjack --disable-indev=jack --enable-videotoolbox\n",
      "  libavutil      57. 17.100 / 57. 17.100\n",
      "  libavcodec     59. 18.100 / 59. 18.100\n",
      "  libavformat    59. 16.100 / 59. 16.100\n",
      "  libavdevice    59.  4.100 / 59.  4.100\n",
      "  libavfilter     8. 24.100 /  8. 24.100\n",
      "  libswscale      6.  4.100 /  6.  4.100\n",
      "  libswresample   4.  3.100 /  4.  3.100\n",
      "  libpostproc    56.  3.100 / 56.  3.100\n",
      "Input #0, image2, from '/Volumes/GoogleDrive/My Drive/code/my28brains/results/tmp/hormones_day_*.png':\n",
      "  Duration: 00:00:14.50, start: 0.000000, bitrate: N/A\n",
      "  Stream #0:0: Video: png, rgba(pc), 900x300, 2 fps, 2 tbr, 2 tbn\n",
      "Stream mapping:\n",
      "  Stream #0:0 -> #0:0 (png (native) -> h264 (libx264))\n",
      "Press [q] to stop, [?] for help\n",
      "[libx264 @ 0x7fcc06d060c0] using cpu capabilities: MMX2 SSE2Fast SSSE3 SSE4.2 AVX FMA3 BMI2 AVX2\n",
      "[libx264 @ 0x7fcc06d060c0] profile High, level 2.2, 4:2:0, 8-bit\n",
      "[libx264 @ 0x7fcc06d060c0] 264 - core 164 r3095 baee400 - H.264/MPEG-4 AVC codec - Copyleft 2003-2022 - http://www.videolan.org/x264.html - options: cabac=1 ref=3 deblock=1:0:0 analyse=0x3:0x113 me=hex subme=7 psy=1 psy_rd=1.00:0.00 mixed_ref=1 me_range=16 chroma_me=1 trellis=1 8x8dct=1 cqm=0 deadzone=21,11 fast_pskip=1 chroma_qp_offset=-2 threads=9 lookahead_threads=1 sliced_threads=0 nr=0 decimate=1 interlaced=0 bluray_compat=0 constrained_intra=0 bframes=3 b_pyramid=2 b_adapt=1 b_bias=0 direct=1 weightb=1 open_gop=0 weightp=2 keyint=250 keyint_min=2 scenecut=40 intra_refresh=0 rc_lookahead=40 rc=crf mbtree=1 crf=23.0 qcomp=0.60 qpmin=0 qpmax=69 qpstep=4 ip_ratio=1.40 aq=1:1.00\n",
      "Output #0, mov, to '/Volumes/GoogleDrive/My Drive/code/my28brains/results/anims/prog_by_cycle_day_framerate2.mov':\n",
      "  Metadata:\n",
      "    encoder         : Lavf59.16.100\n",
      "  Stream #0:0: Video: h264 (avc1 / 0x31637661), yuv420p(tv, progressive), 900x300, q=2-31, 2 fps, 16384 tbn\n",
      "    Metadata:\n",
      "      encoder         : Lavc59.18.100 libx264\n",
      "    Side data:\n",
      "      cpb: bitrate max/min/avg: 0/0/0 buffer size: 0 vbv_delay: N/A\n",
      "frame=   29 fps=0.0 q=-1.0 Lsize=      18kB time=00:00:13.00 bitrate=  11.4kbits/s speed=82.6x    \n",
      "video:17kB audio:0kB subtitle:0kB other streams:0kB global headers:0kB muxing overhead: 6.629707%\n",
      "[libx264 @ 0x7fcc06d060c0] frame I:1     Avg QP: 2.06  size:  8335\n",
      "[libx264 @ 0x7fcc06d060c0] frame P:10    Avg QP:10.49  size:   649\n",
      "[libx264 @ 0x7fcc06d060c0] frame B:18    Avg QP:12.18  size:   100\n",
      "[libx264 @ 0x7fcc06d060c0] consecutive B-frames: 17.2%  0.0%  0.0% 82.8%\n",
      "[libx264 @ 0x7fcc06d060c0] mb I  I16..4: 91.5%  0.1%  8.4%\n",
      "[libx264 @ 0x7fcc06d060c0] mb P  I16..4:  0.2%  0.1%  0.5%  P16..4:  0.8%  0.3%  0.2%  0.0%  0.0%    skip:98.0%\n",
      "[libx264 @ 0x7fcc06d060c0] mb B  I16..4:  0.0%  0.0%  0.0%  B16..8:  0.9%  0.1%  0.0%  direct: 0.1%  skip:98.9%  L0:44.8% L1:54.5% BI: 0.7%\n",
      "[libx264 @ 0x7fcc06d060c0] 8x8 transform intra:0.6% inter:6.2%\n",
      "[libx264 @ 0x7fcc06d060c0] coded y,uvDC,uvAC intra: 7.6% 14.3% 14.1% inter: 0.2% 0.3% 0.3%\n",
      "[libx264 @ 0x7fcc06d060c0] i16 v,h,dc,p: 81% 13%  6%  0%\n",
      "[libx264 @ 0x7fcc06d060c0] i8 v,h,dc,ddl,ddr,vr,hd,vl,hu:  0% 11% 89%  0%  0%  0%  0%  0%  0%\n",
      "[libx264 @ 0x7fcc06d060c0] i4 v,h,dc,ddl,ddr,vr,hd,vl,hu: 22% 26% 33%  3%  4%  3%  4%  2%  4%\n",
      "[libx264 @ 0x7fcc06d060c0] i8c dc,h,v,p: 82% 15%  3%  1%\n",
      "[libx264 @ 0x7fcc06d060c0] Weighted P-Frames: Y:0.0% UV:0.0%\n",
      "[libx264 @ 0x7fcc06d060c0] ref P L0: 85.7%  3.4%  5.6%  5.3%\n",
      "[libx264 @ 0x7fcc06d060c0] ref B L0: 87.0%  5.3%  7.7%\n",
      "[libx264 @ 0x7fcc06d060c0] ref B L1: 98.0%  2.0%\n",
      "[libx264 @ 0x7fcc06d060c0] kb/s:9.17\n"
     ]
    },
    {
     "data": {
      "text/plain": [
       "0"
      ]
     },
     "execution_count": 11,
     "metadata": {},
     "output_type": "execute_result"
    }
   ],
   "source": [
    "# Create GIF\n",
    "cmd_gif = (\n",
    "    f\"ffmpeg -y -framerate {framerate} \"\n",
    "    f\"-pattern_type glob -i '{input_pattern}' -i '{palette_path}' -filter_complex \\\"paletteuse\\\" '{output_gif}'\"\n",
    ")\n",
    "os.system(cmd_gif)\n",
    "\n",
    "# Create MOV\n",
    "cmd_mov = (\n",
    "    f\"ffmpeg -y -framerate {framerate} \"\n",
    "    f\"-pattern_type glob -i '{input_pattern}' -c:v libx264 -pix_fmt yuv420p -crf 23 '{output_mov}'\"\n",
    ")\n",
    "os.system(cmd_mov)"
   ]
  },
  {
   "cell_type": "code",
   "execution_count": null,
   "id": "9e3b5610",
   "metadata": {},
   "outputs": [],
   "source": []
  }
 ],
 "metadata": {
  "kernelspec": {
   "display_name": "Python 3 (ipykernel)",
   "language": "python",
   "name": "python3"
  },
  "language_info": {
   "codemirror_mode": {
    "name": "ipython",
    "version": 3
   },
   "file_extension": ".py",
   "mimetype": "text/x-python",
   "name": "python",
   "nbconvert_exporter": "python",
   "pygments_lexer": "ipython3",
   "version": "3.8.16"
  }
 },
 "nbformat": 4,
 "nbformat_minor": 5
}
