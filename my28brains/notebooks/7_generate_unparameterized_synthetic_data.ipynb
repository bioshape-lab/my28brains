{
 "cells": [
  {
   "cell_type": "markdown",
   "id": "8cd4d66b-f176-4db3-8554-da21d939a198",
   "metadata": {},
   "source": [
    "# Generate UNPARAMETERIZED Synthetic Data"
   ]
  },
  {
   "cell_type": "markdown",
   "id": "80200f15-3acd-4cac-97ae-4832df8235cc",
   "metadata": {},
   "source": [
    "Here, we we will generate unparameterized synthetic mesh geodesics so that we can use them to test geodesic regression of parameterized and unparameterized surfaces."
   ]
  },
  {
   "cell_type": "code",
   "execution_count": 1,
   "id": "e62e4742-09d2-4d46-906a-b3d8f2283553",
   "metadata": {
    "tags": []
   },
   "outputs": [],
   "source": [
    "# imports\n",
    "\n",
    "import trimesh\n",
    "import os\n",
    "import sys\n",
    "import subprocess\n",
    "import torch\n",
    "import numpy as np"
   ]
  },
  {
   "cell_type": "code",
   "execution_count": 2,
   "id": "5bc36190-cd0c-4956-8b8d-c5643604a932",
   "metadata": {
    "tags": []
   },
   "outputs": [
    {
     "name": "stdout",
     "output_type": "stream",
     "text": [
      "/home/adele/code/my28brains/my28brains\n",
      "Jupyter environment detected. Enabling Open3D WebVisualizer.\n",
      "[Open3D INFO] WebRTC GUI backend enabled.\n",
      "[Open3D INFO] WebRTCWindowSystem: HTTP handshake server disabled.\n"
     ]
    }
   ],
   "source": [
    "#set directory paths\n",
    "\n",
    "gitroot_path = subprocess.check_output(\n",
    "    [\"git\", \"rev-parse\", \"--show-toplevel\"], universal_newlines=True\n",
    ")\n",
    "os.chdir(gitroot_path[:-1])\n",
    "work_dir = os.getcwd()\n",
    "h2_dir = os.path.join(work_dir, \"H2_SurfaceMatch\")\n",
    "my28brains_dir = os.path.join(work_dir, \"my28brains\")\n",
    "print(my28brains_dir)\n",
    "\n",
    "sys_dir = os.path.dirname(work_dir)\n",
    "sys.path.append(sys_dir)\n",
    "sys.path.append(h2_dir)\n",
    "sys.path.append(my28brains_dir)\n",
    "\n",
    "import H2_SurfaceMatch.H2_match  # noqa: E402\n",
    "import H2_SurfaceMatch.utils.input_output  # noqa: E402\n",
    "import H2_SurfaceMatch.utils.utils  # noqa: E402\n",
    "\n",
    "import my28brains.default_config"
   ]
  },
  {
   "cell_type": "markdown",
   "id": "d6a4eff4-018d-495d-998b-9ffbff9bc274",
   "metadata": {},
   "source": [
    "# Generate Source/Target meshes"
   ]
  },
  {
   "cell_type": "markdown",
   "id": "34443a76-9974-41cc-bed1-fb13b89dd66c",
   "metadata": {},
   "source": [
    "## 1. Pill Mesh"
   ]
  },
  {
   "cell_type": "code",
   "execution_count": 3,
   "id": "3b687c37-a657-4da7-83a9-5e8d79ecd4fe",
   "metadata": {
    "tags": []
   },
   "outputs": [],
   "source": [
    "pill = trimesh.creation.capsule(height=1.0, radius=1.0, count=None)"
   ]
  },
  {
   "cell_type": "code",
   "execution_count": 4,
   "id": "f3637e65-54e3-404f-83b7-673cae4d0f14",
   "metadata": {
    "tags": []
   },
   "outputs": [],
   "source": [
    "#pill.show()"
   ]
  },
  {
   "cell_type": "markdown",
   "id": "2feb0de0-3aa3-4560-825a-3838a6a5ff03",
   "metadata": {},
   "source": [
    "## 2 Ellipsoid Mesh"
   ]
  },
  {
   "cell_type": "code",
   "execution_count": 5,
   "id": "a29eb500-b48a-4510-9f72-7736dfcee946",
   "metadata": {
    "tags": []
   },
   "outputs": [],
   "source": [
    "sphere = trimesh.creation.uv_sphere(radius=1)\n",
    "\n",
    "# Create a scaling matrix for the semi-axes lengths\n",
    "scales = np.array([2, 2, 3])\n",
    "scale_matrix = np.diag(scales)\n",
    "\n",
    "# Apply the scaling transformation to the mesh vertices\n",
    "scaled_vertices = sphere.vertices.dot(scale_matrix)\n",
    "\n",
    "# Create a new mesh with the scaled vertices\n",
    "ellipsoid = trimesh.Trimesh(vertices=scaled_vertices, faces=sphere.faces)"
   ]
  },
  {
   "cell_type": "code",
   "execution_count": 6,
   "id": "e44302c6-4373-4102-a726-27f3353c4e4a",
   "metadata": {
    "tags": []
   },
   "outputs": [],
   "source": [
    "#ellipsoid.show()"
   ]
  },
  {
   "cell_type": "markdown",
   "id": "334478fe-2eb0-4d8c-854a-cc9439896395",
   "metadata": {},
   "source": [
    "## 3. Sphere Mesh"
   ]
  },
  {
   "cell_type": "code",
   "execution_count": 7,
   "id": "9a9edbbe-6bf0-4cc3-8902-55da4211f53c",
   "metadata": {
    "tags": []
   },
   "outputs": [],
   "source": [
    "sphere = trimesh.creation.uv_sphere(radius=1)\n",
    "\n",
    "#sphere.show()"
   ]
  },
  {
   "cell_type": "markdown",
   "id": "a84c6e10-28c7-42e8-8b6c-5c9f1ed7bf58",
   "metadata": {},
   "source": [
    "# Create UNPARAMETERIZED Geodesic between sphere and ellipsoid meshes"
   ]
  },
  {
   "cell_type": "code",
   "execution_count": 8,
   "id": "821ba7cc-e20c-4a4b-96ff-f11d61f87fe4",
   "metadata": {
    "tags": []
   },
   "outputs": [],
   "source": [
    "vertices_source = sphere.vertices\n",
    "faces_source = sphere.faces\n",
    "\n",
    "vertices_target = ellipsoid.vertices\n",
    "faces_target = ellipsoid.faces\n",
    "\n",
    "source = [vertices_source, faces_source]\n",
    "target = [vertices_target, faces_target]\n",
    "\n",
    "gpu_id =1\n",
    "\n",
    "device = torch.device(f\"cuda:{gpu_id}\" if torch.cuda.is_available() else \"cpu\")"
   ]
  },
  {
   "cell_type": "code",
   "execution_count": 9,
   "id": "b4c67c6b-3ec0-4e69-9b7a-79fa6414964e",
   "metadata": {
    "tags": []
   },
   "outputs": [
    {
     "ename": "NameError",
     "evalue": "name 'default_config' is not defined",
     "output_type": "error",
     "traceback": [
      "\u001b[0;31m---------------------------------------------------------------------------\u001b[0m",
      "\u001b[0;31mNameError\u001b[0m                                 Traceback (most recent call last)",
      "Cell \u001b[0;32mIn[9], line 4\u001b[0m\n\u001b[1;32m      1\u001b[0m geod, F0 \u001b[38;5;241m=\u001b[39m H2_SurfaceMatch\u001b[38;5;241m.\u001b[39mH2_match\u001b[38;5;241m.\u001b[39mH2MultiRes(\n\u001b[1;32m      2\u001b[0m         source\u001b[38;5;241m=\u001b[39msource,\n\u001b[1;32m      3\u001b[0m         target\u001b[38;5;241m=\u001b[39mtarget,\n\u001b[0;32m----> 4\u001b[0m         a0\u001b[38;5;241m=\u001b[39m\u001b[43mdefault_config\u001b[49m\u001b[38;5;241m.\u001b[39ma0,\n\u001b[1;32m      5\u001b[0m         a1\u001b[38;5;241m=\u001b[39mdefault_config\u001b[38;5;241m.\u001b[39ma1,\n\u001b[1;32m      6\u001b[0m         b1\u001b[38;5;241m=\u001b[39mdefault_config\u001b[38;5;241m.\u001b[39mb1,\n\u001b[1;32m      7\u001b[0m         c1\u001b[38;5;241m=\u001b[39mdefault_config\u001b[38;5;241m.\u001b[39mc1,\n\u001b[1;32m      8\u001b[0m         d1\u001b[38;5;241m=\u001b[39mdefault_config\u001b[38;5;241m.\u001b[39md1,\n\u001b[1;32m      9\u001b[0m         a2\u001b[38;5;241m=\u001b[39mdefault_config\u001b[38;5;241m.\u001b[39ma2,\n\u001b[1;32m     10\u001b[0m         resolutions\u001b[38;5;241m=\u001b[39mdefault_config\u001b[38;5;241m.\u001b[39mresolutions,\n\u001b[1;32m     11\u001b[0m         start\u001b[38;5;241m=\u001b[39m\u001b[38;5;28;01mNone\u001b[39;00m,\n\u001b[1;32m     12\u001b[0m         paramlist\u001b[38;5;241m=\u001b[39mdefault_config\u001b[38;5;241m.\u001b[39mparamlist,\n\u001b[1;32m     13\u001b[0m         device\u001b[38;5;241m=\u001b[39mdevice,\n\u001b[1;32m     14\u001b[0m     )\n",
      "\u001b[0;31mNameError\u001b[0m: name 'default_config' is not defined"
     ]
    }
   ],
   "source": [
    "geod, F0 = H2_SurfaceMatch.H2_match.H2MultiRes(\n",
    "        source=source,\n",
    "        target=target,\n",
    "        a0=default_config.a0,\n",
    "        a1=default_config.a1,\n",
    "        b1=default_config.b1,\n",
    "        c1=default_config.c1,\n",
    "        d1=default_config.d1,\n",
    "        a2=default_config.a2,\n",
    "        resolutions=default_config.resolutions,\n",
    "        start=None,\n",
    "        paramlist=default_config.paramlist,\n",
    "        device=device,\n",
    "    )"
   ]
  },
  {
   "cell_type": "code",
   "execution_count": null,
   "id": "6e0bf622-f08d-4a57-b061-e6dc6313402e",
   "metadata": {
    "tags": []
   },
   "outputs": [],
   "source": [
    "#vertices of geodesic\n",
    "print(geod.shape)\n",
    "\n",
    "#faces of each point in the gedesic\n",
    "print(F0.shape)"
   ]
  },
  {
   "cell_type": "code",
   "execution_count": 67,
   "id": "0312fdbc-8be4-4952-9b7e-3bfa77272902",
   "metadata": {
    "tags": []
   },
   "outputs": [],
   "source": [
    "mesh1 = trimesh.Trimesh(vertices= geod[0],\n",
    "                       faces=F0)\n",
    "\n",
    "mesh2 = trimesh.Trimesh(vertices= geod[1],\n",
    "                       faces=F0)\n",
    "mesh3 = trimesh.Trimesh(vertices= geod[2],\n",
    "                       faces=F0)\n",
    "mesh4 = trimesh.Trimesh(vertices= geod[3],\n",
    "                       faces=F0)\n",
    "mesh5 = trimesh.Trimesh(vertices= geod[4],\n",
    "                       faces=F0)"
   ]
  },
  {
   "cell_type": "code",
   "execution_count": 17,
   "id": "33671344-e700-4f69-8cae-26bfac8f3547",
   "metadata": {
    "tags": []
   },
   "outputs": [],
   "source": [
    "mesh1.show()"
   ]
  },
  {
   "cell_type": "code",
   "execution_count": 18,
   "id": "7ec30f04-97b9-4da2-be5c-bb42e745f9bd",
   "metadata": {
    "tags": []
   },
   "outputs": [],
   "source": [
    "#mesh2.show()"
   ]
  },
  {
   "cell_type": "code",
   "execution_count": 19,
   "id": "e6324054-acf0-4d76-9f2f-43ce67e430ac",
   "metadata": {
    "tags": []
   },
   "outputs": [],
   "source": [
    "#mesh3.show()"
   ]
  },
  {
   "cell_type": "code",
   "execution_count": 20,
   "id": "f5a612ba-6b30-48fc-8658-c5b41e0894b7",
   "metadata": {
    "tags": []
   },
   "outputs": [],
   "source": [
    "#mesh4.show()"
   ]
  },
  {
   "cell_type": "code",
   "execution_count": 21,
   "id": "0548afbf-ae43-4dbb-bde1-7e9040f3e9dd",
   "metadata": {
    "tags": []
   },
   "outputs": [],
   "source": [
    "#mesh5.show()"
   ]
  },
  {
   "cell_type": "markdown",
   "id": "9400fdeb-c6bc-4994-9833-4cf7bd3c2906",
   "metadata": {},
   "source": [
    "# Create PARAMETERIZED Geodesic between sphere and ellipsoid meshes"
   ]
  },
  {
   "cell_type": "code",
   "execution_count": null,
   "id": "94c44458-645f-4f38-ac47-f018fab8897a",
   "metadata": {},
   "outputs": [],
   "source": []
  }
 ],
 "metadata": {
  "kernelspec": {
   "display_name": "Python 3 (ipykernel)",
   "language": "python",
   "name": "python3"
  },
  "language_info": {
   "codemirror_mode": {
    "name": "ipython",
    "version": 3
   },
   "file_extension": ".py",
   "mimetype": "text/x-python",
   "name": "python",
   "nbconvert_exporter": "python",
   "pygments_lexer": "ipython3",
   "version": "3.8.16"
  }
 },
 "nbformat": 4,
 "nbformat_minor": 5
}
