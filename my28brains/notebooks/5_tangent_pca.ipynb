{
 "cells": [
  {
   "cell_type": "markdown",
   "id": "2ca1d94b-de50-4f5a-8bca-1f37e212b08e",
   "metadata": {},
   "source": [
    "# Tangent PCA"
   ]
  },
  {
   "cell_type": "markdown",
   "id": "6e3d6840-3e55-4f4c-b631-263c0cc65027",
   "metadata": {},
   "source": [
    "Note: we modeled this analysis off of the Geomstats tutorial [here](https://geomstats.github.io/notebooks/06_practical_methods__riemannian_frechet_mean_and_tangent_pca.html)."
   ]
  },
  {
   "cell_type": "markdown",
   "id": "de4e9638-38a1-422c-bfcb-285bfbfc3705",
   "metadata": {},
   "source": [
    "Here we will:\n",
    "- perform tangent PCA on the data to find the two shape changes most characteristic of the brain changes over the course of the month\n",
    "- we assume that finding two principle components will link to the two principle hormones at play during the menstrual cycle (estrogen, progesterone)\n",
    "- we will test to see what happens when we create 3 principle components\n",
    "\n",
    "Questions\n",
    "- how will we show which principle componenet corresponds to which hormone change?\n",
    "- how will we prove that these principle components are actually modeling the data well?\n",
    "- I want to create an animation that shows the brain changes and associated hormone changes. what is the best way to create this animation?"
   ]
  },
  {
   "cell_type": "code",
   "execution_count": null,
   "id": "9f911f1f-2cce-41cc-84c3-60441af48177",
   "metadata": {},
   "outputs": [],
   "source": []
  }
 ],
 "metadata": {
  "kernelspec": {
   "display_name": "Python 3 (ipykernel)",
   "language": "python",
   "name": "python3"
  },
  "language_info": {
   "codemirror_mode": {
    "name": "ipython",
    "version": 3
   },
   "file_extension": ".py",
   "mimetype": "text/x-python",
   "name": "python",
   "nbconvert_exporter": "python",
   "pygments_lexer": "ipython3",
   "version": "3.8.16"
  }
 },
 "nbformat": 4,
 "nbformat_minor": 5
}
