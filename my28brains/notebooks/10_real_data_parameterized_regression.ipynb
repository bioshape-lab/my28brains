{
 "cells": [
  {
   "cell_type": "markdown",
   "id": "b0bea5ff-0db7-499f-8a23-fad7d40860be",
   "metadata": {},
   "source": [
    "# Geodesic Regression on Parameterized Hippocampus data!"
   ]
  },
  {
   "cell_type": "markdown",
   "id": "66318bd6-db4e-453d-83ab-6ba6f7295680",
   "metadata": {},
   "source": [
    "## Step 1: get brain data to have same parameterization"
   ]
  },
  {
   "cell_type": "markdown",
   "id": "6a418fdb-e1f1-4d31-801d-6e559e924bcf",
   "metadata": {},
   "source": [
    "we will get each brain mesh to have the same parameterization by: \n",
    "- choosing the first day to be the \"template mesh\".\n",
    "- drawing a geodesic between the \"template mesh\" and all the other meshes using H2_SurfaceMatch\n",
    "- H2_SurfaceMatch will make the parameterization of the target match the parameterization of the source."
   ]
  },
  {
   "cell_type": "code",
   "execution_count": 5,
   "id": "593f769c-502d-46ca-a737-f3a8b2747b04",
   "metadata": {
    "tags": []
   },
   "outputs": [],
   "source": [
    "import glob\n",
    "import itertools\n",
    "import multiprocessing\n",
    "import os\n",
    "import subprocess\n",
    "import sys\n",
    "import time\n",
    "import warnings\n",
    "\n",
    "import numpy as np\n",
    "import torch\n",
    "import trimesh"
   ]
  },
  {
   "cell_type": "markdown",
   "id": "731564d8-d162-45e3-85c7-6e6ea595ba20",
   "metadata": {},
   "source": [
    "This will be done in main.py. You can \"activate\" the reparameterization code by going into default_config and making "
   ]
  },
  {
   "cell_type": "code",
   "execution_count": 6,
   "id": "75b54be4-b4d2-4683-b8f5-bc6f503fd570",
   "metadata": {},
   "outputs": [
    {
     "name": "stdout",
     "output_type": "stream",
     "text": [
      "Jupyter environment detected. Enabling Open3D WebVisualizer.\n",
      "[Open3D INFO] WebRTC GUI backend enabled.\n",
      "[Open3D INFO] WebRTCWindowSystem: HTTP handshake server disabled.\n"
     ]
    }
   ],
   "source": [
    "gitroot_path = subprocess.check_output(\n",
    "    [\"git\", \"rev-parse\", \"--show-toplevel\"], universal_newlines=True\n",
    ")\n",
    "os.chdir(gitroot_path[:-1])\n",
    "work_dir = os.getcwd()\n",
    "\n",
    "parameterized_meshes_dir = os.path.join(\n",
    "    os.getcwd(), \"my28brains\", \"results\", \"meshes_parameterized\"\n",
    ")\n",
    "h2_dir = os.path.join(work_dir, \"H2_SurfaceMatch\")\n",
    "                      \n",
    "sys_dir = os.path.dirname(work_dir)\n",
    "sys.path.append(sys_dir)\n",
    "sys.path.append(h2_dir)\n",
    "\n",
    "import H2_SurfaceMatch.H2_match  # noqa: E402\n",
    "import H2_SurfaceMatch.utils.input_output  # noqa: E402\n",
    "import H2_SurfaceMatch.utils.utils  # noqa: E402"
   ]
  },
  {
   "cell_type": "markdown",
   "id": "3defdad0-c7c1-469a-93fd-c0c6c8c5ea42",
   "metadata": {},
   "source": [
    "## 1.1 Load Data"
   ]
  },
  {
   "cell_type": "code",
   "execution_count": 9,
   "id": "3812612a-c216-4651-a59f-ef959d3bb985",
   "metadata": {
    "tags": []
   },
   "outputs": [
    {
     "name": "stdout",
     "output_type": "stream",
     "text": [
      "/home/adele/code/my28brains/my28brains/results/meshes_parameterized/left_structure_-1**.ply\n",
      "[]\n"
     ]
    }
   ],
   "source": [
    "hemisphere = 'left'\n",
    "structure_id = -1\n",
    "\n",
    "string_base = os.path.join(\n",
    "    parameterized_meshes_dir,\n",
    "    f\"{hemisphere}_structure_{structure_id}**.ply\",\n",
    ")\n",
    "paths = sorted(glob.glob(string_base))\n",
    "print(string_base)\n",
    "print(paths)"
   ]
  },
  {
   "cell_type": "code",
   "execution_count": null,
   "id": "7acf2226-0ceb-4b51-8041-057b23dae4d9",
   "metadata": {},
   "outputs": [],
   "source": [
    "[\n",
    "    vertices_source,\n",
    "    faces_source,\n",
    "    FunS,\n",
    "] = H2_SurfaceMatch.utils.input_output.loadData(start_path)"
   ]
  },
  {
   "cell_type": "markdown",
   "id": "f7e514a0-a612-4287-97d7-c78a6fa12c85",
   "metadata": {},
   "source": [
    "# Step 2: Take the re-parameterized mesh sequence, and perform geodesic regression on it."
   ]
  },
  {
   "cell_type": "code",
   "execution_count": null,
   "id": "53f178da-77fd-4646-b4c3-3e942fdbf899",
   "metadata": {},
   "outputs": [],
   "source": []
  }
 ],
 "metadata": {
  "kernelspec": {
   "display_name": "Python 3 (ipykernel)",
   "language": "python",
   "name": "python3"
  },
  "language_info": {
   "codemirror_mode": {
    "name": "ipython",
    "version": 3
   },
   "file_extension": ".py",
   "mimetype": "text/x-python",
   "name": "python",
   "nbconvert_exporter": "python",
   "pygments_lexer": "ipython3",
   "version": "3.8.16"
  }
 },
 "nbformat": 4,
 "nbformat_minor": 5
}
