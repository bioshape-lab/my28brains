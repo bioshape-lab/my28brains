{
 "cells": [
  {
   "cell_type": "markdown",
   "id": "b0bea5ff-0db7-499f-8a23-fad7d40860be",
   "metadata": {},
   "source": [
    "# Geodesic Regression on Parameterized Hippocampus data!"
   ]
  },
  {
   "cell_type": "markdown",
   "id": "66318bd6-db4e-453d-83ab-6ba6f7295680",
   "metadata": {},
   "source": [
    "## Step 1: get brain data to have same parameterization"
   ]
  },
  {
   "cell_type": "markdown",
   "id": "6a418fdb-e1f1-4d31-801d-6e559e924bcf",
   "metadata": {},
   "source": [
    "we will get each brain mesh to have the same parameterization by: \n",
    "- choosing the first day to be the \"template mesh\".\n",
    "- drawing a geodesic between the \"template mesh\" and all the other meshes using H2_SurfaceMatch\n",
    "- H2_SurfaceMatch will make the parameterization of the target match the parameterization of the source."
   ]
  },
  {
   "cell_type": "markdown",
   "id": "731564d8-d162-45e3-85c7-6e6ea595ba20",
   "metadata": {},
   "source": [
    "This will be done in main.py. You can \"activate\" the reparameterization code by going into default_config and making "
   ]
  },
  {
   "cell_type": "code",
   "execution_count": null,
   "id": "75b54be4-b4d2-4683-b8f5-bc6f503fd570",
   "metadata": {},
   "outputs": [],
   "source": []
  },
  {
   "cell_type": "markdown",
   "id": "f7e514a0-a612-4287-97d7-c78a6fa12c85",
   "metadata": {},
   "source": [
    "# Step 2: Take the re-parameterized mesh sequence, and perform geodesic regression on it."
   ]
  },
  {
   "cell_type": "code",
   "execution_count": null,
   "id": "53f178da-77fd-4646-b4c3-3e942fdbf899",
   "metadata": {},
   "outputs": [],
   "source": []
  }
 ],
 "metadata": {
  "kernelspec": {
   "display_name": "Python 3 (ipykernel)",
   "language": "python",
   "name": "python3"
  },
  "language_info": {
   "codemirror_mode": {
    "name": "ipython",
    "version": 3
   },
   "file_extension": ".py",
   "mimetype": "text/x-python",
   "name": "python",
   "nbconvert_exporter": "python",
   "pygments_lexer": "ipython3",
   "version": "3.8.16"
  }
 },
 "nbformat": 4,
 "nbformat_minor": 5
}
