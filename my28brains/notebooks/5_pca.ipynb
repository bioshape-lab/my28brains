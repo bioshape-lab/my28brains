{
 "cells": [
  {
   "cell_type": "markdown",
   "id": "c7042a3a-08d5-4d35-bebd-793fc53e1f5b",
   "metadata": {},
   "source": [
    "# View shape changes in PCA"
   ]
  },
  {
   "cell_type": "code",
   "execution_count": null,
   "id": "1e5757ee-0865-4aa1-95dd-2283118136be",
   "metadata": {},
   "outputs": [],
   "source": []
  },
  {
   "cell_type": "markdown",
   "id": "fe0cdd01-49d0-48a9-81ff-b3464bb72f0c",
   "metadata": {},
   "source": [
    "## Setup"
   ]
  },
  {
   "cell_type": "code",
   "execution_count": 5,
   "id": "a42d2fca-cb59-4cf1-9748-ce03671b5ea8",
   "metadata": {},
   "outputs": [
    {
     "name": "stdout",
     "output_type": "stream",
     "text": [
      "Working directory:  /Volumes/GoogleDrive/My Drive/code/my28brains\n",
      "Directory added to path:  /Volumes/GoogleDrive/My Drive/code\n"
     ]
    }
   ],
   "source": [
    "import os\n",
    "import subprocess\n",
    "\n",
    "gitroot_path = subprocess.check_output(\n",
    "    [\"git\", \"rev-parse\", \"--show-toplevel\"], universal_newlines=True\n",
    ")\n",
    "os.chdir(gitroot_path[:-1])\n",
    "print(\"Working directory: \", os.getcwd())\n",
    "\n",
    "import warnings\n",
    "\n",
    "warnings.filterwarnings(\"ignore\")\n",
    "\n",
    "import sys\n",
    "\n",
    "sys_dir = os.path.dirname(os.getcwd())\n",
    "sys.path.append(sys_dir)\n",
    "print(\"Directory added to path: \", sys_dir)"
   ]
  },
  {
   "cell_type": "markdown",
   "id": "8463fa60-d88f-4b5b-baa0-52c17f6472d3",
   "metadata": {},
   "source": [
    "## Imports"
   ]
  },
  {
   "cell_type": "code",
   "execution_count": 11,
   "id": "cd4e01ad-a047-49f5-9d7f-8c3a8e13e649",
   "metadata": {},
   "outputs": [
    {
     "name": "stdout",
     "output_type": "stream",
     "text": [
      "CENTERED_MESHES_DIR:  /Volumes/GoogleDrive/My Drive/code/my28brains/data/registered_meshes\n"
     ]
    }
   ],
   "source": [
    "import glob\n",
    "\n",
    "import numpy as np\n",
    "import trimesh\n",
    "from sklearn.decomposition import PCA\n",
    "\n",
    "\n",
    "CENTERED_MESHES_DIR = os.path.join(os.getcwd(), \"data\", \"registered_meshes\")\n",
    "print(\"CENTERED_MESHES_DIR: \", CENTERED_MESHES_DIR)"
   ]
  },
  {
   "cell_type": "markdown",
   "id": "c9d68d23-2057-4cbe-aa1d-a4c281bf729c",
   "metadata": {},
   "source": [
    "## PCA"
   ]
  },
  {
   "cell_type": "code",
   "execution_count": 7,
   "id": "d9d229ac-3fd4-4fd3-9e9a-439dd1331a5e",
   "metadata": {},
   "outputs": [
    {
     "name": "stdout",
     "output_type": "stream",
     "text": [
      "Found 27 ply files for left hemisphere and anatomical structure -1:\n",
      " ['/Volumes/GoogleDrive/My Drive/code/my28brains/data/registered_meshes/left_structure_-1_sub-01_ses-02.ply', '/Volumes/GoogleDrive/My Drive/code/my28brains/data/registered_meshes/left_structure_-1_sub-01_ses-03.ply', '/Volumes/GoogleDrive/My Drive/code/my28brains/data/registered_meshes/left_structure_-1_sub-01_ses-04.ply', '/Volumes/GoogleDrive/My Drive/code/my28brains/data/registered_meshes/left_structure_-1_sub-01_ses-05.ply', '/Volumes/GoogleDrive/My Drive/code/my28brains/data/registered_meshes/left_structure_-1_sub-01_ses-06.ply', '/Volumes/GoogleDrive/My Drive/code/my28brains/data/registered_meshes/left_structure_-1_sub-01_ses-07.ply', '/Volumes/GoogleDrive/My Drive/code/my28brains/data/registered_meshes/left_structure_-1_sub-01_ses-08.ply', '/Volumes/GoogleDrive/My Drive/code/my28brains/data/registered_meshes/left_structure_-1_sub-01_ses-09.ply', '/Volumes/GoogleDrive/My Drive/code/my28brains/data/registered_meshes/left_structure_-1_sub-01_ses-10.ply', '/Volumes/GoogleDrive/My Drive/code/my28brains/data/registered_meshes/left_structure_-1_sub-01_ses-11.ply', '/Volumes/GoogleDrive/My Drive/code/my28brains/data/registered_meshes/left_structure_-1_sub-01_ses-12.ply', '/Volumes/GoogleDrive/My Drive/code/my28brains/data/registered_meshes/left_structure_-1_sub-01_ses-14.ply', '/Volumes/GoogleDrive/My Drive/code/my28brains/data/registered_meshes/left_structure_-1_sub-01_ses-15.ply', '/Volumes/GoogleDrive/My Drive/code/my28brains/data/registered_meshes/left_structure_-1_sub-01_ses-16.ply', '/Volumes/GoogleDrive/My Drive/code/my28brains/data/registered_meshes/left_structure_-1_sub-01_ses-17.ply', '/Volumes/GoogleDrive/My Drive/code/my28brains/data/registered_meshes/left_structure_-1_sub-01_ses-18.ply', '/Volumes/GoogleDrive/My Drive/code/my28brains/data/registered_meshes/left_structure_-1_sub-01_ses-20.ply', '/Volumes/GoogleDrive/My Drive/code/my28brains/data/registered_meshes/left_structure_-1_sub-01_ses-21.ply', '/Volumes/GoogleDrive/My Drive/code/my28brains/data/registered_meshes/left_structure_-1_sub-01_ses-22.ply', '/Volumes/GoogleDrive/My Drive/code/my28brains/data/registered_meshes/left_structure_-1_sub-01_ses-23.ply', '/Volumes/GoogleDrive/My Drive/code/my28brains/data/registered_meshes/left_structure_-1_sub-01_ses-24.ply', '/Volumes/GoogleDrive/My Drive/code/my28brains/data/registered_meshes/left_structure_-1_sub-01_ses-25.ply', '/Volumes/GoogleDrive/My Drive/code/my28brains/data/registered_meshes/left_structure_-1_sub-01_ses-26.ply', '/Volumes/GoogleDrive/My Drive/code/my28brains/data/registered_meshes/left_structure_-1_sub-01_ses-27.ply', '/Volumes/GoogleDrive/My Drive/code/my28brains/data/registered_meshes/left_structure_-1_sub-01_ses-28.ply', '/Volumes/GoogleDrive/My Drive/code/my28brains/data/registered_meshes/left_structure_-1_sub-01_ses-29.ply', '/Volumes/GoogleDrive/My Drive/code/my28brains/data/registered_meshes/left_structure_-1_sub-01_ses-30.ply']\n",
      "\n"
     ]
    }
   ],
   "source": [
    "hemisphere = \"left\"\n",
    "structure_id = -1\n",
    "string_base = os.path.join(\n",
    "    CENTERED_MESHES_DIR, f\"{hemisphere}_structure_{structure_id}_sub-01_ses-**.ply\"\n",
    ")\n",
    "paths = sorted(glob.glob(string_base))\n",
    "\n",
    "print(\n",
    "    f\"Found {len(paths)} ply files for {hemisphere} hemisphere and anatomical structure {structure_id}:\\n {paths}\\n\"\n",
    ")"
   ]
  },
  {
   "cell_type": "code",
   "execution_count": 13,
   "id": "4cebec49-578d-453a-858b-63856b4172e3",
   "metadata": {},
   "outputs": [
    {
     "name": "stdout",
     "output_type": "stream",
     "text": [
      "\tLoad mesh from path: /Volumes/GoogleDrive/My Drive/code/my28brains/data/registered_meshes/left_structure_-1_sub-01_ses-02.ply\n",
      "19132\n",
      "\tLoad mesh from path: /Volumes/GoogleDrive/My Drive/code/my28brains/data/registered_meshes/left_structure_-1_sub-01_ses-03.ply\n",
      "18056\n",
      "\tLoad mesh from path: /Volumes/GoogleDrive/My Drive/code/my28brains/data/registered_meshes/left_structure_-1_sub-01_ses-04.ply\n",
      "17235\n",
      "\tLoad mesh from path: /Volumes/GoogleDrive/My Drive/code/my28brains/data/registered_meshes/left_structure_-1_sub-01_ses-05.ply\n",
      "17406\n",
      "\tLoad mesh from path: /Volumes/GoogleDrive/My Drive/code/my28brains/data/registered_meshes/left_structure_-1_sub-01_ses-06.ply\n",
      "17460\n",
      "\tLoad mesh from path: /Volumes/GoogleDrive/My Drive/code/my28brains/data/registered_meshes/left_structure_-1_sub-01_ses-07.ply\n",
      "17772\n",
      "\tLoad mesh from path: /Volumes/GoogleDrive/My Drive/code/my28brains/data/registered_meshes/left_structure_-1_sub-01_ses-08.ply\n",
      "18727\n",
      "\tLoad mesh from path: /Volumes/GoogleDrive/My Drive/code/my28brains/data/registered_meshes/left_structure_-1_sub-01_ses-09.ply\n",
      "17802\n",
      "\tLoad mesh from path: /Volumes/GoogleDrive/My Drive/code/my28brains/data/registered_meshes/left_structure_-1_sub-01_ses-10.ply\n",
      "16910\n",
      "\tLoad mesh from path: /Volumes/GoogleDrive/My Drive/code/my28brains/data/registered_meshes/left_structure_-1_sub-01_ses-11.ply\n",
      "16791\n",
      "\tLoad mesh from path: /Volumes/GoogleDrive/My Drive/code/my28brains/data/registered_meshes/left_structure_-1_sub-01_ses-12.ply\n",
      "15787\n",
      "\tLoad mesh from path: /Volumes/GoogleDrive/My Drive/code/my28brains/data/registered_meshes/left_structure_-1_sub-01_ses-14.ply\n",
      "17152\n",
      "\tLoad mesh from path: /Volumes/GoogleDrive/My Drive/code/my28brains/data/registered_meshes/left_structure_-1_sub-01_ses-15.ply\n",
      "17080\n",
      "\tLoad mesh from path: /Volumes/GoogleDrive/My Drive/code/my28brains/data/registered_meshes/left_structure_-1_sub-01_ses-16.ply\n",
      "17051\n",
      "\tLoad mesh from path: /Volumes/GoogleDrive/My Drive/code/my28brains/data/registered_meshes/left_structure_-1_sub-01_ses-17.ply\n",
      "16753\n",
      "\tLoad mesh from path: /Volumes/GoogleDrive/My Drive/code/my28brains/data/registered_meshes/left_structure_-1_sub-01_ses-18.ply\n",
      "17115\n",
      "\tLoad mesh from path: /Volumes/GoogleDrive/My Drive/code/my28brains/data/registered_meshes/left_structure_-1_sub-01_ses-20.ply\n",
      "16531\n",
      "\tLoad mesh from path: /Volumes/GoogleDrive/My Drive/code/my28brains/data/registered_meshes/left_structure_-1_sub-01_ses-21.ply\n",
      "17912\n",
      "\tLoad mesh from path: /Volumes/GoogleDrive/My Drive/code/my28brains/data/registered_meshes/left_structure_-1_sub-01_ses-22.ply\n",
      "17280\n",
      "\tLoad mesh from path: /Volumes/GoogleDrive/My Drive/code/my28brains/data/registered_meshes/left_structure_-1_sub-01_ses-23.ply\n",
      "17030\n",
      "\tLoad mesh from path: /Volumes/GoogleDrive/My Drive/code/my28brains/data/registered_meshes/left_structure_-1_sub-01_ses-24.ply\n",
      "17245\n",
      "\tLoad mesh from path: /Volumes/GoogleDrive/My Drive/code/my28brains/data/registered_meshes/left_structure_-1_sub-01_ses-25.ply\n",
      "17194\n",
      "\tLoad mesh from path: /Volumes/GoogleDrive/My Drive/code/my28brains/data/registered_meshes/left_structure_-1_sub-01_ses-26.ply\n",
      "17218\n",
      "\tLoad mesh from path: /Volumes/GoogleDrive/My Drive/code/my28brains/data/registered_meshes/left_structure_-1_sub-01_ses-27.ply\n",
      "17620\n",
      "\tLoad mesh from path: /Volumes/GoogleDrive/My Drive/code/my28brains/data/registered_meshes/left_structure_-1_sub-01_ses-28.ply\n",
      "17140\n",
      "\tLoad mesh from path: /Volumes/GoogleDrive/My Drive/code/my28brains/data/registered_meshes/left_structure_-1_sub-01_ses-29.ply\n",
      "17172\n",
      "\tLoad mesh from path: /Volumes/GoogleDrive/My Drive/code/my28brains/data/registered_meshes/left_structure_-1_sub-01_ses-30.ply\n",
      "17014\n"
     ]
    },
    {
     "ename": "ValueError",
     "evalue": "all input arrays must have the same shape",
     "output_type": "error",
     "traceback": [
      "\u001b[0;31m---------------------------------------------------------------------------\u001b[0m",
      "\u001b[0;31mValueError\u001b[0m                                Traceback (most recent call last)",
      "Cell \u001b[0;32mIn[13], line 9\u001b[0m\n\u001b[1;32m      6\u001b[0m     \u001b[38;5;28mprint\u001b[39m(\u001b[38;5;28mlen\u001b[39m(vertices))\n\u001b[1;32m      7\u001b[0m     X\u001b[38;5;241m.\u001b[39mappend(vertices\u001b[38;5;241m.\u001b[39mflatten())\n\u001b[0;32m----> 9\u001b[0m X \u001b[38;5;241m=\u001b[39m \u001b[43mnp\u001b[49m\u001b[38;5;241;43m.\u001b[39;49m\u001b[43mstack\u001b[49m\u001b[43m(\u001b[49m\u001b[43mX\u001b[49m\u001b[43m)\u001b[49m\n\u001b[1;32m     10\u001b[0m \u001b[38;5;28mprint\u001b[39m(X\u001b[38;5;241m.\u001b[39mshape)\n\u001b[1;32m     12\u001b[0m pca \u001b[38;5;241m=\u001b[39m PCA(n_components\u001b[38;5;241m=\u001b[39m\u001b[38;5;241m2\u001b[39m)\n",
      "File \u001b[0;32m<__array_function__ internals>:200\u001b[0m, in \u001b[0;36mstack\u001b[0;34m(*args, **kwargs)\u001b[0m\n",
      "File \u001b[0;32m~/opt/anaconda3/envs/my28brains/lib/python3.9/site-packages/numpy/core/shape_base.py:464\u001b[0m, in \u001b[0;36mstack\u001b[0;34m(arrays, axis, out, dtype, casting)\u001b[0m\n\u001b[1;32m    462\u001b[0m shapes \u001b[38;5;241m=\u001b[39m {arr\u001b[38;5;241m.\u001b[39mshape \u001b[38;5;28;01mfor\u001b[39;00m arr \u001b[38;5;129;01min\u001b[39;00m arrays}\n\u001b[1;32m    463\u001b[0m \u001b[38;5;28;01mif\u001b[39;00m \u001b[38;5;28mlen\u001b[39m(shapes) \u001b[38;5;241m!=\u001b[39m \u001b[38;5;241m1\u001b[39m:\n\u001b[0;32m--> 464\u001b[0m     \u001b[38;5;28;01mraise\u001b[39;00m \u001b[38;5;167;01mValueError\u001b[39;00m(\u001b[38;5;124m'\u001b[39m\u001b[38;5;124mall input arrays must have the same shape\u001b[39m\u001b[38;5;124m'\u001b[39m)\n\u001b[1;32m    466\u001b[0m result_ndim \u001b[38;5;241m=\u001b[39m arrays[\u001b[38;5;241m0\u001b[39m]\u001b[38;5;241m.\u001b[39mndim \u001b[38;5;241m+\u001b[39m \u001b[38;5;241m1\u001b[39m\n\u001b[1;32m    467\u001b[0m axis \u001b[38;5;241m=\u001b[39m normalize_axis_index(axis, result_ndim)\n",
      "\u001b[0;31mValueError\u001b[0m: all input arrays must have the same shape"
     ]
    }
   ],
   "source": [
    "X = []\n",
    "for path in paths:\n",
    "    print(f\"\\tLoad mesh from path: {path}\")\n",
    "    mesh = trimesh.load(path)\n",
    "    vertices = np.array(mesh.vertices)\n",
    "    print(len(vertices))\n",
    "    X.append(vertices.flatten())\n",
    "    \n",
    "X = np.stack(X)\n",
    "print(X.shape)\n",
    "\n",
    "pca = PCA(n_components=2)\n",
    "pca.fit(X)    "
   ]
  },
  {
   "cell_type": "markdown",
   "id": "b65b5f03-e397-475a-822a-e5cebee21beb",
   "metadata": {},
   "source": [
    "## TODO: non-rigid registration of a sphere / the base mesh with given number of vertices. use registered spheres\n",
    "\n",
    "https://trimsh.org/trimesh.registration.html"
   ]
  }
 ],
 "metadata": {
  "kernelspec": {
   "display_name": "Python 3 (ipykernel)",
   "language": "python",
   "name": "python3"
  },
  "language_info": {
   "codemirror_mode": {
    "name": "ipython",
    "version": 3
   },
   "file_extension": ".py",
   "mimetype": "text/x-python",
   "name": "python",
   "nbconvert_exporter": "python",
   "pygments_lexer": "ipython3",
   "version": "3.9.15"
  }
 },
 "nbformat": 4,
 "nbformat_minor": 5
}
